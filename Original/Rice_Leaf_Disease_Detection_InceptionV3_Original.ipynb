{
 "cells": [
  {
   "cell_type": "code",
   "execution_count": 1,
   "id": "989f8626",
   "metadata": {
    "id": "989f8626"
   },
   "outputs": [],
   "source": [
    "#Latest 02/14/2022"
   ]
  },
  {
   "cell_type": "code",
   "execution_count": 2,
   "id": "0a631b0c",
   "metadata": {
    "id": "0a631b0c"
   },
   "outputs": [],
   "source": [
    "gpu_flag = True # Used when running in local PC with GPU\n",
    "\n",
    "google_colab_flag = False # Only when used in Google Colab\n",
    "\n",
    "lambda_flag = False  #Used when running on Lambada Labs\n",
    "\n",
    "is_local = True\n"
   ]
  },
  {
   "cell_type": "code",
   "execution_count": 3,
   "id": "4b03b621",
   "metadata": {
    "colab": {
     "base_uri": "https://localhost:8080/"
    },
    "id": "4b03b621",
    "outputId": "586f20e1-2dbf-46fd-f386-746ca552dbda"
   },
   "outputs": [],
   "source": [
    "if(google_colab_flag or lambda_flag):\n",
    "    !pip install -U --pre efficientnet\n",
    "    !pip install Augmentor"
   ]
  },
  {
   "cell_type": "code",
   "execution_count": 4,
   "id": "U-wb4Lu7-sa8",
   "metadata": {
    "id": "U-wb4Lu7-sa8"
   },
   "outputs": [
    {
     "name": "stdout",
     "output_type": "stream",
     "text": [
      "INFO:tensorflow:Enabling eager execution\n",
      "INFO:tensorflow:Enabling v2 tensorshape\n",
      "INFO:tensorflow:Enabling resource variables\n",
      "INFO:tensorflow:Enabling tensor equality\n",
      "INFO:tensorflow:Enabling control flow v2\n",
      "1 Physical GPUs, 1 Logical GPUs\n"
     ]
    }
   ],
   "source": [
    "import tensorflow as tf\n",
    "\n",
    "\n",
    "\n",
    "if(gpu_flag ):\n",
    "    gpus = tf.config.experimental.list_physical_devices('GPU')\n",
    "    if gpus:\n",
    "      # Restrict TensorFlow to only allocate 3GB of memory on the first GPU\n",
    "        try:\n",
    "            tf.config.experimental.set_virtual_device_configuration(\n",
    "            gpus[0],\n",
    "            [tf.config.experimental.VirtualDeviceConfiguration(memory_limit=4500)])\n",
    "            logical_gpus = tf.config.experimental.list_logical_devices('GPU')\n",
    "            print(len(gpus), \"Physical GPUs,\", len(logical_gpus), \"Logical GPUs\")\n",
    "        except RuntimeError as e:\n",
    "        # Virtual devices must be set before GPUs have been initialized\n",
    "            print(e)"
   ]
  },
  {
   "cell_type": "code",
   "execution_count": null,
   "id": "1d85c939-d99d-4dba-8382-e107e45ea922",
   "metadata": {},
   "outputs": [],
   "source": []
  },
  {
   "cell_type": "markdown",
   "id": "c2d58fc8",
   "metadata": {
    "id": "c2d58fc8"
   },
   "source": [
    "## Import Library"
   ]
  },
  {
   "cell_type": "code",
   "execution_count": 5,
   "id": "07f43e22",
   "metadata": {
    "id": "07f43e22"
   },
   "outputs": [],
   "source": [
    "import glob\n",
    "import os\n",
    "import random\n",
    "import shutil\n",
    "import time\n",
    "from datetime import datetime\n",
    "\n",
    "import pandas as pd\n",
    "\n",
    "\n",
    "from tensorflow import keras\n",
    "\n",
    "\n",
    "\n",
    "import pathlib\n",
    "\n",
    "import numpy as np\n",
    "from tensorflow.python.keras.preprocessing.image import ImageDataGenerator\n",
    "\n",
    "from tensorflow.keras.models import Sequential\n",
    "from tensorflow.keras import models\n",
    "from tensorflow.keras import layers\n",
    "from tensorflow.keras import optimizers\n",
    "\n",
    "\n",
    "from sklearn.model_selection import StratifiedKFold\n",
    "\n",
    "\n",
    "from tensorflow.keras.regularizers import l2\n",
    "from tensorflow.keras.regularizers import l1\n",
    "from tensorflow.keras.regularizers import l1_l2\n",
    "\n",
    "import Augmentor"
   ]
  },
  {
   "cell_type": "code",
   "execution_count": 7,
   "id": "b8351d8e",
   "metadata": {
    "id": "b8351d8e"
   },
   "outputs": [],
   "source": [
    "from keras.utils.layer_utils import count_params\n",
    "\n"
   ]
  },
  {
   "cell_type": "markdown",
   "id": "84f53837",
   "metadata": {
    "id": "84f53837"
   },
   "source": [
    "## One time operation for file transfer"
   ]
  },
  {
   "cell_type": "code",
   "execution_count": null,
   "id": "0ebfa17b",
   "metadata": {
    "id": "0ebfa17b"
   },
   "outputs": [],
   "source": []
  },
  {
   "cell_type": "code",
   "execution_count": null,
   "id": "836efe92",
   "metadata": {
    "id": "836efe92"
   },
   "outputs": [],
   "source": []
  },
  {
   "cell_type": "markdown",
   "id": "e1a7a206",
   "metadata": {
    "id": "e1a7a206"
   },
   "source": [
    "## Set Operation Path (Local vs Cloud)"
   ]
  },
  {
   "cell_type": "code",
   "execution_count": 8,
   "id": "ab534a9c",
   "metadata": {
    "colab": {
     "base_uri": "https://localhost:8080/"
    },
    "id": "ab534a9c",
    "outputId": "f838a7fb-27c7-419c-aafb-56090469c235"
   },
   "outputs": [],
   "source": [
    "\n",
    "# For training in Google Colab\n",
    "if(google_colab_flag):\n",
    "    from google.colab import drive\n",
    "    drive.mount('/content/drive')\n",
    "    !ls\n",
    "    import sys\n",
    "    root_path = '/content/drive/My Drive/Colab Notebooks/' # This is the path to where in google drive the code is stored!\n",
    "    sys.path.append(root_path)\n",
    "\n",
    "# For local training\n",
    "else:\n",
    "    #root_path = os.getcwd()\n",
    "    root_path = ''"
   ]
  },
  {
   "cell_type": "markdown",
   "id": "0938de27",
   "metadata": {
    "id": "0938de27"
   },
   "source": [
    "## Set All File Path"
   ]
  },
  {
   "cell_type": "code",
   "execution_count": 9,
   "id": "117ae053",
   "metadata": {
    "colab": {
     "base_uri": "https://localhost:8080/"
    },
    "id": "117ae053",
    "outputId": "c6f17817-39f8-442c-fbe0-4139c9f284cb"
   },
   "outputs": [
    {
     "name": "stdout",
     "output_type": "stream",
     "text": [
      "Images\n",
      "Total Images:  1426\n",
      "===============================\n",
      "./Images/Train\n",
      "./Images/Validation\n",
      "./Images/Test\n",
      "1162\n",
      "125\n",
      "139\n"
     ]
    }
   ],
   "source": [
    "#Path of the Original Images\n",
    "if(google_colab_flag):\n",
    "    path = root_path + 'Original'\n",
    "else:\n",
    "    path = root_path + './Original'\n",
    "\n",
    "if(google_colab_flag):\n",
    "    folder_data= root_path + 'Images'\n",
    "else:\n",
    "    folder_data= root_path + './Images'\n",
    "\n",
    "\n",
    "#MODEL_FILENAME=root_path+\"model_cv.h5\"\n",
    "#Convert to directory type\n",
    "data_dir = pathlib.Path(folder_data)\n",
    "print(data_dir)\n",
    "\n",
    "#Verify the image count to make sure we have all the pictures\n",
    "image_count = len(list(data_dir.glob('**/*/*.jpeg')))\n",
    "print('Total Images: ' , image_count)\n",
    "print('===============================')\n",
    "\n",
    "# Path of the train folder\n",
    "TRAIN_PATH = folder_data + '/Train'\n",
    "print(TRAIN_PATH)\n",
    "\n",
    "# Path of the validation folder\n",
    "VAL_PATH = folder_data + '/Validation'\n",
    "print(VAL_PATH)\n",
    "\n",
    "\n",
    "# Path of the test folder\n",
    "TEST_PATH = folder_data + '/Test'\n",
    "print(TEST_PATH)\n",
    "\n",
    "# Defining the directory for train, validation and test images\n",
    "data_dir_train = pathlib.Path(folder_data + '/Train')\n",
    "data_dir_val = pathlib.Path(folder_data + '/Validation')\n",
    "data_dir_test = pathlib.Path(folder_data + '/Test')\n",
    "\n",
    "#Image count in each of the folders\n",
    "image_count_train = len(list(data_dir_train.glob('*/*.jpeg')))\n",
    "print(image_count_train)\n",
    "image_count_val = len(list(data_dir_val.glob('*/*.jpeg')))\n",
    "print(image_count_val)\n",
    "image_count_test = len(list(data_dir_test.glob('*/*.jpeg')))\n",
    "print(image_count_test)\n",
    "\n",
    "TRAIN_PATH_NEW = TRAIN_PATH + \"/\"\n"
   ]
  },
  {
   "cell_type": "markdown",
   "id": "7c03eef7",
   "metadata": {
    "id": "7c03eef7"
   },
   "source": [
    "### Set Parameters"
   ]
  },
  {
   "cell_type": "code",
   "execution_count": 10,
   "id": "600d1a6f",
   "metadata": {
    "id": "600d1a6f"
   },
   "outputs": [],
   "source": [
    "#List for source file names\n",
    "sourceFiles=[]\n",
    "\n",
    "#Set the class lebels from original Dataset\n",
    "classLabels= os.listdir(path)\n",
    "num_classes = len(classLabels)\n",
    "\n",
    "#For X & Y lists\n",
    "X=[]\n",
    "Y=[]\n",
    "\n",
    "#Set Image size\n",
    "batch_size = 64\n",
    "img_height = 224\n",
    "img_width = 224\n",
    "\n",
    "#Show full text in Dataframe\n",
    "#pd.set_option(\"display.max_colwidth\", None)"
   ]
  },
  {
   "cell_type": "code",
   "execution_count": 11,
   "id": "4d420032",
   "metadata": {
    "id": "4d420032"
   },
   "outputs": [],
   "source": [
    "train_datagen = ImageDataGenerator(rescale = 1/255)\n",
    "validation_datagen = ImageDataGenerator(rescale = 1/255)\n",
    "test_datagen  = ImageDataGenerator(rescale = 1/255)"
   ]
  },
  {
   "cell_type": "code",
   "execution_count": 12,
   "id": "e3d9ce81",
   "metadata": {
    "id": "e3d9ce81"
   },
   "outputs": [],
   "source": [
    "def resetParameters(bath,height,width):\n",
    "    batch_size = bath\n",
    "    img_height = height\n",
    "    img_width = width\n"
   ]
  },
  {
   "cell_type": "markdown",
   "id": "062b1b09",
   "metadata": {
    "id": "062b1b09"
   },
   "source": [
    "## File move methods"
   ]
  },
  {
   "cell_type": "code",
   "execution_count": 13,
   "id": "00629c98",
   "metadata": {
    "id": "00629c98"
   },
   "outputs": [],
   "source": [
    "def moveFiles(source, dest, splitRate): \n",
    "    global sourceFiles\n",
    "    sourceFiles=os.listdir(source)\n",
    "    if(len(sourceFiles)!=0):\n",
    "        transferFileNumbers=int(len(sourceFiles)*splitRate)\n",
    "        transferIndex=random.sample(range(0, len(sourceFiles)), transferFileNumbers)\n",
    "        for eachIndex in transferIndex:\n",
    "            shutil.move(source+str(sourceFiles[eachIndex]), dest+str(sourceFiles[eachIndex]))\n",
    "    else:\n",
    "        print(\"No file moved. Source empty!\")\n",
    "        \n",
    "def moveAllFiles(source, dest, splitRate):\n",
    "    for label in classLabels:\n",
    "        moveFiles(folder_data+'/'+source+'/'+label+'/', \n",
    "                               folder_data+'/'+dest+'/'+label+'/', \n",
    "                               splitRate)"
   ]
  },
  {
   "cell_type": "code",
   "execution_count": null,
   "id": "c2c70c5d",
   "metadata": {
    "id": "c2c70c5d"
   },
   "outputs": [],
   "source": []
  },
  {
   "cell_type": "code",
   "execution_count": null,
   "id": "ee000233",
   "metadata": {
    "id": "ee000233"
   },
   "outputs": [],
   "source": []
  },
  {
   "cell_type": "markdown",
   "id": "ed827cf6",
   "metadata": {
    "id": "ed827cf6"
   },
   "source": [
    "## Functions for Accuracy Check"
   ]
  },
  {
   "cell_type": "code",
   "execution_count": 14,
   "id": "1d3e7f91",
   "metadata": {
    "id": "1d3e7f91"
   },
   "outputs": [],
   "source": [
    "from sklearn.metrics import accuracy_score, f1_score, precision_score, confusion_matrix\n",
    "def check_Accuracy(y_true, y_pred):\n",
    "    accuracy=accuracy_score(y_true, y_pred)\n",
    "    precision=precision_score(y_true, y_pred,average='weighted')\n",
    "    f1Score=f1_score(y_true, y_pred, average='weighted') \n",
    "    print(\"Accuracy  : {}\".format(accuracy))\n",
    "    print(\"Precision : {}\".format(precision))\n",
    "    print(\"f1Score : {}\".format(f1Score))\n",
    "    cm=confusion_matrix(y_true, y_pred)\n",
    "    print(cm)\n",
    "    return accuracy, precision, f1Score"
   ]
  },
  {
   "cell_type": "code",
   "execution_count": null,
   "id": "fe922b26",
   "metadata": {
    "id": "fe922b26"
   },
   "outputs": [],
   "source": []
  },
  {
   "cell_type": "markdown",
   "id": "2f266213",
   "metadata": {
    "id": "2f266213"
   },
   "source": [
    "## Move all files to Train"
   ]
  },
  {
   "cell_type": "code",
   "execution_count": 15,
   "id": "576e5743",
   "metadata": {
    "id": "576e5743"
   },
   "outputs": [],
   "source": [
    "moveAllFiles('Test', 'Train', 1.0)\n",
    "moveAllFiles('Validation', 'Train', 1.0)\n",
    "\n",
    "if os.path.exists(folder_data + '/Temp'):\n",
    "    # delete train folder\n",
    "    shutil.rmtree(TRAIN_PATH)\n",
    "    # Copy back from temp folder\n",
    "    source = folder_data + '/Temp'\n",
    "    dest =  TRAIN_PATH\n",
    "    shutil.copytree(source,dest )\n",
    "    shutil.rmtree(source)\n"
   ]
  },
  {
   "cell_type": "markdown",
   "id": "6c8ff8fd",
   "metadata": {
    "id": "6c8ff8fd"
   },
   "source": [
    "### Saperate data for testing"
   ]
  },
  {
   "cell_type": "code",
   "execution_count": 16,
   "id": "12da0fde",
   "metadata": {
    "id": "12da0fde"
   },
   "outputs": [],
   "source": [
    "#transferAllClassBetweenFolders('train', 'test', 0.10)\n"
   ]
  },
  {
   "cell_type": "code",
   "execution_count": 17,
   "id": "93d44000",
   "metadata": {
    "id": "93d44000"
   },
   "outputs": [],
   "source": [
    "def setClassNameLabels(folderName):\n",
    "    sourceFiles=os.listdir(folder_data+'/Train/'+folderName)\n",
    "    for val in sourceFiles:\n",
    "        X.append(val)\n",
    "        for i in range(len(classLabels)):\n",
    "            if(folderName==classLabels[i]):\n",
    "                Y.append(i)"
   ]
  },
  {
   "cell_type": "markdown",
   "id": "f7e41b43",
   "metadata": {
    "id": "f7e41b43"
   },
   "source": [
    "## Set file names for splitting"
   ]
  },
  {
   "cell_type": "code",
   "execution_count": 18,
   "id": "bb2525bc",
   "metadata": {
    "id": "bb2525bc"
   },
   "outputs": [],
   "source": [
    "# Organize file names and class labels in X and Y variables\n",
    "for i in range(len(classLabels)):\n",
    "    setClassNameLabels(classLabels[i])"
   ]
  },
  {
   "cell_type": "code",
   "execution_count": 19,
   "id": "26e0e5a8",
   "metadata": {
    "colab": {
     "base_uri": "https://localhost:8080/"
    },
    "id": "26e0e5a8",
    "outputId": "5fd258b2-521d-482d-b69c-845acb89b63a"
   },
   "outputs": [
    {
     "name": "stdout",
     "output_type": "stream",
     "text": [
      "['BLB1_02ca69d3-b850-4091-af2a-bb72a07b7cd1.jpeg'\n",
      " 'BLB1_04fd04a1-3992-4e35-bcc9-713dc3ee0afd.jpeg'\n",
      " 'BLB1_09001d16-4e5f-4baf-880f-1511064e1015.jpeg' ...\n",
      " 'Stemborer2_f2961d08-7e3b-4d05-8a4d-95c4cf5cf339.jpeg'\n",
      " 'Stemborer2_f7cad769-ece7-4676-86bc-084188a9fd7c.jpeg'\n",
      " 'Stemborer2_fd90a80c-e21b-445b-b760-c382b4b5d62e.jpeg']\n",
      "[0 0 0 ... 8 8 8]\n"
     ]
    }
   ],
   "source": [
    "X=np.asarray(X)\n",
    "Y=np.asarray(Y)\n",
    "\n",
    "print(X)\n",
    "print(Y)"
   ]
  },
  {
   "cell_type": "code",
   "execution_count": null,
   "id": "33179ea0",
   "metadata": {
    "id": "33179ea0"
   },
   "outputs": [],
   "source": []
  },
  {
   "cell_type": "markdown",
   "id": "03cb8c96",
   "metadata": {
    "id": "03cb8c96"
   },
   "source": [
    "# Check later on if this is required"
   ]
  },
  {
   "cell_type": "code",
   "execution_count": 20,
   "id": "df3492d1",
   "metadata": {
    "colab": {
     "base_uri": "https://localhost:8080/"
    },
    "id": "df3492d1",
    "outputId": "cc2b1d59-94cf-4586-b912-d2e6e00e7591"
   },
   "outputs": [
    {
     "name": "stdout",
     "output_type": "stream",
     "text": [
      "Found 1426 images belonging to 9 classes.\n"
     ]
    }
   ],
   "source": [
    "trn_dataset = train_datagen.flow_from_directory(\n",
    "    data_dir_train,\n",
    "    target_size=(img_height, img_width),\n",
    "    batch_size=batch_size,\n",
    "    class_mode = 'categorical'\n",
    ")"
   ]
  },
  {
   "cell_type": "code",
   "execution_count": 21,
   "id": "d3b866b9",
   "metadata": {
    "colab": {
     "base_uri": "https://localhost:8080/"
    },
    "id": "d3b866b9",
    "outputId": "4b91b979-cab2-4813-9f43-fba2f904637a"
   },
   "outputs": [
    {
     "data": {
      "text/plain": [
       "1426"
      ]
     },
     "execution_count": 21,
     "metadata": {},
     "output_type": "execute_result"
    }
   ],
   "source": [
    "trn_dataset.samples "
   ]
  },
  {
   "cell_type": "code",
   "execution_count": 22,
   "id": "f21e23c4",
   "metadata": {
    "colab": {
     "base_uri": "https://localhost:8080/"
    },
    "id": "f21e23c4",
    "outputId": "4dfd199c-c9e9-4360-8235-d6e8e4f61d14"
   },
   "outputs": [
    {
     "name": "stdout",
     "output_type": "stream",
     "text": [
      "Found 0 images belonging to 9 classes.\n"
     ]
    }
   ],
   "source": [
    "vld_dataset = validation_datagen.flow_from_directory(\n",
    "    data_dir_val,\n",
    "    target_size=(img_height, img_width),\n",
    "    batch_size=batch_size,\n",
    "    class_mode = 'categorical'\n",
    ")"
   ]
  },
  {
   "cell_type": "code",
   "execution_count": 23,
   "id": "f6ed479c",
   "metadata": {
    "colab": {
     "base_uri": "https://localhost:8080/"
    },
    "id": "f6ed479c",
    "outputId": "6466a364-e42f-4c93-9209-83c73fda8938"
   },
   "outputs": [
    {
     "name": "stdout",
     "output_type": "stream",
     "text": [
      "Found 0 images belonging to 9 classes.\n"
     ]
    }
   ],
   "source": [
    "tst_dataset = test_datagen.flow_from_directory(\n",
    "    data_dir_test,\n",
    "    target_size=(img_height, img_width),\n",
    "    batch_size=batch_size,\n",
    "    class_mode = 'categorical'\n",
    ")"
   ]
  },
  {
   "cell_type": "code",
   "execution_count": 24,
   "id": "444248c1",
   "metadata": {
    "colab": {
     "base_uri": "https://localhost:8080/"
    },
    "id": "444248c1",
    "outputId": "4cbe3105-f861-46f5-c5e5-00cdc8418ace"
   },
   "outputs": [
    {
     "name": "stdout",
     "output_type": "stream",
     "text": [
      "['BLB', 'BPH', 'Brown_Spot', 'False_Smut', 'Healthy_Plant', 'Hispa', 'Neck_Blast', 'Sheath_Blight_Rot', 'Stemborer']\n"
     ]
    }
   ],
   "source": [
    "classes_nm =  list(trn_dataset.class_indices.keys())\n",
    "print(classes_nm)"
   ]
  },
  {
   "cell_type": "code",
   "execution_count": 25,
   "id": "54b93374",
   "metadata": {
    "colab": {
     "base_uri": "https://localhost:8080/"
    },
    "id": "54b93374",
    "outputId": "49790219-e189-4286-fd8d-ac0a8c3be5ed"
   },
   "outputs": [
    {
     "name": "stdout",
     "output_type": "stream",
     "text": [
      "['BLB', 'BPH', 'Brown_Spot', 'False_Smut', 'Healthy_Plant', 'Hispa', 'Neck_Blast', 'Sheath_Blight_Rot', 'Stemborer']\n"
     ]
    }
   ],
   "source": [
    "CLASS_NAMES =  list(trn_dataset.class_indices.keys())\n",
    "print(CLASS_NAMES)"
   ]
  },
  {
   "cell_type": "code",
   "execution_count": 26,
   "id": "35decde9",
   "metadata": {
    "colab": {
     "base_uri": "https://localhost:8080/"
    },
    "id": "35decde9",
    "outputId": "eff432a4-a56b-424b-f3d1-bbc46dde0617"
   },
   "outputs": [
    {
     "name": "stdout",
     "output_type": "stream",
     "text": [
      "[0, 1, 2, 3, 4, 5, 6, 7, 8]\n"
     ]
    }
   ],
   "source": [
    "print(list(trn_dataset.class_indices.values()))"
   ]
  },
  {
   "cell_type": "code",
   "execution_count": 27,
   "id": "46556e8a",
   "metadata": {
    "colab": {
     "base_uri": "https://localhost:8080/"
    },
    "id": "46556e8a",
    "outputId": "e0baaa91-ed48-4277-e0a9-47148f4833f3"
   },
   "outputs": [
    {
     "name": "stdout",
     "output_type": "stream",
     "text": [
      "9\n"
     ]
    }
   ],
   "source": [
    "num_classes = len(trn_dataset.class_indices)\n",
    "print(num_classes)"
   ]
  },
  {
   "cell_type": "code",
   "execution_count": null,
   "id": "54e1c2c8",
   "metadata": {
    "id": "54e1c2c8"
   },
   "outputs": [],
   "source": [
    "        "
   ]
  },
  {
   "cell_type": "code",
   "execution_count": null,
   "id": "6a2c0a5b",
   "metadata": {
    "id": "6a2c0a5b"
   },
   "outputs": [],
   "source": []
  },
  {
   "cell_type": "code",
   "execution_count": 28,
   "id": "5cc37c4e",
   "metadata": {
    "id": "5cc37c4e"
   },
   "outputs": [],
   "source": [
    "# Creating an empty Dataframe to store results\n",
    "df_report = pd.DataFrame(columns=[\n",
    "    'Model_Name',\n",
    "    'Test_No',\n",
    "    'Batch_Size', \n",
    "    'Epoch', \n",
    "    'Count',\n",
    "    'Train_Average',\n",
    "    'Val_Average',\n",
    "    'Val_Maximum',\n",
    "    'Val_Minimum',\n",
    "    'Val_StandardDev',\n",
    "    'Is_TL',\n",
    "    'Is_SVM',\n",
    "    'Is_TL_Tune',\n",
    "    'Train_History',\n",
    "    'Val_History',\n",
    "    'Train_Summary', \n",
    "    'Val_Summary', \n",
    "    'Total_params',\n",
    "    'Trainable_params',\n",
    "    'Non_trainable_params',\n",
    "    'Total_Records',\n",
    "    'Execution_Time',\n",
    "    'Precision', \n",
    "    'f1Score',\n",
    "    'No_Fold',\n",
    "    'Date_Time'\n",
    "    ], dtype=object)\n",
    "                                  "
   ]
  },
  {
   "cell_type": "markdown",
   "id": "a5139d54",
   "metadata": {
    "id": "a5139d54"
   },
   "source": [
    "## Image Agumentation funstion"
   ]
  },
  {
   "cell_type": "code",
   "execution_count": 29,
   "id": "e6e5c5f4",
   "metadata": {
    "id": "e6e5c5f4"
   },
   "outputs": [],
   "source": [
    "def count_images(imgPath):\n",
    "    data_dir = pathlib.Path(imgPath)\n",
    "    #print(data_dir)\n",
    "\n",
    "    #Verify the image count to make sure we have all the pictures\n",
    "    image_count = len(list(data_dir.glob('**/*.jpeg')))\n",
    "    #print('Total Images: ' , image_count)\n",
    "    #print('===============================')\n",
    "    \n",
    "    return image_count"
   ]
  },
  {
   "cell_type": "code",
   "execution_count": 30,
   "id": "56bea167",
   "metadata": {
    "id": "56bea167"
   },
   "outputs": [],
   "source": [
    "def img_augmentor(path_to_training_dataset_new,CLASS_NAMES, factor):\n",
    "    \n",
    "    for i in CLASS_NAMES:\n",
    "        temp_path = path_to_training_dataset_new + i\n",
    "        req_img = count_images(temp_path) * factor\n",
    "        print('\\n',req_img)\n",
    "        p = Augmentor.Pipeline(temp_path)\n",
    "        p.rotate(probability=1, max_left_rotation=15, max_right_rotation=15)\n",
    "        p.flip_left_right(probability=0.5)\n",
    "        p.flip_top_bottom(probability=0.5)\n",
    "        p.rotate90(probability=0.5)\n",
    "        p.rotate270(probability=0.5)\n",
    "        p.zoom_random(probability=0.5, percentage_area=0.8)\n",
    "        p.skew(0.4, 0.5) \n",
    "        p.random_contrast(probability=0.5,min_factor = 0.2, max_factor = 0.8)\n",
    "        p.random_distortion(probability=1, grid_width=4, grid_height=4, magnitude=8)\n",
    "        p.flip_left_right(probability=0.5)\n",
    "        \n",
    "        p.sample(req_img) ## We are adding 500 samples per class to make sure that none of the classes are sparse."
   ]
  },
  {
   "cell_type": "code",
   "execution_count": 31,
   "id": "a475e8e6",
   "metadata": {
    "id": "a475e8e6"
   },
   "outputs": [],
   "source": [
    "def move_new_images(path_to_training_dataset_new , CLASS_NAMES):\n",
    "    \n",
    "    for i in CLASS_NAMES:\n",
    "        original_path = path_to_training_dataset_new + i\n",
    "        image_count_original = count_images(original_path)\n",
    "        print('Before move - ', image_count_original)\n",
    "        temp_path = original_path +'/output'\n",
    "        image_count_temp = count_images(temp_path)\n",
    "\n",
    "        file_names = os.listdir(temp_path)\n",
    "        #print(files)\n",
    "\n",
    "        #shutil.copytree(, , dirs_exist_ok=True)\n",
    "        source_dir = temp_path\n",
    "        target_dir = original_path\n",
    "\n",
    "        for file_name in file_names:\n",
    "            shutil.move(os.path.join(source_dir, file_name), target_dir)\n",
    "\n",
    "        shutil.rmtree(source_dir)\n",
    "\n",
    "        #shutil.move(source+str(sourceFiles[eachIndex]), dest+str(sourceFiles[eachIndex]))\n",
    "        image_count_original = count_images(original_path)\n",
    "        print('After move - ', image_count_original)\n"
   ]
  },
  {
   "cell_type": "code",
   "execution_count": 32,
   "id": "8481284e",
   "metadata": {
    "id": "8481284e"
   },
   "outputs": [],
   "source": [
    "def delete_aug_data(path_to_training_dataset_new , CLASS_NAMES):\n",
    "    \n",
    "    for i in CLASS_NAMES:\n",
    "        original_path = path_to_training_dataset_new + i\n",
    "\n",
    "        temp_path = original_path +'/output'\n",
    "\n",
    "        source_dir = temp_path\n",
    "        \n",
    "        if os.path.exists(source_dir):\n",
    "            shutil.rmtree(source_dir)\n"
   ]
  },
  {
   "cell_type": "code",
   "execution_count": null,
   "id": "fb81c225",
   "metadata": {
    "id": "fb81c225"
   },
   "outputs": [],
   "source": []
  },
  {
   "cell_type": "code",
   "execution_count": null,
   "id": "d83bc8cc",
   "metadata": {
    "id": "d83bc8cc"
   },
   "outputs": [],
   "source": []
  },
  {
   "cell_type": "markdown",
   "id": "eeda2123",
   "metadata": {
    "id": "eeda2123"
   },
   "source": [
    "# ======> End of Checking"
   ]
  },
  {
   "cell_type": "markdown",
   "id": "f8afb71b",
   "metadata": {
    "id": "f8afb71b"
   },
   "source": [
    "# Main Model Bulding Functions"
   ]
  },
  {
   "cell_type": "markdown",
   "id": "4f5a131d",
   "metadata": {
    "id": "4f5a131d"
   },
   "source": [
    "## Stratified K-Fold Cross validation"
   ]
  },
  {
   "cell_type": "code",
   "execution_count": 33,
   "id": "c1584a06",
   "metadata": {
    "id": "c1584a06"
   },
   "outputs": [],
   "source": [
    "\n",
    "def runStratifiedKFold(model,conv_base, batchsize,epochsNo,nosplit, df_report , \n",
    "                       createModel, modelId ,Is_TL,Is_SVM, Is_TL_Tune , Test_No,\n",
    "                       TRAIN_PATH , TRAIN_PATH_NEW, CLASS_NAMES , image_factor ):\n",
    "    \n",
    "    \n",
    "    start_time = time.time()\n",
    "\n",
    "    print(\"Started at =\", datetime.now().strftime(\"%H:%M:%S\"))\n",
    "    MODEL_NM = model.layers[1].name.upper()\n",
    "    print('Started Model -> ',MODEL_NM)\n",
    "    \n",
    "    \n",
    "    print('#################################################################')\n",
    "    print('\\n Test run = ',Test_No)\n",
    "\n",
    "    batch_size = batchsize\n",
    "    \n",
    "    if (Is_TL_Tune):\n",
    "        Is_TL = True\n",
    "        \n",
    "        \n",
    "    #Delete the temp folder and if it exists already\n",
    "    if os.path.exists(folder_data + '/Temp'):\n",
    "        shutil.rmtree(folder_data + '/Temp')\n",
    "        \n",
    "    #Delete the output folder and if it exists already\n",
    "    delete_aug_data(TRAIN_PATH_NEW , CLASS_NAMES)\n",
    "    \n",
    "\n",
    "    trainAcclist = []\n",
    "    valAcclist = []\n",
    "    valPreclist =[]\n",
    "    valFScorelist =[]\n",
    "\n",
    "    no_split = nosplit\n",
    "\n",
    "    skf = StratifiedKFold(n_splits = no_split,random_state=42, shuffle=True)\n",
    "    skf.get_n_splits(X, Y)\n",
    "    foldNum=0\n",
    "    for train_index, val_index in skf.split(X, Y):\n",
    "        epochs = epochsNo\n",
    "        #First cut all images from validation to train (if any exists)\n",
    "        moveAllFiles('Validation', 'Train', 1.0)\n",
    "        foldNum+=1\n",
    "        print(\"\\n Results for fold\",foldNum)\n",
    "        \n",
    "        #Create Checking Folders \n",
    "        CHECK_PATH = folder_data + '/Checking'\n",
    "        MODEL_PATH = CHECK_PATH + '/' + MODEL_NM \n",
    "        MODEL_FOLDER_PATH = MODEL_PATH + '/'  + str(foldNum)\n",
    "        print('\\n Folders Created ----->')\n",
    "        for dirname in classLabels:\n",
    "            folder_path_test = MODEL_FOLDER_PATH + '/'+ dirname\n",
    "            #print(folder_path_test)\n",
    "            if not os.path.exists(MODEL_PATH):\n",
    "                os.mkdir(MODEL_PATH)\n",
    "            if not os.path.exists(MODEL_FOLDER_PATH):\n",
    "                os.mkdir(MODEL_FOLDER_PATH)\n",
    "\n",
    "\n",
    "            if os.path.exists(folder_path_test):\n",
    "                shutil.rmtree(folder_path_test)\n",
    "            if not os.path.exists(folder_path_test):\n",
    "                os.mkdir(folder_path_test)\n",
    "        #End of createing test folders\n",
    "            \n",
    "        X_train, X_val = X[train_index], X[val_index]\n",
    "        Y_train, Y_val = Y[train_index], Y[val_index]\n",
    "        # Move validation images of this fold from train folder to the validation folder\n",
    "        for eachIndex in range(len(X_val)):\n",
    "            classLabel=''\n",
    "            for i in range(len(classLabels)):\n",
    "                if(Y_val[eachIndex]==i):\n",
    "                    classLabel=classLabels[i]\n",
    "            #Then, copy the validation images to the validation folder\n",
    "            shutil.move(folder_data+'/Train/'+classLabel+'/'+X_val[eachIndex], \n",
    "                        folder_data+'/Validation/'+classLabel+'/'+X_val[eachIndex])\n",
    "            \n",
    "            #print('Validation Data copied')\n",
    "\n",
    "            \n",
    "            #Create a copy of the \n",
    "            #shutil.copy2(folder_data+'/Validation/'+classLabel+'/'+X_val[eachIndex], \n",
    "            #         MODEL_FOLDER_PATH+'/'+classLabel+'/'+X_val[eachIndex])\n",
    "            #print(MODEL_FOLDER_PATH+'/'+classLabel+'/')\n",
    "            #print('Test Data copied')\n",
    "            \n",
    "            \n",
    "        \n",
    "        #Create a backup of the Train folder\n",
    "        source = TRAIN_PATH\n",
    "        dest = folder_data + '/Temp' \n",
    "        shutil.copytree(source,dest )\n",
    "        \n",
    "        if (image_factor>1):\n",
    "            #Generate extra images\n",
    "            img_augmentor(TRAIN_PATH_NEW , CLASS_NAMES, image_factor)\n",
    "\n",
    "            #Move the new imgaes to training folders\n",
    "            move_new_images(TRAIN_PATH_NEW , CLASS_NAMES)\n",
    "            \n",
    "\n",
    "        #Start ImageClassification Model\n",
    "        train_generator = train_datagen.flow_from_directory(\n",
    "            data_dir_train,\n",
    "            target_size=(img_height, img_width),\n",
    "            batch_size=batch_size,\n",
    "            class_mode='categorical',\n",
    "            subset='training')\n",
    "        \n",
    "        print('Train data length ====== ', train_generator.samples)\n",
    "\n",
    "        validation_generator = validation_datagen.flow_from_directory(\n",
    "            data_dir_val,\n",
    "            target_size=(img_height, img_width),\n",
    "            batch_size=batch_size,\n",
    "            class_mode=None,  # only data, no labels\n",
    "            shuffle=False)   \n",
    "        \n",
    "        print('Test data length ====== ', validation_generator.samples)\n",
    "\n",
    "        #Create model at each iteration\n",
    "        if (createModel):\n",
    "            model , conv_base = getModel(modelId,False , Is_TL, Is_SVM, Is_TL_Tune)\n",
    "        print('Before Fine Tuning---->')\n",
    "        print(model.summary())\n",
    "        \n",
    "        # fit model\n",
    "        history=model.fit(train_generator, \n",
    "                            epochs=epochs)\n",
    "        \n",
    "        if (Is_TL_Tune):            #Tune the model\n",
    "            \n",
    "            conv_base.trainable = True\n",
    "           \n",
    "         \n",
    "            \n",
    "            optimiser = optimizers.Adam(learning_rate=1e-5)\n",
    "            model.compile(optimizer=optimiser, loss='categorical_crossentropy', metrics=['categorical_accuracy'])\n",
    "\n",
    "            print('After Fine Tuning---->')\n",
    "            print(model.summary())\n",
    "            \n",
    "            #epochs = epochsNo//2\n",
    "            history=model.fit(train_generator, \n",
    "                                epochs=epochs)\n",
    "\n",
    "            \n",
    "        \n",
    "        \n",
    "        \n",
    "        #showAccLoss(history,epochsNo)\n",
    "        \n",
    "        print(\"***Performance on Training data***\") \n",
    "        trainAcc = history.history['categorical_accuracy']\n",
    "        trainAcclist.append(trainAcc[-1])\n",
    "        print(\"Accuracy  : {}\".format(trainAcc[-1]))\n",
    "        print(\"======================================*\")\n",
    "\n",
    "        predictions = model.predict(validation_generator, verbose=1)\n",
    "        yPredictions = np.argmax(predictions, axis=1)\n",
    "        true_classes = validation_generator.classes\n",
    "        # evaluate validation performance\n",
    "        print(\"***Performance on Validation data***\")    \n",
    "        valAcc, valPrec, valFScore = check_Accuracy(true_classes, yPredictions)\n",
    "\n",
    "        valAcclist.append(valAcc)\n",
    "        valPreclist.append(valPrec)\n",
    "        valFScorelist.append(valFScore)\n",
    "        \n",
    "        \n",
    "        \n",
    "        #Restore the training folder ---- \n",
    "        \n",
    "        # delete train folder\n",
    "        shutil.rmtree(TRAIN_PATH)\n",
    "        # Copy back from temp folder\n",
    "        source = folder_data + '/Temp'\n",
    "        dest =  TRAIN_PATH\n",
    "        shutil.copytree(source,dest )\n",
    "        shutil.rmtree(source)\n",
    "        \n",
    "        \n",
    "    \n",
    "        \n",
    "    \n",
    "    trainAccSummary = getSummary(trainAcclist)\n",
    "    print('Train Summary=====>')\n",
    "    print(trainAccSummary)\n",
    "    \n",
    "    valAccSummary = getSummary(valAcclist)\n",
    "    print('Validation Summary=====>')\n",
    "    print(valAccSummary)\n",
    "    \n",
    "    print('End Model -> ',model.layers[1].name.upper())\n",
    "    print(\"Started at =\", datetime.now().strftime(\"%H:%M:%S\"))\n",
    "    execMinutes = (time.time() - start_time)/60\n",
    "    print(\"--- %s minutes ---\" % (execMinutes))\n",
    "    \n",
    "    trainable_count = count_params(model.trainable_weights)\n",
    "    non_trainable_count = count_params(model.non_trainable_weights)\n",
    "    \n",
    "    total_images = train_generator.samples + validation_generator.samples\n",
    "    \n",
    "    df_report = df_report.append(\n",
    "            {\n",
    "\n",
    "                'Model_Name': model.layers[1].name.upper() , \n",
    "                'Test_No': Test_No ,\n",
    "                'Batch_Size': batchsize , \n",
    "                'Epoch': epochsNo, \n",
    "                'No_Fold': nosplit, \n",
    "                'Count': valAccSummary[0],\n",
    "                'Train_Summary': trainAccSummary, \n",
    "                'Val_Summary': valAccSummary, \n",
    "                'Train_History':trainAcclist,\n",
    "                'Val_History':valAcclist,\n",
    "                'Train_Average' : trainAccSummary[1],\n",
    "                'Val_Average': valAccSummary[1],\n",
    "                'Val_Maximum': valAccSummary[7],\n",
    "                'Val_Minimum': valAccSummary[3],\n",
    "                'Val_StandardDev': valAccSummary[2],\n",
    "                'Total_params': (trainable_count+non_trainable_count),\n",
    "                'Trainable_params': trainable_count,\n",
    "                'Non_trainable_params': non_trainable_count,\n",
    "                'Total_Records': total_images,\n",
    "                'Execution_Time': execMinutes,\n",
    "                'Is_TL' : Is_TL ,\n",
    "                'Is_SVM' : Is_SVM,\n",
    "                'Is_TL_Tune' : Is_TL_Tune,\n",
    "                'Date_Time' : datetime.now()\n",
    "\n",
    "            }\n",
    "        , ignore_index=True)\n",
    "    \n",
    "    \n",
    "    return df_report\n",
    "\n",
    "    "
   ]
  },
  {
   "cell_type": "code",
   "execution_count": 34,
   "id": "3250aab2",
   "metadata": {
    "id": "3250aab2"
   },
   "outputs": [],
   "source": [
    "def getSummary(Acclist):\n",
    "    \n",
    "    print(Acclist)\n",
    "    s = pd.Series(Acclist)\n",
    "    return s.describe()\n",
    "\n",
    "    \n"
   ]
  },
  {
   "cell_type": "code",
   "execution_count": 35,
   "id": "ce81dc9d",
   "metadata": {
    "id": "ce81dc9d"
   },
   "outputs": [],
   "source": [
    "from matplotlib import pyplot as plt\n",
    "\n",
    "def showAccLoss(history,num_epochs):\n",
    "    acc = history.history['categorical_accuracy']\n",
    "    val_acc = history.history['val_categorical_accuracy']\n",
    "\n",
    "    loss = history.history['loss']\n",
    "    val_loss = history.history['val_loss']\n",
    "\n",
    "    epochs_range = range(num_epochs)\n",
    "\n",
    "    plt.figure(figsize=(8, 8))\n",
    "    plt.subplot(1, 2, 1)\n",
    "    plt.plot(epochs_range, acc, label='Training Accuracy')\n",
    "    plt.plot(epochs_range, val_acc, label='Validation Accuracy')\n",
    "    plt.legend(loc='lower right')\n",
    "    plt.title('Training and Validation Accuracy')\n",
    "\n",
    "    plt.subplot(1, 2, 2)\n",
    "    plt.plot(epochs_range, loss, label='Training Loss')\n",
    "    plt.plot(epochs_range, val_loss, label='Validation Loss')\n",
    "    plt.legend(loc='upper right')\n",
    "    plt.title('Training and Validation Loss')\n",
    "    plt.show()"
   ]
  },
  {
   "cell_type": "code",
   "execution_count": null,
   "id": "91270fec",
   "metadata": {
    "id": "91270fec"
   },
   "outputs": [],
   "source": []
  },
  {
   "cell_type": "markdown",
   "id": "5d2d9c8c",
   "metadata": {
    "id": "5d2d9c8c"
   },
   "source": [
    "## InceptionV3"
   ]
  },
  {
   "cell_type": "code",
   "execution_count": 36,
   "id": "7147495b",
   "metadata": {
    "id": "7147495b"
   },
   "outputs": [],
   "source": [
    "from tensorflow.keras.applications.inception_v3 import InceptionV3\n",
    "\n",
    "def createModel_InceptionV3(Is_TL ):\n",
    "  \n",
    "    if (Is_TL):\n",
    "        conv_base=InceptionV3(weights='imagenet',include_top=False,input_shape=(img_height,img_width,3))\n",
    "    else:\n",
    "          conv_base=InceptionV3(weights=None,include_top=False,input_shape=(img_height,img_width,3))\n",
    "      \n",
    "    print('InceptionV3')\n",
    "      #print(conv_base.summary())\n",
    "\n",
    "    return conv_base"
   ]
  },
  {
   "cell_type": "code",
   "execution_count": null,
   "id": "3509b62c",
   "metadata": {
    "id": "3509b62c"
   },
   "outputs": [],
   "source": []
  },
  {
   "cell_type": "code",
   "execution_count": null,
   "id": "944cc3f5",
   "metadata": {
    "id": "944cc3f5"
   },
   "outputs": [],
   "source": []
  },
  {
   "cell_type": "markdown",
   "id": "4176848f",
   "metadata": {
    "id": "4176848f"
   },
   "source": [
    "# Model Execution"
   ]
  },
  {
   "cell_type": "code",
   "execution_count": 37,
   "id": "d1ff606c",
   "metadata": {
    "id": "d1ff606c"
   },
   "outputs": [],
   "source": [
    "\n",
    "def getModel(modelId , printSummary , Is_TL, Is_SVM, Is_TL_Tune):\n",
    "    \n",
    "    if model_dict[modelId] == 'VGG16':\n",
    "        conv_base =  createModel_VGG16(Is_TL)\n",
    "        \n",
    "    elif model_dict[modelId] == 'VGG19':\n",
    "        conv_base =  createModel_VGG19(Is_TL)\n",
    "        \n",
    "    elif model_dict[modelId] == 'ResNet50':\n",
    "        conv_base =  createModel_ResNet50(Is_TL)\n",
    "        \n",
    "    elif model_dict[modelId] == 'ResNet50V2':\n",
    "        conv_base =  createModel_ResNet50V2(Is_TL)\n",
    "        \n",
    "    elif model_dict[modelId] == 'ResNet152V2':\n",
    "        conv_base =  createModel_ResNet152V2(Is_TL)\n",
    "        \n",
    "    elif model_dict[modelId] == 'EfficientNetB1':\n",
    "        conv_base =  createModel_EfficientNetB1()\n",
    "\n",
    "        \n",
    "    elif model_dict[modelId] == 'EfficientNetB7':\n",
    "        conv_base =  createModel_EfficientNetB7(Is_TL)\n",
    "\n",
    "        \n",
    "    elif model_dict[modelId] == 'MobileNetV2':\n",
    "        conv_base =  createModel_MobileNetV2(Is_TL)\n",
    "\n",
    "        \n",
    "    elif model_dict[modelId] == 'InceptionV3':\n",
    "        conv_base =  createModel_InceptionV3(Is_TL)\n",
    "\n",
    "        \n",
    "    elif model_dict[modelId] == 'DenseNet201':\n",
    "        conv_base =  createModel_DenseNet201(Is_TL)\n",
    "\n",
    "        \n",
    "    elif model_dict[modelId] == 'EfficientNetB6':\n",
    "        conv_base =  createModel_EfficientNetB6(Is_TL)\n",
    "\n",
    "\n",
    "        \n",
    "    if(gpu_flag or lambda_flag):\n",
    "        model =tf.keras.models.Sequential() #Required when there is GPU memory control\n",
    "    else:\n",
    "        model =Sequential()    #Required when there is NO GPU memory control\n",
    "    \n",
    "    \n",
    "    \n",
    "    \n",
    "    if (Is_TL): ## If Transfer Learning\n",
    "        conv_base.trainable = False ## Not trainable weights\n",
    "        inputs = layers.Input(shape = (img_height,img_width,3), name='inputLayer')\n",
    "        x = conv_base(inputs, training = False)\n",
    "    elif (Is_TL_Tune):\n",
    "        conv_base.trainable = False ## Not trainable weights\n",
    "        inputs = layers.Input(shape = (img_height,img_width,3), name='inputLayer')\n",
    "        x = conv_base(inputs, training = False)\n",
    "    else:\n",
    "        conv_base.trainable = True\n",
    "        inputs = layers.Input(shape = (img_height,img_width,3), name='inputLayer')\n",
    "        x = conv_base(inputs, training = True)\n",
    "        \n",
    "    \n",
    "    if model_dict[modelId] == 'VGG16':\n",
    "        \n",
    "        x = layers.Flatten()(x)  \n",
    "        x = layers.Dense(120, activation='relu')(x)  \n",
    "        x = layers.Dense(84, activation='relu')(x)  \n",
    "    \n",
    "    elif model_dict[modelId] == 'InceptionV3':\n",
    "        x = layers.GlobalAveragePooling2D()(x)\n",
    "        x = layers.Flatten()(x)  \n",
    "        x = layers.Dense(120, activation='relu')(x)  \n",
    "        x = layers.Dense(84, activation='relu')(x)\n",
    "    \n",
    "    \n",
    "    \n",
    "    \n",
    "    outputs = layers.Dense(num_classes, activation='softmax')(x)\n",
    "    \n",
    "    \n",
    "    \n",
    "    if (Is_SVM):\n",
    "        outputs = layers.Dense(num_classes, activation='softmax',kernel_regularizer = l1_l2(l1=0.01,l2=0.01))(x)\n",
    "    else:\n",
    "        outputs = layers.Dense(num_classes, activation='softmax')(x)\n",
    "    \n",
    "    model = keras.Model(inputs, outputs)\n",
    "    \n",
    "    optimiser = optimizers.Adam(learning_rate=1e-4)\n",
    "    model.compile(optimizer=optimiser, loss='categorical_crossentropy', metrics=['categorical_accuracy'])\n",
    "    \n",
    "    if (printSummary):\n",
    "        print('Before Merging ---->')\n",
    "        print(conv_base.summary())\n",
    "        \n",
    "        print('After Merging ---->')\n",
    "        print(model.summary()) \n",
    "        \n",
    "        print('^^^^^^^^^^^^^^^^^^^^^^^^^')\n",
    "    \n",
    "    \n",
    "    return model , conv_base\n"
   ]
  },
  {
   "cell_type": "code",
   "execution_count": 38,
   "id": "e98abc73",
   "metadata": {
    "colab": {
     "base_uri": "https://localhost:8080/"
    },
    "id": "e98abc73",
    "outputId": "09799ebe-4aab-426d-c5f6-4f39048364cf"
   },
   "outputs": [
    {
     "data": {
      "text/plain": [
       "True"
      ]
     },
     "execution_count": 38,
     "metadata": {},
     "output_type": "execute_result"
    }
   ],
   "source": [
    "gpu_flag"
   ]
  },
  {
   "cell_type": "code",
   "execution_count": 39,
   "id": "9bc08f28",
   "metadata": {
    "id": "9bc08f28",
    "scrolled": true
   },
   "outputs": [],
   "source": [
    "model_dict = {1: 'VGG16', \n",
    "              2: 'VGG19',\n",
    "              3: 'ResNet50',\n",
    "              4: 'ResNet50V2',\n",
    "              5: 'ResNet152V2',\n",
    "              6: 'InceptionV3',\n",
    "              7: 'MobileNetV2',\n",
    "              8: 'DenseNet201',\n",
    "              11: 'EfficientNetB1',\n",
    "              12: 'EfficientNetB6I',\n",
    "              13: 'EfficientNetB7',\n",
    "              14: 'EfficientNetB6NS'\n",
    "             }\n",
    "#for d in model_dict:\n",
    "#    model = getModel(d)\n",
    "#    df_report = runStratifiedKFold(model,24,20,10, df_report)\n",
    "# runStratifiedKFold(model, batchsize,epochsNo,nosplit, df_report )"
   ]
  },
  {
   "cell_type": "code",
   "execution_count": 40,
   "id": "c12285bb",
   "metadata": {
    "colab": {
     "base_uri": "https://localhost:8080/"
    },
    "id": "c12285bb",
    "outputId": "d354b70a-1099-43d5-866a-fda65b6f0bfa",
    "scrolled": true
   },
   "outputs": [
    {
     "name": "stdout",
     "output_type": "stream",
     "text": [
      "InceptionV3\n",
      "Before Merging ---->\n",
      "Model: \"inception_v3\"\n",
      "__________________________________________________________________________________________________\n",
      "Layer (type)                    Output Shape         Param #     Connected to                     \n",
      "==================================================================================================\n",
      "input_1 (InputLayer)            [(None, 224, 224, 3) 0                                            \n",
      "__________________________________________________________________________________________________\n",
      "conv2d (Conv2D)                 (None, 111, 111, 32) 864         input_1[0][0]                    \n",
      "__________________________________________________________________________________________________\n",
      "batch_normalization (BatchNorma (None, 111, 111, 32) 96          conv2d[0][0]                     \n",
      "__________________________________________________________________________________________________\n",
      "activation (Activation)         (None, 111, 111, 32) 0           batch_normalization[0][0]        \n",
      "__________________________________________________________________________________________________\n",
      "conv2d_1 (Conv2D)               (None, 109, 109, 32) 9216        activation[0][0]                 \n",
      "__________________________________________________________________________________________________\n",
      "batch_normalization_1 (BatchNor (None, 109, 109, 32) 96          conv2d_1[0][0]                   \n",
      "__________________________________________________________________________________________________\n",
      "activation_1 (Activation)       (None, 109, 109, 32) 0           batch_normalization_1[0][0]      \n",
      "__________________________________________________________________________________________________\n",
      "conv2d_2 (Conv2D)               (None, 109, 109, 64) 18432       activation_1[0][0]               \n",
      "__________________________________________________________________________________________________\n",
      "batch_normalization_2 (BatchNor (None, 109, 109, 64) 192         conv2d_2[0][0]                   \n",
      "__________________________________________________________________________________________________\n",
      "activation_2 (Activation)       (None, 109, 109, 64) 0           batch_normalization_2[0][0]      \n",
      "__________________________________________________________________________________________________\n",
      "max_pooling2d (MaxPooling2D)    (None, 54, 54, 64)   0           activation_2[0][0]               \n",
      "__________________________________________________________________________________________________\n",
      "conv2d_3 (Conv2D)               (None, 54, 54, 80)   5120        max_pooling2d[0][0]              \n",
      "__________________________________________________________________________________________________\n",
      "batch_normalization_3 (BatchNor (None, 54, 54, 80)   240         conv2d_3[0][0]                   \n",
      "__________________________________________________________________________________________________\n",
      "activation_3 (Activation)       (None, 54, 54, 80)   0           batch_normalization_3[0][0]      \n",
      "__________________________________________________________________________________________________\n",
      "conv2d_4 (Conv2D)               (None, 52, 52, 192)  138240      activation_3[0][0]               \n",
      "__________________________________________________________________________________________________\n",
      "batch_normalization_4 (BatchNor (None, 52, 52, 192)  576         conv2d_4[0][0]                   \n",
      "__________________________________________________________________________________________________\n",
      "activation_4 (Activation)       (None, 52, 52, 192)  0           batch_normalization_4[0][0]      \n",
      "__________________________________________________________________________________________________\n",
      "max_pooling2d_1 (MaxPooling2D)  (None, 25, 25, 192)  0           activation_4[0][0]               \n",
      "__________________________________________________________________________________________________\n",
      "conv2d_8 (Conv2D)               (None, 25, 25, 64)   12288       max_pooling2d_1[0][0]            \n",
      "__________________________________________________________________________________________________\n",
      "batch_normalization_8 (BatchNor (None, 25, 25, 64)   192         conv2d_8[0][0]                   \n",
      "__________________________________________________________________________________________________\n",
      "activation_8 (Activation)       (None, 25, 25, 64)   0           batch_normalization_8[0][0]      \n",
      "__________________________________________________________________________________________________\n",
      "conv2d_6 (Conv2D)               (None, 25, 25, 48)   9216        max_pooling2d_1[0][0]            \n",
      "__________________________________________________________________________________________________\n",
      "conv2d_9 (Conv2D)               (None, 25, 25, 96)   55296       activation_8[0][0]               \n",
      "__________________________________________________________________________________________________\n",
      "batch_normalization_6 (BatchNor (None, 25, 25, 48)   144         conv2d_6[0][0]                   \n",
      "__________________________________________________________________________________________________\n",
      "batch_normalization_9 (BatchNor (None, 25, 25, 96)   288         conv2d_9[0][0]                   \n",
      "__________________________________________________________________________________________________\n",
      "activation_6 (Activation)       (None, 25, 25, 48)   0           batch_normalization_6[0][0]      \n",
      "__________________________________________________________________________________________________\n",
      "activation_9 (Activation)       (None, 25, 25, 96)   0           batch_normalization_9[0][0]      \n",
      "__________________________________________________________________________________________________\n",
      "average_pooling2d (AveragePooli (None, 25, 25, 192)  0           max_pooling2d_1[0][0]            \n",
      "__________________________________________________________________________________________________\n",
      "conv2d_5 (Conv2D)               (None, 25, 25, 64)   12288       max_pooling2d_1[0][0]            \n",
      "__________________________________________________________________________________________________\n",
      "conv2d_7 (Conv2D)               (None, 25, 25, 64)   76800       activation_6[0][0]               \n",
      "__________________________________________________________________________________________________\n",
      "conv2d_10 (Conv2D)              (None, 25, 25, 96)   82944       activation_9[0][0]               \n",
      "__________________________________________________________________________________________________\n",
      "conv2d_11 (Conv2D)              (None, 25, 25, 32)   6144        average_pooling2d[0][0]          \n",
      "__________________________________________________________________________________________________\n",
      "batch_normalization_5 (BatchNor (None, 25, 25, 64)   192         conv2d_5[0][0]                   \n",
      "__________________________________________________________________________________________________\n",
      "batch_normalization_7 (BatchNor (None, 25, 25, 64)   192         conv2d_7[0][0]                   \n",
      "__________________________________________________________________________________________________\n",
      "batch_normalization_10 (BatchNo (None, 25, 25, 96)   288         conv2d_10[0][0]                  \n",
      "__________________________________________________________________________________________________\n",
      "batch_normalization_11 (BatchNo (None, 25, 25, 32)   96          conv2d_11[0][0]                  \n",
      "__________________________________________________________________________________________________\n",
      "activation_5 (Activation)       (None, 25, 25, 64)   0           batch_normalization_5[0][0]      \n",
      "__________________________________________________________________________________________________\n",
      "activation_7 (Activation)       (None, 25, 25, 64)   0           batch_normalization_7[0][0]      \n",
      "__________________________________________________________________________________________________\n",
      "activation_10 (Activation)      (None, 25, 25, 96)   0           batch_normalization_10[0][0]     \n",
      "__________________________________________________________________________________________________\n",
      "activation_11 (Activation)      (None, 25, 25, 32)   0           batch_normalization_11[0][0]     \n",
      "__________________________________________________________________________________________________\n",
      "mixed0 (Concatenate)            (None, 25, 25, 256)  0           activation_5[0][0]               \n",
      "                                                                 activation_7[0][0]               \n",
      "                                                                 activation_10[0][0]              \n",
      "                                                                 activation_11[0][0]              \n",
      "__________________________________________________________________________________________________\n",
      "conv2d_15 (Conv2D)              (None, 25, 25, 64)   16384       mixed0[0][0]                     \n",
      "__________________________________________________________________________________________________\n",
      "batch_normalization_15 (BatchNo (None, 25, 25, 64)   192         conv2d_15[0][0]                  \n",
      "__________________________________________________________________________________________________\n",
      "activation_15 (Activation)      (None, 25, 25, 64)   0           batch_normalization_15[0][0]     \n",
      "__________________________________________________________________________________________________\n",
      "conv2d_13 (Conv2D)              (None, 25, 25, 48)   12288       mixed0[0][0]                     \n",
      "__________________________________________________________________________________________________\n",
      "conv2d_16 (Conv2D)              (None, 25, 25, 96)   55296       activation_15[0][0]              \n",
      "__________________________________________________________________________________________________\n",
      "batch_normalization_13 (BatchNo (None, 25, 25, 48)   144         conv2d_13[0][0]                  \n",
      "__________________________________________________________________________________________________\n",
      "batch_normalization_16 (BatchNo (None, 25, 25, 96)   288         conv2d_16[0][0]                  \n",
      "__________________________________________________________________________________________________\n",
      "activation_13 (Activation)      (None, 25, 25, 48)   0           batch_normalization_13[0][0]     \n",
      "__________________________________________________________________________________________________\n",
      "activation_16 (Activation)      (None, 25, 25, 96)   0           batch_normalization_16[0][0]     \n",
      "__________________________________________________________________________________________________\n",
      "average_pooling2d_1 (AveragePoo (None, 25, 25, 256)  0           mixed0[0][0]                     \n",
      "__________________________________________________________________________________________________\n",
      "conv2d_12 (Conv2D)              (None, 25, 25, 64)   16384       mixed0[0][0]                     \n",
      "__________________________________________________________________________________________________\n",
      "conv2d_14 (Conv2D)              (None, 25, 25, 64)   76800       activation_13[0][0]              \n",
      "__________________________________________________________________________________________________\n",
      "conv2d_17 (Conv2D)              (None, 25, 25, 96)   82944       activation_16[0][0]              \n",
      "__________________________________________________________________________________________________\n",
      "conv2d_18 (Conv2D)              (None, 25, 25, 64)   16384       average_pooling2d_1[0][0]        \n",
      "__________________________________________________________________________________________________\n",
      "batch_normalization_12 (BatchNo (None, 25, 25, 64)   192         conv2d_12[0][0]                  \n",
      "__________________________________________________________________________________________________\n",
      "batch_normalization_14 (BatchNo (None, 25, 25, 64)   192         conv2d_14[0][0]                  \n",
      "__________________________________________________________________________________________________\n",
      "batch_normalization_17 (BatchNo (None, 25, 25, 96)   288         conv2d_17[0][0]                  \n",
      "__________________________________________________________________________________________________\n",
      "batch_normalization_18 (BatchNo (None, 25, 25, 64)   192         conv2d_18[0][0]                  \n",
      "__________________________________________________________________________________________________\n",
      "activation_12 (Activation)      (None, 25, 25, 64)   0           batch_normalization_12[0][0]     \n",
      "__________________________________________________________________________________________________\n",
      "activation_14 (Activation)      (None, 25, 25, 64)   0           batch_normalization_14[0][0]     \n",
      "__________________________________________________________________________________________________\n",
      "activation_17 (Activation)      (None, 25, 25, 96)   0           batch_normalization_17[0][0]     \n",
      "__________________________________________________________________________________________________\n",
      "activation_18 (Activation)      (None, 25, 25, 64)   0           batch_normalization_18[0][0]     \n",
      "__________________________________________________________________________________________________\n",
      "mixed1 (Concatenate)            (None, 25, 25, 288)  0           activation_12[0][0]              \n",
      "                                                                 activation_14[0][0]              \n",
      "                                                                 activation_17[0][0]              \n",
      "                                                                 activation_18[0][0]              \n",
      "__________________________________________________________________________________________________\n",
      "conv2d_22 (Conv2D)              (None, 25, 25, 64)   18432       mixed1[0][0]                     \n",
      "__________________________________________________________________________________________________\n",
      "batch_normalization_22 (BatchNo (None, 25, 25, 64)   192         conv2d_22[0][0]                  \n",
      "__________________________________________________________________________________________________\n",
      "activation_22 (Activation)      (None, 25, 25, 64)   0           batch_normalization_22[0][0]     \n",
      "__________________________________________________________________________________________________\n",
      "conv2d_20 (Conv2D)              (None, 25, 25, 48)   13824       mixed1[0][0]                     \n",
      "__________________________________________________________________________________________________\n",
      "conv2d_23 (Conv2D)              (None, 25, 25, 96)   55296       activation_22[0][0]              \n",
      "__________________________________________________________________________________________________\n",
      "batch_normalization_20 (BatchNo (None, 25, 25, 48)   144         conv2d_20[0][0]                  \n",
      "__________________________________________________________________________________________________\n",
      "batch_normalization_23 (BatchNo (None, 25, 25, 96)   288         conv2d_23[0][0]                  \n",
      "__________________________________________________________________________________________________\n",
      "activation_20 (Activation)      (None, 25, 25, 48)   0           batch_normalization_20[0][0]     \n",
      "__________________________________________________________________________________________________\n",
      "activation_23 (Activation)      (None, 25, 25, 96)   0           batch_normalization_23[0][0]     \n",
      "__________________________________________________________________________________________________\n",
      "average_pooling2d_2 (AveragePoo (None, 25, 25, 288)  0           mixed1[0][0]                     \n",
      "__________________________________________________________________________________________________\n",
      "conv2d_19 (Conv2D)              (None, 25, 25, 64)   18432       mixed1[0][0]                     \n",
      "__________________________________________________________________________________________________\n",
      "conv2d_21 (Conv2D)              (None, 25, 25, 64)   76800       activation_20[0][0]              \n",
      "__________________________________________________________________________________________________\n",
      "conv2d_24 (Conv2D)              (None, 25, 25, 96)   82944       activation_23[0][0]              \n",
      "__________________________________________________________________________________________________\n",
      "conv2d_25 (Conv2D)              (None, 25, 25, 64)   18432       average_pooling2d_2[0][0]        \n",
      "__________________________________________________________________________________________________\n",
      "batch_normalization_19 (BatchNo (None, 25, 25, 64)   192         conv2d_19[0][0]                  \n",
      "__________________________________________________________________________________________________\n",
      "batch_normalization_21 (BatchNo (None, 25, 25, 64)   192         conv2d_21[0][0]                  \n",
      "__________________________________________________________________________________________________\n",
      "batch_normalization_24 (BatchNo (None, 25, 25, 96)   288         conv2d_24[0][0]                  \n",
      "__________________________________________________________________________________________________\n",
      "batch_normalization_25 (BatchNo (None, 25, 25, 64)   192         conv2d_25[0][0]                  \n",
      "__________________________________________________________________________________________________\n",
      "activation_19 (Activation)      (None, 25, 25, 64)   0           batch_normalization_19[0][0]     \n",
      "__________________________________________________________________________________________________\n",
      "activation_21 (Activation)      (None, 25, 25, 64)   0           batch_normalization_21[0][0]     \n",
      "__________________________________________________________________________________________________\n",
      "activation_24 (Activation)      (None, 25, 25, 96)   0           batch_normalization_24[0][0]     \n",
      "__________________________________________________________________________________________________\n",
      "activation_25 (Activation)      (None, 25, 25, 64)   0           batch_normalization_25[0][0]     \n",
      "__________________________________________________________________________________________________\n",
      "mixed2 (Concatenate)            (None, 25, 25, 288)  0           activation_19[0][0]              \n",
      "                                                                 activation_21[0][0]              \n",
      "                                                                 activation_24[0][0]              \n",
      "                                                                 activation_25[0][0]              \n",
      "__________________________________________________________________________________________________\n",
      "conv2d_27 (Conv2D)              (None, 25, 25, 64)   18432       mixed2[0][0]                     \n",
      "__________________________________________________________________________________________________\n",
      "batch_normalization_27 (BatchNo (None, 25, 25, 64)   192         conv2d_27[0][0]                  \n",
      "__________________________________________________________________________________________________\n",
      "activation_27 (Activation)      (None, 25, 25, 64)   0           batch_normalization_27[0][0]     \n",
      "__________________________________________________________________________________________________\n",
      "conv2d_28 (Conv2D)              (None, 25, 25, 96)   55296       activation_27[0][0]              \n",
      "__________________________________________________________________________________________________\n",
      "batch_normalization_28 (BatchNo (None, 25, 25, 96)   288         conv2d_28[0][0]                  \n",
      "__________________________________________________________________________________________________\n",
      "activation_28 (Activation)      (None, 25, 25, 96)   0           batch_normalization_28[0][0]     \n",
      "__________________________________________________________________________________________________\n",
      "conv2d_26 (Conv2D)              (None, 12, 12, 384)  995328      mixed2[0][0]                     \n",
      "__________________________________________________________________________________________________\n",
      "conv2d_29 (Conv2D)              (None, 12, 12, 96)   82944       activation_28[0][0]              \n",
      "__________________________________________________________________________________________________\n",
      "batch_normalization_26 (BatchNo (None, 12, 12, 384)  1152        conv2d_26[0][0]                  \n",
      "__________________________________________________________________________________________________\n",
      "batch_normalization_29 (BatchNo (None, 12, 12, 96)   288         conv2d_29[0][0]                  \n",
      "__________________________________________________________________________________________________\n",
      "activation_26 (Activation)      (None, 12, 12, 384)  0           batch_normalization_26[0][0]     \n",
      "__________________________________________________________________________________________________\n",
      "activation_29 (Activation)      (None, 12, 12, 96)   0           batch_normalization_29[0][0]     \n",
      "__________________________________________________________________________________________________\n",
      "max_pooling2d_2 (MaxPooling2D)  (None, 12, 12, 288)  0           mixed2[0][0]                     \n",
      "__________________________________________________________________________________________________\n",
      "mixed3 (Concatenate)            (None, 12, 12, 768)  0           activation_26[0][0]              \n",
      "                                                                 activation_29[0][0]              \n",
      "                                                                 max_pooling2d_2[0][0]            \n",
      "__________________________________________________________________________________________________\n",
      "conv2d_34 (Conv2D)              (None, 12, 12, 128)  98304       mixed3[0][0]                     \n",
      "__________________________________________________________________________________________________\n",
      "batch_normalization_34 (BatchNo (None, 12, 12, 128)  384         conv2d_34[0][0]                  \n",
      "__________________________________________________________________________________________________\n",
      "activation_34 (Activation)      (None, 12, 12, 128)  0           batch_normalization_34[0][0]     \n",
      "__________________________________________________________________________________________________\n",
      "conv2d_35 (Conv2D)              (None, 12, 12, 128)  114688      activation_34[0][0]              \n",
      "__________________________________________________________________________________________________\n",
      "batch_normalization_35 (BatchNo (None, 12, 12, 128)  384         conv2d_35[0][0]                  \n",
      "__________________________________________________________________________________________________\n",
      "activation_35 (Activation)      (None, 12, 12, 128)  0           batch_normalization_35[0][0]     \n",
      "__________________________________________________________________________________________________\n",
      "conv2d_31 (Conv2D)              (None, 12, 12, 128)  98304       mixed3[0][0]                     \n",
      "__________________________________________________________________________________________________\n",
      "conv2d_36 (Conv2D)              (None, 12, 12, 128)  114688      activation_35[0][0]              \n",
      "__________________________________________________________________________________________________\n",
      "batch_normalization_31 (BatchNo (None, 12, 12, 128)  384         conv2d_31[0][0]                  \n",
      "__________________________________________________________________________________________________\n",
      "batch_normalization_36 (BatchNo (None, 12, 12, 128)  384         conv2d_36[0][0]                  \n",
      "__________________________________________________________________________________________________\n",
      "activation_31 (Activation)      (None, 12, 12, 128)  0           batch_normalization_31[0][0]     \n",
      "__________________________________________________________________________________________________\n",
      "activation_36 (Activation)      (None, 12, 12, 128)  0           batch_normalization_36[0][0]     \n",
      "__________________________________________________________________________________________________\n",
      "conv2d_32 (Conv2D)              (None, 12, 12, 128)  114688      activation_31[0][0]              \n",
      "__________________________________________________________________________________________________\n",
      "conv2d_37 (Conv2D)              (None, 12, 12, 128)  114688      activation_36[0][0]              \n",
      "__________________________________________________________________________________________________\n",
      "batch_normalization_32 (BatchNo (None, 12, 12, 128)  384         conv2d_32[0][0]                  \n",
      "__________________________________________________________________________________________________\n",
      "batch_normalization_37 (BatchNo (None, 12, 12, 128)  384         conv2d_37[0][0]                  \n",
      "__________________________________________________________________________________________________\n",
      "activation_32 (Activation)      (None, 12, 12, 128)  0           batch_normalization_32[0][0]     \n",
      "__________________________________________________________________________________________________\n",
      "activation_37 (Activation)      (None, 12, 12, 128)  0           batch_normalization_37[0][0]     \n",
      "__________________________________________________________________________________________________\n",
      "average_pooling2d_3 (AveragePoo (None, 12, 12, 768)  0           mixed3[0][0]                     \n",
      "__________________________________________________________________________________________________\n",
      "conv2d_30 (Conv2D)              (None, 12, 12, 192)  147456      mixed3[0][0]                     \n",
      "__________________________________________________________________________________________________\n",
      "conv2d_33 (Conv2D)              (None, 12, 12, 192)  172032      activation_32[0][0]              \n",
      "__________________________________________________________________________________________________\n",
      "conv2d_38 (Conv2D)              (None, 12, 12, 192)  172032      activation_37[0][0]              \n",
      "__________________________________________________________________________________________________\n",
      "conv2d_39 (Conv2D)              (None, 12, 12, 192)  147456      average_pooling2d_3[0][0]        \n",
      "__________________________________________________________________________________________________\n",
      "batch_normalization_30 (BatchNo (None, 12, 12, 192)  576         conv2d_30[0][0]                  \n",
      "__________________________________________________________________________________________________\n",
      "batch_normalization_33 (BatchNo (None, 12, 12, 192)  576         conv2d_33[0][0]                  \n",
      "__________________________________________________________________________________________________\n",
      "batch_normalization_38 (BatchNo (None, 12, 12, 192)  576         conv2d_38[0][0]                  \n",
      "__________________________________________________________________________________________________\n",
      "batch_normalization_39 (BatchNo (None, 12, 12, 192)  576         conv2d_39[0][0]                  \n",
      "__________________________________________________________________________________________________\n",
      "activation_30 (Activation)      (None, 12, 12, 192)  0           batch_normalization_30[0][0]     \n",
      "__________________________________________________________________________________________________\n",
      "activation_33 (Activation)      (None, 12, 12, 192)  0           batch_normalization_33[0][0]     \n",
      "__________________________________________________________________________________________________\n",
      "activation_38 (Activation)      (None, 12, 12, 192)  0           batch_normalization_38[0][0]     \n",
      "__________________________________________________________________________________________________\n",
      "activation_39 (Activation)      (None, 12, 12, 192)  0           batch_normalization_39[0][0]     \n",
      "__________________________________________________________________________________________________\n",
      "mixed4 (Concatenate)            (None, 12, 12, 768)  0           activation_30[0][0]              \n",
      "                                                                 activation_33[0][0]              \n",
      "                                                                 activation_38[0][0]              \n",
      "                                                                 activation_39[0][0]              \n",
      "__________________________________________________________________________________________________\n",
      "conv2d_44 (Conv2D)              (None, 12, 12, 160)  122880      mixed4[0][0]                     \n",
      "__________________________________________________________________________________________________\n",
      "batch_normalization_44 (BatchNo (None, 12, 12, 160)  480         conv2d_44[0][0]                  \n",
      "__________________________________________________________________________________________________\n",
      "activation_44 (Activation)      (None, 12, 12, 160)  0           batch_normalization_44[0][0]     \n",
      "__________________________________________________________________________________________________\n",
      "conv2d_45 (Conv2D)              (None, 12, 12, 160)  179200      activation_44[0][0]              \n",
      "__________________________________________________________________________________________________\n",
      "batch_normalization_45 (BatchNo (None, 12, 12, 160)  480         conv2d_45[0][0]                  \n",
      "__________________________________________________________________________________________________\n",
      "activation_45 (Activation)      (None, 12, 12, 160)  0           batch_normalization_45[0][0]     \n",
      "__________________________________________________________________________________________________\n",
      "conv2d_41 (Conv2D)              (None, 12, 12, 160)  122880      mixed4[0][0]                     \n",
      "__________________________________________________________________________________________________\n",
      "conv2d_46 (Conv2D)              (None, 12, 12, 160)  179200      activation_45[0][0]              \n",
      "__________________________________________________________________________________________________\n",
      "batch_normalization_41 (BatchNo (None, 12, 12, 160)  480         conv2d_41[0][0]                  \n",
      "__________________________________________________________________________________________________\n",
      "batch_normalization_46 (BatchNo (None, 12, 12, 160)  480         conv2d_46[0][0]                  \n",
      "__________________________________________________________________________________________________\n",
      "activation_41 (Activation)      (None, 12, 12, 160)  0           batch_normalization_41[0][0]     \n",
      "__________________________________________________________________________________________________\n",
      "activation_46 (Activation)      (None, 12, 12, 160)  0           batch_normalization_46[0][0]     \n",
      "__________________________________________________________________________________________________\n",
      "conv2d_42 (Conv2D)              (None, 12, 12, 160)  179200      activation_41[0][0]              \n",
      "__________________________________________________________________________________________________\n",
      "conv2d_47 (Conv2D)              (None, 12, 12, 160)  179200      activation_46[0][0]              \n",
      "__________________________________________________________________________________________________\n",
      "batch_normalization_42 (BatchNo (None, 12, 12, 160)  480         conv2d_42[0][0]                  \n",
      "__________________________________________________________________________________________________\n",
      "batch_normalization_47 (BatchNo (None, 12, 12, 160)  480         conv2d_47[0][0]                  \n",
      "__________________________________________________________________________________________________\n",
      "activation_42 (Activation)      (None, 12, 12, 160)  0           batch_normalization_42[0][0]     \n",
      "__________________________________________________________________________________________________\n",
      "activation_47 (Activation)      (None, 12, 12, 160)  0           batch_normalization_47[0][0]     \n",
      "__________________________________________________________________________________________________\n",
      "average_pooling2d_4 (AveragePoo (None, 12, 12, 768)  0           mixed4[0][0]                     \n",
      "__________________________________________________________________________________________________\n",
      "conv2d_40 (Conv2D)              (None, 12, 12, 192)  147456      mixed4[0][0]                     \n",
      "__________________________________________________________________________________________________\n",
      "conv2d_43 (Conv2D)              (None, 12, 12, 192)  215040      activation_42[0][0]              \n",
      "__________________________________________________________________________________________________\n",
      "conv2d_48 (Conv2D)              (None, 12, 12, 192)  215040      activation_47[0][0]              \n",
      "__________________________________________________________________________________________________\n",
      "conv2d_49 (Conv2D)              (None, 12, 12, 192)  147456      average_pooling2d_4[0][0]        \n",
      "__________________________________________________________________________________________________\n",
      "batch_normalization_40 (BatchNo (None, 12, 12, 192)  576         conv2d_40[0][0]                  \n",
      "__________________________________________________________________________________________________\n",
      "batch_normalization_43 (BatchNo (None, 12, 12, 192)  576         conv2d_43[0][0]                  \n",
      "__________________________________________________________________________________________________\n",
      "batch_normalization_48 (BatchNo (None, 12, 12, 192)  576         conv2d_48[0][0]                  \n",
      "__________________________________________________________________________________________________\n",
      "batch_normalization_49 (BatchNo (None, 12, 12, 192)  576         conv2d_49[0][0]                  \n",
      "__________________________________________________________________________________________________\n",
      "activation_40 (Activation)      (None, 12, 12, 192)  0           batch_normalization_40[0][0]     \n",
      "__________________________________________________________________________________________________\n",
      "activation_43 (Activation)      (None, 12, 12, 192)  0           batch_normalization_43[0][0]     \n",
      "__________________________________________________________________________________________________\n",
      "activation_48 (Activation)      (None, 12, 12, 192)  0           batch_normalization_48[0][0]     \n",
      "__________________________________________________________________________________________________\n",
      "activation_49 (Activation)      (None, 12, 12, 192)  0           batch_normalization_49[0][0]     \n",
      "__________________________________________________________________________________________________\n",
      "mixed5 (Concatenate)            (None, 12, 12, 768)  0           activation_40[0][0]              \n",
      "                                                                 activation_43[0][0]              \n",
      "                                                                 activation_48[0][0]              \n",
      "                                                                 activation_49[0][0]              \n",
      "__________________________________________________________________________________________________\n",
      "conv2d_54 (Conv2D)              (None, 12, 12, 160)  122880      mixed5[0][0]                     \n",
      "__________________________________________________________________________________________________\n",
      "batch_normalization_54 (BatchNo (None, 12, 12, 160)  480         conv2d_54[0][0]                  \n",
      "__________________________________________________________________________________________________\n",
      "activation_54 (Activation)      (None, 12, 12, 160)  0           batch_normalization_54[0][0]     \n",
      "__________________________________________________________________________________________________\n",
      "conv2d_55 (Conv2D)              (None, 12, 12, 160)  179200      activation_54[0][0]              \n",
      "__________________________________________________________________________________________________\n",
      "batch_normalization_55 (BatchNo (None, 12, 12, 160)  480         conv2d_55[0][0]                  \n",
      "__________________________________________________________________________________________________\n",
      "activation_55 (Activation)      (None, 12, 12, 160)  0           batch_normalization_55[0][0]     \n",
      "__________________________________________________________________________________________________\n",
      "conv2d_51 (Conv2D)              (None, 12, 12, 160)  122880      mixed5[0][0]                     \n",
      "__________________________________________________________________________________________________\n",
      "conv2d_56 (Conv2D)              (None, 12, 12, 160)  179200      activation_55[0][0]              \n",
      "__________________________________________________________________________________________________\n",
      "batch_normalization_51 (BatchNo (None, 12, 12, 160)  480         conv2d_51[0][0]                  \n",
      "__________________________________________________________________________________________________\n",
      "batch_normalization_56 (BatchNo (None, 12, 12, 160)  480         conv2d_56[0][0]                  \n",
      "__________________________________________________________________________________________________\n",
      "activation_51 (Activation)      (None, 12, 12, 160)  0           batch_normalization_51[0][0]     \n",
      "__________________________________________________________________________________________________\n",
      "activation_56 (Activation)      (None, 12, 12, 160)  0           batch_normalization_56[0][0]     \n",
      "__________________________________________________________________________________________________\n",
      "conv2d_52 (Conv2D)              (None, 12, 12, 160)  179200      activation_51[0][0]              \n",
      "__________________________________________________________________________________________________\n",
      "conv2d_57 (Conv2D)              (None, 12, 12, 160)  179200      activation_56[0][0]              \n",
      "__________________________________________________________________________________________________\n",
      "batch_normalization_52 (BatchNo (None, 12, 12, 160)  480         conv2d_52[0][0]                  \n",
      "__________________________________________________________________________________________________\n",
      "batch_normalization_57 (BatchNo (None, 12, 12, 160)  480         conv2d_57[0][0]                  \n",
      "__________________________________________________________________________________________________\n",
      "activation_52 (Activation)      (None, 12, 12, 160)  0           batch_normalization_52[0][0]     \n",
      "__________________________________________________________________________________________________\n",
      "activation_57 (Activation)      (None, 12, 12, 160)  0           batch_normalization_57[0][0]     \n",
      "__________________________________________________________________________________________________\n",
      "average_pooling2d_5 (AveragePoo (None, 12, 12, 768)  0           mixed5[0][0]                     \n",
      "__________________________________________________________________________________________________\n",
      "conv2d_50 (Conv2D)              (None, 12, 12, 192)  147456      mixed5[0][0]                     \n",
      "__________________________________________________________________________________________________\n",
      "conv2d_53 (Conv2D)              (None, 12, 12, 192)  215040      activation_52[0][0]              \n",
      "__________________________________________________________________________________________________\n",
      "conv2d_58 (Conv2D)              (None, 12, 12, 192)  215040      activation_57[0][0]              \n",
      "__________________________________________________________________________________________________\n",
      "conv2d_59 (Conv2D)              (None, 12, 12, 192)  147456      average_pooling2d_5[0][0]        \n",
      "__________________________________________________________________________________________________\n",
      "batch_normalization_50 (BatchNo (None, 12, 12, 192)  576         conv2d_50[0][0]                  \n",
      "__________________________________________________________________________________________________\n",
      "batch_normalization_53 (BatchNo (None, 12, 12, 192)  576         conv2d_53[0][0]                  \n",
      "__________________________________________________________________________________________________\n",
      "batch_normalization_58 (BatchNo (None, 12, 12, 192)  576         conv2d_58[0][0]                  \n",
      "__________________________________________________________________________________________________\n",
      "batch_normalization_59 (BatchNo (None, 12, 12, 192)  576         conv2d_59[0][0]                  \n",
      "__________________________________________________________________________________________________\n",
      "activation_50 (Activation)      (None, 12, 12, 192)  0           batch_normalization_50[0][0]     \n",
      "__________________________________________________________________________________________________\n",
      "activation_53 (Activation)      (None, 12, 12, 192)  0           batch_normalization_53[0][0]     \n",
      "__________________________________________________________________________________________________\n",
      "activation_58 (Activation)      (None, 12, 12, 192)  0           batch_normalization_58[0][0]     \n",
      "__________________________________________________________________________________________________\n",
      "activation_59 (Activation)      (None, 12, 12, 192)  0           batch_normalization_59[0][0]     \n",
      "__________________________________________________________________________________________________\n",
      "mixed6 (Concatenate)            (None, 12, 12, 768)  0           activation_50[0][0]              \n",
      "                                                                 activation_53[0][0]              \n",
      "                                                                 activation_58[0][0]              \n",
      "                                                                 activation_59[0][0]              \n",
      "__________________________________________________________________________________________________\n",
      "conv2d_64 (Conv2D)              (None, 12, 12, 192)  147456      mixed6[0][0]                     \n",
      "__________________________________________________________________________________________________\n",
      "batch_normalization_64 (BatchNo (None, 12, 12, 192)  576         conv2d_64[0][0]                  \n",
      "__________________________________________________________________________________________________\n",
      "activation_64 (Activation)      (None, 12, 12, 192)  0           batch_normalization_64[0][0]     \n",
      "__________________________________________________________________________________________________\n",
      "conv2d_65 (Conv2D)              (None, 12, 12, 192)  258048      activation_64[0][0]              \n",
      "__________________________________________________________________________________________________\n",
      "batch_normalization_65 (BatchNo (None, 12, 12, 192)  576         conv2d_65[0][0]                  \n",
      "__________________________________________________________________________________________________\n",
      "activation_65 (Activation)      (None, 12, 12, 192)  0           batch_normalization_65[0][0]     \n",
      "__________________________________________________________________________________________________\n",
      "conv2d_61 (Conv2D)              (None, 12, 12, 192)  147456      mixed6[0][0]                     \n",
      "__________________________________________________________________________________________________\n",
      "conv2d_66 (Conv2D)              (None, 12, 12, 192)  258048      activation_65[0][0]              \n",
      "__________________________________________________________________________________________________\n",
      "batch_normalization_61 (BatchNo (None, 12, 12, 192)  576         conv2d_61[0][0]                  \n",
      "__________________________________________________________________________________________________\n",
      "batch_normalization_66 (BatchNo (None, 12, 12, 192)  576         conv2d_66[0][0]                  \n",
      "__________________________________________________________________________________________________\n",
      "activation_61 (Activation)      (None, 12, 12, 192)  0           batch_normalization_61[0][0]     \n",
      "__________________________________________________________________________________________________\n",
      "activation_66 (Activation)      (None, 12, 12, 192)  0           batch_normalization_66[0][0]     \n",
      "__________________________________________________________________________________________________\n",
      "conv2d_62 (Conv2D)              (None, 12, 12, 192)  258048      activation_61[0][0]              \n",
      "__________________________________________________________________________________________________\n",
      "conv2d_67 (Conv2D)              (None, 12, 12, 192)  258048      activation_66[0][0]              \n",
      "__________________________________________________________________________________________________\n",
      "batch_normalization_62 (BatchNo (None, 12, 12, 192)  576         conv2d_62[0][0]                  \n",
      "__________________________________________________________________________________________________\n",
      "batch_normalization_67 (BatchNo (None, 12, 12, 192)  576         conv2d_67[0][0]                  \n",
      "__________________________________________________________________________________________________\n",
      "activation_62 (Activation)      (None, 12, 12, 192)  0           batch_normalization_62[0][0]     \n",
      "__________________________________________________________________________________________________\n",
      "activation_67 (Activation)      (None, 12, 12, 192)  0           batch_normalization_67[0][0]     \n",
      "__________________________________________________________________________________________________\n",
      "average_pooling2d_6 (AveragePoo (None, 12, 12, 768)  0           mixed6[0][0]                     \n",
      "__________________________________________________________________________________________________\n",
      "conv2d_60 (Conv2D)              (None, 12, 12, 192)  147456      mixed6[0][0]                     \n",
      "__________________________________________________________________________________________________\n",
      "conv2d_63 (Conv2D)              (None, 12, 12, 192)  258048      activation_62[0][0]              \n",
      "__________________________________________________________________________________________________\n",
      "conv2d_68 (Conv2D)              (None, 12, 12, 192)  258048      activation_67[0][0]              \n",
      "__________________________________________________________________________________________________\n",
      "conv2d_69 (Conv2D)              (None, 12, 12, 192)  147456      average_pooling2d_6[0][0]        \n",
      "__________________________________________________________________________________________________\n",
      "batch_normalization_60 (BatchNo (None, 12, 12, 192)  576         conv2d_60[0][0]                  \n",
      "__________________________________________________________________________________________________\n",
      "batch_normalization_63 (BatchNo (None, 12, 12, 192)  576         conv2d_63[0][0]                  \n",
      "__________________________________________________________________________________________________\n",
      "batch_normalization_68 (BatchNo (None, 12, 12, 192)  576         conv2d_68[0][0]                  \n",
      "__________________________________________________________________________________________________\n",
      "batch_normalization_69 (BatchNo (None, 12, 12, 192)  576         conv2d_69[0][0]                  \n",
      "__________________________________________________________________________________________________\n",
      "activation_60 (Activation)      (None, 12, 12, 192)  0           batch_normalization_60[0][0]     \n",
      "__________________________________________________________________________________________________\n",
      "activation_63 (Activation)      (None, 12, 12, 192)  0           batch_normalization_63[0][0]     \n",
      "__________________________________________________________________________________________________\n",
      "activation_68 (Activation)      (None, 12, 12, 192)  0           batch_normalization_68[0][0]     \n",
      "__________________________________________________________________________________________________\n",
      "activation_69 (Activation)      (None, 12, 12, 192)  0           batch_normalization_69[0][0]     \n",
      "__________________________________________________________________________________________________\n",
      "mixed7 (Concatenate)            (None, 12, 12, 768)  0           activation_60[0][0]              \n",
      "                                                                 activation_63[0][0]              \n",
      "                                                                 activation_68[0][0]              \n",
      "                                                                 activation_69[0][0]              \n",
      "__________________________________________________________________________________________________\n",
      "conv2d_72 (Conv2D)              (None, 12, 12, 192)  147456      mixed7[0][0]                     \n",
      "__________________________________________________________________________________________________\n",
      "batch_normalization_72 (BatchNo (None, 12, 12, 192)  576         conv2d_72[0][0]                  \n",
      "__________________________________________________________________________________________________\n",
      "activation_72 (Activation)      (None, 12, 12, 192)  0           batch_normalization_72[0][0]     \n",
      "__________________________________________________________________________________________________\n",
      "conv2d_73 (Conv2D)              (None, 12, 12, 192)  258048      activation_72[0][0]              \n",
      "__________________________________________________________________________________________________\n",
      "batch_normalization_73 (BatchNo (None, 12, 12, 192)  576         conv2d_73[0][0]                  \n",
      "__________________________________________________________________________________________________\n",
      "activation_73 (Activation)      (None, 12, 12, 192)  0           batch_normalization_73[0][0]     \n",
      "__________________________________________________________________________________________________\n",
      "conv2d_70 (Conv2D)              (None, 12, 12, 192)  147456      mixed7[0][0]                     \n",
      "__________________________________________________________________________________________________\n",
      "conv2d_74 (Conv2D)              (None, 12, 12, 192)  258048      activation_73[0][0]              \n",
      "__________________________________________________________________________________________________\n",
      "batch_normalization_70 (BatchNo (None, 12, 12, 192)  576         conv2d_70[0][0]                  \n",
      "__________________________________________________________________________________________________\n",
      "batch_normalization_74 (BatchNo (None, 12, 12, 192)  576         conv2d_74[0][0]                  \n",
      "__________________________________________________________________________________________________\n",
      "activation_70 (Activation)      (None, 12, 12, 192)  0           batch_normalization_70[0][0]     \n",
      "__________________________________________________________________________________________________\n",
      "activation_74 (Activation)      (None, 12, 12, 192)  0           batch_normalization_74[0][0]     \n",
      "__________________________________________________________________________________________________\n",
      "conv2d_71 (Conv2D)              (None, 5, 5, 320)    552960      activation_70[0][0]              \n",
      "__________________________________________________________________________________________________\n",
      "conv2d_75 (Conv2D)              (None, 5, 5, 192)    331776      activation_74[0][0]              \n",
      "__________________________________________________________________________________________________\n",
      "batch_normalization_71 (BatchNo (None, 5, 5, 320)    960         conv2d_71[0][0]                  \n",
      "__________________________________________________________________________________________________\n",
      "batch_normalization_75 (BatchNo (None, 5, 5, 192)    576         conv2d_75[0][0]                  \n",
      "__________________________________________________________________________________________________\n",
      "activation_71 (Activation)      (None, 5, 5, 320)    0           batch_normalization_71[0][0]     \n",
      "__________________________________________________________________________________________________\n",
      "activation_75 (Activation)      (None, 5, 5, 192)    0           batch_normalization_75[0][0]     \n",
      "__________________________________________________________________________________________________\n",
      "max_pooling2d_3 (MaxPooling2D)  (None, 5, 5, 768)    0           mixed7[0][0]                     \n",
      "__________________________________________________________________________________________________\n",
      "mixed8 (Concatenate)            (None, 5, 5, 1280)   0           activation_71[0][0]              \n",
      "                                                                 activation_75[0][0]              \n",
      "                                                                 max_pooling2d_3[0][0]            \n",
      "__________________________________________________________________________________________________\n",
      "conv2d_80 (Conv2D)              (None, 5, 5, 448)    573440      mixed8[0][0]                     \n",
      "__________________________________________________________________________________________________\n",
      "batch_normalization_80 (BatchNo (None, 5, 5, 448)    1344        conv2d_80[0][0]                  \n",
      "__________________________________________________________________________________________________\n",
      "activation_80 (Activation)      (None, 5, 5, 448)    0           batch_normalization_80[0][0]     \n",
      "__________________________________________________________________________________________________\n",
      "conv2d_77 (Conv2D)              (None, 5, 5, 384)    491520      mixed8[0][0]                     \n",
      "__________________________________________________________________________________________________\n",
      "conv2d_81 (Conv2D)              (None, 5, 5, 384)    1548288     activation_80[0][0]              \n",
      "__________________________________________________________________________________________________\n",
      "batch_normalization_77 (BatchNo (None, 5, 5, 384)    1152        conv2d_77[0][0]                  \n",
      "__________________________________________________________________________________________________\n",
      "batch_normalization_81 (BatchNo (None, 5, 5, 384)    1152        conv2d_81[0][0]                  \n",
      "__________________________________________________________________________________________________\n",
      "activation_77 (Activation)      (None, 5, 5, 384)    0           batch_normalization_77[0][0]     \n",
      "__________________________________________________________________________________________________\n",
      "activation_81 (Activation)      (None, 5, 5, 384)    0           batch_normalization_81[0][0]     \n",
      "__________________________________________________________________________________________________\n",
      "conv2d_78 (Conv2D)              (None, 5, 5, 384)    442368      activation_77[0][0]              \n",
      "__________________________________________________________________________________________________\n",
      "conv2d_79 (Conv2D)              (None, 5, 5, 384)    442368      activation_77[0][0]              \n",
      "__________________________________________________________________________________________________\n",
      "conv2d_82 (Conv2D)              (None, 5, 5, 384)    442368      activation_81[0][0]              \n",
      "__________________________________________________________________________________________________\n",
      "conv2d_83 (Conv2D)              (None, 5, 5, 384)    442368      activation_81[0][0]              \n",
      "__________________________________________________________________________________________________\n",
      "average_pooling2d_7 (AveragePoo (None, 5, 5, 1280)   0           mixed8[0][0]                     \n",
      "__________________________________________________________________________________________________\n",
      "conv2d_76 (Conv2D)              (None, 5, 5, 320)    409600      mixed8[0][0]                     \n",
      "__________________________________________________________________________________________________\n",
      "batch_normalization_78 (BatchNo (None, 5, 5, 384)    1152        conv2d_78[0][0]                  \n",
      "__________________________________________________________________________________________________\n",
      "batch_normalization_79 (BatchNo (None, 5, 5, 384)    1152        conv2d_79[0][0]                  \n",
      "__________________________________________________________________________________________________\n",
      "batch_normalization_82 (BatchNo (None, 5, 5, 384)    1152        conv2d_82[0][0]                  \n",
      "__________________________________________________________________________________________________\n",
      "batch_normalization_83 (BatchNo (None, 5, 5, 384)    1152        conv2d_83[0][0]                  \n",
      "__________________________________________________________________________________________________\n",
      "conv2d_84 (Conv2D)              (None, 5, 5, 192)    245760      average_pooling2d_7[0][0]        \n",
      "__________________________________________________________________________________________________\n",
      "batch_normalization_76 (BatchNo (None, 5, 5, 320)    960         conv2d_76[0][0]                  \n",
      "__________________________________________________________________________________________________\n",
      "activation_78 (Activation)      (None, 5, 5, 384)    0           batch_normalization_78[0][0]     \n",
      "__________________________________________________________________________________________________\n",
      "activation_79 (Activation)      (None, 5, 5, 384)    0           batch_normalization_79[0][0]     \n",
      "__________________________________________________________________________________________________\n",
      "activation_82 (Activation)      (None, 5, 5, 384)    0           batch_normalization_82[0][0]     \n",
      "__________________________________________________________________________________________________\n",
      "activation_83 (Activation)      (None, 5, 5, 384)    0           batch_normalization_83[0][0]     \n",
      "__________________________________________________________________________________________________\n",
      "batch_normalization_84 (BatchNo (None, 5, 5, 192)    576         conv2d_84[0][0]                  \n",
      "__________________________________________________________________________________________________\n",
      "activation_76 (Activation)      (None, 5, 5, 320)    0           batch_normalization_76[0][0]     \n",
      "__________________________________________________________________________________________________\n",
      "mixed9_0 (Concatenate)          (None, 5, 5, 768)    0           activation_78[0][0]              \n",
      "                                                                 activation_79[0][0]              \n",
      "__________________________________________________________________________________________________\n",
      "concatenate (Concatenate)       (None, 5, 5, 768)    0           activation_82[0][0]              \n",
      "                                                                 activation_83[0][0]              \n",
      "__________________________________________________________________________________________________\n",
      "activation_84 (Activation)      (None, 5, 5, 192)    0           batch_normalization_84[0][0]     \n",
      "__________________________________________________________________________________________________\n",
      "mixed9 (Concatenate)            (None, 5, 5, 2048)   0           activation_76[0][0]              \n",
      "                                                                 mixed9_0[0][0]                   \n",
      "                                                                 concatenate[0][0]                \n",
      "                                                                 activation_84[0][0]              \n",
      "__________________________________________________________________________________________________\n",
      "conv2d_89 (Conv2D)              (None, 5, 5, 448)    917504      mixed9[0][0]                     \n",
      "__________________________________________________________________________________________________\n",
      "batch_normalization_89 (BatchNo (None, 5, 5, 448)    1344        conv2d_89[0][0]                  \n",
      "__________________________________________________________________________________________________\n",
      "activation_89 (Activation)      (None, 5, 5, 448)    0           batch_normalization_89[0][0]     \n",
      "__________________________________________________________________________________________________\n",
      "conv2d_86 (Conv2D)              (None, 5, 5, 384)    786432      mixed9[0][0]                     \n",
      "__________________________________________________________________________________________________\n",
      "conv2d_90 (Conv2D)              (None, 5, 5, 384)    1548288     activation_89[0][0]              \n",
      "__________________________________________________________________________________________________\n",
      "batch_normalization_86 (BatchNo (None, 5, 5, 384)    1152        conv2d_86[0][0]                  \n",
      "__________________________________________________________________________________________________\n",
      "batch_normalization_90 (BatchNo (None, 5, 5, 384)    1152        conv2d_90[0][0]                  \n",
      "__________________________________________________________________________________________________\n",
      "activation_86 (Activation)      (None, 5, 5, 384)    0           batch_normalization_86[0][0]     \n",
      "__________________________________________________________________________________________________\n",
      "activation_90 (Activation)      (None, 5, 5, 384)    0           batch_normalization_90[0][0]     \n",
      "__________________________________________________________________________________________________\n",
      "conv2d_87 (Conv2D)              (None, 5, 5, 384)    442368      activation_86[0][0]              \n",
      "__________________________________________________________________________________________________\n",
      "conv2d_88 (Conv2D)              (None, 5, 5, 384)    442368      activation_86[0][0]              \n",
      "__________________________________________________________________________________________________\n",
      "conv2d_91 (Conv2D)              (None, 5, 5, 384)    442368      activation_90[0][0]              \n",
      "__________________________________________________________________________________________________\n",
      "conv2d_92 (Conv2D)              (None, 5, 5, 384)    442368      activation_90[0][0]              \n",
      "__________________________________________________________________________________________________\n",
      "average_pooling2d_8 (AveragePoo (None, 5, 5, 2048)   0           mixed9[0][0]                     \n",
      "__________________________________________________________________________________________________\n",
      "conv2d_85 (Conv2D)              (None, 5, 5, 320)    655360      mixed9[0][0]                     \n",
      "__________________________________________________________________________________________________\n",
      "batch_normalization_87 (BatchNo (None, 5, 5, 384)    1152        conv2d_87[0][0]                  \n",
      "__________________________________________________________________________________________________\n",
      "batch_normalization_88 (BatchNo (None, 5, 5, 384)    1152        conv2d_88[0][0]                  \n",
      "__________________________________________________________________________________________________\n",
      "batch_normalization_91 (BatchNo (None, 5, 5, 384)    1152        conv2d_91[0][0]                  \n",
      "__________________________________________________________________________________________________\n",
      "batch_normalization_92 (BatchNo (None, 5, 5, 384)    1152        conv2d_92[0][0]                  \n",
      "__________________________________________________________________________________________________\n",
      "conv2d_93 (Conv2D)              (None, 5, 5, 192)    393216      average_pooling2d_8[0][0]        \n",
      "__________________________________________________________________________________________________\n",
      "batch_normalization_85 (BatchNo (None, 5, 5, 320)    960         conv2d_85[0][0]                  \n",
      "__________________________________________________________________________________________________\n",
      "activation_87 (Activation)      (None, 5, 5, 384)    0           batch_normalization_87[0][0]     \n",
      "__________________________________________________________________________________________________\n",
      "activation_88 (Activation)      (None, 5, 5, 384)    0           batch_normalization_88[0][0]     \n",
      "__________________________________________________________________________________________________\n",
      "activation_91 (Activation)      (None, 5, 5, 384)    0           batch_normalization_91[0][0]     \n",
      "__________________________________________________________________________________________________\n",
      "activation_92 (Activation)      (None, 5, 5, 384)    0           batch_normalization_92[0][0]     \n",
      "__________________________________________________________________________________________________\n",
      "batch_normalization_93 (BatchNo (None, 5, 5, 192)    576         conv2d_93[0][0]                  \n",
      "__________________________________________________________________________________________________\n",
      "activation_85 (Activation)      (None, 5, 5, 320)    0           batch_normalization_85[0][0]     \n",
      "__________________________________________________________________________________________________\n",
      "mixed9_1 (Concatenate)          (None, 5, 5, 768)    0           activation_87[0][0]              \n",
      "                                                                 activation_88[0][0]              \n",
      "__________________________________________________________________________________________________\n",
      "concatenate_1 (Concatenate)     (None, 5, 5, 768)    0           activation_91[0][0]              \n",
      "                                                                 activation_92[0][0]              \n",
      "__________________________________________________________________________________________________\n",
      "activation_93 (Activation)      (None, 5, 5, 192)    0           batch_normalization_93[0][0]     \n",
      "__________________________________________________________________________________________________\n",
      "mixed10 (Concatenate)           (None, 5, 5, 2048)   0           activation_85[0][0]              \n",
      "                                                                 mixed9_1[0][0]                   \n",
      "                                                                 concatenate_1[0][0]              \n",
      "                                                                 activation_93[0][0]              \n",
      "==================================================================================================\n",
      "Total params: 21,802,784\n",
      "Trainable params: 21,768,352\n",
      "Non-trainable params: 34,432\n",
      "__________________________________________________________________________________________________\n",
      "None\n",
      "After Merging ---->\n",
      "Model: \"model\"\n",
      "_________________________________________________________________\n",
      "Layer (type)                 Output Shape              Param #   \n",
      "=================================================================\n",
      "inputLayer (InputLayer)      [(None, 224, 224, 3)]     0         \n",
      "_________________________________________________________________\n",
      "inception_v3 (Functional)    (None, 5, 5, 2048)        21802784  \n",
      "_________________________________________________________________\n",
      "global_average_pooling2d (Gl (None, 2048)              0         \n",
      "_________________________________________________________________\n",
      "flatten (Flatten)            (None, 2048)              0         \n",
      "_________________________________________________________________\n",
      "dense (Dense)                (None, 120)               245880    \n",
      "_________________________________________________________________\n",
      "dense_1 (Dense)              (None, 84)                10164     \n",
      "_________________________________________________________________\n",
      "dense_3 (Dense)              (None, 9)                 765       \n",
      "=================================================================\n",
      "Total params: 22,059,593\n",
      "Trainable params: 22,025,161\n",
      "Non-trainable params: 34,432\n",
      "_________________________________________________________________\n",
      "None\n",
      "^^^^^^^^^^^^^^^^^^^^^^^^^\n",
      "Started Model ->  INCEPTION_V3\n"
     ]
    }
   ],
   "source": [
    "#def getModel(modelId , printSummary , Is_TL, Is_SVM, Is_TL_Tune):\n",
    "\n",
    "\n",
    "modelId = 6\n",
    "\n",
    "createModel = True\n",
    "Is_TL = False\n",
    "Is_SVM = False\n",
    "Is_TL_Tune = False\n",
    "printSummary = True\n",
    "\n",
    "if (Is_TL_Tune):\n",
    "    Is_TL = True\n",
    "\n",
    "model , conv_base = getModel(modelId,printSummary,Is_TL,Is_SVM, Is_TL_Tune)\n",
    "\n",
    "print('Started Model -> ',model.layers[1].name.upper())"
   ]
  },
  {
   "cell_type": "code",
   "execution_count": 41,
   "id": "yZMZc0kEEpMK",
   "metadata": {
    "colab": {
     "base_uri": "https://localhost:8080/"
    },
    "id": "yZMZc0kEEpMK",
    "outputId": "bef8876a-8d32-49d1-82b7-bbc83156d6a0"
   },
   "outputs": [
    {
     "name": "stdout",
     "output_type": "stream",
     "text": [
      "Python 3.8.8\n"
     ]
    }
   ],
   "source": [
    "!python -V\n"
   ]
  },
  {
   "cell_type": "code",
   "execution_count": 42,
   "id": "57512044",
   "metadata": {
    "colab": {
     "base_uri": "https://localhost:8080/"
    },
    "id": "57512044",
    "outputId": "286d1ad4-8825-4e06-881b-23402dac0918",
    "scrolled": true
   },
   "outputs": [
    {
     "name": "stdout",
     "output_type": "stream",
     "text": [
      "Started at = 08:32:16\n",
      "Started Model ->  INCEPTION_V3\n",
      "#################################################################\n",
      "\n",
      " Test run =  1\n",
      "No file moved. Source empty!\n",
      "No file moved. Source empty!\n",
      "No file moved. Source empty!\n",
      "No file moved. Source empty!\n",
      "No file moved. Source empty!\n",
      "No file moved. Source empty!\n",
      "No file moved. Source empty!\n",
      "No file moved. Source empty!\n",
      "No file moved. Source empty!\n",
      "\n",
      " Results for fold 1\n",
      "\n",
      " Folders Created ----->\n"
     ]
    },
    {
     "name": "stderr",
     "output_type": "stream",
     "text": [
      "Processing <PIL.Image.Image image mode=RGB size=224x224 at 0x1DB829CB9A0>:   2%|▏         | 15/620 [00:00<00:06, 99.71 Samples/s]"
     ]
    },
    {
     "name": "stdout",
     "output_type": "stream",
     "text": [
      "\n",
      " 620\n",
      "Initialised with 124 image(s) found.\n",
      "Output directory set to ./Images/Train/BLB\\output."
     ]
    },
    {
     "name": "stderr",
     "output_type": "stream",
     "text": [
      "Processing <PIL.Image.Image image mode=RGB size=224x224 at 0x1DB82AE3850>: 100%|██████████| 620/620 [00:01<00:00, 395.69 Samples/s]\n",
      "Processing <PIL.Image.Image image mode=RGB size=224x224 at 0x1DB82A71700>:   9%|▉         | 29/320 [00:00<00:01, 190.98 Samples/s]"
     ]
    },
    {
     "name": "stdout",
     "output_type": "stream",
     "text": [
      "\n",
      " 320\n",
      "Initialised with 64 image(s) found.\n",
      "Output directory set to ./Images/Train/BPH\\output."
     ]
    },
    {
     "name": "stderr",
     "output_type": "stream",
     "text": [
      "Processing <PIL.Image.Image image mode=RGB size=224x224 at 0x1DB82A85280>: 100%|██████████| 320/320 [00:00<00:00, 388.86 Samples/s]\n",
      "Processing <PIL.Image.Image image mode=RGB size=224x224 at 0x1DB829D6A00>:   5%|▍         | 23/500 [00:00<00:03, 138.20 Samples/s]"
     ]
    },
    {
     "name": "stdout",
     "output_type": "stream",
     "text": [
      "\n",
      " 500\n",
      "Initialised with 100 image(s) found.\n",
      "Output directory set to ./Images/Train/Brown_Spot\\output."
     ]
    },
    {
     "name": "stderr",
     "output_type": "stream",
     "text": [
      "Processing <PIL.Image.Image image mode=RGB size=224x224 at 0x1DB82A77820>: 100%|██████████| 500/500 [00:01<00:00, 408.83 Samples/s]\n",
      "Processing <PIL.Image.Image image mode=RGB size=224x224 at 0x1DB82AD6730>:   6%|▋         | 26/415 [00:00<00:02, 167.26 Samples/s]"
     ]
    },
    {
     "name": "stdout",
     "output_type": "stream",
     "text": [
      "\n",
      " 415\n",
      "Initialised with 83 image(s) found.\n",
      "Output directory set to ./Images/Train/False_Smut\\output."
     ]
    },
    {
     "name": "stderr",
     "output_type": "stream",
     "text": [
      "Processing <PIL.Image.Image image mode=RGB size=224x224 at 0x1DB82A4C070>: 100%|██████████| 415/415 [00:01<00:00, 405.88 Samples/s]\n",
      "Processing <PIL.Image.Image image mode=RGB size=224x224 at 0x1DB82AB42B0>:   2%|▏         | 18/1055 [00:00<00:08, 129.06 Samples/s]"
     ]
    },
    {
     "name": "stdout",
     "output_type": "stream",
     "text": [
      "\n",
      " 1055\n",
      "Initialised with 211 image(s) found.\n",
      "Output directory set to ./Images/Train/Healthy_Plant\\output."
     ]
    },
    {
     "name": "stderr",
     "output_type": "stream",
     "text": [
      "Processing <PIL.Image.Image image mode=RGB size=224x224 at 0x1DB87AE22E0>: 100%|██████████| 1055/1055 [00:02<00:00, 415.13 Samples/s] \n",
      "Processing <PIL.Image.Image image mode=RGB size=224x224 at 0x1DB82A718B0>:   9%|▉         | 30/330 [00:00<00:02, 147.27 Samples/s]"
     ]
    },
    {
     "name": "stdout",
     "output_type": "stream",
     "text": [
      "\n",
      " 330\n",
      "Initialised with 66 image(s) found.\n",
      "Output directory set to ./Images/Train/Hispa\\output."
     ]
    },
    {
     "name": "stderr",
     "output_type": "stream",
     "text": [
      "Processing <PIL.Image.Image image mode=RGB size=224x224 at 0x1DB82A24790>: 100%|██████████| 330/330 [00:00<00:00, 369.93 Samples/s]\n",
      "Processing <PIL.Image.Image image mode=RGB size=224x224 at 0x1DB819A0670>:   1%|          | 15/1285 [00:00<00:09, 127.79 Samples/s]"
     ]
    },
    {
     "name": "stdout",
     "output_type": "stream",
     "text": [
      "\n",
      " 1285\n",
      "Initialised with 257 image(s) found.\n",
      "Output directory set to ./Images/Train/Neck_Blast\\output."
     ]
    },
    {
     "name": "stderr",
     "output_type": "stream",
     "text": [
      "Processing <PIL.Image.Image image mode=RGB size=224x224 at 0x1DB8AABE070>: 100%|██████████| 1285/1285 [00:03<00:00, 407.08 Samples/s] \n",
      "Executing Pipeline:   0%|          | 0/985 [00:00<?, ? Samples/s]"
     ]
    },
    {
     "name": "stdout",
     "output_type": "stream",
     "text": [
      "\n",
      " 985\n",
      "Initialised with 197 image(s) found.\n",
      "Output directory set to ./Images/Train/Sheath_Blight_Rot\\output."
     ]
    },
    {
     "name": "stderr",
     "output_type": "stream",
     "text": [
      "Processing <PIL.Image.Image image mode=RGB size=224x224 at 0x1DB87AE7520>: 100%|██████████| 985/985 [00:02<00:00, 395.62 Samples/s] \n",
      "Executing Pipeline:   0%|          | 0/905 [00:00<?, ? Samples/s]"
     ]
    },
    {
     "name": "stdout",
     "output_type": "stream",
     "text": [
      "\n",
      " 905\n",
      "Initialised with 181 image(s) found.\n",
      "Output directory set to ./Images/Train/Stemborer\\output."
     ]
    },
    {
     "name": "stderr",
     "output_type": "stream",
     "text": [
      "Processing <PIL.Image.Image image mode=RGB size=224x224 at 0x1DB87A580A0>: 100%|██████████| 905/905 [00:02<00:00, 384.68 Samples/s] \n"
     ]
    },
    {
     "name": "stdout",
     "output_type": "stream",
     "text": [
      "Before move -  744\n",
      "After move -  744\n",
      "Before move -  384\n",
      "After move -  384\n",
      "Before move -  600\n",
      "After move -  600\n",
      "Before move -  498\n",
      "After move -  498\n",
      "Before move -  1266\n",
      "After move -  1266\n",
      "Before move -  396\n",
      "After move -  396\n",
      "Before move -  1542\n",
      "After move -  1542\n",
      "Before move -  1182\n",
      "After move -  1182\n",
      "Before move -  1086\n",
      "After move -  1086\n",
      "Found 7698 images belonging to 9 classes.\n",
      "Train data length ======  7698\n",
      "Found 143 images belonging to 9 classes.\n",
      "Test data length ======  143\n",
      "InceptionV3\n",
      "Before Fine Tuning---->\n",
      "Model: \"model_1\"\n",
      "_________________________________________________________________\n",
      "Layer (type)                 Output Shape              Param #   \n",
      "=================================================================\n",
      "inputLayer (InputLayer)      [(None, 224, 224, 3)]     0         \n",
      "_________________________________________________________________\n",
      "inception_v3 (Functional)    (None, 5, 5, 2048)        21802784  \n",
      "_________________________________________________________________\n",
      "global_average_pooling2d_1 ( (None, 2048)              0         \n",
      "_________________________________________________________________\n",
      "flatten_1 (Flatten)          (None, 2048)              0         \n",
      "_________________________________________________________________\n",
      "dense_4 (Dense)              (None, 120)               245880    \n",
      "_________________________________________________________________\n",
      "dense_5 (Dense)              (None, 84)                10164     \n",
      "_________________________________________________________________\n",
      "dense_7 (Dense)              (None, 9)                 765       \n",
      "=================================================================\n",
      "Total params: 22,059,593\n",
      "Trainable params: 22,025,161\n",
      "Non-trainable params: 34,432\n",
      "_________________________________________________________________\n",
      "None\n",
      "Epoch 1/20\n",
      "321/321 [==============================] - 47s 106ms/step - loss: 1.8703 - categorical_accuracy: 0.3158 28s - loss: 2.1593 - categori - ETA: 26s - loss: 2.1164 - categorical_ - ETA: 24s - loss: 2.0880 - categorical_accur - ETA: 23s - loss: 2.0714 - ca - ETA: 15s - loss: 1.9766 - cat\n",
      "Epoch 2/20\n",
      "321/321 [==============================] - 32s 101ms/step - loss: 1.4218 - categorical_accuracy: 0.4802 25s - loss: 1.4643 - categorical_accuracy: 0. - ETA: 24s - loss: 1.4639 - categorical_accur - ETA: 17s - loss: 1.4506 - catego - ETA: 15s - loss: 1.4474 - categoric - ETA: 13s - loss: 1.4448 - categorical_accurac - ETA:  - ETA: 8s - loss: 1.4388 - categorical_accuracy:  - ETA: 8s - loss: 1.4383 - catego - ETA: 1s - loss:\n",
      "Epoch 3/20\n",
      "321/321 [==============================] - 32s 101ms/step - loss: 1.1842 - categorical_accuracy: 0.5718\n",
      "Epoch 4/20\n",
      "321/321 [==============================] - 33s 102ms/step - loss: 1.0007 - categorical_accuracy: 0.6478\n",
      "Epoch 5/20\n",
      "321/321 [==============================] - 32s 101ms/step - loss: 0.9037 - categorical_accuracy: 0.6814s - loss: 0.9049 - categorical_accuracy - ETA: 7s - loss: 0.9\n",
      "Epoch 6/20\n",
      "321/321 [==============================] - 32s 101ms/step - loss: 0.8050 - categorical_accuracy: 0.7210 24s - loss: 0.8069 - categorical_accuracy:  - ETA: 23s - loss: 0.8051 - categorical_ac - ETA: 16s - loss:\n",
      "Epoch 7/20\n",
      "321/321 [==============================] - 32s 101ms/step - loss: 0.7125 - categorical_accuracy: 0.7544\n",
      "Epoch 8/20\n",
      "321/321 [==============================] - 33s 102ms/step - loss: 0.6495 - categorical_accuracy: 0.7707 10s - loss: 0.6440 - categorical_accuracy: - ETA: 10s - loss:  - E -\n",
      "Epoch 9/20\n",
      "321/321 [==============================] - 32s 101ms/step - loss: 0.5922 - categorical_accuracy: 0.8016 31s - loss: 0.5810 - categorical_accura - ETA: 30s - loss: 0.5914 - categorical_accuracy: 0 - ETA: 29s - loss: 0.5898 - categorical_accuracy: - ETA: 28s - loss: 0.5905 - categorical_accuracy: 0.811 - ETA: 28s - loss: 0.5906 - categorical_accuracy: 0 - ETA: 28s - loss: 0.5910 - categorical_accura - ETA: 27s - loss: 0.5888 - categorical_accuracy: 0.81 - ETA: 26s - loss: 0.5883 -  - ETA: 24s - loss: 0.5848 - categorical_accuracy: 0. - ETA: 23s - loss: 0.5852 - categorical_accur - ETA: 22s - l - ETA: 18s - loss: 0.5869 -  - ETA: 15s - loss: 0.5882 - categorical_accuracy: 0.80 - ETA: 15s - loss: 0.5883 - ca - ETA: 12s - loss: 0.5898 - categorical_accuracy - ETA: 11s - loss: 0.5901 - categorical_accuracy: 0 - ETA: 11s\n",
      "Epoch 10/20\n",
      "321/321 [==============================] - 33s 101ms/step - loss: 0.5442 - categorical_accuracy: 0.8034- ETA: 8s - loss: 0.5438 - categorical_accuracy:  - ETA: 7s - loss: 0.5438 - categorical_accuracy: 0. - ETA: 7s - loss: 0.5439 - categorical_ - ETA: 6s - loss: 0.544 - ETA - ETA: 2s - loss: 0.5444 - categori - ETA: 1s - loss: 0\n",
      "Epoch 11/20\n",
      "321/321 [==============================] - 33s 102ms/step - loss: 0.4755 - categorical_accuracy: 0.8373\n",
      "Epoch 12/20\n",
      "321/321 [==============================] - 33s 101ms/step - loss: 0.4411 - categorical_accuracy: 0.8491 27s - loss: 0.4280 - categorical_accuracy:   - ETA: 20s - loss: 0.4321 - categorical_accu - ETA: 19s - loss: 0.4334 - categorical_accuracy: 0.8 - ETA: 19s - los - ETA: 1s - loss: 0.4412 - ca\n",
      "Epoch 13/20\n",
      "321/321 [==============================] - 33s 102ms/step - loss: 0.4024 - categorical_accuracy: 0.8641 29s - loss: 0.3791 - catego - ETA: 4s - loss: 0.3999  - E\n",
      "Epoch 14/20\n",
      "321/321 [==============================] - 33s 102ms/step - loss: 0.3590 - categorical_accuracy: 0.8780\n",
      "Epoch 15/20\n",
      "321/321 [==============================] - 33s 101ms/step - loss: 0.3539 - categorical_accuracy: 0.8769: 21s - loss: 0.3393 - categorical_accura - ETA: 20s - loss: 0.3399 - categorical_accura - ETA: 19s - ETA: 15s - loss: - ETA: 11s  -\n",
      "Epoch 16/20\n",
      "321/321 [==============================] - 33s 102ms/step - loss: 0.3046 - categorical_accuracy: 0.8974\n",
      "Epoch 17/20\n",
      "321/321 [==============================] - 33s 101ms/step - loss: 0.2642 - categorical_accuracy: 0.9124\n",
      "Epoch 18/20\n",
      "321/321 [==============================] - 33s 102ms/step - loss: 0.2979 - categorical_accuracy: 0.8965\n",
      "Epoch 19/20\n",
      "321/321 [==============================] - 32s 101ms/step - loss: 0.2549 - categorical_accuracy: 0.9190s - loss: 0.2532 - cate - ETA: 1s - los\n",
      "Epoch 20/20\n",
      "321/321 [==============================] - 32s 100ms/step - loss: 0.2299 - categorical_accuracy: 0.9222\n",
      "***Performance on Training data***\n",
      "Accuracy  : 0.9210184216499329\n",
      "======================================*\n",
      "6/6 [==============================] - 2s 175ms/step\n",
      "***Performance on Validation data***\n",
      "Accuracy  : 0.46853146853146854\n",
      "Precision : 0.4786621980170367\n",
      "f1Score : 0.4686311652650107\n",
      "[[ 6  0  1  2  0  0  2  2  1]\n",
      " [ 0  2  0  0  3  0  1  0  1]\n",
      " [ 1  0  5  0  0  0  4  0  1]\n",
      " [ 3  0  0  4  1  0  0  2  0]\n",
      " [ 1  0  0  0 14  0  3  4  1]\n",
      " [ 0  1  0  0  0  4  0  0  2]\n",
      " [ 2  1  0  2  2  2 16  2  2]\n",
      " [ 2  2  1  4  3  0  0  8  2]\n",
      " [ 0  0  0  2  5  0  5  0  8]]\n",
      "\n",
      " Results for fold 2\n",
      "\n",
      " Folders Created ----->\n"
     ]
    },
    {
     "name": "stderr",
     "output_type": "stream",
     "text": [
      "Processing <PIL.Image.Image image mode=RGB size=224x224 at 0x1DB90A22A90>:   4%|▍         | 26/620 [00:00<00:04, 142.50 Samples/s]"
     ]
    },
    {
     "name": "stdout",
     "output_type": "stream",
     "text": [
      "\n",
      " 620\n",
      "Initialised with 124 image(s) found.\n",
      "Output directory set to ./Images/Train/BLB\\output."
     ]
    },
    {
     "name": "stderr",
     "output_type": "stream",
     "text": [
      "Processing <PIL.Image.Image image mode=RGB size=224x224 at 0x1DB90AF4B80>: 100%|██████████| 620/620 [00:01<00:00, 435.33 Samples/s]\n",
      "Processing <PIL.Image.Image image mode=RGB size=224x224 at 0x1DB90A23370>:   8%|▊         | 24/320 [00:00<00:02, 129.43 Samples/s]"
     ]
    },
    {
     "name": "stdout",
     "output_type": "stream",
     "text": [
      "\n",
      " 320\n",
      "Initialised with 64 image(s) found.\n",
      "Output directory set to ./Images/Train/BPH\\output."
     ]
    },
    {
     "name": "stderr",
     "output_type": "stream",
     "text": [
      "Processing <PIL.Image.Image image mode=RGB size=224x224 at 0x1DB90A6AE20>: 100%|██████████| 320/320 [00:00<00:00, 459.64 Samples/s]\n",
      "Processing <PIL.Image.Image image mode=RGB size=224x224 at 0x1DB90A7EF10>:   6%|▌         | 28/500 [00:00<00:02, 168.67 Samples/s]"
     ]
    },
    {
     "name": "stdout",
     "output_type": "stream",
     "text": [
      "\n",
      " 500\n",
      "Initialised with 100 image(s) found.\n",
      "Output directory set to ./Images/Train/Brown_Spot\\output."
     ]
    },
    {
     "name": "stderr",
     "output_type": "stream",
     "text": [
      "Processing <PIL.Image.Image image mode=RGB size=224x224 at 0x1DB90A67190>: 100%|██████████| 500/500 [00:01<00:00, 456.55 Samples/s]\n",
      "Processing <PIL.Image.Image image mode=RGB size=224x224 at 0x1DB90A4A310>:   6%|▋         | 26/415 [00:00<00:02, 149.49 Samples/s]"
     ]
    },
    {
     "name": "stdout",
     "output_type": "stream",
     "text": [
      "\n",
      " 415\n",
      "Initialised with 83 image(s) found.\n",
      "Output directory set to ./Images/Train/False_Smut\\output."
     ]
    },
    {
     "name": "stderr",
     "output_type": "stream",
     "text": [
      "Processing <PIL.Image.Image image mode=RGB size=224x224 at 0x1DB90A0F460>: 100%|██████████| 415/415 [00:01<00:00, 411.30 Samples/s]\n",
      "Processing <PIL.Image.Image image mode=RGB size=224x224 at 0x1DB909DA0A0>:   2%|▏         | 16/1055 [00:00<00:06, 158.09 Samples/s]"
     ]
    },
    {
     "name": "stdout",
     "output_type": "stream",
     "text": [
      "\n",
      " 1055\n",
      "Initialised with 211 image(s) found.\n",
      "Output directory set to ./Images/Train/Healthy_Plant\\output."
     ]
    },
    {
     "name": "stderr",
     "output_type": "stream",
     "text": [
      "Processing <PIL.Image.Image image mode=RGB size=224x224 at 0x1DB90A9A880>: 100%|██████████| 1055/1055 [00:02<00:00, 391.15 Samples/s] \n",
      "Processing <PIL.Image.Image image mode=RGB size=224x224 at 0x1DB90A24310>:   6%|▌         | 20/330 [00:00<00:02, 148.89 Samples/s]"
     ]
    },
    {
     "name": "stdout",
     "output_type": "stream",
     "text": [
      "\n",
      " 330\n",
      "Initialised with 66 image(s) found.\n",
      "Output directory set to ./Images/Train/Hispa\\output."
     ]
    },
    {
     "name": "stderr",
     "output_type": "stream",
     "text": [
      "Processing <PIL.Image.Image image mode=RGB size=224x224 at 0x1DB90AD8610>: 100%|██████████| 330/330 [00:00<00:00, 401.12 Samples/s]\n",
      "Processing <PIL.Image.Image image mode=RGB size=224x224 at 0x1DB90AD6370>:   2%|▏         | 23/1285 [00:00<00:07, 179.56 Samples/s]"
     ]
    },
    {
     "name": "stdout",
     "output_type": "stream",
     "text": [
      "\n",
      " 1285\n",
      "Initialised with 257 image(s) found.\n",
      "Output directory set to ./Images/Train/Neck_Blast\\output."
     ]
    },
    {
     "name": "stderr",
     "output_type": "stream",
     "text": [
      "Processing <PIL.Image.Image image mode=RGB size=224x224 at 0x1DB90BB7280>: 100%|██████████| 1285/1285 [00:03<00:00, 353.54 Samples/s] \n",
      "Processing <PIL.Image.Image image mode=RGB size=224x224 at 0x1DB90B232E0>:   1%|          | 9/985 [00:00<00:08, 112.55 Samples/s]"
     ]
    },
    {
     "name": "stdout",
     "output_type": "stream",
     "text": [
      "\n",
      " 985\n",
      "Initialised with 197 image(s) found.\n",
      "Output directory set to ./Images/Train/Sheath_Blight_Rot\\output."
     ]
    },
    {
     "name": "stderr",
     "output_type": "stream",
     "text": [
      "Processing <PIL.Image.Image image mode=RGB size=224x224 at 0x1DB90BEECA0>: 100%|██████████| 985/985 [00:02<00:00, 365.60 Samples/s]\n",
      "Processing <PIL.Image.Image image mode=RGB size=224x224 at 0x1DB90BE1760>:   0%|          | 0/905 [00:00<?, ? Samples/s]"
     ]
    },
    {
     "name": "stdout",
     "output_type": "stream",
     "text": [
      "\n",
      " 905\n",
      "Initialised with 181 image(s) found.\n",
      "Output directory set to ./Images/Train/Stemborer\\output."
     ]
    },
    {
     "name": "stderr",
     "output_type": "stream",
     "text": [
      "Processing <PIL.Image.Image image mode=RGB size=224x224 at 0x1DB90A9F1F0>: 100%|██████████| 905/905 [00:02<00:00, 325.82 Samples/s] \n"
     ]
    },
    {
     "name": "stdout",
     "output_type": "stream",
     "text": [
      "Before move -  744\n",
      "After move -  744\n",
      "Before move -  384\n",
      "After move -  384\n",
      "Before move -  600\n",
      "After move -  600\n",
      "Before move -  498\n",
      "After move -  498\n",
      "Before move -  1266\n",
      "After move -  1266\n",
      "Before move -  396\n",
      "After move -  396\n",
      "Before move -  1542\n",
      "After move -  1542\n",
      "Before move -  1182\n",
      "After move -  1182\n",
      "Before move -  1086\n",
      "After move -  1086\n",
      "Found 7698 images belonging to 9 classes.\n",
      "Train data length ======  7698\n",
      "Found 143 images belonging to 9 classes.\n",
      "Test data length ======  143\n",
      "InceptionV3\n",
      "Before Fine Tuning---->\n",
      "Model: \"model_2\"\n",
      "_________________________________________________________________\n",
      "Layer (type)                 Output Shape              Param #   \n",
      "=================================================================\n",
      "inputLayer (InputLayer)      [(None, 224, 224, 3)]     0         \n",
      "_________________________________________________________________\n",
      "inception_v3 (Functional)    (None, 5, 5, 2048)        21802784  \n",
      "_________________________________________________________________\n",
      "global_average_pooling2d_2 ( (None, 2048)              0         \n",
      "_________________________________________________________________\n",
      "flatten_2 (Flatten)          (None, 2048)              0         \n",
      "_________________________________________________________________\n",
      "dense_8 (Dense)              (None, 120)               245880    \n",
      "_________________________________________________________________\n",
      "dense_9 (Dense)              (None, 84)                10164     \n",
      "_________________________________________________________________\n",
      "dense_11 (Dense)             (None, 9)                 765       \n",
      "=================================================================\n",
      "Total params: 22,059,593\n",
      "Trainable params: 22,025,161\n",
      "Non-trainable params: 34,432\n",
      "_________________________________________________________________\n",
      "None\n",
      "Epoch 1/20\n",
      "321/321 [==============================] - 39s 103ms/step - loss: 1.9050 - categorical_accuracy: 0.3018 31s - loss: 2.2979 - categorical_accuracy: 0.158 - ETA: 31s - loss: 2.2928 - - ETA: 27s - lo - ETA: 23s - loss: 2.1161 - categorical_accurac - ETA: 22s - loss: 2.1024 - categorical_accuracy - ETA: 1s - loss: 1.9142 - categorical_accuracy: 0. - ETA: 1s - loss: 1.9130 - \n",
      "Epoch 2/20\n",
      "321/321 [==============================] - 33s 102ms/step - loss: 1.4403 - categorical_accuracy: 0.4779 30s - loss: 1.5094 - categorical_accu - ETA: 28s - loss: 1.4994 - categorical_accuracy:  - ETA: 27s - loss: 1.4970 - categorical_accuracy: 0.43 - ETA: 27s - loss: 1.4964 - - ETA: 24s - loss: 1.4929 - categorical_accu - ETA: 23s - loss: 1.4924 - categor - ETA: 20s - loss: 1. - ETA: 17s - loss: 1.4800 - categorical_ac - ETA: 15s - loss: 1. - ET\n",
      "Epoch 3/20\n",
      "321/321 [==============================] - 33s 102ms/step - loss: 1.2171 - categorical_accuracy: 0.5681 30s - loss: 1.2736 - - ETA: 26s - loss: 1.2663 -  - ETA: 23s - loss: 1.2600 - categorical_accuracy: 0. - ETA: 23s - loss: 1.2590 - categorica - ETA: 21s - loss: 1.2541 - categorica - ETA: 19s - loss: 1.2489 - categorical_accuracy: 0.5 - ETA: 19s -  - ETA: 15s - loss: 1.2404 - categ\n",
      "Epoch 4/20\n",
      "321/321 [==============================] - 34s 104ms/step - loss: 1.0080 - categorical_accuracy: 0.6427s - loss: 1.0\n",
      "Epoch 5/20\n",
      "321/321 [==============================] - 34s 106ms/step - loss: 0.9029 - categorical_accuracy: 0.6778s - loss: 0.9022 - categorical_accuracy\n",
      "Epoch 6/20\n",
      "321/321 [==============================] - 33s 101ms/step - loss: 0.8038 - categorical_accuracy: 0.7199 17s - loss: 0.81 - ETA: 13s - loss: 0.8131 - categor - ETA: 11s - loss: 0.8115 - - ETA: 9s - - ETA: 4s - ETA: 1s - loss:\n",
      "Epoch 7/20\n",
      "321/321 [==============================] - 32s 100ms/step - loss: 0.7232 - categorical_accuracy: 0.7394\n",
      "Epoch 8/20\n",
      "321/321 [==============================] - 32s 99ms/step - loss: 0.6552 - categorical_accuracy: 0.7756: 27s - loss: 0.6456 - categorical_accuracy: 0 - ETA: 15s - loss: 0.6503 - categorical_accuracy: 0. - ETA: 14s - los - ETA: 1s - los\n",
      "Epoch 9/20\n",
      "321/321 [==============================] - 32s 99ms/step - loss: 0.5728 - categorical_accuracy: 0.8014\n",
      "Epoch 10/20\n",
      "321/321 [==============================] - 32s 99ms/step - loss: 0.5282 - categorical_accuracy: 0.8160\n",
      "Epoch 11/20\n",
      "321/321 [==============================] - 32s 99ms/step - loss: 0.5002 - categorical_accuracy: 0.8352\n",
      "Epoch 12/20\n",
      "321/321 [==============================] - 32s 99ms/step - loss: 0.4413 - categorical_accuracy: 0.8474\n",
      "Epoch 13/20\n",
      "321/321 [==============================] - 32s 99ms/step - loss: 0.3839 - categorical_accuracy: 0.8676\n",
      "Epoch 14/20\n",
      "321/321 [==============================] - 32s 99ms/step - loss: 0.3582 - categorical_accuracy: 0.8813\n",
      "Epoch 15/20\n",
      "321/321 [==============================] - 32s 99ms/step - loss: 0.3112 - categorical_accuracy: 0.9000\n",
      "Epoch 16/20\n",
      "321/321 [==============================] - 32s 99ms/step - loss: 0.2973 - categorical_accuracy: 0.8981\n",
      "Epoch 17/20\n",
      "321/321 [==============================] - 32s 98ms/step - loss: 0.3098 - categorical_accuracy: 0.8978\n",
      "Epoch 18/20\n",
      "321/321 [==============================] - 32s 100ms/step - loss: 0.2704 - categorical_accuracy: 0.9063s - loss: 0.2696 - categorical_accuracy: \n",
      "Epoch 19/20\n",
      "321/321 [==============================] - 32s 101ms/step - loss: 0.2319 - categorical_accuracy: 0.9248s - loss: 0.2318 - categorical_accuracy: 0.\n",
      "Epoch 20/20\n",
      "321/321 [==============================] - 32s 100ms/step - loss: 0.2464 - categorical_accuracy: 0.9186s - loss: 0.2464 - categorical_accuracy: 0.\n",
      "***Performance on Training data***\n",
      "Accuracy  : 0.9185502529144287\n",
      "======================================*\n",
      "6/6 [==============================] - 1s 30ms/step\n",
      "***Performance on Validation data***\n",
      "Accuracy  : 0.4755244755244755\n",
      "Precision : 0.4644195548041702\n",
      "f1Score : 0.4663456126252154\n",
      "[[ 7  0  0  1  2  0  1  2  1]\n",
      " [ 0  3  0  0  2  1  1  0  0]\n",
      " [ 1  1  8  0  0  0  1  0  0]\n",
      " [ 1  0  0  3  1  0  2  1  2]\n",
      " [ 1  0  0  1 13  0  3  3  2]\n",
      " [ 0  0  0  0  0  6  1  0  0]\n",
      " [ 2  0  4  1  4  0 12  4  2]\n",
      " [ 0  3  2  1  1  1  0 11  3]\n",
      " [ 2  1  0  1  3  2  5  1  5]]\n",
      "\n",
      " Results for fold 3\n",
      "\n",
      " Folders Created ----->\n"
     ]
    },
    {
     "name": "stderr",
     "output_type": "stream",
     "text": [
      "Processing <PIL.Image.Image image mode=RGB size=224x224 at 0x1DC3F63ADF0>:   5%|▌         | 32/620 [00:00<00:03, 165.22 Samples/s]"
     ]
    },
    {
     "name": "stdout",
     "output_type": "stream",
     "text": [
      "\n",
      " 620\n",
      "Initialised with 124 image(s) found.\n",
      "Output directory set to ./Images/Train/BLB\\output."
     ]
    },
    {
     "name": "stderr",
     "output_type": "stream",
     "text": [
      "Processing <PIL.Image.Image image mode=RGB size=224x224 at 0x1DC46608700>: 100%|██████████| 620/620 [00:01<00:00, 430.75 Samples/s]\n",
      "Processing <PIL.Image.Image image mode=RGB size=224x224 at 0x1DC3F6579D0>:   5%|▌         | 17/320 [00:00<00:02, 129.40 Samples/s]"
     ]
    },
    {
     "name": "stdout",
     "output_type": "stream",
     "text": [
      "\n",
      " 320\n",
      "Initialised with 64 image(s) found.\n",
      "Output directory set to ./Images/Train/BPH\\output."
     ]
    },
    {
     "name": "stderr",
     "output_type": "stream",
     "text": [
      "Processing <PIL.Image.Image image mode=RGB size=224x224 at 0x1DC46603E50>: 100%|██████████| 320/320 [00:00<00:00, 434.72 Samples/s]\n",
      "Processing <PIL.Image.Image image mode=RGB size=224x224 at 0x1DC3F637C70>:   5%|▍         | 23/500 [00:00<00:03, 142.68 Samples/s]"
     ]
    },
    {
     "name": "stdout",
     "output_type": "stream",
     "text": [
      "\n",
      " 500\n",
      "Initialised with 100 image(s) found.\n",
      "Output directory set to ./Images/Train/Brown_Spot\\output."
     ]
    },
    {
     "name": "stderr",
     "output_type": "stream",
     "text": [
      "Processing <PIL.Image.Image image mode=RGB size=224x224 at 0x1DC465F1610>: 100%|██████████| 500/500 [00:01<00:00, 402.20 Samples/s]\n",
      "Executing Pipeline:   0%|          | 0/415 [00:00<?, ? Samples/s]"
     ]
    },
    {
     "name": "stdout",
     "output_type": "stream",
     "text": [
      "\n",
      " 415\n",
      "Initialised with 83 image(s) found.\n",
      "Output directory set to ./Images/Train/False_Smut\\output."
     ]
    },
    {
     "name": "stderr",
     "output_type": "stream",
     "text": [
      "Processing <PIL.Image.Image image mode=RGB size=224x224 at 0x1DB9203D670>: 100%|██████████| 415/415 [00:01<00:00, 263.40 Samples/s]\n",
      "Processing <PIL.Image.Image image mode=RGB size=224x224 at 0x1DB81410EB0>:   1%|          | 9/1055 [00:00<00:10, 101.35 Samples/s]"
     ]
    },
    {
     "name": "stdout",
     "output_type": "stream",
     "text": [
      "\n",
      " 1055\n",
      "Initialised with 211 image(s) found.\n",
      "Output directory set to ./Images/Train/Healthy_Plant\\output."
     ]
    },
    {
     "name": "stderr",
     "output_type": "stream",
     "text": [
      "Processing <PIL.Image.Image image mode=RGB size=224x224 at 0x1DB813A46D0>: 100%|██████████| 1055/1055 [00:03<00:00, 340.44 Samples/s] \n",
      "Processing <PIL.Image.Image image mode=RGB size=224x224 at 0x1DB81609370>:   8%|▊         | 26/330 [00:00<00:02, 147.45 Samples/s]"
     ]
    },
    {
     "name": "stdout",
     "output_type": "stream",
     "text": [
      "\n",
      " 330\n",
      "Initialised with 66 image(s) found.\n",
      "Output directory set to ./Images/Train/Hispa\\output."
     ]
    },
    {
     "name": "stderr",
     "output_type": "stream",
     "text": [
      "Processing <PIL.Image.Image image mode=RGB size=224x224 at 0x1DB82AF7760>: 100%|██████████| 330/330 [00:00<00:00, 372.62 Samples/s]\n",
      "Processing <PIL.Image.Image image mode=RGB size=224x224 at 0x1DB82AB4BB0>:   1%|          | 7/1285 [00:00<00:14, 87.49 Samples/s]"
     ]
    },
    {
     "name": "stdout",
     "output_type": "stream",
     "text": [
      "\n",
      " 1285\n",
      "Initialised with 257 image(s) found.\n",
      "Output directory set to ./Images/Train/Neck_Blast\\output."
     ]
    },
    {
     "name": "stderr",
     "output_type": "stream",
     "text": [
      "Processing <PIL.Image.Image image mode=RGB size=224x224 at 0x1DB814D8B20>: 100%|██████████| 1285/1285 [00:03<00:00, 365.12 Samples/s] \n",
      "Processing <PIL.Image.Image image mode=RGB size=224x224 at 0x1DB91F456D0>:   0%|          | 4/985 [00:00<00:16, 59.90 Samples/s]"
     ]
    },
    {
     "name": "stdout",
     "output_type": "stream",
     "text": [
      "\n",
      " 985\n",
      "Initialised with 197 image(s) found.\n",
      "Output directory set to ./Images/Train/Sheath_Blight_Rot\\output."
     ]
    },
    {
     "name": "stderr",
     "output_type": "stream",
     "text": [
      "Processing <PIL.Image.Image image mode=RGB size=224x224 at 0x1DB8153D040>: 100%|██████████| 985/985 [00:02<00:00, 331.98 Samples/s] \n",
      "Processing <PIL.Image.Image image mode=RGB size=224x224 at 0x1DC1D932520>:   0%|          | 2/905 [00:00<00:31, 28.46 Samples/s]"
     ]
    },
    {
     "name": "stdout",
     "output_type": "stream",
     "text": [
      "\n",
      " 905\n",
      "Initialised with 181 image(s) found.\n",
      "Output directory set to ./Images/Train/Stemborer\\output."
     ]
    },
    {
     "name": "stderr",
     "output_type": "stream",
     "text": [
      "Processing <PIL.Image.Image image mode=RGB size=224x224 at 0x1DB81919D60>: 100%|██████████| 905/905 [00:02<00:00, 308.86 Samples/s]\n"
     ]
    },
    {
     "name": "stdout",
     "output_type": "stream",
     "text": [
      "Before move -  744\n",
      "After move -  744\n",
      "Before move -  384\n",
      "After move -  384\n",
      "Before move -  600\n",
      "After move -  600\n",
      "Before move -  498\n",
      "After move -  498\n",
      "Before move -  1266\n",
      "After move -  1266\n",
      "Before move -  396\n",
      "After move -  396\n",
      "Before move -  1542\n",
      "After move -  1542\n",
      "Before move -  1182\n",
      "After move -  1182\n",
      "Before move -  1086\n",
      "After move -  1086\n",
      "Found 7698 images belonging to 9 classes.\n",
      "Train data length ======  7698\n",
      "Found 143 images belonging to 9 classes.\n",
      "Test data length ======  143\n",
      "InceptionV3\n",
      "Before Fine Tuning---->\n",
      "Model: \"model_3\"\n",
      "_________________________________________________________________\n",
      "Layer (type)                 Output Shape              Param #   \n",
      "=================================================================\n",
      "inputLayer (InputLayer)      [(None, 224, 224, 3)]     0         \n",
      "_________________________________________________________________\n",
      "inception_v3 (Functional)    (None, 5, 5, 2048)        21802784  \n",
      "_________________________________________________________________\n",
      "global_average_pooling2d_3 ( (None, 2048)              0         \n",
      "_________________________________________________________________\n",
      "flatten_3 (Flatten)          (None, 2048)              0         \n",
      "_________________________________________________________________\n",
      "dense_12 (Dense)             (None, 120)               245880    \n",
      "_________________________________________________________________\n",
      "dense_13 (Dense)             (None, 84)                10164     \n",
      "_________________________________________________________________\n",
      "dense_15 (Dense)             (None, 9)                 765       \n",
      "=================================================================\n",
      "Total params: 22,059,593\n",
      "Trainable params: 22,025,161\n",
      "Non-trainable params: 34,432\n",
      "_________________________________________________________________\n",
      "None\n",
      "Epoch 1/20\n",
      "321/321 [==============================] - 39s 100ms/step - loss: 1.8629 - categorical_accuracy: 0.3190: 30s - loss: 2.2563 - categorical_ac - ETA: 29s - loss: 2.2078 - categorical - ETA: 28s - loss - ETA: 24s - loss: 2.0917 - categorical_accuracy: 0.221 - ETA: 24s - loss: 2.0901 - categorical_ac - ETA: 23s - loss: 2.0689 - categorical - ETA: 21s - loss: 2.046 - ETA: 18s - loss: 2.0086 - categorical_accuracy: - ETA: 17s - loss: 2.0008 - categorical_accuracy: 0.2 - ETA: 5s - loss: - ETA: 0s - loss: 1.8659 - categorical_accura\n",
      "Epoch 2/20\n",
      "321/321 [==============================] - 33s 103ms/step - loss: 1.3517 - categorical_accuracy: 0.5124 30s - loss: - ETA: 2 - ETA: 16s - loss: 1.3707 - categorical_accur - ETA: 15s - loss: 1.3692 - catego - ETA: 12s - loss: 1.3668 - categorical_ - ETA: 11s - loss: 1.3648 - categorical_accuracy: 0.5 - ETA: 11s - loss: 1.3645 - categ - ETA: 9s - loss: 1.3624 - categori\n",
      "Epoch 3/20\n",
      "321/321 [==============================] - 34s 107ms/step - loss: 1.2049 - categorical_accuracy: 0.5688s - loss: 1.2055 - categorical_accuracy\n",
      "Epoch 4/20\n",
      "321/321 [==============================] - 32s 99ms/step - loss: 1.0128 - categorical_accuracy: 0.6401\n",
      "Epoch 5/20\n",
      "321/321 [==============================] - 32s 98ms/step - loss: 0.9097 - categorical_accuracy: 0.6743\n",
      "Epoch 6/20\n",
      "321/321 [==============================] - 32s 99ms/step - loss: 0.7885 - categorical_accuracy: 0.72774s - loss: 0.7894 - categorical_ - ETA: 1s - loss: 0.7886 - \n",
      "Epoch 7/20\n",
      "321/321 [==============================] - 32s 100ms/step - loss: 0.6995 - categorical_accuracy: 0.7609 31s - los - ETA: 26s - loss: 0.7132 - categorical_accuracy: - ETA: 26s - loss: 0.7103 - cate\n",
      "Epoch 8/20\n",
      "321/321 [==============================] - 32s 100ms/step - loss: 0.6353 - categorical_accuracy: 0.7740\n",
      "Epoch 9/20\n",
      "321/321 [==============================] - 32s 98ms/step - loss: 0.5858 - categorical_accuracy: 0.7881\n",
      "Epoch 10/20\n",
      "321/321 [==============================] - 32s 99ms/step - loss: 0.4842 - categorical_accuracy: 0.82514s - loss: 0.4 - ETA: 2s - loss: 0.4811 - ca - ETA: 1s - loss: 0.4824 - categorical_accuracy:  - ETA: 1s - loss: 0.4827 \n",
      "Epoch 11/20\n",
      "321/321 [==============================] - 32s 99ms/step - loss: 0.4471 - categorical_accuracy: 0.8418: 30s - loss: 0.4603 - categorical_accu\n",
      "Epoch 12/20\n",
      "321/321 [==============================] - 32s 98ms/step - loss: 0.4112 - categorical_accuracy: 0.8542\n",
      "Epoch 13/20\n",
      "321/321 [==============================] - 32s 98ms/step - loss: 0.3811 - categorical_accuracy: 0.8685\n",
      "Epoch 14/20\n",
      "321/321 [==============================] - 32s 99ms/step - loss: 0.3329 - categorical_accuracy: 0.8851: 18s - loss: 0.3299 - categorical_accuracy: 0.8 - ETA: 18s  - ETA: 13s - loss: 0.3275 - categorical_accu - ETA: 12s - loss: 0.3272 - categorical_accuracy: 0.88 - ETA: 12s - loss: 0.3272 - cat - ETA: 7s - loss: 0.3290 - categorical_accuracy - ETA: 1s - loss: 0.3322 - ca\n",
      "Epoch 15/20\n",
      "321/321 [==============================] - 32s 99ms/step - loss: 0.3127 - categorical_accuracy: 0.8870\n",
      "Epoch 16/20\n",
      "321/321 [==============================] - 32s 99ms/step - loss: 0.2788 - categorical_accuracy: 0.9073\n",
      "Epoch 17/20\n",
      "321/321 [==============================] - 32s 98ms/step - loss: 0.2818 - categorical_accuracy: 0.9082\n",
      "Epoch 18/20\n",
      "321/321 [==============================] - 32s 99ms/step - loss: 0.2403 - categorical_accuracy: 0.9161: 23s - loss: 0.2189 - categorical_accuracy: 0.923 - ETA: 23s - loss: 0. - ETA: 19s - loss: 0.2212 - categorical_accuracy: 0 - ETA: 19s - loss: 0.2215 - categorical_a\n",
      "Epoch 19/20\n",
      "321/321 [==============================] - 32s 100ms/step - loss: 0.2404 - categorical_accuracy: 0.9165\n",
      "Epoch 20/20\n",
      "321/321 [==============================] - 32s 100ms/step - loss: 0.2143 - categorical_accuracy: 0.9307 22s - \n",
      "***Performance on Training data***\n",
      "Accuracy  : 0.9284229874610901\n",
      "======================================*\n",
      "6/6 [==============================] - 1s 30ms/step\n",
      "***Performance on Validation data***\n",
      "Accuracy  : 0.46853146853146854\n",
      "Precision : 0.4820297642695833\n",
      "f1Score : 0.47123607078214136\n",
      "[[ 6  0  0  1  1  0  2  1  3]\n",
      " [ 0  5  1  0  1  0  0  0  0]\n",
      " [ 3  0  6  0  0  0  1  1  0]\n",
      " [ 0  1  0  4  0  0  2  0  3]\n",
      " [ 4  0  0  0 10  0  2  4  3]\n",
      " [ 1  0  0  0  0  6  0  0  0]\n",
      " [ 1  1  2  1  0  2 11  2  9]\n",
      " [ 1  0  0  2  3  0  2 12  2]\n",
      " [ 0  1  3  0  2  0  6  1  7]]\n",
      "\n",
      " Results for fold 4\n",
      "\n",
      " Folders Created ----->\n"
     ]
    },
    {
     "name": "stderr",
     "output_type": "stream",
     "text": [
      "Processing <PIL.Image.Image image mode=RGB size=224x224 at 0x1DC4D9BC9D0>:   4%|▍         | 25/620 [00:00<00:04, 129.30 Samples/s]"
     ]
    },
    {
     "name": "stdout",
     "output_type": "stream",
     "text": [
      "\n",
      " 620\n",
      "Initialised with 124 image(s) found.\n",
      "Output directory set to ./Images/Train/BLB\\output."
     ]
    },
    {
     "name": "stderr",
     "output_type": "stream",
     "text": [
      "Processing <PIL.Image.Image image mode=RGB size=224x224 at 0x1DC4DA36730>: 100%|██████████| 620/620 [00:01<00:00, 397.60 Samples/s]\n",
      "Processing <PIL.Image.Image image mode=RGB size=224x224 at 0x1DC4D959880>:   5%|▍         | 15/320 [00:00<00:02, 108.61 Samples/s]"
     ]
    },
    {
     "name": "stdout",
     "output_type": "stream",
     "text": [
      "\n",
      " 320\n",
      "Initialised with 64 image(s) found.\n",
      "Output directory set to ./Images/Train/BPH\\output."
     ]
    },
    {
     "name": "stderr",
     "output_type": "stream",
     "text": [
      "Processing <PIL.Image.Image image mode=RGB size=224x224 at 0x1DC4D992610>: 100%|██████████| 320/320 [00:00<00:00, 407.81 Samples/s]\n",
      "Processing <PIL.Image.Image image mode=RGB size=224x224 at 0x1DC4D9C4190>:   6%|▌         | 28/500 [00:00<00:02, 159.39 Samples/s]"
     ]
    },
    {
     "name": "stdout",
     "output_type": "stream",
     "text": [
      "\n",
      " 500\n",
      "Initialised with 100 image(s) found.\n",
      "Output directory set to ./Images/Train/Brown_Spot\\output."
     ]
    },
    {
     "name": "stderr",
     "output_type": "stream",
     "text": [
      "Processing <PIL.Image.Image image mode=RGB size=224x224 at 0x1DC4DA09130>: 100%|██████████| 500/500 [00:01<00:00, 430.37 Samples/s]\n",
      "Processing <PIL.Image.Image image mode=RGB size=224x224 at 0x1DC4D9B3A60>:   5%|▌         | 21/420 [00:00<00:03, 119.48 Samples/s]"
     ]
    },
    {
     "name": "stdout",
     "output_type": "stream",
     "text": [
      "\n",
      " 420\n",
      "Initialised with 84 image(s) found.\n",
      "Output directory set to ./Images/Train/False_Smut\\output."
     ]
    },
    {
     "name": "stderr",
     "output_type": "stream",
     "text": [
      "Processing <PIL.Image.Image image mode=RGB size=224x224 at 0x1DC4D991190>: 100%|██████████| 420/420 [00:01<00:00, 354.85 Samples/s]\n",
      "Processing <PIL.Image.Image image mode=RGB size=224x224 at 0x1DC4D9853D0>:   1%|▏         | 15/1050 [00:00<00:09, 110.59 Samples/s]"
     ]
    },
    {
     "name": "stdout",
     "output_type": "stream",
     "text": [
      "\n",
      " 1050\n",
      "Initialised with 210 image(s) found.\n",
      "Output directory set to ./Images/Train/Healthy_Plant\\output."
     ]
    },
    {
     "name": "stderr",
     "output_type": "stream",
     "text": [
      "Processing <PIL.Image.Image image mode=RGB size=224x224 at 0x1DC4DB5BF40>: 100%|██████████| 1050/1050 [00:02<00:00, 364.61 Samples/s] \n",
      "Processing <PIL.Image.Image image mode=RGB size=224x224 at 0x1DC4D9B2D30>:   4%|▍         | 14/330 [00:00<00:04, 78.97 Samples/s]"
     ]
    },
    {
     "name": "stdout",
     "output_type": "stream",
     "text": [
      "\n",
      " 330\n",
      "Initialised with 66 image(s) found.\n",
      "Output directory set to ./Images/Train/Hispa\\output."
     ]
    },
    {
     "name": "stderr",
     "output_type": "stream",
     "text": [
      "Processing <PIL.Image.Image image mode=RGB size=224x224 at 0x1DC4DAC4D30>: 100%|██████████| 330/330 [00:00<00:00, 376.53 Samples/s]\n",
      "Executing Pipeline:   0%|          | 0/1285 [00:00<?, ? Samples/s]"
     ]
    },
    {
     "name": "stdout",
     "output_type": "stream",
     "text": [
      "\n",
      " 1285\n",
      "Initialised with 257 image(s) found.\n",
      "Output directory set to ./Images/Train/Neck_Blast\\output."
     ]
    },
    {
     "name": "stderr",
     "output_type": "stream",
     "text": [
      "Processing <PIL.Image.Image image mode=RGB size=224x224 at 0x1DC4DB4EF40>: 100%|██████████| 1285/1285 [00:03<00:00, 376.25 Samples/s] \n",
      "Processing <PIL.Image.Image image mode=RGB size=224x224 at 0x1DC4D985BE0>:   1%|          | 5/985 [00:00<00:20, 47.58 Samples/s]"
     ]
    },
    {
     "name": "stdout",
     "output_type": "stream",
     "text": [
      "\n",
      " 985\n",
      "Initialised with 197 image(s) found.\n",
      "Output directory set to ./Images/Train/Sheath_Blight_Rot\\output."
     ]
    },
    {
     "name": "stderr",
     "output_type": "stream",
     "text": [
      "Processing <PIL.Image.Image image mode=RGB size=224x224 at 0x1DC4DB1BEE0>: 100%|██████████| 985/985 [00:03<00:00, 326.42 Samples/s] \n",
      "Processing <PIL.Image.Image image mode=RGB size=224x224 at 0x1DC4D985BB0>:   1%|▏         | 13/905 [00:00<00:11, 79.35 Samples/s]"
     ]
    },
    {
     "name": "stdout",
     "output_type": "stream",
     "text": [
      "\n",
      " 905\n",
      "Initialised with 181 image(s) found.\n",
      "Output directory set to ./Images/Train/Stemborer\\output."
     ]
    },
    {
     "name": "stderr",
     "output_type": "stream",
     "text": [
      "Processing <PIL.Image.Image image mode=RGB size=224x224 at 0x1DC4DA29C70>: 100%|██████████| 905/905 [00:02<00:00, 330.30 Samples/s] \n"
     ]
    },
    {
     "name": "stdout",
     "output_type": "stream",
     "text": [
      "Before move -  744\n",
      "After move -  744\n",
      "Before move -  384\n",
      "After move -  384\n",
      "Before move -  600\n",
      "After move -  600\n",
      "Before move -  504\n",
      "After move -  504\n",
      "Before move -  1260\n",
      "After move -  1260\n",
      "Before move -  396\n",
      "After move -  396\n",
      "Before move -  1542\n",
      "After move -  1542\n",
      "Before move -  1182\n",
      "After move -  1182\n",
      "Before move -  1086\n",
      "After move -  1086\n",
      "Found 7698 images belonging to 9 classes.\n",
      "Train data length ======  7698\n",
      "Found 143 images belonging to 9 classes.\n",
      "Test data length ======  143\n",
      "InceptionV3\n",
      "Before Fine Tuning---->\n",
      "Model: \"model_4\"\n",
      "_________________________________________________________________\n",
      "Layer (type)                 Output Shape              Param #   \n",
      "=================================================================\n",
      "inputLayer (InputLayer)      [(None, 224, 224, 3)]     0         \n",
      "_________________________________________________________________\n",
      "inception_v3 (Functional)    (None, 5, 5, 2048)        21802784  \n",
      "_________________________________________________________________\n",
      "global_average_pooling2d_4 ( (None, 2048)              0         \n",
      "_________________________________________________________________\n",
      "flatten_4 (Flatten)          (None, 2048)              0         \n",
      "_________________________________________________________________\n",
      "dense_16 (Dense)             (None, 120)               245880    \n",
      "_________________________________________________________________\n",
      "dense_17 (Dense)             (None, 84)                10164     \n",
      "_________________________________________________________________\n",
      "dense_19 (Dense)             (None, 9)                 765       \n",
      "=================================================================\n",
      "Total params: 22,059,593\n",
      "Trainable params: 22,025,161\n",
      "Non-trainable params: 34,432\n",
      "_________________________________________________________________\n",
      "None\n",
      "Epoch 1/20\n",
      "321/321 [==============================] - 40s 101ms/step - loss: 1.8908 - categorical_accuracy: 0.3102 31s  - ETA: 26s - loss: 2.1527 - categor - ETA: 24s - loss: 2.1087 - categorical_acc - ETA: 23s - ETA: 18s - loss - ETA: 6s - loss: 1.9306 - categorical_accura - ETA: 3s - loss: 1 - ETA: 1s - loss: 1.8993 \n",
      "Epoch 2/20\n",
      "321/321 [==============================] - 33s 101ms/step - loss: 1.4174 - categorical_accuracy: 0.4775 29s - loss:  - ETA: 26s - loss: 1.4481 - categorical_accuracy: 0. - ETA: 25s - loss: 1.4477 - categor - ETA: 23\n",
      "Epoch 3/20\n",
      "321/321 [==============================] - 33s 102ms/step - loss: 1.2385 - categorical_accuracy: 0.5577 29s - loss: 1.2627 - categorica - ETA: 27s - loss: 1 - ETA: 12 - ETA: 0s - loss: 1.2387 - categorical_accuracy: 0.\n",
      "Epoch 4/20\n",
      "321/321 [==============================] - 32s 99ms/step - loss: 1.0762 - categorical_accuracy: 0.6226: 26s - loss: 1.1234 - categ - ETA: 24s - loss: 1.1129 - categorical_accuracy: 0 - ETA: 23s - loss: 1.1108 - c - ETA: 20s - loss: 1.1012 - categorical_acc - ETA: 19s - loss: 1.0980 - categorical_ac - ETA: 18s - loss: 1.0951 - categorical_ - ETA: 16s - loss: 1.0924 - categorical_accu - ETA: 15s - loss: 1.0906 - categorical_a - ETA: 14s - loss: 1.0889 - categorical_accuracy - ETA: 13s - loss: 1.0885 - categorical_acc - ETA: 11s - loss: 1.0880 - categorical_accuracy - ETA: 11s - loss: 1.0875 - categorical_accuracy: 0.62 - ETA: 10s \n",
      "Epoch 5/20\n",
      "321/321 [==============================] - 32s 99ms/step - loss: 0.9300 - categorical_accuracy: 0.6728\n",
      "Epoch 6/20\n",
      "321/321 [==============================] - 32s 99ms/step - loss: 0.8404 - categorical_accuracy: 0.7017TA: 0s - loss: 0.8405 - categorical_accu\n",
      "Epoch 7/20\n",
      "321/321 [==============================] - 32s 99ms/step - loss: 0.7700 - categorical_accuracy: 0.7298\n",
      "Epoch 8/20\n",
      "321/321 [==============================] - 32s 99ms/step - loss: 0.6708 - categorical_accuracy: 0.7707\n",
      "Epoch 9/20\n",
      "321/321 [==============================] - 32s 100ms/step - loss: 0.6064 - categorical_accuracy: 0.7875 15s - loss: 0.6043 - cat - ETA: 1 - ETA: 9s - loss: 0.6045 - categorical_accu - ETA: 8s - loss: 0.6045 - categorical_accuracy - ETA: 8s - loss: 0.6045 - categorical_accuracy - E - ETA: 4s\n",
      "Epoch 10/20\n",
      "321/321 [==============================] - 33s 101ms/step - loss: 0.5360 - categorical_accuracy: 0.8111 24s - loss: 0.5195  - ETA: 1s - loss: 0.5355 - catego\n",
      "Epoch 11/20\n",
      "321/321 [==============================] - 32s 99ms/step - loss: 0.5409 - categorical_accuracy: 0.8143\n",
      "Epoch 12/20\n",
      "321/321 [==============================] - 32s 101ms/step - loss: 0.4501 - categorical_accuracy: 0.8468\n",
      "Epoch 13/20\n",
      "321/321 [==============================] - 33s 102ms/step - loss: 0.4280 - categorical_accuracy: 0.8510\n",
      "Epoch 14/20\n",
      "321/321 [==============================] - 32s 100ms/step - loss: 0.3702 - categorical_accuracy: 0.8695\n",
      "Epoch 15/20\n",
      "321/321 [==============================] - 32s 100ms/step - loss: 0.3737 - categorical_accuracy: 0.8685 28s - loss: 0.3454 - categorical_accuracy: - ETA: 27s - loss: 0.3503 - categorical_accur - ETA: 26s - loss: 0.3554  - ETA: 23s - loss - ETA: 13s - loss: 0.3730 - categorical_accu\n",
      "Epoch 16/20\n",
      "321/321 [==============================] - 32s 100ms/step - loss: 0.3204 - categorical_accuracy: 0.8912\n",
      "Epoch 17/20\n",
      "321/321 [==============================] - 33s 101ms/step - loss: 0.3177 - categorical_accuracy: 0.8903\n",
      "Epoch 18/20\n",
      "321/321 [==============================] - 32s 100ms/step - loss: 0.2823 - categorical_accuracy: 0.9027\n",
      "Epoch 19/20\n",
      "321/321 [==============================] - 32s 101ms/step - loss: 0.2940 - categorical_accuracy: 0.8995\n",
      "Epoch 20/20\n",
      "321/321 [==============================] - 32s 99ms/step - loss: 0.2361 - categorical_accuracy: 0.9203: 28s - loss: 0.2579 - categorical_accuracy: 0.91 - ETA: 28s - loss: 0.2558 - categorical_acc - ETA: 27s - loss: 0.2457  - ETA: 24s - loss: 0.2296 - ETA: 21s - loss: 0.2221 - categorical_accura - ETA: 20s - loss: 0.2213 - c - ETA: 17s - loss: 0.2222 - categorical_accuracy: 0.92 - ETA: 17s - loss: 0.2224 - categorical_accuracy: 0 -  - ETA: 11s - - ETA: 5s - loss: 0.2333 - categorical_ac - ETA: 4s -\n",
      "***Performance on Training data***\n",
      "Accuracy  : 0.9138737320899963\n",
      "======================================*\n",
      "6/6 [==============================] - 1s 30ms/step\n",
      "***Performance on Validation data***\n",
      "Accuracy  : 0.4405594405594406\n",
      "Precision : 0.45989676989676986\n",
      "f1Score : 0.4424957868195737\n",
      "[[ 4  1  0  1  1  0  1  4  2]\n",
      " [ 0  2  0  0  2  1  2  0  0]\n",
      " [ 0  1  5  0  0  1  3  0  1]\n",
      " [ 1  0  0  4  0  0  3  1  0]\n",
      " [ 1  0  0  2 12  1  3  4  1]\n",
      " [ 1  0  0  1  0  3  1  1  0]\n",
      " [ 2  0  1  2  3  1 12  5  3]\n",
      " [ 1  0  0  2  6  0  1 12  0]\n",
      " [ 2  1  0  0  1  2  4  1  9]]\n",
      "\n",
      " Results for fold 5\n",
      "\n",
      " Folders Created ----->\n"
     ]
    },
    {
     "name": "stderr",
     "output_type": "stream",
     "text": [
      "Processing <PIL.Image.Image image mode=RGB size=224x224 at 0x1DC3B339F40>:   5%|▍         | 28/620 [00:00<00:03, 159.18 Samples/s]"
     ]
    },
    {
     "name": "stdout",
     "output_type": "stream",
     "text": [
      "\n",
      " 620\n",
      "Initialised with 124 image(s) found.\n",
      "Output directory set to ./Images/Train/BLB\\output."
     ]
    },
    {
     "name": "stderr",
     "output_type": "stream",
     "text": [
      "Processing <PIL.Image.Image image mode=RGB size=224x224 at 0x1DC3B440D90>: 100%|██████████| 620/620 [00:01<00:00, 408.03 Samples/s]\n",
      "Processing <PIL.Image.Image image mode=RGB size=224x224 at 0x1DC3B339940>:   8%|▊         | 27/320 [00:00<00:02, 133.11 Samples/s]"
     ]
    },
    {
     "name": "stdout",
     "output_type": "stream",
     "text": [
      "\n",
      " 320\n",
      "Initialised with 64 image(s) found.\n",
      "Output directory set to ./Images/Train/BPH\\output."
     ]
    },
    {
     "name": "stderr",
     "output_type": "stream",
     "text": [
      "Processing <PIL.Image.Image image mode=RGB size=224x224 at 0x1DC3B43C1F0>: 100%|██████████| 320/320 [00:00<00:00, 418.88 Samples/s]\n",
      "Processing <PIL.Image.Image image mode=RGB size=224x224 at 0x1DC3B3396D0>:   3%|▎         | 17/500 [00:00<00:03, 148.92 Samples/s]"
     ]
    },
    {
     "name": "stdout",
     "output_type": "stream",
     "text": [
      "\n",
      " 500\n",
      "Initialised with 100 image(s) found.\n",
      "Output directory set to ./Images/Train/Brown_Spot\\output."
     ]
    },
    {
     "name": "stderr",
     "output_type": "stream",
     "text": [
      "Processing <PIL.Image.Image image mode=RGB size=224x224 at 0x1DC3B432AC0>: 100%|██████████| 500/500 [00:01<00:00, 432.52 Samples/s]\n",
      "Processing <PIL.Image.Image image mode=RGB size=224x224 at 0x1DC3B339940>:   4%|▍         | 16/420 [00:00<00:03, 112.35 Samples/s]"
     ]
    },
    {
     "name": "stdout",
     "output_type": "stream",
     "text": [
      "\n",
      " 420\n",
      "Initialised with 84 image(s) found.\n",
      "Output directory set to ./Images/Train/False_Smut\\output."
     ]
    },
    {
     "name": "stderr",
     "output_type": "stream",
     "text": [
      "Processing <PIL.Image.Image image mode=RGB size=224x224 at 0x1DC3B376790>: 100%|██████████| 420/420 [00:01<00:00, 366.23 Samples/s]\n",
      "Processing <PIL.Image.Image image mode=RGB size=224x224 at 0x1DC3B4408B0>:   1%|          | 10/1050 [00:00<00:09, 110.32 Samples/s]"
     ]
    },
    {
     "name": "stdout",
     "output_type": "stream",
     "text": [
      "\n",
      " 1050\n",
      "Initialised with 210 image(s) found.\n",
      "Output directory set to ./Images/Train/Healthy_Plant\\output."
     ]
    },
    {
     "name": "stderr",
     "output_type": "stream",
     "text": [
      "Processing <PIL.Image.Image image mode=RGB size=224x224 at 0x1DC3B51A9D0>: 100%|██████████| 1050/1050 [00:02<00:00, 372.81 Samples/s] \n",
      "Processing <PIL.Image.Image image mode=RGB size=224x224 at 0x1DC3B3A1850>:   6%|▌         | 20/330 [00:00<00:02, 122.68 Samples/s]"
     ]
    },
    {
     "name": "stdout",
     "output_type": "stream",
     "text": [
      "\n",
      " 330\n",
      "Initialised with 66 image(s) found.\n",
      "Output directory set to ./Images/Train/Hispa\\output."
     ]
    },
    {
     "name": "stderr",
     "output_type": "stream",
     "text": [
      "Processing <PIL.Image.Image image mode=RGB size=224x224 at 0x1DC3B4078E0>: 100%|██████████| 330/330 [00:00<00:00, 373.52 Samples/s]\n",
      "Processing <PIL.Image.Image image mode=RGB size=224x224 at 0x1DC3B301AF0>:   1%|          | 12/1285 [00:00<00:09, 135.15 Samples/s]"
     ]
    },
    {
     "name": "stdout",
     "output_type": "stream",
     "text": [
      "\n",
      " 1285\n",
      "Initialised with 257 image(s) found.\n",
      "Output directory set to ./Images/Train/Neck_Blast\\output."
     ]
    },
    {
     "name": "stderr",
     "output_type": "stream",
     "text": [
      "Processing <PIL.Image.Image image mode=RGB size=224x224 at 0x1DC3B54F040>: 100%|██████████| 1285/1285 [00:03<00:00, 385.27 Samples/s] \n",
      "Processing <PIL.Image.Image image mode=RGB size=224x224 at 0x1DC3B5B1F10>:   1%|▏         | 13/985 [00:00<00:10, 89.70 Samples/s]"
     ]
    },
    {
     "name": "stdout",
     "output_type": "stream",
     "text": [
      "\n",
      " 985\n",
      "Initialised with 197 image(s) found.\n",
      "Output directory set to ./Images/Train/Sheath_Blight_Rot\\output."
     ]
    },
    {
     "name": "stderr",
     "output_type": "stream",
     "text": [
      "Processing <PIL.Image.Image image mode=RGB size=224x224 at 0x1DC3B576280>: 100%|██████████| 985/985 [00:02<00:00, 382.88 Samples/s] \n",
      "Processing <PIL.Image.Image image mode=RGB size=224x224 at 0x1DC3B3391F0>:   2%|▏         | 21/905 [00:00<00:06, 133.32 Samples/s]"
     ]
    },
    {
     "name": "stdout",
     "output_type": "stream",
     "text": [
      "\n",
      " 905\n",
      "Initialised with 181 image(s) found.\n",
      "Output directory set to ./Images/Train/Stemborer\\output."
     ]
    },
    {
     "name": "stderr",
     "output_type": "stream",
     "text": [
      "Processing <PIL.Image.Image image mode=RGB size=224x224 at 0x1DC3B575A60>: 100%|██████████| 905/905 [00:02<00:00, 391.74 Samples/s] \n"
     ]
    },
    {
     "name": "stdout",
     "output_type": "stream",
     "text": [
      "Before move -  744\n",
      "After move -  744\n",
      "Before move -  384\n",
      "After move -  384\n",
      "Before move -  600\n",
      "After move -  600\n",
      "Before move -  504\n",
      "After move -  504\n",
      "Before move -  1260\n",
      "After move -  1260\n",
      "Before move -  396\n",
      "After move -  396\n",
      "Before move -  1542\n",
      "After move -  1542\n",
      "Before move -  1182\n",
      "After move -  1182\n",
      "Before move -  1086\n",
      "After move -  1086\n",
      "Found 7698 images belonging to 9 classes.\n",
      "Train data length ======  7698\n",
      "Found 143 images belonging to 9 classes.\n",
      "Test data length ======  143\n",
      "InceptionV3\n",
      "Before Fine Tuning---->\n",
      "Model: \"model_5\"\n",
      "_________________________________________________________________\n",
      "Layer (type)                 Output Shape              Param #   \n",
      "=================================================================\n",
      "inputLayer (InputLayer)      [(None, 224, 224, 3)]     0         \n",
      "_________________________________________________________________\n",
      "inception_v3 (Functional)    (None, 5, 5, 2048)        21802784  \n",
      "_________________________________________________________________\n",
      "global_average_pooling2d_5 ( (None, 2048)              0         \n",
      "_________________________________________________________________\n",
      "flatten_5 (Flatten)          (None, 2048)              0         \n",
      "_________________________________________________________________\n",
      "dense_20 (Dense)             (None, 120)               245880    \n",
      "_________________________________________________________________\n",
      "dense_21 (Dense)             (None, 84)                10164     \n",
      "_________________________________________________________________\n",
      "dense_23 (Dense)             (None, 9)                 765       \n",
      "=================================================================\n",
      "Total params: 22,059,593\n",
      "Trainable params: 22,025,161\n",
      "Non-trainable params: 34,432\n",
      "_________________________________________________________________\n",
      "None\n",
      "Epoch 1/20\n",
      "321/321 [==============================] - 41s 105ms/step - loss: 1.8691 - categorical_accuracy: 0.3051 26s - loss: 2.1117 - categorical_accuracy: 0. - ETA: 26s - loss: 2.1 - ETA: 22s - \n",
      "Epoch 2/20\n",
      "321/321 [==============================] - 33s 103ms/step - loss: 1.3978 - categorical_accuracy: 0.5058\n",
      "Epoch 3/20\n",
      "321/321 [==============================] - 33s 103ms/step - loss: 1.1909 - categorical_accuracy: 0.5722\n",
      "Epoch 4/20\n",
      "321/321 [==============================] - 33s 103ms/step - loss: 1.0070 - categorical_accuracy: 0.6360s - loss: 1.0061 \n",
      "Epoch 5/20\n",
      "321/321 [==============================] - 33s 103ms/step - loss: 0.9332 - categorical_accuracy: 0.6801\n",
      "Epoch 6/20\n",
      "321/321 [==============================] - 32s 101ms/step - loss: 0.7791 - categorical_accuracy: 0.7225\n",
      "Epoch 7/20\n",
      "321/321 [==============================] - 32s 101ms/step - loss: 0.7586 - categorical_accuracy: 0.7339\n",
      "Epoch 8/20\n",
      "321/321 [==============================] - 32s 100ms/step - loss: 0.6615 - categorical_accuracy: 0.7674\n",
      "Epoch 9/20\n",
      "321/321 [==============================] - 33s 103ms/step - loss: 0.5961 - categorical_accuracy: 0.7901s - los\n",
      "Epoch 10/20\n",
      "321/321 [==============================] - 32s 101ms/step - loss: 0.5513 - categorical_accuracy: 0.8073 15s - loss: 0.5657 - cat - ETA: 13s - loss: 0.5624 - categori - ETA: 7s - loss: 0 - ETA: 0s - loss: 0.5516 - categorical_accuracy\n",
      "Epoch 11/20\n",
      "321/321 [==============================] - 33s 103ms/step - loss: 0.4653 - categorical_accuracy: 0.8393\n",
      "Epoch 12/20\n",
      "321/321 [==============================] - 32s 101ms/step - loss: 0.4757 - categorical_accuracy: 0.8413s - loss: 0.4758 - categorical_accuracy: 0.\n",
      "Epoch 13/20\n",
      "321/321 [==============================] - 32s 100ms/step - loss: 0.3791 - categorical_accuracy: 0.8683 26s - lo - ETA: 22s - loss: 0.3563 - categori - ETA: 20s - loss: 0.3602 - categor\n",
      "Epoch 14/20\n",
      "321/321 [==============================] - 34s 105ms/step - loss: 0.3521 - categorical_accuracy: 0.8844\n",
      "Epoch 15/20\n",
      "321/321 [==============================] - 32s 98ms/step - loss: 0.3378 - categorical_accuracy: 0.8820\n",
      "Epoch 16/20\n",
      "321/321 [==============================] - 35s 110ms/step - loss: 0.3238 - categorical_accuracy: 0.8879\n",
      "Epoch 17/20\n",
      "321/321 [==============================] - 32s 100ms/step - loss: 0.2946 - categorical_accuracy: 0.8966\n",
      "Epoch 18/20\n",
      "321/321 [==============================] - 32s 98ms/step - loss: 0.2493 - categorical_accuracy: 0.9126\n",
      "Epoch 19/20\n",
      "321/321 [==============================] - 32s 99ms/step - loss: 0.2760 - categorical_accuracy: 0.91049s - loss: 0.2833 - categorical_ - ETA: 8s - ETA: 0s - loss: 0.2766 - categorical_accuracy: 0. - ETA: 0s - loss: 0.2764 - categorical_ac\n",
      "Epoch 20/20\n",
      "321/321 [==============================] - 32s 99ms/step - loss: 0.2365 - categorical_accuracy: 0.9186\n",
      "***Performance on Training data***\n",
      "Accuracy  : 0.9138737320899963\n",
      "======================================*\n",
      "6/6 [==============================] - 1s 31ms/step\n",
      "***Performance on Validation data***\n",
      "Accuracy  : 0.48951048951048953\n",
      "Precision : 0.4905582738601893\n",
      "f1Score : 0.4839588564502621\n",
      "[[ 5  0  0  0  0  0  2  4  3]\n",
      " [ 0  3  0  0  2  1  1  0  0]\n",
      " [ 0  0  8  0  0  1  1  1  0]\n",
      " [ 1  0  0  7  0  0  0  1  0]\n",
      " [ 3  0  1  2 10  0  3  4  1]\n",
      " [ 0  1  0  1  0  4  0  0  1]\n",
      " [ 0  0  3  2  3  3 12  2  4]\n",
      " [ 3  0  0  1  3  0  1 13  1]\n",
      " [ 1  1  2  0  3  2  3  0  8]]\n",
      "\n",
      " Results for fold 6\n",
      "\n",
      " Folders Created ----->\n"
     ]
    },
    {
     "name": "stderr",
     "output_type": "stream",
     "text": [
      "Processing <PIL.Image.Image image mode=RGB size=224x224 at 0x1DB8F6AD6A0>:   1%|▏         | 9/620 [00:00<00:11, 54.69 Samples/s]"
     ]
    },
    {
     "name": "stdout",
     "output_type": "stream",
     "text": [
      "\n",
      " 620\n",
      "Initialised with 124 image(s) found.\n",
      "Output directory set to ./Images/Train/BLB\\output."
     ]
    },
    {
     "name": "stderr",
     "output_type": "stream",
     "text": [
      "Processing <PIL.Image.Image image mode=RGB size=224x224 at 0x1DB8F773E80>: 100%|██████████| 620/620 [00:01<00:00, 356.05 Samples/s]\n",
      "Processing <PIL.Image.Image image mode=RGB size=224x224 at 0x1DB8F688A00>:   7%|▋         | 22/320 [00:00<00:02, 138.98 Samples/s]"
     ]
    },
    {
     "name": "stdout",
     "output_type": "stream",
     "text": [
      "\n",
      " 320\n",
      "Initialised with 64 image(s) found.\n",
      "Output directory set to ./Images/Train/BPH\\output."
     ]
    },
    {
     "name": "stderr",
     "output_type": "stream",
     "text": [
      "Processing <PIL.Image.Image image mode=RGB size=224x224 at 0x1DB8F7AFCA0>: 100%|██████████| 320/320 [00:00<00:00, 426.10 Samples/s]\n",
      "Processing <PIL.Image.Image image mode=RGB size=224x224 at 0x1DB8F6ADA30>:   3%|▎         | 17/500 [00:00<00:04, 117.96 Samples/s]"
     ]
    },
    {
     "name": "stdout",
     "output_type": "stream",
     "text": [
      "\n",
      " 500\n",
      "Initialised with 100 image(s) found.\n",
      "Output directory set to ./Images/Train/Brown_Spot\\output."
     ]
    },
    {
     "name": "stderr",
     "output_type": "stream",
     "text": [
      "Processing <PIL.Image.Image image mode=RGB size=224x224 at 0x1DB8F754580>: 100%|██████████| 500/500 [00:01<00:00, 398.84 Samples/s]\n",
      "Processing <PIL.Image.Image image mode=RGB size=224x224 at 0x1DB8F6D5FA0>:   2%|▏         | 10/420 [00:00<00:05, 73.59 Samples/s]"
     ]
    },
    {
     "name": "stdout",
     "output_type": "stream",
     "text": [
      "\n",
      " 420\n",
      "Initialised with 84 image(s) found.\n",
      "Output directory set to ./Images/Train/False_Smut\\output."
     ]
    },
    {
     "name": "stderr",
     "output_type": "stream",
     "text": [
      "Processing <PIL.Image.Image image mode=RGB size=224x224 at 0x1DB8F744E50>: 100%|██████████| 420/420 [00:01<00:00, 348.32 Samples/s]\n",
      "Processing <PIL.Image.Image image mode=RGB size=224x224 at 0x1DB8F6D99A0>:   2%|▏         | 18/1050 [00:00<00:06, 148.91 Samples/s]"
     ]
    },
    {
     "name": "stdout",
     "output_type": "stream",
     "text": [
      "\n",
      " 1050\n",
      "Initialised with 210 image(s) found.\n",
      "Output directory set to ./Images/Train/Healthy_Plant\\output."
     ]
    },
    {
     "name": "stderr",
     "output_type": "stream",
     "text": [
      "Processing <PIL.Image.Image image mode=RGB size=224x224 at 0x1DB8F8B2520>: 100%|██████████| 1050/1050 [00:02<00:00, 386.49 Samples/s] \n",
      "Processing <PIL.Image.Image image mode=RGB size=224x224 at 0x1DB8F712940>:   6%|▌         | 20/330 [00:00<00:02, 147.45 Samples/s]"
     ]
    },
    {
     "name": "stdout",
     "output_type": "stream",
     "text": [
      "\n",
      " 330\n",
      "Initialised with 66 image(s) found.\n",
      "Output directory set to ./Images/Train/Hispa\\output."
     ]
    },
    {
     "name": "stderr",
     "output_type": "stream",
     "text": [
      "Processing <PIL.Image.Image image mode=RGB size=224x224 at 0x1DB8F8840D0>: 100%|██████████| 330/330 [00:00<00:00, 355.41 Samples/s]\n",
      "Processing <PIL.Image.Image image mode=RGB size=224x224 at 0x1DB8F6FD9D0>:   1%|          | 13/1285 [00:00<00:12, 99.28 Samples/s]"
     ]
    },
    {
     "name": "stdout",
     "output_type": "stream",
     "text": [
      "\n",
      " 1285\n",
      "Initialised with 257 image(s) found.\n",
      "Output directory set to ./Images/Train/Neck_Blast\\output."
     ]
    },
    {
     "name": "stderr",
     "output_type": "stream",
     "text": [
      "Processing <PIL.Image.Image image mode=RGB size=224x224 at 0x1DB8F90DDF0>: 100%|██████████| 1285/1285 [00:03<00:00, 384.61 Samples/s] \n",
      "Processing <PIL.Image.Image image mode=RGB size=224x224 at 0x1DB8F760550>:   1%|          | 12/990 [00:00<00:08, 113.51 Samples/s]"
     ]
    },
    {
     "name": "stdout",
     "output_type": "stream",
     "text": [
      "\n",
      " 990\n",
      "Initialised with 198 image(s) found.\n",
      "Output directory set to ./Images/Train/Sheath_Blight_Rot\\output."
     ]
    },
    {
     "name": "stderr",
     "output_type": "stream",
     "text": [
      "Processing <PIL.Image.Image image mode=RGB size=224x224 at 0x1DB8F918430>: 100%|██████████| 990/990 [00:02<00:00, 383.71 Samples/s] \n",
      "Processing <PIL.Image.Image image mode=RGB size=224x224 at 0x1DB8F6AC130>:   1%|▏         | 12/900 [00:00<00:08, 109.20 Samples/s]"
     ]
    },
    {
     "name": "stdout",
     "output_type": "stream",
     "text": [
      "\n",
      " 900\n",
      "Initialised with 180 image(s) found.\n",
      "Output directory set to ./Images/Train/Stemborer\\output."
     ]
    },
    {
     "name": "stderr",
     "output_type": "stream",
     "text": [
      "Processing <PIL.Image.Image image mode=RGB size=224x224 at 0x1DB8F868490>: 100%|██████████| 900/900 [00:02<00:00, 362.56 Samples/s]\n"
     ]
    },
    {
     "name": "stdout",
     "output_type": "stream",
     "text": [
      "Before move -  744\n",
      "After move -  744\n",
      "Before move -  384\n",
      "After move -  384\n",
      "Before move -  600\n",
      "After move -  600\n",
      "Before move -  504\n",
      "After move -  504\n",
      "Before move -  1260\n",
      "After move -  1260\n",
      "Before move -  396\n",
      "After move -  396\n",
      "Before move -  1542\n",
      "After move -  1542\n",
      "Before move -  1188\n",
      "After move -  1188\n",
      "Before move -  1080\n",
      "After move -  1080\n",
      "Found 7698 images belonging to 9 classes.\n",
      "Train data length ======  7698\n",
      "Found 143 images belonging to 9 classes.\n",
      "Test data length ======  143\n",
      "InceptionV3\n",
      "Before Fine Tuning---->\n",
      "Model: \"model_6\"\n",
      "_________________________________________________________________\n",
      "Layer (type)                 Output Shape              Param #   \n",
      "=================================================================\n",
      "inputLayer (InputLayer)      [(None, 224, 224, 3)]     0         \n",
      "_________________________________________________________________\n",
      "inception_v3 (Functional)    (None, 5, 5, 2048)        21802784  \n",
      "_________________________________________________________________\n",
      "global_average_pooling2d_6 ( (None, 2048)              0         \n",
      "_________________________________________________________________\n",
      "flatten_6 (Flatten)          (None, 2048)              0         \n",
      "_________________________________________________________________\n",
      "dense_24 (Dense)             (None, 120)               245880    \n",
      "_________________________________________________________________\n",
      "dense_25 (Dense)             (None, 84)                10164     \n",
      "_________________________________________________________________\n",
      "dense_27 (Dense)             (None, 9)                 765       \n",
      "=================================================================\n",
      "Total params: 22,059,593\n",
      "Trainable params: 22,025,161\n",
      "Non-trainable params: 34,432\n",
      "_________________________________________________________________\n",
      "None\n",
      "Epoch 1/20\n",
      "321/321 [==============================] - 40s 101ms/step - loss: 1.8417 - categorical_accuracy: 0.3433 31s - loss: 2.1704 - categ - ETA: 29s - loss: 2.1057 - categorical_accuracy: 0.258 - ETA: 29s - loss: 2.1043 - categorical_accuracy: - ETA: 28s - loss: 2.0930 - categorical_accuracy: 0.26 - ETA: 28s - ETA: 23s  - ETA: 19s - loss: 1.9757 -  - ETA: 16s - los - ETA: 12s - loss: 1.9143 - categorical_accura - ETA: 11s - loss: 1.9070 - categorical_accur - ETA: 10s - loss: 1.8995 - categorical - ETA: 6s - loss: 1.8757 - categori - ETA: 5s - loss: 1.8700 - categorical_accuracy:  - ETA: 2s - loss: 1.8533 - categorical_accuracy: 0.33 - ETA: 2s - loss: 1.8528 - catego - ETA: 1s - loss: 1.8472 - categorical_ - ETA: 0s - loss: 1.8432 - categorical_accuracy: \n",
      "Epoch 2/20\n",
      "321/321 [==============================] - 33s 101ms/step - loss: 1.3858 - categorical_accuracy: 0.4998s - loss: 1.3863 - categorical_accura\n",
      "Epoch 3/20\n",
      "321/321 [==============================] - 33s 101ms/step - loss: 1.2052 - categorical_accuracy: 0.5707 32s -  - ETA: 7s - loss: 1.2138 - catego - ETA: 6s - loss: 1.2125 - categorical_accuracy: 0. - ETA: 3s - l - ETA: 1s - loss: 1.2065 - catego\n",
      "Epoch 4/20\n",
      "321/321 [==============================] - 32s 99ms/step - loss: 1.0497 - categorical_accuracy: 0.62642s\n",
      "Epoch 5/20\n",
      "321/321 [==============================] - 32s 99ms/step - loss: 0.8814 - categorical_accuracy: 0.6836: 30s - loss - ETA: 26s - loss: 0.8532 - categorical - ETA: 24s - ETA: 3s - loss: 0.8807 - categori\n",
      "Epoch 6/20\n",
      "321/321 [==============================] - 32s 100ms/step - loss: 0.8204 - categorical_accuracy: 0.7122s - loss: 0.8204 - categorical_ac\n",
      "Epoch 7/20\n",
      "321/321 [==============================] - 33s 103ms/step - loss: 0.7115 - categorical_accuracy: 0.7495 31s - loss: 0.7367 - categorical_accuracy: 0.699 - ETA: 31s - loss:  - ETA: 27s - loss\n",
      "Epoch 8/20\n",
      "321/321 [==============================] - 34s 105ms/step - loss: 0.6717 - categorical_accuracy: 0.7631\n",
      "Epoch 9/20\n",
      "321/321 [==============================] - 32s 101ms/step - loss: 0.5954 - categorical_accuracy: 0.7976s - loss: 0.5963 - categorical_accuracy: 0. - ETA\n",
      "Epoch 10/20\n",
      "321/321 [==============================] - 33s 102ms/step - loss: 0.5282 - categorical_accuracy: 0.8132 31s - loss: 0.5109 - categorical_accuracy - ETA: 30s - loss: 0.5119 - categorical_accuracy: 0. -\n",
      "Epoch 11/20\n",
      "321/321 [==============================] - 32s 101ms/step - loss: 0.4799 - categorical_accuracy: 0.8357\n",
      "Epoch 12/20\n",
      "321/321 [==============================] - 32s 101ms/step - loss: 0.4566 - categorical_accuracy: 0.8463\n",
      "Epoch 13/20\n",
      "321/321 [==============================] - 32s 100ms/step - loss: 0.3597 - categorical_accuracy: 0.8789s - loss: 0.3524 - categorical_accuracy:  - ETA: 4s - loss: 0.3529 - categorical_accuracy - ETA: 4s - loss: 0.3535 - cate - ETA: 0s - loss: 0.3590 - categorical_accu\n",
      "Epoch 14/20\n",
      "321/321 [==============================] - 32s 101ms/step - loss: 0.3490 - categorical_accuracy: 0.8776\n",
      "Epoch 15/20\n",
      "321/321 [==============================] - 32s 100ms/step - loss: 0.3256 - categorical_accuracy: 0.8894s -\n",
      "Epoch 16/20\n",
      "321/321 [==============================] - 33s 103ms/step - loss: 0.3153 - categorical_accuracy: 0.8944\n",
      "Epoch 17/20\n",
      "321/321 [==============================] - 33s 103ms/step - loss: 0.2770 - categorical_accuracy: 0.9081\n",
      "Epoch 18/20\n",
      "321/321 [==============================] - 32s 101ms/step - loss: 0.2434 - categorical_accuracy: 0.9157s - loss: 0.2 - ETA: 0s - loss: 0.2430 - categorical_accu\n",
      "Epoch 19/20\n",
      "321/321 [==============================] - 32s 101ms/step - loss: 0.2577 - categorical_accuracy: 0.9164\n",
      "Epoch 20/20\n",
      "321/321 [==============================] - 33s 101ms/step - loss: 0.2203 - categorical_accuracy: 0.9274s - loss: 0.219 - ETA: 1s - loss: 0.2197 -  - ETA: 0s - loss: 0.2202 - categorical_accuracy: 0.92\n",
      "***Performance on Training data***\n",
      "Accuracy  : 0.9237464070320129\n",
      "======================================*\n",
      "6/6 [==============================] - 2s 32ms/step\n",
      "***Performance on Validation data***\n",
      "Accuracy  : 0.5314685314685315\n",
      "Precision : 0.5507624016273261\n",
      "f1Score : 0.5340972237646407\n",
      "[[ 6  0  0  1  1  0  2  2  2]\n",
      " [ 0  3  0  0  0  0  0  3  1]\n",
      " [ 1  1  6  0  1  1  0  0  1]\n",
      " [ 0  0  0  6  0  0  2  1  0]\n",
      " [ 1  0  0  0 16  0  4  2  1]\n",
      " [ 0  0  0  1  0  4  1  0  1]\n",
      " [ 1  0  0  1  5  2 17  1  2]\n",
      " [ 4  2  0  1  2  0  1  9  2]\n",
      " [ 2  4  0  1  1  1  3  0  9]]\n",
      "\n",
      " Results for fold 7\n",
      "\n",
      " Folders Created ----->\n"
     ]
    },
    {
     "name": "stderr",
     "output_type": "stream",
     "text": [
      "Processing <PIL.Image.Image image mode=RGB size=224x224 at 0x1DC32381D30>:   4%|▍         | 24/620 [00:00<00:04, 146.35 Samples/s]"
     ]
    },
    {
     "name": "stdout",
     "output_type": "stream",
     "text": [
      "\n",
      " 620\n",
      "Initialised with 124 image(s) found.\n",
      "Output directory set to ./Images/Train/BLB\\output."
     ]
    },
    {
     "name": "stderr",
     "output_type": "stream",
     "text": [
      "Processing <PIL.Image.Image image mode=RGB size=224x224 at 0x1DC333692E0>: 100%|██████████| 620/620 [00:01<00:00, 378.78 Samples/s]\n",
      "Processing <PIL.Image.Image image mode=RGB size=224x224 at 0x1DC323EF430>:   6%|▌         | 18/320 [00:00<00:02, 118.53 Samples/s]"
     ]
    },
    {
     "name": "stdout",
     "output_type": "stream",
     "text": [
      "\n",
      " 320\n",
      "Initialised with 64 image(s) found.\n",
      "Output directory set to ./Images/Train/BPH\\output."
     ]
    },
    {
     "name": "stderr",
     "output_type": "stream",
     "text": [
      "Processing <PIL.Image.Image image mode=RGB size=224x224 at 0x1DC333EB4C0>: 100%|██████████| 320/320 [00:00<00:00, 370.02 Samples/s]\n",
      "Processing <PIL.Image.Image image mode=RGB size=224x224 at 0x1DC323E5E80>:   3%|▎         | 15/500 [00:00<00:03, 138.57 Samples/s]"
     ]
    },
    {
     "name": "stdout",
     "output_type": "stream",
     "text": [
      "\n",
      " 500\n",
      "Initialised with 100 image(s) found.\n",
      "Output directory set to ./Images/Train/Brown_Spot\\output."
     ]
    },
    {
     "name": "stderr",
     "output_type": "stream",
     "text": [
      "Processing <PIL.Image.Image image mode=RGB size=224x224 at 0x1DC32390EE0>: 100%|██████████| 500/500 [00:01<00:00, 347.27 Samples/s]\n",
      "Processing <PIL.Image.Image image mode=RGB size=224x224 at 0x1DC323D2A00>:   2%|▏         | 8/420 [00:00<00:05, 77.88 Samples/s]"
     ]
    },
    {
     "name": "stdout",
     "output_type": "stream",
     "text": [
      "\n",
      " 420\n",
      "Initialised with 84 image(s) found.\n",
      "Output directory set to ./Images/Train/False_Smut\\output."
     ]
    },
    {
     "name": "stderr",
     "output_type": "stream",
     "text": [
      "Processing <PIL.Image.Image image mode=RGB size=224x224 at 0x1DC333ECA60>: 100%|██████████| 420/420 [00:01<00:00, 341.54 Samples/s]\n",
      "Processing <PIL.Image.Image image mode=RGB size=224x224 at 0x1DC333C5190>:   1%|          | 9/1050 [00:00<00:10, 94.66 Samples/s]"
     ]
    },
    {
     "name": "stdout",
     "output_type": "stream",
     "text": [
      "\n",
      " 1050\n",
      "Initialised with 210 image(s) found.\n",
      "Output directory set to ./Images/Train/Healthy_Plant\\output."
     ]
    },
    {
     "name": "stderr",
     "output_type": "stream",
     "text": [
      "Processing <PIL.Image.Image image mode=RGB size=224x224 at 0x1DC38443C40>: 100%|██████████| 1050/1050 [00:02<00:00, 350.85 Samples/s] \n",
      "Processing <PIL.Image.Image image mode=RGB size=224x224 at 0x1DC323636D0>:   7%|▋         | 24/330 [00:00<00:02, 137.45 Samples/s]"
     ]
    },
    {
     "name": "stdout",
     "output_type": "stream",
     "text": [
      "\n",
      " 330\n",
      "Initialised with 66 image(s) found.\n",
      "Output directory set to ./Images/Train/Hispa\\output."
     ]
    },
    {
     "name": "stderr",
     "output_type": "stream",
     "text": [
      "Processing <PIL.Image.Image image mode=RGB size=224x224 at 0x1DC32405250>: 100%|██████████| 330/330 [00:00<00:00, 396.13 Samples/s]\n",
      "Processing <PIL.Image.Image image mode=RGB size=224x224 at 0x1DC333FFFA0>:   0%|          | 6/1290 [00:00<00:17, 73.79 Samples/s]"
     ]
    },
    {
     "name": "stdout",
     "output_type": "stream",
     "text": [
      "\n",
      " 1290\n",
      "Initialised with 258 image(s) found.\n",
      "Output directory set to ./Images/Train/Neck_Blast\\output."
     ]
    },
    {
     "name": "stderr",
     "output_type": "stream",
     "text": [
      "Processing <PIL.Image.Image image mode=RGB size=224x224 at 0x1DC384D4400>: 100%|██████████| 1290/1290 [00:03<00:00, 351.95 Samples/s] \n",
      "Processing <PIL.Image.Image image mode=RGB size=224x224 at 0x1DC32381850>:   0%|          | 1/985 [00:00<00:58, 16.70 Samples/s]"
     ]
    },
    {
     "name": "stdout",
     "output_type": "stream",
     "text": [
      "\n",
      " 985\n",
      "Initialised with 197 image(s) found.\n",
      "Output directory set to ./Images/Train/Sheath_Blight_Rot\\output."
     ]
    },
    {
     "name": "stderr",
     "output_type": "stream",
     "text": [
      "Processing <PIL.Image.Image image mode=RGB size=224x224 at 0x1DC383C5A60>: 100%|██████████| 985/985 [00:02<00:00, 361.91 Samples/s] \n",
      "Processing <PIL.Image.Image image mode=RGB size=224x224 at 0x1DC383C4910>:   1%|          | 11/905 [00:00<00:09, 98.78 Samples/s]"
     ]
    },
    {
     "name": "stdout",
     "output_type": "stream",
     "text": [
      "\n",
      " 905\n",
      "Initialised with 181 image(s) found.\n",
      "Output directory set to ./Images/Train/Stemborer\\output."
     ]
    },
    {
     "name": "stderr",
     "output_type": "stream",
     "text": [
      "Processing <PIL.Image.Image image mode=RGB size=224x224 at 0x1DC384230A0>: 100%|██████████| 905/905 [00:02<00:00, 362.30 Samples/s] \n"
     ]
    },
    {
     "name": "stdout",
     "output_type": "stream",
     "text": [
      "Before move -  744\n",
      "After move -  744\n",
      "Before move -  384\n",
      "After move -  384\n",
      "Before move -  600\n",
      "After move -  600\n",
      "Before move -  504\n",
      "After move -  504\n",
      "Before move -  1260\n",
      "After move -  1260\n",
      "Before move -  396\n",
      "After move -  396\n",
      "Before move -  1548\n",
      "After move -  1548\n",
      "Before move -  1182\n",
      "After move -  1182\n",
      "Before move -  1086\n",
      "After move -  1086\n",
      "Found 7704 images belonging to 9 classes.\n",
      "Train data length ======  7704\n",
      "Found 142 images belonging to 9 classes.\n",
      "Test data length ======  142\n",
      "InceptionV3\n",
      "Before Fine Tuning---->\n",
      "Model: \"model_7\"\n",
      "_________________________________________________________________\n",
      "Layer (type)                 Output Shape              Param #   \n",
      "=================================================================\n",
      "inputLayer (InputLayer)      [(None, 224, 224, 3)]     0         \n",
      "_________________________________________________________________\n",
      "inception_v3 (Functional)    (None, 5, 5, 2048)        21802784  \n",
      "_________________________________________________________________\n",
      "global_average_pooling2d_7 ( (None, 2048)              0         \n",
      "_________________________________________________________________\n",
      "flatten_7 (Flatten)          (None, 2048)              0         \n",
      "_________________________________________________________________\n",
      "dense_28 (Dense)             (None, 120)               245880    \n",
      "_________________________________________________________________\n",
      "dense_29 (Dense)             (None, 84)                10164     \n",
      "_________________________________________________________________\n",
      "dense_31 (Dense)             (None, 9)                 765       \n",
      "=================================================================\n",
      "Total params: 22,059,593\n",
      "Trainable params: 22,025,161\n",
      "Non-trainable params: 34,432\n",
      "_________________________________________________________________\n",
      "None\n",
      "Epoch 1/20\n",
      "321/321 [==============================] - 40s 102ms/step - loss: 1.8714 - categorical_accuracy: 0.3204\n",
      "Epoch 2/20\n",
      "321/321 [==============================] - 33s 103ms/step - loss: 1.3718 - categorical_accuracy: 0.5174\n",
      "Epoch 3/20\n",
      "321/321 [==============================] - 33s 104ms/step - loss: 1.1420 - categorical_accuracy: 0.5879\n",
      "Epoch 4/20\n",
      "321/321 [==============================] - 33s 103ms/step - loss: 0.9823 - categorical_accuracy: 0.6525\n",
      "Epoch 5/20\n",
      "321/321 [==============================] - 33s 103ms/step - loss: 0.8814 - categorical_accuracy: 0.6888s - loss: 0.8816 - ca\n",
      "Epoch 6/20\n",
      "321/321 [==============================] - 33s 104ms/step - loss: 0.7585 - categorical_accuracy: 0.7330\n",
      "Epoch 7/20\n",
      "321/321 [==============================] - 32s 101ms/step - loss: 0.7023 - categorical_accuracy: 0.7478\n",
      "Epoch 8/20\n",
      "321/321 [==============================] - 33s 104ms/step - loss: 0.6198 - categorical_accuracy: 0.7825\n",
      "Epoch 9/20\n",
      "321/321 [==============================] - 33s 102ms/step - loss: 0.5886 - categorical_accuracy: 0.7902s - loss:\n",
      "Epoch 10/20\n",
      "321/321 [==============================] - 33s 103ms/step - loss: 0.5306 - categorical_accuracy: 0.8110\n",
      "Epoch 11/20\n",
      "321/321 [==============================] - 34s 105ms/step - loss: 0.4619 - categorical_accuracy: 0.8397s - loss: 0.4587 - categori - - ETA: 3s - loss: 0.4608 - categorical_accuracy: 0.83 - ETA: 3s - loss: 0.4608 - categori\n",
      "Epoch 12/20\n",
      "321/321 [==============================] - 32s 100ms/step - loss: 0.4239 - categorical_accuracy: 0.8501s - loss: 0.4219 - categorical_accura - ETA: 6s - loss: 0.4219 - categorical_accuracy: 0. - ETA: 6s - l - ETA: 1s - loss: 0.4235 - categorical_accuracy: 0.85 - ETA: 1s - loss: 0.4235 - catego\n",
      "Epoch 13/20\n",
      "321/321 [==============================] - 36s 113ms/step - loss: 0.3817 - categorical_accuracy: 0.8634\n",
      "Epoch 14/20\n",
      "321/321 [==============================] - 36s 112ms/step - loss: 0.3383 - categorical_accuracy: 0.8831\n",
      "Epoch 15/20\n",
      "321/321 [==============================] - 33s 103ms/step - loss: 0.3337 - categorical_accuracy: 0.8894\n",
      "Epoch 16/20\n",
      "321/321 [==============================] - 33s 101ms/step - loss: 0.2866 - categorical_accuracy: 0.9060s - loss: 0.2845 - ca - ETA: 3s - loss: 0.2850 - categorical_\n",
      "Epoch 17/20\n",
      "321/321 [==============================] - 33s 101ms/step - loss: 0.2625 - categorical_accuracy: 0.9145 16s - loss: \n",
      "Epoch 18/20\n",
      "321/321 [==============================] - 33s 104ms/step - loss: 0.2579 - categorical_accuracy: 0.9132\n",
      "Epoch 19/20\n",
      "321/321 [==============================] - 32s 101ms/step - loss: 0.2227 - categorical_accuracy: 0.9211s - loss: 0.2214 - categorical_ac\n",
      "Epoch 20/20\n",
      "321/321 [==============================] - 33s 104ms/step - loss: 0.2297 - categorical_accuracy: 0.9224\n",
      "***Performance on Training data***\n",
      "Accuracy  : 0.9183540940284729\n",
      "======================================*\n",
      "6/6 [==============================] - 2s 169ms/step\n",
      "***Performance on Validation data***\n",
      "Accuracy  : 0.4859154929577465\n",
      "Precision : 0.4926952063256734\n",
      "f1Score : 0.4832133771439301\n",
      "[[ 5  0  0  0  0  1  4  2  2]\n",
      " [ 0  5  0  0  0  0  1  1  0]\n",
      " [ 1  0  5  0  0  0  1  1  3]\n",
      " [ 0  0  0  4  0  1  3  1  0]\n",
      " [ 0  0  0  3 11  0  2  6  2]\n",
      " [ 1  1  0  0  0  5  0  0  0]\n",
      " [ 3  2  3  1  4  0 13  0  2]\n",
      " [ 0  0  0  1  3  2  1 13  2]\n",
      " [ 0  4  0  0  2  1  5  0  8]]\n",
      "\n",
      " Results for fold 8\n",
      "\n",
      " Folders Created ----->\n"
     ]
    },
    {
     "name": "stderr",
     "output_type": "stream",
     "text": [
      "Processing <PIL.Image.Image image mode=RGB size=224x224 at 0x1DB8E2A17C0>:   3%|▎         | 20/620 [00:00<00:05, 119.13 Samples/s]"
     ]
    },
    {
     "name": "stdout",
     "output_type": "stream",
     "text": [
      "\n",
      " 620\n",
      "Initialised with 124 image(s) found.\n",
      "Output directory set to ./Images/Train/BLB\\output."
     ]
    },
    {
     "name": "stderr",
     "output_type": "stream",
     "text": [
      "Processing <PIL.Image.Image image mode=RGB size=224x224 at 0x1DB8EBE5EE0>: 100%|██████████| 620/620 [00:01<00:00, 380.45 Samples/s]\n",
      "Processing <PIL.Image.Image image mode=RGB size=224x224 at 0x1DB8E2DC2B0>:   5%|▍         | 15/320 [00:00<00:02, 136.29 Samples/s]"
     ]
    },
    {
     "name": "stdout",
     "output_type": "stream",
     "text": [
      "\n",
      " 320\n",
      "Initialised with 64 image(s) found.\n",
      "Output directory set to ./Images/Train/BPH\\output."
     ]
    },
    {
     "name": "stderr",
     "output_type": "stream",
     "text": [
      "Processing <PIL.Image.Image image mode=RGB size=224x224 at 0x1DB8E35A610>: 100%|██████████| 320/320 [00:00<00:00, 365.02 Samples/s]\n",
      "Processing <PIL.Image.Image image mode=RGB size=224x224 at 0x1DB8E2C0B80>:   3%|▎         | 16/500 [00:00<00:03, 134.97 Samples/s]"
     ]
    },
    {
     "name": "stdout",
     "output_type": "stream",
     "text": [
      "\n",
      " 500\n",
      "Initialised with 100 image(s) found.\n",
      "Output directory set to ./Images/Train/Brown_Spot\\output."
     ]
    },
    {
     "name": "stderr",
     "output_type": "stream",
     "text": [
      "Processing <PIL.Image.Image image mode=RGB size=224x224 at 0x1DB8E2DCB20>: 100%|██████████| 500/500 [00:01<00:00, 335.57 Samples/s]\n",
      "Processing <PIL.Image.Image image mode=RGB size=224x224 at 0x1DB8E332C70>:   3%|▎         | 11/420 [00:00<00:04, 98.30 Samples/s]"
     ]
    },
    {
     "name": "stdout",
     "output_type": "stream",
     "text": [
      "\n",
      " 420\n",
      "Initialised with 84 image(s) found.\n",
      "Output directory set to ./Images/Train/False_Smut\\output."
     ]
    },
    {
     "name": "stderr",
     "output_type": "stream",
     "text": [
      "Processing <PIL.Image.Image image mode=RGB size=224x224 at 0x1DB8E2B0AC0>: 100%|██████████| 420/420 [00:01<00:00, 351.81 Samples/s]\n",
      "Processing <PIL.Image.Image image mode=RGB size=224x224 at 0x1DB8EC7F2B0>:   1%|          | 6/1055 [00:00<00:15, 68.36 Samples/s]"
     ]
    },
    {
     "name": "stdout",
     "output_type": "stream",
     "text": [
      "\n",
      " 1055\n",
      "Initialised with 211 image(s) found.\n",
      "Output directory set to ./Images/Train/Healthy_Plant\\output."
     ]
    },
    {
     "name": "stderr",
     "output_type": "stream",
     "text": [
      "Processing <PIL.Image.Image image mode=RGB size=224x224 at 0x1DB8F0FFA00>: 100%|██████████| 1055/1055 [00:03<00:00, 344.23 Samples/s] \n",
      "Processing <PIL.Image.Image image mode=RGB size=224x224 at 0x1DB8EC647F0>:   4%|▍         | 14/325 [00:00<00:03, 78.64 Samples/s]"
     ]
    },
    {
     "name": "stdout",
     "output_type": "stream",
     "text": [
      "\n",
      " 325\n",
      "Initialised with 65 image(s) found.\n",
      "Output directory set to ./Images/Train/Hispa\\output."
     ]
    },
    {
     "name": "stderr",
     "output_type": "stream",
     "text": [
      "Processing <PIL.Image.Image image mode=RGB size=224x224 at 0x1DB8E2D2CD0>: 100%|██████████| 325/325 [00:00<00:00, 329.49 Samples/s]\n",
      "Processing <PIL.Image.Image image mode=RGB size=224x224 at 0x1DB8E354EB0>:   1%|          | 9/1290 [00:00<00:12, 102.55 Samples/s]"
     ]
    },
    {
     "name": "stdout",
     "output_type": "stream",
     "text": [
      "\n",
      " 1290\n",
      "Initialised with 258 image(s) found.\n",
      "Output directory set to ./Images/Train/Neck_Blast\\output."
     ]
    },
    {
     "name": "stderr",
     "output_type": "stream",
     "text": [
      "Processing <PIL.Image.Image image mode=RGB size=224x224 at 0x1DB8F15DF70>: 100%|██████████| 1290/1290 [00:03<00:00, 347.98 Samples/s] \n",
      "Processing <PIL.Image.Image image mode=RGB size=224x224 at 0x1DB8E2C5520>:   1%|          | 7/985 [00:00<00:26, 36.80 Samples/s]"
     ]
    },
    {
     "name": "stdout",
     "output_type": "stream",
     "text": [
      "\n",
      " 985\n",
      "Initialised with 197 image(s) found.\n",
      "Output directory set to ./Images/Train/Sheath_Blight_Rot\\output."
     ]
    },
    {
     "name": "stderr",
     "output_type": "stream",
     "text": [
      "Processing <PIL.Image.Image image mode=RGB size=224x224 at 0x1DB8E354130>: 100%|██████████| 985/985 [00:02<00:00, 330.87 Samples/s] \n",
      "Processing <PIL.Image.Image image mode=RGB size=224x224 at 0x1DB8E354400>:   1%|          | 9/905 [00:00<00:09, 93.03 Samples/s]"
     ]
    },
    {
     "name": "stdout",
     "output_type": "stream",
     "text": [
      "\n",
      " 905\n",
      "Initialised with 181 image(s) found.\n",
      "Output directory set to ./Images/Train/Stemborer\\output."
     ]
    },
    {
     "name": "stderr",
     "output_type": "stream",
     "text": [
      "Processing <PIL.Image.Image image mode=RGB size=224x224 at 0x1DB8EB512E0>: 100%|██████████| 905/905 [00:02<00:00, 326.64 Samples/s] \n"
     ]
    },
    {
     "name": "stdout",
     "output_type": "stream",
     "text": [
      "Before move -  744\n",
      "After move -  744\n",
      "Before move -  384\n",
      "After move -  384\n",
      "Before move -  600\n",
      "After move -  600\n",
      "Before move -  504\n",
      "After move -  504\n",
      "Before move -  1266\n",
      "After move -  1266\n",
      "Before move -  390\n",
      "After move -  390\n",
      "Before move -  1548\n",
      "After move -  1548\n",
      "Before move -  1182\n",
      "After move -  1182\n",
      "Before move -  1086\n",
      "After move -  1086\n",
      "Found 7704 images belonging to 9 classes.\n",
      "Train data length ======  7704\n",
      "Found 142 images belonging to 9 classes.\n",
      "Test data length ======  142\n",
      "InceptionV3\n",
      "Before Fine Tuning---->\n",
      "Model: \"model_8\"\n",
      "_________________________________________________________________\n",
      "Layer (type)                 Output Shape              Param #   \n",
      "=================================================================\n",
      "inputLayer (InputLayer)      [(None, 224, 224, 3)]     0         \n",
      "_________________________________________________________________\n",
      "inception_v3 (Functional)    (None, 5, 5, 2048)        21802784  \n",
      "_________________________________________________________________\n",
      "global_average_pooling2d_8 ( (None, 2048)              0         \n",
      "_________________________________________________________________\n",
      "flatten_8 (Flatten)          (None, 2048)              0         \n",
      "_________________________________________________________________\n",
      "dense_32 (Dense)             (None, 120)               245880    \n",
      "_________________________________________________________________\n",
      "dense_33 (Dense)             (None, 84)                10164     \n",
      "_________________________________________________________________\n",
      "dense_35 (Dense)             (None, 9)                 765       \n",
      "=================================================================\n",
      "Total params: 22,059,593\n",
      "Trainable params: 22,025,161\n",
      "Non-trainable params: 34,432\n",
      "_________________________________________________________________\n",
      "None\n",
      "Epoch 1/20\n",
      "321/321 [==============================] - 40s 103ms/step - loss: 1.8569 - categorical_accuracy: 0.3127 28s - loss: 2.1214 - categorical_accuracy - ETA: 27s - loss: 2.1081 - categorical_accuracy: 0.20 - ETA: 27 - ETA: 22s - loss: 2.0313 - categorical_accu - ETA: 21s - loss: 2.0163 - categorical_accuracy:  - ETA: 20s - - ETA: 10s - loss: 1.9212 - categorical_acc - ETA: 9s - loss: 1.9143 - categorical_ - ETA: 8s - loss: 1.9088 - categorical_accu - ETA: 8s - l - ETA: 6s - loss: 1.8911  - ETA: 4s - loss: 1\n",
      "Epoch 2/20\n",
      "321/321 [==============================] - 34s 105ms/step - loss: 1.3925 - categorical_accuracy: 0.4969\n",
      "Epoch 3/20\n",
      "321/321 [==============================] - 33s 103ms/step - loss: 1.1907 - categorical_accuracy: 0.5780s - loss: 1.1978 - catego - ETA: 6s - loss: 1.1967 - categorical_ac - ETA: 5s - loss: 1.1961 -  - ETA: 4s - loss: 1.1949 - categorica - ETA: 3s - loss: 1.1941 - categorical_\n",
      "Epoch 4/20\n",
      "321/321 [==============================] - 33s 104ms/step - loss: 1.0467 - categorical_accuracy: 0.6233\n",
      "Epoch 5/20\n",
      "321/321 [==============================] - 33s 103ms/step - loss: 0.8872 - categorical_accuracy: 0.6944\n",
      "Epoch 6/20\n",
      "321/321 [==============================] - 33s 103ms/step - loss: 0.7867 - categorical_accuracy: 0.7234\n",
      "Epoch 7/20\n",
      "321/321 [==============================] - 33s 104ms/step - loss: 0.7419 - categorical_accuracy: 0.7413s - l\n",
      "Epoch 8/20\n",
      "321/321 [==============================] - 34s 104ms/step - loss: 0.6645 - categorical_accuracy: 0.7689\n",
      "Epoch 9/20\n",
      "321/321 [==============================] - 33s 103ms/step - loss: 0.5950 - categorical_accuracy: 0.7962\n",
      "Epoch 10/20\n",
      "321/321 [==============================] - 34s 107ms/step - loss: 0.5152 - categorical_accuracy: 0.8227s - loss: 0.5149 - cate\n",
      "Epoch 11/20\n",
      "321/321 [==============================] - 32s 101ms/step - loss: 0.4741 - categorical_accuracy: 0.8390 18s - loss: 0.4779 - categorical_ac - ETA: 16s - loss - ETA: 12s - loss - ETA: 3s - loss: - ETA: 1s - loss: 0\n",
      "Epoch 12/20\n",
      "321/321 [==============================] - 34s 107ms/step - loss: 0.4386 - categorical_accuracy: 0.8483\n",
      "Epoch 13/20\n",
      "321/321 [==============================] - 33s 102ms/step - loss: 0.4001 - categorical_accuracy: 0.8618s - loss: 0.3999 - ca\n",
      "Epoch 14/20\n",
      "321/321 [==============================] - 32s 100ms/step - loss: 0.3436 - categorical_accuracy: 0.8822 19s - loss: 0.3103 - categorical_acc - ETA: 17s - loss: 0.3137 - categorical_accuracy: 0.89 - ETA: 17s - loss: 0.3142 -  - ETA: 14s - loss: 0.3202 - - ETA: 11s - loss: - ETA: 9s - loss: 0.3311 - categorical_accuracy - ETA: 8s - loss: - ETA: 6s - loss: 0.3345 - categorica - ETA: 5s - loss: 0.3358 - categori - ETA: 2s -\n",
      "Epoch 15/20\n",
      "321/321 [==============================] - 33s 101ms/step - loss: 0.3438 - categorical_accuracy: 0.8796\n",
      "Epoch 16/20\n",
      "321/321 [==============================] - 32s 100ms/step - loss: 0.3063 - categorical_accuracy: 0.8982\n",
      "Epoch 17/20\n",
      "321/321 [==============================] - 32s 100ms/step - loss: 0.2973 - categorical_accuracy: 0.9011ETA: 2s - loss: 0.2985 - cate - ETA: 1s - loss: 0\n",
      "Epoch 18/20\n",
      "321/321 [==============================] - 32s 101ms/step - loss: 0.2786 - categorical_accuracy: 0.9063 27s - loss: 0.2395 - ca - ETA: 25s - loss: 0.2620 - categorical_accuracy: 0 - ETA: 24s - loss: 0.264 - ETA: 21s - loss: 0.2720 - categorical_accuracy: 0. - ETA: 21s - loss: 0.2725 - categorical_accuracy: 0.90 - ETA: 20s - loss: 0.2727 - categor - ETA: 18s - - ETA: 14s - loss: 0.2759 - categorical_accu - ETA: 13s - loss: 0.2762 - categorical_ac - ETA: \n",
      "Epoch 19/20\n",
      "321/321 [==============================] - 32s 100ms/step - loss: 0.2451 - categorical_accuracy: 0.9210\n",
      "Epoch 20/20\n",
      "321/321 [==============================] - 32s 100ms/step - loss: 0.2358 - categorical_accuracy: 0.9210\n",
      "***Performance on Training data***\n",
      "Accuracy  : 0.9127725958824158\n",
      "======================================*\n",
      "6/6 [==============================] - 2s 32ms/step\n",
      "***Performance on Validation data***\n",
      "Accuracy  : 0.47183098591549294\n",
      "Precision : 0.4775846219508191\n",
      "f1Score : 0.46148528528227367\n",
      "[[ 6  0  1  0  1  0  4  1  1]\n",
      " [ 0  5  0  0  2  0  0  0  0]\n",
      " [ 0  0  8  0  0  0  0  2  1]\n",
      " [ 0  0  0  6  0  0  2  1  0]\n",
      " [ 0  0  1  3 12  0  1  5  1]\n",
      " [ 1  1  1  1  0  1  1  2  0]\n",
      " [ 0  1  1  2  5  0 13  5  1]\n",
      " [ 3  0  1  0  4  1  0 11  2]\n",
      " [ 1  3  0  1  0  1  3  6  5]]\n",
      "\n",
      " Results for fold 9\n",
      "\n",
      " Folders Created ----->\n"
     ]
    },
    {
     "name": "stderr",
     "output_type": "stream",
     "text": [
      "Processing <PIL.Image.Image image mode=RGB size=224x224 at 0x1DC4D7D1B50>:   4%|▍         | 27/625 [00:00<00:03, 161.13 Samples/s]"
     ]
    },
    {
     "name": "stdout",
     "output_type": "stream",
     "text": [
      "\n",
      " 625\n",
      "Initialised with 125 image(s) found.\n",
      "Output directory set to ./Images/Train/BLB\\output."
     ]
    },
    {
     "name": "stderr",
     "output_type": "stream",
     "text": [
      "Processing <PIL.Image.Image image mode=RGB size=224x224 at 0x1DBF8323940>: 100%|██████████| 625/625 [00:01<00:00, 381.71 Samples/s]\n",
      "Processing <PIL.Image.Image image mode=RGB size=224x224 at 0x1DBEF6C5D60>:   2%|▏         | 5/315 [00:00<00:04, 77.02 Samples/s]"
     ]
    },
    {
     "name": "stdout",
     "output_type": "stream",
     "text": [
      "\n",
      " 315\n",
      "Initialised with 63 image(s) found.\n",
      "Output directory set to ./Images/Train/BPH\\output."
     ]
    },
    {
     "name": "stderr",
     "output_type": "stream",
     "text": [
      "Processing <PIL.Image.Image image mode=RGB size=224x224 at 0x1DBEF7540A0>: 100%|██████████| 315/315 [00:00<00:00, 381.12 Samples/s]\n",
      "Processing <PIL.Image.Image image mode=RGB size=224x224 at 0x1DC4D7C2070>:   4%|▍         | 22/500 [00:00<00:03, 159.26 Samples/s]"
     ]
    },
    {
     "name": "stdout",
     "output_type": "stream",
     "text": [
      "\n",
      " 500\n",
      "Initialised with 100 image(s) found.\n",
      "Output directory set to ./Images/Train/Brown_Spot\\output."
     ]
    },
    {
     "name": "stderr",
     "output_type": "stream",
     "text": [
      "Processing <PIL.Image.Image image mode=RGB size=224x224 at 0x1DBF5D52970>: 100%|██████████| 500/500 [00:01<00:00, 386.16 Samples/s]\n",
      "Processing <PIL.Image.Image image mode=RGB size=224x224 at 0x1DC4D7ACB20>:   3%|▎         | 13/420 [00:00<00:05, 79.55 Samples/s]"
     ]
    },
    {
     "name": "stdout",
     "output_type": "stream",
     "text": [
      "\n",
      " 420\n",
      "Initialised with 84 image(s) found.\n",
      "Output directory set to ./Images/Train/False_Smut\\output."
     ]
    },
    {
     "name": "stderr",
     "output_type": "stream",
     "text": [
      "Processing <PIL.Image.Image image mode=RGB size=224x224 at 0x1DBEF6F6CA0>: 100%|██████████| 420/420 [00:01<00:00, 351.53 Samples/s]\n",
      "Processing <PIL.Image.Image image mode=RGB size=224x224 at 0x1DC4D7BB9A0>:   1%|          | 12/1055 [00:00<00:11, 89.53 Samples/s]"
     ]
    },
    {
     "name": "stdout",
     "output_type": "stream",
     "text": [
      "\n",
      " 1055\n",
      "Initialised with 211 image(s) found.\n",
      "Output directory set to ./Images/Train/Healthy_Plant\\output."
     ]
    },
    {
     "name": "stderr",
     "output_type": "stream",
     "text": [
      "Processing <PIL.Image.Image image mode=RGB size=224x224 at 0x1DC53EC85B0>: 100%|██████████| 1055/1055 [00:03<00:00, 343.69 Samples/s] \n",
      "Processing <PIL.Image.Image image mode=RGB size=224x224 at 0x1DC4D7BEBE0>:   5%|▍         | 16/325 [00:00<00:02, 109.64 Samples/s]"
     ]
    },
    {
     "name": "stdout",
     "output_type": "stream",
     "text": [
      "\n",
      " 325\n",
      "Initialised with 65 image(s) found.\n",
      "Output directory set to ./Images/Train/Hispa\\output."
     ]
    },
    {
     "name": "stderr",
     "output_type": "stream",
     "text": [
      "Processing <PIL.Image.Image image mode=RGB size=224x224 at 0x1DC53F68580>: 100%|██████████| 325/325 [00:00<00:00, 365.51 Samples/s]\n"
     ]
    },
    {
     "name": "stdout",
     "output_type": "stream",
     "text": [
      "\n",
      " 1290\n"
     ]
    },
    {
     "name": "stderr",
     "output_type": "stream",
     "text": [
      "Processing <PIL.Image.Image image mode=RGB size=224x224 at 0x1DBF5D7BD60>:   2%|▏         | 27/1290 [00:00<00:11, 111.97 Samples/s]"
     ]
    },
    {
     "name": "stdout",
     "output_type": "stream",
     "text": [
      "Initialised with 258 image(s) found.\n",
      "Output directory set to ./Images/Train/Neck_Blast\\output."
     ]
    },
    {
     "name": "stderr",
     "output_type": "stream",
     "text": [
      "Processing <PIL.Image.Image image mode=RGB size=224x224 at 0x1DC53FCA670>: 100%|██████████| 1290/1290 [00:03<00:00, 366.67 Samples/s] \n",
      "Processing <PIL.Image.Image image mode=RGB size=224x224 at 0x1DC4D7D1790>:   1%|          | 11/985 [00:00<00:12, 79.74 Samples/s]"
     ]
    },
    {
     "name": "stdout",
     "output_type": "stream",
     "text": [
      "\n",
      " 985\n",
      "Initialised with 197 image(s) found.\n",
      "Output directory set to ./Images/Train/Sheath_Blight_Rot\\output."
     ]
    },
    {
     "name": "stderr",
     "output_type": "stream",
     "text": [
      "Processing <PIL.Image.Image image mode=RGB size=224x224 at 0x1DC53EDFE50>: 100%|██████████| 985/985 [00:02<00:00, 371.14 Samples/s] \n",
      "Processing <PIL.Image.Image image mode=RGB size=224x224 at 0x1DC53FA3820>:   1%|▏         | 12/905 [00:00<00:12, 69.72 Samples/s]"
     ]
    },
    {
     "name": "stdout",
     "output_type": "stream",
     "text": [
      "\n",
      " 905\n",
      "Initialised with 181 image(s) found.\n",
      "Output directory set to ./Images/Train/Stemborer\\output."
     ]
    },
    {
     "name": "stderr",
     "output_type": "stream",
     "text": [
      "Processing <PIL.Image.Image image mode=RGB size=224x224 at 0x1DC53FC8BE0>: 100%|██████████| 905/905 [00:02<00:00, 355.39 Samples/s]\n"
     ]
    },
    {
     "name": "stdout",
     "output_type": "stream",
     "text": [
      "Before move -  750\n",
      "After move -  750\n",
      "Before move -  378\n",
      "After move -  378\n",
      "Before move -  600\n",
      "After move -  600\n",
      "Before move -  504\n",
      "After move -  504\n",
      "Before move -  1266\n",
      "After move -  1266\n",
      "Before move -  390\n",
      "After move -  390\n",
      "Before move -  1548\n",
      "After move -  1548\n",
      "Before move -  1182\n",
      "After move -  1182\n",
      "Before move -  1086\n",
      "After move -  1086\n",
      "Found 7704 images belonging to 9 classes.\n",
      "Train data length ======  7704\n",
      "Found 142 images belonging to 9 classes.\n",
      "Test data length ======  142\n",
      "InceptionV3\n",
      "Before Fine Tuning---->\n",
      "Model: \"model_9\"\n",
      "_________________________________________________________________\n",
      "Layer (type)                 Output Shape              Param #   \n",
      "=================================================================\n",
      "inputLayer (InputLayer)      [(None, 224, 224, 3)]     0         \n",
      "_________________________________________________________________\n",
      "inception_v3 (Functional)    (None, 5, 5, 2048)        21802784  \n",
      "_________________________________________________________________\n",
      "global_average_pooling2d_9 ( (None, 2048)              0         \n",
      "_________________________________________________________________\n",
      "flatten_9 (Flatten)          (None, 2048)              0         \n",
      "_________________________________________________________________\n",
      "dense_36 (Dense)             (None, 120)               245880    \n",
      "_________________________________________________________________\n",
      "dense_37 (Dense)             (None, 84)                10164     \n",
      "_________________________________________________________________\n",
      "dense_39 (Dense)             (None, 9)                 765       \n",
      "=================================================================\n",
      "Total params: 22,059,593\n",
      "Trainable params: 22,025,161\n",
      "Non-trainable params: 34,432\n",
      "_________________________________________________________________\n",
      "None\n",
      "Epoch 1/20\n",
      "321/321 [==============================] - 39s 101ms/step - loss: 1.8801 - categorical_accuracy: 0.3004 - ETA: 25s - loss: 2.0651 - categorical_accurac - ETA: 24s - loss: 2.0545 - categorical_accuracy: 0 - ETA: 23s - loss: 2.0491 - categorical_accuracy: - ETA: 22s\n",
      "Epoch 2/20\n",
      "321/321 [==============================] - 33s 101ms/step - loss: 1.4414 - categorical_accuracy: 0.4771 31s - loss: 1.456 - ETA: 27s - loss: 1.5034 - categorical_accuracy: - ETA: 27s - loss: 1.5030 - categorical_accura - ETA: 26s - loss: 1.4990 - categorical_accuracy: 0.45 - ETA: 20s - loss: 1.473 - ETA: 17s - l\n",
      "Epoch 3/20\n",
      "321/321 [==============================] - 33s 102ms/step - loss: 1.2786 - categorical_accuracy: 0.5345 14s - loss: 1.3062 - categorical_accura - ETA: 13s - - ETA: 9s - loss: 1.2953 - categorica - ETA: 8s - loss: 1.2935 - categorical_accuracy: 0. - ETA: 8s - loss: 1.2931 - categorical_ac - ETA: 7s - loss: 1.2917 - categorical_accuracy:  - ETA: 7s - loss: 1.2911 -  - ETA: 0s - loss: 1.2791 - categorical_accuracy: \n",
      "Epoch 4/20\n",
      "321/321 [==============================] - 33s 101ms/step - loss: 1.0850 - categorical_accuracy: 0.6067 28s - loss: 1.0825 - categorical_accuracy: - ETA: 27s - loss: 1.0844 - categorical_accu - ETA: - ETA: 1s - loss: 1.0857 - cate - ETA: 0s - loss: 1.0851 - categorical_accuracy: 0.60\n",
      "Epoch 5/20\n",
      "321/321 [==============================] - 33s 101ms/step - loss: 0.9697 - categorical_accuracy: 0.6543 15s - loss: 0. - ETA:  - ETA: 5s - los - ETA: 0s - loss: 0.9700 - categorical_accu\n",
      "Epoch 6/20\n",
      "321/321 [==============================] - 32s 99ms/step - loss: 0.8708 - categorical_accuracy: 0.68833s - los - ETA: 1s - loss: 0.8712 - categorical_ac - ETA: 1s - loss: 0.8711 - cate\n",
      "Epoch 7/20\n",
      "321/321 [==============================] - 32s 100ms/step - loss: 0.7660 - categorical_accuracy: 0.7190 31s - loss: 0.6426 - categorical - ETA: 29s - loss: 0.7294 - categorical_accuracy:  - ETA: 2 - ETA: 13s - loss: 0.7558 - categorical_accuracy:  - ETA: 12s - loss: 0.7564 - categorical_accuracy: 0. - ETA: 12s - loss: 0.7568 - categorical_accuracy: 0 - ETA: 11 - E - ETA: 3s - loss: 0.7643 - categorica - ETA: 2s - loss: 0.7649 - categorical_accuracy: 0.71 - ETA: 2s - loss: 0.7649 - catego - ETA: 1s - loss: 0.7655 - catego\n",
      "Epoch 8/20\n",
      "321/321 [==============================] - 33s 101ms/step - loss: 0.6993 - categorical_accuracy: 0.7496 20s - loss: 0.6963 - categorica\n",
      "Epoch 9/20\n",
      "321/321 [==============================] - 32s 100ms/step - loss: 0.6647 - categorical_accuracy: 0.7696\n",
      "Epoch 10/20\n",
      "321/321 [==============================] - 33s 101ms/step - loss: 0.5473 - categorical_accuracy: 0.8036 29s - loss: 0.5818 - categorical_accura - ETA: 28s - loss: 0.5711 - ca - ET - ETA: 20s - loss: 0.5429 - cat - ETA: 11s - loss: 0.5417 - categorical - ETA: 10s - loss: 0.5422 - categorical_accur - ETA: 9s - loss: 0.5424 - categorical_accuracy:  - ETA: 9s - loss: 0.5425 - categorical_ - ETA: 2s - loss: - ETA: 0s - loss: 0.5468 - categorical_ac\n",
      "Epoch 11/20\n",
      "321/321 [==============================] - 32s 99ms/step - loss: 0.5089 - categorical_accuracy: 0.8215: 28s - loss: 0.5440 - categorical_acc - ETA: 26s - loss: 0.5308 - categorical_accuracy: 0.8 - ETA: 26s - loss: 0.5289 - ca - ETA: 24s - loss: 0.5185 - - ETA: 21s - loss: 0.5128 - categorical_accuracy:  - ETA: 20s - loss: 0.5117 - categorical_acc - ETA: 19s - loss: 0.5096 - categorical_accu - ETA: 18s - loss: 0.5080 - categorical_accura - ETA: 5s - loss: 0.5073 - categorical_accuracy - ETA: 4s - ETA: 2s - loss: 0.5081 - categorical_accuracy: 0. - ETA: \n",
      "Epoch 12/20\n",
      "321/321 [==============================] - 32s 99ms/step - loss: 0.4570 - categorical_accuracy: 0.8403: 30s - loss: 0.5561 - categorical - ETA: 29s - loss: 0.5076 - categorical_ - ETA: 27s  - ETA: 23s - loss: 0.4613 - categorical_accur - ETA: 22s - loss: 0.4587 - categorical_accuracy: 0.83 - ETA: 22s - loss: 0.4582 - categorical_accur - ETA: 21s - loss: 0.4563 - categorical_accur - ETA: 19s - loss: 0.4546 - categorical_accuracy: 0 - ETA: 19s - loss: 0.4538 - categorical_accuracy: 0.841 - ETA: 19s - loss: 0.4537 - categorical - ETA: 17s - loss: 0.4527 - cate - ETA: 15s - loss: 0.4518 - categorical_accuracy - ETA: 14s - loss: 0.4517 - categorica - ETA: 12s - loss: 0.4516 - categorical_accura  -\n",
      "Epoch 13/20\n",
      "321/321 [==============================] - 32s 99ms/step - loss: 0.4359 - categorical_accuracy: 0.8517\n",
      "Epoch 14/20\n",
      "321/321 [==============================] - 32s 99ms/step - loss: 0.3811 - categorical_accuracy: 0.8693\n",
      "Epoch 15/20\n",
      "321/321 [==============================] - 32s 99ms/step - loss: 0.3414 - categorical_accuracy: 0.8795\n",
      "Epoch 16/20\n",
      "321/321 [==============================] - 32s 99ms/step - loss: 0.3433 - categorical_accuracy: 0.8821\n",
      "Epoch 17/20\n",
      "321/321 [==============================] - 32s 98ms/step - loss: 0.2973 - categorical_accuracy: 0.9000\n",
      "Epoch 18/20\n",
      "321/321 [==============================] - 32s 100ms/step - loss: 0.2662 - categorical_accuracy: 0.9124\n",
      "Epoch 19/20\n",
      "321/321 [==============================] - 32s 100ms/step - loss: 0.2921 - categorical_accuracy: 0.8966\n",
      "Epoch 20/20\n",
      "321/321 [==============================] - 32s 100ms/step - loss: 0.2356 - categorical_accuracy: 0.9247\n",
      "***Performance on Training data***\n",
      "Accuracy  : 0.92393559217453\n",
      "======================================*\n",
      "6/6 [==============================] - 1s 32ms/step\n",
      "***Performance on Validation data***\n",
      "Accuracy  : 0.4154929577464789\n",
      "Precision : 0.42401680936543357\n",
      "f1Score : 0.41302620038720855\n",
      "[[ 5  0  0  0  0  0  1  3  4]\n",
      " [ 0  5  1  1  0  0  1  0  0]\n",
      " [ 0  0  8  0  0  0  0  2  1]\n",
      " [ 1  1  0  3  0  0  2  2  0]\n",
      " [ 1  0  1  1 10  2  4  1  3]\n",
      " [ 1  1  1  0  0  2  0  2  1]\n",
      " [ 3  1  2  4  2  1  9  4  2]\n",
      " [ 0  1  0  1  5  1  3 10  1]\n",
      " [ 1  2  2  2  0  1  1  4  7]]\n",
      "\n",
      " Results for fold 10\n",
      "\n",
      " Folders Created ----->\n"
     ]
    },
    {
     "name": "stderr",
     "output_type": "stream",
     "text": [
      "Processing <PIL.Image.Image image mode=RGB size=224x224 at 0x1DC57281100>:   4%|▎         | 22/625 [00:00<00:06, 99.51 Samples/s]"
     ]
    },
    {
     "name": "stdout",
     "output_type": "stream",
     "text": [
      "\n",
      " 625\n",
      "Initialised with 125 image(s) found.\n",
      "Output directory set to ./Images/Train/BLB\\output."
     ]
    },
    {
     "name": "stderr",
     "output_type": "stream",
     "text": [
      "Processing <PIL.Image.Image image mode=RGB size=224x224 at 0x1DC557A8A90>: 100%|██████████| 625/625 [00:01<00:00, 393.79 Samples/s]\n",
      "Processing <PIL.Image.Image image mode=RGB size=224x224 at 0x1DC572A8730>:   5%|▍         | 15/320 [00:00<00:03, 99.58 Samples/s]"
     ]
    },
    {
     "name": "stdout",
     "output_type": "stream",
     "text": [
      "\n",
      " 320\n",
      "Initialised with 64 image(s) found.\n",
      "Output directory set to ./Images/Train/BPH\\output."
     ]
    },
    {
     "name": "stderr",
     "output_type": "stream",
     "text": [
      "Processing <PIL.Image.Image image mode=RGB size=224x224 at 0x1DC557073A0>: 100%|██████████| 320/320 [00:00<00:00, 397.75 Samples/s]\n",
      "Processing <PIL.Image.Image image mode=RGB size=224x224 at 0x1DC572AA340>:   5%|▍         | 23/495 [00:00<00:03, 139.42 Samples/s]"
     ]
    },
    {
     "name": "stdout",
     "output_type": "stream",
     "text": [
      "\n",
      " 495\n",
      "Initialised with 99 image(s) found.\n",
      "Output directory set to ./Images/Train/Brown_Spot\\output."
     ]
    },
    {
     "name": "stderr",
     "output_type": "stream",
     "text": [
      "Processing <PIL.Image.Image image mode=RGB size=224x224 at 0x1DC556EF550>: 100%|██████████| 495/495 [00:01<00:00, 389.31 Samples/s]\n",
      "Processing <PIL.Image.Image image mode=RGB size=224x224 at 0x1DC57272BE0>:   3%|▎         | 14/420 [00:00<00:04, 99.76 Samples/s]"
     ]
    },
    {
     "name": "stdout",
     "output_type": "stream",
     "text": [
      "\n",
      " 420\n",
      "Initialised with 84 image(s) found.\n",
      "Output directory set to ./Images/Train/False_Smut\\output."
     ]
    },
    {
     "name": "stderr",
     "output_type": "stream",
     "text": [
      "Processing <PIL.Image.Image image mode=RGB size=224x224 at 0x1DC55765640>: 100%|██████████| 420/420 [00:01<00:00, 331.73 Samples/s]\n",
      "Executing Pipeline:   0%|          | 0/1055 [00:00<?, ? Samples/s]"
     ]
    },
    {
     "name": "stdout",
     "output_type": "stream",
     "text": [
      "\n",
      " 1055\n",
      "Initialised with 211 image(s) found.\n",
      "Output directory set to ./Images/Train/Healthy_Plant\\output."
     ]
    },
    {
     "name": "stderr",
     "output_type": "stream",
     "text": [
      "Processing <PIL.Image.Image image mode=RGB size=224x224 at 0x1DBEF6C5760>: 100%|██████████| 1055/1055 [00:03<00:00, 301.07 Samples/s] \n",
      "Processing <PIL.Image.Image image mode=RGB size=224x224 at 0x1DBEF6C5730>:   2%|▏         | 5/325 [00:00<00:06, 48.34 Samples/s]"
     ]
    },
    {
     "name": "stdout",
     "output_type": "stream",
     "text": [
      "\n",
      " 325\n",
      "Initialised with 65 image(s) found.\n",
      "Output directory set to ./Images/Train/Hispa\\output."
     ]
    },
    {
     "name": "stderr",
     "output_type": "stream",
     "text": [
      "Processing <PIL.Image.Image image mode=RGB size=224x224 at 0x1DC3227B520>: 100%|██████████| 325/325 [00:01<00:00, 312.09 Samples/s]\n",
      "Processing <PIL.Image.Image image mode=RGB size=224x224 at 0x1DC3227B7F0>:   1%|          | 12/1290 [00:00<00:12, 99.67 Samples/s]"
     ]
    },
    {
     "name": "stdout",
     "output_type": "stream",
     "text": [
      "\n",
      " 1290\n",
      "Initialised with 258 image(s) found.\n",
      "Output directory set to ./Images/Train/Neck_Blast\\output."
     ]
    },
    {
     "name": "stderr",
     "output_type": "stream",
     "text": [
      "Processing <PIL.Image.Image image mode=RGB size=224x224 at 0x1DC51907A90>: 100%|██████████| 1290/1290 [00:03<00:00, 344.16 Samples/s] \n",
      "Processing <PIL.Image.Image image mode=RGB size=224x224 at 0x1DB904F46A0>:   1%|▏         | 13/985 [00:00<00:12, 80.62 Samples/s]"
     ]
    },
    {
     "name": "stdout",
     "output_type": "stream",
     "text": [
      "\n",
      " 985\n",
      "Initialised with 197 image(s) found.\n",
      "Output directory set to ./Images/Train/Sheath_Blight_Rot\\output."
     ]
    },
    {
     "name": "stderr",
     "output_type": "stream",
     "text": [
      "Processing <PIL.Image.Image image mode=RGB size=224x224 at 0x1DBEF6C5730>: 100%|██████████| 985/985 [00:02<00:00, 334.98 Samples/s] \n",
      "Processing <PIL.Image.Image image mode=RGB size=224x224 at 0x1DC51311220>:   1%|          | 8/905 [00:00<00:10, 88.24 Samples/s]"
     ]
    },
    {
     "name": "stdout",
     "output_type": "stream",
     "text": [
      "\n",
      " 905\n",
      "Initialised with 181 image(s) found.\n",
      "Output directory set to ./Images/Train/Stemborer\\output."
     ]
    },
    {
     "name": "stderr",
     "output_type": "stream",
     "text": [
      "Processing <PIL.Image.Image image mode=RGB size=224x224 at 0x1DC52A7E8E0>: 100%|██████████| 905/905 [00:02<00:00, 351.49 Samples/s] \n"
     ]
    },
    {
     "name": "stdout",
     "output_type": "stream",
     "text": [
      "Before move -  750\n",
      "After move -  750\n",
      "Before move -  384\n",
      "After move -  384\n",
      "Before move -  594\n",
      "After move -  594\n",
      "Before move -  504\n",
      "After move -  504\n",
      "Before move -  1266\n",
      "After move -  1266\n",
      "Before move -  390\n",
      "After move -  390\n",
      "Before move -  1548\n",
      "After move -  1548\n",
      "Before move -  1182\n",
      "After move -  1182\n",
      "Before move -  1086\n",
      "After move -  1086\n",
      "Found 7704 images belonging to 9 classes.\n",
      "Train data length ======  7704\n",
      "Found 142 images belonging to 9 classes.\n",
      "Test data length ======  142\n",
      "InceptionV3\n",
      "Before Fine Tuning---->\n",
      "Model: \"model_10\"\n",
      "_________________________________________________________________\n",
      "Layer (type)                 Output Shape              Param #   \n",
      "=================================================================\n",
      "inputLayer (InputLayer)      [(None, 224, 224, 3)]     0         \n",
      "_________________________________________________________________\n",
      "inception_v3 (Functional)    (None, 5, 5, 2048)        21802784  \n",
      "_________________________________________________________________\n",
      "global_average_pooling2d_10  (None, 2048)              0         \n",
      "_________________________________________________________________\n",
      "flatten_10 (Flatten)         (None, 2048)              0         \n",
      "_________________________________________________________________\n",
      "dense_40 (Dense)             (None, 120)               245880    \n",
      "_________________________________________________________________\n",
      "dense_41 (Dense)             (None, 84)                10164     \n",
      "_________________________________________________________________\n",
      "dense_43 (Dense)             (None, 9)                 765       \n",
      "=================================================================\n",
      "Total params: 22,059,593\n",
      "Trainable params: 22,025,161\n",
      "Non-trainable params: 34,432\n",
      "_________________________________________________________________\n",
      "None\n",
      "Epoch 1/20\n",
      "321/321 [==============================] - 39s 101ms/step - loss: 1.8699 - categorical_accuracy: 0.3126 ETA: 25s - loss: 2.0776 - ETA: 22s - loss: 2.0375 - categorical_accur - ETA: 21s - loss: 2.0261 - categori - ETA: 19s - loss - ETA: 15s - loss: 1.9716 - categorical_accuracy: 0.268 - ETA: 15s - loss: 1.9707 - - ETA: 12s - loss: - ETA: 9s - loss: 1.9 - ETA: 7s - loss: 1.914 - ETA: 0s - loss: 1.8720 - categorical_accuracy\n",
      "Epoch 2/20\n",
      "321/321 [==============================] - 33s 102ms/step - loss: 1.3802 - categorical_accuracy: 0.5068s - loss: 1.381\n",
      "Epoch 3/20\n",
      "321/321 [==============================] - 33s 102ms/step - loss: 1.1817 - categorical_accuracy: 0.5786 23s - loss: 1.2059 - categor - ETA: 2 - ETA: 1s - loss: 1.1\n",
      "Epoch 4/20\n",
      "321/321 [==============================] - 32s 99ms/step - loss: 1.0241 - categorical_accuracy: 0.6418: 29s - - ETA: 6s - loss: 1.0274 - ca - ETA: 4s - loss: 1.0270 - categorical_ac - ETA:  - ETA: 1s - los\n",
      "Epoch 5/20\n",
      "321/321 [==============================] - 32s 99ms/step - loss: 0.8942 - categorical_accuracy: 0.6886\n",
      "Epoch 6/20\n",
      "321/321 [==============================] - 32s 99ms/step - loss: 0.8163 - categorical_accuracy: 0.70532s -\n",
      "Epoch 7/20\n",
      "321/321 [==============================] - 32s 99ms/step - loss: 0.7086 - categorical_accuracy: 0.75654s - los\n",
      "Epoch 8/20\n",
      "321/321 [==============================] - 33s 103ms/step - loss: 0.6565 - categorical_accuracy: 0.7753\n",
      "Epoch 9/20\n",
      "321/321 [==============================] - 33s 102ms/step - loss: 0.5669 - categorical_accuracy: 0.8036-  - ETA: 1s - loss: 0.5664 - \n",
      "Epoch 10/20\n",
      "321/321 [==============================] - 33s 104ms/step - loss: 0.5255 - categorical_accuracy: 0.8214s - loss: 0.5255 - categorical_accuracy: 0.82 - ETA: 1s - loss: 0.5255 - categorica - ETA: 0s - loss: 0.5255 - categorical_accura\n",
      "Epoch 11/20\n",
      "321/321 [==============================] - 33s 102ms/step - loss: 0.4357 - categorical_accuracy: 0.8516\n",
      "Epoch 12/20\n",
      "321/321 [==============================] - 32s 100ms/step - loss: 0.4278 - categorical_accuracy: 0.8515s - loss: 0.4276 - categorical_accuracy: 0.85 - ETA: 0s - loss: 0.4277 - categorical_accuracy: \n",
      "Epoch 13/20\n",
      "321/321 [==============================] - 33s 102ms/step - loss: 0.3530 - categorical_accuracy: 0.8778 ETA: 23s - loss: 0.3274 - categorical_accurac - ETA: 22s - loss: 0.3288 - categorical_accurac - ETA: 21s - loss: 0.3302 - categorical_accuracy: 0 - ETA: 21s - loss: 0.3308 - categori - ETA: 19s - loss:  - ETA: 15s - loss: 0. - ETA: \n",
      "Epoch 14/20\n",
      "321/321 [==============================] - 32s 101ms/step - loss: 0.3365 - categorical_accuracy: 0.8849s - loss: 0.3350 - categorical_accu\n",
      "Epoch 15/20\n",
      "321/321 [==============================] - 32s 100ms/step - loss: 0.3183 - categorical_accuracy: 0.8915\n",
      "Epoch 16/20\n",
      "321/321 [==============================] - 33s 102ms/step - loss: 0.3067 - categorical_accuracy: 0.8978s - loss: 0.3064 - categorical_accura\n",
      "Epoch 17/20\n",
      "321/321 [==============================] - 33s 102ms/step - loss: 0.3059 - categorical_accuracy: 0.8966 30s - loss: 0.3682 - categorical_accuracy: - ETA: 23s - loss: 0.3410 - categorical_accuracy: 0 - ETA: 22s - loss: 0.3\n",
      "Epoch 18/20\n",
      "321/321 [==============================] - 33s 103ms/step - loss: 0.2859 - categorical_accuracy: 0.9029\n",
      "Epoch 19/20\n",
      "321/321 [==============================] - 33s 102ms/step - loss: 0.2347 - categorical_accuracy: 0.9195 15s - loss: 0.2340 - categori\n",
      "Epoch 20/20\n",
      "321/321 [==============================] - 33s 102ms/step - loss: 0.2242 - categorical_accuracy: 0.9246\n",
      "***Performance on Training data***\n",
      "Accuracy  : 0.9204309582710266\n",
      "======================================*\n",
      "6/6 [==============================] - 2s 33ms/step\n",
      "***Performance on Validation data***\n",
      "Accuracy  : 0.528169014084507\n",
      "Precision : 0.5254333694474539\n",
      "f1Score : 0.5210010101100847\n",
      "[[ 7  0  0  1  0  1  1  1  2]\n",
      " [ 0  5  0  0  0  0  2  0  0]\n",
      " [ 0  0  7  0  0  0  4  1  0]\n",
      " [ 0  0  0  4  3  0  0  0  2]\n",
      " [ 1  0  1  0 14  0  4  3  0]\n",
      " [ 1  0  1  0  0  3  1  2  0]\n",
      " [ 3  1  2  3  1  0 17  1  0]\n",
      " [ 2  0  0  1  2  1  0 13  3]\n",
      " [ 0  1  2  1  3  0  5  3  5]]\n",
      "[0.9210184216499329, 0.9185502529144287, 0.9284229874610901, 0.9138737320899963, 0.9138737320899963, 0.9237464070320129, 0.9183540940284729, 0.9127725958824158, 0.92393559217453, 0.9204309582710266]\n",
      "Train Summary=====>\n",
      "count    10.000000\n",
      "mean      0.919498\n",
      "std       0.005069\n",
      "min       0.912773\n",
      "25%       0.914994\n",
      "50%       0.919491\n",
      "75%       0.923064\n",
      "max       0.928423\n",
      "dtype: float64\n",
      "[0.46853146853146854, 0.4755244755244755, 0.46853146853146854, 0.4405594405594406, 0.48951048951048953, 0.5314685314685315, 0.4859154929577465, 0.47183098591549294, 0.4154929577464789, 0.528169014084507]\n",
      "Validation Summary=====>\n",
      "count    10.000000\n",
      "mean      0.477553\n",
      "std       0.035121\n",
      "min       0.415493\n",
      "25%       0.468531\n",
      "50%       0.473678\n",
      "75%       0.488612\n",
      "max       0.531469\n",
      "dtype: float64\n",
      "End Model ->  INCEPTION_V3\n",
      "Started at = 10:27:08\n",
      "--- 114.8765389998754 minutes ---\n"
     ]
    }
   ],
   "source": [
    "# def runStratifiedKFold(model,conv_base, batchsize,epochsNo,nosplit, df_report , \n",
    "#                       createModel, modelId ,Is_TL,Is_SVM, Is_TL_Tune , Test_No,\n",
    "#                       TRAIN_PATH , TRAIN_PATH_NEW, CLASS_NAMES , image_factor ):\n",
    "\n",
    "batchsize = 24\n",
    "epochsNo = 20\n",
    "nosplit = 10\n",
    "\n",
    "image_factor = 5 #If >1 only then new Augumented Images will be created\n",
    "\n",
    "for Test_No in range(1,2):\n",
    "    df_report = runStratifiedKFold(model,conv_base, batchsize,epochsNo,nosplit, df_report, \n",
    "                                   createModel, modelId , Is_TL,Is_SVM, Is_TL_Tune, Test_No ,\n",
    "                                  TRAIN_PATH , TRAIN_PATH_NEW, CLASS_NAMES , image_factor )\n"
   ]
  },
  {
   "cell_type": "code",
   "execution_count": null,
   "id": "7ITV3adl-oo7",
   "metadata": {
    "id": "7ITV3adl-oo7"
   },
   "outputs": [],
   "source": []
  },
  {
   "cell_type": "markdown",
   "id": "56edce43",
   "metadata": {
    "id": "56edce43"
   },
   "source": [
    "### Run Model"
   ]
  },
  {
   "cell_type": "code",
   "execution_count": 52,
   "id": "ZZl8JoQXMu22",
   "metadata": {
    "colab": {
     "base_uri": "https://localhost:8080/",
     "height": 405
    },
    "id": "ZZl8JoQXMu22",
    "outputId": "98941be5-6a9d-43af-a3d6-fa9d39c73b8c"
   },
   "outputs": [
    {
     "data": {
      "text/html": [
       "<div>\n",
       "<style scoped>\n",
       "    .dataframe tbody tr th:only-of-type {\n",
       "        vertical-align: middle;\n",
       "    }\n",
       "\n",
       "    .dataframe tbody tr th {\n",
       "        vertical-align: top;\n",
       "    }\n",
       "\n",
       "    .dataframe thead th {\n",
       "        text-align: right;\n",
       "    }\n",
       "</style>\n",
       "<table border=\"1\" class=\"dataframe\">\n",
       "  <thead>\n",
       "    <tr style=\"text-align: right;\">\n",
       "      <th></th>\n",
       "      <th>Model_Name</th>\n",
       "      <th>Test_No</th>\n",
       "      <th>Batch_Size</th>\n",
       "      <th>Epoch</th>\n",
       "      <th>Count</th>\n",
       "      <th>Train_Average</th>\n",
       "      <th>Val_Average</th>\n",
       "      <th>Val_Maximum</th>\n",
       "      <th>Val_Minimum</th>\n",
       "      <th>Val_StandardDev</th>\n",
       "      <th>...</th>\n",
       "      <th>Val_Summary</th>\n",
       "      <th>Total_params</th>\n",
       "      <th>Trainable_params</th>\n",
       "      <th>Non_trainable_params</th>\n",
       "      <th>Total_Records</th>\n",
       "      <th>Execution_Time</th>\n",
       "      <th>Precision</th>\n",
       "      <th>f1Score</th>\n",
       "      <th>No_Fold</th>\n",
       "      <th>Date_Time</th>\n",
       "    </tr>\n",
       "  </thead>\n",
       "  <tbody>\n",
       "    <tr>\n",
       "      <th>0</th>\n",
       "      <td>INCEPTION_V3</td>\n",
       "      <td>1</td>\n",
       "      <td>24</td>\n",
       "      <td>20</td>\n",
       "      <td>10.0</td>\n",
       "      <td>0.919498</td>\n",
       "      <td>0.477553</td>\n",
       "      <td>0.531469</td>\n",
       "      <td>0.415493</td>\n",
       "      <td>0.035121</td>\n",
       "      <td>...</td>\n",
       "      <td>count    10.000000\n",
       "mean      0.477553\n",
       "std     ...</td>\n",
       "      <td>22059593</td>\n",
       "      <td>22025161</td>\n",
       "      <td>34432</td>\n",
       "      <td>7846</td>\n",
       "      <td>114.876539</td>\n",
       "      <td>NaN</td>\n",
       "      <td>NaN</td>\n",
       "      <td>10</td>\n",
       "      <td>2022-02-14 10:27:08.641378</td>\n",
       "    </tr>\n",
       "  </tbody>\n",
       "</table>\n",
       "<p>1 rows × 26 columns</p>\n",
       "</div>"
      ],
      "text/plain": [
       "     Model_Name Test_No Batch_Size Epoch  Count  Train_Average  Val_Average  \\\n",
       "0  INCEPTION_V3       1         24    20   10.0       0.919498     0.477553   \n",
       "\n",
       "   Val_Maximum  Val_Minimum  Val_StandardDev  ...  \\\n",
       "0     0.531469     0.415493         0.035121  ...   \n",
       "\n",
       "                                         Val_Summary Total_params  \\\n",
       "0  count    10.000000\n",
       "mean      0.477553\n",
       "std     ...     22059593   \n",
       "\n",
       "  Trainable_params Non_trainable_params Total_Records Execution_Time  \\\n",
       "0         22025161                34432          7846     114.876539   \n",
       "\n",
       "  Precision f1Score No_Fold                  Date_Time  \n",
       "0       NaN     NaN      10 2022-02-14 10:27:08.641378  \n",
       "\n",
       "[1 rows x 26 columns]"
      ]
     },
     "execution_count": 52,
     "metadata": {},
     "output_type": "execute_result"
    }
   ],
   "source": [
    "df_report"
   ]
  },
  {
   "cell_type": "code",
   "execution_count": 53,
   "id": "qEwaHO8M3kSc",
   "metadata": {
    "colab": {
     "base_uri": "https://localhost:8080/",
     "height": 361
    },
    "id": "qEwaHO8M3kSc",
    "outputId": "e596983e-3c3a-44ae-d59f-4ba1bff7bccf"
   },
   "outputs": [
    {
     "data": {
      "text/html": [
       "<table border=\"1\" class=\"dataframe\">\n",
       "  <thead>\n",
       "    <tr style=\"text-align: right;\">\n",
       "      <th></th>\n",
       "      <th>Model_Name</th>\n",
       "      <th>Test_No</th>\n",
       "      <th>Batch_Size</th>\n",
       "      <th>Epoch</th>\n",
       "      <th>Count</th>\n",
       "      <th>Train_Average</th>\n",
       "      <th>Val_Average</th>\n",
       "      <th>Val_Maximum</th>\n",
       "      <th>Val_Minimum</th>\n",
       "      <th>Val_StandardDev</th>\n",
       "      <th>Is_TL</th>\n",
       "      <th>Is_SVM</th>\n",
       "      <th>Is_TL_Tune</th>\n",
       "      <th>Train_History</th>\n",
       "      <th>Val_History</th>\n",
       "      <th>Train_Summary</th>\n",
       "      <th>Val_Summary</th>\n",
       "      <th>Total_params</th>\n",
       "      <th>Trainable_params</th>\n",
       "      <th>Non_trainable_params</th>\n",
       "      <th>Total_Records</th>\n",
       "      <th>Execution_Time</th>\n",
       "      <th>Precision</th>\n",
       "      <th>f1Score</th>\n",
       "      <th>No_Fold</th>\n",
       "      <th>Date_Time</th>\n",
       "    </tr>\n",
       "  </thead>\n",
       "  <tbody>\n",
       "    <tr>\n",
       "      <th>0</th>\n",
       "      <td>INCEPTION_V3</td>\n",
       "      <td>1</td>\n",
       "      <td>24</td>\n",
       "      <td>20</td>\n",
       "      <td>10.0</td>\n",
       "      <td>0.919498</td>\n",
       "      <td>0.477553</td>\n",
       "      <td>0.531469</td>\n",
       "      <td>0.415493</td>\n",
       "      <td>0.035121</td>\n",
       "      <td>False</td>\n",
       "      <td>False</td>\n",
       "      <td>False</td>\n",
       "      <td>[0.9210184216499329, 0.9185502529144287, 0.9284229874610901, 0.9138737320899963, 0.9138737320899963, 0.9237464070320129, 0.9183540940284729, 0.9127725958824158, 0.92393559217453, 0.9204309582710266]</td>\n",
       "      <td>[0.46853146853146854, 0.4755244755244755, 0.46853146853146854, 0.4405594405594406, 0.48951048951048953, 0.5314685314685315, 0.4859154929577465, 0.47183098591549294, 0.4154929577464789, 0.528169014084507]</td>\n",
       "      <td>count    10.000000\n",
       "mean      0.919498\n",
       "std       0.005069\n",
       "min       0.912773\n",
       "25%       0.914994\n",
       "50%       0.919491\n",
       "75%       0.923064\n",
       "max       0.928423\n",
       "dtype: float64</td>\n",
       "      <td>count    10.000000\n",
       "mean      0.477553\n",
       "std       0.035121\n",
       "min       0.415493\n",
       "25%       0.468531\n",
       "50%       0.473678\n",
       "75%       0.488612\n",
       "max       0.531469\n",
       "dtype: float64</td>\n",
       "      <td>22059593</td>\n",
       "      <td>22025161</td>\n",
       "      <td>34432</td>\n",
       "      <td>7846</td>\n",
       "      <td>114.876539</td>\n",
       "      <td>NaN</td>\n",
       "      <td>NaN</td>\n",
       "      <td>10</td>\n",
       "      <td>2022-02-14 10:27:08.641378</td>\n",
       "    </tr>\n",
       "  </tbody>\n",
       "</table>"
      ],
      "text/plain": [
       "<IPython.core.display.HTML object>"
      ]
     },
     "metadata": {},
     "output_type": "display_data"
    }
   ],
   "source": [
    "from IPython.display import display, HTML\n",
    "display(HTML(df_report.to_html()))"
   ]
  },
  {
   "cell_type": "code",
   "execution_count": 54,
   "id": "dqDNd0ZKv7dW",
   "metadata": {
    "colab": {
     "base_uri": "https://localhost:8080/"
    },
    "id": "dqDNd0ZKv7dW",
    "outputId": "400c24af-36d9-4ddf-d4d3-d99d660841ac"
   },
   "outputs": [
    {
     "name": "stdout",
     "output_type": "stream",
     "text": [
      "Started Model ->  INPUTLAYER\n"
     ]
    }
   ],
   "source": [
    "print('Started Model -> ',model.layers[0].name.upper())"
   ]
  },
  {
   "cell_type": "code",
   "execution_count": 55,
   "id": "4f7b2acf",
   "metadata": {
    "colab": {
     "base_uri": "https://localhost:8080/"
    },
    "id": "4f7b2acf",
    "outputId": "f426fa02-527c-4695-f20a-5d7d96615f28"
   },
   "outputs": [
    {
     "name": "stdout",
     "output_type": "stream",
     "text": [
      "Started Model ->  INCEPTION_V3\n"
     ]
    }
   ],
   "source": [
    "print('Started Model -> ',model.layers[1].name.upper())"
   ]
  },
  {
   "cell_type": "code",
   "execution_count": 56,
   "id": "d515026b",
   "metadata": {},
   "outputs": [
    {
     "data": {
      "text/plain": [
       "''"
      ]
     },
     "execution_count": 56,
     "metadata": {},
     "output_type": "execute_result"
    }
   ],
   "source": [
    "root_path"
   ]
  },
  {
   "cell_type": "code",
   "execution_count": 57,
   "id": "b648c1fc",
   "metadata": {
    "id": "b648c1fc"
   },
   "outputs": [
    {
     "name": "stdout",
     "output_type": "stream",
     "text": [
      "(1, 5, 5, 2048)\n"
     ]
    },
    {
     "data": {
      "image/png": "[encoded data removed]",
      "text/plain": [
       "<Figure size 1152x576 with 32 Axes>"
      ]
     },
     "metadata": {},
     "output_type": "display_data"
    }
   ],
   "source": [
    "from matplotlib import pyplot\n",
    "import matplotlib.pyplot as plt\n",
    "from tensorflow.keras.applications.vgg16 import preprocess_input\n",
    "\n",
    "\n",
    "from tensorflow.keras.preprocessing import image\n",
    "import numpy as np\n",
    "#from tensorflow.keras.models import Sequential\n",
    "from tensorflow.keras.layers import *\n",
    "import pylab\n",
    "#model = VGG16(weights='imagenet', include_top=False)\n",
    "#model = MobileNetV2(weights='imagenet', include_top=False)\n",
    "\n",
    "if (is_local):\n",
    "    img_path = './R_D_Images/BLB1.jpeg'\n",
    "else:\n",
    "    img_path = root_path + '/R_D_Images/BLB1.jpeg'\n",
    "    \n",
    "\n",
    "img = image.load_img(img_path)\n",
    "Y = image.img_to_array(img)\n",
    "Y = np.expand_dims(Y, axis=0)\n",
    "Y = preprocess_input(Y)\n",
    "\n",
    "features = conv_base.predict(Y)\n",
    "\n",
    "print(features.shape)\n",
    "\n",
    "\n",
    "row = 4\n",
    "col = row * 2\n",
    "ix = 1\n",
    "pyplot.figure(figsize=(col * 2, row * 2))\n",
    "\n",
    "\n",
    "\n",
    "for _ in range(row):\n",
    "    for _ in range(col):\n",
    "        # specify subplot and turn of axis\n",
    "        ax = pyplot.subplot(row, col, ix)\n",
    "        ax.set_xticks([])\n",
    "        ax.set_yticks([])\n",
    "        # plot filter channel in grayscale\n",
    "        pyplot.imshow(features[0, :, :, ix-1], cmap='gray')\n",
    "        ix += 1\n",
    "# show the figure\n",
    "pyplot.show()\n",
    "\n"
   ]
  },
  {
   "cell_type": "code",
   "execution_count": 58,
   "id": "43859519",
   "metadata": {},
   "outputs": [
    {
     "data": {
      "image/png": "[encoded data removed]",
      "text/plain": [
       "<Figure size 432x288 with 1 Axes>"
      ]
     },
     "metadata": {
      "needs_background": "light"
     },
     "output_type": "display_data"
    }
   ],
   "source": [
    "\n",
    "import matplotlib.pyplot as plt\n",
    "import matplotlib.image as mpimg\n",
    "\n",
    "imgplot = plt.imshow(img)\n",
    "plt.show()"
   ]
  },
  {
   "cell_type": "code",
   "execution_count": 59,
   "id": "6a5b0ae5",
   "metadata": {
    "id": "6a5b0ae5"
   },
   "outputs": [
    {
     "name": "stdout",
     "output_type": "stream",
     "text": [
      "(1, 5, 5, 2048)\n"
     ]
    },
    {
     "data": {
      "image/png": "[encoded data removed]",
      "text/plain": [
       "<Figure size 1152x576 with 32 Axes>"
      ]
     },
     "metadata": {},
     "output_type": "display_data"
    }
   ],
   "source": [
    "from matplotlib import pyplot\n",
    "import matplotlib.pyplot as plt\n",
    "from tensorflow.keras.applications.vgg16 import preprocess_input\n",
    "\n",
    "\n",
    "from tensorflow.keras.preprocessing import image\n",
    "import numpy as np\n",
    "#from tensorflow.keras.models import Sequential\n",
    "from tensorflow.keras.layers import *\n",
    "import pylab\n",
    "#model = VGG16(weights='imagenet', include_top=False)\n",
    "#model = MobileNetV2(weights='imagenet', include_top=False)\n",
    "\n",
    "\n",
    "if (is_local):\n",
    "    img_path = './R_D_Images/BLB2.jpeg'\n",
    "else:\n",
    "    img_path = root_path + '/R_D_Images/BLB2.jpeg'\n",
    "    \n",
    "    \n",
    "img = image.load_img(img_path)\n",
    "Y = image.img_to_array(img)\n",
    "Y = np.expand_dims(Y, axis=0)\n",
    "Y = preprocess_input(Y)\n",
    "\n",
    "features = conv_base.predict(Y)\n",
    "\n",
    "print(features.shape)\n",
    "\n",
    "\n",
    "row = 4\n",
    "col = row * 2\n",
    "ix = 1\n",
    "pyplot.figure(figsize=(col * 2, row * 2))\n",
    "\n",
    "\n",
    "\n",
    "for _ in range(row):\n",
    "    for _ in range(col):\n",
    "        # specify subplot and turn of axis\n",
    "        ax = pyplot.subplot(row, col, ix)\n",
    "        ax.set_xticks([])\n",
    "        ax.set_yticks([])\n",
    "        # plot filter channel in grayscale\n",
    "        pyplot.imshow(features[0, :, :, ix-1], cmap='gray')\n",
    "        ix += 1\n",
    "# show the figure\n",
    "pyplot.show()\n",
    "\n"
   ]
  },
  {
   "cell_type": "code",
   "execution_count": 60,
   "id": "c49b00d6",
   "metadata": {
    "id": "c49b00d6"
   },
   "outputs": [
    {
     "data": {
      "image/png": "[encoded data removed]",
      "text/plain": [
       "<Figure size 432x288 with 1 Axes>"
      ]
     },
     "metadata": {
      "needs_background": "light"
     },
     "output_type": "display_data"
    }
   ],
   "source": [
    "\n",
    "import matplotlib.pyplot as plt\n",
    "import matplotlib.image as mpimg\n",
    "\n",
    "imgplot = plt.imshow(img)\n",
    "plt.show()"
   ]
  },
  {
   "cell_type": "code",
   "execution_count": 63,
   "id": "ebba7fd3",
   "metadata": {
    "id": "ebba7fd3"
   },
   "outputs": [
    {
     "name": "stdout",
     "output_type": "stream",
     "text": [
      "Mon Feb 14 18:32:18 2022       \n",
      "+-----------------------------------------------------------------------------+\n",
      "| NVIDIA-SMI 471.35       Driver Version: 471.35       CUDA Version: 11.4     |\n",
      "|-------------------------------+----------------------+----------------------+\n",
      "| GPU  Name            TCC/WDDM | Bus-Id        Disp.A | Volatile Uncorr. ECC |\n",
      "| Fan  Temp  Perf  Pwr:Usage/Cap|         Memory-Usage | GPU-Util  Compute M. |\n",
      "|                               |                      |               MIG M. |\n",
      "|===============================+======================+======================|\n",
      "|   0  NVIDIA GeForce ... WDDM  | 00000000:01:00.0  On |                  N/A |\n",
      "| N/A   49C    P8    21W /  N/A |   7489MiB /  8192MiB |      1%      Default |\n",
      "|                               |                      |                  N/A |\n",
      "+-------------------------------+----------------------+----------------------+\n",
      "                                                                               \n",
      "+-----------------------------------------------------------------------------+\n",
      "| Processes:                                                                  |\n",
      "|  GPU   GI   CI        PID   Type   Process name                  GPU Memory |\n",
      "|        ID   ID                                                   Usage      |\n",
      "|=============================================================================|\n",
      "|    0   N/A  N/A      1596    C+G   Insufficient Permissions        N/A      |\n",
      "|    0   N/A  N/A      9196    C+G   ...reMobileConnectClient.exe    N/A      |\n",
      "|    0   N/A  N/A      9360    C+G   ...perience\\NVIDIA Share.exe    N/A      |\n",
      "|    0   N/A  N/A     10884    C+G   C:\\Windows\\explorer.exe         N/A      |\n",
      "|    0   N/A  N/A     11396    C+G   ...ley Reference Manager.exe    N/A      |\n",
      "|    0   N/A  N/A     11564    C+G   ...e\\root\\Office16\\EXCEL.EXE    N/A      |\n",
      "|    0   N/A  N/A     12632    C+G   ...artMenuExperienceHost.exe    N/A      |\n",
      "|    0   N/A  N/A     12656    C+G   ...n1h2txyewy\\SearchHost.exe    N/A      |\n",
      "|    0   N/A  N/A     13212    C+G   ...root\\Office16\\WINWORD.EXE    N/A      |\n",
      "|    0   N/A  N/A     13832    C+G   ...cw5n1h2txyewy\\LockApp.exe    N/A      |\n",
      "|    0   N/A  N/A     14080    C+G   ...lienwareMobileConnect.exe    N/A      |\n",
      "|    0   N/A  N/A     14200    C+G   ...ekyb3d8bbwe\\YourPhone.exe    N/A      |\n",
      "|    0   N/A  N/A     17148    C+G   ...me\\Application\\chrome.exe    N/A      |\n",
      "|    0   N/A  N/A     18508    C+G   ...ge\\Application\\msedge.exe    N/A      |\n",
      "|    0   N/A  N/A     19304    C+G   ...Files\\NordVPN\\NordVPN.exe    N/A      |\n",
      "|    0   N/A  N/A     19980    C+G   ...ekyb3d8bbwe\\onenoteim.exe    N/A      |\n",
      "|    0   N/A  N/A     20340    C+G   ...8wekyb3d8bbwe\\Cortana.exe    N/A      |\n",
      "|    0   N/A  N/A     22552    C+G   ...wekyb3d8bbwe\\Video.UI.exe    N/A      |\n",
      "|    0   N/A  N/A     23312    C+G   ...8wekyb3d8bbwe\\GameBar.exe    N/A      |\n",
      "|    0   N/A  N/A     23440    C+G   ...gvanyjgm\\app\\WhatsApp.exe    N/A      |\n",
      "|    0   N/A  N/A     23648    C+G   ...root\\Office16\\OUTLOOK.EXE    N/A      |\n",
      "|    0   N/A  N/A     24240    C+G   ...4__htrsf667h5kn2\\AWCC.exe    N/A      |\n",
      "|    0   N/A  N/A     24928      C   ...s\\tensorflow25\\python.exe    N/A      |\n",
      "|    0   N/A  N/A     26700    C+G   ...y\\ShellExperienceHost.exe    N/A      |\n",
      "+-----------------------------------------------------------------------------+\n"
     ]
    }
   ],
   "source": [
    "gpu_info = !nvidia-smi\n",
    "gpu_info = '\\n'.join(gpu_info)\n",
    "if gpu_info.find('failed') >= 0:\n",
    "    print('Select the Runtime > \"Change runtime type\" menu to enable a GPU accelerator, ')\n",
    "    print('and then re-execute this cell.')\n",
    "else:\n",
    "    print(gpu_info)"
   ]
  },
  {
   "cell_type": "code",
   "execution_count": null,
   "id": "13f63cd5",
   "metadata": {
    "id": "13f63cd5"
   },
   "outputs": [],
   "source": []
  },
  {
   "cell_type": "code",
   "execution_count": null,
   "id": "c5b3e4ce",
   "metadata": {
    "id": "c5b3e4ce"
   },
   "outputs": [],
   "source": []
  },
  {
   "cell_type": "code",
   "execution_count": null,
   "id": "f45166f5",
   "metadata": {
    "id": "f45166f5"
   },
   "outputs": [],
   "source": []
  },
  {
   "cell_type": "code",
   "execution_count": null,
   "id": "19ef559d",
   "metadata": {},
   "outputs": [],
   "source": []
  },
  {
   "cell_type": "code",
   "execution_count": null,
   "id": "5da581d0",
   "metadata": {},
   "outputs": [],
   "source": []
  },
  {
   "cell_type": "code",
   "execution_count": null,
   "id": "fde569db",
   "metadata": {},
   "outputs": [],
   "source": []
  },
  {
   "cell_type": "code",
   "execution_count": null,
   "id": "fb7f4926",
   "metadata": {},
   "outputs": [],
   "source": []
  },
  {
   "cell_type": "code",
   "execution_count": null,
   "id": "f1b6980a",
   "metadata": {},
   "outputs": [],
   "source": []
  },
  {
   "cell_type": "code",
   "execution_count": null,
   "id": "9943677c",
   "metadata": {},
   "outputs": [],
   "source": []
  },
  {
   "cell_type": "code",
   "execution_count": null,
   "id": "a6234465",
   "metadata": {},
   "outputs": [],
   "source": []
  },
  {
   "cell_type": "code",
   "execution_count": null,
   "id": "8157195c",
   "metadata": {},
   "outputs": [],
   "source": []
  },
  {
   "cell_type": "code",
   "execution_count": null,
   "id": "61033549",
   "metadata": {},
   "outputs": [],
   "source": []
  },
  {
   "cell_type": "code",
   "execution_count": null,
   "id": "9522e68e",
   "metadata": {},
   "outputs": [],
   "source": []
  },
  {
   "cell_type": "code",
   "execution_count": null,
   "id": "2e292a35",
   "metadata": {},
   "outputs": [],
   "source": []
  },
  {
   "cell_type": "code",
   "execution_count": null,
   "id": "330f303d",
   "metadata": {},
   "outputs": [],
   "source": []
  },
  {
   "cell_type": "code",
   "execution_count": null,
   "id": "8caec947",
   "metadata": {},
   "outputs": [],
   "source": []
  },
  {
   "cell_type": "code",
   "execution_count": null,
   "id": "3d43cf63",
   "metadata": {},
   "outputs": [],
   "source": []
  },
  {
   "cell_type": "code",
   "execution_count": null,
   "id": "2bedc08d",
   "metadata": {},
   "outputs": [],
   "source": []
  },
  {
   "cell_type": "code",
   "execution_count": null,
   "id": "e8fa4c77",
   "metadata": {},
   "outputs": [],
   "source": []
  },
  {
   "cell_type": "code",
   "execution_count": null,
   "id": "970d5571",
   "metadata": {},
   "outputs": [],
   "source": []
  },
  {
   "cell_type": "code",
   "execution_count": null,
   "id": "fb8ff3ef",
   "metadata": {},
   "outputs": [],
   "source": []
  },
  {
   "cell_type": "code",
   "execution_count": null,
   "id": "0260fb59",
   "metadata": {},
   "outputs": [],
   "source": []
  },
  {
   "cell_type": "code",
   "execution_count": null,
   "id": "a941de03",
   "metadata": {},
   "outputs": [],
   "source": []
  },
  {
   "cell_type": "code",
   "execution_count": null,
   "id": "270ac314",
   "metadata": {},
   "outputs": [],
   "source": []
  },
  {
   "cell_type": "code",
   "execution_count": null,
   "id": "34026a93",
   "metadata": {},
   "outputs": [],
   "source": []
  }
 ],
 "metadata": {
  "accelerator": "GPU",
  "colab": {
   "background_execution": "on",
   "collapsed_sections": [
    "062b1b09",
    "ed827cf6",
    "2f266213",
    "6c8ff8fd",
    "f7e41b43",
    "5d2d9c8c"
   ],
   "machine_shape": "hm",
   "name": "Rice_Leaf_Disease_Detection_VGG16.ipynb",
   "provenance": []
  },
  "kernelspec": {
   "display_name": "Python 3",
   "language": "python",
   "name": "python3"
  },
  "language_info": {
   "codemirror_mode": {
    "name": "ipython",
    "version": 3
   },
   "file_extension": ".py",
   "mimetype": "text/x-python",
   "name": "python",
   "nbconvert_exporter": "python",
   "pygments_lexer": "ipython3",
   "version": "3.8.8"
  }
 },
 "nbformat": 4,
 "nbformat_minor": 5
}
