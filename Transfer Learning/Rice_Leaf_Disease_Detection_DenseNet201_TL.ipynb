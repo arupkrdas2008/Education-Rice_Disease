{
  "cells": [
    {
      "cell_type": "markdown",
      "metadata": {
        "id": "view-in-github",
        "colab_type": "text"
      },
      "source": [
        "<a href=\"https://colab.research.google.com/github/arupkrdas2008/Education-Rice_Disease/blob/main/Rice_Leaf_Disease_Detection_DenseNet201_TL.ipynb\" target=\"_parent\"><img src=\"https://colab.research.google.com/assets/colab-badge.svg\" alt=\"Open In Colab\"/></a>"
      ]
    },
    {
      "cell_type": "code",
      "execution_count": null,
      "id": "989f8626",
      "metadata": {
        "id": "989f8626"
      },
      "outputs": [],
      "source": [
        "#Latest 02/13/2022"
      ]
    },
    {
      "cell_type": "code",
      "execution_count": null,
      "id": "0a631b0c",
      "metadata": {
        "id": "0a631b0c"
      },
      "outputs": [],
      "source": [
        "gpu_flag = False # Used when running in local PC with GPU\n",
        "\n",
        "google_colab_flag = True # Only when used in Google Colab\n",
        "\n",
        "lambda_flag = False  #Used when running on Lambada Labs\n",
        "\n",
        "is_local = False\n"
      ]
    },
    {
      "cell_type": "code",
      "execution_count": null,
      "id": "4b03b621",
      "metadata": {
        "colab": {
          "base_uri": "https://localhost:8080/"
        },
        "id": "4b03b621",
        "outputId": "bf7d28ff-54dc-4189-d211-4b4aa56387ac"
      },
      "outputs": [
        {
          "output_type": "stream",
          "name": "stdout",
          "text": [
            "Requirement already satisfied: efficientnet in /usr/local/lib/python3.7/dist-packages (1.1.1)\n",
            "Requirement already satisfied: scikit-image in /usr/local/lib/python3.7/dist-packages (from efficientnet) (0.18.3)\n",
            "Requirement already satisfied: keras-applications<=1.0.8,>=1.0.7 in /usr/local/lib/python3.7/dist-packages (from efficientnet) (1.0.8)\n",
            "Requirement already satisfied: h5py in /usr/local/lib/python3.7/dist-packages (from keras-applications<=1.0.8,>=1.0.7->efficientnet) (3.1.0)\n",
            "Requirement already satisfied: numpy>=1.9.1 in /usr/local/lib/python3.7/dist-packages (from keras-applications<=1.0.8,>=1.0.7->efficientnet) (1.19.5)\n",
            "Requirement already satisfied: cached-property in /usr/local/lib/python3.7/dist-packages (from h5py->keras-applications<=1.0.8,>=1.0.7->efficientnet) (1.5.2)\n",
            "Requirement already satisfied: scipy>=1.0.1 in /usr/local/lib/python3.7/dist-packages (from scikit-image->efficientnet) (1.4.1)\n",
            "Requirement already satisfied: matplotlib!=3.0.0,>=2.0.0 in /usr/local/lib/python3.7/dist-packages (from scikit-image->efficientnet) (3.2.2)\n",
            "Requirement already satisfied: PyWavelets>=1.1.1 in /usr/local/lib/python3.7/dist-packages (from scikit-image->efficientnet) (1.2.0)\n",
            "Requirement already satisfied: pillow!=7.1.0,!=7.1.1,>=4.3.0 in /usr/local/lib/python3.7/dist-packages (from scikit-image->efficientnet) (7.1.2)\n",
            "Requirement already satisfied: networkx>=2.0 in /usr/local/lib/python3.7/dist-packages (from scikit-image->efficientnet) (2.6.3)\n",
            "Requirement already satisfied: tifffile>=2019.7.26 in /usr/local/lib/python3.7/dist-packages (from scikit-image->efficientnet) (2021.11.2)\n",
            "Requirement already satisfied: imageio>=2.3.0 in /usr/local/lib/python3.7/dist-packages (from scikit-image->efficientnet) (2.4.1)\n",
            "Requirement already satisfied: kiwisolver>=1.0.1 in /usr/local/lib/python3.7/dist-packages (from matplotlib!=3.0.0,>=2.0.0->scikit-image->efficientnet) (1.3.2)\n",
            "Requirement already satisfied: pyparsing!=2.0.4,!=2.1.2,!=2.1.6,>=2.0.1 in /usr/local/lib/python3.7/dist-packages (from matplotlib!=3.0.0,>=2.0.0->scikit-image->efficientnet) (3.0.7)\n",
            "Requirement already satisfied: python-dateutil>=2.1 in /usr/local/lib/python3.7/dist-packages (from matplotlib!=3.0.0,>=2.0.0->scikit-image->efficientnet) (2.8.2)\n",
            "Requirement already satisfied: cycler>=0.10 in /usr/local/lib/python3.7/dist-packages (from matplotlib!=3.0.0,>=2.0.0->scikit-image->efficientnet) (0.11.0)\n",
            "Requirement already satisfied: six>=1.5 in /usr/local/lib/python3.7/dist-packages (from python-dateutil>=2.1->matplotlib!=3.0.0,>=2.0.0->scikit-image->efficientnet) (1.15.0)\n",
            "Requirement already satisfied: Augmentor in /usr/local/lib/python3.7/dist-packages (0.2.9)\n",
            "Requirement already satisfied: Pillow>=5.2.0 in /usr/local/lib/python3.7/dist-packages (from Augmentor) (7.1.2)\n",
            "Requirement already satisfied: tqdm>=4.9.0 in /usr/local/lib/python3.7/dist-packages (from Augmentor) (4.62.3)\n",
            "Requirement already satisfied: future>=0.16.0 in /usr/local/lib/python3.7/dist-packages (from Augmentor) (0.16.0)\n",
            "Requirement already satisfied: numpy>=1.11.0 in /usr/local/lib/python3.7/dist-packages (from Augmentor) (1.19.5)\n"
          ]
        }
      ],
      "source": [
        "if(google_colab_flag or lambda_flag):\n",
        "    !pip install -U --pre efficientnet\n",
        "    !pip install Augmentor"
      ]
    },
    {
      "cell_type": "code",
      "execution_count": null,
      "id": "U-wb4Lu7-sa8",
      "metadata": {
        "id": "U-wb4Lu7-sa8"
      },
      "outputs": [],
      "source": [
        "import tensorflow as tf\n",
        "\n",
        "\n",
        "\n",
        "if(gpu_flag ):\n",
        "    gpus = tf.config.experimental.list_physical_devices('GPU')\n",
        "    if gpus:\n",
        "      # Restrict TensorFlow to only allocate 3GB of memory on the first GPU\n",
        "        try:\n",
        "            tf.config.experimental.set_virtual_device_configuration(\n",
        "            gpus[0],\n",
        "            [tf.config.experimental.VirtualDeviceConfiguration(memory_limit=3900)])\n",
        "            logical_gpus = tf.config.experimental.list_logical_devices('GPU')\n",
        "            print(len(gpus), \"Physical GPUs,\", len(logical_gpus), \"Logical GPUs\")\n",
        "        except RuntimeError as e:\n",
        "        # Virtual devices must be set before GPUs have been initialized\n",
        "            print(e)"
      ]
    },
    {
      "cell_type": "code",
      "execution_count": null,
      "id": "1d85c939-d99d-4dba-8382-e107e45ea922",
      "metadata": {
        "id": "1d85c939-d99d-4dba-8382-e107e45ea922"
      },
      "outputs": [],
      "source": [
        ""
      ]
    },
    {
      "cell_type": "markdown",
      "id": "c2d58fc8",
      "metadata": {
        "id": "c2d58fc8"
      },
      "source": [
        "## Import Library"
      ]
    },
    {
      "cell_type": "code",
      "execution_count": null,
      "id": "07f43e22",
      "metadata": {
        "id": "07f43e22"
      },
      "outputs": [],
      "source": [
        "import glob\n",
        "import os\n",
        "import random\n",
        "import shutil\n",
        "import time\n",
        "from datetime import datetime\n",
        "\n",
        "import pandas as pd\n",
        "\n",
        "\n",
        "from tensorflow import keras\n",
        "\n",
        "\n",
        "\n",
        "import pathlib\n",
        "\n",
        "import numpy as np\n",
        "from tensorflow.python.keras.preprocessing.image import ImageDataGenerator\n",
        "\n",
        "from tensorflow.keras.models import Sequential\n",
        "from tensorflow.keras import models\n",
        "from tensorflow.keras import layers\n",
        "from tensorflow.keras import optimizers\n",
        "\n",
        "\n",
        "from sklearn.model_selection import StratifiedKFold\n",
        "\n",
        "\n",
        "from tensorflow.keras.regularizers import l2\n",
        "from tensorflow.keras.regularizers import l1\n",
        "from tensorflow.keras.regularizers import l1_l2\n",
        "\n",
        "import Augmentor"
      ]
    },
    {
      "cell_type": "code",
      "execution_count": null,
      "id": "b8351d8e",
      "metadata": {
        "id": "b8351d8e"
      },
      "outputs": [],
      "source": [
        "from keras.utils.layer_utils import count_params\n",
        "\n"
      ]
    },
    {
      "cell_type": "markdown",
      "id": "84f53837",
      "metadata": {
        "id": "84f53837"
      },
      "source": [
        "## One time operation for file transfer"
      ]
    },
    {
      "cell_type": "code",
      "execution_count": null,
      "id": "0ebfa17b",
      "metadata": {
        "id": "0ebfa17b"
      },
      "outputs": [],
      "source": [
        ""
      ]
    },
    {
      "cell_type": "code",
      "execution_count": null,
      "id": "836efe92",
      "metadata": {
        "id": "836efe92"
      },
      "outputs": [],
      "source": [
        ""
      ]
    },
    {
      "cell_type": "markdown",
      "id": "e1a7a206",
      "metadata": {
        "id": "e1a7a206"
      },
      "source": [
        "## Set Operation Path (Local vs Cloud)"
      ]
    },
    {
      "cell_type": "code",
      "execution_count": null,
      "id": "ab534a9c",
      "metadata": {
        "colab": {
          "base_uri": "https://localhost:8080/"
        },
        "id": "ab534a9c",
        "outputId": "0492bc2b-697b-44a8-8144-dae3f57aae24"
      },
      "outputs": [
        {
          "output_type": "stream",
          "name": "stdout",
          "text": [
            "Drive already mounted at /content/drive; to attempt to forcibly remount, call drive.mount(\"/content/drive\", force_remount=True).\n",
            "drive  sample_data\n"
          ]
        }
      ],
      "source": [
        "\n",
        "# For training in Google Colab\n",
        "if(google_colab_flag):\n",
        "    from google.colab import drive\n",
        "    drive.mount('/content/drive')\n",
        "    !ls\n",
        "    import sys\n",
        "    root_path = '/content/drive/My Drive/Colab Notebooks/' # This is the path to where in google drive the code is stored!\n",
        "    sys.path.append(root_path)\n",
        "\n",
        "# For local training\n",
        "else:\n",
        "    #root_path = os.getcwd()\n",
        "    root_path = ''"
      ]
    },
    {
      "cell_type": "markdown",
      "id": "0938de27",
      "metadata": {
        "id": "0938de27"
      },
      "source": [
        "## Set All File Path"
      ]
    },
    {
      "cell_type": "code",
      "execution_count": null,
      "id": "117ae053",
      "metadata": {
        "colab": {
          "base_uri": "https://localhost:8080/"
        },
        "id": "117ae053",
        "outputId": "070ea9db-fdef-4e1e-a889-5199edef050f"
      },
      "outputs": [
        {
          "output_type": "stream",
          "name": "stdout",
          "text": [
            "/content/drive/My Drive/Colab Notebooks/Images\n",
            "Total Images:  1426\n",
            "===============================\n",
            "/content/drive/My Drive/Colab Notebooks/Images/Train\n",
            "/content/drive/My Drive/Colab Notebooks/Images/Validation\n",
            "/content/drive/My Drive/Colab Notebooks/Images/Test\n",
            "1162\n",
            "125\n",
            "139\n"
          ]
        }
      ],
      "source": [
        "#Path of the Original Images\n",
        "if(google_colab_flag):\n",
        "    path = root_path + 'Original'\n",
        "else:\n",
        "    path = root_path + './Original'\n",
        "\n",
        "if(google_colab_flag):\n",
        "    folder_data= root_path + 'Images'\n",
        "else:\n",
        "    folder_data= root_path + './Images'\n",
        "\n",
        "\n",
        "#MODEL_FILENAME=root_path+\"model_cv.h5\"\n",
        "#Convert to directory type\n",
        "data_dir = pathlib.Path(folder_data)\n",
        "print(data_dir)\n",
        "\n",
        "#Verify the image count to make sure we have all the pictures\n",
        "image_count = len(list(data_dir.glob('**/*/*.jpeg')))\n",
        "print('Total Images: ' , image_count)\n",
        "print('===============================')\n",
        "\n",
        "# Path of the train folder\n",
        "TRAIN_PATH = folder_data + '/Train'\n",
        "print(TRAIN_PATH)\n",
        "\n",
        "# Path of the validation folder\n",
        "VAL_PATH = folder_data + '/Validation'\n",
        "print(VAL_PATH)\n",
        "\n",
        "\n",
        "# Path of the test folder\n",
        "TEST_PATH = folder_data + '/Test'\n",
        "print(TEST_PATH)\n",
        "\n",
        "# Defining the directory for train, validation and test images\n",
        "data_dir_train = pathlib.Path(folder_data + '/Train')\n",
        "data_dir_val = pathlib.Path(folder_data + '/Validation')\n",
        "data_dir_test = pathlib.Path(folder_data + '/Test')\n",
        "\n",
        "#Image count in each of the folders\n",
        "image_count_train = len(list(data_dir_train.glob('*/*.jpeg')))\n",
        "print(image_count_train)\n",
        "image_count_val = len(list(data_dir_val.glob('*/*.jpeg')))\n",
        "print(image_count_val)\n",
        "image_count_test = len(list(data_dir_test.glob('*/*.jpeg')))\n",
        "print(image_count_test)\n",
        "\n",
        "TRAIN_PATH_NEW = TRAIN_PATH + \"/\"\n"
      ]
    },
    {
      "cell_type": "markdown",
      "id": "7c03eef7",
      "metadata": {
        "id": "7c03eef7"
      },
      "source": [
        "### Set Parameters"
      ]
    },
    {
      "cell_type": "code",
      "execution_count": null,
      "id": "600d1a6f",
      "metadata": {
        "id": "600d1a6f"
      },
      "outputs": [],
      "source": [
        "#List for source file names\n",
        "sourceFiles=[]\n",
        "\n",
        "#Set the class lebels from original Dataset\n",
        "classLabels= os.listdir(path)\n",
        "num_classes = len(classLabels)\n",
        "\n",
        "#For X & Y lists\n",
        "X=[]\n",
        "Y=[]\n",
        "\n",
        "#Set Image size\n",
        "batch_size = 64\n",
        "img_height = 224\n",
        "img_width = 224\n",
        "\n",
        "#Show full text in Dataframe\n",
        "#pd.set_option(\"display.max_colwidth\", None)"
      ]
    },
    {
      "cell_type": "code",
      "execution_count": null,
      "id": "4d420032",
      "metadata": {
        "id": "4d420032"
      },
      "outputs": [],
      "source": [
        "train_datagen = ImageDataGenerator(rescale = 1/255)\n",
        "validation_datagen = ImageDataGenerator(rescale = 1/255)\n",
        "test_datagen  = ImageDataGenerator(rescale = 1/255)"
      ]
    },
    {
      "cell_type": "code",
      "execution_count": null,
      "id": "e3d9ce81",
      "metadata": {
        "id": "e3d9ce81"
      },
      "outputs": [],
      "source": [
        "def resetParameters(bath,height,width):\n",
        "    batch_size = bath\n",
        "    img_height = height\n",
        "    img_width = width\n"
      ]
    },
    {
      "cell_type": "markdown",
      "id": "062b1b09",
      "metadata": {
        "id": "062b1b09"
      },
      "source": [
        "## File move methods"
      ]
    },
    {
      "cell_type": "code",
      "execution_count": null,
      "id": "00629c98",
      "metadata": {
        "id": "00629c98"
      },
      "outputs": [],
      "source": [
        "def moveFiles(source, dest, splitRate): \n",
        "    global sourceFiles\n",
        "    sourceFiles=os.listdir(source)\n",
        "    if(len(sourceFiles)!=0):\n",
        "        transferFileNumbers=int(len(sourceFiles)*splitRate)\n",
        "        transferIndex=random.sample(range(0, len(sourceFiles)), transferFileNumbers)\n",
        "        for eachIndex in transferIndex:\n",
        "            shutil.move(source+str(sourceFiles[eachIndex]), dest+str(sourceFiles[eachIndex]))\n",
        "    else:\n",
        "        print(\"No file moved. Source empty!\")\n",
        "        \n",
        "def moveAllFiles(source, dest, splitRate):\n",
        "    for label in classLabels:\n",
        "        moveFiles(folder_data+'/'+source+'/'+label+'/', \n",
        "                               folder_data+'/'+dest+'/'+label+'/', \n",
        "                               splitRate)"
      ]
    },
    {
      "cell_type": "code",
      "execution_count": null,
      "id": "c2c70c5d",
      "metadata": {
        "id": "c2c70c5d"
      },
      "outputs": [],
      "source": [
        ""
      ]
    },
    {
      "cell_type": "code",
      "execution_count": null,
      "id": "ee000233",
      "metadata": {
        "id": "ee000233"
      },
      "outputs": [],
      "source": [
        ""
      ]
    },
    {
      "cell_type": "markdown",
      "id": "ed827cf6",
      "metadata": {
        "id": "ed827cf6"
      },
      "source": [
        "## Functions for Accuracy Check"
      ]
    },
    {
      "cell_type": "code",
      "execution_count": null,
      "id": "1d3e7f91",
      "metadata": {
        "id": "1d3e7f91"
      },
      "outputs": [],
      "source": [
        "from sklearn.metrics import accuracy_score, f1_score, precision_score, confusion_matrix\n",
        "def check_Accuracy(y_true, y_pred):\n",
        "    accuracy=accuracy_score(y_true, y_pred)\n",
        "    precision=precision_score(y_true, y_pred,average='weighted')\n",
        "    f1Score=f1_score(y_true, y_pred, average='weighted') \n",
        "    print(\"Accuracy  : {}\".format(accuracy))\n",
        "    print(\"Precision : {}\".format(precision))\n",
        "    print(\"f1Score : {}\".format(f1Score))\n",
        "    cm=confusion_matrix(y_true, y_pred)\n",
        "    print(cm)\n",
        "    return accuracy, precision, f1Score"
      ]
    },
    {
      "cell_type": "code",
      "execution_count": null,
      "id": "fe922b26",
      "metadata": {
        "id": "fe922b26"
      },
      "outputs": [],
      "source": [
        ""
      ]
    },
    {
      "cell_type": "markdown",
      "id": "2f266213",
      "metadata": {
        "id": "2f266213"
      },
      "source": [
        "## Move all files to Train"
      ]
    },
    {
      "cell_type": "code",
      "execution_count": null,
      "id": "576e5743",
      "metadata": {
        "id": "576e5743"
      },
      "outputs": [],
      "source": [
        "moveAllFiles('Test', 'Train', 1.0)\n",
        "moveAllFiles('Validation', 'Train', 1.0)\n",
        "\n",
        "if os.path.exists(folder_data + '/Temp'):\n",
        "    # delete train folder\n",
        "    shutil.rmtree(TRAIN_PATH)\n",
        "    # Copy back from temp folder\n",
        "    source = folder_data + '/Temp'\n",
        "    dest =  TRAIN_PATH\n",
        "    shutil.copytree(source,dest )\n",
        "    shutil.rmtree(source)\n"
      ]
    },
    {
      "cell_type": "markdown",
      "id": "6c8ff8fd",
      "metadata": {
        "id": "6c8ff8fd"
      },
      "source": [
        "### Saperate data for testing"
      ]
    },
    {
      "cell_type": "code",
      "execution_count": null,
      "id": "12da0fde",
      "metadata": {
        "id": "12da0fde"
      },
      "outputs": [],
      "source": [
        "#transferAllClassBetweenFolders('train', 'test', 0.10)\n"
      ]
    },
    {
      "cell_type": "code",
      "execution_count": null,
      "id": "93d44000",
      "metadata": {
        "id": "93d44000"
      },
      "outputs": [],
      "source": [
        "def setClassNameLabels(folderName):\n",
        "    sourceFiles=os.listdir(folder_data+'/Train/'+folderName)\n",
        "    for val in sourceFiles:\n",
        "        X.append(val)\n",
        "        for i in range(len(classLabels)):\n",
        "            if(folderName==classLabels[i]):\n",
        "                Y.append(i)"
      ]
    },
    {
      "cell_type": "markdown",
      "id": "f7e41b43",
      "metadata": {
        "id": "f7e41b43"
      },
      "source": [
        "## Set file names for splitting"
      ]
    },
    {
      "cell_type": "code",
      "execution_count": null,
      "id": "bb2525bc",
      "metadata": {
        "id": "bb2525bc"
      },
      "outputs": [],
      "source": [
        "# Organize file names and class labels in X and Y variables\n",
        "for i in range(len(classLabels)):\n",
        "    setClassNameLabels(classLabels[i])"
      ]
    },
    {
      "cell_type": "code",
      "execution_count": null,
      "id": "26e0e5a8",
      "metadata": {
        "colab": {
          "base_uri": "https://localhost:8080/"
        },
        "id": "26e0e5a8",
        "outputId": "5a2760ab-c954-4c11-f6b3-c7da94bcfc4d"
      },
      "outputs": [
        {
          "output_type": "stream",
          "name": "stdout",
          "text": [
            "['Hispa1_e90561cd-d030-48d2-9fc7-260acf07de10.jpeg'\n",
            " 'Hispa2_df954e45-2160-4ba9-938a-885396316977.jpeg'\n",
            " 'Hispa1_ec18d6f6-acfe-421a-afff-0c0de7820471.jpeg' ...\n",
            " 'False_Smut1_88a1b1b4-1d9c-4c58-8c9d-327aa288f6d9.jpeg'\n",
            " 'False_Smut1_465e075a-10f4-483b-92f6-866de7308477.jpeg'\n",
            " 'False_Smut1_3b349a07-4246-4ac4-996a-996d62de1eea.jpeg']\n",
            "[0 0 0 ... 8 8 8]\n"
          ]
        }
      ],
      "source": [
        "X=np.asarray(X)\n",
        "Y=np.asarray(Y)\n",
        "\n",
        "print(X)\n",
        "print(Y)"
      ]
    },
    {
      "cell_type": "code",
      "execution_count": null,
      "id": "33179ea0",
      "metadata": {
        "id": "33179ea0"
      },
      "outputs": [],
      "source": [
        ""
      ]
    },
    {
      "cell_type": "markdown",
      "id": "03cb8c96",
      "metadata": {
        "id": "03cb8c96"
      },
      "source": [
        "# Check later on if this is required"
      ]
    },
    {
      "cell_type": "code",
      "execution_count": null,
      "id": "df3492d1",
      "metadata": {
        "colab": {
          "base_uri": "https://localhost:8080/"
        },
        "id": "df3492d1",
        "outputId": "b644c9b5-9782-461a-ed7d-a5b2af583579"
      },
      "outputs": [
        {
          "output_type": "stream",
          "name": "stdout",
          "text": [
            "Found 1426 images belonging to 9 classes.\n"
          ]
        }
      ],
      "source": [
        "trn_dataset = train_datagen.flow_from_directory(\n",
        "    data_dir_train,\n",
        "    target_size=(img_height, img_width),\n",
        "    batch_size=batch_size,\n",
        "    class_mode = 'categorical'\n",
        ")"
      ]
    },
    {
      "cell_type": "code",
      "execution_count": null,
      "id": "d3b866b9",
      "metadata": {
        "colab": {
          "base_uri": "https://localhost:8080/"
        },
        "id": "d3b866b9",
        "outputId": "73c94068-55e7-494e-8123-0fbf20c27282"
      },
      "outputs": [
        {
          "output_type": "execute_result",
          "data": {
            "text/plain": [
              "1426"
            ]
          },
          "metadata": {},
          "execution_count": 34
        }
      ],
      "source": [
        "trn_dataset.samples "
      ]
    },
    {
      "cell_type": "code",
      "execution_count": null,
      "id": "f21e23c4",
      "metadata": {
        "colab": {
          "base_uri": "https://localhost:8080/"
        },
        "id": "f21e23c4",
        "outputId": "13cc060b-6d13-42f9-bcfe-9a6e8b1ba0ee"
      },
      "outputs": [
        {
          "output_type": "stream",
          "name": "stdout",
          "text": [
            "Found 0 images belonging to 9 classes.\n"
          ]
        }
      ],
      "source": [
        "vld_dataset = validation_datagen.flow_from_directory(\n",
        "    data_dir_val,\n",
        "    target_size=(img_height, img_width),\n",
        "    batch_size=batch_size,\n",
        "    class_mode = 'categorical'\n",
        ")"
      ]
    },
    {
      "cell_type": "code",
      "execution_count": null,
      "id": "f6ed479c",
      "metadata": {
        "colab": {
          "base_uri": "https://localhost:8080/"
        },
        "id": "f6ed479c",
        "outputId": "e2211087-b628-41a0-b88b-99363fc51c20"
      },
      "outputs": [
        {
          "output_type": "stream",
          "name": "stdout",
          "text": [
            "Found 0 images belonging to 9 classes.\n"
          ]
        }
      ],
      "source": [
        "tst_dataset = test_datagen.flow_from_directory(\n",
        "    data_dir_test,\n",
        "    target_size=(img_height, img_width),\n",
        "    batch_size=batch_size,\n",
        "    class_mode = 'categorical'\n",
        ")"
      ]
    },
    {
      "cell_type": "code",
      "execution_count": null,
      "id": "444248c1",
      "metadata": {
        "colab": {
          "base_uri": "https://localhost:8080/"
        },
        "id": "444248c1",
        "outputId": "43737d0e-c830-48ad-b8f7-c42efc008b91"
      },
      "outputs": [
        {
          "output_type": "stream",
          "name": "stdout",
          "text": [
            "['BLB', 'BPH', 'Brown_Spot', 'False_Smut', 'Healthy_Plant', 'Hispa', 'Neck_Blast', 'Sheath_Blight_Rot', 'Stemborer']\n"
          ]
        }
      ],
      "source": [
        "classes_nm =  list(trn_dataset.class_indices.keys())\n",
        "print(classes_nm)"
      ]
    },
    {
      "cell_type": "code",
      "execution_count": null,
      "id": "54b93374",
      "metadata": {
        "colab": {
          "base_uri": "https://localhost:8080/"
        },
        "id": "54b93374",
        "outputId": "843ee7d5-60cd-427c-f183-658f72235f53"
      },
      "outputs": [
        {
          "output_type": "stream",
          "name": "stdout",
          "text": [
            "['BLB', 'BPH', 'Brown_Spot', 'False_Smut', 'Healthy_Plant', 'Hispa', 'Neck_Blast', 'Sheath_Blight_Rot', 'Stemborer']\n"
          ]
        }
      ],
      "source": [
        "CLASS_NAMES =  list(trn_dataset.class_indices.keys())\n",
        "print(CLASS_NAMES)"
      ]
    },
    {
      "cell_type": "code",
      "execution_count": null,
      "id": "35decde9",
      "metadata": {
        "colab": {
          "base_uri": "https://localhost:8080/"
        },
        "id": "35decde9",
        "outputId": "1554b0c3-97e7-47f8-d06d-79f3c9cdcebb"
      },
      "outputs": [
        {
          "output_type": "stream",
          "name": "stdout",
          "text": [
            "[0, 1, 2, 3, 4, 5, 6, 7, 8]\n"
          ]
        }
      ],
      "source": [
        "print(list(trn_dataset.class_indices.values()))"
      ]
    },
    {
      "cell_type": "code",
      "execution_count": null,
      "id": "46556e8a",
      "metadata": {
        "colab": {
          "base_uri": "https://localhost:8080/"
        },
        "id": "46556e8a",
        "outputId": "b5b385b8-9240-4012-8c74-183eea9f2230"
      },
      "outputs": [
        {
          "output_type": "stream",
          "name": "stdout",
          "text": [
            "9\n"
          ]
        }
      ],
      "source": [
        "num_classes = len(trn_dataset.class_indices)\n",
        "print(num_classes)"
      ]
    },
    {
      "cell_type": "code",
      "execution_count": null,
      "id": "54e1c2c8",
      "metadata": {
        "id": "54e1c2c8"
      },
      "outputs": [],
      "source": [
        "        "
      ]
    },
    {
      "cell_type": "code",
      "execution_count": null,
      "id": "6a2c0a5b",
      "metadata": {
        "id": "6a2c0a5b"
      },
      "outputs": [],
      "source": [
        ""
      ]
    },
    {
      "cell_type": "code",
      "execution_count": null,
      "id": "5cc37c4e",
      "metadata": {
        "id": "5cc37c4e"
      },
      "outputs": [],
      "source": [
        "# Creating an empty Dataframe to store results\n",
        "df_report = pd.DataFrame(columns=[\n",
        "    'Model_Name',\n",
        "    'Test_No',\n",
        "    'Batch_Size', \n",
        "    'Epoch', \n",
        "    'Count',\n",
        "    'Train_Average',\n",
        "    'Val_Average',\n",
        "    'Val_Maximum',\n",
        "    'Val_Minimum',\n",
        "    'Val_StandardDev',\n",
        "    'Is_TL',\n",
        "    'Is_SVM',\n",
        "    'Is_TL_Tune',\n",
        "    'Train_History',\n",
        "    'Val_History',\n",
        "    'Train_Summary', \n",
        "    'Val_Summary', \n",
        "    'Total_params',\n",
        "    'Trainable_params',\n",
        "    'Non_trainable_params',\n",
        "    'Total_Records',\n",
        "    'Execution_Time',\n",
        "    'Precision', \n",
        "    'f1Score',\n",
        "    'No_Fold',\n",
        "    'Date_Time'\n",
        "    ], dtype=object)\n",
        "                                  "
      ]
    },
    {
      "cell_type": "markdown",
      "id": "a5139d54",
      "metadata": {
        "id": "a5139d54"
      },
      "source": [
        "## Image Agumentation funstion"
      ]
    },
    {
      "cell_type": "code",
      "execution_count": null,
      "id": "e6e5c5f4",
      "metadata": {
        "id": "e6e5c5f4"
      },
      "outputs": [],
      "source": [
        "def count_images(imgPath):\n",
        "    data_dir = pathlib.Path(imgPath)\n",
        "    #print(data_dir)\n",
        "\n",
        "    #Verify the image count to make sure we have all the pictures\n",
        "    image_count = len(list(data_dir.glob('**/*.jpeg')))\n",
        "    #print('Total Images: ' , image_count)\n",
        "    #print('===============================')\n",
        "    \n",
        "    return image_count"
      ]
    },
    {
      "cell_type": "code",
      "execution_count": null,
      "id": "56bea167",
      "metadata": {
        "id": "56bea167"
      },
      "outputs": [],
      "source": [
        "def img_augmentor(path_to_training_dataset_new,CLASS_NAMES, factor):\n",
        "    \n",
        "    for i in CLASS_NAMES:\n",
        "        temp_path = path_to_training_dataset_new + i\n",
        "        req_img = count_images(temp_path) * factor\n",
        "        print('\\n',req_img)\n",
        "        p = Augmentor.Pipeline(temp_path)\n",
        "        p.rotate(probability=1, max_left_rotation=15, max_right_rotation=15)\n",
        "        p.flip_left_right(probability=0.5)\n",
        "        p.flip_top_bottom(probability=0.5)\n",
        "        p.rotate90(probability=0.5)\n",
        "        p.rotate270(probability=0.5)\n",
        "        p.zoom_random(probability=0.5, percentage_area=0.8)\n",
        "        p.skew(0.4, 0.5) \n",
        "        p.random_contrast(probability=0.5,min_factor = 0.2, max_factor = 0.8)\n",
        "        p.random_distortion(probability=1, grid_width=4, grid_height=4, magnitude=8)\n",
        "        p.flip_left_right(probability=0.5)\n",
        "        \n",
        "        p.sample(req_img) ## We are adding 500 samples per class to make sure that none of the classes are sparse."
      ]
    },
    {
      "cell_type": "code",
      "execution_count": null,
      "id": "a475e8e6",
      "metadata": {
        "id": "a475e8e6"
      },
      "outputs": [],
      "source": [
        "def move_new_images(path_to_training_dataset_new , CLASS_NAMES):\n",
        "    \n",
        "    for i in CLASS_NAMES:\n",
        "        original_path = path_to_training_dataset_new + i\n",
        "        image_count_original = count_images(original_path)\n",
        "        print('Before move - ', image_count_original)\n",
        "        temp_path = original_path +'/output'\n",
        "        image_count_temp = count_images(temp_path)\n",
        "\n",
        "        file_names = os.listdir(temp_path)\n",
        "        #print(files)\n",
        "\n",
        "        #shutil.copytree(, , dirs_exist_ok=True)\n",
        "        source_dir = temp_path\n",
        "        target_dir = original_path\n",
        "\n",
        "        for file_name in file_names:\n",
        "            shutil.move(os.path.join(source_dir, file_name), target_dir)\n",
        "\n",
        "        shutil.rmtree(source_dir)\n",
        "\n",
        "        #shutil.move(source+str(sourceFiles[eachIndex]), dest+str(sourceFiles[eachIndex]))\n",
        "        image_count_original = count_images(original_path)\n",
        "        print('After move - ', image_count_original)\n"
      ]
    },
    {
      "cell_type": "code",
      "execution_count": null,
      "id": "8481284e",
      "metadata": {
        "id": "8481284e"
      },
      "outputs": [],
      "source": [
        "def delete_aug_data(path_to_training_dataset_new , CLASS_NAMES):\n",
        "    \n",
        "    for i in CLASS_NAMES:\n",
        "        original_path = path_to_training_dataset_new + i\n",
        "\n",
        "        temp_path = original_path +'/output'\n",
        "\n",
        "        source_dir = temp_path\n",
        "        \n",
        "        if os.path.exists(source_dir):\n",
        "            shutil.rmtree(source_dir)\n"
      ]
    },
    {
      "cell_type": "code",
      "execution_count": null,
      "id": "fb81c225",
      "metadata": {
        "id": "fb81c225"
      },
      "outputs": [],
      "source": [
        ""
      ]
    },
    {
      "cell_type": "code",
      "execution_count": null,
      "id": "d83bc8cc",
      "metadata": {
        "id": "d83bc8cc"
      },
      "outputs": [],
      "source": [
        ""
      ]
    },
    {
      "cell_type": "markdown",
      "id": "eeda2123",
      "metadata": {
        "id": "eeda2123"
      },
      "source": [
        "# ======> End of Checking"
      ]
    },
    {
      "cell_type": "markdown",
      "id": "f8afb71b",
      "metadata": {
        "id": "f8afb71b"
      },
      "source": [
        "# Main Model Bulding Functions"
      ]
    },
    {
      "cell_type": "markdown",
      "id": "4f5a131d",
      "metadata": {
        "id": "4f5a131d"
      },
      "source": [
        "## Stratified K-Fold Cross validation"
      ]
    },
    {
      "cell_type": "code",
      "execution_count": null,
      "id": "c1584a06",
      "metadata": {
        "id": "c1584a06"
      },
      "outputs": [],
      "source": [
        "\n",
        "def runStratifiedKFold(model,conv_base, batchsize,epochsNo,nosplit, df_report , \n",
        "                       createModel, modelId ,Is_TL,Is_SVM, Is_TL_Tune , Test_No,\n",
        "                       TRAIN_PATH , TRAIN_PATH_NEW, CLASS_NAMES , image_factor ):\n",
        "    \n",
        "    \n",
        "    start_time = time.time()\n",
        "\n",
        "    print(\"Started at =\", datetime.now().strftime(\"%H:%M:%S\"))\n",
        "    MODEL_NM = model.layers[1].name.upper()\n",
        "    print('Started Model -> ',MODEL_NM)\n",
        "    \n",
        "    \n",
        "    print('#################################################################')\n",
        "    print('\\n Test run = ',Test_No)\n",
        "\n",
        "    batch_size = batchsize\n",
        "    \n",
        "    if (Is_TL_Tune):\n",
        "        Is_TL = True\n",
        "        \n",
        "        \n",
        "    #Delete the temp folder and if it exists already\n",
        "    if os.path.exists(folder_data + '/Temp'):\n",
        "        shutil.rmtree(folder_data + '/Temp')\n",
        "        \n",
        "    #Delete the output folder and if it exists already\n",
        "    delete_aug_data(TRAIN_PATH_NEW , CLASS_NAMES)\n",
        "    \n",
        "\n",
        "    trainAcclist = []\n",
        "    valAcclist = []\n",
        "    valPreclist =[]\n",
        "    valFScorelist =[]\n",
        "\n",
        "    no_split = nosplit\n",
        "\n",
        "    skf = StratifiedKFold(n_splits = no_split,random_state=42, shuffle=True)\n",
        "    skf.get_n_splits(X, Y)\n",
        "    foldNum=0\n",
        "    for train_index, val_index in skf.split(X, Y):\n",
        "        epochs = epochsNo\n",
        "        #First cut all images from validation to train (if any exists)\n",
        "        moveAllFiles('Validation', 'Train', 1.0)\n",
        "        foldNum+=1\n",
        "        print(\"\\n Results for fold\",foldNum)\n",
        "        \n",
        "        #Create Checking Folders \n",
        "        CHECK_PATH = folder_data + '/Checking'\n",
        "        MODEL_PATH = CHECK_PATH + '/' + MODEL_NM \n",
        "        MODEL_FOLDER_PATH = MODEL_PATH + '/'  + str(foldNum)\n",
        "        print('\\n Folders Created ----->')\n",
        "        for dirname in classLabels:\n",
        "            folder_path_test = MODEL_FOLDER_PATH + '/'+ dirname\n",
        "            #print(folder_path_test)\n",
        "            if not os.path.exists(MODEL_PATH):\n",
        "                os.mkdir(MODEL_PATH)\n",
        "            if not os.path.exists(MODEL_FOLDER_PATH):\n",
        "                os.mkdir(MODEL_FOLDER_PATH)\n",
        "\n",
        "\n",
        "            if os.path.exists(folder_path_test):\n",
        "                shutil.rmtree(folder_path_test)\n",
        "            if not os.path.exists(folder_path_test):\n",
        "                os.mkdir(folder_path_test)\n",
        "        #End of createing test folders\n",
        "            \n",
        "        X_train, X_val = X[train_index], X[val_index]\n",
        "        Y_train, Y_val = Y[train_index], Y[val_index]\n",
        "        # Move validation images of this fold from train folder to the validation folder\n",
        "        for eachIndex in range(len(X_val)):\n",
        "            classLabel=''\n",
        "            for i in range(len(classLabels)):\n",
        "                if(Y_val[eachIndex]==i):\n",
        "                    classLabel=classLabels[i]\n",
        "            #Then, copy the validation images to the validation folder\n",
        "            shutil.move(folder_data+'/Train/'+classLabel+'/'+X_val[eachIndex], \n",
        "                        folder_data+'/Validation/'+classLabel+'/'+X_val[eachIndex])\n",
        "            \n",
        "            #print('Validation Data copied')\n",
        "\n",
        "            \n",
        "            #Create a copy of the \n",
        "            #shutil.copy2(folder_data+'/Validation/'+classLabel+'/'+X_val[eachIndex], \n",
        "            #         MODEL_FOLDER_PATH+'/'+classLabel+'/'+X_val[eachIndex])\n",
        "            #print(MODEL_FOLDER_PATH+'/'+classLabel+'/')\n",
        "            #print('Test Data copied')\n",
        "            \n",
        "            \n",
        "        \n",
        "        #Create a backup of the Train folder\n",
        "        source = TRAIN_PATH\n",
        "        dest = folder_data + '/Temp' \n",
        "        shutil.copytree(source,dest )\n",
        "        \n",
        "        if (image_factor>1):\n",
        "            #Generate extra images\n",
        "            img_augmentor(TRAIN_PATH_NEW , CLASS_NAMES, image_factor)\n",
        "\n",
        "            #Move the new imgaes to training folders\n",
        "            move_new_images(TRAIN_PATH_NEW , CLASS_NAMES)\n",
        "            \n",
        "\n",
        "        #Start ImageClassification Model\n",
        "        train_generator = train_datagen.flow_from_directory(\n",
        "            data_dir_train,\n",
        "            target_size=(img_height, img_width),\n",
        "            batch_size=batch_size,\n",
        "            class_mode='categorical',\n",
        "            subset='training')\n",
        "        \n",
        "        print('Train data length ====== ', train_generator.samples)\n",
        "\n",
        "        validation_generator = validation_datagen.flow_from_directory(\n",
        "            data_dir_val,\n",
        "            target_size=(img_height, img_width),\n",
        "            batch_size=batch_size,\n",
        "            class_mode=None,  # only data, no labels\n",
        "            shuffle=False)   \n",
        "        \n",
        "        print('Test data length ====== ', validation_generator.samples)\n",
        "\n",
        "        #Create model at each iteration\n",
        "        if (createModel):\n",
        "            model , conv_base = getModel(modelId,False , Is_TL, Is_SVM, Is_TL_Tune)\n",
        "        print('Before Fine Tuning---->')\n",
        "        print(model.summary())\n",
        "        \n",
        "        # fit model\n",
        "        history=model.fit(train_generator, \n",
        "                            epochs=epochs)\n",
        "        \n",
        "        if (Is_TL_Tune):            #Tune the model\n",
        "            \n",
        "            conv_base.trainable = True\n",
        "           \n",
        "         \n",
        "            \n",
        "            optimiser = optimizers.Adam(learning_rate=1e-5)\n",
        "            model.compile(optimizer=optimiser, loss='categorical_crossentropy', metrics=['categorical_accuracy'])\n",
        "\n",
        "            print('After Fine Tuning---->')\n",
        "            print(model.summary())\n",
        "            \n",
        "            #epochs = epochsNo//2\n",
        "            history=model.fit(train_generator, \n",
        "                                epochs=epochs)\n",
        "\n",
        "            \n",
        "        \n",
        "        \n",
        "        \n",
        "        #showAccLoss(history,epochsNo)\n",
        "        \n",
        "        print(\"***Performance on Training data***\") \n",
        "        trainAcc = history.history['categorical_accuracy']\n",
        "        trainAcclist.append(trainAcc[-1])\n",
        "        print(\"Accuracy  : {}\".format(trainAcc[-1]))\n",
        "        print(\"======================================*\")\n",
        "\n",
        "        predictions = model.predict(validation_generator, verbose=1)\n",
        "        yPredictions = np.argmax(predictions, axis=1)\n",
        "        true_classes = validation_generator.classes\n",
        "        # evaluate validation performance\n",
        "        print(\"***Performance on Validation data***\")    \n",
        "        valAcc, valPrec, valFScore = check_Accuracy(true_classes, yPredictions)\n",
        "\n",
        "        valAcclist.append(valAcc)\n",
        "        valPreclist.append(valPrec)\n",
        "        valFScorelist.append(valFScore)\n",
        "        \n",
        "        \n",
        "        \n",
        "        #Restore the training folder ---- \n",
        "        \n",
        "        # delete train folder\n",
        "        shutil.rmtree(TRAIN_PATH)\n",
        "        # Copy back from temp folder\n",
        "        source = folder_data + '/Temp'\n",
        "        dest =  TRAIN_PATH\n",
        "        shutil.copytree(source,dest )\n",
        "        shutil.rmtree(source)\n",
        "        \n",
        "        \n",
        "    \n",
        "        \n",
        "    \n",
        "    trainAccSummary = getSummary(trainAcclist)\n",
        "    print('Train Summary=====>')\n",
        "    print(trainAccSummary)\n",
        "    \n",
        "    valAccSummary = getSummary(valAcclist)\n",
        "    print('Validation Summary=====>')\n",
        "    print(valAccSummary)\n",
        "    \n",
        "    print('End Model -> ',model.layers[1].name.upper())\n",
        "    print(\"Started at =\", datetime.now().strftime(\"%H:%M:%S\"))\n",
        "    execMinutes = (time.time() - start_time)/60\n",
        "    print(\"--- %s minutes ---\" % (execMinutes))\n",
        "    \n",
        "    trainable_count = count_params(model.trainable_weights)\n",
        "    non_trainable_count = count_params(model.non_trainable_weights)\n",
        "    \n",
        "    total_images = train_generator.samples + validation_generator.samples\n",
        "    \n",
        "    df_report = df_report.append(\n",
        "            {\n",
        "\n",
        "                'Model_Name': model.layers[1].name.upper() , \n",
        "                'Test_No': Test_No ,\n",
        "                'Batch_Size': batchsize , \n",
        "                'Epoch': epochsNo, \n",
        "                'No_Fold': nosplit, \n",
        "                'Count': valAccSummary[0],\n",
        "                'Train_Summary': trainAccSummary, \n",
        "                'Val_Summary': valAccSummary, \n",
        "                'Train_History':trainAcclist,\n",
        "                'Val_History':valAcclist,\n",
        "                'Train_Average' : trainAccSummary[1],\n",
        "                'Val_Average': valAccSummary[1],\n",
        "                'Val_Maximum': valAccSummary[7],\n",
        "                'Val_Minimum': valAccSummary[3],\n",
        "                'Val_StandardDev': valAccSummary[2],\n",
        "                'Total_params': (trainable_count+non_trainable_count),\n",
        "                'Trainable_params': trainable_count,\n",
        "                'Non_trainable_params': non_trainable_count,\n",
        "                'Total_Records': total_images,\n",
        "                'Execution_Time': execMinutes,\n",
        "                'Is_TL' : Is_TL ,\n",
        "                'Is_SVM' : Is_SVM,\n",
        "                'Is_TL_Tune' : Is_TL_Tune,\n",
        "                'Date_Time' : datetime.now()\n",
        "\n",
        "            }\n",
        "        , ignore_index=True)\n",
        "    \n",
        "    \n",
        "    return df_report\n",
        "\n",
        "    "
      ]
    },
    {
      "cell_type": "code",
      "execution_count": null,
      "id": "3250aab2",
      "metadata": {
        "id": "3250aab2"
      },
      "outputs": [],
      "source": [
        "def getSummary(Acclist):\n",
        "    \n",
        "    print(Acclist)\n",
        "    s = pd.Series(Acclist)\n",
        "    return s.describe()\n",
        "\n",
        "    \n"
      ]
    },
    {
      "cell_type": "code",
      "execution_count": null,
      "id": "ce81dc9d",
      "metadata": {
        "id": "ce81dc9d"
      },
      "outputs": [],
      "source": [
        "from matplotlib import pyplot as plt\n",
        "\n",
        "def showAccLoss(history,num_epochs):\n",
        "    acc = history.history['categorical_accuracy']\n",
        "    val_acc = history.history['val_categorical_accuracy']\n",
        "\n",
        "    loss = history.history['loss']\n",
        "    val_loss = history.history['val_loss']\n",
        "\n",
        "    epochs_range = range(num_epochs)\n",
        "\n",
        "    plt.figure(figsize=(8, 8))\n",
        "    plt.subplot(1, 2, 1)\n",
        "    plt.plot(epochs_range, acc, label='Training Accuracy')\n",
        "    plt.plot(epochs_range, val_acc, label='Validation Accuracy')\n",
        "    plt.legend(loc='lower right')\n",
        "    plt.title('Training and Validation Accuracy')\n",
        "\n",
        "    plt.subplot(1, 2, 2)\n",
        "    plt.plot(epochs_range, loss, label='Training Loss')\n",
        "    plt.plot(epochs_range, val_loss, label='Validation Loss')\n",
        "    plt.legend(loc='upper right')\n",
        "    plt.title('Training and Validation Loss')\n",
        "    plt.show()"
      ]
    },
    {
      "cell_type": "code",
      "execution_count": null,
      "id": "91270fec",
      "metadata": {
        "id": "91270fec"
      },
      "outputs": [],
      "source": [
        ""
      ]
    },
    {
      "cell_type": "markdown",
      "id": "5d2d9c8c",
      "metadata": {
        "id": "5d2d9c8c"
      },
      "source": [
        "## DenseNet201"
      ]
    },
    {
      "cell_type": "code",
      "execution_count": null,
      "id": "7147495b",
      "metadata": {
        "id": "7147495b"
      },
      "outputs": [],
      "source": [
        "from tensorflow.keras.applications.densenet import DenseNet201\n",
        "\n",
        "def createModel_DenseNet201(Is_TL):\n",
        "\n",
        "    if (Is_TL):\n",
        "        conv_base=DenseNet201(weights='imagenet',include_top=False,input_shape=(img_height,img_width,3))\n",
        "    else:\n",
        "        conv_base=DenseNet201(weights=None,include_top=False,input_shape=(img_height,img_width,3))\n",
        "\n",
        "\n",
        "    print('DenseNet201')\n",
        "    #print(conv_base.summary())\n",
        "\n",
        "    return conv_base"
      ]
    },
    {
      "cell_type": "code",
      "execution_count": null,
      "id": "3509b62c",
      "metadata": {
        "id": "3509b62c"
      },
      "outputs": [],
      "source": [
        ""
      ]
    },
    {
      "cell_type": "code",
      "execution_count": null,
      "id": "944cc3f5",
      "metadata": {
        "id": "944cc3f5"
      },
      "outputs": [],
      "source": [
        ""
      ]
    },
    {
      "cell_type": "markdown",
      "id": "4176848f",
      "metadata": {
        "id": "4176848f"
      },
      "source": [
        "# Model Execution"
      ]
    },
    {
      "cell_type": "code",
      "execution_count": null,
      "id": "d1ff606c",
      "metadata": {
        "id": "d1ff606c"
      },
      "outputs": [],
      "source": [
        "\n",
        "def getModel(modelId , printSummary , Is_TL, Is_SVM, Is_TL_Tune):\n",
        "    \n",
        "    if model_dict[modelId] == 'VGG16':\n",
        "        conv_base =  createModel_VGG16(Is_TL)\n",
        "        \n",
        "    elif model_dict[modelId] == 'VGG19':\n",
        "        conv_base =  createModel_VGG19(Is_TL)\n",
        "        \n",
        "    elif model_dict[modelId] == 'ResNet50':\n",
        "        conv_base =  createModel_ResNet50(Is_TL)\n",
        "        \n",
        "    elif model_dict[modelId] == 'ResNet50V2':\n",
        "        conv_base =  createModel_ResNet50V2(Is_TL)\n",
        "        \n",
        "    elif model_dict[modelId] == 'ResNet152V2':\n",
        "        conv_base =  createModel_ResNet152V2(Is_TL)\n",
        "        \n",
        "    elif model_dict[modelId] == 'EfficientNetB1':\n",
        "        conv_base =  createModel_EfficientNetB1()\n",
        "\n",
        "        \n",
        "    elif model_dict[modelId] == 'EfficientNetB7':\n",
        "        conv_base =  createModel_EfficientNetB7(Is_TL)\n",
        "\n",
        "        \n",
        "    elif model_dict[modelId] == 'MobileNetV2':\n",
        "        conv_base =  createModel_MobileNetV2(Is_TL)\n",
        "\n",
        "        \n",
        "    elif model_dict[modelId] == 'InceptionV3':\n",
        "        conv_base =  createModel_InceptionV3(Is_TL)\n",
        "\n",
        "        \n",
        "    elif model_dict[modelId] == 'DenseNet201':\n",
        "        conv_base =  createModel_DenseNet201(Is_TL)\n",
        "\n",
        "        \n",
        "    elif model_dict[modelId] == 'EfficientNetB6':\n",
        "        conv_base =  createModel_EfficientNetB6(Is_TL)\n",
        "\n",
        "\n",
        "        \n",
        "    if(gpu_flag or lambda_flag):\n",
        "        model =tf.keras.models.Sequential() #Required when there is GPU memory control\n",
        "    else:\n",
        "        model =Sequential()    #Required when there is NO GPU memory control\n",
        "    \n",
        "    \n",
        "    \n",
        "    \n",
        "    if (Is_TL): ## If Transfer Learning\n",
        "        conv_base.trainable = False ## Not trainable weights\n",
        "        inputs = layers.Input(shape = (img_height,img_width,3), name='inputLayer')\n",
        "        x = conv_base(inputs, training = False)\n",
        "    elif (Is_TL_Tune):\n",
        "        conv_base.trainable = False ## Not trainable weights\n",
        "        inputs = layers.Input(shape = (img_height,img_width,3), name='inputLayer')\n",
        "        x = conv_base(inputs, training = False)\n",
        "    else:\n",
        "        conv_base.trainable = True\n",
        "        inputs = layers.Input(shape = (img_height,img_width,3), name='inputLayer')\n",
        "        x = conv_base(inputs, training = True)\n",
        "        \n",
        "    \n",
        "    if model_dict[modelId] == 'VGG16':\n",
        "        \n",
        "        x = layers.Flatten()(x)  \n",
        "        x = layers.Dense(120, activation='relu')(x)  \n",
        "        x = layers.Dense(84, activation='relu')(x)  \n",
        "    \n",
        "    elif model_dict[modelId] == 'InceptionV3':\n",
        "        x = layers.GlobalAveragePooling2D()(x)\n",
        "        x = layers.Flatten()(x)  \n",
        "        x = layers.Dense(120, activation='relu')(x)  \n",
        "        x = layers.Dense(84, activation='relu')(x)\n",
        "    \n",
        "        \n",
        "    elif model_dict[modelId] == 'ResNet50V2':\n",
        "        x = layers.GlobalAveragePooling2D()(x)\n",
        "        x = layers.Flatten()(x)  \n",
        "        x = layers.Dense(120, activation='relu')(x)  \n",
        "        x = layers.Dense(84, activation='relu')(x)\n",
        "\n",
        "\n",
        "    elif model_dict[modelId] == 'DenseNet201':\n",
        "        x = layers.GlobalAveragePooling2D()(x)\n",
        "        x = layers.Flatten()(x)  \n",
        "        x = layers.Dense(120, activation='relu')(x)  \n",
        "        x = layers.Dense(84, activation='relu')(x)\n",
        "\n",
        "\n",
        "    \n",
        "    \n",
        "    outputs = layers.Dense(num_classes, activation='softmax')(x)\n",
        "    \n",
        "    \n",
        "    \n",
        "    if (Is_SVM):\n",
        "        outputs = layers.Dense(num_classes, activation='softmax',kernel_regularizer = l1_l2(l1=0.01,l2=0.01))(x)\n",
        "    else:\n",
        "        outputs = layers.Dense(num_classes, activation='softmax')(x)\n",
        "    \n",
        "    model = keras.Model(inputs, outputs)\n",
        "    \n",
        "    optimiser = optimizers.Adam(learning_rate=1e-4)\n",
        "    model.compile(optimizer=optimiser, loss='categorical_crossentropy', metrics=['categorical_accuracy'])\n",
        "    \n",
        "    if (printSummary):\n",
        "        print('Before Merging ---->')\n",
        "        print(conv_base.summary())\n",
        "        \n",
        "        print('After Merging ---->')\n",
        "        print(model.summary()) \n",
        "        \n",
        "        print('^^^^^^^^^^^^^^^^^^^^^^^^^')\n",
        "    \n",
        "    \n",
        "    return model , conv_base\n"
      ]
    },
    {
      "cell_type": "code",
      "execution_count": null,
      "id": "e98abc73",
      "metadata": {
        "colab": {
          "base_uri": "https://localhost:8080/"
        },
        "id": "e98abc73",
        "outputId": "756aadc3-6482-4879-e026-c3c01d989b68"
      },
      "outputs": [
        {
          "output_type": "execute_result",
          "data": {
            "text/plain": [
              "False"
            ]
          },
          "metadata": {},
          "execution_count": 51
        }
      ],
      "source": [
        "gpu_flag"
      ]
    },
    {
      "cell_type": "code",
      "execution_count": null,
      "id": "9bc08f28",
      "metadata": {
        "id": "9bc08f28",
        "scrolled": true
      },
      "outputs": [],
      "source": [
        "model_dict = {1: 'VGG16', \n",
        "              2: 'VGG19',\n",
        "              3: 'ResNet50',\n",
        "              4: 'ResNet50V2',\n",
        "              5: 'ResNet152V2',\n",
        "              6: 'InceptionV3',\n",
        "              7: 'MobileNetV2',\n",
        "              8: 'DenseNet201',\n",
        "              11: 'EfficientNetB1',\n",
        "              12: 'EfficientNetB6I',\n",
        "              13: 'EfficientNetB7',\n",
        "              14: 'EfficientNetB6NS'\n",
        "             }\n",
        "#for d in model_dict:\n",
        "#    model = getModel(d)\n",
        "#    df_report = runStratifiedKFold(model,24,20,10, df_report)\n",
        "# runStratifiedKFold(model, batchsize,epochsNo,nosplit, df_report )"
      ]
    },
    {
      "cell_type": "code",
      "execution_count": null,
      "id": "c12285bb",
      "metadata": {
        "colab": {
          "base_uri": "https://localhost:8080/"
        },
        "id": "c12285bb",
        "outputId": "4529b9bf-bf83-479a-d52a-54425ca2a60c",
        "scrolled": true
      },
      "outputs": [
        {
          "output_type": "stream",
          "name": "stdout",
          "text": [
            "Downloading data from https://storage.googleapis.com/tensorflow/keras-applications/densenet/densenet201_weights_tf_dim_ordering_tf_kernels_notop.h5\n",
            "74842112/74836368 [==============================] - 0s 0us/step\n",
            "74850304/74836368 [==============================] - 0s 0us/step\n",
            "DenseNet201\n",
            "Before Merging ---->\n",
            "Model: \"densenet201\"\n",
            "__________________________________________________________________________________________________\n",
            " Layer (type)                   Output Shape         Param #     Connected to                     \n",
            "==================================================================================================\n",
            " input_1 (InputLayer)           [(None, 224, 224, 3  0           []                               \n",
            "                                )]                                                                \n",
            "                                                                                                  \n",
            " zero_padding2d (ZeroPadding2D)  (None, 230, 230, 3)  0          ['input_1[0][0]']                \n",
            "                                                                                                  \n",
            " conv1/conv (Conv2D)            (None, 112, 112, 64  9408        ['zero_padding2d[0][0]']         \n",
            "                                )                                                                 \n",
            "                                                                                                  \n",
            " conv1/bn (BatchNormalization)  (None, 112, 112, 64  256         ['conv1/conv[0][0]']             \n",
            "                                )                                                                 \n",
            "                                                                                                  \n",
            " conv1/relu (Activation)        (None, 112, 112, 64  0           ['conv1/bn[0][0]']               \n",
            "                                )                                                                 \n",
            "                                                                                                  \n",
            " zero_padding2d_1 (ZeroPadding2  (None, 114, 114, 64  0          ['conv1/relu[0][0]']             \n",
            " D)                             )                                                                 \n",
            "                                                                                                  \n",
            " pool1 (MaxPooling2D)           (None, 56, 56, 64)   0           ['zero_padding2d_1[0][0]']       \n",
            "                                                                                                  \n",
            " conv2_block1_0_bn (BatchNormal  (None, 56, 56, 64)  256         ['pool1[0][0]']                  \n",
            " ization)                                                                                         \n",
            "                                                                                                  \n",
            " conv2_block1_0_relu (Activatio  (None, 56, 56, 64)  0           ['conv2_block1_0_bn[0][0]']      \n",
            " n)                                                                                               \n",
            "                                                                                                  \n",
            " conv2_block1_1_conv (Conv2D)   (None, 56, 56, 128)  8192        ['conv2_block1_0_relu[0][0]']    \n",
            "                                                                                                  \n",
            " conv2_block1_1_bn (BatchNormal  (None, 56, 56, 128)  512        ['conv2_block1_1_conv[0][0]']    \n",
            " ization)                                                                                         \n",
            "                                                                                                  \n",
            " conv2_block1_1_relu (Activatio  (None, 56, 56, 128)  0          ['conv2_block1_1_bn[0][0]']      \n",
            " n)                                                                                               \n",
            "                                                                                                  \n",
            " conv2_block1_2_conv (Conv2D)   (None, 56, 56, 32)   36864       ['conv2_block1_1_relu[0][0]']    \n",
            "                                                                                                  \n",
            " conv2_block1_concat (Concatena  (None, 56, 56, 96)  0           ['pool1[0][0]',                  \n",
            " te)                                                              'conv2_block1_2_conv[0][0]']    \n",
            "                                                                                                  \n",
            " conv2_block2_0_bn (BatchNormal  (None, 56, 56, 96)  384         ['conv2_block1_concat[0][0]']    \n",
            " ization)                                                                                         \n",
            "                                                                                                  \n",
            " conv2_block2_0_relu (Activatio  (None, 56, 56, 96)  0           ['conv2_block2_0_bn[0][0]']      \n",
            " n)                                                                                               \n",
            "                                                                                                  \n",
            " conv2_block2_1_conv (Conv2D)   (None, 56, 56, 128)  12288       ['conv2_block2_0_relu[0][0]']    \n",
            "                                                                                                  \n",
            " conv2_block2_1_bn (BatchNormal  (None, 56, 56, 128)  512        ['conv2_block2_1_conv[0][0]']    \n",
            " ization)                                                                                         \n",
            "                                                                                                  \n",
            " conv2_block2_1_relu (Activatio  (None, 56, 56, 128)  0          ['conv2_block2_1_bn[0][0]']      \n",
            " n)                                                                                               \n",
            "                                                                                                  \n",
            " conv2_block2_2_conv (Conv2D)   (None, 56, 56, 32)   36864       ['conv2_block2_1_relu[0][0]']    \n",
            "                                                                                                  \n",
            " conv2_block2_concat (Concatena  (None, 56, 56, 128)  0          ['conv2_block1_concat[0][0]',    \n",
            " te)                                                              'conv2_block2_2_conv[0][0]']    \n",
            "                                                                                                  \n",
            " conv2_block3_0_bn (BatchNormal  (None, 56, 56, 128)  512        ['conv2_block2_concat[0][0]']    \n",
            " ization)                                                                                         \n",
            "                                                                                                  \n",
            " conv2_block3_0_relu (Activatio  (None, 56, 56, 128)  0          ['conv2_block3_0_bn[0][0]']      \n",
            " n)                                                                                               \n",
            "                                                                                                  \n",
            " conv2_block3_1_conv (Conv2D)   (None, 56, 56, 128)  16384       ['conv2_block3_0_relu[0][0]']    \n",
            "                                                                                                  \n",
            " conv2_block3_1_bn (BatchNormal  (None, 56, 56, 128)  512        ['conv2_block3_1_conv[0][0]']    \n",
            " ization)                                                                                         \n",
            "                                                                                                  \n",
            " conv2_block3_1_relu (Activatio  (None, 56, 56, 128)  0          ['conv2_block3_1_bn[0][0]']      \n",
            " n)                                                                                               \n",
            "                                                                                                  \n",
            " conv2_block3_2_conv (Conv2D)   (None, 56, 56, 32)   36864       ['conv2_block3_1_relu[0][0]']    \n",
            "                                                                                                  \n",
            " conv2_block3_concat (Concatena  (None, 56, 56, 160)  0          ['conv2_block2_concat[0][0]',    \n",
            " te)                                                              'conv2_block3_2_conv[0][0]']    \n",
            "                                                                                                  \n",
            " conv2_block4_0_bn (BatchNormal  (None, 56, 56, 160)  640        ['conv2_block3_concat[0][0]']    \n",
            " ization)                                                                                         \n",
            "                                                                                                  \n",
            " conv2_block4_0_relu (Activatio  (None, 56, 56, 160)  0          ['conv2_block4_0_bn[0][0]']      \n",
            " n)                                                                                               \n",
            "                                                                                                  \n",
            " conv2_block4_1_conv (Conv2D)   (None, 56, 56, 128)  20480       ['conv2_block4_0_relu[0][0]']    \n",
            "                                                                                                  \n",
            " conv2_block4_1_bn (BatchNormal  (None, 56, 56, 128)  512        ['conv2_block4_1_conv[0][0]']    \n",
            " ization)                                                                                         \n",
            "                                                                                                  \n",
            " conv2_block4_1_relu (Activatio  (None, 56, 56, 128)  0          ['conv2_block4_1_bn[0][0]']      \n",
            " n)                                                                                               \n",
            "                                                                                                  \n",
            " conv2_block4_2_conv (Conv2D)   (None, 56, 56, 32)   36864       ['conv2_block4_1_relu[0][0]']    \n",
            "                                                                                                  \n",
            " conv2_block4_concat (Concatena  (None, 56, 56, 192)  0          ['conv2_block3_concat[0][0]',    \n",
            " te)                                                              'conv2_block4_2_conv[0][0]']    \n",
            "                                                                                                  \n",
            " conv2_block5_0_bn (BatchNormal  (None, 56, 56, 192)  768        ['conv2_block4_concat[0][0]']    \n",
            " ization)                                                                                         \n",
            "                                                                                                  \n",
            " conv2_block5_0_relu (Activatio  (None, 56, 56, 192)  0          ['conv2_block5_0_bn[0][0]']      \n",
            " n)                                                                                               \n",
            "                                                                                                  \n",
            " conv2_block5_1_conv (Conv2D)   (None, 56, 56, 128)  24576       ['conv2_block5_0_relu[0][0]']    \n",
            "                                                                                                  \n",
            " conv2_block5_1_bn (BatchNormal  (None, 56, 56, 128)  512        ['conv2_block5_1_conv[0][0]']    \n",
            " ization)                                                                                         \n",
            "                                                                                                  \n",
            " conv2_block5_1_relu (Activatio  (None, 56, 56, 128)  0          ['conv2_block5_1_bn[0][0]']      \n",
            " n)                                                                                               \n",
            "                                                                                                  \n",
            " conv2_block5_2_conv (Conv2D)   (None, 56, 56, 32)   36864       ['conv2_block5_1_relu[0][0]']    \n",
            "                                                                                                  \n",
            " conv2_block5_concat (Concatena  (None, 56, 56, 224)  0          ['conv2_block4_concat[0][0]',    \n",
            " te)                                                              'conv2_block5_2_conv[0][0]']    \n",
            "                                                                                                  \n",
            " conv2_block6_0_bn (BatchNormal  (None, 56, 56, 224)  896        ['conv2_block5_concat[0][0]']    \n",
            " ization)                                                                                         \n",
            "                                                                                                  \n",
            " conv2_block6_0_relu (Activatio  (None, 56, 56, 224)  0          ['conv2_block6_0_bn[0][0]']      \n",
            " n)                                                                                               \n",
            "                                                                                                  \n",
            " conv2_block6_1_conv (Conv2D)   (None, 56, 56, 128)  28672       ['conv2_block6_0_relu[0][0]']    \n",
            "                                                                                                  \n",
            " conv2_block6_1_bn (BatchNormal  (None, 56, 56, 128)  512        ['conv2_block6_1_conv[0][0]']    \n",
            " ization)                                                                                         \n",
            "                                                                                                  \n",
            " conv2_block6_1_relu (Activatio  (None, 56, 56, 128)  0          ['conv2_block6_1_bn[0][0]']      \n",
            " n)                                                                                               \n",
            "                                                                                                  \n",
            " conv2_block6_2_conv (Conv2D)   (None, 56, 56, 32)   36864       ['conv2_block6_1_relu[0][0]']    \n",
            "                                                                                                  \n",
            " conv2_block6_concat (Concatena  (None, 56, 56, 256)  0          ['conv2_block5_concat[0][0]',    \n",
            " te)                                                              'conv2_block6_2_conv[0][0]']    \n",
            "                                                                                                  \n",
            " pool2_bn (BatchNormalization)  (None, 56, 56, 256)  1024        ['conv2_block6_concat[0][0]']    \n",
            "                                                                                                  \n",
            " pool2_relu (Activation)        (None, 56, 56, 256)  0           ['pool2_bn[0][0]']               \n",
            "                                                                                                  \n",
            " pool2_conv (Conv2D)            (None, 56, 56, 128)  32768       ['pool2_relu[0][0]']             \n",
            "                                                                                                  \n",
            " pool2_pool (AveragePooling2D)  (None, 28, 28, 128)  0           ['pool2_conv[0][0]']             \n",
            "                                                                                                  \n",
            " conv3_block1_0_bn (BatchNormal  (None, 28, 28, 128)  512        ['pool2_pool[0][0]']             \n",
            " ization)                                                                                         \n",
            "                                                                                                  \n",
            " conv3_block1_0_relu (Activatio  (None, 28, 28, 128)  0          ['conv3_block1_0_bn[0][0]']      \n",
            " n)                                                                                               \n",
            "                                                                                                  \n",
            " conv3_block1_1_conv (Conv2D)   (None, 28, 28, 128)  16384       ['conv3_block1_0_relu[0][0]']    \n",
            "                                                                                                  \n",
            " conv3_block1_1_bn (BatchNormal  (None, 28, 28, 128)  512        ['conv3_block1_1_conv[0][0]']    \n",
            " ization)                                                                                         \n",
            "                                                                                                  \n",
            " conv3_block1_1_relu (Activatio  (None, 28, 28, 128)  0          ['conv3_block1_1_bn[0][0]']      \n",
            " n)                                                                                               \n",
            "                                                                                                  \n",
            " conv3_block1_2_conv (Conv2D)   (None, 28, 28, 32)   36864       ['conv3_block1_1_relu[0][0]']    \n",
            "                                                                                                  \n",
            " conv3_block1_concat (Concatena  (None, 28, 28, 160)  0          ['pool2_pool[0][0]',             \n",
            " te)                                                              'conv3_block1_2_conv[0][0]']    \n",
            "                                                                                                  \n",
            " conv3_block2_0_bn (BatchNormal  (None, 28, 28, 160)  640        ['conv3_block1_concat[0][0]']    \n",
            " ization)                                                                                         \n",
            "                                                                                                  \n",
            " conv3_block2_0_relu (Activatio  (None, 28, 28, 160)  0          ['conv3_block2_0_bn[0][0]']      \n",
            " n)                                                                                               \n",
            "                                                                                                  \n",
            " conv3_block2_1_conv (Conv2D)   (None, 28, 28, 128)  20480       ['conv3_block2_0_relu[0][0]']    \n",
            "                                                                                                  \n",
            " conv3_block2_1_bn (BatchNormal  (None, 28, 28, 128)  512        ['conv3_block2_1_conv[0][0]']    \n",
            " ization)                                                                                         \n",
            "                                                                                                  \n",
            " conv3_block2_1_relu (Activatio  (None, 28, 28, 128)  0          ['conv3_block2_1_bn[0][0]']      \n",
            " n)                                                                                               \n",
            "                                                                                                  \n",
            " conv3_block2_2_conv (Conv2D)   (None, 28, 28, 32)   36864       ['conv3_block2_1_relu[0][0]']    \n",
            "                                                                                                  \n",
            " conv3_block2_concat (Concatena  (None, 28, 28, 192)  0          ['conv3_block1_concat[0][0]',    \n",
            " te)                                                              'conv3_block2_2_conv[0][0]']    \n",
            "                                                                                                  \n",
            " conv3_block3_0_bn (BatchNormal  (None, 28, 28, 192)  768        ['conv3_block2_concat[0][0]']    \n",
            " ization)                                                                                         \n",
            "                                                                                                  \n",
            " conv3_block3_0_relu (Activatio  (None, 28, 28, 192)  0          ['conv3_block3_0_bn[0][0]']      \n",
            " n)                                                                                               \n",
            "                                                                                                  \n",
            " conv3_block3_1_conv (Conv2D)   (None, 28, 28, 128)  24576       ['conv3_block3_0_relu[0][0]']    \n",
            "                                                                                                  \n",
            " conv3_block3_1_bn (BatchNormal  (None, 28, 28, 128)  512        ['conv3_block3_1_conv[0][0]']    \n",
            " ization)                                                                                         \n",
            "                                                                                                  \n",
            " conv3_block3_1_relu (Activatio  (None, 28, 28, 128)  0          ['conv3_block3_1_bn[0][0]']      \n",
            " n)                                                                                               \n",
            "                                                                                                  \n",
            " conv3_block3_2_conv (Conv2D)   (None, 28, 28, 32)   36864       ['conv3_block3_1_relu[0][0]']    \n",
            "                                                                                                  \n",
            " conv3_block3_concat (Concatena  (None, 28, 28, 224)  0          ['conv3_block2_concat[0][0]',    \n",
            " te)                                                              'conv3_block3_2_conv[0][0]']    \n",
            "                                                                                                  \n",
            " conv3_block4_0_bn (BatchNormal  (None, 28, 28, 224)  896        ['conv3_block3_concat[0][0]']    \n",
            " ization)                                                                                         \n",
            "                                                                                                  \n",
            " conv3_block4_0_relu (Activatio  (None, 28, 28, 224)  0          ['conv3_block4_0_bn[0][0]']      \n",
            " n)                                                                                               \n",
            "                                                                                                  \n",
            " conv3_block4_1_conv (Conv2D)   (None, 28, 28, 128)  28672       ['conv3_block4_0_relu[0][0]']    \n",
            "                                                                                                  \n",
            " conv3_block4_1_bn (BatchNormal  (None, 28, 28, 128)  512        ['conv3_block4_1_conv[0][0]']    \n",
            " ization)                                                                                         \n",
            "                                                                                                  \n",
            " conv3_block4_1_relu (Activatio  (None, 28, 28, 128)  0          ['conv3_block4_1_bn[0][0]']      \n",
            " n)                                                                                               \n",
            "                                                                                                  \n",
            " conv3_block4_2_conv (Conv2D)   (None, 28, 28, 32)   36864       ['conv3_block4_1_relu[0][0]']    \n",
            "                                                                                                  \n",
            " conv3_block4_concat (Concatena  (None, 28, 28, 256)  0          ['conv3_block3_concat[0][0]',    \n",
            " te)                                                              'conv3_block4_2_conv[0][0]']    \n",
            "                                                                                                  \n",
            " conv3_block5_0_bn (BatchNormal  (None, 28, 28, 256)  1024       ['conv3_block4_concat[0][0]']    \n",
            " ization)                                                                                         \n",
            "                                                                                                  \n",
            " conv3_block5_0_relu (Activatio  (None, 28, 28, 256)  0          ['conv3_block5_0_bn[0][0]']      \n",
            " n)                                                                                               \n",
            "                                                                                                  \n",
            " conv3_block5_1_conv (Conv2D)   (None, 28, 28, 128)  32768       ['conv3_block5_0_relu[0][0]']    \n",
            "                                                                                                  \n",
            " conv3_block5_1_bn (BatchNormal  (None, 28, 28, 128)  512        ['conv3_block5_1_conv[0][0]']    \n",
            " ization)                                                                                         \n",
            "                                                                                                  \n",
            " conv3_block5_1_relu (Activatio  (None, 28, 28, 128)  0          ['conv3_block5_1_bn[0][0]']      \n",
            " n)                                                                                               \n",
            "                                                                                                  \n",
            " conv3_block5_2_conv (Conv2D)   (None, 28, 28, 32)   36864       ['conv3_block5_1_relu[0][0]']    \n",
            "                                                                                                  \n",
            " conv3_block5_concat (Concatena  (None, 28, 28, 288)  0          ['conv3_block4_concat[0][0]',    \n",
            " te)                                                              'conv3_block5_2_conv[0][0]']    \n",
            "                                                                                                  \n",
            " conv3_block6_0_bn (BatchNormal  (None, 28, 28, 288)  1152       ['conv3_block5_concat[0][0]']    \n",
            " ization)                                                                                         \n",
            "                                                                                                  \n",
            " conv3_block6_0_relu (Activatio  (None, 28, 28, 288)  0          ['conv3_block6_0_bn[0][0]']      \n",
            " n)                                                                                               \n",
            "                                                                                                  \n",
            " conv3_block6_1_conv (Conv2D)   (None, 28, 28, 128)  36864       ['conv3_block6_0_relu[0][0]']    \n",
            "                                                                                                  \n",
            " conv3_block6_1_bn (BatchNormal  (None, 28, 28, 128)  512        ['conv3_block6_1_conv[0][0]']    \n",
            " ization)                                                                                         \n",
            "                                                                                                  \n",
            " conv3_block6_1_relu (Activatio  (None, 28, 28, 128)  0          ['conv3_block6_1_bn[0][0]']      \n",
            " n)                                                                                               \n",
            "                                                                                                  \n",
            " conv3_block6_2_conv (Conv2D)   (None, 28, 28, 32)   36864       ['conv3_block6_1_relu[0][0]']    \n",
            "                                                                                                  \n",
            " conv3_block6_concat (Concatena  (None, 28, 28, 320)  0          ['conv3_block5_concat[0][0]',    \n",
            " te)                                                              'conv3_block6_2_conv[0][0]']    \n",
            "                                                                                                  \n",
            " conv3_block7_0_bn (BatchNormal  (None, 28, 28, 320)  1280       ['conv3_block6_concat[0][0]']    \n",
            " ization)                                                                                         \n",
            "                                                                                                  \n",
            " conv3_block7_0_relu (Activatio  (None, 28, 28, 320)  0          ['conv3_block7_0_bn[0][0]']      \n",
            " n)                                                                                               \n",
            "                                                                                                  \n",
            " conv3_block7_1_conv (Conv2D)   (None, 28, 28, 128)  40960       ['conv3_block7_0_relu[0][0]']    \n",
            "                                                                                                  \n",
            " conv3_block7_1_bn (BatchNormal  (None, 28, 28, 128)  512        ['conv3_block7_1_conv[0][0]']    \n",
            " ization)                                                                                         \n",
            "                                                                                                  \n",
            " conv3_block7_1_relu (Activatio  (None, 28, 28, 128)  0          ['conv3_block7_1_bn[0][0]']      \n",
            " n)                                                                                               \n",
            "                                                                                                  \n",
            " conv3_block7_2_conv (Conv2D)   (None, 28, 28, 32)   36864       ['conv3_block7_1_relu[0][0]']    \n",
            "                                                                                                  \n",
            " conv3_block7_concat (Concatena  (None, 28, 28, 352)  0          ['conv3_block6_concat[0][0]',    \n",
            " te)                                                              'conv3_block7_2_conv[0][0]']    \n",
            "                                                                                                  \n",
            " conv3_block8_0_bn (BatchNormal  (None, 28, 28, 352)  1408       ['conv3_block7_concat[0][0]']    \n",
            " ization)                                                                                         \n",
            "                                                                                                  \n",
            " conv3_block8_0_relu (Activatio  (None, 28, 28, 352)  0          ['conv3_block8_0_bn[0][0]']      \n",
            " n)                                                                                               \n",
            "                                                                                                  \n",
            " conv3_block8_1_conv (Conv2D)   (None, 28, 28, 128)  45056       ['conv3_block8_0_relu[0][0]']    \n",
            "                                                                                                  \n",
            " conv3_block8_1_bn (BatchNormal  (None, 28, 28, 128)  512        ['conv3_block8_1_conv[0][0]']    \n",
            " ization)                                                                                         \n",
            "                                                                                                  \n",
            " conv3_block8_1_relu (Activatio  (None, 28, 28, 128)  0          ['conv3_block8_1_bn[0][0]']      \n",
            " n)                                                                                               \n",
            "                                                                                                  \n",
            " conv3_block8_2_conv (Conv2D)   (None, 28, 28, 32)   36864       ['conv3_block8_1_relu[0][0]']    \n",
            "                                                                                                  \n",
            " conv3_block8_concat (Concatena  (None, 28, 28, 384)  0          ['conv3_block7_concat[0][0]',    \n",
            " te)                                                              'conv3_block8_2_conv[0][0]']    \n",
            "                                                                                                  \n",
            " conv3_block9_0_bn (BatchNormal  (None, 28, 28, 384)  1536       ['conv3_block8_concat[0][0]']    \n",
            " ization)                                                                                         \n",
            "                                                                                                  \n",
            " conv3_block9_0_relu (Activatio  (None, 28, 28, 384)  0          ['conv3_block9_0_bn[0][0]']      \n",
            " n)                                                                                               \n",
            "                                                                                                  \n",
            " conv3_block9_1_conv (Conv2D)   (None, 28, 28, 128)  49152       ['conv3_block9_0_relu[0][0]']    \n",
            "                                                                                                  \n",
            " conv3_block9_1_bn (BatchNormal  (None, 28, 28, 128)  512        ['conv3_block9_1_conv[0][0]']    \n",
            " ization)                                                                                         \n",
            "                                                                                                  \n",
            " conv3_block9_1_relu (Activatio  (None, 28, 28, 128)  0          ['conv3_block9_1_bn[0][0]']      \n",
            " n)                                                                                               \n",
            "                                                                                                  \n",
            " conv3_block9_2_conv (Conv2D)   (None, 28, 28, 32)   36864       ['conv3_block9_1_relu[0][0]']    \n",
            "                                                                                                  \n",
            " conv3_block9_concat (Concatena  (None, 28, 28, 416)  0          ['conv3_block8_concat[0][0]',    \n",
            " te)                                                              'conv3_block9_2_conv[0][0]']    \n",
            "                                                                                                  \n",
            " conv3_block10_0_bn (BatchNorma  (None, 28, 28, 416)  1664       ['conv3_block9_concat[0][0]']    \n",
            " lization)                                                                                        \n",
            "                                                                                                  \n",
            " conv3_block10_0_relu (Activati  (None, 28, 28, 416)  0          ['conv3_block10_0_bn[0][0]']     \n",
            " on)                                                                                              \n",
            "                                                                                                  \n",
            " conv3_block10_1_conv (Conv2D)  (None, 28, 28, 128)  53248       ['conv3_block10_0_relu[0][0]']   \n",
            "                                                                                                  \n",
            " conv3_block10_1_bn (BatchNorma  (None, 28, 28, 128)  512        ['conv3_block10_1_conv[0][0]']   \n",
            " lization)                                                                                        \n",
            "                                                                                                  \n",
            " conv3_block10_1_relu (Activati  (None, 28, 28, 128)  0          ['conv3_block10_1_bn[0][0]']     \n",
            " on)                                                                                              \n",
            "                                                                                                  \n",
            " conv3_block10_2_conv (Conv2D)  (None, 28, 28, 32)   36864       ['conv3_block10_1_relu[0][0]']   \n",
            "                                                                                                  \n",
            " conv3_block10_concat (Concaten  (None, 28, 28, 448)  0          ['conv3_block9_concat[0][0]',    \n",
            " ate)                                                             'conv3_block10_2_conv[0][0]']   \n",
            "                                                                                                  \n",
            " conv3_block11_0_bn (BatchNorma  (None, 28, 28, 448)  1792       ['conv3_block10_concat[0][0]']   \n",
            " lization)                                                                                        \n",
            "                                                                                                  \n",
            " conv3_block11_0_relu (Activati  (None, 28, 28, 448)  0          ['conv3_block11_0_bn[0][0]']     \n",
            " on)                                                                                              \n",
            "                                                                                                  \n",
            " conv3_block11_1_conv (Conv2D)  (None, 28, 28, 128)  57344       ['conv3_block11_0_relu[0][0]']   \n",
            "                                                                                                  \n",
            " conv3_block11_1_bn (BatchNorma  (None, 28, 28, 128)  512        ['conv3_block11_1_conv[0][0]']   \n",
            " lization)                                                                                        \n",
            "                                                                                                  \n",
            " conv3_block11_1_relu (Activati  (None, 28, 28, 128)  0          ['conv3_block11_1_bn[0][0]']     \n",
            " on)                                                                                              \n",
            "                                                                                                  \n",
            " conv3_block11_2_conv (Conv2D)  (None, 28, 28, 32)   36864       ['conv3_block11_1_relu[0][0]']   \n",
            "                                                                                                  \n",
            " conv3_block11_concat (Concaten  (None, 28, 28, 480)  0          ['conv3_block10_concat[0][0]',   \n",
            " ate)                                                             'conv3_block11_2_conv[0][0]']   \n",
            "                                                                                                  \n",
            " conv3_block12_0_bn (BatchNorma  (None, 28, 28, 480)  1920       ['conv3_block11_concat[0][0]']   \n",
            " lization)                                                                                        \n",
            "                                                                                                  \n",
            " conv3_block12_0_relu (Activati  (None, 28, 28, 480)  0          ['conv3_block12_0_bn[0][0]']     \n",
            " on)                                                                                              \n",
            "                                                                                                  \n",
            " conv3_block12_1_conv (Conv2D)  (None, 28, 28, 128)  61440       ['conv3_block12_0_relu[0][0]']   \n",
            "                                                                                                  \n",
            " conv3_block12_1_bn (BatchNorma  (None, 28, 28, 128)  512        ['conv3_block12_1_conv[0][0]']   \n",
            " lization)                                                                                        \n",
            "                                                                                                  \n",
            " conv3_block12_1_relu (Activati  (None, 28, 28, 128)  0          ['conv3_block12_1_bn[0][0]']     \n",
            " on)                                                                                              \n",
            "                                                                                                  \n",
            " conv3_block12_2_conv (Conv2D)  (None, 28, 28, 32)   36864       ['conv3_block12_1_relu[0][0]']   \n",
            "                                                                                                  \n",
            " conv3_block12_concat (Concaten  (None, 28, 28, 512)  0          ['conv3_block11_concat[0][0]',   \n",
            " ate)                                                             'conv3_block12_2_conv[0][0]']   \n",
            "                                                                                                  \n",
            " pool3_bn (BatchNormalization)  (None, 28, 28, 512)  2048        ['conv3_block12_concat[0][0]']   \n",
            "                                                                                                  \n",
            " pool3_relu (Activation)        (None, 28, 28, 512)  0           ['pool3_bn[0][0]']               \n",
            "                                                                                                  \n",
            " pool3_conv (Conv2D)            (None, 28, 28, 256)  131072      ['pool3_relu[0][0]']             \n",
            "                                                                                                  \n",
            " pool3_pool (AveragePooling2D)  (None, 14, 14, 256)  0           ['pool3_conv[0][0]']             \n",
            "                                                                                                  \n",
            " conv4_block1_0_bn (BatchNormal  (None, 14, 14, 256)  1024       ['pool3_pool[0][0]']             \n",
            " ization)                                                                                         \n",
            "                                                                                                  \n",
            " conv4_block1_0_relu (Activatio  (None, 14, 14, 256)  0          ['conv4_block1_0_bn[0][0]']      \n",
            " n)                                                                                               \n",
            "                                                                                                  \n",
            " conv4_block1_1_conv (Conv2D)   (None, 14, 14, 128)  32768       ['conv4_block1_0_relu[0][0]']    \n",
            "                                                                                                  \n",
            " conv4_block1_1_bn (BatchNormal  (None, 14, 14, 128)  512        ['conv4_block1_1_conv[0][0]']    \n",
            " ization)                                                                                         \n",
            "                                                                                                  \n",
            " conv4_block1_1_relu (Activatio  (None, 14, 14, 128)  0          ['conv4_block1_1_bn[0][0]']      \n",
            " n)                                                                                               \n",
            "                                                                                                  \n",
            " conv4_block1_2_conv (Conv2D)   (None, 14, 14, 32)   36864       ['conv4_block1_1_relu[0][0]']    \n",
            "                                                                                                  \n",
            " conv4_block1_concat (Concatena  (None, 14, 14, 288)  0          ['pool3_pool[0][0]',             \n",
            " te)                                                              'conv4_block1_2_conv[0][0]']    \n",
            "                                                                                                  \n",
            " conv4_block2_0_bn (BatchNormal  (None, 14, 14, 288)  1152       ['conv4_block1_concat[0][0]']    \n",
            " ization)                                                                                         \n",
            "                                                                                                  \n",
            " conv4_block2_0_relu (Activatio  (None, 14, 14, 288)  0          ['conv4_block2_0_bn[0][0]']      \n",
            " n)                                                                                               \n",
            "                                                                                                  \n",
            " conv4_block2_1_conv (Conv2D)   (None, 14, 14, 128)  36864       ['conv4_block2_0_relu[0][0]']    \n",
            "                                                                                                  \n",
            " conv4_block2_1_bn (BatchNormal  (None, 14, 14, 128)  512        ['conv4_block2_1_conv[0][0]']    \n",
            " ization)                                                                                         \n",
            "                                                                                                  \n",
            " conv4_block2_1_relu (Activatio  (None, 14, 14, 128)  0          ['conv4_block2_1_bn[0][0]']      \n",
            " n)                                                                                               \n",
            "                                                                                                  \n",
            " conv4_block2_2_conv (Conv2D)   (None, 14, 14, 32)   36864       ['conv4_block2_1_relu[0][0]']    \n",
            "                                                                                                  \n",
            " conv4_block2_concat (Concatena  (None, 14, 14, 320)  0          ['conv4_block1_concat[0][0]',    \n",
            " te)                                                              'conv4_block2_2_conv[0][0]']    \n",
            "                                                                                                  \n",
            " conv4_block3_0_bn (BatchNormal  (None, 14, 14, 320)  1280       ['conv4_block2_concat[0][0]']    \n",
            " ization)                                                                                         \n",
            "                                                                                                  \n",
            " conv4_block3_0_relu (Activatio  (None, 14, 14, 320)  0          ['conv4_block3_0_bn[0][0]']      \n",
            " n)                                                                                               \n",
            "                                                                                                  \n",
            " conv4_block3_1_conv (Conv2D)   (None, 14, 14, 128)  40960       ['conv4_block3_0_relu[0][0]']    \n",
            "                                                                                                  \n",
            " conv4_block3_1_bn (BatchNormal  (None, 14, 14, 128)  512        ['conv4_block3_1_conv[0][0]']    \n",
            " ization)                                                                                         \n",
            "                                                                                                  \n",
            " conv4_block3_1_relu (Activatio  (None, 14, 14, 128)  0          ['conv4_block3_1_bn[0][0]']      \n",
            " n)                                                                                               \n",
            "                                                                                                  \n",
            " conv4_block3_2_conv (Conv2D)   (None, 14, 14, 32)   36864       ['conv4_block3_1_relu[0][0]']    \n",
            "                                                                                                  \n",
            " conv4_block3_concat (Concatena  (None, 14, 14, 352)  0          ['conv4_block2_concat[0][0]',    \n",
            " te)                                                              'conv4_block3_2_conv[0][0]']    \n",
            "                                                                                                  \n",
            " conv4_block4_0_bn (BatchNormal  (None, 14, 14, 352)  1408       ['conv4_block3_concat[0][0]']    \n",
            " ization)                                                                                         \n",
            "                                                                                                  \n",
            " conv4_block4_0_relu (Activatio  (None, 14, 14, 352)  0          ['conv4_block4_0_bn[0][0]']      \n",
            " n)                                                                                               \n",
            "                                                                                                  \n",
            " conv4_block4_1_conv (Conv2D)   (None, 14, 14, 128)  45056       ['conv4_block4_0_relu[0][0]']    \n",
            "                                                                                                  \n",
            " conv4_block4_1_bn (BatchNormal  (None, 14, 14, 128)  512        ['conv4_block4_1_conv[0][0]']    \n",
            " ization)                                                                                         \n",
            "                                                                                                  \n",
            " conv4_block4_1_relu (Activatio  (None, 14, 14, 128)  0          ['conv4_block4_1_bn[0][0]']      \n",
            " n)                                                                                               \n",
            "                                                                                                  \n",
            " conv4_block4_2_conv (Conv2D)   (None, 14, 14, 32)   36864       ['conv4_block4_1_relu[0][0]']    \n",
            "                                                                                                  \n",
            " conv4_block4_concat (Concatena  (None, 14, 14, 384)  0          ['conv4_block3_concat[0][0]',    \n",
            " te)                                                              'conv4_block4_2_conv[0][0]']    \n",
            "                                                                                                  \n",
            " conv4_block5_0_bn (BatchNormal  (None, 14, 14, 384)  1536       ['conv4_block4_concat[0][0]']    \n",
            " ization)                                                                                         \n",
            "                                                                                                  \n",
            " conv4_block5_0_relu (Activatio  (None, 14, 14, 384)  0          ['conv4_block5_0_bn[0][0]']      \n",
            " n)                                                                                               \n",
            "                                                                                                  \n",
            " conv4_block5_1_conv (Conv2D)   (None, 14, 14, 128)  49152       ['conv4_block5_0_relu[0][0]']    \n",
            "                                                                                                  \n",
            " conv4_block5_1_bn (BatchNormal  (None, 14, 14, 128)  512        ['conv4_block5_1_conv[0][0]']    \n",
            " ization)                                                                                         \n",
            "                                                                                                  \n",
            " conv4_block5_1_relu (Activatio  (None, 14, 14, 128)  0          ['conv4_block5_1_bn[0][0]']      \n",
            " n)                                                                                               \n",
            "                                                                                                  \n",
            " conv4_block5_2_conv (Conv2D)   (None, 14, 14, 32)   36864       ['conv4_block5_1_relu[0][0]']    \n",
            "                                                                                                  \n",
            " conv4_block5_concat (Concatena  (None, 14, 14, 416)  0          ['conv4_block4_concat[0][0]',    \n",
            " te)                                                              'conv4_block5_2_conv[0][0]']    \n",
            "                                                                                                  \n",
            " conv4_block6_0_bn (BatchNormal  (None, 14, 14, 416)  1664       ['conv4_block5_concat[0][0]']    \n",
            " ization)                                                                                         \n",
            "                                                                                                  \n",
            " conv4_block6_0_relu (Activatio  (None, 14, 14, 416)  0          ['conv4_block6_0_bn[0][0]']      \n",
            " n)                                                                                               \n",
            "                                                                                                  \n",
            " conv4_block6_1_conv (Conv2D)   (None, 14, 14, 128)  53248       ['conv4_block6_0_relu[0][0]']    \n",
            "                                                                                                  \n",
            " conv4_block6_1_bn (BatchNormal  (None, 14, 14, 128)  512        ['conv4_block6_1_conv[0][0]']    \n",
            " ization)                                                                                         \n",
            "                                                                                                  \n",
            " conv4_block6_1_relu (Activatio  (None, 14, 14, 128)  0          ['conv4_block6_1_bn[0][0]']      \n",
            " n)                                                                                               \n",
            "                                                                                                  \n",
            " conv4_block6_2_conv (Conv2D)   (None, 14, 14, 32)   36864       ['conv4_block6_1_relu[0][0]']    \n",
            "                                                                                                  \n",
            " conv4_block6_concat (Concatena  (None, 14, 14, 448)  0          ['conv4_block5_concat[0][0]',    \n",
            " te)                                                              'conv4_block6_2_conv[0][0]']    \n",
            "                                                                                                  \n",
            " conv4_block7_0_bn (BatchNormal  (None, 14, 14, 448)  1792       ['conv4_block6_concat[0][0]']    \n",
            " ization)                                                                                         \n",
            "                                                                                                  \n",
            " conv4_block7_0_relu (Activatio  (None, 14, 14, 448)  0          ['conv4_block7_0_bn[0][0]']      \n",
            " n)                                                                                               \n",
            "                                                                                                  \n",
            " conv4_block7_1_conv (Conv2D)   (None, 14, 14, 128)  57344       ['conv4_block7_0_relu[0][0]']    \n",
            "                                                                                                  \n",
            " conv4_block7_1_bn (BatchNormal  (None, 14, 14, 128)  512        ['conv4_block7_1_conv[0][0]']    \n",
            " ization)                                                                                         \n",
            "                                                                                                  \n",
            " conv4_block7_1_relu (Activatio  (None, 14, 14, 128)  0          ['conv4_block7_1_bn[0][0]']      \n",
            " n)                                                                                               \n",
            "                                                                                                  \n",
            " conv4_block7_2_conv (Conv2D)   (None, 14, 14, 32)   36864       ['conv4_block7_1_relu[0][0]']    \n",
            "                                                                                                  \n",
            " conv4_block7_concat (Concatena  (None, 14, 14, 480)  0          ['conv4_block6_concat[0][0]',    \n",
            " te)                                                              'conv4_block7_2_conv[0][0]']    \n",
            "                                                                                                  \n",
            " conv4_block8_0_bn (BatchNormal  (None, 14, 14, 480)  1920       ['conv4_block7_concat[0][0]']    \n",
            " ization)                                                                                         \n",
            "                                                                                                  \n",
            " conv4_block8_0_relu (Activatio  (None, 14, 14, 480)  0          ['conv4_block8_0_bn[0][0]']      \n",
            " n)                                                                                               \n",
            "                                                                                                  \n",
            " conv4_block8_1_conv (Conv2D)   (None, 14, 14, 128)  61440       ['conv4_block8_0_relu[0][0]']    \n",
            "                                                                                                  \n",
            " conv4_block8_1_bn (BatchNormal  (None, 14, 14, 128)  512        ['conv4_block8_1_conv[0][0]']    \n",
            " ization)                                                                                         \n",
            "                                                                                                  \n",
            " conv4_block8_1_relu (Activatio  (None, 14, 14, 128)  0          ['conv4_block8_1_bn[0][0]']      \n",
            " n)                                                                                               \n",
            "                                                                                                  \n",
            " conv4_block8_2_conv (Conv2D)   (None, 14, 14, 32)   36864       ['conv4_block8_1_relu[0][0]']    \n",
            "                                                                                                  \n",
            " conv4_block8_concat (Concatena  (None, 14, 14, 512)  0          ['conv4_block7_concat[0][0]',    \n",
            " te)                                                              'conv4_block8_2_conv[0][0]']    \n",
            "                                                                                                  \n",
            " conv4_block9_0_bn (BatchNormal  (None, 14, 14, 512)  2048       ['conv4_block8_concat[0][0]']    \n",
            " ization)                                                                                         \n",
            "                                                                                                  \n",
            " conv4_block9_0_relu (Activatio  (None, 14, 14, 512)  0          ['conv4_block9_0_bn[0][0]']      \n",
            " n)                                                                                               \n",
            "                                                                                                  \n",
            " conv4_block9_1_conv (Conv2D)   (None, 14, 14, 128)  65536       ['conv4_block9_0_relu[0][0]']    \n",
            "                                                                                                  \n",
            " conv4_block9_1_bn (BatchNormal  (None, 14, 14, 128)  512        ['conv4_block9_1_conv[0][0]']    \n",
            " ization)                                                                                         \n",
            "                                                                                                  \n",
            " conv4_block9_1_relu (Activatio  (None, 14, 14, 128)  0          ['conv4_block9_1_bn[0][0]']      \n",
            " n)                                                                                               \n",
            "                                                                                                  \n",
            " conv4_block9_2_conv (Conv2D)   (None, 14, 14, 32)   36864       ['conv4_block9_1_relu[0][0]']    \n",
            "                                                                                                  \n",
            " conv4_block9_concat (Concatena  (None, 14, 14, 544)  0          ['conv4_block8_concat[0][0]',    \n",
            " te)                                                              'conv4_block9_2_conv[0][0]']    \n",
            "                                                                                                  \n",
            " conv4_block10_0_bn (BatchNorma  (None, 14, 14, 544)  2176       ['conv4_block9_concat[0][0]']    \n",
            " lization)                                                                                        \n",
            "                                                                                                  \n",
            " conv4_block10_0_relu (Activati  (None, 14, 14, 544)  0          ['conv4_block10_0_bn[0][0]']     \n",
            " on)                                                                                              \n",
            "                                                                                                  \n",
            " conv4_block10_1_conv (Conv2D)  (None, 14, 14, 128)  69632       ['conv4_block10_0_relu[0][0]']   \n",
            "                                                                                                  \n",
            " conv4_block10_1_bn (BatchNorma  (None, 14, 14, 128)  512        ['conv4_block10_1_conv[0][0]']   \n",
            " lization)                                                                                        \n",
            "                                                                                                  \n",
            " conv4_block10_1_relu (Activati  (None, 14, 14, 128)  0          ['conv4_block10_1_bn[0][0]']     \n",
            " on)                                                                                              \n",
            "                                                                                                  \n",
            " conv4_block10_2_conv (Conv2D)  (None, 14, 14, 32)   36864       ['conv4_block10_1_relu[0][0]']   \n",
            "                                                                                                  \n",
            " conv4_block10_concat (Concaten  (None, 14, 14, 576)  0          ['conv4_block9_concat[0][0]',    \n",
            " ate)                                                             'conv4_block10_2_conv[0][0]']   \n",
            "                                                                                                  \n",
            " conv4_block11_0_bn (BatchNorma  (None, 14, 14, 576)  2304       ['conv4_block10_concat[0][0]']   \n",
            " lization)                                                                                        \n",
            "                                                                                                  \n",
            " conv4_block11_0_relu (Activati  (None, 14, 14, 576)  0          ['conv4_block11_0_bn[0][0]']     \n",
            " on)                                                                                              \n",
            "                                                                                                  \n",
            " conv4_block11_1_conv (Conv2D)  (None, 14, 14, 128)  73728       ['conv4_block11_0_relu[0][0]']   \n",
            "                                                                                                  \n",
            " conv4_block11_1_bn (BatchNorma  (None, 14, 14, 128)  512        ['conv4_block11_1_conv[0][0]']   \n",
            " lization)                                                                                        \n",
            "                                                                                                  \n",
            " conv4_block11_1_relu (Activati  (None, 14, 14, 128)  0          ['conv4_block11_1_bn[0][0]']     \n",
            " on)                                                                                              \n",
            "                                                                                                  \n",
            " conv4_block11_2_conv (Conv2D)  (None, 14, 14, 32)   36864       ['conv4_block11_1_relu[0][0]']   \n",
            "                                                                                                  \n",
            " conv4_block11_concat (Concaten  (None, 14, 14, 608)  0          ['conv4_block10_concat[0][0]',   \n",
            " ate)                                                             'conv4_block11_2_conv[0][0]']   \n",
            "                                                                                                  \n",
            " conv4_block12_0_bn (BatchNorma  (None, 14, 14, 608)  2432       ['conv4_block11_concat[0][0]']   \n",
            " lization)                                                                                        \n",
            "                                                                                                  \n",
            " conv4_block12_0_relu (Activati  (None, 14, 14, 608)  0          ['conv4_block12_0_bn[0][0]']     \n",
            " on)                                                                                              \n",
            "                                                                                                  \n",
            " conv4_block12_1_conv (Conv2D)  (None, 14, 14, 128)  77824       ['conv4_block12_0_relu[0][0]']   \n",
            "                                                                                                  \n",
            " conv4_block12_1_bn (BatchNorma  (None, 14, 14, 128)  512        ['conv4_block12_1_conv[0][0]']   \n",
            " lization)                                                                                        \n",
            "                                                                                                  \n",
            " conv4_block12_1_relu (Activati  (None, 14, 14, 128)  0          ['conv4_block12_1_bn[0][0]']     \n",
            " on)                                                                                              \n",
            "                                                                                                  \n",
            " conv4_block12_2_conv (Conv2D)  (None, 14, 14, 32)   36864       ['conv4_block12_1_relu[0][0]']   \n",
            "                                                                                                  \n",
            " conv4_block12_concat (Concaten  (None, 14, 14, 640)  0          ['conv4_block11_concat[0][0]',   \n",
            " ate)                                                             'conv4_block12_2_conv[0][0]']   \n",
            "                                                                                                  \n",
            " conv4_block13_0_bn (BatchNorma  (None, 14, 14, 640)  2560       ['conv4_block12_concat[0][0]']   \n",
            " lization)                                                                                        \n",
            "                                                                                                  \n",
            " conv4_block13_0_relu (Activati  (None, 14, 14, 640)  0          ['conv4_block13_0_bn[0][0]']     \n",
            " on)                                                                                              \n",
            "                                                                                                  \n",
            " conv4_block13_1_conv (Conv2D)  (None, 14, 14, 128)  81920       ['conv4_block13_0_relu[0][0]']   \n",
            "                                                                                                  \n",
            " conv4_block13_1_bn (BatchNorma  (None, 14, 14, 128)  512        ['conv4_block13_1_conv[0][0]']   \n",
            " lization)                                                                                        \n",
            "                                                                                                  \n",
            " conv4_block13_1_relu (Activati  (None, 14, 14, 128)  0          ['conv4_block13_1_bn[0][0]']     \n",
            " on)                                                                                              \n",
            "                                                                                                  \n",
            " conv4_block13_2_conv (Conv2D)  (None, 14, 14, 32)   36864       ['conv4_block13_1_relu[0][0]']   \n",
            "                                                                                                  \n",
            " conv4_block13_concat (Concaten  (None, 14, 14, 672)  0          ['conv4_block12_concat[0][0]',   \n",
            " ate)                                                             'conv4_block13_2_conv[0][0]']   \n",
            "                                                                                                  \n",
            " conv4_block14_0_bn (BatchNorma  (None, 14, 14, 672)  2688       ['conv4_block13_concat[0][0]']   \n",
            " lization)                                                                                        \n",
            "                                                                                                  \n",
            " conv4_block14_0_relu (Activati  (None, 14, 14, 672)  0          ['conv4_block14_0_bn[0][0]']     \n",
            " on)                                                                                              \n",
            "                                                                                                  \n",
            " conv4_block14_1_conv (Conv2D)  (None, 14, 14, 128)  86016       ['conv4_block14_0_relu[0][0]']   \n",
            "                                                                                                  \n",
            " conv4_block14_1_bn (BatchNorma  (None, 14, 14, 128)  512        ['conv4_block14_1_conv[0][0]']   \n",
            " lization)                                                                                        \n",
            "                                                                                                  \n",
            " conv4_block14_1_relu (Activati  (None, 14, 14, 128)  0          ['conv4_block14_1_bn[0][0]']     \n",
            " on)                                                                                              \n",
            "                                                                                                  \n",
            " conv4_block14_2_conv (Conv2D)  (None, 14, 14, 32)   36864       ['conv4_block14_1_relu[0][0]']   \n",
            "                                                                                                  \n",
            " conv4_block14_concat (Concaten  (None, 14, 14, 704)  0          ['conv4_block13_concat[0][0]',   \n",
            " ate)                                                             'conv4_block14_2_conv[0][0]']   \n",
            "                                                                                                  \n",
            " conv4_block15_0_bn (BatchNorma  (None, 14, 14, 704)  2816       ['conv4_block14_concat[0][0]']   \n",
            " lization)                                                                                        \n",
            "                                                                                                  \n",
            " conv4_block15_0_relu (Activati  (None, 14, 14, 704)  0          ['conv4_block15_0_bn[0][0]']     \n",
            " on)                                                                                              \n",
            "                                                                                                  \n",
            " conv4_block15_1_conv (Conv2D)  (None, 14, 14, 128)  90112       ['conv4_block15_0_relu[0][0]']   \n",
            "                                                                                                  \n",
            " conv4_block15_1_bn (BatchNorma  (None, 14, 14, 128)  512        ['conv4_block15_1_conv[0][0]']   \n",
            " lization)                                                                                        \n",
            "                                                                                                  \n",
            " conv4_block15_1_relu (Activati  (None, 14, 14, 128)  0          ['conv4_block15_1_bn[0][0]']     \n",
            " on)                                                                                              \n",
            "                                                                                                  \n",
            " conv4_block15_2_conv (Conv2D)  (None, 14, 14, 32)   36864       ['conv4_block15_1_relu[0][0]']   \n",
            "                                                                                                  \n",
            " conv4_block15_concat (Concaten  (None, 14, 14, 736)  0          ['conv4_block14_concat[0][0]',   \n",
            " ate)                                                             'conv4_block15_2_conv[0][0]']   \n",
            "                                                                                                  \n",
            " conv4_block16_0_bn (BatchNorma  (None, 14, 14, 736)  2944       ['conv4_block15_concat[0][0]']   \n",
            " lization)                                                                                        \n",
            "                                                                                                  \n",
            " conv4_block16_0_relu (Activati  (None, 14, 14, 736)  0          ['conv4_block16_0_bn[0][0]']     \n",
            " on)                                                                                              \n",
            "                                                                                                  \n",
            " conv4_block16_1_conv (Conv2D)  (None, 14, 14, 128)  94208       ['conv4_block16_0_relu[0][0]']   \n",
            "                                                                                                  \n",
            " conv4_block16_1_bn (BatchNorma  (None, 14, 14, 128)  512        ['conv4_block16_1_conv[0][0]']   \n",
            " lization)                                                                                        \n",
            "                                                                                                  \n",
            " conv4_block16_1_relu (Activati  (None, 14, 14, 128)  0          ['conv4_block16_1_bn[0][0]']     \n",
            " on)                                                                                              \n",
            "                                                                                                  \n",
            " conv4_block16_2_conv (Conv2D)  (None, 14, 14, 32)   36864       ['conv4_block16_1_relu[0][0]']   \n",
            "                                                                                                  \n",
            " conv4_block16_concat (Concaten  (None, 14, 14, 768)  0          ['conv4_block15_concat[0][0]',   \n",
            " ate)                                                             'conv4_block16_2_conv[0][0]']   \n",
            "                                                                                                  \n",
            " conv4_block17_0_bn (BatchNorma  (None, 14, 14, 768)  3072       ['conv4_block16_concat[0][0]']   \n",
            " lization)                                                                                        \n",
            "                                                                                                  \n",
            " conv4_block17_0_relu (Activati  (None, 14, 14, 768)  0          ['conv4_block17_0_bn[0][0]']     \n",
            " on)                                                                                              \n",
            "                                                                                                  \n",
            " conv4_block17_1_conv (Conv2D)  (None, 14, 14, 128)  98304       ['conv4_block17_0_relu[0][0]']   \n",
            "                                                                                                  \n",
            " conv4_block17_1_bn (BatchNorma  (None, 14, 14, 128)  512        ['conv4_block17_1_conv[0][0]']   \n",
            " lization)                                                                                        \n",
            "                                                                                                  \n",
            " conv4_block17_1_relu (Activati  (None, 14, 14, 128)  0          ['conv4_block17_1_bn[0][0]']     \n",
            " on)                                                                                              \n",
            "                                                                                                  \n",
            " conv4_block17_2_conv (Conv2D)  (None, 14, 14, 32)   36864       ['conv4_block17_1_relu[0][0]']   \n",
            "                                                                                                  \n",
            " conv4_block17_concat (Concaten  (None, 14, 14, 800)  0          ['conv4_block16_concat[0][0]',   \n",
            " ate)                                                             'conv4_block17_2_conv[0][0]']   \n",
            "                                                                                                  \n",
            " conv4_block18_0_bn (BatchNorma  (None, 14, 14, 800)  3200       ['conv4_block17_concat[0][0]']   \n",
            " lization)                                                                                        \n",
            "                                                                                                  \n",
            " conv4_block18_0_relu (Activati  (None, 14, 14, 800)  0          ['conv4_block18_0_bn[0][0]']     \n",
            " on)                                                                                              \n",
            "                                                                                                  \n",
            " conv4_block18_1_conv (Conv2D)  (None, 14, 14, 128)  102400      ['conv4_block18_0_relu[0][0]']   \n",
            "                                                                                                  \n",
            " conv4_block18_1_bn (BatchNorma  (None, 14, 14, 128)  512        ['conv4_block18_1_conv[0][0]']   \n",
            " lization)                                                                                        \n",
            "                                                                                                  \n",
            " conv4_block18_1_relu (Activati  (None, 14, 14, 128)  0          ['conv4_block18_1_bn[0][0]']     \n",
            " on)                                                                                              \n",
            "                                                                                                  \n",
            " conv4_block18_2_conv (Conv2D)  (None, 14, 14, 32)   36864       ['conv4_block18_1_relu[0][0]']   \n",
            "                                                                                                  \n",
            " conv4_block18_concat (Concaten  (None, 14, 14, 832)  0          ['conv4_block17_concat[0][0]',   \n",
            " ate)                                                             'conv4_block18_2_conv[0][0]']   \n",
            "                                                                                                  \n",
            " conv4_block19_0_bn (BatchNorma  (None, 14, 14, 832)  3328       ['conv4_block18_concat[0][0]']   \n",
            " lization)                                                                                        \n",
            "                                                                                                  \n",
            " conv4_block19_0_relu (Activati  (None, 14, 14, 832)  0          ['conv4_block19_0_bn[0][0]']     \n",
            " on)                                                                                              \n",
            "                                                                                                  \n",
            " conv4_block19_1_conv (Conv2D)  (None, 14, 14, 128)  106496      ['conv4_block19_0_relu[0][0]']   \n",
            "                                                                                                  \n",
            " conv4_block19_1_bn (BatchNorma  (None, 14, 14, 128)  512        ['conv4_block19_1_conv[0][0]']   \n",
            " lization)                                                                                        \n",
            "                                                                                                  \n",
            " conv4_block19_1_relu (Activati  (None, 14, 14, 128)  0          ['conv4_block19_1_bn[0][0]']     \n",
            " on)                                                                                              \n",
            "                                                                                                  \n",
            " conv4_block19_2_conv (Conv2D)  (None, 14, 14, 32)   36864       ['conv4_block19_1_relu[0][0]']   \n",
            "                                                                                                  \n",
            " conv4_block19_concat (Concaten  (None, 14, 14, 864)  0          ['conv4_block18_concat[0][0]',   \n",
            " ate)                                                             'conv4_block19_2_conv[0][0]']   \n",
            "                                                                                                  \n",
            " conv4_block20_0_bn (BatchNorma  (None, 14, 14, 864)  3456       ['conv4_block19_concat[0][0]']   \n",
            " lization)                                                                                        \n",
            "                                                                                                  \n",
            " conv4_block20_0_relu (Activati  (None, 14, 14, 864)  0          ['conv4_block20_0_bn[0][0]']     \n",
            " on)                                                                                              \n",
            "                                                                                                  \n",
            " conv4_block20_1_conv (Conv2D)  (None, 14, 14, 128)  110592      ['conv4_block20_0_relu[0][0]']   \n",
            "                                                                                                  \n",
            " conv4_block20_1_bn (BatchNorma  (None, 14, 14, 128)  512        ['conv4_block20_1_conv[0][0]']   \n",
            " lization)                                                                                        \n",
            "                                                                                                  \n",
            " conv4_block20_1_relu (Activati  (None, 14, 14, 128)  0          ['conv4_block20_1_bn[0][0]']     \n",
            " on)                                                                                              \n",
            "                                                                                                  \n",
            " conv4_block20_2_conv (Conv2D)  (None, 14, 14, 32)   36864       ['conv4_block20_1_relu[0][0]']   \n",
            "                                                                                                  \n",
            " conv4_block20_concat (Concaten  (None, 14, 14, 896)  0          ['conv4_block19_concat[0][0]',   \n",
            " ate)                                                             'conv4_block20_2_conv[0][0]']   \n",
            "                                                                                                  \n",
            " conv4_block21_0_bn (BatchNorma  (None, 14, 14, 896)  3584       ['conv4_block20_concat[0][0]']   \n",
            " lization)                                                                                        \n",
            "                                                                                                  \n",
            " conv4_block21_0_relu (Activati  (None, 14, 14, 896)  0          ['conv4_block21_0_bn[0][0]']     \n",
            " on)                                                                                              \n",
            "                                                                                                  \n",
            " conv4_block21_1_conv (Conv2D)  (None, 14, 14, 128)  114688      ['conv4_block21_0_relu[0][0]']   \n",
            "                                                                                                  \n",
            " conv4_block21_1_bn (BatchNorma  (None, 14, 14, 128)  512        ['conv4_block21_1_conv[0][0]']   \n",
            " lization)                                                                                        \n",
            "                                                                                                  \n",
            " conv4_block21_1_relu (Activati  (None, 14, 14, 128)  0          ['conv4_block21_1_bn[0][0]']     \n",
            " on)                                                                                              \n",
            "                                                                                                  \n",
            " conv4_block21_2_conv (Conv2D)  (None, 14, 14, 32)   36864       ['conv4_block21_1_relu[0][0]']   \n",
            "                                                                                                  \n",
            " conv4_block21_concat (Concaten  (None, 14, 14, 928)  0          ['conv4_block20_concat[0][0]',   \n",
            " ate)                                                             'conv4_block21_2_conv[0][0]']   \n",
            "                                                                                                  \n",
            " conv4_block22_0_bn (BatchNorma  (None, 14, 14, 928)  3712       ['conv4_block21_concat[0][0]']   \n",
            " lization)                                                                                        \n",
            "                                                                                                  \n",
            " conv4_block22_0_relu (Activati  (None, 14, 14, 928)  0          ['conv4_block22_0_bn[0][0]']     \n",
            " on)                                                                                              \n",
            "                                                                                                  \n",
            " conv4_block22_1_conv (Conv2D)  (None, 14, 14, 128)  118784      ['conv4_block22_0_relu[0][0]']   \n",
            "                                                                                                  \n",
            " conv4_block22_1_bn (BatchNorma  (None, 14, 14, 128)  512        ['conv4_block22_1_conv[0][0]']   \n",
            " lization)                                                                                        \n",
            "                                                                                                  \n",
            " conv4_block22_1_relu (Activati  (None, 14, 14, 128)  0          ['conv4_block22_1_bn[0][0]']     \n",
            " on)                                                                                              \n",
            "                                                                                                  \n",
            " conv4_block22_2_conv (Conv2D)  (None, 14, 14, 32)   36864       ['conv4_block22_1_relu[0][0]']   \n",
            "                                                                                                  \n",
            " conv4_block22_concat (Concaten  (None, 14, 14, 960)  0          ['conv4_block21_concat[0][0]',   \n",
            " ate)                                                             'conv4_block22_2_conv[0][0]']   \n",
            "                                                                                                  \n",
            " conv4_block23_0_bn (BatchNorma  (None, 14, 14, 960)  3840       ['conv4_block22_concat[0][0]']   \n",
            " lization)                                                                                        \n",
            "                                                                                                  \n",
            " conv4_block23_0_relu (Activati  (None, 14, 14, 960)  0          ['conv4_block23_0_bn[0][0]']     \n",
            " on)                                                                                              \n",
            "                                                                                                  \n",
            " conv4_block23_1_conv (Conv2D)  (None, 14, 14, 128)  122880      ['conv4_block23_0_relu[0][0]']   \n",
            "                                                                                                  \n",
            " conv4_block23_1_bn (BatchNorma  (None, 14, 14, 128)  512        ['conv4_block23_1_conv[0][0]']   \n",
            " lization)                                                                                        \n",
            "                                                                                                  \n",
            " conv4_block23_1_relu (Activati  (None, 14, 14, 128)  0          ['conv4_block23_1_bn[0][0]']     \n",
            " on)                                                                                              \n",
            "                                                                                                  \n",
            " conv4_block23_2_conv (Conv2D)  (None, 14, 14, 32)   36864       ['conv4_block23_1_relu[0][0]']   \n",
            "                                                                                                  \n",
            " conv4_block23_concat (Concaten  (None, 14, 14, 992)  0          ['conv4_block22_concat[0][0]',   \n",
            " ate)                                                             'conv4_block23_2_conv[0][0]']   \n",
            "                                                                                                  \n",
            " conv4_block24_0_bn (BatchNorma  (None, 14, 14, 992)  3968       ['conv4_block23_concat[0][0]']   \n",
            " lization)                                                                                        \n",
            "                                                                                                  \n",
            " conv4_block24_0_relu (Activati  (None, 14, 14, 992)  0          ['conv4_block24_0_bn[0][0]']     \n",
            " on)                                                                                              \n",
            "                                                                                                  \n",
            " conv4_block24_1_conv (Conv2D)  (None, 14, 14, 128)  126976      ['conv4_block24_0_relu[0][0]']   \n",
            "                                                                                                  \n",
            " conv4_block24_1_bn (BatchNorma  (None, 14, 14, 128)  512        ['conv4_block24_1_conv[0][0]']   \n",
            " lization)                                                                                        \n",
            "                                                                                                  \n",
            " conv4_block24_1_relu (Activati  (None, 14, 14, 128)  0          ['conv4_block24_1_bn[0][0]']     \n",
            " on)                                                                                              \n",
            "                                                                                                  \n",
            " conv4_block24_2_conv (Conv2D)  (None, 14, 14, 32)   36864       ['conv4_block24_1_relu[0][0]']   \n",
            "                                                                                                  \n",
            " conv4_block24_concat (Concaten  (None, 14, 14, 1024  0          ['conv4_block23_concat[0][0]',   \n",
            " ate)                           )                                 'conv4_block24_2_conv[0][0]']   \n",
            "                                                                                                  \n",
            " conv4_block25_0_bn (BatchNorma  (None, 14, 14, 1024  4096       ['conv4_block24_concat[0][0]']   \n",
            " lization)                      )                                                                 \n",
            "                                                                                                  \n",
            " conv4_block25_0_relu (Activati  (None, 14, 14, 1024  0          ['conv4_block25_0_bn[0][0]']     \n",
            " on)                            )                                                                 \n",
            "                                                                                                  \n",
            " conv4_block25_1_conv (Conv2D)  (None, 14, 14, 128)  131072      ['conv4_block25_0_relu[0][0]']   \n",
            "                                                                                                  \n",
            " conv4_block25_1_bn (BatchNorma  (None, 14, 14, 128)  512        ['conv4_block25_1_conv[0][0]']   \n",
            " lization)                                                                                        \n",
            "                                                                                                  \n",
            " conv4_block25_1_relu (Activati  (None, 14, 14, 128)  0          ['conv4_block25_1_bn[0][0]']     \n",
            " on)                                                                                              \n",
            "                                                                                                  \n",
            " conv4_block25_2_conv (Conv2D)  (None, 14, 14, 32)   36864       ['conv4_block25_1_relu[0][0]']   \n",
            "                                                                                                  \n",
            " conv4_block25_concat (Concaten  (None, 14, 14, 1056  0          ['conv4_block24_concat[0][0]',   \n",
            " ate)                           )                                 'conv4_block25_2_conv[0][0]']   \n",
            "                                                                                                  \n",
            " conv4_block26_0_bn (BatchNorma  (None, 14, 14, 1056  4224       ['conv4_block25_concat[0][0]']   \n",
            " lization)                      )                                                                 \n",
            "                                                                                                  \n",
            " conv4_block26_0_relu (Activati  (None, 14, 14, 1056  0          ['conv4_block26_0_bn[0][0]']     \n",
            " on)                            )                                                                 \n",
            "                                                                                                  \n",
            " conv4_block26_1_conv (Conv2D)  (None, 14, 14, 128)  135168      ['conv4_block26_0_relu[0][0]']   \n",
            "                                                                                                  \n",
            " conv4_block26_1_bn (BatchNorma  (None, 14, 14, 128)  512        ['conv4_block26_1_conv[0][0]']   \n",
            " lization)                                                                                        \n",
            "                                                                                                  \n",
            " conv4_block26_1_relu (Activati  (None, 14, 14, 128)  0          ['conv4_block26_1_bn[0][0]']     \n",
            " on)                                                                                              \n",
            "                                                                                                  \n",
            " conv4_block26_2_conv (Conv2D)  (None, 14, 14, 32)   36864       ['conv4_block26_1_relu[0][0]']   \n",
            "                                                                                                  \n",
            " conv4_block26_concat (Concaten  (None, 14, 14, 1088  0          ['conv4_block25_concat[0][0]',   \n",
            " ate)                           )                                 'conv4_block26_2_conv[0][0]']   \n",
            "                                                                                                  \n",
            " conv4_block27_0_bn (BatchNorma  (None, 14, 14, 1088  4352       ['conv4_block26_concat[0][0]']   \n",
            " lization)                      )                                                                 \n",
            "                                                                                                  \n",
            " conv4_block27_0_relu (Activati  (None, 14, 14, 1088  0          ['conv4_block27_0_bn[0][0]']     \n",
            " on)                            )                                                                 \n",
            "                                                                                                  \n",
            " conv4_block27_1_conv (Conv2D)  (None, 14, 14, 128)  139264      ['conv4_block27_0_relu[0][0]']   \n",
            "                                                                                                  \n",
            " conv4_block27_1_bn (BatchNorma  (None, 14, 14, 128)  512        ['conv4_block27_1_conv[0][0]']   \n",
            " lization)                                                                                        \n",
            "                                                                                                  \n",
            " conv4_block27_1_relu (Activati  (None, 14, 14, 128)  0          ['conv4_block27_1_bn[0][0]']     \n",
            " on)                                                                                              \n",
            "                                                                                                  \n",
            " conv4_block27_2_conv (Conv2D)  (None, 14, 14, 32)   36864       ['conv4_block27_1_relu[0][0]']   \n",
            "                                                                                                  \n",
            " conv4_block27_concat (Concaten  (None, 14, 14, 1120  0          ['conv4_block26_concat[0][0]',   \n",
            " ate)                           )                                 'conv4_block27_2_conv[0][0]']   \n",
            "                                                                                                  \n",
            " conv4_block28_0_bn (BatchNorma  (None, 14, 14, 1120  4480       ['conv4_block27_concat[0][0]']   \n",
            " lization)                      )                                                                 \n",
            "                                                                                                  \n",
            " conv4_block28_0_relu (Activati  (None, 14, 14, 1120  0          ['conv4_block28_0_bn[0][0]']     \n",
            " on)                            )                                                                 \n",
            "                                                                                                  \n",
            " conv4_block28_1_conv (Conv2D)  (None, 14, 14, 128)  143360      ['conv4_block28_0_relu[0][0]']   \n",
            "                                                                                                  \n",
            " conv4_block28_1_bn (BatchNorma  (None, 14, 14, 128)  512        ['conv4_block28_1_conv[0][0]']   \n",
            " lization)                                                                                        \n",
            "                                                                                                  \n",
            " conv4_block28_1_relu (Activati  (None, 14, 14, 128)  0          ['conv4_block28_1_bn[0][0]']     \n",
            " on)                                                                                              \n",
            "                                                                                                  \n",
            " conv4_block28_2_conv (Conv2D)  (None, 14, 14, 32)   36864       ['conv4_block28_1_relu[0][0]']   \n",
            "                                                                                                  \n",
            " conv4_block28_concat (Concaten  (None, 14, 14, 1152  0          ['conv4_block27_concat[0][0]',   \n",
            " ate)                           )                                 'conv4_block28_2_conv[0][0]']   \n",
            "                                                                                                  \n",
            " conv4_block29_0_bn (BatchNorma  (None, 14, 14, 1152  4608       ['conv4_block28_concat[0][0]']   \n",
            " lization)                      )                                                                 \n",
            "                                                                                                  \n",
            " conv4_block29_0_relu (Activati  (None, 14, 14, 1152  0          ['conv4_block29_0_bn[0][0]']     \n",
            " on)                            )                                                                 \n",
            "                                                                                                  \n",
            " conv4_block29_1_conv (Conv2D)  (None, 14, 14, 128)  147456      ['conv4_block29_0_relu[0][0]']   \n",
            "                                                                                                  \n",
            " conv4_block29_1_bn (BatchNorma  (None, 14, 14, 128)  512        ['conv4_block29_1_conv[0][0]']   \n",
            " lization)                                                                                        \n",
            "                                                                                                  \n",
            " conv4_block29_1_relu (Activati  (None, 14, 14, 128)  0          ['conv4_block29_1_bn[0][0]']     \n",
            " on)                                                                                              \n",
            "                                                                                                  \n",
            " conv4_block29_2_conv (Conv2D)  (None, 14, 14, 32)   36864       ['conv4_block29_1_relu[0][0]']   \n",
            "                                                                                                  \n",
            " conv4_block29_concat (Concaten  (None, 14, 14, 1184  0          ['conv4_block28_concat[0][0]',   \n",
            " ate)                           )                                 'conv4_block29_2_conv[0][0]']   \n",
            "                                                                                                  \n",
            " conv4_block30_0_bn (BatchNorma  (None, 14, 14, 1184  4736       ['conv4_block29_concat[0][0]']   \n",
            " lization)                      )                                                                 \n",
            "                                                                                                  \n",
            " conv4_block30_0_relu (Activati  (None, 14, 14, 1184  0          ['conv4_block30_0_bn[0][0]']     \n",
            " on)                            )                                                                 \n",
            "                                                                                                  \n",
            " conv4_block30_1_conv (Conv2D)  (None, 14, 14, 128)  151552      ['conv4_block30_0_relu[0][0]']   \n",
            "                                                                                                  \n",
            " conv4_block30_1_bn (BatchNorma  (None, 14, 14, 128)  512        ['conv4_block30_1_conv[0][0]']   \n",
            " lization)                                                                                        \n",
            "                                                                                                  \n",
            " conv4_block30_1_relu (Activati  (None, 14, 14, 128)  0          ['conv4_block30_1_bn[0][0]']     \n",
            " on)                                                                                              \n",
            "                                                                                                  \n",
            " conv4_block30_2_conv (Conv2D)  (None, 14, 14, 32)   36864       ['conv4_block30_1_relu[0][0]']   \n",
            "                                                                                                  \n",
            " conv4_block30_concat (Concaten  (None, 14, 14, 1216  0          ['conv4_block29_concat[0][0]',   \n",
            " ate)                           )                                 'conv4_block30_2_conv[0][0]']   \n",
            "                                                                                                  \n",
            " conv4_block31_0_bn (BatchNorma  (None, 14, 14, 1216  4864       ['conv4_block30_concat[0][0]']   \n",
            " lization)                      )                                                                 \n",
            "                                                                                                  \n",
            " conv4_block31_0_relu (Activati  (None, 14, 14, 1216  0          ['conv4_block31_0_bn[0][0]']     \n",
            " on)                            )                                                                 \n",
            "                                                                                                  \n",
            " conv4_block31_1_conv (Conv2D)  (None, 14, 14, 128)  155648      ['conv4_block31_0_relu[0][0]']   \n",
            "                                                                                                  \n",
            " conv4_block31_1_bn (BatchNorma  (None, 14, 14, 128)  512        ['conv4_block31_1_conv[0][0]']   \n",
            " lization)                                                                                        \n",
            "                                                                                                  \n",
            " conv4_block31_1_relu (Activati  (None, 14, 14, 128)  0          ['conv4_block31_1_bn[0][0]']     \n",
            " on)                                                                                              \n",
            "                                                                                                  \n",
            " conv4_block31_2_conv (Conv2D)  (None, 14, 14, 32)   36864       ['conv4_block31_1_relu[0][0]']   \n",
            "                                                                                                  \n",
            " conv4_block31_concat (Concaten  (None, 14, 14, 1248  0          ['conv4_block30_concat[0][0]',   \n",
            " ate)                           )                                 'conv4_block31_2_conv[0][0]']   \n",
            "                                                                                                  \n",
            " conv4_block32_0_bn (BatchNorma  (None, 14, 14, 1248  4992       ['conv4_block31_concat[0][0]']   \n",
            " lization)                      )                                                                 \n",
            "                                                                                                  \n",
            " conv4_block32_0_relu (Activati  (None, 14, 14, 1248  0          ['conv4_block32_0_bn[0][0]']     \n",
            " on)                            )                                                                 \n",
            "                                                                                                  \n",
            " conv4_block32_1_conv (Conv2D)  (None, 14, 14, 128)  159744      ['conv4_block32_0_relu[0][0]']   \n",
            "                                                                                                  \n",
            " conv4_block32_1_bn (BatchNorma  (None, 14, 14, 128)  512        ['conv4_block32_1_conv[0][0]']   \n",
            " lization)                                                                                        \n",
            "                                                                                                  \n",
            " conv4_block32_1_relu (Activati  (None, 14, 14, 128)  0          ['conv4_block32_1_bn[0][0]']     \n",
            " on)                                                                                              \n",
            "                                                                                                  \n",
            " conv4_block32_2_conv (Conv2D)  (None, 14, 14, 32)   36864       ['conv4_block32_1_relu[0][0]']   \n",
            "                                                                                                  \n",
            " conv4_block32_concat (Concaten  (None, 14, 14, 1280  0          ['conv4_block31_concat[0][0]',   \n",
            " ate)                           )                                 'conv4_block32_2_conv[0][0]']   \n",
            "                                                                                                  \n",
            " conv4_block33_0_bn (BatchNorma  (None, 14, 14, 1280  5120       ['conv4_block32_concat[0][0]']   \n",
            " lization)                      )                                                                 \n",
            "                                                                                                  \n",
            " conv4_block33_0_relu (Activati  (None, 14, 14, 1280  0          ['conv4_block33_0_bn[0][0]']     \n",
            " on)                            )                                                                 \n",
            "                                                                                                  \n",
            " conv4_block33_1_conv (Conv2D)  (None, 14, 14, 128)  163840      ['conv4_block33_0_relu[0][0]']   \n",
            "                                                                                                  \n",
            " conv4_block33_1_bn (BatchNorma  (None, 14, 14, 128)  512        ['conv4_block33_1_conv[0][0]']   \n",
            " lization)                                                                                        \n",
            "                                                                                                  \n",
            " conv4_block33_1_relu (Activati  (None, 14, 14, 128)  0          ['conv4_block33_1_bn[0][0]']     \n",
            " on)                                                                                              \n",
            "                                                                                                  \n",
            " conv4_block33_2_conv (Conv2D)  (None, 14, 14, 32)   36864       ['conv4_block33_1_relu[0][0]']   \n",
            "                                                                                                  \n",
            " conv4_block33_concat (Concaten  (None, 14, 14, 1312  0          ['conv4_block32_concat[0][0]',   \n",
            " ate)                           )                                 'conv4_block33_2_conv[0][0]']   \n",
            "                                                                                                  \n",
            " conv4_block34_0_bn (BatchNorma  (None, 14, 14, 1312  5248       ['conv4_block33_concat[0][0]']   \n",
            " lization)                      )                                                                 \n",
            "                                                                                                  \n",
            " conv4_block34_0_relu (Activati  (None, 14, 14, 1312  0          ['conv4_block34_0_bn[0][0]']     \n",
            " on)                            )                                                                 \n",
            "                                                                                                  \n",
            " conv4_block34_1_conv (Conv2D)  (None, 14, 14, 128)  167936      ['conv4_block34_0_relu[0][0]']   \n",
            "                                                                                                  \n",
            " conv4_block34_1_bn (BatchNorma  (None, 14, 14, 128)  512        ['conv4_block34_1_conv[0][0]']   \n",
            " lization)                                                                                        \n",
            "                                                                                                  \n",
            " conv4_block34_1_relu (Activati  (None, 14, 14, 128)  0          ['conv4_block34_1_bn[0][0]']     \n",
            " on)                                                                                              \n",
            "                                                                                                  \n",
            " conv4_block34_2_conv (Conv2D)  (None, 14, 14, 32)   36864       ['conv4_block34_1_relu[0][0]']   \n",
            "                                                                                                  \n",
            " conv4_block34_concat (Concaten  (None, 14, 14, 1344  0          ['conv4_block33_concat[0][0]',   \n",
            " ate)                           )                                 'conv4_block34_2_conv[0][0]']   \n",
            "                                                                                                  \n",
            " conv4_block35_0_bn (BatchNorma  (None, 14, 14, 1344  5376       ['conv4_block34_concat[0][0]']   \n",
            " lization)                      )                                                                 \n",
            "                                                                                                  \n",
            " conv4_block35_0_relu (Activati  (None, 14, 14, 1344  0          ['conv4_block35_0_bn[0][0]']     \n",
            " on)                            )                                                                 \n",
            "                                                                                                  \n",
            " conv4_block35_1_conv (Conv2D)  (None, 14, 14, 128)  172032      ['conv4_block35_0_relu[0][0]']   \n",
            "                                                                                                  \n",
            " conv4_block35_1_bn (BatchNorma  (None, 14, 14, 128)  512        ['conv4_block35_1_conv[0][0]']   \n",
            " lization)                                                                                        \n",
            "                                                                                                  \n",
            " conv4_block35_1_relu (Activati  (None, 14, 14, 128)  0          ['conv4_block35_1_bn[0][0]']     \n",
            " on)                                                                                              \n",
            "                                                                                                  \n",
            " conv4_block35_2_conv (Conv2D)  (None, 14, 14, 32)   36864       ['conv4_block35_1_relu[0][0]']   \n",
            "                                                                                                  \n",
            " conv4_block35_concat (Concaten  (None, 14, 14, 1376  0          ['conv4_block34_concat[0][0]',   \n",
            " ate)                           )                                 'conv4_block35_2_conv[0][0]']   \n",
            "                                                                                                  \n",
            " conv4_block36_0_bn (BatchNorma  (None, 14, 14, 1376  5504       ['conv4_block35_concat[0][0]']   \n",
            " lization)                      )                                                                 \n",
            "                                                                                                  \n",
            " conv4_block36_0_relu (Activati  (None, 14, 14, 1376  0          ['conv4_block36_0_bn[0][0]']     \n",
            " on)                            )                                                                 \n",
            "                                                                                                  \n",
            " conv4_block36_1_conv (Conv2D)  (None, 14, 14, 128)  176128      ['conv4_block36_0_relu[0][0]']   \n",
            "                                                                                                  \n",
            " conv4_block36_1_bn (BatchNorma  (None, 14, 14, 128)  512        ['conv4_block36_1_conv[0][0]']   \n",
            " lization)                                                                                        \n",
            "                                                                                                  \n",
            " conv4_block36_1_relu (Activati  (None, 14, 14, 128)  0          ['conv4_block36_1_bn[0][0]']     \n",
            " on)                                                                                              \n",
            "                                                                                                  \n",
            " conv4_block36_2_conv (Conv2D)  (None, 14, 14, 32)   36864       ['conv4_block36_1_relu[0][0]']   \n",
            "                                                                                                  \n",
            " conv4_block36_concat (Concaten  (None, 14, 14, 1408  0          ['conv4_block35_concat[0][0]',   \n",
            " ate)                           )                                 'conv4_block36_2_conv[0][0]']   \n",
            "                                                                                                  \n",
            " conv4_block37_0_bn (BatchNorma  (None, 14, 14, 1408  5632       ['conv4_block36_concat[0][0]']   \n",
            " lization)                      )                                                                 \n",
            "                                                                                                  \n",
            " conv4_block37_0_relu (Activati  (None, 14, 14, 1408  0          ['conv4_block37_0_bn[0][0]']     \n",
            " on)                            )                                                                 \n",
            "                                                                                                  \n",
            " conv4_block37_1_conv (Conv2D)  (None, 14, 14, 128)  180224      ['conv4_block37_0_relu[0][0]']   \n",
            "                                                                                                  \n",
            " conv4_block37_1_bn (BatchNorma  (None, 14, 14, 128)  512        ['conv4_block37_1_conv[0][0]']   \n",
            " lization)                                                                                        \n",
            "                                                                                                  \n",
            " conv4_block37_1_relu (Activati  (None, 14, 14, 128)  0          ['conv4_block37_1_bn[0][0]']     \n",
            " on)                                                                                              \n",
            "                                                                                                  \n",
            " conv4_block37_2_conv (Conv2D)  (None, 14, 14, 32)   36864       ['conv4_block37_1_relu[0][0]']   \n",
            "                                                                                                  \n",
            " conv4_block37_concat (Concaten  (None, 14, 14, 1440  0          ['conv4_block36_concat[0][0]',   \n",
            " ate)                           )                                 'conv4_block37_2_conv[0][0]']   \n",
            "                                                                                                  \n",
            " conv4_block38_0_bn (BatchNorma  (None, 14, 14, 1440  5760       ['conv4_block37_concat[0][0]']   \n",
            " lization)                      )                                                                 \n",
            "                                                                                                  \n",
            " conv4_block38_0_relu (Activati  (None, 14, 14, 1440  0          ['conv4_block38_0_bn[0][0]']     \n",
            " on)                            )                                                                 \n",
            "                                                                                                  \n",
            " conv4_block38_1_conv (Conv2D)  (None, 14, 14, 128)  184320      ['conv4_block38_0_relu[0][0]']   \n",
            "                                                                                                  \n",
            " conv4_block38_1_bn (BatchNorma  (None, 14, 14, 128)  512        ['conv4_block38_1_conv[0][0]']   \n",
            " lization)                                                                                        \n",
            "                                                                                                  \n",
            " conv4_block38_1_relu (Activati  (None, 14, 14, 128)  0          ['conv4_block38_1_bn[0][0]']     \n",
            " on)                                                                                              \n",
            "                                                                                                  \n",
            " conv4_block38_2_conv (Conv2D)  (None, 14, 14, 32)   36864       ['conv4_block38_1_relu[0][0]']   \n",
            "                                                                                                  \n",
            " conv4_block38_concat (Concaten  (None, 14, 14, 1472  0          ['conv4_block37_concat[0][0]',   \n",
            " ate)                           )                                 'conv4_block38_2_conv[0][0]']   \n",
            "                                                                                                  \n",
            " conv4_block39_0_bn (BatchNorma  (None, 14, 14, 1472  5888       ['conv4_block38_concat[0][0]']   \n",
            " lization)                      )                                                                 \n",
            "                                                                                                  \n",
            " conv4_block39_0_relu (Activati  (None, 14, 14, 1472  0          ['conv4_block39_0_bn[0][0]']     \n",
            " on)                            )                                                                 \n",
            "                                                                                                  \n",
            " conv4_block39_1_conv (Conv2D)  (None, 14, 14, 128)  188416      ['conv4_block39_0_relu[0][0]']   \n",
            "                                                                                                  \n",
            " conv4_block39_1_bn (BatchNorma  (None, 14, 14, 128)  512        ['conv4_block39_1_conv[0][0]']   \n",
            " lization)                                                                                        \n",
            "                                                                                                  \n",
            " conv4_block39_1_relu (Activati  (None, 14, 14, 128)  0          ['conv4_block39_1_bn[0][0]']     \n",
            " on)                                                                                              \n",
            "                                                                                                  \n",
            " conv4_block39_2_conv (Conv2D)  (None, 14, 14, 32)   36864       ['conv4_block39_1_relu[0][0]']   \n",
            "                                                                                                  \n",
            " conv4_block39_concat (Concaten  (None, 14, 14, 1504  0          ['conv4_block38_concat[0][0]',   \n",
            " ate)                           )                                 'conv4_block39_2_conv[0][0]']   \n",
            "                                                                                                  \n",
            " conv4_block40_0_bn (BatchNorma  (None, 14, 14, 1504  6016       ['conv4_block39_concat[0][0]']   \n",
            " lization)                      )                                                                 \n",
            "                                                                                                  \n",
            " conv4_block40_0_relu (Activati  (None, 14, 14, 1504  0          ['conv4_block40_0_bn[0][0]']     \n",
            " on)                            )                                                                 \n",
            "                                                                                                  \n",
            " conv4_block40_1_conv (Conv2D)  (None, 14, 14, 128)  192512      ['conv4_block40_0_relu[0][0]']   \n",
            "                                                                                                  \n",
            " conv4_block40_1_bn (BatchNorma  (None, 14, 14, 128)  512        ['conv4_block40_1_conv[0][0]']   \n",
            " lization)                                                                                        \n",
            "                                                                                                  \n",
            " conv4_block40_1_relu (Activati  (None, 14, 14, 128)  0          ['conv4_block40_1_bn[0][0]']     \n",
            " on)                                                                                              \n",
            "                                                                                                  \n",
            " conv4_block40_2_conv (Conv2D)  (None, 14, 14, 32)   36864       ['conv4_block40_1_relu[0][0]']   \n",
            "                                                                                                  \n",
            " conv4_block40_concat (Concaten  (None, 14, 14, 1536  0          ['conv4_block39_concat[0][0]',   \n",
            " ate)                           )                                 'conv4_block40_2_conv[0][0]']   \n",
            "                                                                                                  \n",
            " conv4_block41_0_bn (BatchNorma  (None, 14, 14, 1536  6144       ['conv4_block40_concat[0][0]']   \n",
            " lization)                      )                                                                 \n",
            "                                                                                                  \n",
            " conv4_block41_0_relu (Activati  (None, 14, 14, 1536  0          ['conv4_block41_0_bn[0][0]']     \n",
            " on)                            )                                                                 \n",
            "                                                                                                  \n",
            " conv4_block41_1_conv (Conv2D)  (None, 14, 14, 128)  196608      ['conv4_block41_0_relu[0][0]']   \n",
            "                                                                                                  \n",
            " conv4_block41_1_bn (BatchNorma  (None, 14, 14, 128)  512        ['conv4_block41_1_conv[0][0]']   \n",
            " lization)                                                                                        \n",
            "                                                                                                  \n",
            " conv4_block41_1_relu (Activati  (None, 14, 14, 128)  0          ['conv4_block41_1_bn[0][0]']     \n",
            " on)                                                                                              \n",
            "                                                                                                  \n",
            " conv4_block41_2_conv (Conv2D)  (None, 14, 14, 32)   36864       ['conv4_block41_1_relu[0][0]']   \n",
            "                                                                                                  \n",
            " conv4_block41_concat (Concaten  (None, 14, 14, 1568  0          ['conv4_block40_concat[0][0]',   \n",
            " ate)                           )                                 'conv4_block41_2_conv[0][0]']   \n",
            "                                                                                                  \n",
            " conv4_block42_0_bn (BatchNorma  (None, 14, 14, 1568  6272       ['conv4_block41_concat[0][0]']   \n",
            " lization)                      )                                                                 \n",
            "                                                                                                  \n",
            " conv4_block42_0_relu (Activati  (None, 14, 14, 1568  0          ['conv4_block42_0_bn[0][0]']     \n",
            " on)                            )                                                                 \n",
            "                                                                                                  \n",
            " conv4_block42_1_conv (Conv2D)  (None, 14, 14, 128)  200704      ['conv4_block42_0_relu[0][0]']   \n",
            "                                                                                                  \n",
            " conv4_block42_1_bn (BatchNorma  (None, 14, 14, 128)  512        ['conv4_block42_1_conv[0][0]']   \n",
            " lization)                                                                                        \n",
            "                                                                                                  \n",
            " conv4_block42_1_relu (Activati  (None, 14, 14, 128)  0          ['conv4_block42_1_bn[0][0]']     \n",
            " on)                                                                                              \n",
            "                                                                                                  \n",
            " conv4_block42_2_conv (Conv2D)  (None, 14, 14, 32)   36864       ['conv4_block42_1_relu[0][0]']   \n",
            "                                                                                                  \n",
            " conv4_block42_concat (Concaten  (None, 14, 14, 1600  0          ['conv4_block41_concat[0][0]',   \n",
            " ate)                           )                                 'conv4_block42_2_conv[0][0]']   \n",
            "                                                                                                  \n",
            " conv4_block43_0_bn (BatchNorma  (None, 14, 14, 1600  6400       ['conv4_block42_concat[0][0]']   \n",
            " lization)                      )                                                                 \n",
            "                                                                                                  \n",
            " conv4_block43_0_relu (Activati  (None, 14, 14, 1600  0          ['conv4_block43_0_bn[0][0]']     \n",
            " on)                            )                                                                 \n",
            "                                                                                                  \n",
            " conv4_block43_1_conv (Conv2D)  (None, 14, 14, 128)  204800      ['conv4_block43_0_relu[0][0]']   \n",
            "                                                                                                  \n",
            " conv4_block43_1_bn (BatchNorma  (None, 14, 14, 128)  512        ['conv4_block43_1_conv[0][0]']   \n",
            " lization)                                                                                        \n",
            "                                                                                                  \n",
            " conv4_block43_1_relu (Activati  (None, 14, 14, 128)  0          ['conv4_block43_1_bn[0][0]']     \n",
            " on)                                                                                              \n",
            "                                                                                                  \n",
            " conv4_block43_2_conv (Conv2D)  (None, 14, 14, 32)   36864       ['conv4_block43_1_relu[0][0]']   \n",
            "                                                                                                  \n",
            " conv4_block43_concat (Concaten  (None, 14, 14, 1632  0          ['conv4_block42_concat[0][0]',   \n",
            " ate)                           )                                 'conv4_block43_2_conv[0][0]']   \n",
            "                                                                                                  \n",
            " conv4_block44_0_bn (BatchNorma  (None, 14, 14, 1632  6528       ['conv4_block43_concat[0][0]']   \n",
            " lization)                      )                                                                 \n",
            "                                                                                                  \n",
            " conv4_block44_0_relu (Activati  (None, 14, 14, 1632  0          ['conv4_block44_0_bn[0][0]']     \n",
            " on)                            )                                                                 \n",
            "                                                                                                  \n",
            " conv4_block44_1_conv (Conv2D)  (None, 14, 14, 128)  208896      ['conv4_block44_0_relu[0][0]']   \n",
            "                                                                                                  \n",
            " conv4_block44_1_bn (BatchNorma  (None, 14, 14, 128)  512        ['conv4_block44_1_conv[0][0]']   \n",
            " lization)                                                                                        \n",
            "                                                                                                  \n",
            " conv4_block44_1_relu (Activati  (None, 14, 14, 128)  0          ['conv4_block44_1_bn[0][0]']     \n",
            " on)                                                                                              \n",
            "                                                                                                  \n",
            " conv4_block44_2_conv (Conv2D)  (None, 14, 14, 32)   36864       ['conv4_block44_1_relu[0][0]']   \n",
            "                                                                                                  \n",
            " conv4_block44_concat (Concaten  (None, 14, 14, 1664  0          ['conv4_block43_concat[0][0]',   \n",
            " ate)                           )                                 'conv4_block44_2_conv[0][0]']   \n",
            "                                                                                                  \n",
            " conv4_block45_0_bn (BatchNorma  (None, 14, 14, 1664  6656       ['conv4_block44_concat[0][0]']   \n",
            " lization)                      )                                                                 \n",
            "                                                                                                  \n",
            " conv4_block45_0_relu (Activati  (None, 14, 14, 1664  0          ['conv4_block45_0_bn[0][0]']     \n",
            " on)                            )                                                                 \n",
            "                                                                                                  \n",
            " conv4_block45_1_conv (Conv2D)  (None, 14, 14, 128)  212992      ['conv4_block45_0_relu[0][0]']   \n",
            "                                                                                                  \n",
            " conv4_block45_1_bn (BatchNorma  (None, 14, 14, 128)  512        ['conv4_block45_1_conv[0][0]']   \n",
            " lization)                                                                                        \n",
            "                                                                                                  \n",
            " conv4_block45_1_relu (Activati  (None, 14, 14, 128)  0          ['conv4_block45_1_bn[0][0]']     \n",
            " on)                                                                                              \n",
            "                                                                                                  \n",
            " conv4_block45_2_conv (Conv2D)  (None, 14, 14, 32)   36864       ['conv4_block45_1_relu[0][0]']   \n",
            "                                                                                                  \n",
            " conv4_block45_concat (Concaten  (None, 14, 14, 1696  0          ['conv4_block44_concat[0][0]',   \n",
            " ate)                           )                                 'conv4_block45_2_conv[0][0]']   \n",
            "                                                                                                  \n",
            " conv4_block46_0_bn (BatchNorma  (None, 14, 14, 1696  6784       ['conv4_block45_concat[0][0]']   \n",
            " lization)                      )                                                                 \n",
            "                                                                                                  \n",
            " conv4_block46_0_relu (Activati  (None, 14, 14, 1696  0          ['conv4_block46_0_bn[0][0]']     \n",
            " on)                            )                                                                 \n",
            "                                                                                                  \n",
            " conv4_block46_1_conv (Conv2D)  (None, 14, 14, 128)  217088      ['conv4_block46_0_relu[0][0]']   \n",
            "                                                                                                  \n",
            " conv4_block46_1_bn (BatchNorma  (None, 14, 14, 128)  512        ['conv4_block46_1_conv[0][0]']   \n",
            " lization)                                                                                        \n",
            "                                                                                                  \n",
            " conv4_block46_1_relu (Activati  (None, 14, 14, 128)  0          ['conv4_block46_1_bn[0][0]']     \n",
            " on)                                                                                              \n",
            "                                                                                                  \n",
            " conv4_block46_2_conv (Conv2D)  (None, 14, 14, 32)   36864       ['conv4_block46_1_relu[0][0]']   \n",
            "                                                                                                  \n",
            " conv4_block46_concat (Concaten  (None, 14, 14, 1728  0          ['conv4_block45_concat[0][0]',   \n",
            " ate)                           )                                 'conv4_block46_2_conv[0][0]']   \n",
            "                                                                                                  \n",
            " conv4_block47_0_bn (BatchNorma  (None, 14, 14, 1728  6912       ['conv4_block46_concat[0][0]']   \n",
            " lization)                      )                                                                 \n",
            "                                                                                                  \n",
            " conv4_block47_0_relu (Activati  (None, 14, 14, 1728  0          ['conv4_block47_0_bn[0][0]']     \n",
            " on)                            )                                                                 \n",
            "                                                                                                  \n",
            " conv4_block47_1_conv (Conv2D)  (None, 14, 14, 128)  221184      ['conv4_block47_0_relu[0][0]']   \n",
            "                                                                                                  \n",
            " conv4_block47_1_bn (BatchNorma  (None, 14, 14, 128)  512        ['conv4_block47_1_conv[0][0]']   \n",
            " lization)                                                                                        \n",
            "                                                                                                  \n",
            " conv4_block47_1_relu (Activati  (None, 14, 14, 128)  0          ['conv4_block47_1_bn[0][0]']     \n",
            " on)                                                                                              \n",
            "                                                                                                  \n",
            " conv4_block47_2_conv (Conv2D)  (None, 14, 14, 32)   36864       ['conv4_block47_1_relu[0][0]']   \n",
            "                                                                                                  \n",
            " conv4_block47_concat (Concaten  (None, 14, 14, 1760  0          ['conv4_block46_concat[0][0]',   \n",
            " ate)                           )                                 'conv4_block47_2_conv[0][0]']   \n",
            "                                                                                                  \n",
            " conv4_block48_0_bn (BatchNorma  (None, 14, 14, 1760  7040       ['conv4_block47_concat[0][0]']   \n",
            " lization)                      )                                                                 \n",
            "                                                                                                  \n",
            " conv4_block48_0_relu (Activati  (None, 14, 14, 1760  0          ['conv4_block48_0_bn[0][0]']     \n",
            " on)                            )                                                                 \n",
            "                                                                                                  \n",
            " conv4_block48_1_conv (Conv2D)  (None, 14, 14, 128)  225280      ['conv4_block48_0_relu[0][0]']   \n",
            "                                                                                                  \n",
            " conv4_block48_1_bn (BatchNorma  (None, 14, 14, 128)  512        ['conv4_block48_1_conv[0][0]']   \n",
            " lization)                                                                                        \n",
            "                                                                                                  \n",
            " conv4_block48_1_relu (Activati  (None, 14, 14, 128)  0          ['conv4_block48_1_bn[0][0]']     \n",
            " on)                                                                                              \n",
            "                                                                                                  \n",
            " conv4_block48_2_conv (Conv2D)  (None, 14, 14, 32)   36864       ['conv4_block48_1_relu[0][0]']   \n",
            "                                                                                                  \n",
            " conv4_block48_concat (Concaten  (None, 14, 14, 1792  0          ['conv4_block47_concat[0][0]',   \n",
            " ate)                           )                                 'conv4_block48_2_conv[0][0]']   \n",
            "                                                                                                  \n",
            " pool4_bn (BatchNormalization)  (None, 14, 14, 1792  7168        ['conv4_block48_concat[0][0]']   \n",
            "                                )                                                                 \n",
            "                                                                                                  \n",
            " pool4_relu (Activation)        (None, 14, 14, 1792  0           ['pool4_bn[0][0]']               \n",
            "                                )                                                                 \n",
            "                                                                                                  \n",
            " pool4_conv (Conv2D)            (None, 14, 14, 896)  1605632     ['pool4_relu[0][0]']             \n",
            "                                                                                                  \n",
            " pool4_pool (AveragePooling2D)  (None, 7, 7, 896)    0           ['pool4_conv[0][0]']             \n",
            "                                                                                                  \n",
            " conv5_block1_0_bn (BatchNormal  (None, 7, 7, 896)   3584        ['pool4_pool[0][0]']             \n",
            " ization)                                                                                         \n",
            "                                                                                                  \n",
            " conv5_block1_0_relu (Activatio  (None, 7, 7, 896)   0           ['conv5_block1_0_bn[0][0]']      \n",
            " n)                                                                                               \n",
            "                                                                                                  \n",
            " conv5_block1_1_conv (Conv2D)   (None, 7, 7, 128)    114688      ['conv5_block1_0_relu[0][0]']    \n",
            "                                                                                                  \n",
            " conv5_block1_1_bn (BatchNormal  (None, 7, 7, 128)   512         ['conv5_block1_1_conv[0][0]']    \n",
            " ization)                                                                                         \n",
            "                                                                                                  \n",
            " conv5_block1_1_relu (Activatio  (None, 7, 7, 128)   0           ['conv5_block1_1_bn[0][0]']      \n",
            " n)                                                                                               \n",
            "                                                                                                  \n",
            " conv5_block1_2_conv (Conv2D)   (None, 7, 7, 32)     36864       ['conv5_block1_1_relu[0][0]']    \n",
            "                                                                                                  \n",
            " conv5_block1_concat (Concatena  (None, 7, 7, 928)   0           ['pool4_pool[0][0]',             \n",
            " te)                                                              'conv5_block1_2_conv[0][0]']    \n",
            "                                                                                                  \n",
            " conv5_block2_0_bn (BatchNormal  (None, 7, 7, 928)   3712        ['conv5_block1_concat[0][0]']    \n",
            " ization)                                                                                         \n",
            "                                                                                                  \n",
            " conv5_block2_0_relu (Activatio  (None, 7, 7, 928)   0           ['conv5_block2_0_bn[0][0]']      \n",
            " n)                                                                                               \n",
            "                                                                                                  \n",
            " conv5_block2_1_conv (Conv2D)   (None, 7, 7, 128)    118784      ['conv5_block2_0_relu[0][0]']    \n",
            "                                                                                                  \n",
            " conv5_block2_1_bn (BatchNormal  (None, 7, 7, 128)   512         ['conv5_block2_1_conv[0][0]']    \n",
            " ization)                                                                                         \n",
            "                                                                                                  \n",
            " conv5_block2_1_relu (Activatio  (None, 7, 7, 128)   0           ['conv5_block2_1_bn[0][0]']      \n",
            " n)                                                                                               \n",
            "                                                                                                  \n",
            " conv5_block2_2_conv (Conv2D)   (None, 7, 7, 32)     36864       ['conv5_block2_1_relu[0][0]']    \n",
            "                                                                                                  \n",
            " conv5_block2_concat (Concatena  (None, 7, 7, 960)   0           ['conv5_block1_concat[0][0]',    \n",
            " te)                                                              'conv5_block2_2_conv[0][0]']    \n",
            "                                                                                                  \n",
            " conv5_block3_0_bn (BatchNormal  (None, 7, 7, 960)   3840        ['conv5_block2_concat[0][0]']    \n",
            " ization)                                                                                         \n",
            "                                                                                                  \n",
            " conv5_block3_0_relu (Activatio  (None, 7, 7, 960)   0           ['conv5_block3_0_bn[0][0]']      \n",
            " n)                                                                                               \n",
            "                                                                                                  \n",
            " conv5_block3_1_conv (Conv2D)   (None, 7, 7, 128)    122880      ['conv5_block3_0_relu[0][0]']    \n",
            "                                                                                                  \n",
            " conv5_block3_1_bn (BatchNormal  (None, 7, 7, 128)   512         ['conv5_block3_1_conv[0][0]']    \n",
            " ization)                                                                                         \n",
            "                                                                                                  \n",
            " conv5_block3_1_relu (Activatio  (None, 7, 7, 128)   0           ['conv5_block3_1_bn[0][0]']      \n",
            " n)                                                                                               \n",
            "                                                                                                  \n",
            " conv5_block3_2_conv (Conv2D)   (None, 7, 7, 32)     36864       ['conv5_block3_1_relu[0][0]']    \n",
            "                                                                                                  \n",
            " conv5_block3_concat (Concatena  (None, 7, 7, 992)   0           ['conv5_block2_concat[0][0]',    \n",
            " te)                                                              'conv5_block3_2_conv[0][0]']    \n",
            "                                                                                                  \n",
            " conv5_block4_0_bn (BatchNormal  (None, 7, 7, 992)   3968        ['conv5_block3_concat[0][0]']    \n",
            " ization)                                                                                         \n",
            "                                                                                                  \n",
            " conv5_block4_0_relu (Activatio  (None, 7, 7, 992)   0           ['conv5_block4_0_bn[0][0]']      \n",
            " n)                                                                                               \n",
            "                                                                                                  \n",
            " conv5_block4_1_conv (Conv2D)   (None, 7, 7, 128)    126976      ['conv5_block4_0_relu[0][0]']    \n",
            "                                                                                                  \n",
            " conv5_block4_1_bn (BatchNormal  (None, 7, 7, 128)   512         ['conv5_block4_1_conv[0][0]']    \n",
            " ization)                                                                                         \n",
            "                                                                                                  \n",
            " conv5_block4_1_relu (Activatio  (None, 7, 7, 128)   0           ['conv5_block4_1_bn[0][0]']      \n",
            " n)                                                                                               \n",
            "                                                                                                  \n",
            " conv5_block4_2_conv (Conv2D)   (None, 7, 7, 32)     36864       ['conv5_block4_1_relu[0][0]']    \n",
            "                                                                                                  \n",
            " conv5_block4_concat (Concatena  (None, 7, 7, 1024)  0           ['conv5_block3_concat[0][0]',    \n",
            " te)                                                              'conv5_block4_2_conv[0][0]']    \n",
            "                                                                                                  \n",
            " conv5_block5_0_bn (BatchNormal  (None, 7, 7, 1024)  4096        ['conv5_block4_concat[0][0]']    \n",
            " ization)                                                                                         \n",
            "                                                                                                  \n",
            " conv5_block5_0_relu (Activatio  (None, 7, 7, 1024)  0           ['conv5_block5_0_bn[0][0]']      \n",
            " n)                                                                                               \n",
            "                                                                                                  \n",
            " conv5_block5_1_conv (Conv2D)   (None, 7, 7, 128)    131072      ['conv5_block5_0_relu[0][0]']    \n",
            "                                                                                                  \n",
            " conv5_block5_1_bn (BatchNormal  (None, 7, 7, 128)   512         ['conv5_block5_1_conv[0][0]']    \n",
            " ization)                                                                                         \n",
            "                                                                                                  \n",
            " conv5_block5_1_relu (Activatio  (None, 7, 7, 128)   0           ['conv5_block5_1_bn[0][0]']      \n",
            " n)                                                                                               \n",
            "                                                                                                  \n",
            " conv5_block5_2_conv (Conv2D)   (None, 7, 7, 32)     36864       ['conv5_block5_1_relu[0][0]']    \n",
            "                                                                                                  \n",
            " conv5_block5_concat (Concatena  (None, 7, 7, 1056)  0           ['conv5_block4_concat[0][0]',    \n",
            " te)                                                              'conv5_block5_2_conv[0][0]']    \n",
            "                                                                                                  \n",
            " conv5_block6_0_bn (BatchNormal  (None, 7, 7, 1056)  4224        ['conv5_block5_concat[0][0]']    \n",
            " ization)                                                                                         \n",
            "                                                                                                  \n",
            " conv5_block6_0_relu (Activatio  (None, 7, 7, 1056)  0           ['conv5_block6_0_bn[0][0]']      \n",
            " n)                                                                                               \n",
            "                                                                                                  \n",
            " conv5_block6_1_conv (Conv2D)   (None, 7, 7, 128)    135168      ['conv5_block6_0_relu[0][0]']    \n",
            "                                                                                                  \n",
            " conv5_block6_1_bn (BatchNormal  (None, 7, 7, 128)   512         ['conv5_block6_1_conv[0][0]']    \n",
            " ization)                                                                                         \n",
            "                                                                                                  \n",
            " conv5_block6_1_relu (Activatio  (None, 7, 7, 128)   0           ['conv5_block6_1_bn[0][0]']      \n",
            " n)                                                                                               \n",
            "                                                                                                  \n",
            " conv5_block6_2_conv (Conv2D)   (None, 7, 7, 32)     36864       ['conv5_block6_1_relu[0][0]']    \n",
            "                                                                                                  \n",
            " conv5_block6_concat (Concatena  (None, 7, 7, 1088)  0           ['conv5_block5_concat[0][0]',    \n",
            " te)                                                              'conv5_block6_2_conv[0][0]']    \n",
            "                                                                                                  \n",
            " conv5_block7_0_bn (BatchNormal  (None, 7, 7, 1088)  4352        ['conv5_block6_concat[0][0]']    \n",
            " ization)                                                                                         \n",
            "                                                                                                  \n",
            " conv5_block7_0_relu (Activatio  (None, 7, 7, 1088)  0           ['conv5_block7_0_bn[0][0]']      \n",
            " n)                                                                                               \n",
            "                                                                                                  \n",
            " conv5_block7_1_conv (Conv2D)   (None, 7, 7, 128)    139264      ['conv5_block7_0_relu[0][0]']    \n",
            "                                                                                                  \n",
            " conv5_block7_1_bn (BatchNormal  (None, 7, 7, 128)   512         ['conv5_block7_1_conv[0][0]']    \n",
            " ization)                                                                                         \n",
            "                                                                                                  \n",
            " conv5_block7_1_relu (Activatio  (None, 7, 7, 128)   0           ['conv5_block7_1_bn[0][0]']      \n",
            " n)                                                                                               \n",
            "                                                                                                  \n",
            " conv5_block7_2_conv (Conv2D)   (None, 7, 7, 32)     36864       ['conv5_block7_1_relu[0][0]']    \n",
            "                                                                                                  \n",
            " conv5_block7_concat (Concatena  (None, 7, 7, 1120)  0           ['conv5_block6_concat[0][0]',    \n",
            " te)                                                              'conv5_block7_2_conv[0][0]']    \n",
            "                                                                                                  \n",
            " conv5_block8_0_bn (BatchNormal  (None, 7, 7, 1120)  4480        ['conv5_block7_concat[0][0]']    \n",
            " ization)                                                                                         \n",
            "                                                                                                  \n",
            " conv5_block8_0_relu (Activatio  (None, 7, 7, 1120)  0           ['conv5_block8_0_bn[0][0]']      \n",
            " n)                                                                                               \n",
            "                                                                                                  \n",
            " conv5_block8_1_conv (Conv2D)   (None, 7, 7, 128)    143360      ['conv5_block8_0_relu[0][0]']    \n",
            "                                                                                                  \n",
            " conv5_block8_1_bn (BatchNormal  (None, 7, 7, 128)   512         ['conv5_block8_1_conv[0][0]']    \n",
            " ization)                                                                                         \n",
            "                                                                                                  \n",
            " conv5_block8_1_relu (Activatio  (None, 7, 7, 128)   0           ['conv5_block8_1_bn[0][0]']      \n",
            " n)                                                                                               \n",
            "                                                                                                  \n",
            " conv5_block8_2_conv (Conv2D)   (None, 7, 7, 32)     36864       ['conv5_block8_1_relu[0][0]']    \n",
            "                                                                                                  \n",
            " conv5_block8_concat (Concatena  (None, 7, 7, 1152)  0           ['conv5_block7_concat[0][0]',    \n",
            " te)                                                              'conv5_block8_2_conv[0][0]']    \n",
            "                                                                                                  \n",
            " conv5_block9_0_bn (BatchNormal  (None, 7, 7, 1152)  4608        ['conv5_block8_concat[0][0]']    \n",
            " ization)                                                                                         \n",
            "                                                                                                  \n",
            " conv5_block9_0_relu (Activatio  (None, 7, 7, 1152)  0           ['conv5_block9_0_bn[0][0]']      \n",
            " n)                                                                                               \n",
            "                                                                                                  \n",
            " conv5_block9_1_conv (Conv2D)   (None, 7, 7, 128)    147456      ['conv5_block9_0_relu[0][0]']    \n",
            "                                                                                                  \n",
            " conv5_block9_1_bn (BatchNormal  (None, 7, 7, 128)   512         ['conv5_block9_1_conv[0][0]']    \n",
            " ization)                                                                                         \n",
            "                                                                                                  \n",
            " conv5_block9_1_relu (Activatio  (None, 7, 7, 128)   0           ['conv5_block9_1_bn[0][0]']      \n",
            " n)                                                                                               \n",
            "                                                                                                  \n",
            " conv5_block9_2_conv (Conv2D)   (None, 7, 7, 32)     36864       ['conv5_block9_1_relu[0][0]']    \n",
            "                                                                                                  \n",
            " conv5_block9_concat (Concatena  (None, 7, 7, 1184)  0           ['conv5_block8_concat[0][0]',    \n",
            " te)                                                              'conv5_block9_2_conv[0][0]']    \n",
            "                                                                                                  \n",
            " conv5_block10_0_bn (BatchNorma  (None, 7, 7, 1184)  4736        ['conv5_block9_concat[0][0]']    \n",
            " lization)                                                                                        \n",
            "                                                                                                  \n",
            " conv5_block10_0_relu (Activati  (None, 7, 7, 1184)  0           ['conv5_block10_0_bn[0][0]']     \n",
            " on)                                                                                              \n",
            "                                                                                                  \n",
            " conv5_block10_1_conv (Conv2D)  (None, 7, 7, 128)    151552      ['conv5_block10_0_relu[0][0]']   \n",
            "                                                                                                  \n",
            " conv5_block10_1_bn (BatchNorma  (None, 7, 7, 128)   512         ['conv5_block10_1_conv[0][0]']   \n",
            " lization)                                                                                        \n",
            "                                                                                                  \n",
            " conv5_block10_1_relu (Activati  (None, 7, 7, 128)   0           ['conv5_block10_1_bn[0][0]']     \n",
            " on)                                                                                              \n",
            "                                                                                                  \n",
            " conv5_block10_2_conv (Conv2D)  (None, 7, 7, 32)     36864       ['conv5_block10_1_relu[0][0]']   \n",
            "                                                                                                  \n",
            " conv5_block10_concat (Concaten  (None, 7, 7, 1216)  0           ['conv5_block9_concat[0][0]',    \n",
            " ate)                                                             'conv5_block10_2_conv[0][0]']   \n",
            "                                                                                                  \n",
            " conv5_block11_0_bn (BatchNorma  (None, 7, 7, 1216)  4864        ['conv5_block10_concat[0][0]']   \n",
            " lization)                                                                                        \n",
            "                                                                                                  \n",
            " conv5_block11_0_relu (Activati  (None, 7, 7, 1216)  0           ['conv5_block11_0_bn[0][0]']     \n",
            " on)                                                                                              \n",
            "                                                                                                  \n",
            " conv5_block11_1_conv (Conv2D)  (None, 7, 7, 128)    155648      ['conv5_block11_0_relu[0][0]']   \n",
            "                                                                                                  \n",
            " conv5_block11_1_bn (BatchNorma  (None, 7, 7, 128)   512         ['conv5_block11_1_conv[0][0]']   \n",
            " lization)                                                                                        \n",
            "                                                                                                  \n",
            " conv5_block11_1_relu (Activati  (None, 7, 7, 128)   0           ['conv5_block11_1_bn[0][0]']     \n",
            " on)                                                                                              \n",
            "                                                                                                  \n",
            " conv5_block11_2_conv (Conv2D)  (None, 7, 7, 32)     36864       ['conv5_block11_1_relu[0][0]']   \n",
            "                                                                                                  \n",
            " conv5_block11_concat (Concaten  (None, 7, 7, 1248)  0           ['conv5_block10_concat[0][0]',   \n",
            " ate)                                                             'conv5_block11_2_conv[0][0]']   \n",
            "                                                                                                  \n",
            " conv5_block12_0_bn (BatchNorma  (None, 7, 7, 1248)  4992        ['conv5_block11_concat[0][0]']   \n",
            " lization)                                                                                        \n",
            "                                                                                                  \n",
            " conv5_block12_0_relu (Activati  (None, 7, 7, 1248)  0           ['conv5_block12_0_bn[0][0]']     \n",
            " on)                                                                                              \n",
            "                                                                                                  \n",
            " conv5_block12_1_conv (Conv2D)  (None, 7, 7, 128)    159744      ['conv5_block12_0_relu[0][0]']   \n",
            "                                                                                                  \n",
            " conv5_block12_1_bn (BatchNorma  (None, 7, 7, 128)   512         ['conv5_block12_1_conv[0][0]']   \n",
            " lization)                                                                                        \n",
            "                                                                                                  \n",
            " conv5_block12_1_relu (Activati  (None, 7, 7, 128)   0           ['conv5_block12_1_bn[0][0]']     \n",
            " on)                                                                                              \n",
            "                                                                                                  \n",
            " conv5_block12_2_conv (Conv2D)  (None, 7, 7, 32)     36864       ['conv5_block12_1_relu[0][0]']   \n",
            "                                                                                                  \n",
            " conv5_block12_concat (Concaten  (None, 7, 7, 1280)  0           ['conv5_block11_concat[0][0]',   \n",
            " ate)                                                             'conv5_block12_2_conv[0][0]']   \n",
            "                                                                                                  \n",
            " conv5_block13_0_bn (BatchNorma  (None, 7, 7, 1280)  5120        ['conv5_block12_concat[0][0]']   \n",
            " lization)                                                                                        \n",
            "                                                                                                  \n",
            " conv5_block13_0_relu (Activati  (None, 7, 7, 1280)  0           ['conv5_block13_0_bn[0][0]']     \n",
            " on)                                                                                              \n",
            "                                                                                                  \n",
            " conv5_block13_1_conv (Conv2D)  (None, 7, 7, 128)    163840      ['conv5_block13_0_relu[0][0]']   \n",
            "                                                                                                  \n",
            " conv5_block13_1_bn (BatchNorma  (None, 7, 7, 128)   512         ['conv5_block13_1_conv[0][0]']   \n",
            " lization)                                                                                        \n",
            "                                                                                                  \n",
            " conv5_block13_1_relu (Activati  (None, 7, 7, 128)   0           ['conv5_block13_1_bn[0][0]']     \n",
            " on)                                                                                              \n",
            "                                                                                                  \n",
            " conv5_block13_2_conv (Conv2D)  (None, 7, 7, 32)     36864       ['conv5_block13_1_relu[0][0]']   \n",
            "                                                                                                  \n",
            " conv5_block13_concat (Concaten  (None, 7, 7, 1312)  0           ['conv5_block12_concat[0][0]',   \n",
            " ate)                                                             'conv5_block13_2_conv[0][0]']   \n",
            "                                                                                                  \n",
            " conv5_block14_0_bn (BatchNorma  (None, 7, 7, 1312)  5248        ['conv5_block13_concat[0][0]']   \n",
            " lization)                                                                                        \n",
            "                                                                                                  \n",
            " conv5_block14_0_relu (Activati  (None, 7, 7, 1312)  0           ['conv5_block14_0_bn[0][0]']     \n",
            " on)                                                                                              \n",
            "                                                                                                  \n",
            " conv5_block14_1_conv (Conv2D)  (None, 7, 7, 128)    167936      ['conv5_block14_0_relu[0][0]']   \n",
            "                                                                                                  \n",
            " conv5_block14_1_bn (BatchNorma  (None, 7, 7, 128)   512         ['conv5_block14_1_conv[0][0]']   \n",
            " lization)                                                                                        \n",
            "                                                                                                  \n",
            " conv5_block14_1_relu (Activati  (None, 7, 7, 128)   0           ['conv5_block14_1_bn[0][0]']     \n",
            " on)                                                                                              \n",
            "                                                                                                  \n",
            " conv5_block14_2_conv (Conv2D)  (None, 7, 7, 32)     36864       ['conv5_block14_1_relu[0][0]']   \n",
            "                                                                                                  \n",
            " conv5_block14_concat (Concaten  (None, 7, 7, 1344)  0           ['conv5_block13_concat[0][0]',   \n",
            " ate)                                                             'conv5_block14_2_conv[0][0]']   \n",
            "                                                                                                  \n",
            " conv5_block15_0_bn (BatchNorma  (None, 7, 7, 1344)  5376        ['conv5_block14_concat[0][0]']   \n",
            " lization)                                                                                        \n",
            "                                                                                                  \n",
            " conv5_block15_0_relu (Activati  (None, 7, 7, 1344)  0           ['conv5_block15_0_bn[0][0]']     \n",
            " on)                                                                                              \n",
            "                                                                                                  \n",
            " conv5_block15_1_conv (Conv2D)  (None, 7, 7, 128)    172032      ['conv5_block15_0_relu[0][0]']   \n",
            "                                                                                                  \n",
            " conv5_block15_1_bn (BatchNorma  (None, 7, 7, 128)   512         ['conv5_block15_1_conv[0][0]']   \n",
            " lization)                                                                                        \n",
            "                                                                                                  \n",
            " conv5_block15_1_relu (Activati  (None, 7, 7, 128)   0           ['conv5_block15_1_bn[0][0]']     \n",
            " on)                                                                                              \n",
            "                                                                                                  \n",
            " conv5_block15_2_conv (Conv2D)  (None, 7, 7, 32)     36864       ['conv5_block15_1_relu[0][0]']   \n",
            "                                                                                                  \n",
            " conv5_block15_concat (Concaten  (None, 7, 7, 1376)  0           ['conv5_block14_concat[0][0]',   \n",
            " ate)                                                             'conv5_block15_2_conv[0][0]']   \n",
            "                                                                                                  \n",
            " conv5_block16_0_bn (BatchNorma  (None, 7, 7, 1376)  5504        ['conv5_block15_concat[0][0]']   \n",
            " lization)                                                                                        \n",
            "                                                                                                  \n",
            " conv5_block16_0_relu (Activati  (None, 7, 7, 1376)  0           ['conv5_block16_0_bn[0][0]']     \n",
            " on)                                                                                              \n",
            "                                                                                                  \n",
            " conv5_block16_1_conv (Conv2D)  (None, 7, 7, 128)    176128      ['conv5_block16_0_relu[0][0]']   \n",
            "                                                                                                  \n",
            " conv5_block16_1_bn (BatchNorma  (None, 7, 7, 128)   512         ['conv5_block16_1_conv[0][0]']   \n",
            " lization)                                                                                        \n",
            "                                                                                                  \n",
            " conv5_block16_1_relu (Activati  (None, 7, 7, 128)   0           ['conv5_block16_1_bn[0][0]']     \n",
            " on)                                                                                              \n",
            "                                                                                                  \n",
            " conv5_block16_2_conv (Conv2D)  (None, 7, 7, 32)     36864       ['conv5_block16_1_relu[0][0]']   \n",
            "                                                                                                  \n",
            " conv5_block16_concat (Concaten  (None, 7, 7, 1408)  0           ['conv5_block15_concat[0][0]',   \n",
            " ate)                                                             'conv5_block16_2_conv[0][0]']   \n",
            "                                                                                                  \n",
            " conv5_block17_0_bn (BatchNorma  (None, 7, 7, 1408)  5632        ['conv5_block16_concat[0][0]']   \n",
            " lization)                                                                                        \n",
            "                                                                                                  \n",
            " conv5_block17_0_relu (Activati  (None, 7, 7, 1408)  0           ['conv5_block17_0_bn[0][0]']     \n",
            " on)                                                                                              \n",
            "                                                                                                  \n",
            " conv5_block17_1_conv (Conv2D)  (None, 7, 7, 128)    180224      ['conv5_block17_0_relu[0][0]']   \n",
            "                                                                                                  \n",
            " conv5_block17_1_bn (BatchNorma  (None, 7, 7, 128)   512         ['conv5_block17_1_conv[0][0]']   \n",
            " lization)                                                                                        \n",
            "                                                                                                  \n",
            " conv5_block17_1_relu (Activati  (None, 7, 7, 128)   0           ['conv5_block17_1_bn[0][0]']     \n",
            " on)                                                                                              \n",
            "                                                                                                  \n",
            " conv5_block17_2_conv (Conv2D)  (None, 7, 7, 32)     36864       ['conv5_block17_1_relu[0][0]']   \n",
            "                                                                                                  \n",
            " conv5_block17_concat (Concaten  (None, 7, 7, 1440)  0           ['conv5_block16_concat[0][0]',   \n",
            " ate)                                                             'conv5_block17_2_conv[0][0]']   \n",
            "                                                                                                  \n",
            " conv5_block18_0_bn (BatchNorma  (None, 7, 7, 1440)  5760        ['conv5_block17_concat[0][0]']   \n",
            " lization)                                                                                        \n",
            "                                                                                                  \n",
            " conv5_block18_0_relu (Activati  (None, 7, 7, 1440)  0           ['conv5_block18_0_bn[0][0]']     \n",
            " on)                                                                                              \n",
            "                                                                                                  \n",
            " conv5_block18_1_conv (Conv2D)  (None, 7, 7, 128)    184320      ['conv5_block18_0_relu[0][0]']   \n",
            "                                                                                                  \n",
            " conv5_block18_1_bn (BatchNorma  (None, 7, 7, 128)   512         ['conv5_block18_1_conv[0][0]']   \n",
            " lization)                                                                                        \n",
            "                                                                                                  \n",
            " conv5_block18_1_relu (Activati  (None, 7, 7, 128)   0           ['conv5_block18_1_bn[0][0]']     \n",
            " on)                                                                                              \n",
            "                                                                                                  \n",
            " conv5_block18_2_conv (Conv2D)  (None, 7, 7, 32)     36864       ['conv5_block18_1_relu[0][0]']   \n",
            "                                                                                                  \n",
            " conv5_block18_concat (Concaten  (None, 7, 7, 1472)  0           ['conv5_block17_concat[0][0]',   \n",
            " ate)                                                             'conv5_block18_2_conv[0][0]']   \n",
            "                                                                                                  \n",
            " conv5_block19_0_bn (BatchNorma  (None, 7, 7, 1472)  5888        ['conv5_block18_concat[0][0]']   \n",
            " lization)                                                                                        \n",
            "                                                                                                  \n",
            " conv5_block19_0_relu (Activati  (None, 7, 7, 1472)  0           ['conv5_block19_0_bn[0][0]']     \n",
            " on)                                                                                              \n",
            "                                                                                                  \n",
            " conv5_block19_1_conv (Conv2D)  (None, 7, 7, 128)    188416      ['conv5_block19_0_relu[0][0]']   \n",
            "                                                                                                  \n",
            " conv5_block19_1_bn (BatchNorma  (None, 7, 7, 128)   512         ['conv5_block19_1_conv[0][0]']   \n",
            " lization)                                                                                        \n",
            "                                                                                                  \n",
            " conv5_block19_1_relu (Activati  (None, 7, 7, 128)   0           ['conv5_block19_1_bn[0][0]']     \n",
            " on)                                                                                              \n",
            "                                                                                                  \n",
            " conv5_block19_2_conv (Conv2D)  (None, 7, 7, 32)     36864       ['conv5_block19_1_relu[0][0]']   \n",
            "                                                                                                  \n",
            " conv5_block19_concat (Concaten  (None, 7, 7, 1504)  0           ['conv5_block18_concat[0][0]',   \n",
            " ate)                                                             'conv5_block19_2_conv[0][0]']   \n",
            "                                                                                                  \n",
            " conv5_block20_0_bn (BatchNorma  (None, 7, 7, 1504)  6016        ['conv5_block19_concat[0][0]']   \n",
            " lization)                                                                                        \n",
            "                                                                                                  \n",
            " conv5_block20_0_relu (Activati  (None, 7, 7, 1504)  0           ['conv5_block20_0_bn[0][0]']     \n",
            " on)                                                                                              \n",
            "                                                                                                  \n",
            " conv5_block20_1_conv (Conv2D)  (None, 7, 7, 128)    192512      ['conv5_block20_0_relu[0][0]']   \n",
            "                                                                                                  \n",
            " conv5_block20_1_bn (BatchNorma  (None, 7, 7, 128)   512         ['conv5_block20_1_conv[0][0]']   \n",
            " lization)                                                                                        \n",
            "                                                                                                  \n",
            " conv5_block20_1_relu (Activati  (None, 7, 7, 128)   0           ['conv5_block20_1_bn[0][0]']     \n",
            " on)                                                                                              \n",
            "                                                                                                  \n",
            " conv5_block20_2_conv (Conv2D)  (None, 7, 7, 32)     36864       ['conv5_block20_1_relu[0][0]']   \n",
            "                                                                                                  \n",
            " conv5_block20_concat (Concaten  (None, 7, 7, 1536)  0           ['conv5_block19_concat[0][0]',   \n",
            " ate)                                                             'conv5_block20_2_conv[0][0]']   \n",
            "                                                                                                  \n",
            " conv5_block21_0_bn (BatchNorma  (None, 7, 7, 1536)  6144        ['conv5_block20_concat[0][0]']   \n",
            " lization)                                                                                        \n",
            "                                                                                                  \n",
            " conv5_block21_0_relu (Activati  (None, 7, 7, 1536)  0           ['conv5_block21_0_bn[0][0]']     \n",
            " on)                                                                                              \n",
            "                                                                                                  \n",
            " conv5_block21_1_conv (Conv2D)  (None, 7, 7, 128)    196608      ['conv5_block21_0_relu[0][0]']   \n",
            "                                                                                                  \n",
            " conv5_block21_1_bn (BatchNorma  (None, 7, 7, 128)   512         ['conv5_block21_1_conv[0][0]']   \n",
            " lization)                                                                                        \n",
            "                                                                                                  \n",
            " conv5_block21_1_relu (Activati  (None, 7, 7, 128)   0           ['conv5_block21_1_bn[0][0]']     \n",
            " on)                                                                                              \n",
            "                                                                                                  \n",
            " conv5_block21_2_conv (Conv2D)  (None, 7, 7, 32)     36864       ['conv5_block21_1_relu[0][0]']   \n",
            "                                                                                                  \n",
            " conv5_block21_concat (Concaten  (None, 7, 7, 1568)  0           ['conv5_block20_concat[0][0]',   \n",
            " ate)                                                             'conv5_block21_2_conv[0][0]']   \n",
            "                                                                                                  \n",
            " conv5_block22_0_bn (BatchNorma  (None, 7, 7, 1568)  6272        ['conv5_block21_concat[0][0]']   \n",
            " lization)                                                                                        \n",
            "                                                                                                  \n",
            " conv5_block22_0_relu (Activati  (None, 7, 7, 1568)  0           ['conv5_block22_0_bn[0][0]']     \n",
            " on)                                                                                              \n",
            "                                                                                                  \n",
            " conv5_block22_1_conv (Conv2D)  (None, 7, 7, 128)    200704      ['conv5_block22_0_relu[0][0]']   \n",
            "                                                                                                  \n",
            " conv5_block22_1_bn (BatchNorma  (None, 7, 7, 128)   512         ['conv5_block22_1_conv[0][0]']   \n",
            " lization)                                                                                        \n",
            "                                                                                                  \n",
            " conv5_block22_1_relu (Activati  (None, 7, 7, 128)   0           ['conv5_block22_1_bn[0][0]']     \n",
            " on)                                                                                              \n",
            "                                                                                                  \n",
            " conv5_block22_2_conv (Conv2D)  (None, 7, 7, 32)     36864       ['conv5_block22_1_relu[0][0]']   \n",
            "                                                                                                  \n",
            " conv5_block22_concat (Concaten  (None, 7, 7, 1600)  0           ['conv5_block21_concat[0][0]',   \n",
            " ate)                                                             'conv5_block22_2_conv[0][0]']   \n",
            "                                                                                                  \n",
            " conv5_block23_0_bn (BatchNorma  (None, 7, 7, 1600)  6400        ['conv5_block22_concat[0][0]']   \n",
            " lization)                                                                                        \n",
            "                                                                                                  \n",
            " conv5_block23_0_relu (Activati  (None, 7, 7, 1600)  0           ['conv5_block23_0_bn[0][0]']     \n",
            " on)                                                                                              \n",
            "                                                                                                  \n",
            " conv5_block23_1_conv (Conv2D)  (None, 7, 7, 128)    204800      ['conv5_block23_0_relu[0][0]']   \n",
            "                                                                                                  \n",
            " conv5_block23_1_bn (BatchNorma  (None, 7, 7, 128)   512         ['conv5_block23_1_conv[0][0]']   \n",
            " lization)                                                                                        \n",
            "                                                                                                  \n",
            " conv5_block23_1_relu (Activati  (None, 7, 7, 128)   0           ['conv5_block23_1_bn[0][0]']     \n",
            " on)                                                                                              \n",
            "                                                                                                  \n",
            " conv5_block23_2_conv (Conv2D)  (None, 7, 7, 32)     36864       ['conv5_block23_1_relu[0][0]']   \n",
            "                                                                                                  \n",
            " conv5_block23_concat (Concaten  (None, 7, 7, 1632)  0           ['conv5_block22_concat[0][0]',   \n",
            " ate)                                                             'conv5_block23_2_conv[0][0]']   \n",
            "                                                                                                  \n",
            " conv5_block24_0_bn (BatchNorma  (None, 7, 7, 1632)  6528        ['conv5_block23_concat[0][0]']   \n",
            " lization)                                                                                        \n",
            "                                                                                                  \n",
            " conv5_block24_0_relu (Activati  (None, 7, 7, 1632)  0           ['conv5_block24_0_bn[0][0]']     \n",
            " on)                                                                                              \n",
            "                                                                                                  \n",
            " conv5_block24_1_conv (Conv2D)  (None, 7, 7, 128)    208896      ['conv5_block24_0_relu[0][0]']   \n",
            "                                                                                                  \n",
            " conv5_block24_1_bn (BatchNorma  (None, 7, 7, 128)   512         ['conv5_block24_1_conv[0][0]']   \n",
            " lization)                                                                                        \n",
            "                                                                                                  \n",
            " conv5_block24_1_relu (Activati  (None, 7, 7, 128)   0           ['conv5_block24_1_bn[0][0]']     \n",
            " on)                                                                                              \n",
            "                                                                                                  \n",
            " conv5_block24_2_conv (Conv2D)  (None, 7, 7, 32)     36864       ['conv5_block24_1_relu[0][0]']   \n",
            "                                                                                                  \n",
            " conv5_block24_concat (Concaten  (None, 7, 7, 1664)  0           ['conv5_block23_concat[0][0]',   \n",
            " ate)                                                             'conv5_block24_2_conv[0][0]']   \n",
            "                                                                                                  \n",
            " conv5_block25_0_bn (BatchNorma  (None, 7, 7, 1664)  6656        ['conv5_block24_concat[0][0]']   \n",
            " lization)                                                                                        \n",
            "                                                                                                  \n",
            " conv5_block25_0_relu (Activati  (None, 7, 7, 1664)  0           ['conv5_block25_0_bn[0][0]']     \n",
            " on)                                                                                              \n",
            "                                                                                                  \n",
            " conv5_block25_1_conv (Conv2D)  (None, 7, 7, 128)    212992      ['conv5_block25_0_relu[0][0]']   \n",
            "                                                                                                  \n",
            " conv5_block25_1_bn (BatchNorma  (None, 7, 7, 128)   512         ['conv5_block25_1_conv[0][0]']   \n",
            " lization)                                                                                        \n",
            "                                                                                                  \n",
            " conv5_block25_1_relu (Activati  (None, 7, 7, 128)   0           ['conv5_block25_1_bn[0][0]']     \n",
            " on)                                                                                              \n",
            "                                                                                                  \n",
            " conv5_block25_2_conv (Conv2D)  (None, 7, 7, 32)     36864       ['conv5_block25_1_relu[0][0]']   \n",
            "                                                                                                  \n",
            " conv5_block25_concat (Concaten  (None, 7, 7, 1696)  0           ['conv5_block24_concat[0][0]',   \n",
            " ate)                                                             'conv5_block25_2_conv[0][0]']   \n",
            "                                                                                                  \n",
            " conv5_block26_0_bn (BatchNorma  (None, 7, 7, 1696)  6784        ['conv5_block25_concat[0][0]']   \n",
            " lization)                                                                                        \n",
            "                                                                                                  \n",
            " conv5_block26_0_relu (Activati  (None, 7, 7, 1696)  0           ['conv5_block26_0_bn[0][0]']     \n",
            " on)                                                                                              \n",
            "                                                                                                  \n",
            " conv5_block26_1_conv (Conv2D)  (None, 7, 7, 128)    217088      ['conv5_block26_0_relu[0][0]']   \n",
            "                                                                                                  \n",
            " conv5_block26_1_bn (BatchNorma  (None, 7, 7, 128)   512         ['conv5_block26_1_conv[0][0]']   \n",
            " lization)                                                                                        \n",
            "                                                                                                  \n",
            " conv5_block26_1_relu (Activati  (None, 7, 7, 128)   0           ['conv5_block26_1_bn[0][0]']     \n",
            " on)                                                                                              \n",
            "                                                                                                  \n",
            " conv5_block26_2_conv (Conv2D)  (None, 7, 7, 32)     36864       ['conv5_block26_1_relu[0][0]']   \n",
            "                                                                                                  \n",
            " conv5_block26_concat (Concaten  (None, 7, 7, 1728)  0           ['conv5_block25_concat[0][0]',   \n",
            " ate)                                                             'conv5_block26_2_conv[0][0]']   \n",
            "                                                                                                  \n",
            " conv5_block27_0_bn (BatchNorma  (None, 7, 7, 1728)  6912        ['conv5_block26_concat[0][0]']   \n",
            " lization)                                                                                        \n",
            "                                                                                                  \n",
            " conv5_block27_0_relu (Activati  (None, 7, 7, 1728)  0           ['conv5_block27_0_bn[0][0]']     \n",
            " on)                                                                                              \n",
            "                                                                                                  \n",
            " conv5_block27_1_conv (Conv2D)  (None, 7, 7, 128)    221184      ['conv5_block27_0_relu[0][0]']   \n",
            "                                                                                                  \n",
            " conv5_block27_1_bn (BatchNorma  (None, 7, 7, 128)   512         ['conv5_block27_1_conv[0][0]']   \n",
            " lization)                                                                                        \n",
            "                                                                                                  \n",
            " conv5_block27_1_relu (Activati  (None, 7, 7, 128)   0           ['conv5_block27_1_bn[0][0]']     \n",
            " on)                                                                                              \n",
            "                                                                                                  \n",
            " conv5_block27_2_conv (Conv2D)  (None, 7, 7, 32)     36864       ['conv5_block27_1_relu[0][0]']   \n",
            "                                                                                                  \n",
            " conv5_block27_concat (Concaten  (None, 7, 7, 1760)  0           ['conv5_block26_concat[0][0]',   \n",
            " ate)                                                             'conv5_block27_2_conv[0][0]']   \n",
            "                                                                                                  \n",
            " conv5_block28_0_bn (BatchNorma  (None, 7, 7, 1760)  7040        ['conv5_block27_concat[0][0]']   \n",
            " lization)                                                                                        \n",
            "                                                                                                  \n",
            " conv5_block28_0_relu (Activati  (None, 7, 7, 1760)  0           ['conv5_block28_0_bn[0][0]']     \n",
            " on)                                                                                              \n",
            "                                                                                                  \n",
            " conv5_block28_1_conv (Conv2D)  (None, 7, 7, 128)    225280      ['conv5_block28_0_relu[0][0]']   \n",
            "                                                                                                  \n",
            " conv5_block28_1_bn (BatchNorma  (None, 7, 7, 128)   512         ['conv5_block28_1_conv[0][0]']   \n",
            " lization)                                                                                        \n",
            "                                                                                                  \n",
            " conv5_block28_1_relu (Activati  (None, 7, 7, 128)   0           ['conv5_block28_1_bn[0][0]']     \n",
            " on)                                                                                              \n",
            "                                                                                                  \n",
            " conv5_block28_2_conv (Conv2D)  (None, 7, 7, 32)     36864       ['conv5_block28_1_relu[0][0]']   \n",
            "                                                                                                  \n",
            " conv5_block28_concat (Concaten  (None, 7, 7, 1792)  0           ['conv5_block27_concat[0][0]',   \n",
            " ate)                                                             'conv5_block28_2_conv[0][0]']   \n",
            "                                                                                                  \n",
            " conv5_block29_0_bn (BatchNorma  (None, 7, 7, 1792)  7168        ['conv5_block28_concat[0][0]']   \n",
            " lization)                                                                                        \n",
            "                                                                                                  \n",
            " conv5_block29_0_relu (Activati  (None, 7, 7, 1792)  0           ['conv5_block29_0_bn[0][0]']     \n",
            " on)                                                                                              \n",
            "                                                                                                  \n",
            " conv5_block29_1_conv (Conv2D)  (None, 7, 7, 128)    229376      ['conv5_block29_0_relu[0][0]']   \n",
            "                                                                                                  \n",
            " conv5_block29_1_bn (BatchNorma  (None, 7, 7, 128)   512         ['conv5_block29_1_conv[0][0]']   \n",
            " lization)                                                                                        \n",
            "                                                                                                  \n",
            " conv5_block29_1_relu (Activati  (None, 7, 7, 128)   0           ['conv5_block29_1_bn[0][0]']     \n",
            " on)                                                                                              \n",
            "                                                                                                  \n",
            " conv5_block29_2_conv (Conv2D)  (None, 7, 7, 32)     36864       ['conv5_block29_1_relu[0][0]']   \n",
            "                                                                                                  \n",
            " conv5_block29_concat (Concaten  (None, 7, 7, 1824)  0           ['conv5_block28_concat[0][0]',   \n",
            " ate)                                                             'conv5_block29_2_conv[0][0]']   \n",
            "                                                                                                  \n",
            " conv5_block30_0_bn (BatchNorma  (None, 7, 7, 1824)  7296        ['conv5_block29_concat[0][0]']   \n",
            " lization)                                                                                        \n",
            "                                                                                                  \n",
            " conv5_block30_0_relu (Activati  (None, 7, 7, 1824)  0           ['conv5_block30_0_bn[0][0]']     \n",
            " on)                                                                                              \n",
            "                                                                                                  \n",
            " conv5_block30_1_conv (Conv2D)  (None, 7, 7, 128)    233472      ['conv5_block30_0_relu[0][0]']   \n",
            "                                                                                                  \n",
            " conv5_block30_1_bn (BatchNorma  (None, 7, 7, 128)   512         ['conv5_block30_1_conv[0][0]']   \n",
            " lization)                                                                                        \n",
            "                                                                                                  \n",
            " conv5_block30_1_relu (Activati  (None, 7, 7, 128)   0           ['conv5_block30_1_bn[0][0]']     \n",
            " on)                                                                                              \n",
            "                                                                                                  \n",
            " conv5_block30_2_conv (Conv2D)  (None, 7, 7, 32)     36864       ['conv5_block30_1_relu[0][0]']   \n",
            "                                                                                                  \n",
            " conv5_block30_concat (Concaten  (None, 7, 7, 1856)  0           ['conv5_block29_concat[0][0]',   \n",
            " ate)                                                             'conv5_block30_2_conv[0][0]']   \n",
            "                                                                                                  \n",
            " conv5_block31_0_bn (BatchNorma  (None, 7, 7, 1856)  7424        ['conv5_block30_concat[0][0]']   \n",
            " lization)                                                                                        \n",
            "                                                                                                  \n",
            " conv5_block31_0_relu (Activati  (None, 7, 7, 1856)  0           ['conv5_block31_0_bn[0][0]']     \n",
            " on)                                                                                              \n",
            "                                                                                                  \n",
            " conv5_block31_1_conv (Conv2D)  (None, 7, 7, 128)    237568      ['conv5_block31_0_relu[0][0]']   \n",
            "                                                                                                  \n",
            " conv5_block31_1_bn (BatchNorma  (None, 7, 7, 128)   512         ['conv5_block31_1_conv[0][0]']   \n",
            " lization)                                                                                        \n",
            "                                                                                                  \n",
            " conv5_block31_1_relu (Activati  (None, 7, 7, 128)   0           ['conv5_block31_1_bn[0][0]']     \n",
            " on)                                                                                              \n",
            "                                                                                                  \n",
            " conv5_block31_2_conv (Conv2D)  (None, 7, 7, 32)     36864       ['conv5_block31_1_relu[0][0]']   \n",
            "                                                                                                  \n",
            " conv5_block31_concat (Concaten  (None, 7, 7, 1888)  0           ['conv5_block30_concat[0][0]',   \n",
            " ate)                                                             'conv5_block31_2_conv[0][0]']   \n",
            "                                                                                                  \n",
            " conv5_block32_0_bn (BatchNorma  (None, 7, 7, 1888)  7552        ['conv5_block31_concat[0][0]']   \n",
            " lization)                                                                                        \n",
            "                                                                                                  \n",
            " conv5_block32_0_relu (Activati  (None, 7, 7, 1888)  0           ['conv5_block32_0_bn[0][0]']     \n",
            " on)                                                                                              \n",
            "                                                                                                  \n",
            " conv5_block32_1_conv (Conv2D)  (None, 7, 7, 128)    241664      ['conv5_block32_0_relu[0][0]']   \n",
            "                                                                                                  \n",
            " conv5_block32_1_bn (BatchNorma  (None, 7, 7, 128)   512         ['conv5_block32_1_conv[0][0]']   \n",
            " lization)                                                                                        \n",
            "                                                                                                  \n",
            " conv5_block32_1_relu (Activati  (None, 7, 7, 128)   0           ['conv5_block32_1_bn[0][0]']     \n",
            " on)                                                                                              \n",
            "                                                                                                  \n",
            " conv5_block32_2_conv (Conv2D)  (None, 7, 7, 32)     36864       ['conv5_block32_1_relu[0][0]']   \n",
            "                                                                                                  \n",
            " conv5_block32_concat (Concaten  (None, 7, 7, 1920)  0           ['conv5_block31_concat[0][0]',   \n",
            " ate)                                                             'conv5_block32_2_conv[0][0]']   \n",
            "                                                                                                  \n",
            " bn (BatchNormalization)        (None, 7, 7, 1920)   7680        ['conv5_block32_concat[0][0]']   \n",
            "                                                                                                  \n",
            " relu (Activation)              (None, 7, 7, 1920)   0           ['bn[0][0]']                     \n",
            "                                                                                                  \n",
            "==================================================================================================\n",
            "Total params: 18,321,984\n",
            "Trainable params: 0\n",
            "Non-trainable params: 18,321,984\n",
            "__________________________________________________________________________________________________\n",
            "None\n",
            "After Merging ---->\n",
            "Model: \"model\"\n",
            "_________________________________________________________________\n",
            " Layer (type)                Output Shape              Param #   \n",
            "=================================================================\n",
            " inputLayer (InputLayer)     [(None, 224, 224, 3)]     0         \n",
            "                                                                 \n",
            " densenet201 (Functional)    (None, 7, 7, 1920)        18321984  \n",
            "                                                                 \n",
            " global_average_pooling2d (G  (None, 1920)             0         \n",
            " lobalAveragePooling2D)                                          \n",
            "                                                                 \n",
            " flatten (Flatten)           (None, 1920)              0         \n",
            "                                                                 \n",
            " dense (Dense)               (None, 120)               230520    \n",
            "                                                                 \n",
            " dense_1 (Dense)             (None, 84)                10164     \n",
            "                                                                 \n",
            " dense_3 (Dense)             (None, 9)                 765       \n",
            "                                                                 \n",
            "=================================================================\n",
            "Total params: 18,563,433\n",
            "Trainable params: 241,449\n",
            "Non-trainable params: 18,321,984\n",
            "_________________________________________________________________\n",
            "None\n",
            "^^^^^^^^^^^^^^^^^^^^^^^^^\n",
            "Started Model ->  DENSENET201\n"
          ]
        }
      ],
      "source": [
        "#def getModel(modelId , printSummary , Is_TL, Is_SVM, Is_TL_Tune):\n",
        "\n",
        "\n",
        "modelId = 8\n",
        "\n",
        "createModel = True\n",
        "Is_TL = True\n",
        "Is_SVM = False\n",
        "Is_TL_Tune = False\n",
        "printSummary = True\n",
        "\n",
        "if (Is_TL_Tune):\n",
        "    Is_TL = True\n",
        "\n",
        "model , conv_base = getModel(modelId,printSummary,Is_TL,Is_SVM, Is_TL_Tune)\n",
        "\n",
        "print('Started Model -> ',model.layers[1].name.upper())"
      ]
    },
    {
      "cell_type": "code",
      "execution_count": null,
      "id": "yZMZc0kEEpMK",
      "metadata": {
        "colab": {
          "base_uri": "https://localhost:8080/"
        },
        "id": "yZMZc0kEEpMK",
        "outputId": "07ad8f48-d917-451b-e014-4e1a6fea83c5"
      },
      "outputs": [
        {
          "output_type": "stream",
          "name": "stdout",
          "text": [
            "Python 3.7.12\n"
          ]
        }
      ],
      "source": [
        "!python -V\n"
      ]
    },
    {
      "cell_type": "code",
      "execution_count": null,
      "id": "57512044",
      "metadata": {
        "colab": {
          "base_uri": "https://localhost:8080/"
        },
        "id": "57512044",
        "outputId": "30b3c085-e7eb-4b7a-c70f-8af8ccddfb18",
        "scrolled": true
      },
      "outputs": [
        {
          "output_type": "stream",
          "name": "stdout",
          "text": [
            "Started at = 14:14:47\n",
            "Started Model ->  DENSENET201\n",
            "#################################################################\n",
            "\n",
            " Test run =  1\n",
            "No file moved. Source empty!\n",
            "No file moved. Source empty!\n",
            "No file moved. Source empty!\n",
            "No file moved. Source empty!\n",
            "No file moved. Source empty!\n",
            "No file moved. Source empty!\n",
            "No file moved. Source empty!\n",
            "No file moved. Source empty!\n",
            "No file moved. Source empty!\n",
            "\n",
            " Results for fold 1\n",
            "\n",
            " Folders Created ----->\n",
            "\n",
            " 620\n",
            "Initialised with 124 image(s) found.\n",
            "Output directory set to /content/drive/My Drive/Colab Notebooks/Images/Train/BLB/output."
          ]
        },
        {
          "output_type": "stream",
          "name": "stderr",
          "text": [
            "Processing <PIL.Image.Image image mode=RGB size=224x224 at 0x7FF1B80188D0>: 100%|██████████| 620/620 [00:05<00:00, 119.34 Samples/s]\n"
          ]
        },
        {
          "output_type": "stream",
          "name": "stdout",
          "text": [
            "\n",
            " 320\n",
            "Initialised with 64 image(s) found.\n",
            "Output directory set to /content/drive/My Drive/Colab Notebooks/Images/Train/BPH/output."
          ]
        },
        {
          "output_type": "stream",
          "name": "stderr",
          "text": [
            "Processing <PIL.Image.Image image mode=RGB size=224x224 at 0x7FF2E2116A50>: 100%|██████████| 320/320 [00:02<00:00, 112.28 Samples/s]\n"
          ]
        },
        {
          "output_type": "stream",
          "name": "stdout",
          "text": [
            "\n",
            " 500\n",
            "Initialised with 100 image(s) found.\n",
            "Output directory set to /content/drive/My Drive/Colab Notebooks/Images/Train/Brown_Spot/output."
          ]
        },
        {
          "output_type": "stream",
          "name": "stderr",
          "text": [
            "Processing <PIL.Image.Image image mode=RGB size=224x224 at 0x7FF1B9F89450>: 100%|██████████| 500/500 [00:04<00:00, 119.71 Samples/s]\n"
          ]
        },
        {
          "output_type": "stream",
          "name": "stdout",
          "text": [
            "\n",
            " 420\n",
            "Initialised with 84 image(s) found.\n",
            "Output directory set to /content/drive/My Drive/Colab Notebooks/Images/Train/False_Smut/output."
          ]
        },
        {
          "output_type": "stream",
          "name": "stderr",
          "text": [
            "Processing <PIL.Image.Image image mode=RGB size=224x224 at 0x7FF1B9F246D0>: 100%|██████████| 420/420 [00:03<00:00, 120.34 Samples/s]\n"
          ]
        },
        {
          "output_type": "stream",
          "name": "stdout",
          "text": [
            "\n",
            " 1055\n",
            "Initialised with 211 image(s) found.\n",
            "Output directory set to /content/drive/My Drive/Colab Notebooks/Images/Train/Healthy_Plant/output."
          ]
        },
        {
          "output_type": "stream",
          "name": "stderr",
          "text": [
            "Processing <PIL.Image.Image image mode=RGB size=224x224 at 0x7FF1B9692110>: 100%|██████████| 1055/1055 [00:08<00:00, 118.11 Samples/s]\n"
          ]
        },
        {
          "output_type": "stream",
          "name": "stdout",
          "text": [
            "\n",
            " 325\n",
            "Initialised with 65 image(s) found.\n",
            "Output directory set to /content/drive/My Drive/Colab Notebooks/Images/Train/Hispa/output."
          ]
        },
        {
          "output_type": "stream",
          "name": "stderr",
          "text": [
            "Processing <PIL.Image.Image image mode=RGB size=224x224 at 0x7FF1B923A890>: 100%|██████████| 325/325 [00:02<00:00, 118.92 Samples/s]\n"
          ]
        },
        {
          "output_type": "stream",
          "name": "stdout",
          "text": [
            "\n",
            " 1285\n",
            "Initialised with 257 image(s) found.\n",
            "Output directory set to /content/drive/My Drive/Colab Notebooks/Images/Train/Neck_Blast/output."
          ]
        },
        {
          "output_type": "stream",
          "name": "stderr",
          "text": [
            "Processing <PIL.Image.Image image mode=RGB size=224x224 at 0x7FF2E21EEBD0>: 100%|██████████| 1285/1285 [00:10<00:00, 120.27 Samples/s]\n"
          ]
        },
        {
          "output_type": "stream",
          "name": "stdout",
          "text": [
            "\n",
            " 985\n",
            "Initialised with 197 image(s) found.\n",
            "Output directory set to /content/drive/My Drive/Colab Notebooks/Images/Train/Sheath_Blight_Rot/output."
          ]
        },
        {
          "output_type": "stream",
          "name": "stderr",
          "text": [
            "Processing <PIL.Image.Image image mode=RGB size=224x224 at 0x7FF1B9232050>: 100%|██████████| 985/985 [00:08<00:00, 120.29 Samples/s]\n"
          ]
        },
        {
          "output_type": "stream",
          "name": "stdout",
          "text": [
            "\n",
            " 905\n",
            "Initialised with 181 image(s) found.\n",
            "Output directory set to /content/drive/My Drive/Colab Notebooks/Images/Train/Stemborer/output."
          ]
        },
        {
          "output_type": "stream",
          "name": "stderr",
          "text": [
            "Processing <PIL.Image.Image image mode=RGB size=224x224 at 0x7FF1B93C98D0>: 100%|██████████| 905/905 [00:07<00:00, 116.71 Samples/s]\n"
          ]
        },
        {
          "output_type": "stream",
          "name": "stdout",
          "text": [
            "Before move -  744\n",
            "After move -  744\n",
            "Before move -  384\n",
            "After move -  384\n",
            "Before move -  600\n",
            "After move -  600\n",
            "Before move -  504\n",
            "After move -  504\n",
            "Before move -  1266\n",
            "After move -  1266\n",
            "Before move -  390\n",
            "After move -  390\n",
            "Before move -  1542\n",
            "After move -  1542\n",
            "Before move -  1182\n",
            "After move -  1182\n",
            "Before move -  1086\n",
            "After move -  1086\n",
            "Found 7698 images belonging to 9 classes.\n",
            "Train data length ======  7698\n",
            "Found 143 images belonging to 9 classes.\n",
            "Test data length ======  143\n",
            "DenseNet201\n",
            "Before Fine Tuning---->\n",
            "Model: \"model_1\"\n",
            "_________________________________________________________________\n",
            " Layer (type)                Output Shape              Param #   \n",
            "=================================================================\n",
            " inputLayer (InputLayer)     [(None, 224, 224, 3)]     0         \n",
            "                                                                 \n",
            " densenet201 (Functional)    (None, 7, 7, 1920)        18321984  \n",
            "                                                                 \n",
            " global_average_pooling2d_1   (None, 1920)             0         \n",
            " (GlobalAveragePooling2D)                                        \n",
            "                                                                 \n",
            " flatten_1 (Flatten)         (None, 1920)              0         \n",
            "                                                                 \n",
            " dense_4 (Dense)             (None, 120)               230520    \n",
            "                                                                 \n",
            " dense_5 (Dense)             (None, 84)                10164     \n",
            "                                                                 \n",
            " dense_7 (Dense)             (None, 9)                 765       \n",
            "                                                                 \n",
            "=================================================================\n",
            "Total params: 18,563,433\n",
            "Trainable params: 241,449\n",
            "Non-trainable params: 18,321,984\n",
            "_________________________________________________________________\n",
            "None\n",
            "Epoch 1/20\n",
            "321/321 [==============================] - 40s 67ms/step - loss: 1.5084 - categorical_accuracy: 0.4925\n",
            "Epoch 2/20\n",
            "321/321 [==============================] - 20s 63ms/step - loss: 0.8068 - categorical_accuracy: 0.7506\n",
            "Epoch 3/20\n",
            "321/321 [==============================] - 20s 62ms/step - loss: 0.5698 - categorical_accuracy: 0.8281\n",
            "Epoch 4/20\n",
            "321/321 [==============================] - 20s 63ms/step - loss: 0.4457 - categorical_accuracy: 0.8711\n",
            "Epoch 5/20\n",
            "321/321 [==============================] - 20s 62ms/step - loss: 0.3635 - categorical_accuracy: 0.8950\n",
            "Epoch 6/20\n",
            "321/321 [==============================] - 20s 61ms/step - loss: 0.3038 - categorical_accuracy: 0.9126\n",
            "Epoch 7/20\n",
            "321/321 [==============================] - 20s 61ms/step - loss: 0.2588 - categorical_accuracy: 0.9306\n",
            "Epoch 8/20\n",
            "321/321 [==============================] - 20s 62ms/step - loss: 0.2213 - categorical_accuracy: 0.9426\n",
            "Epoch 9/20\n",
            "321/321 [==============================] - 20s 61ms/step - loss: 0.1927 - categorical_accuracy: 0.9505\n",
            "Epoch 10/20\n",
            "321/321 [==============================] - 20s 62ms/step - loss: 0.1683 - categorical_accuracy: 0.9570\n",
            "Epoch 11/20\n",
            "321/321 [==============================] - 20s 61ms/step - loss: 0.1462 - categorical_accuracy: 0.9665\n",
            "Epoch 12/20\n",
            "321/321 [==============================] - 20s 62ms/step - loss: 0.1289 - categorical_accuracy: 0.9713\n",
            "Epoch 13/20\n",
            "321/321 [==============================] - 20s 61ms/step - loss: 0.1140 - categorical_accuracy: 0.9747\n",
            "Epoch 14/20\n",
            "321/321 [==============================] - 20s 63ms/step - loss: 0.1003 - categorical_accuracy: 0.9797\n",
            "Epoch 15/20\n",
            "321/321 [==============================] - 19s 60ms/step - loss: 0.0884 - categorical_accuracy: 0.9834\n",
            "Epoch 16/20\n",
            "321/321 [==============================] - 19s 61ms/step - loss: 0.0762 - categorical_accuracy: 0.9871\n",
            "Epoch 17/20\n",
            "321/321 [==============================] - 20s 61ms/step - loss: 0.0680 - categorical_accuracy: 0.9906\n",
            "Epoch 18/20\n",
            "321/321 [==============================] - 20s 61ms/step - loss: 0.0603 - categorical_accuracy: 0.9914\n",
            "Epoch 19/20\n",
            "321/321 [==============================] - 20s 61ms/step - loss: 0.0533 - categorical_accuracy: 0.9926\n",
            "Epoch 20/20\n",
            "321/321 [==============================] - 20s 63ms/step - loss: 0.0466 - categorical_accuracy: 0.9944\n",
            "***Performance on Training data***\n",
            "Accuracy  : 0.9944141507148743\n",
            "======================================*\n",
            "6/6 [==============================] - 42s 8s/step\n",
            "***Performance on Validation data***\n",
            "Accuracy  : 0.951048951048951\n",
            "Precision : 0.9512124239396965\n",
            "f1Score : 0.9506606236433576\n",
            "[[14  0  0  0  0  0  0  0  0]\n",
            " [ 0  7  0  0  0  0  0  0  0]\n",
            " [ 1  0  9  0  1  0  0  0  0]\n",
            " [ 0  0  0  8  1  0  0  0  0]\n",
            " [ 0  0  1  0 20  0  0  1  1]\n",
            " [ 0  0  0  0  0  8  0  0  0]\n",
            " [ 0  0  0  0  0  0 29  0  0]\n",
            " [ 0  0  1  0  0  0  0 21  0]\n",
            " [ 0  0  0  0  0  0  0  0 20]]\n",
            "\n",
            " Results for fold 2\n",
            "\n",
            " Folders Created ----->\n",
            "\n",
            " 620\n",
            "Initialised with 124 image(s) found.\n",
            "Output directory set to /content/drive/My Drive/Colab Notebooks/Images/Train/BLB/output."
          ]
        },
        {
          "output_type": "stream",
          "name": "stderr",
          "text": [
            "Processing <PIL.Image.Image image mode=RGB size=224x224 at 0x7FF1AC11CB90>: 100%|██████████| 620/620 [00:05<00:00, 122.32 Samples/s]\n"
          ]
        },
        {
          "output_type": "stream",
          "name": "stdout",
          "text": [
            "\n",
            " 320\n",
            "Initialised with 64 image(s) found.\n",
            "Output directory set to /content/drive/My Drive/Colab Notebooks/Images/Train/BPH/output."
          ]
        },
        {
          "output_type": "stream",
          "name": "stderr",
          "text": [
            "Processing <PIL.Image.Image image mode=RGB size=224x224 at 0x7FF1AC7C5310>: 100%|██████████| 320/320 [00:02<00:00, 124.59 Samples/s]\n"
          ]
        },
        {
          "output_type": "stream",
          "name": "stdout",
          "text": [
            "\n",
            " 500\n",
            "Initialised with 100 image(s) found.\n",
            "Output directory set to /content/drive/My Drive/Colab Notebooks/Images/Train/Brown_Spot/output."
          ]
        },
        {
          "output_type": "stream",
          "name": "stderr",
          "text": [
            "Processing <PIL.Image.Image image mode=RGB size=224x224 at 0x7FF1AC1F3090>: 100%|██████████| 500/500 [00:04<00:00, 122.19 Samples/s]\n"
          ]
        },
        {
          "output_type": "stream",
          "name": "stdout",
          "text": [
            "\n",
            " 420\n",
            "Initialised with 84 image(s) found.\n",
            "Output directory set to /content/drive/My Drive/Colab Notebooks/Images/Train/False_Smut/output."
          ]
        },
        {
          "output_type": "stream",
          "name": "stderr",
          "text": [
            "Processing <PIL.Image.Image image mode=RGB size=224x224 at 0x7FF1AC093310>: 100%|██████████| 420/420 [00:03<00:00, 122.08 Samples/s]\n"
          ]
        },
        {
          "output_type": "stream",
          "name": "stdout",
          "text": [
            "\n",
            " 1055\n",
            "Initialised with 211 image(s) found.\n",
            "Output directory set to /content/drive/My Drive/Colab Notebooks/Images/Train/Healthy_Plant/output."
          ]
        },
        {
          "output_type": "stream",
          "name": "stderr",
          "text": [
            "Processing <PIL.Image.Image image mode=RGB size=224x224 at 0x7FF1AA1B7090>: 100%|██████████| 1055/1055 [00:08<00:00, 118.00 Samples/s]\n"
          ]
        },
        {
          "output_type": "stream",
          "name": "stdout",
          "text": [
            "\n",
            " 325\n",
            "Initialised with 65 image(s) found.\n",
            "Output directory set to /content/drive/My Drive/Colab Notebooks/Images/Train/Hispa/output."
          ]
        },
        {
          "output_type": "stream",
          "name": "stderr",
          "text": [
            "Processing <PIL.Image.Image image mode=RGB size=224x224 at 0x7FF1AC09FF50>: 100%|██████████| 325/325 [00:02<00:00, 121.18 Samples/s]\n"
          ]
        },
        {
          "output_type": "stream",
          "name": "stdout",
          "text": [
            "\n",
            " 1285\n",
            "Initialised with 257 image(s) found.\n",
            "Output directory set to /content/drive/My Drive/Colab Notebooks/Images/Train/Neck_Blast/output."
          ]
        },
        {
          "output_type": "stream",
          "name": "stderr",
          "text": [
            "Processing <PIL.Image.Image image mode=RGB size=224x224 at 0x7FF1AC006390>: 100%|██████████| 1285/1285 [00:10<00:00, 118.47 Samples/s]\n"
          ]
        },
        {
          "output_type": "stream",
          "name": "stdout",
          "text": [
            "\n",
            " 985\n",
            "Initialised with 197 image(s) found.\n",
            "Output directory set to /content/drive/My Drive/Colab Notebooks/Images/Train/Sheath_Blight_Rot/output."
          ]
        },
        {
          "output_type": "stream",
          "name": "stderr",
          "text": [
            "Processing <PIL.Image.Image image mode=RGB size=224x224 at 0x7FF1AC7D06D0>: 100%|██████████| 985/985 [00:08<00:00, 117.22 Samples/s]\n"
          ]
        },
        {
          "output_type": "stream",
          "name": "stdout",
          "text": [
            "\n",
            " 905\n",
            "Initialised with 181 image(s) found.\n",
            "Output directory set to /content/drive/My Drive/Colab Notebooks/Images/Train/Stemborer/output."
          ]
        },
        {
          "output_type": "stream",
          "name": "stderr",
          "text": [
            "Processing <PIL.Image.Image image mode=RGB size=224x224 at 0x7FF1AC045850>: 100%|██████████| 905/905 [00:07<00:00, 120.78 Samples/s]\n"
          ]
        },
        {
          "output_type": "stream",
          "name": "stdout",
          "text": [
            "Before move -  744\n",
            "After move -  744\n",
            "Before move -  384\n",
            "After move -  384\n",
            "Before move -  600\n",
            "After move -  600\n",
            "Before move -  504\n",
            "After move -  504\n",
            "Before move -  1266\n",
            "After move -  1266\n",
            "Before move -  390\n",
            "After move -  390\n",
            "Before move -  1542\n",
            "After move -  1542\n",
            "Before move -  1182\n",
            "After move -  1182\n",
            "Before move -  1086\n",
            "After move -  1086\n",
            "Found 7698 images belonging to 9 classes.\n",
            "Train data length ======  7698\n",
            "Found 143 images belonging to 9 classes.\n",
            "Test data length ======  143\n",
            "DenseNet201\n",
            "Before Fine Tuning---->\n",
            "Model: \"model_2\"\n",
            "_________________________________________________________________\n",
            " Layer (type)                Output Shape              Param #   \n",
            "=================================================================\n",
            " inputLayer (InputLayer)     [(None, 224, 224, 3)]     0         \n",
            "                                                                 \n",
            " densenet201 (Functional)    (None, 7, 7, 1920)        18321984  \n",
            "                                                                 \n",
            " global_average_pooling2d_2   (None, 1920)             0         \n",
            " (GlobalAveragePooling2D)                                        \n",
            "                                                                 \n",
            " flatten_2 (Flatten)         (None, 1920)              0         \n",
            "                                                                 \n",
            " dense_8 (Dense)             (None, 120)               230520    \n",
            "                                                                 \n",
            " dense_9 (Dense)             (None, 84)                10164     \n",
            "                                                                 \n",
            " dense_11 (Dense)            (None, 9)                 765       \n",
            "                                                                 \n",
            "=================================================================\n",
            "Total params: 18,563,433\n",
            "Trainable params: 241,449\n",
            "Non-trainable params: 18,321,984\n",
            "_________________________________________________________________\n",
            "None\n",
            "Epoch 1/20\n",
            "321/321 [==============================] - 30s 65ms/step - loss: 1.5034 - categorical_accuracy: 0.5008\n",
            "Epoch 2/20\n",
            "321/321 [==============================] - 20s 62ms/step - loss: 0.7772 - categorical_accuracy: 0.7677\n",
            "Epoch 3/20\n",
            "321/321 [==============================] - 20s 63ms/step - loss: 0.5536 - categorical_accuracy: 0.8341\n",
            "Epoch 4/20\n",
            "321/321 [==============================] - 21s 65ms/step - loss: 0.4347 - categorical_accuracy: 0.8730\n",
            "Epoch 5/20\n",
            "321/321 [==============================] - 22s 68ms/step - loss: 0.3576 - categorical_accuracy: 0.8980\n",
            "Epoch 6/20\n",
            "321/321 [==============================] - 21s 66ms/step - loss: 0.2987 - categorical_accuracy: 0.9195\n",
            "Epoch 7/20\n",
            "321/321 [==============================] - 20s 63ms/step - loss: 0.2559 - categorical_accuracy: 0.9308\n",
            "Epoch 8/20\n",
            "321/321 [==============================] - 20s 63ms/step - loss: 0.2197 - categorical_accuracy: 0.9434\n",
            "Epoch 9/20\n",
            "321/321 [==============================] - 20s 63ms/step - loss: 0.1894 - categorical_accuracy: 0.9509\n",
            "Epoch 10/20\n",
            "321/321 [==============================] - 21s 65ms/step - loss: 0.1658 - categorical_accuracy: 0.9592\n",
            "Epoch 11/20\n",
            "321/321 [==============================] - 20s 63ms/step - loss: 0.1446 - categorical_accuracy: 0.9669\n",
            "Epoch 12/20\n",
            "321/321 [==============================] - 20s 62ms/step - loss: 0.1260 - categorical_accuracy: 0.9734\n",
            "Epoch 13/20\n",
            "321/321 [==============================] - 20s 64ms/step - loss: 0.1106 - categorical_accuracy: 0.9770\n",
            "Epoch 14/20\n",
            "321/321 [==============================] - 21s 64ms/step - loss: 0.0976 - categorical_accuracy: 0.9829\n",
            "Epoch 15/20\n",
            "321/321 [==============================] - 20s 63ms/step - loss: 0.0866 - categorical_accuracy: 0.9836\n",
            "Epoch 16/20\n",
            "321/321 [==============================] - 20s 63ms/step - loss: 0.0761 - categorical_accuracy: 0.9864\n",
            "Epoch 17/20\n",
            "321/321 [==============================] - 20s 62ms/step - loss: 0.0661 - categorical_accuracy: 0.9880\n",
            "Epoch 18/20\n",
            "321/321 [==============================] - 20s 62ms/step - loss: 0.0590 - categorical_accuracy: 0.9916\n",
            "Epoch 19/20\n",
            "321/321 [==============================] - 20s 62ms/step - loss: 0.0519 - categorical_accuracy: 0.9936\n",
            "Epoch 20/20\n",
            "321/321 [==============================] - 21s 64ms/step - loss: 0.0449 - categorical_accuracy: 0.9952\n",
            "***Performance on Training data***\n",
            "Accuracy  : 0.9951935410499573\n",
            "======================================*\n",
            "6/6 [==============================] - 3s 65ms/step\n",
            "***Performance on Validation data***\n",
            "Accuracy  : 0.9230769230769231\n",
            "Precision : 0.9227439227439226\n",
            "f1Score : 0.921146696100904\n",
            "[[14  0  0  0  0  0  0  0  0]\n",
            " [ 0  5  0  0  0  1  0  1  0]\n",
            " [ 0  0 11  0  0  0  0  0  0]\n",
            " [ 0  0  0  8  0  0  0  0  1]\n",
            " [ 0  0  1  1 20  0  0  1  0]\n",
            " [ 1  2  0  0  0  5  0  0  0]\n",
            " [ 0  0  0  0  0  0 29  0  0]\n",
            " [ 1  0  0  0  1  0  0 20  0]\n",
            " [ 0  0  0  0  0  0  0  0 20]]\n",
            "\n",
            " Results for fold 3\n",
            "\n",
            " Folders Created ----->\n",
            "\n",
            " 620\n",
            "Initialised with 124 image(s) found.\n",
            "Output directory set to /content/drive/My Drive/Colab Notebooks/Images/Train/BLB/output."
          ]
        },
        {
          "output_type": "stream",
          "name": "stderr",
          "text": [
            "Processing <PIL.Image.Image image mode=RGB size=224x224 at 0x7FF19D957DD0>: 100%|██████████| 620/620 [00:05<00:00, 118.83 Samples/s]\n"
          ]
        },
        {
          "output_type": "stream",
          "name": "stdout",
          "text": [
            "\n",
            " 320\n",
            "Initialised with 64 image(s) found.\n",
            "Output directory set to /content/drive/My Drive/Colab Notebooks/Images/Train/BPH/output."
          ]
        },
        {
          "output_type": "stream",
          "name": "stderr",
          "text": [
            "Processing <PIL.Image.Image image mode=RGB size=224x224 at 0x7FF19D94F950>: 100%|██████████| 320/320 [00:02<00:00, 121.49 Samples/s]\n"
          ]
        },
        {
          "output_type": "stream",
          "name": "stdout",
          "text": [
            "\n",
            " 500\n",
            "Initialised with 100 image(s) found.\n",
            "Output directory set to /content/drive/My Drive/Colab Notebooks/Images/Train/Brown_Spot/output."
          ]
        },
        {
          "output_type": "stream",
          "name": "stderr",
          "text": [
            "Processing <PIL.Image.Image image mode=RGB size=224x224 at 0x7FF19DA27C90>: 100%|██████████| 500/500 [00:04<00:00, 118.65 Samples/s]\n"
          ]
        },
        {
          "output_type": "stream",
          "name": "stdout",
          "text": [
            "\n",
            " 420\n",
            "Initialised with 84 image(s) found.\n",
            "Output directory set to /content/drive/My Drive/Colab Notebooks/Images/Train/False_Smut/output."
          ]
        },
        {
          "output_type": "stream",
          "name": "stderr",
          "text": [
            "Processing <PIL.Image.Image image mode=RGB size=224x224 at 0x7FF19D94F510>: 100%|██████████| 420/420 [00:03<00:00, 123.99 Samples/s]\n"
          ]
        },
        {
          "output_type": "stream",
          "name": "stdout",
          "text": [
            "\n",
            " 1055\n",
            "Initialised with 211 image(s) found.\n",
            "Output directory set to /content/drive/My Drive/Colab Notebooks/Images/Train/Healthy_Plant/output."
          ]
        },
        {
          "output_type": "stream",
          "name": "stderr",
          "text": [
            "Processing <PIL.Image.Image image mode=RGB size=224x224 at 0x7FF1B9196E10>: 100%|██████████| 1055/1055 [00:09<00:00, 114.02 Samples/s]\n"
          ]
        },
        {
          "output_type": "stream",
          "name": "stdout",
          "text": [
            "\n",
            " 325\n",
            "Initialised with 65 image(s) found.\n",
            "Output directory set to /content/drive/My Drive/Colab Notebooks/Images/Train/Hispa/output."
          ]
        },
        {
          "output_type": "stream",
          "name": "stderr",
          "text": [
            "Processing <PIL.Image.Image image mode=RGB size=224x224 at 0x7FF1A1091FD0>: 100%|██████████| 325/325 [00:02<00:00, 119.88 Samples/s]\n"
          ]
        },
        {
          "output_type": "stream",
          "name": "stdout",
          "text": [
            "\n",
            " 1285\n",
            "Initialised with 257 image(s) found.\n",
            "Output directory set to /content/drive/My Drive/Colab Notebooks/Images/Train/Neck_Blast/output."
          ]
        },
        {
          "output_type": "stream",
          "name": "stderr",
          "text": [
            "Processing <PIL.Image.Image image mode=RGB size=224x224 at 0x7FF1A1541A50>: 100%|██████████| 1285/1285 [00:10<00:00, 119.32 Samples/s]\n"
          ]
        },
        {
          "output_type": "stream",
          "name": "stdout",
          "text": [
            "\n",
            " 985\n",
            "Initialised with 197 image(s) found.\n",
            "Output directory set to /content/drive/My Drive/Colab Notebooks/Images/Train/Sheath_Blight_Rot/output."
          ]
        },
        {
          "output_type": "stream",
          "name": "stderr",
          "text": [
            "Processing <PIL.Image.Image image mode=RGB size=224x224 at 0x7FF1B96AF610>: 100%|██████████| 985/985 [00:08<00:00, 122.33 Samples/s]\n"
          ]
        },
        {
          "output_type": "stream",
          "name": "stdout",
          "text": [
            "\n",
            " 905\n",
            "Initialised with 181 image(s) found.\n",
            "Output directory set to /content/drive/My Drive/Colab Notebooks/Images/Train/Stemborer/output."
          ]
        },
        {
          "output_type": "stream",
          "name": "stderr",
          "text": [
            "Processing <PIL.Image.Image image mode=RGB size=224x224 at 0x7FF1B9FA7510>: 100%|██████████| 905/905 [00:07<00:00, 119.28 Samples/s]\n"
          ]
        },
        {
          "output_type": "stream",
          "name": "stdout",
          "text": [
            "Before move -  744\n",
            "After move -  744\n",
            "Before move -  384\n",
            "After move -  384\n",
            "Before move -  600\n",
            "After move -  600\n",
            "Before move -  504\n",
            "After move -  504\n",
            "Before move -  1266\n",
            "After move -  1266\n",
            "Before move -  390\n",
            "After move -  390\n",
            "Before move -  1542\n",
            "After move -  1542\n",
            "Before move -  1182\n",
            "After move -  1182\n",
            "Before move -  1086\n",
            "After move -  1086\n",
            "Found 7698 images belonging to 9 classes.\n",
            "Train data length ======  7698\n",
            "Found 143 images belonging to 9 classes.\n",
            "Test data length ======  143\n",
            "DenseNet201\n",
            "Before Fine Tuning---->\n",
            "Model: \"model_3\"\n",
            "_________________________________________________________________\n",
            " Layer (type)                Output Shape              Param #   \n",
            "=================================================================\n",
            " inputLayer (InputLayer)     [(None, 224, 224, 3)]     0         \n",
            "                                                                 \n",
            " densenet201 (Functional)    (None, 7, 7, 1920)        18321984  \n",
            "                                                                 \n",
            " global_average_pooling2d_3   (None, 1920)             0         \n",
            " (GlobalAveragePooling2D)                                        \n",
            "                                                                 \n",
            " flatten_3 (Flatten)         (None, 1920)              0         \n",
            "                                                                 \n",
            " dense_12 (Dense)            (None, 120)               230520    \n",
            "                                                                 \n",
            " dense_13 (Dense)            (None, 84)                10164     \n",
            "                                                                 \n",
            " dense_15 (Dense)            (None, 9)                 765       \n",
            "                                                                 \n",
            "=================================================================\n",
            "Total params: 18,563,433\n",
            "Trainable params: 241,449\n",
            "Non-trainable params: 18,321,984\n",
            "_________________________________________________________________\n",
            "None\n",
            "Epoch 1/20\n",
            "321/321 [==============================] - 30s 65ms/step - loss: 1.4699 - categorical_accuracy: 0.4978\n",
            "Epoch 2/20\n",
            "321/321 [==============================] - 21s 64ms/step - loss: 0.7620 - categorical_accuracy: 0.7625\n",
            "Epoch 3/20\n",
            "321/321 [==============================] - 21s 65ms/step - loss: 0.5363 - categorical_accuracy: 0.8384\n",
            "Epoch 4/20\n",
            "321/321 [==============================] - 20s 64ms/step - loss: 0.4216 - categorical_accuracy: 0.8756\n",
            "Epoch 5/20\n",
            "321/321 [==============================] - 20s 63ms/step - loss: 0.3407 - categorical_accuracy: 0.9054\n",
            "Epoch 6/20\n",
            "321/321 [==============================] - 22s 68ms/step - loss: 0.2874 - categorical_accuracy: 0.9201\n",
            "Epoch 7/20\n",
            "321/321 [==============================] - 21s 64ms/step - loss: 0.2444 - categorical_accuracy: 0.9376\n",
            "Epoch 8/20\n",
            "321/321 [==============================] - 21s 66ms/step - loss: 0.2115 - categorical_accuracy: 0.9461\n",
            "Epoch 9/20\n",
            "321/321 [==============================] - 20s 63ms/step - loss: 0.1856 - categorical_accuracy: 0.9541\n",
            "Epoch 10/20\n",
            "321/321 [==============================] - 21s 65ms/step - loss: 0.1614 - categorical_accuracy: 0.9643\n",
            "Epoch 11/20\n",
            "321/321 [==============================] - 21s 64ms/step - loss: 0.1429 - categorical_accuracy: 0.9687\n",
            "Epoch 12/20\n",
            "321/321 [==============================] - 20s 63ms/step - loss: 0.1265 - categorical_accuracy: 0.9732\n",
            "Epoch 13/20\n",
            "321/321 [==============================] - 20s 63ms/step - loss: 0.1125 - categorical_accuracy: 0.9758\n",
            "Epoch 14/20\n",
            "321/321 [==============================] - 20s 62ms/step - loss: 0.1001 - categorical_accuracy: 0.9793\n",
            "Epoch 15/20\n",
            "321/321 [==============================] - 20s 62ms/step - loss: 0.0887 - categorical_accuracy: 0.9831\n",
            "Epoch 16/20\n",
            "321/321 [==============================] - 20s 62ms/step - loss: 0.0792 - categorical_accuracy: 0.9862\n",
            "Epoch 17/20\n",
            "321/321 [==============================] - 20s 62ms/step - loss: 0.0698 - categorical_accuracy: 0.9890\n",
            "Epoch 18/20\n",
            "321/321 [==============================] - 20s 62ms/step - loss: 0.0628 - categorical_accuracy: 0.9895\n",
            "Epoch 19/20\n",
            "321/321 [==============================] - 20s 62ms/step - loss: 0.0561 - categorical_accuracy: 0.9927\n",
            "Epoch 20/20\n",
            "321/321 [==============================] - 21s 66ms/step - loss: 0.0483 - categorical_accuracy: 0.9945\n",
            "***Performance on Training data***\n",
            "Accuracy  : 0.9945440292358398\n",
            "======================================*\n",
            "6/6 [==============================] - 3s 66ms/step\n",
            "***Performance on Validation data***\n",
            "Accuracy  : 0.958041958041958\n",
            "Precision : 0.9596320346320345\n",
            "f1Score : 0.9580804239312768\n",
            "[[14  0  0  0  0  0  0  0  0]\n",
            " [ 0  7  0  0  0  0  0  0  0]\n",
            " [ 0  0 11  0  0  0  0  0  0]\n",
            " [ 0  0  0  8  1  0  0  0  0]\n",
            " [ 0  0  0  0 22  0  0  1  0]\n",
            " [ 0  1  0  0  0  7  0  0  0]\n",
            " [ 0  0  0  0  1  0 28  0  0]\n",
            " [ 1  0  0  1  0  0  0 20  0]\n",
            " [ 0  0  0  0  0  0  0  0 20]]\n",
            "\n",
            " Results for fold 4\n",
            "\n",
            " Folders Created ----->\n",
            "\n",
            " 625\n",
            "Initialised with 125 image(s) found.\n",
            "Output directory set to /content/drive/My Drive/Colab Notebooks/Images/Train/BLB/output."
          ]
        },
        {
          "output_type": "stream",
          "name": "stderr",
          "text": [
            "Processing <PIL.Image.Image image mode=RGB size=224x224 at 0x7FF1ADE00D50>: 100%|██████████| 625/625 [00:06<00:00, 98.68 Samples/s] \n"
          ]
        },
        {
          "output_type": "stream",
          "name": "stdout",
          "text": [
            "\n",
            " 320\n",
            "Initialised with 64 image(s) found.\n",
            "Output directory set to /content/drive/My Drive/Colab Notebooks/Images/Train/BPH/output."
          ]
        },
        {
          "output_type": "stream",
          "name": "stderr",
          "text": [
            "Processing <PIL.Image.Image image mode=RGB size=224x224 at 0x7FF1AEB0E110>: 100%|██████████| 320/320 [00:02<00:00, 114.01 Samples/s]\n"
          ]
        },
        {
          "output_type": "stream",
          "name": "stdout",
          "text": [
            "\n",
            " 500\n",
            "Initialised with 100 image(s) found.\n",
            "Output directory set to /content/drive/My Drive/Colab Notebooks/Images/Train/Brown_Spot/output."
          ]
        },
        {
          "output_type": "stream",
          "name": "stderr",
          "text": [
            "Processing <PIL.Image.Image image mode=RGB size=224x224 at 0x7FF1ABC44290>: 100%|██████████| 500/500 [00:04<00:00, 114.82 Samples/s]\n"
          ]
        },
        {
          "output_type": "stream",
          "name": "stdout",
          "text": [
            "\n",
            " 415\n",
            "Initialised with 83 image(s) found.\n",
            "Output directory set to /content/drive/My Drive/Colab Notebooks/Images/Train/False_Smut/output."
          ]
        },
        {
          "output_type": "stream",
          "name": "stderr",
          "text": [
            "Processing <PIL.Image.Image image mode=RGB size=224x224 at 0x7FF1B94614D0>: 100%|██████████| 415/415 [00:03<00:00, 117.81 Samples/s]\n"
          ]
        },
        {
          "output_type": "stream",
          "name": "stdout",
          "text": [
            "\n",
            " 1055\n",
            "Initialised with 211 image(s) found.\n",
            "Output directory set to /content/drive/My Drive/Colab Notebooks/Images/Train/Healthy_Plant/output."
          ]
        },
        {
          "output_type": "stream",
          "name": "stderr",
          "text": [
            "Processing <PIL.Image.Image image mode=RGB size=224x224 at 0x7FF1B92DD9D0>: 100%|██████████| 1055/1055 [00:09<00:00, 116.82 Samples/s]\n"
          ]
        },
        {
          "output_type": "stream",
          "name": "stdout",
          "text": [
            "\n",
            " 330\n",
            "Initialised with 66 image(s) found.\n",
            "Output directory set to /content/drive/My Drive/Colab Notebooks/Images/Train/Hispa/output."
          ]
        },
        {
          "output_type": "stream",
          "name": "stderr",
          "text": [
            "Processing <PIL.Image.Image image mode=RGB size=224x224 at 0x7FF1AE132490>: 100%|██████████| 330/330 [00:02<00:00, 113.33 Samples/s]\n"
          ]
        },
        {
          "output_type": "stream",
          "name": "stdout",
          "text": [
            "\n",
            " 1285\n",
            "Initialised with 257 image(s) found.\n",
            "Output directory set to /content/drive/My Drive/Colab Notebooks/Images/Train/Neck_Blast/output."
          ]
        },
        {
          "output_type": "stream",
          "name": "stderr",
          "text": [
            "Processing <PIL.Image.Image image mode=RGB size=224x224 at 0x7FF1B9500750>: 100%|██████████| 1285/1285 [00:11<00:00, 108.29 Samples/s]\n"
          ]
        },
        {
          "output_type": "stream",
          "name": "stdout",
          "text": [
            "\n",
            " 985\n",
            "Initialised with 197 image(s) found.\n",
            "Output directory set to /content/drive/My Drive/Colab Notebooks/Images/Train/Sheath_Blight_Rot/output."
          ]
        },
        {
          "output_type": "stream",
          "name": "stderr",
          "text": [
            "Processing <PIL.Image.Image image mode=RGB size=224x224 at 0x7FF1AEEFCB10>: 100%|██████████| 985/985 [00:08<00:00, 114.36 Samples/s]\n"
          ]
        },
        {
          "output_type": "stream",
          "name": "stdout",
          "text": [
            "\n",
            " 900\n",
            "Initialised with 180 image(s) found.\n",
            "Output directory set to /content/drive/My Drive/Colab Notebooks/Images/Train/Stemborer/output."
          ]
        },
        {
          "output_type": "stream",
          "name": "stderr",
          "text": [
            "Processing <PIL.Image.Image image mode=RGB size=224x224 at 0x7FF1ACFAF750>: 100%|██████████| 900/900 [00:07<00:00, 113.42 Samples/s]\n"
          ]
        },
        {
          "output_type": "stream",
          "name": "stdout",
          "text": [
            "Before move -  750\n",
            "After move -  750\n",
            "Before move -  384\n",
            "After move -  384\n",
            "Before move -  600\n",
            "After move -  600\n",
            "Before move -  498\n",
            "After move -  498\n",
            "Before move -  1266\n",
            "After move -  1266\n",
            "Before move -  396\n",
            "After move -  396\n",
            "Before move -  1542\n",
            "After move -  1542\n",
            "Before move -  1182\n",
            "After move -  1182\n",
            "Before move -  1080\n",
            "After move -  1080\n",
            "Found 7698 images belonging to 9 classes.\n",
            "Train data length ======  7698\n",
            "Found 143 images belonging to 9 classes.\n",
            "Test data length ======  143\n",
            "DenseNet201\n",
            "Before Fine Tuning---->\n",
            "Model: \"model_4\"\n",
            "_________________________________________________________________\n",
            " Layer (type)                Output Shape              Param #   \n",
            "=================================================================\n",
            " inputLayer (InputLayer)     [(None, 224, 224, 3)]     0         \n",
            "                                                                 \n",
            " densenet201 (Functional)    (None, 7, 7, 1920)        18321984  \n",
            "                                                                 \n",
            " global_average_pooling2d_4   (None, 1920)             0         \n",
            " (GlobalAveragePooling2D)                                        \n",
            "                                                                 \n",
            " flatten_4 (Flatten)         (None, 1920)              0         \n",
            "                                                                 \n",
            " dense_16 (Dense)            (None, 120)               230520    \n",
            "                                                                 \n",
            " dense_17 (Dense)            (None, 84)                10164     \n",
            "                                                                 \n",
            " dense_19 (Dense)            (None, 9)                 765       \n",
            "                                                                 \n",
            "=================================================================\n",
            "Total params: 18,563,433\n",
            "Trainable params: 241,449\n",
            "Non-trainable params: 18,321,984\n",
            "_________________________________________________________________\n",
            "None\n",
            "Epoch 1/20\n",
            "321/321 [==============================] - 31s 66ms/step - loss: 1.4803 - categorical_accuracy: 0.4977\n",
            "Epoch 2/20\n",
            "321/321 [==============================] - 22s 67ms/step - loss: 0.7861 - categorical_accuracy: 0.7598\n",
            "Epoch 3/20\n",
            "321/321 [==============================] - 21s 66ms/step - loss: 0.5626 - categorical_accuracy: 0.8327\n",
            "Epoch 4/20\n",
            "321/321 [==============================] - 21s 65ms/step - loss: 0.4430 - categorical_accuracy: 0.8700\n",
            "Epoch 5/20\n",
            "321/321 [==============================] - 21s 64ms/step - loss: 0.3649 - categorical_accuracy: 0.8989\n",
            "Epoch 6/20\n",
            "321/321 [==============================] - 21s 64ms/step - loss: 0.3071 - categorical_accuracy: 0.9192\n",
            "Epoch 7/20\n",
            "321/321 [==============================] - 20s 64ms/step - loss: 0.2623 - categorical_accuracy: 0.9315\n",
            "Epoch 8/20\n",
            "321/321 [==============================] - 21s 65ms/step - loss: 0.2293 - categorical_accuracy: 0.9418\n",
            "Epoch 9/20\n",
            "321/321 [==============================] - 21s 65ms/step - loss: 0.1991 - categorical_accuracy: 0.9517\n",
            "Epoch 10/20\n",
            "321/321 [==============================] - 20s 63ms/step - loss: 0.1745 - categorical_accuracy: 0.9579\n",
            "Epoch 11/20\n",
            "321/321 [==============================] - 20s 63ms/step - loss: 0.1545 - categorical_accuracy: 0.9648\n",
            "Epoch 12/20\n",
            "321/321 [==============================] - 20s 63ms/step - loss: 0.1371 - categorical_accuracy: 0.9704\n",
            "Epoch 13/20\n",
            "321/321 [==============================] - 21s 66ms/step - loss: 0.1207 - categorical_accuracy: 0.9754\n",
            "Epoch 14/20\n",
            "321/321 [==============================] - 21s 64ms/step - loss: 0.1073 - categorical_accuracy: 0.9782\n",
            "Epoch 15/20\n",
            "321/321 [==============================] - 21s 67ms/step - loss: 0.0959 - categorical_accuracy: 0.9813\n",
            "Epoch 16/20\n",
            "321/321 [==============================] - 20s 64ms/step - loss: 0.0838 - categorical_accuracy: 0.9851\n",
            "Epoch 17/20\n",
            "321/321 [==============================] - 20s 63ms/step - loss: 0.0761 - categorical_accuracy: 0.9857\n",
            "Epoch 18/20\n",
            "321/321 [==============================] - 21s 64ms/step - loss: 0.0667 - categorical_accuracy: 0.9893\n",
            "Epoch 19/20\n",
            "321/321 [==============================] - 21s 64ms/step - loss: 0.0592 - categorical_accuracy: 0.9918\n",
            "Epoch 20/20\n",
            "321/321 [==============================] - 21s 64ms/step - loss: 0.0521 - categorical_accuracy: 0.9935\n",
            "***Performance on Training data***\n",
            "Accuracy  : 0.9935048222541809\n",
            "======================================*\n",
            "6/6 [==============================] - 3s 63ms/step\n",
            "***Performance on Validation data***\n",
            "Accuracy  : 0.9370629370629371\n",
            "Precision : 0.9413801360289655\n",
            "f1Score : 0.9372386183299294\n",
            "[[12  0  1  0  0  0  0  0  0]\n",
            " [ 0  7  0  0  0  0  0  0  0]\n",
            " [ 1  0  9  1  0  0  0  0  0]\n",
            " [ 0  0  0 10  0  0  0  0  0]\n",
            " [ 0  0  0  1 20  0  0  2  0]\n",
            " [ 0  0  0  0  0  7  0  0  0]\n",
            " [ 0  0  0  0  0  0 29  0  0]\n",
            " [ 0  0  0  0  1  0  0 21  0]\n",
            " [ 0  0  0  1  0  0  1  0 19]]\n",
            "\n",
            " Results for fold 5\n",
            "\n",
            " Folders Created ----->\n",
            "\n",
            " 625\n",
            "Initialised with 125 image(s) found.\n",
            "Output directory set to /content/drive/My Drive/Colab Notebooks/Images/Train/BLB/output."
          ]
        },
        {
          "output_type": "stream",
          "name": "stderr",
          "text": [
            "Processing <PIL.Image.Image image mode=RGB size=224x224 at 0x7FF1A0C6A6D0>: 100%|██████████| 625/625 [00:05<00:00, 118.10 Samples/s]\n"
          ]
        },
        {
          "output_type": "stream",
          "name": "stdout",
          "text": [
            "\n",
            " 320\n",
            "Initialised with 64 image(s) found.\n",
            "Output directory set to /content/drive/My Drive/Colab Notebooks/Images/Train/BPH/output."
          ]
        },
        {
          "output_type": "stream",
          "name": "stderr",
          "text": [
            "Processing <PIL.Image.Image image mode=RGB size=224x224 at 0x7FF1A0B20E90>: 100%|██████████| 320/320 [00:02<00:00, 120.23 Samples/s]\n"
          ]
        },
        {
          "output_type": "stream",
          "name": "stdout",
          "text": [
            "\n",
            " 495\n",
            "Initialised with 99 image(s) found.\n",
            "Output directory set to /content/drive/My Drive/Colab Notebooks/Images/Train/Brown_Spot/output."
          ]
        },
        {
          "output_type": "stream",
          "name": "stderr",
          "text": [
            "Processing <PIL.Image.Image image mode=RGB size=224x224 at 0x7FF1A0A66990>: 100%|██████████| 495/495 [00:04<00:00, 121.49 Samples/s]\n"
          ]
        },
        {
          "output_type": "stream",
          "name": "stdout",
          "text": [
            "\n",
            " 415\n",
            "Initialised with 83 image(s) found.\n",
            "Output directory set to /content/drive/My Drive/Colab Notebooks/Images/Train/False_Smut/output."
          ]
        },
        {
          "output_type": "stream",
          "name": "stderr",
          "text": [
            "Processing <PIL.Image.Image image mode=RGB size=224x224 at 0x7FF1A0A8B2D0>: 100%|██████████| 415/415 [00:03<00:00, 119.74 Samples/s]\n"
          ]
        },
        {
          "output_type": "stream",
          "name": "stdout",
          "text": [
            "\n",
            " 1055\n",
            "Initialised with 211 image(s) found.\n",
            "Output directory set to /content/drive/My Drive/Colab Notebooks/Images/Train/Healthy_Plant/output."
          ]
        },
        {
          "output_type": "stream",
          "name": "stderr",
          "text": [
            "Processing <PIL.Image.Image image mode=RGB size=224x224 at 0x7FF1A0A1AA90>: 100%|██████████| 1055/1055 [00:09<00:00, 117.20 Samples/s]\n"
          ]
        },
        {
          "output_type": "stream",
          "name": "stdout",
          "text": [
            "\n",
            " 330\n",
            "Initialised with 66 image(s) found.\n",
            "Output directory set to /content/drive/My Drive/Colab Notebooks/Images/Train/Hispa/output."
          ]
        },
        {
          "output_type": "stream",
          "name": "stderr",
          "text": [
            "Processing <PIL.Image.Image image mode=RGB size=224x224 at 0x7FF1A0BFFDD0>: 100%|██████████| 330/330 [00:02<00:00, 119.98 Samples/s]\n"
          ]
        },
        {
          "output_type": "stream",
          "name": "stdout",
          "text": [
            "\n",
            " 1285\n",
            "Initialised with 257 image(s) found.\n",
            "Output directory set to /content/drive/My Drive/Colab Notebooks/Images/Train/Neck_Blast/output."
          ]
        },
        {
          "output_type": "stream",
          "name": "stderr",
          "text": [
            "Processing <PIL.Image.Image image mode=RGB size=224x224 at 0x7FF19EEB0650>: 100%|██████████| 1285/1285 [00:10<00:00, 118.76 Samples/s]\n"
          ]
        },
        {
          "output_type": "stream",
          "name": "stdout",
          "text": [
            "\n",
            " 985\n",
            "Initialised with 197 image(s) found.\n",
            "Output directory set to /content/drive/My Drive/Colab Notebooks/Images/Train/Sheath_Blight_Rot/output."
          ]
        },
        {
          "output_type": "stream",
          "name": "stderr",
          "text": [
            "Processing <PIL.Image.Image image mode=RGB size=224x224 at 0x7FF1A0A10110>: 100%|██████████| 985/985 [00:08<00:00, 117.18 Samples/s]\n"
          ]
        },
        {
          "output_type": "stream",
          "name": "stdout",
          "text": [
            "\n",
            " 905\n",
            "Initialised with 181 image(s) found.\n",
            "Output directory set to /content/drive/My Drive/Colab Notebooks/Images/Train/Stemborer/output."
          ]
        },
        {
          "output_type": "stream",
          "name": "stderr",
          "text": [
            "Processing <PIL.Image.Image image mode=RGB size=224x224 at 0x7FF1A0B7C3D0>: 100%|██████████| 905/905 [00:07<00:00, 117.51 Samples/s]\n"
          ]
        },
        {
          "output_type": "stream",
          "name": "stdout",
          "text": [
            "Before move -  750\n",
            "After move -  750\n",
            "Before move -  384\n",
            "After move -  384\n",
            "Before move -  594\n",
            "After move -  594\n",
            "Before move -  498\n",
            "After move -  498\n",
            "Before move -  1266\n",
            "After move -  1266\n",
            "Before move -  396\n",
            "After move -  396\n",
            "Before move -  1542\n",
            "After move -  1542\n",
            "Before move -  1182\n",
            "After move -  1182\n",
            "Before move -  1086\n",
            "After move -  1086\n",
            "Found 7698 images belonging to 9 classes.\n",
            "Train data length ======  7698\n",
            "Found 143 images belonging to 9 classes.\n",
            "Test data length ======  143\n",
            "DenseNet201\n",
            "Before Fine Tuning---->\n",
            "Model: \"model_5\"\n",
            "_________________________________________________________________\n",
            " Layer (type)                Output Shape              Param #   \n",
            "=================================================================\n",
            " inputLayer (InputLayer)     [(None, 224, 224, 3)]     0         \n",
            "                                                                 \n",
            " densenet201 (Functional)    (None, 7, 7, 1920)        18321984  \n",
            "                                                                 \n",
            " global_average_pooling2d_5   (None, 1920)             0         \n",
            " (GlobalAveragePooling2D)                                        \n",
            "                                                                 \n",
            " flatten_5 (Flatten)         (None, 1920)              0         \n",
            "                                                                 \n",
            " dense_20 (Dense)            (None, 120)               230520    \n",
            "                                                                 \n",
            " dense_21 (Dense)            (None, 84)                10164     \n",
            "                                                                 \n",
            " dense_23 (Dense)            (None, 9)                 765       \n",
            "                                                                 \n",
            "=================================================================\n",
            "Total params: 18,563,433\n",
            "Trainable params: 241,449\n",
            "Non-trainable params: 18,321,984\n",
            "_________________________________________________________________\n",
            "None\n",
            "Epoch 1/20\n",
            "321/321 [==============================] - 31s 66ms/step - loss: 1.5154 - categorical_accuracy: 0.4821\n",
            "Epoch 2/20\n",
            "321/321 [==============================] - 20s 64ms/step - loss: 0.8290 - categorical_accuracy: 0.7384\n",
            "Epoch 3/20\n",
            "321/321 [==============================] - 21s 65ms/step - loss: 0.5948 - categorical_accuracy: 0.8237\n",
            "Epoch 4/20\n",
            "321/321 [==============================] - 20s 63ms/step - loss: 0.4656 - categorical_accuracy: 0.8627\n",
            "Epoch 5/20\n",
            "321/321 [==============================] - 20s 64ms/step - loss: 0.3788 - categorical_accuracy: 0.8943\n",
            "Epoch 6/20\n",
            "321/321 [==============================] - 20s 62ms/step - loss: 0.3188 - categorical_accuracy: 0.9101\n",
            "Epoch 7/20\n",
            "321/321 [==============================] - 20s 63ms/step - loss: 0.2706 - categorical_accuracy: 0.9245\n",
            "Epoch 8/20\n",
            "321/321 [==============================] - 20s 63ms/step - loss: 0.2337 - categorical_accuracy: 0.9391\n",
            "Epoch 9/20\n",
            "321/321 [==============================] - 20s 63ms/step - loss: 0.2018 - categorical_accuracy: 0.9470\n",
            "Epoch 10/20\n",
            "321/321 [==============================] - 20s 63ms/step - loss: 0.1770 - categorical_accuracy: 0.9538\n",
            "Epoch 11/20\n",
            "321/321 [==============================] - 20s 63ms/step - loss: 0.1546 - categorical_accuracy: 0.9630\n",
            "Epoch 12/20\n",
            "321/321 [==============================] - 20s 63ms/step - loss: 0.1372 - categorical_accuracy: 0.9690\n",
            "Epoch 13/20\n",
            "321/321 [==============================] - 21s 64ms/step - loss: 0.1204 - categorical_accuracy: 0.9749\n",
            "Epoch 14/20\n",
            "321/321 [==============================] - 20s 63ms/step - loss: 0.1066 - categorical_accuracy: 0.9790\n",
            "Epoch 15/20\n",
            "321/321 [==============================] - 20s 63ms/step - loss: 0.0949 - categorical_accuracy: 0.9819\n",
            "Epoch 16/20\n",
            "321/321 [==============================] - 20s 63ms/step - loss: 0.0853 - categorical_accuracy: 0.9851\n",
            "Epoch 17/20\n",
            "321/321 [==============================] - 21s 64ms/step - loss: 0.0737 - categorical_accuracy: 0.9882\n",
            "Epoch 18/20\n",
            "321/321 [==============================] - 20s 63ms/step - loss: 0.0662 - categorical_accuracy: 0.9910\n",
            "Epoch 19/20\n",
            "321/321 [==============================] - 20s 63ms/step - loss: 0.0580 - categorical_accuracy: 0.9927\n",
            "Epoch 20/20\n",
            "321/321 [==============================] - 20s 63ms/step - loss: 0.0501 - categorical_accuracy: 0.9956\n",
            "***Performance on Training data***\n",
            "Accuracy  : 0.9955832958221436\n",
            "======================================*\n",
            "6/6 [==============================] - 3s 60ms/step\n",
            "***Performance on Validation data***\n",
            "Accuracy  : 0.965034965034965\n",
            "Precision : 0.9661693861693862\n",
            "f1Score : 0.9647746230471691\n",
            "[[13  0  0  0  0  0  0  0  0]\n",
            " [ 0  7  0  0  0  0  0  0  0]\n",
            " [ 0  0 12  0  0  0  0  0  0]\n",
            " [ 0  0  0  8  2  0  0  0  0]\n",
            " [ 0  0  0  1 22  0  0  0  0]\n",
            " [ 0  0  0  0  1  6  0  0  0]\n",
            " [ 0  0  0  0  0  0 29  0  0]\n",
            " [ 0  0  0  0  0  0  1 21  0]\n",
            " [ 0  0  0  0  0  0  0  0 20]]\n",
            "\n",
            " Results for fold 6\n",
            "\n",
            " Folders Created ----->\n",
            "\n",
            " 620\n",
            "Initialised with 124 image(s) found.\n",
            "Output directory set to /content/drive/My Drive/Colab Notebooks/Images/Train/BLB/output."
          ]
        },
        {
          "output_type": "stream",
          "name": "stderr",
          "text": [
            "Processing <PIL.Image.Image image mode=RGB size=224x224 at 0x7FF1AD7FE4D0>: 100%|██████████| 620/620 [00:05<00:00, 118.50 Samples/s]\n"
          ]
        },
        {
          "output_type": "stream",
          "name": "stdout",
          "text": [
            "\n",
            " 315\n",
            "Initialised with 63 image(s) found.\n",
            "Output directory set to /content/drive/My Drive/Colab Notebooks/Images/Train/BPH/output."
          ]
        },
        {
          "output_type": "stream",
          "name": "stderr",
          "text": [
            "Processing <PIL.Image.Image image mode=RGB size=224x224 at 0x7FF1AD831D90>: 100%|██████████| 315/315 [00:02<00:00, 121.63 Samples/s]\n"
          ]
        },
        {
          "output_type": "stream",
          "name": "stdout",
          "text": [
            "\n",
            " 500\n",
            "Initialised with 100 image(s) found.\n",
            "Output directory set to /content/drive/My Drive/Colab Notebooks/Images/Train/Brown_Spot/output."
          ]
        },
        {
          "output_type": "stream",
          "name": "stderr",
          "text": [
            "Processing <PIL.Image.Image image mode=RGB size=224x224 at 0x7FF1AD82B590>: 100%|██████████| 500/500 [00:04<00:00, 116.63 Samples/s]\n"
          ]
        },
        {
          "output_type": "stream",
          "name": "stdout",
          "text": [
            "\n",
            " 415\n",
            "Initialised with 83 image(s) found.\n",
            "Output directory set to /content/drive/My Drive/Colab Notebooks/Images/Train/False_Smut/output."
          ]
        },
        {
          "output_type": "stream",
          "name": "stderr",
          "text": [
            "Processing <PIL.Image.Image image mode=RGB size=224x224 at 0x7FF1ADC07290>: 100%|██████████| 415/415 [00:03<00:00, 120.24 Samples/s]\n"
          ]
        },
        {
          "output_type": "stream",
          "name": "stdout",
          "text": [
            "\n",
            " 1055\n",
            "Initialised with 211 image(s) found.\n",
            "Output directory set to /content/drive/My Drive/Colab Notebooks/Images/Train/Healthy_Plant/output."
          ]
        },
        {
          "output_type": "stream",
          "name": "stderr",
          "text": [
            "Processing <PIL.Image.Image image mode=RGB size=224x224 at 0x7FF1ABF68390>: 100%|██████████| 1055/1055 [00:08<00:00, 118.31 Samples/s]\n"
          ]
        },
        {
          "output_type": "stream",
          "name": "stdout",
          "text": [
            "\n",
            " 330\n",
            "Initialised with 66 image(s) found.\n",
            "Output directory set to /content/drive/My Drive/Colab Notebooks/Images/Train/Hispa/output."
          ]
        },
        {
          "output_type": "stream",
          "name": "stderr",
          "text": [
            "Processing <PIL.Image.Image image mode=RGB size=224x224 at 0x7FF1ADBBF0D0>: 100%|██████████| 330/330 [00:02<00:00, 116.88 Samples/s]\n"
          ]
        },
        {
          "output_type": "stream",
          "name": "stdout",
          "text": [
            "\n",
            " 1290\n",
            "Initialised with 258 image(s) found.\n",
            "Output directory set to /content/drive/My Drive/Colab Notebooks/Images/Train/Neck_Blast/output."
          ]
        },
        {
          "output_type": "stream",
          "name": "stderr",
          "text": [
            "Processing <PIL.Image.Image image mode=RGB size=224x224 at 0x7FF1ACAD8D90>: 100%|██████████| 1290/1290 [00:11<00:00, 116.36 Samples/s]\n"
          ]
        },
        {
          "output_type": "stream",
          "name": "stdout",
          "text": [
            "\n",
            " 985\n",
            "Initialised with 197 image(s) found.\n",
            "Output directory set to /content/drive/My Drive/Colab Notebooks/Images/Train/Sheath_Blight_Rot/output."
          ]
        },
        {
          "output_type": "stream",
          "name": "stderr",
          "text": [
            "Processing <PIL.Image.Image image mode=RGB size=224x224 at 0x7FF1ABEE2C90>: 100%|██████████| 985/985 [00:08<00:00, 120.68 Samples/s]\n"
          ]
        },
        {
          "output_type": "stream",
          "name": "stdout",
          "text": [
            "\n",
            " 905\n",
            "Initialised with 181 image(s) found.\n",
            "Output directory set to /content/drive/My Drive/Colab Notebooks/Images/Train/Stemborer/output."
          ]
        },
        {
          "output_type": "stream",
          "name": "stderr",
          "text": [
            "Processing <PIL.Image.Image image mode=RGB size=224x224 at 0x7FF1ABFB0B90>: 100%|██████████| 905/905 [00:07<00:00, 116.79 Samples/s]\n"
          ]
        },
        {
          "output_type": "stream",
          "name": "stdout",
          "text": [
            "Before move -  744\n",
            "After move -  744\n",
            "Before move -  378\n",
            "After move -  378\n",
            "Before move -  600\n",
            "After move -  600\n",
            "Before move -  498\n",
            "After move -  498\n",
            "Before move -  1266\n",
            "After move -  1266\n",
            "Before move -  396\n",
            "After move -  396\n",
            "Before move -  1548\n",
            "After move -  1548\n",
            "Before move -  1182\n",
            "After move -  1182\n",
            "Before move -  1086\n",
            "After move -  1086\n",
            "Found 7698 images belonging to 9 classes.\n",
            "Train data length ======  7698\n",
            "Found 143 images belonging to 9 classes.\n",
            "Test data length ======  143\n",
            "DenseNet201\n",
            "Before Fine Tuning---->\n",
            "Model: \"model_6\"\n",
            "_________________________________________________________________\n",
            " Layer (type)                Output Shape              Param #   \n",
            "=================================================================\n",
            " inputLayer (InputLayer)     [(None, 224, 224, 3)]     0         \n",
            "                                                                 \n",
            " densenet201 (Functional)    (None, 7, 7, 1920)        18321984  \n",
            "                                                                 \n",
            " global_average_pooling2d_6   (None, 1920)             0         \n",
            " (GlobalAveragePooling2D)                                        \n",
            "                                                                 \n",
            " flatten_6 (Flatten)         (None, 1920)              0         \n",
            "                                                                 \n",
            " dense_24 (Dense)            (None, 120)               230520    \n",
            "                                                                 \n",
            " dense_25 (Dense)            (None, 84)                10164     \n",
            "                                                                 \n",
            " dense_27 (Dense)            (None, 9)                 765       \n",
            "                                                                 \n",
            "=================================================================\n",
            "Total params: 18,563,433\n",
            "Trainable params: 241,449\n",
            "Non-trainable params: 18,321,984\n",
            "_________________________________________________________________\n",
            "None\n",
            "Epoch 1/20\n",
            "321/321 [==============================] - 32s 68ms/step - loss: 1.4738 - categorical_accuracy: 0.4986\n",
            "Epoch 2/20\n",
            "321/321 [==============================] - 21s 64ms/step - loss: 0.7768 - categorical_accuracy: 0.7666\n",
            "Epoch 3/20\n",
            "321/321 [==============================] - 21s 65ms/step - loss: 0.5564 - categorical_accuracy: 0.8327\n",
            "Epoch 4/20\n",
            "321/321 [==============================] - 20s 63ms/step - loss: 0.4408 - categorical_accuracy: 0.8711\n",
            "Epoch 5/20\n",
            "321/321 [==============================] - 21s 65ms/step - loss: 0.3617 - categorical_accuracy: 0.8969\n",
            "Epoch 6/20\n",
            "321/321 [==============================] - 20s 62ms/step - loss: 0.3059 - categorical_accuracy: 0.9152\n",
            "Epoch 7/20\n",
            "321/321 [==============================] - 20s 62ms/step - loss: 0.2632 - categorical_accuracy: 0.9270\n",
            "Epoch 8/20\n",
            "321/321 [==============================] - 20s 62ms/step - loss: 0.2279 - categorical_accuracy: 0.9393\n",
            "Epoch 9/20\n",
            "321/321 [==============================] - 21s 64ms/step - loss: 0.2000 - categorical_accuracy: 0.9478\n",
            "Epoch 10/20\n",
            "321/321 [==============================] - 20s 62ms/step - loss: 0.1750 - categorical_accuracy: 0.9565\n",
            "Epoch 11/20\n",
            "321/321 [==============================] - 20s 62ms/step - loss: 0.1553 - categorical_accuracy: 0.9632\n",
            "Epoch 12/20\n",
            "321/321 [==============================] - 20s 62ms/step - loss: 0.1358 - categorical_accuracy: 0.9704\n",
            "Epoch 13/20\n",
            "321/321 [==============================] - 20s 62ms/step - loss: 0.1206 - categorical_accuracy: 0.9741\n",
            "Epoch 14/20\n",
            "321/321 [==============================] - 20s 62ms/step - loss: 0.1067 - categorical_accuracy: 0.9786\n",
            "Epoch 15/20\n",
            "321/321 [==============================] - 20s 62ms/step - loss: 0.0963 - categorical_accuracy: 0.9827\n",
            "Epoch 16/20\n",
            "321/321 [==============================] - 20s 63ms/step - loss: 0.0861 - categorical_accuracy: 0.9856\n",
            "Epoch 17/20\n",
            "321/321 [==============================] - 20s 62ms/step - loss: 0.0759 - categorical_accuracy: 0.9884\n",
            "Epoch 18/20\n",
            "321/321 [==============================] - 21s 64ms/step - loss: 0.0675 - categorical_accuracy: 0.9901\n",
            "Epoch 19/20\n",
            "321/321 [==============================] - 21s 64ms/step - loss: 0.0594 - categorical_accuracy: 0.9916\n",
            "Epoch 20/20\n",
            "321/321 [==============================] - 22s 69ms/step - loss: 0.0539 - categorical_accuracy: 0.9926\n",
            "***Performance on Training data***\n",
            "Accuracy  : 0.9925954937934875\n",
            "======================================*\n",
            "6/6 [==============================] - 3s 74ms/step\n",
            "***Performance on Validation data***\n",
            "Accuracy  : 0.951048951048951\n",
            "Precision : 0.9507724731408942\n",
            "f1Score : 0.950568381845017\n",
            "[[14  0  0  0  0  0  0  0  0]\n",
            " [ 0  8  0  0  0  0  0  0  0]\n",
            " [ 0  0 10  0  1  0  0  0  0]\n",
            " [ 0  0  0 10  0  0  0  0  0]\n",
            " [ 0  0  0  0 23  0  0  0  0]\n",
            " [ 0  0  0  0  0  7  0  0  0]\n",
            " [ 0  0  0  0  0  0 27  1  0]\n",
            " [ 1  0  1  0  0  0  0 19  1]\n",
            " [ 0  0  0  0  0  0  1  1 18]]\n",
            "\n",
            " Results for fold 7\n",
            "\n",
            " Folders Created ----->\n",
            "\n",
            " 620\n",
            "Initialised with 124 image(s) found.\n",
            "Output directory set to /content/drive/My Drive/Colab Notebooks/Images/Train/BLB/output."
          ]
        },
        {
          "output_type": "stream",
          "name": "stderr",
          "text": [
            "Processing <PIL.Image.Image image mode=RGB size=224x224 at 0x7FF1A190A650>: 100%|██████████| 620/620 [00:05<00:00, 113.30 Samples/s]\n"
          ]
        },
        {
          "output_type": "stream",
          "name": "stdout",
          "text": [
            "\n",
            " 320\n",
            "Initialised with 64 image(s) found.\n",
            "Output directory set to /content/drive/My Drive/Colab Notebooks/Images/Train/BPH/output."
          ]
        },
        {
          "output_type": "stream",
          "name": "stderr",
          "text": [
            "Processing <PIL.Image.Image image mode=RGB size=224x224 at 0x7FF1AC27DA50>: 100%|██████████| 320/320 [00:02<00:00, 116.79 Samples/s]\n"
          ]
        },
        {
          "output_type": "stream",
          "name": "stdout",
          "text": [
            "\n",
            " 500\n",
            "Initialised with 100 image(s) found.\n",
            "Output directory set to /content/drive/My Drive/Colab Notebooks/Images/Train/Brown_Spot/output."
          ]
        },
        {
          "output_type": "stream",
          "name": "stderr",
          "text": [
            "Processing <PIL.Image.Image image mode=RGB size=224x224 at 0x7FF1AB47E390>: 100%|██████████| 500/500 [00:04<00:00, 114.29 Samples/s]\n"
          ]
        },
        {
          "output_type": "stream",
          "name": "stdout",
          "text": [
            "\n",
            " 420\n",
            "Initialised with 84 image(s) found.\n",
            "Output directory set to /content/drive/My Drive/Colab Notebooks/Images/Train/False_Smut/output."
          ]
        },
        {
          "output_type": "stream",
          "name": "stderr",
          "text": [
            "Processing <PIL.Image.Image image mode=RGB size=224x224 at 0x7FF1AB38AC10>: 100%|██████████| 420/420 [00:03<00:00, 112.40 Samples/s]\n"
          ]
        },
        {
          "output_type": "stream",
          "name": "stdout",
          "text": [
            "\n",
            " 1050\n",
            "Initialised with 210 image(s) found.\n",
            "Output directory set to /content/drive/My Drive/Colab Notebooks/Images/Train/Healthy_Plant/output."
          ]
        },
        {
          "output_type": "stream",
          "name": "stderr",
          "text": [
            "Processing <PIL.Image.Image image mode=RGB size=224x224 at 0x7FF1A0BE8710>: 100%|██████████| 1050/1050 [00:09<00:00, 116.00 Samples/s]\n"
          ]
        },
        {
          "output_type": "stream",
          "name": "stdout",
          "text": [
            "\n",
            " 330\n",
            "Initialised with 66 image(s) found.\n",
            "Output directory set to /content/drive/My Drive/Colab Notebooks/Images/Train/Hispa/output."
          ]
        },
        {
          "output_type": "stream",
          "name": "stderr",
          "text": [
            "Processing <PIL.Image.Image image mode=RGB size=224x224 at 0x7FF1AB49F290>: 100%|██████████| 330/330 [00:02<00:00, 115.49 Samples/s]\n"
          ]
        },
        {
          "output_type": "stream",
          "name": "stdout",
          "text": [
            "\n",
            " 1290\n",
            "Initialised with 258 image(s) found.\n",
            "Output directory set to /content/drive/My Drive/Colab Notebooks/Images/Train/Neck_Blast/output."
          ]
        },
        {
          "output_type": "stream",
          "name": "stderr",
          "text": [
            "Processing <PIL.Image.Image image mode=RGB size=224x224 at 0x7FF1AB517F50>: 100%|██████████| 1290/1290 [00:11<00:00, 115.49 Samples/s]\n"
          ]
        },
        {
          "output_type": "stream",
          "name": "stdout",
          "text": [
            "\n",
            " 985\n",
            "Initialised with 197 image(s) found.\n",
            "Output directory set to /content/drive/My Drive/Colab Notebooks/Images/Train/Sheath_Blight_Rot/output."
          ]
        },
        {
          "output_type": "stream",
          "name": "stderr",
          "text": [
            "Processing <PIL.Image.Image image mode=RGB size=224x224 at 0x7FF1A0BF9E10>: 100%|██████████| 985/985 [00:08<00:00, 114.89 Samples/s]\n"
          ]
        },
        {
          "output_type": "stream",
          "name": "stdout",
          "text": [
            "\n",
            " 905\n",
            "Initialised with 181 image(s) found.\n",
            "Output directory set to /content/drive/My Drive/Colab Notebooks/Images/Train/Stemborer/output."
          ]
        },
        {
          "output_type": "stream",
          "name": "stderr",
          "text": [
            "Processing <PIL.Image.Image image mode=RGB size=224x224 at 0x7FF1AB3B1250>: 100%|██████████| 905/905 [00:08<00:00, 112.20 Samples/s]\n"
          ]
        },
        {
          "output_type": "stream",
          "name": "stdout",
          "text": [
            "Before move -  744\n",
            "After move -  744\n",
            "Before move -  384\n",
            "After move -  384\n",
            "Before move -  600\n",
            "After move -  600\n",
            "Before move -  504\n",
            "After move -  504\n",
            "Before move -  1260\n",
            "After move -  1260\n",
            "Before move -  396\n",
            "After move -  396\n",
            "Before move -  1548\n",
            "After move -  1548\n",
            "Before move -  1182\n",
            "After move -  1182\n",
            "Before move -  1086\n",
            "After move -  1086\n",
            "Found 7704 images belonging to 9 classes.\n",
            "Train data length ======  7704\n",
            "Found 142 images belonging to 9 classes.\n",
            "Test data length ======  142\n",
            "DenseNet201\n",
            "Before Fine Tuning---->\n",
            "Model: \"model_7\"\n",
            "_________________________________________________________________\n",
            " Layer (type)                Output Shape              Param #   \n",
            "=================================================================\n",
            " inputLayer (InputLayer)     [(None, 224, 224, 3)]     0         \n",
            "                                                                 \n",
            " densenet201 (Functional)    (None, 7, 7, 1920)        18321984  \n",
            "                                                                 \n",
            " global_average_pooling2d_7   (None, 1920)             0         \n",
            " (GlobalAveragePooling2D)                                        \n",
            "                                                                 \n",
            " flatten_7 (Flatten)         (None, 1920)              0         \n",
            "                                                                 \n",
            " dense_28 (Dense)            (None, 120)               230520    \n",
            "                                                                 \n",
            " dense_29 (Dense)            (None, 84)                10164     \n",
            "                                                                 \n",
            " dense_31 (Dense)            (None, 9)                 765       \n",
            "                                                                 \n",
            "=================================================================\n",
            "Total params: 18,563,433\n",
            "Trainable params: 241,449\n",
            "Non-trainable params: 18,321,984\n",
            "_________________________________________________________________\n",
            "None\n",
            "Epoch 1/20\n",
            "321/321 [==============================] - 32s 69ms/step - loss: 1.4776 - categorical_accuracy: 0.4991\n",
            "Epoch 2/20\n",
            "321/321 [==============================] - 22s 67ms/step - loss: 0.8060 - categorical_accuracy: 0.7484\n",
            "Epoch 3/20\n",
            "321/321 [==============================] - 22s 67ms/step - loss: 0.5757 - categorical_accuracy: 0.8233\n",
            "Epoch 4/20\n",
            "321/321 [==============================] - 21s 67ms/step - loss: 0.4504 - categorical_accuracy: 0.8657\n",
            "Epoch 5/20\n",
            "321/321 [==============================] - 21s 65ms/step - loss: 0.3675 - categorical_accuracy: 0.8906\n",
            "Epoch 6/20\n",
            "321/321 [==============================] - 21s 64ms/step - loss: 0.3102 - categorical_accuracy: 0.9111\n",
            "Epoch 7/20\n",
            "321/321 [==============================] - 20s 64ms/step - loss: 0.2653 - categorical_accuracy: 0.9277\n",
            "Epoch 8/20\n",
            "321/321 [==============================] - 21s 65ms/step - loss: 0.2318 - categorical_accuracy: 0.9386\n",
            "Epoch 9/20\n",
            "321/321 [==============================] - 21s 64ms/step - loss: 0.2029 - categorical_accuracy: 0.9454\n",
            "Epoch 10/20\n",
            "321/321 [==============================] - 21s 64ms/step - loss: 0.1793 - categorical_accuracy: 0.9535\n",
            "Epoch 11/20\n",
            "321/321 [==============================] - 21s 65ms/step - loss: 0.1554 - categorical_accuracy: 0.9637\n",
            "Epoch 12/20\n",
            "321/321 [==============================] - 21s 65ms/step - loss: 0.1404 - categorical_accuracy: 0.9670\n",
            "Epoch 13/20\n",
            "321/321 [==============================] - 21s 65ms/step - loss: 0.1241 - categorical_accuracy: 0.9735\n",
            "Epoch 14/20\n",
            "321/321 [==============================] - 21s 64ms/step - loss: 0.1122 - categorical_accuracy: 0.9761\n",
            "Epoch 15/20\n",
            "321/321 [==============================] - 21s 64ms/step - loss: 0.0984 - categorical_accuracy: 0.9799\n",
            "Epoch 16/20\n",
            "321/321 [==============================] - 21s 64ms/step - loss: 0.0875 - categorical_accuracy: 0.9833\n",
            "Epoch 17/20\n",
            "321/321 [==============================] - 22s 67ms/step - loss: 0.0785 - categorical_accuracy: 0.9870\n",
            "Epoch 18/20\n",
            "321/321 [==============================] - 21s 64ms/step - loss: 0.0700 - categorical_accuracy: 0.9869\n",
            "Epoch 19/20\n",
            "321/321 [==============================] - 21s 64ms/step - loss: 0.0625 - categorical_accuracy: 0.9907\n",
            "Epoch 20/20\n",
            "321/321 [==============================] - 21s 65ms/step - loss: 0.0560 - categorical_accuracy: 0.9922\n",
            "***Performance on Training data***\n",
            "Accuracy  : 0.9922118186950684\n",
            "======================================*\n",
            "6/6 [==============================] - 4s 249ms/step\n",
            "***Performance on Validation data***\n",
            "Accuracy  : 0.9647887323943662\n",
            "Precision : 0.9677143319688245\n",
            "f1Score : 0.9641744632004567\n",
            "[[14  0  0  0  0  0  0  0  0]\n",
            " [ 0  7  0  0  0  0  0  0  0]\n",
            " [ 0  0 10  0  1  0  0  0  0]\n",
            " [ 0  0  0  7  1  0  1  0  0]\n",
            " [ 0  0  0  0 24  0  0  0  0]\n",
            " [ 0  0  0  0  0  7  0  0  0]\n",
            " [ 0  0  0  0  0  0 28  0  0]\n",
            " [ 0  0  0  0  1  0  0 20  1]\n",
            " [ 0  0  0  0  0  0  0  0 20]]\n",
            "\n",
            " Results for fold 8\n",
            "\n",
            " Folders Created ----->\n",
            "\n",
            " 620\n",
            "Initialised with 124 image(s) found.\n",
            "Output directory set to /content/drive/My Drive/Colab Notebooks/Images/Train/BLB/output."
          ]
        },
        {
          "output_type": "stream",
          "name": "stderr",
          "text": [
            "Processing <PIL.Image.Image image mode=RGB size=224x224 at 0x7FF1A18A6390>: 100%|██████████| 620/620 [00:05<00:00, 114.06 Samples/s]\n"
          ]
        },
        {
          "output_type": "stream",
          "name": "stdout",
          "text": [
            "\n",
            " 320\n",
            "Initialised with 64 image(s) found.\n",
            "Output directory set to /content/drive/My Drive/Colab Notebooks/Images/Train/BPH/output."
          ]
        },
        {
          "output_type": "stream",
          "name": "stderr",
          "text": [
            "Processing <PIL.Image.Image image mode=RGB size=224x224 at 0x7FF1A1867090>: 100%|██████████| 320/320 [00:02<00:00, 112.71 Samples/s]\n"
          ]
        },
        {
          "output_type": "stream",
          "name": "stdout",
          "text": [
            "\n",
            " 500\n",
            "Initialised with 100 image(s) found.\n",
            "Output directory set to /content/drive/My Drive/Colab Notebooks/Images/Train/Brown_Spot/output."
          ]
        },
        {
          "output_type": "stream",
          "name": "stderr",
          "text": [
            "Processing <PIL.Image.Image image mode=RGB size=224x224 at 0x7FF1A1866250>: 100%|██████████| 500/500 [00:04<00:00, 117.58 Samples/s]\n"
          ]
        },
        {
          "output_type": "stream",
          "name": "stdout",
          "text": [
            "\n",
            " 420\n",
            "Initialised with 84 image(s) found.\n",
            "Output directory set to /content/drive/My Drive/Colab Notebooks/Images/Train/False_Smut/output."
          ]
        },
        {
          "output_type": "stream",
          "name": "stderr",
          "text": [
            "Processing <PIL.Image.Image image mode=RGB size=224x224 at 0x7FF1A18A4D50>: 100%|██████████| 420/420 [00:03<00:00, 116.57 Samples/s]\n"
          ]
        },
        {
          "output_type": "stream",
          "name": "stdout",
          "text": [
            "\n",
            " 1050\n",
            "Initialised with 210 image(s) found.\n",
            "Output directory set to /content/drive/My Drive/Colab Notebooks/Images/Train/Healthy_Plant/output."
          ]
        },
        {
          "output_type": "stream",
          "name": "stderr",
          "text": [
            "Processing <PIL.Image.Image image mode=RGB size=224x224 at 0x7FF1A18A4190>: 100%|██████████| 1050/1050 [00:09<00:00, 116.61 Samples/s]\n"
          ]
        },
        {
          "output_type": "stream",
          "name": "stdout",
          "text": [
            "\n",
            " 330\n",
            "Initialised with 66 image(s) found.\n",
            "Output directory set to /content/drive/My Drive/Colab Notebooks/Images/Train/Hispa/output."
          ]
        },
        {
          "output_type": "stream",
          "name": "stderr",
          "text": [
            "Processing <PIL.Image.Image image mode=RGB size=224x224 at 0x7FF1A18A6A50>: 100%|██████████| 330/330 [00:02<00:00, 118.80 Samples/s]\n"
          ]
        },
        {
          "output_type": "stream",
          "name": "stdout",
          "text": [
            "\n",
            " 1290\n",
            "Initialised with 258 image(s) found.\n",
            "Output directory set to /content/drive/My Drive/Colab Notebooks/Images/Train/Neck_Blast/output."
          ]
        },
        {
          "output_type": "stream",
          "name": "stderr",
          "text": [
            "Processing <PIL.Image.Image image mode=RGB size=224x224 at 0x7FF1A0760890>: 100%|██████████| 1290/1290 [00:11<00:00, 116.50 Samples/s]\n"
          ]
        },
        {
          "output_type": "stream",
          "name": "stdout",
          "text": [
            "\n",
            " 985\n",
            "Initialised with 197 image(s) found.\n",
            "Output directory set to /content/drive/My Drive/Colab Notebooks/Images/Train/Sheath_Blight_Rot/output."
          ]
        },
        {
          "output_type": "stream",
          "name": "stderr",
          "text": [
            "Processing <PIL.Image.Image image mode=RGB size=224x224 at 0x7FF19FBED050>: 100%|██████████| 985/985 [00:08<00:00, 117.72 Samples/s]\n"
          ]
        },
        {
          "output_type": "stream",
          "name": "stdout",
          "text": [
            "\n",
            " 905\n",
            "Initialised with 181 image(s) found.\n",
            "Output directory set to /content/drive/My Drive/Colab Notebooks/Images/Train/Stemborer/output."
          ]
        },
        {
          "output_type": "stream",
          "name": "stderr",
          "text": [
            "Processing <PIL.Image.Image image mode=RGB size=224x224 at 0x7FF1AD834E10>: 100%|██████████| 905/905 [00:08<00:00, 108.51 Samples/s]\n"
          ]
        },
        {
          "output_type": "stream",
          "name": "stdout",
          "text": [
            "Before move -  744\n",
            "After move -  744\n",
            "Before move -  384\n",
            "After move -  384\n",
            "Before move -  600\n",
            "After move -  600\n",
            "Before move -  504\n",
            "After move -  504\n",
            "Before move -  1260\n",
            "After move -  1260\n",
            "Before move -  396\n",
            "After move -  396\n",
            "Before move -  1548\n",
            "After move -  1548\n",
            "Before move -  1182\n",
            "After move -  1182\n",
            "Before move -  1086\n",
            "After move -  1086\n",
            "Found 7704 images belonging to 9 classes.\n",
            "Train data length ======  7704\n",
            "Found 142 images belonging to 9 classes.\n",
            "Test data length ======  142\n",
            "DenseNet201\n",
            "Before Fine Tuning---->\n",
            "Model: \"model_8\"\n",
            "_________________________________________________________________\n",
            " Layer (type)                Output Shape              Param #   \n",
            "=================================================================\n",
            " inputLayer (InputLayer)     [(None, 224, 224, 3)]     0         \n",
            "                                                                 \n",
            " densenet201 (Functional)    (None, 7, 7, 1920)        18321984  \n",
            "                                                                 \n",
            " global_average_pooling2d_8   (None, 1920)             0         \n",
            " (GlobalAveragePooling2D)                                        \n",
            "                                                                 \n",
            " flatten_8 (Flatten)         (None, 1920)              0         \n",
            "                                                                 \n",
            " dense_32 (Dense)            (None, 120)               230520    \n",
            "                                                                 \n",
            " dense_33 (Dense)            (None, 84)                10164     \n",
            "                                                                 \n",
            " dense_35 (Dense)            (None, 9)                 765       \n",
            "                                                                 \n",
            "=================================================================\n",
            "Total params: 18,563,433\n",
            "Trainable params: 241,449\n",
            "Non-trainable params: 18,321,984\n",
            "_________________________________________________________________\n",
            "None\n",
            "Epoch 1/20\n",
            "321/321 [==============================] - 31s 66ms/step - loss: 1.5032 - categorical_accuracy: 0.4808\n",
            "Epoch 2/20\n",
            "321/321 [==============================] - 21s 65ms/step - loss: 0.8102 - categorical_accuracy: 0.7542\n",
            "Epoch 3/20\n",
            "321/321 [==============================] - 21s 65ms/step - loss: 0.5710 - categorical_accuracy: 0.8305\n",
            "Epoch 4/20\n",
            "321/321 [==============================] - 21s 65ms/step - loss: 0.4466 - categorical_accuracy: 0.8702\n",
            "Epoch 5/20\n",
            "321/321 [==============================] - 21s 65ms/step - loss: 0.3674 - categorical_accuracy: 0.8902\n",
            "Epoch 6/20\n",
            "321/321 [==============================] - 21s 65ms/step - loss: 0.3076 - categorical_accuracy: 0.9102\n",
            "Epoch 7/20\n",
            "321/321 [==============================] - 21s 64ms/step - loss: 0.2621 - categorical_accuracy: 0.9268\n",
            "Epoch 8/20\n",
            "321/321 [==============================] - 21s 66ms/step - loss: 0.2250 - categorical_accuracy: 0.9376\n",
            "Epoch 9/20\n",
            "321/321 [==============================] - 21s 65ms/step - loss: 0.1972 - categorical_accuracy: 0.9482\n",
            "Epoch 10/20\n",
            "321/321 [==============================] - 21s 66ms/step - loss: 0.1715 - categorical_accuracy: 0.9556\n",
            "Epoch 11/20\n",
            "321/321 [==============================] - 22s 67ms/step - loss: 0.1514 - categorical_accuracy: 0.9621\n",
            "Epoch 12/20\n",
            "321/321 [==============================] - 21s 65ms/step - loss: 0.1352 - categorical_accuracy: 0.9673\n",
            "Epoch 13/20\n",
            "321/321 [==============================] - 21s 65ms/step - loss: 0.1174 - categorical_accuracy: 0.9730\n",
            "Epoch 14/20\n",
            "321/321 [==============================] - 21s 66ms/step - loss: 0.1059 - categorical_accuracy: 0.9778\n",
            "Epoch 15/20\n",
            "321/321 [==============================] - 21s 65ms/step - loss: 0.0929 - categorical_accuracy: 0.9805\n",
            "Epoch 16/20\n",
            "321/321 [==============================] - 21s 66ms/step - loss: 0.0831 - categorical_accuracy: 0.9849\n",
            "Epoch 17/20\n",
            "321/321 [==============================] - 21s 64ms/step - loss: 0.0726 - categorical_accuracy: 0.9878\n",
            "Epoch 18/20\n",
            "321/321 [==============================] - 21s 65ms/step - loss: 0.0656 - categorical_accuracy: 0.9897\n",
            "Epoch 19/20\n",
            "321/321 [==============================] - 21s 65ms/step - loss: 0.0571 - categorical_accuracy: 0.9922\n",
            "Epoch 20/20\n",
            "321/321 [==============================] - 21s 65ms/step - loss: 0.0508 - categorical_accuracy: 0.9933\n",
            "***Performance on Training data***\n",
            "Accuracy  : 0.9932502508163452\n",
            "======================================*\n",
            "6/6 [==============================] - 3s 60ms/step\n",
            "***Performance on Validation data***\n",
            "Accuracy  : 0.9154929577464789\n",
            "Precision : 0.921435614733332\n",
            "f1Score : 0.9146710030130539\n",
            "[[10  0  0  0  2  0  0  2  0]\n",
            " [ 0  7  0  0  0  0  0  0  0]\n",
            " [ 0  0  9  0  1  0  0  1  0]\n",
            " [ 0  0  0  8  1  0  0  0  0]\n",
            " [ 0  0  0  0 23  0  1  0  0]\n",
            " [ 0  0  0  0  1  6  0  0  0]\n",
            " [ 0  0  0  0  0  0 28  0  0]\n",
            " [ 1  0  0  0  1  0  0 19  1]\n",
            " [ 0  0  0  0  0  0  0  0 20]]\n",
            "\n",
            " Results for fold 9\n",
            "\n",
            " Folders Created ----->\n",
            "\n",
            " 620\n",
            "Initialised with 124 image(s) found.\n",
            "Output directory set to /content/drive/My Drive/Colab Notebooks/Images/Train/BLB/output."
          ]
        },
        {
          "output_type": "stream",
          "name": "stderr",
          "text": [
            "Processing <PIL.Image.Image image mode=RGB size=224x224 at 0x7FF1A03FBE50>: 100%|██████████| 620/620 [00:05<00:00, 114.33 Samples/s]\n"
          ]
        },
        {
          "output_type": "stream",
          "name": "stdout",
          "text": [
            "\n",
            " 320\n",
            "Initialised with 64 image(s) found.\n",
            "Output directory set to /content/drive/My Drive/Colab Notebooks/Images/Train/BPH/output."
          ]
        },
        {
          "output_type": "stream",
          "name": "stderr",
          "text": [
            "Processing <PIL.Image.Image image mode=RGB size=224x224 at 0x7FF1A046E7D0>: 100%|██████████| 320/320 [00:02<00:00, 113.11 Samples/s]\n"
          ]
        },
        {
          "output_type": "stream",
          "name": "stdout",
          "text": [
            "\n",
            " 500\n",
            "Initialised with 100 image(s) found.\n",
            "Output directory set to /content/drive/My Drive/Colab Notebooks/Images/Train/Brown_Spot/output."
          ]
        },
        {
          "output_type": "stream",
          "name": "stderr",
          "text": [
            "Processing <PIL.Image.Image image mode=RGB size=224x224 at 0x7FF1A034CD50>: 100%|██████████| 500/500 [00:04<00:00, 116.44 Samples/s]\n"
          ]
        },
        {
          "output_type": "stream",
          "name": "stdout",
          "text": [
            "\n",
            " 420\n",
            "Initialised with 84 image(s) found.\n",
            "Output directory set to /content/drive/My Drive/Colab Notebooks/Images/Train/False_Smut/output."
          ]
        },
        {
          "output_type": "stream",
          "name": "stderr",
          "text": [
            "Processing <PIL.Image.Image image mode=RGB size=224x224 at 0x7FF1A0401D50>: 100%|██████████| 420/420 [00:03<00:00, 115.33 Samples/s]\n"
          ]
        },
        {
          "output_type": "stream",
          "name": "stdout",
          "text": [
            "\n",
            " 1050\n",
            "Initialised with 210 image(s) found.\n",
            "Output directory set to /content/drive/My Drive/Colab Notebooks/Images/Train/Healthy_Plant/output."
          ]
        },
        {
          "output_type": "stream",
          "name": "stderr",
          "text": [
            "Processing <PIL.Image.Image image mode=RGB size=224x224 at 0x7FF1A0325050>: 100%|██████████| 1050/1050 [00:09<00:00, 113.47 Samples/s]\n"
          ]
        },
        {
          "output_type": "stream",
          "name": "stdout",
          "text": [
            "\n",
            " 330\n",
            "Initialised with 66 image(s) found.\n",
            "Output directory set to /content/drive/My Drive/Colab Notebooks/Images/Train/Hispa/output."
          ]
        },
        {
          "output_type": "stream",
          "name": "stderr",
          "text": [
            "Processing <PIL.Image.Image image mode=RGB size=224x224 at 0x7FF1A046EE10>: 100%|██████████| 330/330 [00:02<00:00, 116.06 Samples/s]\n"
          ]
        },
        {
          "output_type": "stream",
          "name": "stdout",
          "text": [
            "\n",
            " 1290\n",
            "Initialised with 258 image(s) found.\n",
            "Output directory set to /content/drive/My Drive/Colab Notebooks/Images/Train/Neck_Blast/output."
          ]
        },
        {
          "output_type": "stream",
          "name": "stderr",
          "text": [
            "Processing <PIL.Image.Image image mode=RGB size=224x224 at 0x7FF1AB817750>: 100%|██████████| 1290/1290 [00:11<00:00, 108.91 Samples/s]\n"
          ]
        },
        {
          "output_type": "stream",
          "name": "stdout",
          "text": [
            "\n",
            " 985\n",
            "Initialised with 197 image(s) found.\n",
            "Output directory set to /content/drive/My Drive/Colab Notebooks/Images/Train/Sheath_Blight_Rot/output."
          ]
        },
        {
          "output_type": "stream",
          "name": "stderr",
          "text": [
            "Processing <PIL.Image.Image image mode=RGB size=224x224 at 0x7FF1AA69CBD0>: 100%|██████████| 985/985 [00:08<00:00, 112.75 Samples/s]\n"
          ]
        },
        {
          "output_type": "stream",
          "name": "stdout",
          "text": [
            "\n",
            " 905\n",
            "Initialised with 181 image(s) found.\n",
            "Output directory set to /content/drive/My Drive/Colab Notebooks/Images/Train/Stemborer/output."
          ]
        },
        {
          "output_type": "stream",
          "name": "stderr",
          "text": [
            "Processing <PIL.Image.Image image mode=RGB size=224x224 at 0x7FF1A15472D0>: 100%|██████████| 905/905 [00:08<00:00, 111.68 Samples/s]\n"
          ]
        },
        {
          "output_type": "stream",
          "name": "stdout",
          "text": [
            "Before move -  744\n",
            "After move -  744\n",
            "Before move -  384\n",
            "After move -  384\n",
            "Before move -  600\n",
            "After move -  600\n",
            "Before move -  504\n",
            "After move -  504\n",
            "Before move -  1260\n",
            "After move -  1260\n",
            "Before move -  396\n",
            "After move -  396\n",
            "Before move -  1548\n",
            "After move -  1548\n",
            "Before move -  1182\n",
            "After move -  1182\n",
            "Before move -  1086\n",
            "After move -  1086\n",
            "Found 7704 images belonging to 9 classes.\n",
            "Train data length ======  7704\n",
            "Found 284 images belonging to 9 classes.\n",
            "Test data length ======  284\n",
            "DenseNet201\n",
            "Before Fine Tuning---->\n",
            "Model: \"model_9\"\n",
            "_________________________________________________________________\n",
            " Layer (type)                Output Shape              Param #   \n",
            "=================================================================\n",
            " inputLayer (InputLayer)     [(None, 224, 224, 3)]     0         \n",
            "                                                                 \n",
            " densenet201 (Functional)    (None, 7, 7, 1920)        18321984  \n",
            "                                                                 \n",
            " global_average_pooling2d_9   (None, 1920)             0         \n",
            " (GlobalAveragePooling2D)                                        \n",
            "                                                                 \n",
            " flatten_9 (Flatten)         (None, 1920)              0         \n",
            "                                                                 \n",
            " dense_36 (Dense)            (None, 120)               230520    \n",
            "                                                                 \n",
            " dense_37 (Dense)            (None, 84)                10164     \n",
            "                                                                 \n",
            " dense_39 (Dense)            (None, 9)                 765       \n",
            "                                                                 \n",
            "=================================================================\n",
            "Total params: 18,563,433\n",
            "Trainable params: 241,449\n",
            "Non-trainable params: 18,321,984\n",
            "_________________________________________________________________\n",
            "None\n",
            "Epoch 1/20\n",
            "321/321 [==============================] - 32s 68ms/step - loss: 1.5265 - categorical_accuracy: 0.4657\n",
            "Epoch 2/20\n",
            "321/321 [==============================] - 22s 68ms/step - loss: 0.8413 - categorical_accuracy: 0.7371\n",
            "Epoch 3/20\n",
            "321/321 [==============================] - 22s 69ms/step - loss: 0.5964 - categorical_accuracy: 0.8201\n",
            "Epoch 4/20\n",
            "321/321 [==============================] - 22s 69ms/step - loss: 0.4661 - categorical_accuracy: 0.8645\n",
            "Epoch 5/20\n",
            "321/321 [==============================] - 22s 69ms/step - loss: 0.3809 - categorical_accuracy: 0.8956\n",
            "Epoch 6/20\n",
            "321/321 [==============================] - 22s 69ms/step - loss: 0.3222 - categorical_accuracy: 0.9126\n",
            "Epoch 7/20\n",
            "321/321 [==============================] - 22s 67ms/step - loss: 0.2736 - categorical_accuracy: 0.9233\n",
            "Epoch 8/20\n",
            "321/321 [==============================] - 21s 66ms/step - loss: 0.2394 - categorical_accuracy: 0.9359\n",
            "Epoch 9/20\n",
            "321/321 [==============================] - 21s 66ms/step - loss: 0.2089 - categorical_accuracy: 0.9450\n",
            "Epoch 10/20\n",
            "321/321 [==============================] - 21s 66ms/step - loss: 0.1833 - categorical_accuracy: 0.9557\n",
            "Epoch 11/20\n",
            "321/321 [==============================] - 21s 65ms/step - loss: 0.1615 - categorical_accuracy: 0.9608\n",
            "Epoch 12/20\n",
            "321/321 [==============================] - 21s 66ms/step - loss: 0.1419 - categorical_accuracy: 0.9677\n",
            "Epoch 13/20\n",
            "321/321 [==============================] - 22s 68ms/step - loss: 0.1261 - categorical_accuracy: 0.9713\n",
            "Epoch 14/20\n",
            "321/321 [==============================] - 21s 65ms/step - loss: 0.1131 - categorical_accuracy: 0.9772\n",
            "Epoch 15/20\n",
            "321/321 [==============================] - 21s 65ms/step - loss: 0.0997 - categorical_accuracy: 0.9812\n",
            "Epoch 16/20\n",
            "321/321 [==============================] - 21s 65ms/step - loss: 0.0889 - categorical_accuracy: 0.9823\n",
            "Epoch 17/20\n",
            "321/321 [==============================] - 21s 66ms/step - loss: 0.0783 - categorical_accuracy: 0.9866\n",
            "Epoch 18/20\n",
            "321/321 [==============================] - 21s 65ms/step - loss: 0.0681 - categorical_accuracy: 0.9887\n",
            "Epoch 19/20\n",
            "321/321 [==============================] - 21s 65ms/step - loss: 0.0615 - categorical_accuracy: 0.9910\n",
            "Epoch 20/20\n",
            "321/321 [==============================] - 21s 65ms/step - loss: 0.0543 - categorical_accuracy: 0.9936\n",
            "***Performance on Training data***\n",
            "Accuracy  : 0.9936396479606628\n",
            "======================================*\n",
            "12/12 [==============================] - 47s 4s/step\n",
            "***Performance on Validation data***\n",
            "Accuracy  : 0.9683098591549296\n",
            "Precision : 0.9684198825369194\n",
            "f1Score : 0.9681623962613037\n",
            "[[27  0  0  0  0  0  0  1  0]\n",
            " [ 0 13  0  0  0  1  0  0  0]\n",
            " [ 0  0 21  0  0  0  0  1  0]\n",
            " [ 0  0  0 16  1  0  1  0  0]\n",
            " [ 1  0  0  1 46  0  0  0  0]\n",
            " [ 0  1  0  0  0 13  0  0  0]\n",
            " [ 0  0  0  0  0  0 55  0  1]\n",
            " [ 0  0  0  0  0  0  0 44  0]\n",
            " [ 0  0  0  0  0  0  0  0 40]]\n",
            "\n",
            " Results for fold 10\n",
            "\n",
            " Folders Created ----->\n",
            "\n",
            " 620\n",
            "Initialised with 124 image(s) found.\n",
            "Output directory set to /content/drive/My Drive/Colab Notebooks/Images/Train/BLB/output."
          ]
        },
        {
          "output_type": "stream",
          "name": "stderr",
          "text": [
            "Processing <PIL.Image.Image image mode=RGB size=224x224 at 0x7FF19FFA1A90>: 100%|██████████| 620/620 [00:05<00:00, 114.92 Samples/s]\n"
          ]
        },
        {
          "output_type": "stream",
          "name": "stdout",
          "text": [
            "\n",
            " 320\n",
            "Initialised with 64 image(s) found.\n",
            "Output directory set to /content/drive/My Drive/Colab Notebooks/Images/Train/BPH/output."
          ]
        },
        {
          "output_type": "stream",
          "name": "stderr",
          "text": [
            "Processing <PIL.Image.Image image mode=RGB size=224x224 at 0x7FF19FF062D0>: 100%|██████████| 320/320 [00:02<00:00, 113.09 Samples/s]\n"
          ]
        },
        {
          "output_type": "stream",
          "name": "stdout",
          "text": [
            "\n",
            " 500\n",
            "Initialised with 100 image(s) found.\n",
            "Output directory set to /content/drive/My Drive/Colab Notebooks/Images/Train/Brown_Spot/output."
          ]
        },
        {
          "output_type": "stream",
          "name": "stderr",
          "text": [
            "Processing <PIL.Image.Image image mode=RGB size=224x224 at 0x7FF19FFEE410>: 100%|██████████| 500/500 [00:04<00:00, 113.07 Samples/s]\n"
          ]
        },
        {
          "output_type": "stream",
          "name": "stdout",
          "text": [
            "\n",
            " 420\n",
            "Initialised with 84 image(s) found.\n",
            "Output directory set to /content/drive/My Drive/Colab Notebooks/Images/Train/False_Smut/output."
          ]
        },
        {
          "output_type": "stream",
          "name": "stderr",
          "text": [
            "Processing <PIL.Image.Image image mode=RGB size=224x224 at 0x7FF1A00229D0>: 100%|██████████| 420/420 [00:03<00:00, 113.28 Samples/s]\n"
          ]
        },
        {
          "output_type": "stream",
          "name": "stdout",
          "text": [
            "\n",
            " 1050\n",
            "Initialised with 210 image(s) found.\n",
            "Output directory set to /content/drive/My Drive/Colab Notebooks/Images/Train/Healthy_Plant/output."
          ]
        },
        {
          "output_type": "stream",
          "name": "stderr",
          "text": [
            "Processing <PIL.Image.Image image mode=RGB size=224x224 at 0x7FF19FDC99D0>: 100%|██████████| 1050/1050 [00:09<00:00, 115.08 Samples/s]\n"
          ]
        },
        {
          "output_type": "stream",
          "name": "stdout",
          "text": [
            "\n",
            " 330\n",
            "Initialised with 66 image(s) found.\n",
            "Output directory set to /content/drive/My Drive/Colab Notebooks/Images/Train/Hispa/output."
          ]
        },
        {
          "output_type": "stream",
          "name": "stderr",
          "text": [
            "Processing <PIL.Image.Image image mode=RGB size=224x224 at 0x7FF1A0072390>: 100%|██████████| 330/330 [00:03<00:00, 91.52 Samples/s] \n"
          ]
        },
        {
          "output_type": "stream",
          "name": "stdout",
          "text": [
            "\n",
            " 1285\n",
            "Initialised with 257 image(s) found.\n",
            "Output directory set to /content/drive/My Drive/Colab Notebooks/Images/Train/Neck_Blast/output."
          ]
        },
        {
          "output_type": "stream",
          "name": "stderr",
          "text": [
            "Processing <PIL.Image.Image image mode=RGB size=224x224 at 0x7FF1ABB5DB10>: 100%|██████████| 1285/1285 [00:11<00:00, 113.80 Samples/s]\n"
          ]
        },
        {
          "output_type": "stream",
          "name": "stdout",
          "text": [
            "\n",
            " 990\n",
            "Initialised with 198 image(s) found.\n",
            "Output directory set to /content/drive/My Drive/Colab Notebooks/Images/Train/Sheath_Blight_Rot/output."
          ]
        },
        {
          "output_type": "stream",
          "name": "stderr",
          "text": [
            "Processing <PIL.Image.Image image mode=RGB size=224x224 at 0x7FF1ACB11250>: 100%|██████████| 990/990 [00:08<00:00, 117.67 Samples/s]\n"
          ]
        },
        {
          "output_type": "stream",
          "name": "stdout",
          "text": [
            "\n",
            " 905\n",
            "Initialised with 181 image(s) found.\n",
            "Output directory set to /content/drive/My Drive/Colab Notebooks/Images/Train/Stemborer/output."
          ]
        },
        {
          "output_type": "stream",
          "name": "stderr",
          "text": [
            "Processing <PIL.Image.Image image mode=RGB size=224x224 at 0x7FF1AEA1F1D0>: 100%|██████████| 905/905 [00:07<00:00, 113.68 Samples/s]\n"
          ]
        },
        {
          "output_type": "stream",
          "name": "stdout",
          "text": [
            "Before move -  744\n",
            "After move -  744\n",
            "Before move -  384\n",
            "After move -  384\n",
            "Before move -  600\n",
            "After move -  600\n",
            "Before move -  504\n",
            "After move -  504\n",
            "Before move -  1260\n",
            "After move -  1260\n",
            "Before move -  396\n",
            "After move -  396\n",
            "Before move -  1542\n",
            "After move -  1542\n",
            "Before move -  1188\n",
            "After move -  1188\n",
            "Before move -  1086\n",
            "After move -  1086\n",
            "Found 7704 images belonging to 9 classes.\n",
            "Train data length ======  7704\n",
            "Found 142 images belonging to 9 classes.\n",
            "Test data length ======  142\n",
            "DenseNet201\n",
            "Before Fine Tuning---->\n",
            "Model: \"model_10\"\n",
            "_________________________________________________________________\n",
            " Layer (type)                Output Shape              Param #   \n",
            "=================================================================\n",
            " inputLayer (InputLayer)     [(None, 224, 224, 3)]     0         \n",
            "                                                                 \n",
            " densenet201 (Functional)    (None, 7, 7, 1920)        18321984  \n",
            "                                                                 \n",
            " global_average_pooling2d_10  (None, 1920)             0         \n",
            "  (GlobalAveragePooling2D)                                       \n",
            "                                                                 \n",
            " flatten_10 (Flatten)        (None, 1920)              0         \n",
            "                                                                 \n",
            " dense_40 (Dense)            (None, 120)               230520    \n",
            "                                                                 \n",
            " dense_41 (Dense)            (None, 84)                10164     \n",
            "                                                                 \n",
            " dense_43 (Dense)            (None, 9)                 765       \n",
            "                                                                 \n",
            "=================================================================\n",
            "Total params: 18,563,433\n",
            "Trainable params: 241,449\n",
            "Non-trainable params: 18,321,984\n",
            "_________________________________________________________________\n",
            "None\n",
            "Epoch 1/20\n",
            "321/321 [==============================] - 32s 68ms/step - loss: 1.4839 - categorical_accuracy: 0.4879\n",
            "Epoch 2/20\n",
            "321/321 [==============================] - 21s 65ms/step - loss: 0.8015 - categorical_accuracy: 0.7526\n",
            "Epoch 3/20\n",
            "321/321 [==============================] - 20s 64ms/step - loss: 0.5745 - categorical_accuracy: 0.8272\n",
            "Epoch 4/20\n",
            "321/321 [==============================] - 21s 64ms/step - loss: 0.4475 - categorical_accuracy: 0.8689\n",
            "Epoch 5/20\n",
            "321/321 [==============================] - 21s 64ms/step - loss: 0.3680 - categorical_accuracy: 0.8940\n",
            "Epoch 6/20\n",
            "321/321 [==============================] - 21s 64ms/step - loss: 0.3068 - categorical_accuracy: 0.9145\n",
            "Epoch 7/20\n",
            "321/321 [==============================] - 22s 67ms/step - loss: 0.2607 - categorical_accuracy: 0.9280\n",
            "Epoch 8/20\n",
            "321/321 [==============================] - 21s 64ms/step - loss: 0.2250 - categorical_accuracy: 0.9407\n",
            "Epoch 9/20\n",
            "321/321 [==============================] - 21s 64ms/step - loss: 0.1952 - categorical_accuracy: 0.9498\n",
            "Epoch 10/20\n",
            "321/321 [==============================] - 21s 64ms/step - loss: 0.1737 - categorical_accuracy: 0.9542\n",
            "Epoch 11/20\n",
            "321/321 [==============================] - 20s 63ms/step - loss: 0.1518 - categorical_accuracy: 0.9637\n",
            "Epoch 12/20\n",
            "321/321 [==============================] - 20s 63ms/step - loss: 0.1346 - categorical_accuracy: 0.9683\n",
            "Epoch 13/20\n",
            "321/321 [==============================] - 21s 66ms/step - loss: 0.1190 - categorical_accuracy: 0.9729\n",
            "Epoch 14/20\n",
            "321/321 [==============================] - 21s 64ms/step - loss: 0.1055 - categorical_accuracy: 0.9778\n",
            "Epoch 15/20\n",
            "321/321 [==============================] - 20s 63ms/step - loss: 0.0928 - categorical_accuracy: 0.9814\n",
            "Epoch 16/20\n",
            "321/321 [==============================] - 20s 63ms/step - loss: 0.0815 - categorical_accuracy: 0.9851\n",
            "Epoch 17/20\n",
            "321/321 [==============================] - 21s 64ms/step - loss: 0.0735 - categorical_accuracy: 0.9870\n",
            "Epoch 18/20\n",
            "321/321 [==============================] - 21s 64ms/step - loss: 0.0644 - categorical_accuracy: 0.9891\n",
            "Epoch 19/20\n",
            "321/321 [==============================] - 20s 63ms/step - loss: 0.0574 - categorical_accuracy: 0.9925\n",
            "Epoch 20/20\n",
            "321/321 [==============================] - 20s 62ms/step - loss: 0.0498 - categorical_accuracy: 0.9934\n",
            "***Performance on Training data***\n",
            "Accuracy  : 0.993380069732666\n",
            "======================================*\n",
            "6/6 [==============================] - 3s 60ms/step\n",
            "***Performance on Validation data***\n",
            "Accuracy  : 0.9366197183098591\n",
            "Precision : 0.9434403390037193\n",
            "f1Score : 0.9375474357430974\n",
            "[[13  0  0  0  0  0  0  1  0]\n",
            " [ 0  6  0  0  0  1  0  0  0]\n",
            " [ 0  0 11  0  0  0  0  0  0]\n",
            " [ 0  0  0  7  1  1  0  0  0]\n",
            " [ 0  0  1  0 23  0  0  0  0]\n",
            " [ 0  0  0  0  1  6  0  0  0]\n",
            " [ 0  0  0  0  0  0 27  1  1]\n",
            " [ 0  0  0  0  0  1  0 20  0]\n",
            " [ 0  0  0  0  0  0  0  0 20]]\n",
            "[0.9944141507148743, 0.9951935410499573, 0.9945440292358398, 0.9935048222541809, 0.9955832958221436, 0.9925954937934875, 0.9922118186950684, 0.9932502508163452, 0.9936396479606628, 0.993380069732666]\n",
            "Train Summary=====>\n",
            "count    10.000000\n",
            "mean      0.993832\n",
            "std       0.001086\n",
            "min       0.992212\n",
            "25%       0.993283\n",
            "50%       0.993572\n",
            "75%       0.994512\n",
            "max       0.995583\n",
            "dtype: float64\n",
            "[0.951048951048951, 0.9230769230769231, 0.958041958041958, 0.9370629370629371, 0.965034965034965, 0.951048951048951, 0.9647887323943662, 0.9154929577464789, 0.9683098591549296, 0.9366197183098591]\n",
            "Validation Summary=====>\n",
            "count    10.000000\n",
            "mean      0.947053\n",
            "std       0.018324\n",
            "min       0.915493\n",
            "25%       0.936731\n",
            "50%       0.951049\n",
            "75%       0.963102\n",
            "max       0.968310\n",
            "dtype: float64\n",
            "End Model ->  DENSENET201\n",
            "Started at = 15:50:10\n",
            "--- 95.38928805192312 minutes ---\n"
          ]
        }
      ],
      "source": [
        "# def runStratifiedKFold(model,conv_base, batchsize,epochsNo,nosplit, df_report , \n",
        "#                       createModel, modelId ,Is_TL,Is_SVM, Is_TL_Tune , Test_No,\n",
        "#                       TRAIN_PATH , TRAIN_PATH_NEW, CLASS_NAMES , image_factor ):\n",
        "\n",
        "batchsize = 24\n",
        "epochsNo = 20\n",
        "nosplit = 10\n",
        "\n",
        "image_factor = 5 #If >1 only then new Augumented Images will be created\n",
        "\n",
        "for Test_No in range(1,2):\n",
        "    df_report = runStratifiedKFold(model,conv_base, batchsize,epochsNo,nosplit, df_report, \n",
        "                                   createModel, modelId , Is_TL,Is_SVM, Is_TL_Tune, Test_No ,\n",
        "                                  TRAIN_PATH , TRAIN_PATH_NEW, CLASS_NAMES , image_factor )\n"
      ]
    },
    {
      "cell_type": "code",
      "execution_count": null,
      "id": "7ITV3adl-oo7",
      "metadata": {
        "id": "7ITV3adl-oo7"
      },
      "outputs": [],
      "source": [
        ""
      ]
    },
    {
      "cell_type": "markdown",
      "id": "56edce43",
      "metadata": {
        "id": "56edce43"
      },
      "source": [
        "### Run Model"
      ]
    },
    {
      "cell_type": "code",
      "execution_count": null,
      "id": "ZZl8JoQXMu22",
      "metadata": {
        "colab": {
          "base_uri": "https://localhost:8080/",
          "height": 214
        },
        "id": "ZZl8JoQXMu22",
        "outputId": "f931a409-cc25-473c-fbcb-8791984e74aa"
      },
      "outputs": [
        {
          "output_type": "execute_result",
          "data": {
            "text/html": [
              "\n",
              "  <div id=\"df-6b65fffe-ccb6-44b3-bef9-82af16c0efa8\">\n",
              "    <div class=\"colab-df-container\">\n",
              "      <div>\n",
              "<style scoped>\n",
              "    .dataframe tbody tr th:only-of-type {\n",
              "        vertical-align: middle;\n",
              "    }\n",
              "\n",
              "    .dataframe tbody tr th {\n",
              "        vertical-align: top;\n",
              "    }\n",
              "\n",
              "    .dataframe thead th {\n",
              "        text-align: right;\n",
              "    }\n",
              "</style>\n",
              "<table border=\"1\" class=\"dataframe\">\n",
              "  <thead>\n",
              "    <tr style=\"text-align: right;\">\n",
              "      <th></th>\n",
              "      <th>Model_Name</th>\n",
              "      <th>Test_No</th>\n",
              "      <th>Batch_Size</th>\n",
              "      <th>Epoch</th>\n",
              "      <th>Count</th>\n",
              "      <th>Train_Average</th>\n",
              "      <th>Val_Average</th>\n",
              "      <th>Val_Maximum</th>\n",
              "      <th>Val_Minimum</th>\n",
              "      <th>Val_StandardDev</th>\n",
              "      <th>Is_TL</th>\n",
              "      <th>Is_SVM</th>\n",
              "      <th>Is_TL_Tune</th>\n",
              "      <th>Train_History</th>\n",
              "      <th>Val_History</th>\n",
              "      <th>Train_Summary</th>\n",
              "      <th>Val_Summary</th>\n",
              "      <th>Total_params</th>\n",
              "      <th>Trainable_params</th>\n",
              "      <th>Non_trainable_params</th>\n",
              "      <th>Total_Records</th>\n",
              "      <th>Execution_Time</th>\n",
              "      <th>Precision</th>\n",
              "      <th>f1Score</th>\n",
              "      <th>No_Fold</th>\n",
              "      <th>Date_Time</th>\n",
              "    </tr>\n",
              "  </thead>\n",
              "  <tbody>\n",
              "    <tr>\n",
              "      <th>0</th>\n",
              "      <td>DENSENET201</td>\n",
              "      <td>1</td>\n",
              "      <td>24</td>\n",
              "      <td>20</td>\n",
              "      <td>10.0</td>\n",
              "      <td>0.993832</td>\n",
              "      <td>0.947053</td>\n",
              "      <td>0.96831</td>\n",
              "      <td>0.915493</td>\n",
              "      <td>0.018324</td>\n",
              "      <td>True</td>\n",
              "      <td>False</td>\n",
              "      <td>False</td>\n",
              "      <td>[0.9944141507148743, 0.9951935410499573, 0.994...</td>\n",
              "      <td>[0.951048951048951, 0.9230769230769231, 0.9580...</td>\n",
              "      <td>count    10.000000\n",
              "mean      0.993832\n",
              "std     ...</td>\n",
              "      <td>count    10.000000\n",
              "mean      0.947053\n",
              "std     ...</td>\n",
              "      <td>18563433</td>\n",
              "      <td>241449</td>\n",
              "      <td>18321984</td>\n",
              "      <td>7846</td>\n",
              "      <td>95.389288</td>\n",
              "      <td>NaN</td>\n",
              "      <td>NaN</td>\n",
              "      <td>10</td>\n",
              "      <td>2022-02-13 15:50:10.499751</td>\n",
              "    </tr>\n",
              "  </tbody>\n",
              "</table>\n",
              "</div>\n",
              "      <button class=\"colab-df-convert\" onclick=\"convertToInteractive('df-6b65fffe-ccb6-44b3-bef9-82af16c0efa8')\"\n",
              "              title=\"Convert this dataframe to an interactive table.\"\n",
              "              style=\"display:none;\">\n",
              "        \n",
              "  <svg xmlns=\"http://www.w3.org/2000/svg\" height=\"24px\"viewBox=\"0 0 24 24\"\n",
              "       width=\"24px\">\n",
              "    <path d=\"M0 0h24v24H0V0z\" fill=\"none\"/>\n",
              "    <path d=\"M18.56 5.44l.94 2.06.94-2.06 2.06-.94-2.06-.94-.94-2.06-.94 2.06-2.06.94zm-11 1L8.5 8.5l.94-2.06 2.06-.94-2.06-.94L8.5 2.5l-.94 2.06-2.06.94zm10 10l.94 2.06.94-2.06 2.06-.94-2.06-.94-.94-2.06-.94 2.06-2.06.94z\"/><path d=\"M17.41 7.96l-1.37-1.37c-.4-.4-.92-.59-1.43-.59-.52 0-1.04.2-1.43.59L10.3 9.45l-7.72 7.72c-.78.78-.78 2.05 0 2.83L4 21.41c.39.39.9.59 1.41.59.51 0 1.02-.2 1.41-.59l7.78-7.78 2.81-2.81c.8-.78.8-2.07 0-2.86zM5.41 20L4 18.59l7.72-7.72 1.47 1.35L5.41 20z\"/>\n",
              "  </svg>\n",
              "      </button>\n",
              "      \n",
              "  <style>\n",
              "    .colab-df-container {\n",
              "      display:flex;\n",
              "      flex-wrap:wrap;\n",
              "      gap: 12px;\n",
              "    }\n",
              "\n",
              "    .colab-df-convert {\n",
              "      background-color: #E8F0FE;\n",
              "      border: none;\n",
              "      border-radius: 50%;\n",
              "      cursor: pointer;\n",
              "      display: none;\n",
              "      fill: #1967D2;\n",
              "      height: 32px;\n",
              "      padding: 0 0 0 0;\n",
              "      width: 32px;\n",
              "    }\n",
              "\n",
              "    .colab-df-convert:hover {\n",
              "      background-color: #E2EBFA;\n",
              "      box-shadow: 0px 1px 2px rgba(60, 64, 67, 0.3), 0px 1px 3px 1px rgba(60, 64, 67, 0.15);\n",
              "      fill: #174EA6;\n",
              "    }\n",
              "\n",
              "    [theme=dark] .colab-df-convert {\n",
              "      background-color: #3B4455;\n",
              "      fill: #D2E3FC;\n",
              "    }\n",
              "\n",
              "    [theme=dark] .colab-df-convert:hover {\n",
              "      background-color: #434B5C;\n",
              "      box-shadow: 0px 1px 3px 1px rgba(0, 0, 0, 0.15);\n",
              "      filter: drop-shadow(0px 1px 2px rgba(0, 0, 0, 0.3));\n",
              "      fill: #FFFFFF;\n",
              "    }\n",
              "  </style>\n",
              "\n",
              "      <script>\n",
              "        const buttonEl =\n",
              "          document.querySelector('#df-6b65fffe-ccb6-44b3-bef9-82af16c0efa8 button.colab-df-convert');\n",
              "        buttonEl.style.display =\n",
              "          google.colab.kernel.accessAllowed ? 'block' : 'none';\n",
              "\n",
              "        async function convertToInteractive(key) {\n",
              "          const element = document.querySelector('#df-6b65fffe-ccb6-44b3-bef9-82af16c0efa8');\n",
              "          const dataTable =\n",
              "            await google.colab.kernel.invokeFunction('convertToInteractive',\n",
              "                                                     [key], {});\n",
              "          if (!dataTable) return;\n",
              "\n",
              "          const docLinkHtml = 'Like what you see? Visit the ' +\n",
              "            '<a target=\"_blank\" href=https://colab.research.google.com/notebooks/data_table.ipynb>data table notebook</a>'\n",
              "            + ' to learn more about interactive tables.';\n",
              "          element.innerHTML = '';\n",
              "          dataTable['output_type'] = 'display_data';\n",
              "          await google.colab.output.renderOutput(dataTable, element);\n",
              "          const docLink = document.createElement('div');\n",
              "          docLink.innerHTML = docLinkHtml;\n",
              "          element.appendChild(docLink);\n",
              "        }\n",
              "      </script>\n",
              "    </div>\n",
              "  </div>\n",
              "  "
            ],
            "text/plain": [
              "    Model_Name Test_No Batch_Size  ... f1Score  No_Fold                  Date_Time\n",
              "0  DENSENET201       1         24  ...     NaN       10 2022-02-13 15:50:10.499751\n",
              "\n",
              "[1 rows x 26 columns]"
            ]
          },
          "metadata": {},
          "execution_count": 56
        }
      ],
      "source": [
        "df_report"
      ]
    },
    {
      "cell_type": "code",
      "execution_count": null,
      "id": "qEwaHO8M3kSc",
      "metadata": {
        "colab": {
          "base_uri": "https://localhost:8080/",
          "height": 361
        },
        "id": "qEwaHO8M3kSc",
        "outputId": "c5e24481-13d0-4b72-bb0f-5e3b038d8de1"
      },
      "outputs": [
        {
          "output_type": "display_data",
          "data": {
            "text/html": [
              "<table border=\"1\" class=\"dataframe\">\n",
              "  <thead>\n",
              "    <tr style=\"text-align: right;\">\n",
              "      <th></th>\n",
              "      <th>Model_Name</th>\n",
              "      <th>Test_No</th>\n",
              "      <th>Batch_Size</th>\n",
              "      <th>Epoch</th>\n",
              "      <th>Count</th>\n",
              "      <th>Train_Average</th>\n",
              "      <th>Val_Average</th>\n",
              "      <th>Val_Maximum</th>\n",
              "      <th>Val_Minimum</th>\n",
              "      <th>Val_StandardDev</th>\n",
              "      <th>Is_TL</th>\n",
              "      <th>Is_SVM</th>\n",
              "      <th>Is_TL_Tune</th>\n",
              "      <th>Train_History</th>\n",
              "      <th>Val_History</th>\n",
              "      <th>Train_Summary</th>\n",
              "      <th>Val_Summary</th>\n",
              "      <th>Total_params</th>\n",
              "      <th>Trainable_params</th>\n",
              "      <th>Non_trainable_params</th>\n",
              "      <th>Total_Records</th>\n",
              "      <th>Execution_Time</th>\n",
              "      <th>Precision</th>\n",
              "      <th>f1Score</th>\n",
              "      <th>No_Fold</th>\n",
              "      <th>Date_Time</th>\n",
              "    </tr>\n",
              "  </thead>\n",
              "  <tbody>\n",
              "    <tr>\n",
              "      <th>0</th>\n",
              "      <td>DENSENET201</td>\n",
              "      <td>1</td>\n",
              "      <td>24</td>\n",
              "      <td>20</td>\n",
              "      <td>10.0</td>\n",
              "      <td>0.993832</td>\n",
              "      <td>0.947053</td>\n",
              "      <td>0.96831</td>\n",
              "      <td>0.915493</td>\n",
              "      <td>0.018324</td>\n",
              "      <td>True</td>\n",
              "      <td>False</td>\n",
              "      <td>False</td>\n",
              "      <td>[0.9944141507148743, 0.9951935410499573, 0.9945440292358398, 0.9935048222541809, 0.9955832958221436, 0.9925954937934875, 0.9922118186950684, 0.9932502508163452, 0.9936396479606628, 0.993380069732666]</td>\n",
              "      <td>[0.951048951048951, 0.9230769230769231, 0.958041958041958, 0.9370629370629371, 0.965034965034965, 0.951048951048951, 0.9647887323943662, 0.9154929577464789, 0.9683098591549296, 0.9366197183098591]</td>\n",
              "      <td>count    10.000000\n",
              "mean      0.993832\n",
              "std       0.001086\n",
              "min       0.992212\n",
              "25%       0.993283\n",
              "50%       0.993572\n",
              "75%       0.994512\n",
              "max       0.995583\n",
              "dtype: float64</td>\n",
              "      <td>count    10.000000\n",
              "mean      0.947053\n",
              "std       0.018324\n",
              "min       0.915493\n",
              "25%       0.936731\n",
              "50%       0.951049\n",
              "75%       0.963102\n",
              "max       0.968310\n",
              "dtype: float64</td>\n",
              "      <td>18563433</td>\n",
              "      <td>241449</td>\n",
              "      <td>18321984</td>\n",
              "      <td>7846</td>\n",
              "      <td>95.389288</td>\n",
              "      <td>NaN</td>\n",
              "      <td>NaN</td>\n",
              "      <td>10</td>\n",
              "      <td>2022-02-13 15:50:10.499751</td>\n",
              "    </tr>\n",
              "  </tbody>\n",
              "</table>"
            ],
            "text/plain": [
              "<IPython.core.display.HTML object>"
            ]
          },
          "metadata": {}
        }
      ],
      "source": [
        "from IPython.display import display, HTML\n",
        "display(HTML(df_report.to_html()))"
      ]
    },
    {
      "cell_type": "code",
      "execution_count": null,
      "id": "dqDNd0ZKv7dW",
      "metadata": {
        "colab": {
          "base_uri": "https://localhost:8080/"
        },
        "id": "dqDNd0ZKv7dW",
        "outputId": "8452f6fd-09ad-4ab1-fa75-94cb78647581"
      },
      "outputs": [
        {
          "output_type": "stream",
          "name": "stdout",
          "text": [
            "Started Model ->  INPUTLAYER\n"
          ]
        }
      ],
      "source": [
        "print('Started Model -> ',model.layers[0].name.upper())"
      ]
    },
    {
      "cell_type": "code",
      "execution_count": null,
      "id": "4f7b2acf",
      "metadata": {
        "colab": {
          "base_uri": "https://localhost:8080/"
        },
        "id": "4f7b2acf",
        "outputId": "2cd1f69a-0273-4e87-925b-647c44e8ee95"
      },
      "outputs": [
        {
          "output_type": "stream",
          "name": "stdout",
          "text": [
            "Started Model ->  DENSENET201\n"
          ]
        }
      ],
      "source": [
        "print('Started Model -> ',model.layers[1].name.upper())"
      ]
    },
    {
      "cell_type": "code",
      "execution_count": null,
      "id": "d515026b",
      "metadata": {
        "colab": {
          "base_uri": "https://localhost:8080/",
          "height": 35
        },
        "id": "d515026b",
        "outputId": "98cbf827-6926-4886-99fd-0b0ec08155c2"
      },
      "outputs": [
        {
          "output_type": "execute_result",
          "data": {
            "application/vnd.google.colaboratory.intrinsic+json": {
              "type": "string"
            },
            "text/plain": [
              "'/content/drive/My Drive/Colab Notebooks/'"
            ]
          },
          "metadata": {},
          "execution_count": 60
        }
      ],
      "source": [
        "root_path"
      ]
    },
    {
      "cell_type": "code",
      "execution_count": null,
      "id": "b648c1fc",
      "metadata": {
        "id": "b648c1fc",
        "colab": {
          "base_uri": "https://localhost:8080/",
          "height": 486
        },
        "outputId": "28e3df60-f88f-4b66-d2f0-7c11f64be524"
      },
      "outputs": [
        {
          "output_type": "stream",
          "name": "stdout",
          "text": [
            "(1, 7, 7, 1920)\n"
          ]
        },
        {
          "output_type": "display_data",
          "data": {
            "image/png": "[encoded data removed]",
            "text/plain": [
              "<Figure size 1152x576 with 32 Axes>"
            ]
          },
          "metadata": {}
        }
      ],
      "source": [
        "from matplotlib import pyplot\n",
        "import matplotlib.pyplot as plt\n",
        "from tensorflow.keras.applications.vgg16 import preprocess_input\n",
        "\n",
        "\n",
        "from tensorflow.keras.preprocessing import image\n",
        "import numpy as np\n",
        "#from tensorflow.keras.models import Sequential\n",
        "from tensorflow.keras.layers import *\n",
        "import pylab\n",
        "#model = VGG16(weights='imagenet', include_top=False)\n",
        "#model = MobileNetV2(weights='imagenet', include_top=False)\n",
        "\n",
        "if (is_local):\n",
        "    img_path = './R_D_Images/BLB1.jpeg'\n",
        "else:\n",
        "    img_path = root_path + '/R_D_Images/BLB1.jpeg'\n",
        "    \n",
        "\n",
        "img = image.load_img(img_path)\n",
        "Y = image.img_to_array(img)\n",
        "Y = np.expand_dims(Y, axis=0)\n",
        "Y = preprocess_input(Y)\n",
        "\n",
        "features = conv_base.predict(Y)\n",
        "\n",
        "print(features.shape)\n",
        "\n",
        "\n",
        "row = 4\n",
        "col = row * 2\n",
        "ix = 1\n",
        "pyplot.figure(figsize=(col * 2, row * 2))\n",
        "\n",
        "\n",
        "\n",
        "for _ in range(row):\n",
        "    for _ in range(col):\n",
        "        # specify subplot and turn of axis\n",
        "        ax = pyplot.subplot(row, col, ix)\n",
        "        ax.set_xticks([])\n",
        "        ax.set_yticks([])\n",
        "        # plot filter channel in grayscale\n",
        "        pyplot.imshow(features[0, :, :, ix-1], cmap='gray')\n",
        "        ix += 1\n",
        "# show the figure\n",
        "pyplot.show()\n",
        "\n"
      ]
    },
    {
      "cell_type": "code",
      "execution_count": null,
      "id": "43859519",
      "metadata": {
        "colab": {
          "base_uri": "https://localhost:8080/",
          "height": 269
        },
        "id": "43859519",
        "outputId": "19076656-775a-4bbd-d10e-ddccc1fbc56c"
      },
      "outputs": [
        {
          "output_type": "display_data",
          "data": {
            "image/png": "[encoded data removed]",
            "text/plain": [
              "<Figure size 432x288 with 1 Axes>"
            ]
          },
          "metadata": {
            "needs_background": "light"
          }
        }
      ],
      "source": [
        "\n",
        "import matplotlib.pyplot as plt\n",
        "import matplotlib.image as mpimg\n",
        "\n",
        "imgplot = plt.imshow(img)\n",
        "plt.show()"
      ]
    },
    {
      "cell_type": "code",
      "execution_count": null,
      "id": "6a5b0ae5",
      "metadata": {
        "id": "6a5b0ae5",
        "colab": {
          "base_uri": "https://localhost:8080/",
          "height": 486
        },
        "outputId": "fd5b972a-0013-4456-c33a-1d70bba474ef"
      },
      "outputs": [
        {
          "output_type": "stream",
          "name": "stdout",
          "text": [
            "(1, 7, 7, 1920)\n"
          ]
        },
        {
          "output_type": "display_data",
          "data": {
            "image/png": "[encoded data removed]",
            "text/plain": [
              "<Figure size 1152x576 with 32 Axes>"
            ]
          },
          "metadata": {}
        }
      ],
      "source": [
        "from matplotlib import pyplot\n",
        "import matplotlib.pyplot as plt\n",
        "from tensorflow.keras.applications.vgg16 import preprocess_input\n",
        "\n",
        "\n",
        "from tensorflow.keras.preprocessing import image\n",
        "import numpy as np\n",
        "#from tensorflow.keras.models import Sequential\n",
        "from tensorflow.keras.layers import *\n",
        "import pylab\n",
        "#model = VGG16(weights='imagenet', include_top=False)\n",
        "#model = MobileNetV2(weights='imagenet', include_top=False)\n",
        "\n",
        "\n",
        "if (is_local):\n",
        "    img_path = './R_D_Images/BLB2.jpeg'\n",
        "else:\n",
        "    img_path = root_path + '/R_D_Images/BLB2.jpeg'\n",
        "    \n",
        "    \n",
        "img = image.load_img(img_path)\n",
        "Y = image.img_to_array(img)\n",
        "Y = np.expand_dims(Y, axis=0)\n",
        "Y = preprocess_input(Y)\n",
        "\n",
        "features = conv_base.predict(Y)\n",
        "\n",
        "print(features.shape)\n",
        "\n",
        "\n",
        "row = 4\n",
        "col = row * 2\n",
        "ix = 1\n",
        "pyplot.figure(figsize=(col * 2, row * 2))\n",
        "\n",
        "\n",
        "\n",
        "for _ in range(row):\n",
        "    for _ in range(col):\n",
        "        # specify subplot and turn of axis\n",
        "        ax = pyplot.subplot(row, col, ix)\n",
        "        ax.set_xticks([])\n",
        "        ax.set_yticks([])\n",
        "        # plot filter channel in grayscale\n",
        "        pyplot.imshow(features[0, :, :, ix-1], cmap='gray')\n",
        "        ix += 1\n",
        "# show the figure\n",
        "pyplot.show()\n",
        "\n"
      ]
    },
    {
      "cell_type": "code",
      "execution_count": null,
      "id": "c49b00d6",
      "metadata": {
        "id": "c49b00d6",
        "colab": {
          "base_uri": "https://localhost:8080/",
          "height": 269
        },
        "outputId": "ccb752dd-72a4-4d30-de99-c124a96d47dc"
      },
      "outputs": [
        {
          "output_type": "display_data",
          "data": {
            "image/png": "[encoded data removed]",
            "text/plain": [
              "<Figure size 432x288 with 1 Axes>"
            ]
          },
          "metadata": {
            "needs_background": "light"
          }
        }
      ],
      "source": [
        "\n",
        "import matplotlib.pyplot as plt\n",
        "import matplotlib.image as mpimg\n",
        "\n",
        "imgplot = plt.imshow(img)\n",
        "plt.show()"
      ]
    },
    {
      "cell_type": "code",
      "execution_count": null,
      "id": "ebba7fd3",
      "metadata": {
        "id": "ebba7fd3"
      },
      "outputs": [],
      "source": [
        ""
      ]
    },
    {
      "cell_type": "code",
      "execution_count": null,
      "id": "13f63cd5",
      "metadata": {
        "id": "13f63cd5"
      },
      "outputs": [],
      "source": [
        ""
      ]
    },
    {
      "cell_type": "code",
      "execution_count": null,
      "id": "c5b3e4ce",
      "metadata": {
        "id": "c5b3e4ce"
      },
      "outputs": [],
      "source": [
        ""
      ]
    },
    {
      "cell_type": "code",
      "execution_count": null,
      "id": "f45166f5",
      "metadata": {
        "id": "f45166f5"
      },
      "outputs": [],
      "source": [
        ""
      ]
    }
  ],
  "metadata": {
    "accelerator": "GPU",
    "colab": {
      "background_execution": "on",
      "collapsed_sections": [
        "5d2d9c8c"
      ],
      "machine_shape": "hm",
      "name": "Rice_Leaf_Disease_Detection_DenseNet201_TL.ipynb",
      "provenance": [],
      "include_colab_link": true
    },
    "kernelspec": {
      "display_name": "Python 3",
      "language": "python",
      "name": "python3"
    },
    "language_info": {
      "codemirror_mode": {
        "name": "ipython",
        "version": 3
      },
      "file_extension": ".py",
      "mimetype": "text/x-python",
      "name": "python",
      "nbconvert_exporter": "python",
      "pygments_lexer": "ipython3",
      "version": "3.8.8"
    }
  },
  "nbformat": 4,
  "nbformat_minor": 5
}
