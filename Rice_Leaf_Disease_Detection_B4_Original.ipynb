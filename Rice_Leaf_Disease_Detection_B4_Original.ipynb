{
  "cells": [
    {
      "cell_type": "markdown",
      "metadata": {
        "id": "view-in-github",
        "colab_type": "text"
      },
      "source": [
        "<a href=\"https://colab.research.google.com/github/arupkrdas2008/Education-Rice_Disease/blob/main/Rice_Leaf_Disease_Detection_B4_Original.ipynb\" target=\"_parent\"><img src=\"https://colab.research.google.com/assets/colab-badge.svg\" alt=\"Open In Colab\"/></a>"
      ]
    },
    {
      "cell_type": "code",
      "execution_count": 1,
      "metadata": {
        "id": "989f8626"
      },
      "outputs": [],
      "source": [
        "#Latest 02/16/2022"
      ],
      "id": "989f8626"
    },
    {
      "cell_type": "code",
      "execution_count": 2,
      "metadata": {
        "id": "0a631b0c"
      },
      "outputs": [],
      "source": [
        "gpu_flag = False # Used when running in local PC with GPU\n",
        "\n",
        "google_colab_flag = True # Only when used in Google Colab\n",
        "\n",
        "lambda_flag = False  #Used when running on Lambada Labs\n",
        "\n",
        "is_local = False\n"
      ],
      "id": "0a631b0c"
    },
    {
      "cell_type": "code",
      "execution_count": 3,
      "metadata": {
        "colab": {
          "base_uri": "https://localhost:8080/"
        },
        "id": "4b03b621",
        "outputId": "c469ed19-0860-41c4-c165-e1f433459f22"
      },
      "outputs": [
        {
          "output_type": "stream",
          "name": "stdout",
          "text": [
            "Collecting efficientnet\n",
            "  Downloading efficientnet-1.1.1-py3-none-any.whl (18 kB)\n",
            "Collecting keras-applications<=1.0.8,>=1.0.7\n",
            "  Downloading Keras_Applications-1.0.8-py3-none-any.whl (50 kB)\n",
            "\u001b[?25l\r\u001b[K     |██████▌                         | 10 kB 25.5 MB/s eta 0:00:01\r\u001b[K     |█████████████                   | 20 kB 33.6 MB/s eta 0:00:01\r\u001b[K     |███████████████████▍            | 30 kB 40.5 MB/s eta 0:00:01\r\u001b[K     |█████████████████████████▉      | 40 kB 29.1 MB/s eta 0:00:01\r\u001b[K     |████████████████████████████████| 50 kB 4.9 MB/s \n",
            "\u001b[?25hRequirement already satisfied: scikit-image in /usr/local/lib/python3.7/dist-packages (from efficientnet) (0.18.3)\n",
            "Requirement already satisfied: h5py in /usr/local/lib/python3.7/dist-packages (from keras-applications<=1.0.8,>=1.0.7->efficientnet) (3.1.0)\n",
            "Requirement already satisfied: numpy>=1.9.1 in /usr/local/lib/python3.7/dist-packages (from keras-applications<=1.0.8,>=1.0.7->efficientnet) (1.21.5)\n",
            "Requirement already satisfied: cached-property in /usr/local/lib/python3.7/dist-packages (from h5py->keras-applications<=1.0.8,>=1.0.7->efficientnet) (1.5.2)\n",
            "Requirement already satisfied: networkx>=2.0 in /usr/local/lib/python3.7/dist-packages (from scikit-image->efficientnet) (2.6.3)\n",
            "Requirement already satisfied: PyWavelets>=1.1.1 in /usr/local/lib/python3.7/dist-packages (from scikit-image->efficientnet) (1.2.0)\n",
            "Requirement already satisfied: scipy>=1.0.1 in /usr/local/lib/python3.7/dist-packages (from scikit-image->efficientnet) (1.4.1)\n",
            "Requirement already satisfied: matplotlib!=3.0.0,>=2.0.0 in /usr/local/lib/python3.7/dist-packages (from scikit-image->efficientnet) (3.2.2)\n",
            "Requirement already satisfied: pillow!=7.1.0,!=7.1.1,>=4.3.0 in /usr/local/lib/python3.7/dist-packages (from scikit-image->efficientnet) (7.1.2)\n",
            "Requirement already satisfied: tifffile>=2019.7.26 in /usr/local/lib/python3.7/dist-packages (from scikit-image->efficientnet) (2021.11.2)\n",
            "Requirement already satisfied: imageio>=2.3.0 in /usr/local/lib/python3.7/dist-packages (from scikit-image->efficientnet) (2.4.1)\n",
            "Requirement already satisfied: cycler>=0.10 in /usr/local/lib/python3.7/dist-packages (from matplotlib!=3.0.0,>=2.0.0->scikit-image->efficientnet) (0.11.0)\n",
            "Requirement already satisfied: pyparsing!=2.0.4,!=2.1.2,!=2.1.6,>=2.0.1 in /usr/local/lib/python3.7/dist-packages (from matplotlib!=3.0.0,>=2.0.0->scikit-image->efficientnet) (3.0.7)\n",
            "Requirement already satisfied: kiwisolver>=1.0.1 in /usr/local/lib/python3.7/dist-packages (from matplotlib!=3.0.0,>=2.0.0->scikit-image->efficientnet) (1.3.2)\n",
            "Requirement already satisfied: python-dateutil>=2.1 in /usr/local/lib/python3.7/dist-packages (from matplotlib!=3.0.0,>=2.0.0->scikit-image->efficientnet) (2.8.2)\n",
            "Requirement already satisfied: six>=1.5 in /usr/local/lib/python3.7/dist-packages (from python-dateutil>=2.1->matplotlib!=3.0.0,>=2.0.0->scikit-image->efficientnet) (1.15.0)\n",
            "Installing collected packages: keras-applications, efficientnet\n",
            "Successfully installed efficientnet-1.1.1 keras-applications-1.0.8\n",
            "Collecting Augmentor\n",
            "  Downloading Augmentor-0.2.9-py2.py3-none-any.whl (38 kB)\n",
            "Requirement already satisfied: numpy>=1.11.0 in /usr/local/lib/python3.7/dist-packages (from Augmentor) (1.21.5)\n",
            "Requirement already satisfied: Pillow>=5.2.0 in /usr/local/lib/python3.7/dist-packages (from Augmentor) (7.1.2)\n",
            "Requirement already satisfied: future>=0.16.0 in /usr/local/lib/python3.7/dist-packages (from Augmentor) (0.16.0)\n",
            "Requirement already satisfied: tqdm>=4.9.0 in /usr/local/lib/python3.7/dist-packages (from Augmentor) (4.62.3)\n",
            "Installing collected packages: Augmentor\n",
            "Successfully installed Augmentor-0.2.9\n"
          ]
        }
      ],
      "source": [
        "if(google_colab_flag or lambda_flag):\n",
        "    !pip install -U --pre efficientnet\n",
        "    !pip install Augmentor"
      ],
      "id": "4b03b621"
    },
    {
      "cell_type": "code",
      "execution_count": 4,
      "metadata": {
        "id": "U-wb4Lu7-sa8"
      },
      "outputs": [],
      "source": [
        "import tensorflow as tf\n",
        "\n",
        "\n",
        "\n",
        "if(gpu_flag ):\n",
        "    gpus = tf.config.experimental.list_physical_devices('GPU')\n",
        "    if gpus:\n",
        "      # Restrict TensorFlow to only allocate 3GB of memory on the first GPU\n",
        "        try:\n",
        "            tf.config.experimental.set_virtual_device_configuration(\n",
        "            gpus[0],\n",
        "            [tf.config.experimental.VirtualDeviceConfiguration(memory_limit=3900)])\n",
        "            logical_gpus = tf.config.experimental.list_logical_devices('GPU')\n",
        "            print(len(gpus), \"Physical GPUs,\", len(logical_gpus), \"Logical GPUs\")\n",
        "        except RuntimeError as e:\n",
        "        # Virtual devices must be set before GPUs have been initialized\n",
        "            print(e)"
      ],
      "id": "U-wb4Lu7-sa8"
    },
    {
      "cell_type": "code",
      "execution_count": 4,
      "metadata": {
        "id": "1d85c939-d99d-4dba-8382-e107e45ea922"
      },
      "outputs": [],
      "source": [
        ""
      ],
      "id": "1d85c939-d99d-4dba-8382-e107e45ea922"
    },
    {
      "cell_type": "markdown",
      "metadata": {
        "id": "c2d58fc8"
      },
      "source": [
        "## Import Library"
      ],
      "id": "c2d58fc8"
    },
    {
      "cell_type": "code",
      "execution_count": 5,
      "metadata": {
        "id": "07f43e22"
      },
      "outputs": [],
      "source": [
        "import glob\n",
        "import os\n",
        "import random\n",
        "import shutil\n",
        "import time\n",
        "from datetime import datetime\n",
        "\n",
        "import pandas as pd\n",
        "\n",
        "\n",
        "from tensorflow import keras\n",
        "\n",
        "\n",
        "\n",
        "import pathlib\n",
        "\n",
        "import numpy as np\n",
        "from tensorflow.keras.preprocessing.image import ImageDataGenerator\n",
        "\n",
        "from tensorflow.keras.models import Sequential\n",
        "from tensorflow.keras import models\n",
        "from tensorflow.keras import layers\n",
        "from tensorflow.keras import optimizers\n",
        "\n",
        "\n",
        "from sklearn.model_selection import StratifiedKFold\n",
        "\n",
        "\n",
        "from tensorflow.keras.regularizers import l2\n",
        "from tensorflow.keras.regularizers import l1\n",
        "from tensorflow.keras.regularizers import l1_l2\n",
        "\n",
        "import Augmentor"
      ],
      "id": "07f43e22"
    },
    {
      "cell_type": "code",
      "execution_count": 43,
      "metadata": {
        "id": "b8351d8e"
      },
      "outputs": [],
      "source": [
        "from keras.utils.layer_utils import count_params\n",
        "\n"
      ],
      "id": "b8351d8e"
    },
    {
      "cell_type": "markdown",
      "metadata": {
        "id": "84f53837"
      },
      "source": [
        "## One time operation for file transfer"
      ],
      "id": "84f53837"
    },
    {
      "cell_type": "code",
      "execution_count": 43,
      "metadata": {
        "id": "0ebfa17b"
      },
      "outputs": [],
      "source": [
        ""
      ],
      "id": "0ebfa17b"
    },
    {
      "cell_type": "code",
      "execution_count": 43,
      "metadata": {
        "id": "836efe92"
      },
      "outputs": [],
      "source": [
        ""
      ],
      "id": "836efe92"
    },
    {
      "cell_type": "markdown",
      "metadata": {
        "id": "e1a7a206"
      },
      "source": [
        "## Set Operation Path (Local vs Cloud)"
      ],
      "id": "e1a7a206"
    },
    {
      "cell_type": "code",
      "execution_count": 44,
      "metadata": {
        "colab": {
          "base_uri": "https://localhost:8080/"
        },
        "id": "ab534a9c",
        "outputId": "f4802948-fadb-49a3-b751-888743081854"
      },
      "outputs": [
        {
          "output_type": "stream",
          "name": "stdout",
          "text": [
            "Drive already mounted at /content/drive; to attempt to forcibly remount, call drive.mount(\"/content/drive\", force_remount=True).\n",
            "drive  sample_data\n"
          ]
        }
      ],
      "source": [
        "\n",
        "# For training in Google Colab\n",
        "if(google_colab_flag):\n",
        "    from google.colab import drive\n",
        "    drive.mount('/content/drive')\n",
        "    !ls\n",
        "    import sys\n",
        "    root_path = '/content/drive/My Drive/Colab Notebooks/' # This is the path to where in google drive the code is stored!\n",
        "    sys.path.append(root_path)\n",
        "\n",
        "# For local training\n",
        "else:\n",
        "    #root_path = os.getcwd()\n",
        "    root_path = ''"
      ],
      "id": "ab534a9c"
    },
    {
      "cell_type": "markdown",
      "metadata": {
        "id": "0938de27"
      },
      "source": [
        "## Set All File Path"
      ],
      "id": "0938de27"
    },
    {
      "cell_type": "code",
      "execution_count": 45,
      "metadata": {
        "colab": {
          "base_uri": "https://localhost:8080/"
        },
        "id": "117ae053",
        "outputId": "33985277-20d8-4203-a5b9-e74c0fb74442"
      },
      "outputs": [
        {
          "output_type": "stream",
          "name": "stdout",
          "text": [
            "/content/drive/My Drive/Colab Notebooks/Images\n",
            "Total Images:  1426\n",
            "===============================\n",
            "/content/drive/My Drive/Colab Notebooks/Images/Train\n",
            "/content/drive/My Drive/Colab Notebooks/Images/Validation\n",
            "/content/drive/My Drive/Colab Notebooks/Images/Test\n",
            "1162\n",
            "125\n",
            "139\n"
          ]
        }
      ],
      "source": [
        "#Path of the Original Images\n",
        "if(google_colab_flag):\n",
        "    path = root_path + 'Original'\n",
        "else:\n",
        "    path = root_path + './Original'\n",
        "\n",
        "if(google_colab_flag):\n",
        "    folder_data= root_path + 'Images'\n",
        "else:\n",
        "    folder_data= root_path + './Images'\n",
        "\n",
        "\n",
        "#MODEL_FILENAME=root_path+\"model_cv.h5\"\n",
        "#Convert to directory type\n",
        "data_dir = pathlib.Path(folder_data)\n",
        "print(data_dir)\n",
        "\n",
        "#Verify the image count to make sure we have all the pictures\n",
        "image_count = len(list(data_dir.glob('**/*/*.jpeg')))\n",
        "print('Total Images: ' , image_count)\n",
        "print('===============================')\n",
        "\n",
        "# Path of the train folder\n",
        "TRAIN_PATH = folder_data + '/Train'\n",
        "print(TRAIN_PATH)\n",
        "\n",
        "# Path of the validation folder\n",
        "VAL_PATH = folder_data + '/Validation'\n",
        "print(VAL_PATH)\n",
        "\n",
        "\n",
        "# Path of the test folder\n",
        "TEST_PATH = folder_data + '/Test'\n",
        "print(TEST_PATH)\n",
        "\n",
        "# Defining the directory for train, validation and test images\n",
        "data_dir_train = pathlib.Path(folder_data + '/Train')\n",
        "data_dir_val = pathlib.Path(folder_data + '/Validation')\n",
        "data_dir_test = pathlib.Path(folder_data + '/Test')\n",
        "\n",
        "#Image count in each of the folders\n",
        "image_count_train = len(list(data_dir_train.glob('*/*.jpeg')))\n",
        "print(image_count_train)\n",
        "image_count_val = len(list(data_dir_val.glob('*/*.jpeg')))\n",
        "print(image_count_val)\n",
        "image_count_test = len(list(data_dir_test.glob('*/*.jpeg')))\n",
        "print(image_count_test)\n",
        "\n",
        "TRAIN_PATH_NEW = TRAIN_PATH + \"/\"\n"
      ],
      "id": "117ae053"
    },
    {
      "cell_type": "markdown",
      "metadata": {
        "id": "7c03eef7"
      },
      "source": [
        "### Set Parameters"
      ],
      "id": "7c03eef7"
    },
    {
      "cell_type": "code",
      "execution_count": 46,
      "metadata": {
        "id": "600d1a6f"
      },
      "outputs": [],
      "source": [
        "#List for source file names\n",
        "sourceFiles=[]\n",
        "\n",
        "#Set the class lebels from original Dataset\n",
        "classLabels= os.listdir(path)\n",
        "num_classes = len(classLabels)\n",
        "\n",
        "#For X & Y lists\n",
        "X=[]\n",
        "Y=[]\n",
        "\n",
        "#Set Image size\n",
        "batch_size = 64\n",
        "img_height = 224\n",
        "img_width = 224\n",
        "\n",
        "#Show full text in Dataframe\n",
        "#pd.set_option(\"display.max_colwidth\", None)"
      ],
      "id": "600d1a6f"
    },
    {
      "cell_type": "code",
      "execution_count": 47,
      "metadata": {
        "id": "4d420032"
      },
      "outputs": [],
      "source": [
        "train_datagen = ImageDataGenerator(rescale = 1/255)\n",
        "validation_datagen = ImageDataGenerator(rescale = 1/255)\n",
        "test_datagen  = ImageDataGenerator(rescale = 1/255)"
      ],
      "id": "4d420032"
    },
    {
      "cell_type": "code",
      "execution_count": 48,
      "metadata": {
        "id": "e3d9ce81"
      },
      "outputs": [],
      "source": [
        "def resetParameters(bath,height,width):\n",
        "    batch_size = bath\n",
        "    img_height = height\n",
        "    img_width = width\n"
      ],
      "id": "e3d9ce81"
    },
    {
      "cell_type": "markdown",
      "metadata": {
        "id": "062b1b09"
      },
      "source": [
        "## File move methods"
      ],
      "id": "062b1b09"
    },
    {
      "cell_type": "code",
      "execution_count": 49,
      "metadata": {
        "id": "00629c98"
      },
      "outputs": [],
      "source": [
        "def moveFiles(source, dest, splitRate): \n",
        "    global sourceFiles\n",
        "    sourceFiles=os.listdir(source)\n",
        "    if(len(sourceFiles)!=0):\n",
        "        transferFileNumbers=int(len(sourceFiles)*splitRate)\n",
        "        transferIndex=random.sample(range(0, len(sourceFiles)), transferFileNumbers)\n",
        "        for eachIndex in transferIndex:\n",
        "            shutil.move(source+str(sourceFiles[eachIndex]), dest+str(sourceFiles[eachIndex]))\n",
        "    else:\n",
        "        print(\"No file moved. Source empty!\")\n",
        "        \n",
        "def moveAllFiles(source, dest, splitRate):\n",
        "    for label in classLabels:\n",
        "        moveFiles(folder_data+'/'+source+'/'+label+'/', \n",
        "                               folder_data+'/'+dest+'/'+label+'/', \n",
        "                               splitRate)"
      ],
      "id": "00629c98"
    },
    {
      "cell_type": "code",
      "execution_count": 49,
      "metadata": {
        "id": "c2c70c5d"
      },
      "outputs": [],
      "source": [
        ""
      ],
      "id": "c2c70c5d"
    },
    {
      "cell_type": "code",
      "execution_count": 49,
      "metadata": {
        "id": "ee000233"
      },
      "outputs": [],
      "source": [
        ""
      ],
      "id": "ee000233"
    },
    {
      "cell_type": "markdown",
      "metadata": {
        "id": "ed827cf6"
      },
      "source": [
        "## Functions for Accuracy Check"
      ],
      "id": "ed827cf6"
    },
    {
      "cell_type": "code",
      "execution_count": 50,
      "metadata": {
        "id": "1d3e7f91"
      },
      "outputs": [],
      "source": [
        "from sklearn.metrics import accuracy_score, f1_score, precision_score, confusion_matrix\n",
        "def check_Accuracy(y_true, y_pred):\n",
        "    accuracy=accuracy_score(y_true, y_pred)\n",
        "    precision=precision_score(y_true, y_pred,average='weighted')\n",
        "    f1Score=f1_score(y_true, y_pred, average='weighted') \n",
        "    print(\"Accuracy  : {}\".format(accuracy))\n",
        "    print(\"Precision : {}\".format(precision))\n",
        "    print(\"f1Score : {}\".format(f1Score))\n",
        "    cm=confusion_matrix(y_true, y_pred)\n",
        "    print(cm)\n",
        "    return accuracy, precision, f1Score"
      ],
      "id": "1d3e7f91"
    },
    {
      "cell_type": "code",
      "execution_count": 50,
      "metadata": {
        "id": "fe922b26"
      },
      "outputs": [],
      "source": [
        ""
      ],
      "id": "fe922b26"
    },
    {
      "cell_type": "markdown",
      "metadata": {
        "id": "2f266213"
      },
      "source": [
        "## Move all files to Train"
      ],
      "id": "2f266213"
    },
    {
      "cell_type": "code",
      "execution_count": 51,
      "metadata": {
        "id": "576e5743"
      },
      "outputs": [],
      "source": [
        "moveAllFiles('Test', 'Train', 1.0)\n",
        "moveAllFiles('Validation', 'Train', 1.0)\n",
        "\n",
        "if os.path.exists(folder_data + '/Temp'):\n",
        "    # delete train folder\n",
        "    shutil.rmtree(TRAIN_PATH)\n",
        "    # Copy back from temp folder\n",
        "    source = folder_data + '/Temp'\n",
        "    dest =  TRAIN_PATH\n",
        "    shutil.copytree(source,dest )\n",
        "    shutil.rmtree(source)\n"
      ],
      "id": "576e5743"
    },
    {
      "cell_type": "markdown",
      "metadata": {
        "id": "6c8ff8fd"
      },
      "source": [
        "### Saperate data for testing"
      ],
      "id": "6c8ff8fd"
    },
    {
      "cell_type": "code",
      "execution_count": 52,
      "metadata": {
        "id": "12da0fde"
      },
      "outputs": [],
      "source": [
        "#transferAllClassBetweenFolders('train', 'test', 0.10)\n"
      ],
      "id": "12da0fde"
    },
    {
      "cell_type": "code",
      "execution_count": 53,
      "metadata": {
        "id": "93d44000"
      },
      "outputs": [],
      "source": [
        "def setClassNameLabels(folderName):\n",
        "    sourceFiles=os.listdir(folder_data+'/Train/'+folderName)\n",
        "    for val in sourceFiles:\n",
        "        X.append(val)\n",
        "        for i in range(len(classLabels)):\n",
        "            if(folderName==classLabels[i]):\n",
        "                Y.append(i)"
      ],
      "id": "93d44000"
    },
    {
      "cell_type": "markdown",
      "metadata": {
        "id": "f7e41b43"
      },
      "source": [
        "## Set file names for splitting"
      ],
      "id": "f7e41b43"
    },
    {
      "cell_type": "code",
      "execution_count": 54,
      "metadata": {
        "id": "bb2525bc"
      },
      "outputs": [],
      "source": [
        "# Organize file names and class labels in X and Y variables\n",
        "for i in range(len(classLabels)):\n",
        "    setClassNameLabels(classLabels[i])"
      ],
      "id": "bb2525bc"
    },
    {
      "cell_type": "code",
      "execution_count": 55,
      "metadata": {
        "colab": {
          "base_uri": "https://localhost:8080/"
        },
        "id": "26e0e5a8",
        "outputId": "e86e7b13-6099-4f91-86bc-0feff7a537c1"
      },
      "outputs": [
        {
          "output_type": "stream",
          "name": "stdout",
          "text": [
            "['Hispa1_ec18d6f6-acfe-421a-afff-0c0de7820471.jpeg'\n",
            " 'Hispa1_e90561cd-d030-48d2-9fc7-260acf07de10.jpeg'\n",
            " 'Hispa1_a89187dd-c561-4b3b-a8d2-8cd024778bbd.jpeg' ...\n",
            " 'False_Smut1_e44573f8-9249-45fd-898c-2722bff71354.jpeg'\n",
            " 'False_Smut1_465e075a-10f4-483b-92f6-866de7308477.jpeg'\n",
            " 'False_Smut1_3b349a07-4246-4ac4-996a-996d62de1eea.jpeg']\n",
            "[0 0 0 ... 8 8 8]\n"
          ]
        }
      ],
      "source": [
        "X=np.asarray(X)\n",
        "Y=np.asarray(Y)\n",
        "\n",
        "print(X)\n",
        "print(Y)"
      ],
      "id": "26e0e5a8"
    },
    {
      "cell_type": "code",
      "execution_count": 55,
      "metadata": {
        "id": "33179ea0"
      },
      "outputs": [],
      "source": [
        ""
      ],
      "id": "33179ea0"
    },
    {
      "cell_type": "markdown",
      "metadata": {
        "id": "03cb8c96"
      },
      "source": [
        "# Check later on if this is required"
      ],
      "id": "03cb8c96"
    },
    {
      "cell_type": "code",
      "execution_count": 56,
      "metadata": {
        "colab": {
          "base_uri": "https://localhost:8080/"
        },
        "id": "df3492d1",
        "outputId": "b6d8d31d-5a59-4abd-a64d-69c99f46e9b9"
      },
      "outputs": [
        {
          "output_type": "stream",
          "name": "stdout",
          "text": [
            "Found 1426 images belonging to 9 classes.\n"
          ]
        }
      ],
      "source": [
        "trn_dataset = train_datagen.flow_from_directory(\n",
        "    data_dir_train,\n",
        "    target_size=(img_height, img_width),\n",
        "    batch_size=batch_size,\n",
        "    class_mode = 'categorical'\n",
        ")"
      ],
      "id": "df3492d1"
    },
    {
      "cell_type": "code",
      "execution_count": 57,
      "metadata": {
        "colab": {
          "base_uri": "https://localhost:8080/"
        },
        "id": "d3b866b9",
        "outputId": "8bcb2d51-eaf3-4a53-aadf-f2f0c30e442e"
      },
      "outputs": [
        {
          "output_type": "execute_result",
          "data": {
            "text/plain": [
              "1426"
            ]
          },
          "metadata": {},
          "execution_count": 57
        }
      ],
      "source": [
        "trn_dataset.samples "
      ],
      "id": "d3b866b9"
    },
    {
      "cell_type": "code",
      "execution_count": 58,
      "metadata": {
        "colab": {
          "base_uri": "https://localhost:8080/"
        },
        "id": "f21e23c4",
        "outputId": "dfba584f-168c-46cc-b396-3b9ca480c17a"
      },
      "outputs": [
        {
          "output_type": "stream",
          "name": "stdout",
          "text": [
            "Found 0 images belonging to 9 classes.\n"
          ]
        }
      ],
      "source": [
        "vld_dataset = validation_datagen.flow_from_directory(\n",
        "    data_dir_val,\n",
        "    target_size=(img_height, img_width),\n",
        "    batch_size=batch_size,\n",
        "    class_mode = 'categorical'\n",
        ")"
      ],
      "id": "f21e23c4"
    },
    {
      "cell_type": "code",
      "execution_count": 59,
      "metadata": {
        "colab": {
          "base_uri": "https://localhost:8080/"
        },
        "id": "f6ed479c",
        "outputId": "d97413d9-2cff-4346-f1e2-c257af810f0c"
      },
      "outputs": [
        {
          "output_type": "stream",
          "name": "stdout",
          "text": [
            "Found 0 images belonging to 9 classes.\n"
          ]
        }
      ],
      "source": [
        "tst_dataset = test_datagen.flow_from_directory(\n",
        "    data_dir_test,\n",
        "    target_size=(img_height, img_width),\n",
        "    batch_size=batch_size,\n",
        "    class_mode = 'categorical'\n",
        ")"
      ],
      "id": "f6ed479c"
    },
    {
      "cell_type": "code",
      "execution_count": 60,
      "metadata": {
        "colab": {
          "base_uri": "https://localhost:8080/"
        },
        "id": "444248c1",
        "outputId": "7d773bf2-0ca3-4ae2-96d6-76704352db33"
      },
      "outputs": [
        {
          "output_type": "stream",
          "name": "stdout",
          "text": [
            "['BLB', 'BPH', 'Brown_Spot', 'False_Smut', 'Healthy_Plant', 'Hispa', 'Neck_Blast', 'Sheath_Blight_Rot', 'Stemborer']\n"
          ]
        }
      ],
      "source": [
        "classes_nm =  list(trn_dataset.class_indices.keys())\n",
        "print(classes_nm)"
      ],
      "id": "444248c1"
    },
    {
      "cell_type": "code",
      "execution_count": 61,
      "metadata": {
        "colab": {
          "base_uri": "https://localhost:8080/"
        },
        "id": "54b93374",
        "outputId": "5c0e580d-edf4-48ea-a22e-d034c8a79c79"
      },
      "outputs": [
        {
          "output_type": "stream",
          "name": "stdout",
          "text": [
            "['BLB', 'BPH', 'Brown_Spot', 'False_Smut', 'Healthy_Plant', 'Hispa', 'Neck_Blast', 'Sheath_Blight_Rot', 'Stemborer']\n"
          ]
        }
      ],
      "source": [
        "CLASS_NAMES =  list(trn_dataset.class_indices.keys())\n",
        "print(CLASS_NAMES)"
      ],
      "id": "54b93374"
    },
    {
      "cell_type": "code",
      "execution_count": 62,
      "metadata": {
        "colab": {
          "base_uri": "https://localhost:8080/"
        },
        "id": "35decde9",
        "outputId": "4a7f337b-ce3d-4c1f-c619-aeb86d20f4bd"
      },
      "outputs": [
        {
          "output_type": "stream",
          "name": "stdout",
          "text": [
            "[0, 1, 2, 3, 4, 5, 6, 7, 8]\n"
          ]
        }
      ],
      "source": [
        "print(list(trn_dataset.class_indices.values()))"
      ],
      "id": "35decde9"
    },
    {
      "cell_type": "code",
      "execution_count": 63,
      "metadata": {
        "colab": {
          "base_uri": "https://localhost:8080/"
        },
        "id": "46556e8a",
        "outputId": "b3b46614-ce1e-415e-a296-c435ad434c09"
      },
      "outputs": [
        {
          "output_type": "stream",
          "name": "stdout",
          "text": [
            "9\n"
          ]
        }
      ],
      "source": [
        "num_classes = len(trn_dataset.class_indices)\n",
        "print(num_classes)"
      ],
      "id": "46556e8a"
    },
    {
      "cell_type": "code",
      "execution_count": 63,
      "metadata": {
        "id": "54e1c2c8"
      },
      "outputs": [],
      "source": [
        "        "
      ],
      "id": "54e1c2c8"
    },
    {
      "cell_type": "code",
      "execution_count": 63,
      "metadata": {
        "id": "6a2c0a5b"
      },
      "outputs": [],
      "source": [
        ""
      ],
      "id": "6a2c0a5b"
    },
    {
      "cell_type": "code",
      "execution_count": 64,
      "metadata": {
        "id": "5cc37c4e"
      },
      "outputs": [],
      "source": [
        "# Creating an empty Dataframe to store results\n",
        "df_report = pd.DataFrame(columns=[\n",
        "    'Model_Name',\n",
        "    'Test_No',\n",
        "    'Batch_Size', \n",
        "    'Epoch', \n",
        "    'Count',\n",
        "    'Train_Average',\n",
        "    'Val_Average',\n",
        "    'Val_Maximum',\n",
        "    'Val_Minimum',\n",
        "    'Val_StandardDev',\n",
        "    'Is_TL',\n",
        "    'Is_SVM',\n",
        "    'Is_TL_Tune',\n",
        "    'Train_History',\n",
        "    'Val_History',\n",
        "    'Train_Summary', \n",
        "    'Val_Summary', \n",
        "    'Total_params',\n",
        "    'Trainable_params',\n",
        "    'Non_trainable_params',\n",
        "    'Total_Records',\n",
        "    'Execution_Time',\n",
        "    'Precision', \n",
        "    'f1Score',\n",
        "    'No_Fold',\n",
        "    'Date_Time'\n",
        "    ], dtype=object)\n",
        "                                  "
      ],
      "id": "5cc37c4e"
    },
    {
      "cell_type": "markdown",
      "metadata": {
        "id": "a5139d54"
      },
      "source": [
        "## Image Agumentation funstion"
      ],
      "id": "a5139d54"
    },
    {
      "cell_type": "code",
      "execution_count": 65,
      "metadata": {
        "id": "e6e5c5f4"
      },
      "outputs": [],
      "source": [
        "def count_images(imgPath):\n",
        "    data_dir = pathlib.Path(imgPath)\n",
        "    #print(data_dir)\n",
        "\n",
        "    #Verify the image count to make sure we have all the pictures\n",
        "    image_count = len(list(data_dir.glob('**/*.jpeg')))\n",
        "    #print('Total Images: ' , image_count)\n",
        "    #print('===============================')\n",
        "    \n",
        "    return image_count"
      ],
      "id": "e6e5c5f4"
    },
    {
      "cell_type": "code",
      "execution_count": 66,
      "metadata": {
        "id": "56bea167"
      },
      "outputs": [],
      "source": [
        "def img_augmentor(path_to_training_dataset_new,CLASS_NAMES, factor):\n",
        "    \n",
        "    for i in CLASS_NAMES:\n",
        "        temp_path = path_to_training_dataset_new + i\n",
        "        req_img = count_images(temp_path) * factor\n",
        "        print('\\n',req_img)\n",
        "        p = Augmentor.Pipeline(temp_path)\n",
        "        p.rotate(probability=1, max_left_rotation=15, max_right_rotation=15)\n",
        "        p.flip_left_right(probability=0.5)\n",
        "        p.flip_top_bottom(probability=0.5)\n",
        "        p.rotate90(probability=0.5)\n",
        "        p.rotate270(probability=0.5)\n",
        "        p.zoom_random(probability=0.5, percentage_area=0.8)\n",
        "        p.skew(0.4, 0.5) \n",
        "        p.random_contrast(probability=0.5,min_factor = 0.2, max_factor = 0.8)\n",
        "        p.random_distortion(probability=1, grid_width=4, grid_height=4, magnitude=8)\n",
        "        p.flip_left_right(probability=0.5)\n",
        "        \n",
        "        p.sample(req_img) ## We are adding 500 samples per class to make sure that none of the classes are sparse."
      ],
      "id": "56bea167"
    },
    {
      "cell_type": "code",
      "execution_count": 67,
      "metadata": {
        "id": "a475e8e6"
      },
      "outputs": [],
      "source": [
        "def move_new_images(path_to_training_dataset_new , CLASS_NAMES):\n",
        "    \n",
        "    for i in CLASS_NAMES:\n",
        "        original_path = path_to_training_dataset_new + i\n",
        "        image_count_original = count_images(original_path)\n",
        "        print('Before move - ', image_count_original)\n",
        "        temp_path = original_path +'/output'\n",
        "        image_count_temp = count_images(temp_path)\n",
        "\n",
        "        file_names = os.listdir(temp_path)\n",
        "        #print(files)\n",
        "\n",
        "        #shutil.copytree(, , dirs_exist_ok=True)\n",
        "        source_dir = temp_path\n",
        "        target_dir = original_path\n",
        "\n",
        "        for file_name in file_names:\n",
        "            shutil.move(os.path.join(source_dir, file_name), target_dir)\n",
        "\n",
        "        shutil.rmtree(source_dir)\n",
        "\n",
        "        #shutil.move(source+str(sourceFiles[eachIndex]), dest+str(sourceFiles[eachIndex]))\n",
        "        image_count_original = count_images(original_path)\n",
        "        print('After move - ', image_count_original)\n"
      ],
      "id": "a475e8e6"
    },
    {
      "cell_type": "code",
      "execution_count": 68,
      "metadata": {
        "id": "8481284e"
      },
      "outputs": [],
      "source": [
        "def delete_aug_data(path_to_training_dataset_new , CLASS_NAMES):\n",
        "    \n",
        "    for i in CLASS_NAMES:\n",
        "        original_path = path_to_training_dataset_new + i\n",
        "\n",
        "        temp_path = original_path +'/output'\n",
        "\n",
        "        source_dir = temp_path\n",
        "        \n",
        "        if os.path.exists(source_dir):\n",
        "            shutil.rmtree(source_dir)\n"
      ],
      "id": "8481284e"
    },
    {
      "cell_type": "code",
      "execution_count": 68,
      "metadata": {
        "id": "fb81c225"
      },
      "outputs": [],
      "source": [
        ""
      ],
      "id": "fb81c225"
    },
    {
      "cell_type": "code",
      "execution_count": 68,
      "metadata": {
        "id": "d83bc8cc"
      },
      "outputs": [],
      "source": [
        ""
      ],
      "id": "d83bc8cc"
    },
    {
      "cell_type": "markdown",
      "metadata": {
        "id": "eeda2123"
      },
      "source": [
        "# ======> End of Checking"
      ],
      "id": "eeda2123"
    },
    {
      "cell_type": "markdown",
      "metadata": {
        "id": "f8afb71b"
      },
      "source": [
        "# Main Model Bulding Functions"
      ],
      "id": "f8afb71b"
    },
    {
      "cell_type": "markdown",
      "metadata": {
        "id": "4f5a131d"
      },
      "source": [
        "## Stratified K-Fold Cross validation"
      ],
      "id": "4f5a131d"
    },
    {
      "cell_type": "code",
      "execution_count": 69,
      "metadata": {
        "id": "c1584a06"
      },
      "outputs": [],
      "source": [
        "\n",
        "def runStratifiedKFold(model,conv_base, batchsize,epochsNo,nosplit, df_report , \n",
        "                       createModel, modelId ,Is_TL,Is_SVM, Is_TL_Tune , Test_No,\n",
        "                       TRAIN_PATH , TRAIN_PATH_NEW, CLASS_NAMES , image_factor ):\n",
        "    \n",
        "    \n",
        "    start_time = time.time()\n",
        "\n",
        "    print(\"Started at =\", datetime.now().strftime(\"%H:%M:%S\"))\n",
        "    MODEL_NM = model.layers[1].name.upper()\n",
        "    print('Started Model -> ',MODEL_NM)\n",
        "    \n",
        "    \n",
        "    print('#################################################################')\n",
        "    print('\\n Test run = ',Test_No)\n",
        "\n",
        "    batch_size = batchsize\n",
        "    \n",
        "    if (Is_TL_Tune):\n",
        "        Is_TL = True\n",
        "        \n",
        "        \n",
        "    #Delete the temp folder and if it exists already\n",
        "    if os.path.exists(folder_data + '/Temp'):\n",
        "        shutil.rmtree(folder_data + '/Temp')\n",
        "        \n",
        "    #Delete the output folder and if it exists already\n",
        "    delete_aug_data(TRAIN_PATH_NEW , CLASS_NAMES)\n",
        "    \n",
        "\n",
        "    trainAcclist = []\n",
        "    valAcclist = []\n",
        "    valPreclist =[]\n",
        "    valFScorelist =[]\n",
        "\n",
        "    no_split = nosplit\n",
        "\n",
        "    skf = StratifiedKFold(n_splits = no_split,random_state=42, shuffle=True)\n",
        "    skf.get_n_splits(X, Y)\n",
        "    foldNum=0\n",
        "    for train_index, val_index in skf.split(X, Y):\n",
        "        epochs = epochsNo\n",
        "        #First cut all images from validation to train (if any exists)\n",
        "        moveAllFiles('Validation', 'Train', 1.0)\n",
        "        foldNum+=1\n",
        "        print(\"\\n Results for fold\",foldNum)\n",
        "        \n",
        "        #Create Checking Folders \n",
        "        CHECK_PATH = folder_data + '/Checking'\n",
        "        MODEL_PATH = CHECK_PATH + '/' + MODEL_NM \n",
        "        MODEL_FOLDER_PATH = MODEL_PATH + '/'  + str(foldNum)\n",
        "        print('\\n Folders Created ----->')\n",
        "        for dirname in classLabels:\n",
        "            folder_path_test = MODEL_FOLDER_PATH + '/'+ dirname\n",
        "            #print(folder_path_test)\n",
        "            if not os.path.exists(MODEL_PATH):\n",
        "                os.mkdir(MODEL_PATH)\n",
        "            if not os.path.exists(MODEL_FOLDER_PATH):\n",
        "                os.mkdir(MODEL_FOLDER_PATH)\n",
        "\n",
        "\n",
        "            if os.path.exists(folder_path_test):\n",
        "                shutil.rmtree(folder_path_test)\n",
        "            if not os.path.exists(folder_path_test):\n",
        "                os.mkdir(folder_path_test)\n",
        "        #End of createing test folders\n",
        "            \n",
        "        X_train, X_val = X[train_index], X[val_index]\n",
        "        Y_train, Y_val = Y[train_index], Y[val_index]\n",
        "        # Move validation images of this fold from train folder to the validation folder\n",
        "        for eachIndex in range(len(X_val)):\n",
        "            classLabel=''\n",
        "            for i in range(len(classLabels)):\n",
        "                if(Y_val[eachIndex]==i):\n",
        "                    classLabel=classLabels[i]\n",
        "            #Then, copy the validation images to the validation folder\n",
        "            shutil.move(folder_data+'/Train/'+classLabel+'/'+X_val[eachIndex], \n",
        "                        folder_data+'/Validation/'+classLabel+'/'+X_val[eachIndex])\n",
        "            \n",
        "            #print('Validation Data copied')\n",
        "\n",
        "            \n",
        "            #Create a copy of the \n",
        "            #shutil.copy2(folder_data+'/Validation/'+classLabel+'/'+X_val[eachIndex], \n",
        "            #         MODEL_FOLDER_PATH+'/'+classLabel+'/'+X_val[eachIndex])\n",
        "            #print(MODEL_FOLDER_PATH+'/'+classLabel+'/')\n",
        "            #print('Test Data copied')\n",
        "            \n",
        "            \n",
        "        \n",
        "        #Create a backup of the Train folder\n",
        "        source = TRAIN_PATH\n",
        "        dest = folder_data + '/Temp' \n",
        "        shutil.copytree(source,dest )\n",
        "        \n",
        "        if (image_factor>1):\n",
        "            #Generate extra images\n",
        "            img_augmentor(TRAIN_PATH_NEW , CLASS_NAMES, image_factor)\n",
        "\n",
        "            #Move the new imgaes to training folders\n",
        "            move_new_images(TRAIN_PATH_NEW , CLASS_NAMES)\n",
        "            \n",
        "\n",
        "        #Start ImageClassification Model\n",
        "        train_generator = train_datagen.flow_from_directory(\n",
        "            data_dir_train,\n",
        "            target_size=(img_height, img_width),\n",
        "            batch_size=batch_size,\n",
        "            class_mode='categorical',\n",
        "            subset='training')\n",
        "        \n",
        "        print('Train data length ====== ', train_generator.samples)\n",
        "\n",
        "        validation_generator = validation_datagen.flow_from_directory(\n",
        "            data_dir_val,\n",
        "            target_size=(img_height, img_width),\n",
        "            batch_size=batch_size,\n",
        "            class_mode=None,  # only data, no labels\n",
        "            shuffle=False)   \n",
        "        \n",
        "        print('Test data length ====== ', validation_generator.samples)\n",
        "\n",
        "        #Create model at each iteration\n",
        "        if (createModel):\n",
        "            model , conv_base = getModel(modelId,False , Is_TL, Is_SVM, Is_TL_Tune)\n",
        "        print('Before Fine Tuning---->')\n",
        "        print(model.summary())\n",
        "        \n",
        "        # fit model\n",
        "        history=model.fit(train_generator, \n",
        "                            epochs=epochs)\n",
        "        \n",
        "        if (Is_TL_Tune):            #Tune the model\n",
        "            \n",
        "            conv_base.trainable = True\n",
        "           \n",
        "         \n",
        "            \n",
        "            optimiser = optimizers.Adam(learning_rate=1e-5)\n",
        "            model.compile(optimizer=optimiser, loss='categorical_crossentropy', metrics=['categorical_accuracy'])\n",
        "\n",
        "            print('After Fine Tuning---->')\n",
        "            print(model.summary())\n",
        "            \n",
        "            #epochs = epochsNo//2\n",
        "            history=model.fit(train_generator, \n",
        "                                epochs=epochs)\n",
        "\n",
        "            \n",
        "        \n",
        "        \n",
        "        \n",
        "        #showAccLoss(history,epochsNo)\n",
        "        \n",
        "        print(\"***Performance on Training data***\") \n",
        "        trainAcc = history.history['categorical_accuracy']\n",
        "        trainAcclist.append(trainAcc[-1])\n",
        "        print(\"Accuracy  : {}\".format(trainAcc[-1]))\n",
        "        print(\"======================================*\")\n",
        "\n",
        "        predictions = model.predict(validation_generator, verbose=1)\n",
        "        yPredictions = np.argmax(predictions, axis=1)\n",
        "        true_classes = validation_generator.classes\n",
        "        # evaluate validation performance\n",
        "        print(\"***Performance on Validation data***\")    \n",
        "        valAcc, valPrec, valFScore = check_Accuracy(true_classes, yPredictions)\n",
        "\n",
        "        valAcclist.append(valAcc)\n",
        "        valPreclist.append(valPrec)\n",
        "        valFScorelist.append(valFScore)\n",
        "        \n",
        "        \n",
        "        \n",
        "        #Restore the training folder ---- \n",
        "        \n",
        "        # delete train folder\n",
        "        shutil.rmtree(TRAIN_PATH)\n",
        "        # Copy back from temp folder\n",
        "        source = folder_data + '/Temp'\n",
        "        dest =  TRAIN_PATH\n",
        "        shutil.copytree(source,dest )\n",
        "        shutil.rmtree(source)\n",
        "        \n",
        "        \n",
        "    \n",
        "        \n",
        "    \n",
        "    trainAccSummary = getSummary(trainAcclist)\n",
        "    print('Train Summary=====>')\n",
        "    print(trainAccSummary)\n",
        "    \n",
        "    valAccSummary = getSummary(valAcclist)\n",
        "    print('Validation Summary=====>')\n",
        "    print(valAccSummary)\n",
        "    \n",
        "    print('End Model -> ',model.layers[1].name.upper())\n",
        "    print(\"Started at =\", datetime.now().strftime(\"%H:%M:%S\"))\n",
        "    execMinutes = (time.time() - start_time)/60\n",
        "    print(\"--- %s minutes ---\" % (execMinutes))\n",
        "    \n",
        "    trainable_count = count_params(model.trainable_weights)\n",
        "    non_trainable_count = count_params(model.non_trainable_weights)\n",
        "    \n",
        "    total_images = train_generator.samples + validation_generator.samples\n",
        "    \n",
        "    df_report = df_report.append(\n",
        "            {\n",
        "\n",
        "                'Model_Name': model.layers[1].name.upper() , \n",
        "                'Test_No': Test_No ,\n",
        "                'Batch_Size': batchsize , \n",
        "                'Epoch': epochsNo, \n",
        "                'No_Fold': nosplit, \n",
        "                'Count': valAccSummary[0],\n",
        "                'Train_Summary': trainAccSummary, \n",
        "                'Val_Summary': valAccSummary, \n",
        "                'Train_History':trainAcclist,\n",
        "                'Val_History':valAcclist,\n",
        "                'Train_Average' : trainAccSummary[1],\n",
        "                'Val_Average': valAccSummary[1],\n",
        "                'Val_Maximum': valAccSummary[7],\n",
        "                'Val_Minimum': valAccSummary[3],\n",
        "                'Val_StandardDev': valAccSummary[2],\n",
        "                'Total_params': (trainable_count+non_trainable_count),\n",
        "                'Trainable_params': trainable_count,\n",
        "                'Non_trainable_params': non_trainable_count,\n",
        "                'Total_Records': total_images,\n",
        "                'Execution_Time': execMinutes,\n",
        "                'Is_TL' : Is_TL ,\n",
        "                'Is_SVM' : Is_SVM,\n",
        "                'Is_TL_Tune' : Is_TL_Tune,\n",
        "                'Date_Time' : datetime.now()\n",
        "\n",
        "            }\n",
        "        , ignore_index=True)\n",
        "    \n",
        "    \n",
        "    return df_report\n",
        "\n",
        "    "
      ],
      "id": "c1584a06"
    },
    {
      "cell_type": "code",
      "execution_count": 70,
      "metadata": {
        "id": "3250aab2"
      },
      "outputs": [],
      "source": [
        "def getSummary(Acclist):\n",
        "    \n",
        "    print(Acclist)\n",
        "    s = pd.Series(Acclist)\n",
        "    return s.describe()\n",
        "\n",
        "    \n"
      ],
      "id": "3250aab2"
    },
    {
      "cell_type": "code",
      "execution_count": 71,
      "metadata": {
        "id": "ce81dc9d"
      },
      "outputs": [],
      "source": [
        "from matplotlib import pyplot as plt\n",
        "\n",
        "def showAccLoss(history,num_epochs):\n",
        "    acc = history.history['categorical_accuracy']\n",
        "    val_acc = history.history['val_categorical_accuracy']\n",
        "\n",
        "    loss = history.history['loss']\n",
        "    val_loss = history.history['val_loss']\n",
        "\n",
        "    epochs_range = range(num_epochs)\n",
        "\n",
        "    plt.figure(figsize=(8, 8))\n",
        "    plt.subplot(1, 2, 1)\n",
        "    plt.plot(epochs_range, acc, label='Training Accuracy')\n",
        "    plt.plot(epochs_range, val_acc, label='Validation Accuracy')\n",
        "    plt.legend(loc='lower right')\n",
        "    plt.title('Training and Validation Accuracy')\n",
        "\n",
        "    plt.subplot(1, 2, 2)\n",
        "    plt.plot(epochs_range, loss, label='Training Loss')\n",
        "    plt.plot(epochs_range, val_loss, label='Validation Loss')\n",
        "    plt.legend(loc='upper right')\n",
        "    plt.title('Training and Validation Loss')\n",
        "    plt.show()"
      ],
      "id": "ce81dc9d"
    },
    {
      "cell_type": "code",
      "execution_count": 71,
      "metadata": {
        "id": "91270fec"
      },
      "outputs": [],
      "source": [
        ""
      ],
      "id": "91270fec"
    },
    {
      "cell_type": "markdown",
      "metadata": {
        "id": "5d2d9c8c"
      },
      "source": [
        "## EfficientNetB4- Noisy Student"
      ],
      "id": "5d2d9c8c"
    },
    {
      "cell_type": "code",
      "execution_count": 72,
      "metadata": {
        "id": "7147495b"
      },
      "outputs": [],
      "source": [
        "import efficientnet.tfkeras as efn\n",
        "from tensorflow.keras.applications.efficientnet import EfficientNetB4\n",
        "\n",
        "\n",
        "\n",
        "def createModel_EfficientNetB4_NS(Is_TL):\n",
        "\n",
        "    if (Is_TL):\n",
        "      \n",
        "      path_to_weights = root_path + 'noisystudent/efficientnet-b4_noisy-student_notop.h5' \n",
        "\n",
        "      conv_base = efn.EfficientNetB4(\n",
        "      weights=path_to_weights, \n",
        "      input_shape=(img_height,img_width,3),\n",
        "      include_top=False,\n",
        "      drop_connect_rate=0  # the hack\n",
        "      )\n",
        "\n",
        "    else:\n",
        "      conv_base=EfficientNetB4(weights= None ,include_top=False,input_shape=(img_height,img_width,3))\n",
        "\n",
        "\n",
        "    print('EfficientNetB4')\n",
        "    #print(conv_base.summary())\n",
        "    \n",
        "    return conv_base"
      ],
      "id": "7147495b"
    },
    {
      "cell_type": "code",
      "execution_count": 72,
      "metadata": {
        "id": "3509b62c"
      },
      "outputs": [],
      "source": [
        ""
      ],
      "id": "3509b62c"
    },
    {
      "cell_type": "code",
      "execution_count": 72,
      "metadata": {
        "id": "944cc3f5"
      },
      "outputs": [],
      "source": [
        ""
      ],
      "id": "944cc3f5"
    },
    {
      "cell_type": "markdown",
      "metadata": {
        "id": "4176848f"
      },
      "source": [
        "# Model Execution"
      ],
      "id": "4176848f"
    },
    {
      "cell_type": "code",
      "execution_count": 73,
      "metadata": {
        "id": "d1ff606c"
      },
      "outputs": [],
      "source": [
        "\n",
        "def getModel(modelId , printSummary , Is_TL, Is_SVM, Is_TL_Tune):\n",
        "    \n",
        "    if model_dict[modelId] == 'VGG16':\n",
        "        conv_base =  createModel_VGG16(Is_TL)\n",
        "        \n",
        "    elif model_dict[modelId] == 'VGG19':\n",
        "        conv_base =  createModel_VGG19(Is_TL)\n",
        "        \n",
        "    elif model_dict[modelId] == 'ResNet50':\n",
        "        conv_base =  createModel_ResNet50(Is_TL)\n",
        "        \n",
        "    elif model_dict[modelId] == 'ResNet50V2':\n",
        "        conv_base =  createModel_ResNet50V2(Is_TL)\n",
        "        \n",
        "    elif model_dict[modelId] == 'ResNet152V2':\n",
        "        conv_base =  createModel_ResNet152V2(Is_TL)\n",
        "        \n",
        "    elif model_dict[modelId] == 'EfficientNetB1':\n",
        "        conv_base =  createModel_EfficientNetB1()\n",
        "\n",
        "        \n",
        "    elif model_dict[modelId] == 'EfficientNetB7':\n",
        "        conv_base =  createModel_EfficientNetB7(Is_TL)\n",
        "\n",
        "        \n",
        "    elif model_dict[modelId] == 'MobileNetV2':\n",
        "        conv_base =  createModel_MobileNetV2(Is_TL)\n",
        "\n",
        "        \n",
        "    elif model_dict[modelId] == 'InceptionV3':\n",
        "        conv_base =  createModel_InceptionV3(Is_TL)\n",
        "\n",
        "        \n",
        "    elif model_dict[modelId] == 'DenseNet201':\n",
        "        conv_base =  createModel_DenseNet201(Is_TL)\n",
        "\n",
        "        \n",
        "    elif model_dict[modelId] == 'EfficientNetB6':\n",
        "        conv_base =  createModel_EfficientNetB6(Is_TL)\n",
        "\n",
        "\n",
        "        \n",
        "    elif model_dict[modelId] == 'EfficientNetB4NS':\n",
        "        conv_base =  createModel_EfficientNetB4_NS(Is_TL)\n",
        "\n",
        "\n",
        "        \n",
        "    if(gpu_flag or lambda_flag):\n",
        "        model =tf.keras.models.Sequential() #Required when there is GPU memory control\n",
        "    else:\n",
        "        model =Sequential()    #Required when there is NO GPU memory control\n",
        "    \n",
        "    \n",
        "    \n",
        "    \n",
        "    if (Is_TL): ## If Transfer Learning\n",
        "        conv_base.trainable = False ## Not trainable weights\n",
        "        inputs = layers.Input(shape = (img_height,img_width,3), name='inputLayer')\n",
        "        x = conv_base(inputs, training = False)\n",
        "    elif (Is_TL_Tune):\n",
        "        conv_base.trainable = False ## Not trainable weights\n",
        "        inputs = layers.Input(shape = (img_height,img_width,3), name='inputLayer')\n",
        "        x = conv_base(inputs, training = False)\n",
        "    else:\n",
        "        conv_base.trainable = True\n",
        "        inputs = layers.Input(shape = (img_height,img_width,3), name='inputLayer')\n",
        "        x = conv_base(inputs, training = True)\n",
        "        \n",
        "    \n",
        "    if model_dict[modelId] == 'VGG16':\n",
        "        \n",
        "        x = layers.Flatten()(x)  \n",
        "        x = layers.Dense(120, activation='relu')(x)  \n",
        "        x = layers.Dense(84, activation='relu')(x)  \n",
        "    \n",
        "    elif model_dict[modelId] == 'InceptionV3':\n",
        "        x = layers.GlobalAveragePooling2D()(x)\n",
        "        x = layers.Flatten()(x)  \n",
        "        x = layers.Dense(120, activation='relu')(x)  \n",
        "        x = layers.Dense(84, activation='relu')(x)\n",
        "    \n",
        "        \n",
        "    elif model_dict[modelId] == 'ResNet50V2':\n",
        "        x = layers.GlobalAveragePooling2D()(x)\n",
        "        x = layers.Flatten()(x)  \n",
        "        x = layers.Dense(120, activation='relu')(x)  \n",
        "        x = layers.Dense(84, activation='relu')(x)\n",
        "\n",
        "\n",
        "    elif model_dict[modelId] == 'DenseNet201':\n",
        "        x = layers.GlobalAveragePooling2D()(x)\n",
        "        x = layers.Flatten()(x)  \n",
        "        x = layers.Dense(120, activation='relu')(x)  \n",
        "        x = layers.Dense(84, activation='relu')(x)\n",
        "\n",
        "       \n",
        "    elif model_dict[modelId] == 'EfficientNetB4NS':\n",
        "        x = layers.GlobalAveragePooling2D()(x)\n",
        "        x = layers.Flatten()(x)  \n",
        "        x = layers.Dense(120, activation='relu')(x)  \n",
        "        x = layers.Dense(84, activation='relu')(x)\n",
        "    \n",
        "    \n",
        "    outputs = layers.Dense(num_classes, activation='softmax')(x)\n",
        "    \n",
        "    \n",
        "    \n",
        "    if (Is_SVM):\n",
        "        outputs = layers.Dense(num_classes, activation='softmax',kernel_regularizer = l1_l2(l1=0.01,l2=0.01))(x)\n",
        "    else:\n",
        "        outputs = layers.Dense(num_classes, activation='softmax')(x)\n",
        "    \n",
        "    model = keras.Model(inputs, outputs)\n",
        "    \n",
        "    optimiser = optimizers.Adam(learning_rate=1e-4)\n",
        "    model.compile(optimizer=optimiser, loss='categorical_crossentropy', metrics=['categorical_accuracy'])\n",
        "    \n",
        "    if (printSummary):\n",
        "        print('Before Merging ---->')\n",
        "        print(conv_base.summary())\n",
        "        \n",
        "        print('After Merging ---->')\n",
        "        print(model.summary()) \n",
        "        \n",
        "        print('^^^^^^^^^^^^^^^^^^^^^^^^^')\n",
        "    \n",
        "    \n",
        "    return model , conv_base\n"
      ],
      "id": "d1ff606c"
    },
    {
      "cell_type": "code",
      "execution_count": 74,
      "metadata": {
        "colab": {
          "base_uri": "https://localhost:8080/"
        },
        "id": "e98abc73",
        "outputId": "400a0f50-1179-42ec-ed1a-4918474c9fbb"
      },
      "outputs": [
        {
          "output_type": "execute_result",
          "data": {
            "text/plain": [
              "False"
            ]
          },
          "metadata": {},
          "execution_count": 74
        }
      ],
      "source": [
        "gpu_flag"
      ],
      "id": "e98abc73"
    },
    {
      "cell_type": "code",
      "execution_count": 75,
      "metadata": {
        "id": "9bc08f28",
        "scrolled": true
      },
      "outputs": [],
      "source": [
        "model_dict = {1: 'VGG16', \n",
        "              2: 'VGG19',\n",
        "              3: 'ResNet50',\n",
        "              4: 'ResNet50V2',\n",
        "              5: 'ResNet152V2',\n",
        "              6: 'InceptionV3',\n",
        "              7: 'MobileNetV2',\n",
        "              8: 'DenseNet201',\n",
        "              11: 'EfficientNetB1',\n",
        "              12: 'EfficientNetB6I',\n",
        "              13: 'EfficientNetB7',\n",
        "              14: 'EfficientNetB6NS',\n",
        "              15: 'EfficientNetB4NS'\n",
        "             }\n",
        "#for d in model_dict:\n",
        "#    model = getModel(d)\n",
        "#    df_report = runStratifiedKFold(model,24,20,10, df_report)\n",
        "# runStratifiedKFold(model, batchsize,epochsNo,nosplit, df_report )"
      ],
      "id": "9bc08f28"
    },
    {
      "cell_type": "code",
      "execution_count": 76,
      "metadata": {
        "colab": {
          "base_uri": "https://localhost:8080/"
        },
        "id": "c12285bb",
        "outputId": "4e1e6453-842c-4e3b-ebcd-db5fa1aa2272",
        "scrolled": true
      },
      "outputs": [
        {
          "output_type": "stream",
          "name": "stdout",
          "text": [
            "EfficientNetB4\n",
            "Before Merging ---->\n",
            "Model: \"efficientnetb4\"\n",
            "__________________________________________________________________________________________________\n",
            " Layer (type)                   Output Shape         Param #     Connected to                     \n",
            "==================================================================================================\n",
            " input_3 (InputLayer)           [(None, 224, 224, 3  0           []                               \n",
            "                                )]                                                                \n",
            "                                                                                                  \n",
            " rescaling_2 (Rescaling)        (None, 224, 224, 3)  0           ['input_3[0][0]']                \n",
            "                                                                                                  \n",
            " normalization_2 (Normalization  (None, 224, 224, 3)  7          ['rescaling_2[0][0]']            \n",
            " )                                                                                                \n",
            "                                                                                                  \n",
            " stem_conv_pad (ZeroPadding2D)  (None, 225, 225, 3)  0           ['normalization_2[0][0]']        \n",
            "                                                                                                  \n",
            " stem_conv (Conv2D)             (None, 112, 112, 48  1296        ['stem_conv_pad[0][0]']          \n",
            "                                )                                                                 \n",
            "                                                                                                  \n",
            " stem_bn (BatchNormalization)   (None, 112, 112, 48  192         ['stem_conv[0][0]']              \n",
            "                                )                                                                 \n",
            "                                                                                                  \n",
            " stem_activation (Activation)   (None, 112, 112, 48  0           ['stem_bn[0][0]']                \n",
            "                                )                                                                 \n",
            "                                                                                                  \n",
            " block1a_dwconv (DepthwiseConv2  (None, 112, 112, 48  432        ['stem_activation[0][0]']        \n",
            " D)                             )                                                                 \n",
            "                                                                                                  \n",
            " block1a_bn (BatchNormalization  (None, 112, 112, 48  192        ['block1a_dwconv[0][0]']         \n",
            " )                              )                                                                 \n",
            "                                                                                                  \n",
            " block1a_activation (Activation  (None, 112, 112, 48  0          ['block1a_bn[0][0]']             \n",
            " )                              )                                                                 \n",
            "                                                                                                  \n",
            " block1a_se_squeeze (GlobalAver  (None, 48)          0           ['block1a_activation[0][0]']     \n",
            " agePooling2D)                                                                                    \n",
            "                                                                                                  \n",
            " block1a_se_reshape (Reshape)   (None, 1, 1, 48)     0           ['block1a_se_squeeze[0][0]']     \n",
            "                                                                                                  \n",
            " block1a_se_reduce (Conv2D)     (None, 1, 1, 12)     588         ['block1a_se_reshape[0][0]']     \n",
            "                                                                                                  \n",
            " block1a_se_expand (Conv2D)     (None, 1, 1, 48)     624         ['block1a_se_reduce[0][0]']      \n",
            "                                                                                                  \n",
            " block1a_se_excite (Multiply)   (None, 112, 112, 48  0           ['block1a_activation[0][0]',     \n",
            "                                )                                 'block1a_se_expand[0][0]']      \n",
            "                                                                                                  \n",
            " block1a_project_conv (Conv2D)  (None, 112, 112, 24  1152        ['block1a_se_excite[0][0]']      \n",
            "                                )                                                                 \n",
            "                                                                                                  \n",
            " block1a_project_bn (BatchNorma  (None, 112, 112, 24  96         ['block1a_project_conv[0][0]']   \n",
            " lization)                      )                                                                 \n",
            "                                                                                                  \n",
            " block1b_dwconv (DepthwiseConv2  (None, 112, 112, 24  216        ['block1a_project_bn[0][0]']     \n",
            " D)                             )                                                                 \n",
            "                                                                                                  \n",
            " block1b_bn (BatchNormalization  (None, 112, 112, 24  96         ['block1b_dwconv[0][0]']         \n",
            " )                              )                                                                 \n",
            "                                                                                                  \n",
            " block1b_activation (Activation  (None, 112, 112, 24  0          ['block1b_bn[0][0]']             \n",
            " )                              )                                                                 \n",
            "                                                                                                  \n",
            " block1b_se_squeeze (GlobalAver  (None, 24)          0           ['block1b_activation[0][0]']     \n",
            " agePooling2D)                                                                                    \n",
            "                                                                                                  \n",
            " block1b_se_reshape (Reshape)   (None, 1, 1, 24)     0           ['block1b_se_squeeze[0][0]']     \n",
            "                                                                                                  \n",
            " block1b_se_reduce (Conv2D)     (None, 1, 1, 6)      150         ['block1b_se_reshape[0][0]']     \n",
            "                                                                                                  \n",
            " block1b_se_expand (Conv2D)     (None, 1, 1, 24)     168         ['block1b_se_reduce[0][0]']      \n",
            "                                                                                                  \n",
            " block1b_se_excite (Multiply)   (None, 112, 112, 24  0           ['block1b_activation[0][0]',     \n",
            "                                )                                 'block1b_se_expand[0][0]']      \n",
            "                                                                                                  \n",
            " block1b_project_conv (Conv2D)  (None, 112, 112, 24  576         ['block1b_se_excite[0][0]']      \n",
            "                                )                                                                 \n",
            "                                                                                                  \n",
            " block1b_project_bn (BatchNorma  (None, 112, 112, 24  96         ['block1b_project_conv[0][0]']   \n",
            " lization)                      )                                                                 \n",
            "                                                                                                  \n",
            " block1b_drop (Dropout)         (None, 112, 112, 24  0           ['block1b_project_bn[0][0]']     \n",
            "                                )                                                                 \n",
            "                                                                                                  \n",
            " block1b_add (Add)              (None, 112, 112, 24  0           ['block1b_drop[0][0]',           \n",
            "                                )                                 'block1a_project_bn[0][0]']     \n",
            "                                                                                                  \n",
            " block2a_expand_conv (Conv2D)   (None, 112, 112, 14  3456        ['block1b_add[0][0]']            \n",
            "                                4)                                                                \n",
            "                                                                                                  \n",
            " block2a_expand_bn (BatchNormal  (None, 112, 112, 14  576        ['block2a_expand_conv[0][0]']    \n",
            " ization)                       4)                                                                \n",
            "                                                                                                  \n",
            " block2a_expand_activation (Act  (None, 112, 112, 14  0          ['block2a_expand_bn[0][0]']      \n",
            " ivation)                       4)                                                                \n",
            "                                                                                                  \n",
            " block2a_dwconv_pad (ZeroPaddin  (None, 113, 113, 14  0          ['block2a_expand_activation[0][0]\n",
            " g2D)                           4)                               ']                               \n",
            "                                                                                                  \n",
            " block2a_dwconv (DepthwiseConv2  (None, 56, 56, 144)  1296       ['block2a_dwconv_pad[0][0]']     \n",
            " D)                                                                                               \n",
            "                                                                                                  \n",
            " block2a_bn (BatchNormalization  (None, 56, 56, 144)  576        ['block2a_dwconv[0][0]']         \n",
            " )                                                                                                \n",
            "                                                                                                  \n",
            " block2a_activation (Activation  (None, 56, 56, 144)  0          ['block2a_bn[0][0]']             \n",
            " )                                                                                                \n",
            "                                                                                                  \n",
            " block2a_se_squeeze (GlobalAver  (None, 144)         0           ['block2a_activation[0][0]']     \n",
            " agePooling2D)                                                                                    \n",
            "                                                                                                  \n",
            " block2a_se_reshape (Reshape)   (None, 1, 1, 144)    0           ['block2a_se_squeeze[0][0]']     \n",
            "                                                                                                  \n",
            " block2a_se_reduce (Conv2D)     (None, 1, 1, 6)      870         ['block2a_se_reshape[0][0]']     \n",
            "                                                                                                  \n",
            " block2a_se_expand (Conv2D)     (None, 1, 1, 144)    1008        ['block2a_se_reduce[0][0]']      \n",
            "                                                                                                  \n",
            " block2a_se_excite (Multiply)   (None, 56, 56, 144)  0           ['block2a_activation[0][0]',     \n",
            "                                                                  'block2a_se_expand[0][0]']      \n",
            "                                                                                                  \n",
            " block2a_project_conv (Conv2D)  (None, 56, 56, 32)   4608        ['block2a_se_excite[0][0]']      \n",
            "                                                                                                  \n",
            " block2a_project_bn (BatchNorma  (None, 56, 56, 32)  128         ['block2a_project_conv[0][0]']   \n",
            " lization)                                                                                        \n",
            "                                                                                                  \n",
            " block2b_expand_conv (Conv2D)   (None, 56, 56, 192)  6144        ['block2a_project_bn[0][0]']     \n",
            "                                                                                                  \n",
            " block2b_expand_bn (BatchNormal  (None, 56, 56, 192)  768        ['block2b_expand_conv[0][0]']    \n",
            " ization)                                                                                         \n",
            "                                                                                                  \n",
            " block2b_expand_activation (Act  (None, 56, 56, 192)  0          ['block2b_expand_bn[0][0]']      \n",
            " ivation)                                                                                         \n",
            "                                                                                                  \n",
            " block2b_dwconv (DepthwiseConv2  (None, 56, 56, 192)  1728       ['block2b_expand_activation[0][0]\n",
            " D)                                                              ']                               \n",
            "                                                                                                  \n",
            " block2b_bn (BatchNormalization  (None, 56, 56, 192)  768        ['block2b_dwconv[0][0]']         \n",
            " )                                                                                                \n",
            "                                                                                                  \n",
            " block2b_activation (Activation  (None, 56, 56, 192)  0          ['block2b_bn[0][0]']             \n",
            " )                                                                                                \n",
            "                                                                                                  \n",
            " block2b_se_squeeze (GlobalAver  (None, 192)         0           ['block2b_activation[0][0]']     \n",
            " agePooling2D)                                                                                    \n",
            "                                                                                                  \n",
            " block2b_se_reshape (Reshape)   (None, 1, 1, 192)    0           ['block2b_se_squeeze[0][0]']     \n",
            "                                                                                                  \n",
            " block2b_se_reduce (Conv2D)     (None, 1, 1, 8)      1544        ['block2b_se_reshape[0][0]']     \n",
            "                                                                                                  \n",
            " block2b_se_expand (Conv2D)     (None, 1, 1, 192)    1728        ['block2b_se_reduce[0][0]']      \n",
            "                                                                                                  \n",
            " block2b_se_excite (Multiply)   (None, 56, 56, 192)  0           ['block2b_activation[0][0]',     \n",
            "                                                                  'block2b_se_expand[0][0]']      \n",
            "                                                                                                  \n",
            " block2b_project_conv (Conv2D)  (None, 56, 56, 32)   6144        ['block2b_se_excite[0][0]']      \n",
            "                                                                                                  \n",
            " block2b_project_bn (BatchNorma  (None, 56, 56, 32)  128         ['block2b_project_conv[0][0]']   \n",
            " lization)                                                                                        \n",
            "                                                                                                  \n",
            " block2b_drop (Dropout)         (None, 56, 56, 32)   0           ['block2b_project_bn[0][0]']     \n",
            "                                                                                                  \n",
            " block2b_add (Add)              (None, 56, 56, 32)   0           ['block2b_drop[0][0]',           \n",
            "                                                                  'block2a_project_bn[0][0]']     \n",
            "                                                                                                  \n",
            " block2c_expand_conv (Conv2D)   (None, 56, 56, 192)  6144        ['block2b_add[0][0]']            \n",
            "                                                                                                  \n",
            " block2c_expand_bn (BatchNormal  (None, 56, 56, 192)  768        ['block2c_expand_conv[0][0]']    \n",
            " ization)                                                                                         \n",
            "                                                                                                  \n",
            " block2c_expand_activation (Act  (None, 56, 56, 192)  0          ['block2c_expand_bn[0][0]']      \n",
            " ivation)                                                                                         \n",
            "                                                                                                  \n",
            " block2c_dwconv (DepthwiseConv2  (None, 56, 56, 192)  1728       ['block2c_expand_activation[0][0]\n",
            " D)                                                              ']                               \n",
            "                                                                                                  \n",
            " block2c_bn (BatchNormalization  (None, 56, 56, 192)  768        ['block2c_dwconv[0][0]']         \n",
            " )                                                                                                \n",
            "                                                                                                  \n",
            " block2c_activation (Activation  (None, 56, 56, 192)  0          ['block2c_bn[0][0]']             \n",
            " )                                                                                                \n",
            "                                                                                                  \n",
            " block2c_se_squeeze (GlobalAver  (None, 192)         0           ['block2c_activation[0][0]']     \n",
            " agePooling2D)                                                                                    \n",
            "                                                                                                  \n",
            " block2c_se_reshape (Reshape)   (None, 1, 1, 192)    0           ['block2c_se_squeeze[0][0]']     \n",
            "                                                                                                  \n",
            " block2c_se_reduce (Conv2D)     (None, 1, 1, 8)      1544        ['block2c_se_reshape[0][0]']     \n",
            "                                                                                                  \n",
            " block2c_se_expand (Conv2D)     (None, 1, 1, 192)    1728        ['block2c_se_reduce[0][0]']      \n",
            "                                                                                                  \n",
            " block2c_se_excite (Multiply)   (None, 56, 56, 192)  0           ['block2c_activation[0][0]',     \n",
            "                                                                  'block2c_se_expand[0][0]']      \n",
            "                                                                                                  \n",
            " block2c_project_conv (Conv2D)  (None, 56, 56, 32)   6144        ['block2c_se_excite[0][0]']      \n",
            "                                                                                                  \n",
            " block2c_project_bn (BatchNorma  (None, 56, 56, 32)  128         ['block2c_project_conv[0][0]']   \n",
            " lization)                                                                                        \n",
            "                                                                                                  \n",
            " block2c_drop (Dropout)         (None, 56, 56, 32)   0           ['block2c_project_bn[0][0]']     \n",
            "                                                                                                  \n",
            " block2c_add (Add)              (None, 56, 56, 32)   0           ['block2c_drop[0][0]',           \n",
            "                                                                  'block2b_add[0][0]']            \n",
            "                                                                                                  \n",
            " block2d_expand_conv (Conv2D)   (None, 56, 56, 192)  6144        ['block2c_add[0][0]']            \n",
            "                                                                                                  \n",
            " block2d_expand_bn (BatchNormal  (None, 56, 56, 192)  768        ['block2d_expand_conv[0][0]']    \n",
            " ization)                                                                                         \n",
            "                                                                                                  \n",
            " block2d_expand_activation (Act  (None, 56, 56, 192)  0          ['block2d_expand_bn[0][0]']      \n",
            " ivation)                                                                                         \n",
            "                                                                                                  \n",
            " block2d_dwconv (DepthwiseConv2  (None, 56, 56, 192)  1728       ['block2d_expand_activation[0][0]\n",
            " D)                                                              ']                               \n",
            "                                                                                                  \n",
            " block2d_bn (BatchNormalization  (None, 56, 56, 192)  768        ['block2d_dwconv[0][0]']         \n",
            " )                                                                                                \n",
            "                                                                                                  \n",
            " block2d_activation (Activation  (None, 56, 56, 192)  0          ['block2d_bn[0][0]']             \n",
            " )                                                                                                \n",
            "                                                                                                  \n",
            " block2d_se_squeeze (GlobalAver  (None, 192)         0           ['block2d_activation[0][0]']     \n",
            " agePooling2D)                                                                                    \n",
            "                                                                                                  \n",
            " block2d_se_reshape (Reshape)   (None, 1, 1, 192)    0           ['block2d_se_squeeze[0][0]']     \n",
            "                                                                                                  \n",
            " block2d_se_reduce (Conv2D)     (None, 1, 1, 8)      1544        ['block2d_se_reshape[0][0]']     \n",
            "                                                                                                  \n",
            " block2d_se_expand (Conv2D)     (None, 1, 1, 192)    1728        ['block2d_se_reduce[0][0]']      \n",
            "                                                                                                  \n",
            " block2d_se_excite (Multiply)   (None, 56, 56, 192)  0           ['block2d_activation[0][0]',     \n",
            "                                                                  'block2d_se_expand[0][0]']      \n",
            "                                                                                                  \n",
            " block2d_project_conv (Conv2D)  (None, 56, 56, 32)   6144        ['block2d_se_excite[0][0]']      \n",
            "                                                                                                  \n",
            " block2d_project_bn (BatchNorma  (None, 56, 56, 32)  128         ['block2d_project_conv[0][0]']   \n",
            " lization)                                                                                        \n",
            "                                                                                                  \n",
            " block2d_drop (Dropout)         (None, 56, 56, 32)   0           ['block2d_project_bn[0][0]']     \n",
            "                                                                                                  \n",
            " block2d_add (Add)              (None, 56, 56, 32)   0           ['block2d_drop[0][0]',           \n",
            "                                                                  'block2c_add[0][0]']            \n",
            "                                                                                                  \n",
            " block3a_expand_conv (Conv2D)   (None, 56, 56, 192)  6144        ['block2d_add[0][0]']            \n",
            "                                                                                                  \n",
            " block3a_expand_bn (BatchNormal  (None, 56, 56, 192)  768        ['block3a_expand_conv[0][0]']    \n",
            " ization)                                                                                         \n",
            "                                                                                                  \n",
            " block3a_expand_activation (Act  (None, 56, 56, 192)  0          ['block3a_expand_bn[0][0]']      \n",
            " ivation)                                                                                         \n",
            "                                                                                                  \n",
            " block3a_dwconv_pad (ZeroPaddin  (None, 59, 59, 192)  0          ['block3a_expand_activation[0][0]\n",
            " g2D)                                                            ']                               \n",
            "                                                                                                  \n",
            " block3a_dwconv (DepthwiseConv2  (None, 28, 28, 192)  4800       ['block3a_dwconv_pad[0][0]']     \n",
            " D)                                                                                               \n",
            "                                                                                                  \n",
            " block3a_bn (BatchNormalization  (None, 28, 28, 192)  768        ['block3a_dwconv[0][0]']         \n",
            " )                                                                                                \n",
            "                                                                                                  \n",
            " block3a_activation (Activation  (None, 28, 28, 192)  0          ['block3a_bn[0][0]']             \n",
            " )                                                                                                \n",
            "                                                                                                  \n",
            " block3a_se_squeeze (GlobalAver  (None, 192)         0           ['block3a_activation[0][0]']     \n",
            " agePooling2D)                                                                                    \n",
            "                                                                                                  \n",
            " block3a_se_reshape (Reshape)   (None, 1, 1, 192)    0           ['block3a_se_squeeze[0][0]']     \n",
            "                                                                                                  \n",
            " block3a_se_reduce (Conv2D)     (None, 1, 1, 8)      1544        ['block3a_se_reshape[0][0]']     \n",
            "                                                                                                  \n",
            " block3a_se_expand (Conv2D)     (None, 1, 1, 192)    1728        ['block3a_se_reduce[0][0]']      \n",
            "                                                                                                  \n",
            " block3a_se_excite (Multiply)   (None, 28, 28, 192)  0           ['block3a_activation[0][0]',     \n",
            "                                                                  'block3a_se_expand[0][0]']      \n",
            "                                                                                                  \n",
            " block3a_project_conv (Conv2D)  (None, 28, 28, 56)   10752       ['block3a_se_excite[0][0]']      \n",
            "                                                                                                  \n",
            " block3a_project_bn (BatchNorma  (None, 28, 28, 56)  224         ['block3a_project_conv[0][0]']   \n",
            " lization)                                                                                        \n",
            "                                                                                                  \n",
            " block3b_expand_conv (Conv2D)   (None, 28, 28, 336)  18816       ['block3a_project_bn[0][0]']     \n",
            "                                                                                                  \n",
            " block3b_expand_bn (BatchNormal  (None, 28, 28, 336)  1344       ['block3b_expand_conv[0][0]']    \n",
            " ization)                                                                                         \n",
            "                                                                                                  \n",
            " block3b_expand_activation (Act  (None, 28, 28, 336)  0          ['block3b_expand_bn[0][0]']      \n",
            " ivation)                                                                                         \n",
            "                                                                                                  \n",
            " block3b_dwconv (DepthwiseConv2  (None, 28, 28, 336)  8400       ['block3b_expand_activation[0][0]\n",
            " D)                                                              ']                               \n",
            "                                                                                                  \n",
            " block3b_bn (BatchNormalization  (None, 28, 28, 336)  1344       ['block3b_dwconv[0][0]']         \n",
            " )                                                                                                \n",
            "                                                                                                  \n",
            " block3b_activation (Activation  (None, 28, 28, 336)  0          ['block3b_bn[0][0]']             \n",
            " )                                                                                                \n",
            "                                                                                                  \n",
            " block3b_se_squeeze (GlobalAver  (None, 336)         0           ['block3b_activation[0][0]']     \n",
            " agePooling2D)                                                                                    \n",
            "                                                                                                  \n",
            " block3b_se_reshape (Reshape)   (None, 1, 1, 336)    0           ['block3b_se_squeeze[0][0]']     \n",
            "                                                                                                  \n",
            " block3b_se_reduce (Conv2D)     (None, 1, 1, 14)     4718        ['block3b_se_reshape[0][0]']     \n",
            "                                                                                                  \n",
            " block3b_se_expand (Conv2D)     (None, 1, 1, 336)    5040        ['block3b_se_reduce[0][0]']      \n",
            "                                                                                                  \n",
            " block3b_se_excite (Multiply)   (None, 28, 28, 336)  0           ['block3b_activation[0][0]',     \n",
            "                                                                  'block3b_se_expand[0][0]']      \n",
            "                                                                                                  \n",
            " block3b_project_conv (Conv2D)  (None, 28, 28, 56)   18816       ['block3b_se_excite[0][0]']      \n",
            "                                                                                                  \n",
            " block3b_project_bn (BatchNorma  (None, 28, 28, 56)  224         ['block3b_project_conv[0][0]']   \n",
            " lization)                                                                                        \n",
            "                                                                                                  \n",
            " block3b_drop (Dropout)         (None, 28, 28, 56)   0           ['block3b_project_bn[0][0]']     \n",
            "                                                                                                  \n",
            " block3b_add (Add)              (None, 28, 28, 56)   0           ['block3b_drop[0][0]',           \n",
            "                                                                  'block3a_project_bn[0][0]']     \n",
            "                                                                                                  \n",
            " block3c_expand_conv (Conv2D)   (None, 28, 28, 336)  18816       ['block3b_add[0][0]']            \n",
            "                                                                                                  \n",
            " block3c_expand_bn (BatchNormal  (None, 28, 28, 336)  1344       ['block3c_expand_conv[0][0]']    \n",
            " ization)                                                                                         \n",
            "                                                                                                  \n",
            " block3c_expand_activation (Act  (None, 28, 28, 336)  0          ['block3c_expand_bn[0][0]']      \n",
            " ivation)                                                                                         \n",
            "                                                                                                  \n",
            " block3c_dwconv (DepthwiseConv2  (None, 28, 28, 336)  8400       ['block3c_expand_activation[0][0]\n",
            " D)                                                              ']                               \n",
            "                                                                                                  \n",
            " block3c_bn (BatchNormalization  (None, 28, 28, 336)  1344       ['block3c_dwconv[0][0]']         \n",
            " )                                                                                                \n",
            "                                                                                                  \n",
            " block3c_activation (Activation  (None, 28, 28, 336)  0          ['block3c_bn[0][0]']             \n",
            " )                                                                                                \n",
            "                                                                                                  \n",
            " block3c_se_squeeze (GlobalAver  (None, 336)         0           ['block3c_activation[0][0]']     \n",
            " agePooling2D)                                                                                    \n",
            "                                                                                                  \n",
            " block3c_se_reshape (Reshape)   (None, 1, 1, 336)    0           ['block3c_se_squeeze[0][0]']     \n",
            "                                                                                                  \n",
            " block3c_se_reduce (Conv2D)     (None, 1, 1, 14)     4718        ['block3c_se_reshape[0][0]']     \n",
            "                                                                                                  \n",
            " block3c_se_expand (Conv2D)     (None, 1, 1, 336)    5040        ['block3c_se_reduce[0][0]']      \n",
            "                                                                                                  \n",
            " block3c_se_excite (Multiply)   (None, 28, 28, 336)  0           ['block3c_activation[0][0]',     \n",
            "                                                                  'block3c_se_expand[0][0]']      \n",
            "                                                                                                  \n",
            " block3c_project_conv (Conv2D)  (None, 28, 28, 56)   18816       ['block3c_se_excite[0][0]']      \n",
            "                                                                                                  \n",
            " block3c_project_bn (BatchNorma  (None, 28, 28, 56)  224         ['block3c_project_conv[0][0]']   \n",
            " lization)                                                                                        \n",
            "                                                                                                  \n",
            " block3c_drop (Dropout)         (None, 28, 28, 56)   0           ['block3c_project_bn[0][0]']     \n",
            "                                                                                                  \n",
            " block3c_add (Add)              (None, 28, 28, 56)   0           ['block3c_drop[0][0]',           \n",
            "                                                                  'block3b_add[0][0]']            \n",
            "                                                                                                  \n",
            " block3d_expand_conv (Conv2D)   (None, 28, 28, 336)  18816       ['block3c_add[0][0]']            \n",
            "                                                                                                  \n",
            " block3d_expand_bn (BatchNormal  (None, 28, 28, 336)  1344       ['block3d_expand_conv[0][0]']    \n",
            " ization)                                                                                         \n",
            "                                                                                                  \n",
            " block3d_expand_activation (Act  (None, 28, 28, 336)  0          ['block3d_expand_bn[0][0]']      \n",
            " ivation)                                                                                         \n",
            "                                                                                                  \n",
            " block3d_dwconv (DepthwiseConv2  (None, 28, 28, 336)  8400       ['block3d_expand_activation[0][0]\n",
            " D)                                                              ']                               \n",
            "                                                                                                  \n",
            " block3d_bn (BatchNormalization  (None, 28, 28, 336)  1344       ['block3d_dwconv[0][0]']         \n",
            " )                                                                                                \n",
            "                                                                                                  \n",
            " block3d_activation (Activation  (None, 28, 28, 336)  0          ['block3d_bn[0][0]']             \n",
            " )                                                                                                \n",
            "                                                                                                  \n",
            " block3d_se_squeeze (GlobalAver  (None, 336)         0           ['block3d_activation[0][0]']     \n",
            " agePooling2D)                                                                                    \n",
            "                                                                                                  \n",
            " block3d_se_reshape (Reshape)   (None, 1, 1, 336)    0           ['block3d_se_squeeze[0][0]']     \n",
            "                                                                                                  \n",
            " block3d_se_reduce (Conv2D)     (None, 1, 1, 14)     4718        ['block3d_se_reshape[0][0]']     \n",
            "                                                                                                  \n",
            " block3d_se_expand (Conv2D)     (None, 1, 1, 336)    5040        ['block3d_se_reduce[0][0]']      \n",
            "                                                                                                  \n",
            " block3d_se_excite (Multiply)   (None, 28, 28, 336)  0           ['block3d_activation[0][0]',     \n",
            "                                                                  'block3d_se_expand[0][0]']      \n",
            "                                                                                                  \n",
            " block3d_project_conv (Conv2D)  (None, 28, 28, 56)   18816       ['block3d_se_excite[0][0]']      \n",
            "                                                                                                  \n",
            " block3d_project_bn (BatchNorma  (None, 28, 28, 56)  224         ['block3d_project_conv[0][0]']   \n",
            " lization)                                                                                        \n",
            "                                                                                                  \n",
            " block3d_drop (Dropout)         (None, 28, 28, 56)   0           ['block3d_project_bn[0][0]']     \n",
            "                                                                                                  \n",
            " block3d_add (Add)              (None, 28, 28, 56)   0           ['block3d_drop[0][0]',           \n",
            "                                                                  'block3c_add[0][0]']            \n",
            "                                                                                                  \n",
            " block4a_expand_conv (Conv2D)   (None, 28, 28, 336)  18816       ['block3d_add[0][0]']            \n",
            "                                                                                                  \n",
            " block4a_expand_bn (BatchNormal  (None, 28, 28, 336)  1344       ['block4a_expand_conv[0][0]']    \n",
            " ization)                                                                                         \n",
            "                                                                                                  \n",
            " block4a_expand_activation (Act  (None, 28, 28, 336)  0          ['block4a_expand_bn[0][0]']      \n",
            " ivation)                                                                                         \n",
            "                                                                                                  \n",
            " block4a_dwconv_pad (ZeroPaddin  (None, 29, 29, 336)  0          ['block4a_expand_activation[0][0]\n",
            " g2D)                                                            ']                               \n",
            "                                                                                                  \n",
            " block4a_dwconv (DepthwiseConv2  (None, 14, 14, 336)  3024       ['block4a_dwconv_pad[0][0]']     \n",
            " D)                                                                                               \n",
            "                                                                                                  \n",
            " block4a_bn (BatchNormalization  (None, 14, 14, 336)  1344       ['block4a_dwconv[0][0]']         \n",
            " )                                                                                                \n",
            "                                                                                                  \n",
            " block4a_activation (Activation  (None, 14, 14, 336)  0          ['block4a_bn[0][0]']             \n",
            " )                                                                                                \n",
            "                                                                                                  \n",
            " block4a_se_squeeze (GlobalAver  (None, 336)         0           ['block4a_activation[0][0]']     \n",
            " agePooling2D)                                                                                    \n",
            "                                                                                                  \n",
            " block4a_se_reshape (Reshape)   (None, 1, 1, 336)    0           ['block4a_se_squeeze[0][0]']     \n",
            "                                                                                                  \n",
            " block4a_se_reduce (Conv2D)     (None, 1, 1, 14)     4718        ['block4a_se_reshape[0][0]']     \n",
            "                                                                                                  \n",
            " block4a_se_expand (Conv2D)     (None, 1, 1, 336)    5040        ['block4a_se_reduce[0][0]']      \n",
            "                                                                                                  \n",
            " block4a_se_excite (Multiply)   (None, 14, 14, 336)  0           ['block4a_activation[0][0]',     \n",
            "                                                                  'block4a_se_expand[0][0]']      \n",
            "                                                                                                  \n",
            " block4a_project_conv (Conv2D)  (None, 14, 14, 112)  37632       ['block4a_se_excite[0][0]']      \n",
            "                                                                                                  \n",
            " block4a_project_bn (BatchNorma  (None, 14, 14, 112)  448        ['block4a_project_conv[0][0]']   \n",
            " lization)                                                                                        \n",
            "                                                                                                  \n",
            " block4b_expand_conv (Conv2D)   (None, 14, 14, 672)  75264       ['block4a_project_bn[0][0]']     \n",
            "                                                                                                  \n",
            " block4b_expand_bn (BatchNormal  (None, 14, 14, 672)  2688       ['block4b_expand_conv[0][0]']    \n",
            " ization)                                                                                         \n",
            "                                                                                                  \n",
            " block4b_expand_activation (Act  (None, 14, 14, 672)  0          ['block4b_expand_bn[0][0]']      \n",
            " ivation)                                                                                         \n",
            "                                                                                                  \n",
            " block4b_dwconv (DepthwiseConv2  (None, 14, 14, 672)  6048       ['block4b_expand_activation[0][0]\n",
            " D)                                                              ']                               \n",
            "                                                                                                  \n",
            " block4b_bn (BatchNormalization  (None, 14, 14, 672)  2688       ['block4b_dwconv[0][0]']         \n",
            " )                                                                                                \n",
            "                                                                                                  \n",
            " block4b_activation (Activation  (None, 14, 14, 672)  0          ['block4b_bn[0][0]']             \n",
            " )                                                                                                \n",
            "                                                                                                  \n",
            " block4b_se_squeeze (GlobalAver  (None, 672)         0           ['block4b_activation[0][0]']     \n",
            " agePooling2D)                                                                                    \n",
            "                                                                                                  \n",
            " block4b_se_reshape (Reshape)   (None, 1, 1, 672)    0           ['block4b_se_squeeze[0][0]']     \n",
            "                                                                                                  \n",
            " block4b_se_reduce (Conv2D)     (None, 1, 1, 28)     18844       ['block4b_se_reshape[0][0]']     \n",
            "                                                                                                  \n",
            " block4b_se_expand (Conv2D)     (None, 1, 1, 672)    19488       ['block4b_se_reduce[0][0]']      \n",
            "                                                                                                  \n",
            " block4b_se_excite (Multiply)   (None, 14, 14, 672)  0           ['block4b_activation[0][0]',     \n",
            "                                                                  'block4b_se_expand[0][0]']      \n",
            "                                                                                                  \n",
            " block4b_project_conv (Conv2D)  (None, 14, 14, 112)  75264       ['block4b_se_excite[0][0]']      \n",
            "                                                                                                  \n",
            " block4b_project_bn (BatchNorma  (None, 14, 14, 112)  448        ['block4b_project_conv[0][0]']   \n",
            " lization)                                                                                        \n",
            "                                                                                                  \n",
            " block4b_drop (Dropout)         (None, 14, 14, 112)  0           ['block4b_project_bn[0][0]']     \n",
            "                                                                                                  \n",
            " block4b_add (Add)              (None, 14, 14, 112)  0           ['block4b_drop[0][0]',           \n",
            "                                                                  'block4a_project_bn[0][0]']     \n",
            "                                                                                                  \n",
            " block4c_expand_conv (Conv2D)   (None, 14, 14, 672)  75264       ['block4b_add[0][0]']            \n",
            "                                                                                                  \n",
            " block4c_expand_bn (BatchNormal  (None, 14, 14, 672)  2688       ['block4c_expand_conv[0][0]']    \n",
            " ization)                                                                                         \n",
            "                                                                                                  \n",
            " block4c_expand_activation (Act  (None, 14, 14, 672)  0          ['block4c_expand_bn[0][0]']      \n",
            " ivation)                                                                                         \n",
            "                                                                                                  \n",
            " block4c_dwconv (DepthwiseConv2  (None, 14, 14, 672)  6048       ['block4c_expand_activation[0][0]\n",
            " D)                                                              ']                               \n",
            "                                                                                                  \n",
            " block4c_bn (BatchNormalization  (None, 14, 14, 672)  2688       ['block4c_dwconv[0][0]']         \n",
            " )                                                                                                \n",
            "                                                                                                  \n",
            " block4c_activation (Activation  (None, 14, 14, 672)  0          ['block4c_bn[0][0]']             \n",
            " )                                                                                                \n",
            "                                                                                                  \n",
            " block4c_se_squeeze (GlobalAver  (None, 672)         0           ['block4c_activation[0][0]']     \n",
            " agePooling2D)                                                                                    \n",
            "                                                                                                  \n",
            " block4c_se_reshape (Reshape)   (None, 1, 1, 672)    0           ['block4c_se_squeeze[0][0]']     \n",
            "                                                                                                  \n",
            " block4c_se_reduce (Conv2D)     (None, 1, 1, 28)     18844       ['block4c_se_reshape[0][0]']     \n",
            "                                                                                                  \n",
            " block4c_se_expand (Conv2D)     (None, 1, 1, 672)    19488       ['block4c_se_reduce[0][0]']      \n",
            "                                                                                                  \n",
            " block4c_se_excite (Multiply)   (None, 14, 14, 672)  0           ['block4c_activation[0][0]',     \n",
            "                                                                  'block4c_se_expand[0][0]']      \n",
            "                                                                                                  \n",
            " block4c_project_conv (Conv2D)  (None, 14, 14, 112)  75264       ['block4c_se_excite[0][0]']      \n",
            "                                                                                                  \n",
            " block4c_project_bn (BatchNorma  (None, 14, 14, 112)  448        ['block4c_project_conv[0][0]']   \n",
            " lization)                                                                                        \n",
            "                                                                                                  \n",
            " block4c_drop (Dropout)         (None, 14, 14, 112)  0           ['block4c_project_bn[0][0]']     \n",
            "                                                                                                  \n",
            " block4c_add (Add)              (None, 14, 14, 112)  0           ['block4c_drop[0][0]',           \n",
            "                                                                  'block4b_add[0][0]']            \n",
            "                                                                                                  \n",
            " block4d_expand_conv (Conv2D)   (None, 14, 14, 672)  75264       ['block4c_add[0][0]']            \n",
            "                                                                                                  \n",
            " block4d_expand_bn (BatchNormal  (None, 14, 14, 672)  2688       ['block4d_expand_conv[0][0]']    \n",
            " ization)                                                                                         \n",
            "                                                                                                  \n",
            " block4d_expand_activation (Act  (None, 14, 14, 672)  0          ['block4d_expand_bn[0][0]']      \n",
            " ivation)                                                                                         \n",
            "                                                                                                  \n",
            " block4d_dwconv (DepthwiseConv2  (None, 14, 14, 672)  6048       ['block4d_expand_activation[0][0]\n",
            " D)                                                              ']                               \n",
            "                                                                                                  \n",
            " block4d_bn (BatchNormalization  (None, 14, 14, 672)  2688       ['block4d_dwconv[0][0]']         \n",
            " )                                                                                                \n",
            "                                                                                                  \n",
            " block4d_activation (Activation  (None, 14, 14, 672)  0          ['block4d_bn[0][0]']             \n",
            " )                                                                                                \n",
            "                                                                                                  \n",
            " block4d_se_squeeze (GlobalAver  (None, 672)         0           ['block4d_activation[0][0]']     \n",
            " agePooling2D)                                                                                    \n",
            "                                                                                                  \n",
            " block4d_se_reshape (Reshape)   (None, 1, 1, 672)    0           ['block4d_se_squeeze[0][0]']     \n",
            "                                                                                                  \n",
            " block4d_se_reduce (Conv2D)     (None, 1, 1, 28)     18844       ['block4d_se_reshape[0][0]']     \n",
            "                                                                                                  \n",
            " block4d_se_expand (Conv2D)     (None, 1, 1, 672)    19488       ['block4d_se_reduce[0][0]']      \n",
            "                                                                                                  \n",
            " block4d_se_excite (Multiply)   (None, 14, 14, 672)  0           ['block4d_activation[0][0]',     \n",
            "                                                                  'block4d_se_expand[0][0]']      \n",
            "                                                                                                  \n",
            " block4d_project_conv (Conv2D)  (None, 14, 14, 112)  75264       ['block4d_se_excite[0][0]']      \n",
            "                                                                                                  \n",
            " block4d_project_bn (BatchNorma  (None, 14, 14, 112)  448        ['block4d_project_conv[0][0]']   \n",
            " lization)                                                                                        \n",
            "                                                                                                  \n",
            " block4d_drop (Dropout)         (None, 14, 14, 112)  0           ['block4d_project_bn[0][0]']     \n",
            "                                                                                                  \n",
            " block4d_add (Add)              (None, 14, 14, 112)  0           ['block4d_drop[0][0]',           \n",
            "                                                                  'block4c_add[0][0]']            \n",
            "                                                                                                  \n",
            " block4e_expand_conv (Conv2D)   (None, 14, 14, 672)  75264       ['block4d_add[0][0]']            \n",
            "                                                                                                  \n",
            " block4e_expand_bn (BatchNormal  (None, 14, 14, 672)  2688       ['block4e_expand_conv[0][0]']    \n",
            " ization)                                                                                         \n",
            "                                                                                                  \n",
            " block4e_expand_activation (Act  (None, 14, 14, 672)  0          ['block4e_expand_bn[0][0]']      \n",
            " ivation)                                                                                         \n",
            "                                                                                                  \n",
            " block4e_dwconv (DepthwiseConv2  (None, 14, 14, 672)  6048       ['block4e_expand_activation[0][0]\n",
            " D)                                                              ']                               \n",
            "                                                                                                  \n",
            " block4e_bn (BatchNormalization  (None, 14, 14, 672)  2688       ['block4e_dwconv[0][0]']         \n",
            " )                                                                                                \n",
            "                                                                                                  \n",
            " block4e_activation (Activation  (None, 14, 14, 672)  0          ['block4e_bn[0][0]']             \n",
            " )                                                                                                \n",
            "                                                                                                  \n",
            " block4e_se_squeeze (GlobalAver  (None, 672)         0           ['block4e_activation[0][0]']     \n",
            " agePooling2D)                                                                                    \n",
            "                                                                                                  \n",
            " block4e_se_reshape (Reshape)   (None, 1, 1, 672)    0           ['block4e_se_squeeze[0][0]']     \n",
            "                                                                                                  \n",
            " block4e_se_reduce (Conv2D)     (None, 1, 1, 28)     18844       ['block4e_se_reshape[0][0]']     \n",
            "                                                                                                  \n",
            " block4e_se_expand (Conv2D)     (None, 1, 1, 672)    19488       ['block4e_se_reduce[0][0]']      \n",
            "                                                                                                  \n",
            " block4e_se_excite (Multiply)   (None, 14, 14, 672)  0           ['block4e_activation[0][0]',     \n",
            "                                                                  'block4e_se_expand[0][0]']      \n",
            "                                                                                                  \n",
            " block4e_project_conv (Conv2D)  (None, 14, 14, 112)  75264       ['block4e_se_excite[0][0]']      \n",
            "                                                                                                  \n",
            " block4e_project_bn (BatchNorma  (None, 14, 14, 112)  448        ['block4e_project_conv[0][0]']   \n",
            " lization)                                                                                        \n",
            "                                                                                                  \n",
            " block4e_drop (Dropout)         (None, 14, 14, 112)  0           ['block4e_project_bn[0][0]']     \n",
            "                                                                                                  \n",
            " block4e_add (Add)              (None, 14, 14, 112)  0           ['block4e_drop[0][0]',           \n",
            "                                                                  'block4d_add[0][0]']            \n",
            "                                                                                                  \n",
            " block4f_expand_conv (Conv2D)   (None, 14, 14, 672)  75264       ['block4e_add[0][0]']            \n",
            "                                                                                                  \n",
            " block4f_expand_bn (BatchNormal  (None, 14, 14, 672)  2688       ['block4f_expand_conv[0][0]']    \n",
            " ization)                                                                                         \n",
            "                                                                                                  \n",
            " block4f_expand_activation (Act  (None, 14, 14, 672)  0          ['block4f_expand_bn[0][0]']      \n",
            " ivation)                                                                                         \n",
            "                                                                                                  \n",
            " block4f_dwconv (DepthwiseConv2  (None, 14, 14, 672)  6048       ['block4f_expand_activation[0][0]\n",
            " D)                                                              ']                               \n",
            "                                                                                                  \n",
            " block4f_bn (BatchNormalization  (None, 14, 14, 672)  2688       ['block4f_dwconv[0][0]']         \n",
            " )                                                                                                \n",
            "                                                                                                  \n",
            " block4f_activation (Activation  (None, 14, 14, 672)  0          ['block4f_bn[0][0]']             \n",
            " )                                                                                                \n",
            "                                                                                                  \n",
            " block4f_se_squeeze (GlobalAver  (None, 672)         0           ['block4f_activation[0][0]']     \n",
            " agePooling2D)                                                                                    \n",
            "                                                                                                  \n",
            " block4f_se_reshape (Reshape)   (None, 1, 1, 672)    0           ['block4f_se_squeeze[0][0]']     \n",
            "                                                                                                  \n",
            " block4f_se_reduce (Conv2D)     (None, 1, 1, 28)     18844       ['block4f_se_reshape[0][0]']     \n",
            "                                                                                                  \n",
            " block4f_se_expand (Conv2D)     (None, 1, 1, 672)    19488       ['block4f_se_reduce[0][0]']      \n",
            "                                                                                                  \n",
            " block4f_se_excite (Multiply)   (None, 14, 14, 672)  0           ['block4f_activation[0][0]',     \n",
            "                                                                  'block4f_se_expand[0][0]']      \n",
            "                                                                                                  \n",
            " block4f_project_conv (Conv2D)  (None, 14, 14, 112)  75264       ['block4f_se_excite[0][0]']      \n",
            "                                                                                                  \n",
            " block4f_project_bn (BatchNorma  (None, 14, 14, 112)  448        ['block4f_project_conv[0][0]']   \n",
            " lization)                                                                                        \n",
            "                                                                                                  \n",
            " block4f_drop (Dropout)         (None, 14, 14, 112)  0           ['block4f_project_bn[0][0]']     \n",
            "                                                                                                  \n",
            " block4f_add (Add)              (None, 14, 14, 112)  0           ['block4f_drop[0][0]',           \n",
            "                                                                  'block4e_add[0][0]']            \n",
            "                                                                                                  \n",
            " block5a_expand_conv (Conv2D)   (None, 14, 14, 672)  75264       ['block4f_add[0][0]']            \n",
            "                                                                                                  \n",
            " block5a_expand_bn (BatchNormal  (None, 14, 14, 672)  2688       ['block5a_expand_conv[0][0]']    \n",
            " ization)                                                                                         \n",
            "                                                                                                  \n",
            " block5a_expand_activation (Act  (None, 14, 14, 672)  0          ['block5a_expand_bn[0][0]']      \n",
            " ivation)                                                                                         \n",
            "                                                                                                  \n",
            " block5a_dwconv (DepthwiseConv2  (None, 14, 14, 672)  16800      ['block5a_expand_activation[0][0]\n",
            " D)                                                              ']                               \n",
            "                                                                                                  \n",
            " block5a_bn (BatchNormalization  (None, 14, 14, 672)  2688       ['block5a_dwconv[0][0]']         \n",
            " )                                                                                                \n",
            "                                                                                                  \n",
            " block5a_activation (Activation  (None, 14, 14, 672)  0          ['block5a_bn[0][0]']             \n",
            " )                                                                                                \n",
            "                                                                                                  \n",
            " block5a_se_squeeze (GlobalAver  (None, 672)         0           ['block5a_activation[0][0]']     \n",
            " agePooling2D)                                                                                    \n",
            "                                                                                                  \n",
            " block5a_se_reshape (Reshape)   (None, 1, 1, 672)    0           ['block5a_se_squeeze[0][0]']     \n",
            "                                                                                                  \n",
            " block5a_se_reduce (Conv2D)     (None, 1, 1, 28)     18844       ['block5a_se_reshape[0][0]']     \n",
            "                                                                                                  \n",
            " block5a_se_expand (Conv2D)     (None, 1, 1, 672)    19488       ['block5a_se_reduce[0][0]']      \n",
            "                                                                                                  \n",
            " block5a_se_excite (Multiply)   (None, 14, 14, 672)  0           ['block5a_activation[0][0]',     \n",
            "                                                                  'block5a_se_expand[0][0]']      \n",
            "                                                                                                  \n",
            " block5a_project_conv (Conv2D)  (None, 14, 14, 160)  107520      ['block5a_se_excite[0][0]']      \n",
            "                                                                                                  \n",
            " block5a_project_bn (BatchNorma  (None, 14, 14, 160)  640        ['block5a_project_conv[0][0]']   \n",
            " lization)                                                                                        \n",
            "                                                                                                  \n",
            " block5b_expand_conv (Conv2D)   (None, 14, 14, 960)  153600      ['block5a_project_bn[0][0]']     \n",
            "                                                                                                  \n",
            " block5b_expand_bn (BatchNormal  (None, 14, 14, 960)  3840       ['block5b_expand_conv[0][0]']    \n",
            " ization)                                                                                         \n",
            "                                                                                                  \n",
            " block5b_expand_activation (Act  (None, 14, 14, 960)  0          ['block5b_expand_bn[0][0]']      \n",
            " ivation)                                                                                         \n",
            "                                                                                                  \n",
            " block5b_dwconv (DepthwiseConv2  (None, 14, 14, 960)  24000      ['block5b_expand_activation[0][0]\n",
            " D)                                                              ']                               \n",
            "                                                                                                  \n",
            " block5b_bn (BatchNormalization  (None, 14, 14, 960)  3840       ['block5b_dwconv[0][0]']         \n",
            " )                                                                                                \n",
            "                                                                                                  \n",
            " block5b_activation (Activation  (None, 14, 14, 960)  0          ['block5b_bn[0][0]']             \n",
            " )                                                                                                \n",
            "                                                                                                  \n",
            " block5b_se_squeeze (GlobalAver  (None, 960)         0           ['block5b_activation[0][0]']     \n",
            " agePooling2D)                                                                                    \n",
            "                                                                                                  \n",
            " block5b_se_reshape (Reshape)   (None, 1, 1, 960)    0           ['block5b_se_squeeze[0][0]']     \n",
            "                                                                                                  \n",
            " block5b_se_reduce (Conv2D)     (None, 1, 1, 40)     38440       ['block5b_se_reshape[0][0]']     \n",
            "                                                                                                  \n",
            " block5b_se_expand (Conv2D)     (None, 1, 1, 960)    39360       ['block5b_se_reduce[0][0]']      \n",
            "                                                                                                  \n",
            " block5b_se_excite (Multiply)   (None, 14, 14, 960)  0           ['block5b_activation[0][0]',     \n",
            "                                                                  'block5b_se_expand[0][0]']      \n",
            "                                                                                                  \n",
            " block5b_project_conv (Conv2D)  (None, 14, 14, 160)  153600      ['block5b_se_excite[0][0]']      \n",
            "                                                                                                  \n",
            " block5b_project_bn (BatchNorma  (None, 14, 14, 160)  640        ['block5b_project_conv[0][0]']   \n",
            " lization)                                                                                        \n",
            "                                                                                                  \n",
            " block5b_drop (Dropout)         (None, 14, 14, 160)  0           ['block5b_project_bn[0][0]']     \n",
            "                                                                                                  \n",
            " block5b_add (Add)              (None, 14, 14, 160)  0           ['block5b_drop[0][0]',           \n",
            "                                                                  'block5a_project_bn[0][0]']     \n",
            "                                                                                                  \n",
            " block5c_expand_conv (Conv2D)   (None, 14, 14, 960)  153600      ['block5b_add[0][0]']            \n",
            "                                                                                                  \n",
            " block5c_expand_bn (BatchNormal  (None, 14, 14, 960)  3840       ['block5c_expand_conv[0][0]']    \n",
            " ization)                                                                                         \n",
            "                                                                                                  \n",
            " block5c_expand_activation (Act  (None, 14, 14, 960)  0          ['block5c_expand_bn[0][0]']      \n",
            " ivation)                                                                                         \n",
            "                                                                                                  \n",
            " block5c_dwconv (DepthwiseConv2  (None, 14, 14, 960)  24000      ['block5c_expand_activation[0][0]\n",
            " D)                                                              ']                               \n",
            "                                                                                                  \n",
            " block5c_bn (BatchNormalization  (None, 14, 14, 960)  3840       ['block5c_dwconv[0][0]']         \n",
            " )                                                                                                \n",
            "                                                                                                  \n",
            " block5c_activation (Activation  (None, 14, 14, 960)  0          ['block5c_bn[0][0]']             \n",
            " )                                                                                                \n",
            "                                                                                                  \n",
            " block5c_se_squeeze (GlobalAver  (None, 960)         0           ['block5c_activation[0][0]']     \n",
            " agePooling2D)                                                                                    \n",
            "                                                                                                  \n",
            " block5c_se_reshape (Reshape)   (None, 1, 1, 960)    0           ['block5c_se_squeeze[0][0]']     \n",
            "                                                                                                  \n",
            " block5c_se_reduce (Conv2D)     (None, 1, 1, 40)     38440       ['block5c_se_reshape[0][0]']     \n",
            "                                                                                                  \n",
            " block5c_se_expand (Conv2D)     (None, 1, 1, 960)    39360       ['block5c_se_reduce[0][0]']      \n",
            "                                                                                                  \n",
            " block5c_se_excite (Multiply)   (None, 14, 14, 960)  0           ['block5c_activation[0][0]',     \n",
            "                                                                  'block5c_se_expand[0][0]']      \n",
            "                                                                                                  \n",
            " block5c_project_conv (Conv2D)  (None, 14, 14, 160)  153600      ['block5c_se_excite[0][0]']      \n",
            "                                                                                                  \n",
            " block5c_project_bn (BatchNorma  (None, 14, 14, 160)  640        ['block5c_project_conv[0][0]']   \n",
            " lization)                                                                                        \n",
            "                                                                                                  \n",
            " block5c_drop (Dropout)         (None, 14, 14, 160)  0           ['block5c_project_bn[0][0]']     \n",
            "                                                                                                  \n",
            " block5c_add (Add)              (None, 14, 14, 160)  0           ['block5c_drop[0][0]',           \n",
            "                                                                  'block5b_add[0][0]']            \n",
            "                                                                                                  \n",
            " block5d_expand_conv (Conv2D)   (None, 14, 14, 960)  153600      ['block5c_add[0][0]']            \n",
            "                                                                                                  \n",
            " block5d_expand_bn (BatchNormal  (None, 14, 14, 960)  3840       ['block5d_expand_conv[0][0]']    \n",
            " ization)                                                                                         \n",
            "                                                                                                  \n",
            " block5d_expand_activation (Act  (None, 14, 14, 960)  0          ['block5d_expand_bn[0][0]']      \n",
            " ivation)                                                                                         \n",
            "                                                                                                  \n",
            " block5d_dwconv (DepthwiseConv2  (None, 14, 14, 960)  24000      ['block5d_expand_activation[0][0]\n",
            " D)                                                              ']                               \n",
            "                                                                                                  \n",
            " block5d_bn (BatchNormalization  (None, 14, 14, 960)  3840       ['block5d_dwconv[0][0]']         \n",
            " )                                                                                                \n",
            "                                                                                                  \n",
            " block5d_activation (Activation  (None, 14, 14, 960)  0          ['block5d_bn[0][0]']             \n",
            " )                                                                                                \n",
            "                                                                                                  \n",
            " block5d_se_squeeze (GlobalAver  (None, 960)         0           ['block5d_activation[0][0]']     \n",
            " agePooling2D)                                                                                    \n",
            "                                                                                                  \n",
            " block5d_se_reshape (Reshape)   (None, 1, 1, 960)    0           ['block5d_se_squeeze[0][0]']     \n",
            "                                                                                                  \n",
            " block5d_se_reduce (Conv2D)     (None, 1, 1, 40)     38440       ['block5d_se_reshape[0][0]']     \n",
            "                                                                                                  \n",
            " block5d_se_expand (Conv2D)     (None, 1, 1, 960)    39360       ['block5d_se_reduce[0][0]']      \n",
            "                                                                                                  \n",
            " block5d_se_excite (Multiply)   (None, 14, 14, 960)  0           ['block5d_activation[0][0]',     \n",
            "                                                                  'block5d_se_expand[0][0]']      \n",
            "                                                                                                  \n",
            " block5d_project_conv (Conv2D)  (None, 14, 14, 160)  153600      ['block5d_se_excite[0][0]']      \n",
            "                                                                                                  \n",
            " block5d_project_bn (BatchNorma  (None, 14, 14, 160)  640        ['block5d_project_conv[0][0]']   \n",
            " lization)                                                                                        \n",
            "                                                                                                  \n",
            " block5d_drop (Dropout)         (None, 14, 14, 160)  0           ['block5d_project_bn[0][0]']     \n",
            "                                                                                                  \n",
            " block5d_add (Add)              (None, 14, 14, 160)  0           ['block5d_drop[0][0]',           \n",
            "                                                                  'block5c_add[0][0]']            \n",
            "                                                                                                  \n",
            " block5e_expand_conv (Conv2D)   (None, 14, 14, 960)  153600      ['block5d_add[0][0]']            \n",
            "                                                                                                  \n",
            " block5e_expand_bn (BatchNormal  (None, 14, 14, 960)  3840       ['block5e_expand_conv[0][0]']    \n",
            " ization)                                                                                         \n",
            "                                                                                                  \n",
            " block5e_expand_activation (Act  (None, 14, 14, 960)  0          ['block5e_expand_bn[0][0]']      \n",
            " ivation)                                                                                         \n",
            "                                                                                                  \n",
            " block5e_dwconv (DepthwiseConv2  (None, 14, 14, 960)  24000      ['block5e_expand_activation[0][0]\n",
            " D)                                                              ']                               \n",
            "                                                                                                  \n",
            " block5e_bn (BatchNormalization  (None, 14, 14, 960)  3840       ['block5e_dwconv[0][0]']         \n",
            " )                                                                                                \n",
            "                                                                                                  \n",
            " block5e_activation (Activation  (None, 14, 14, 960)  0          ['block5e_bn[0][0]']             \n",
            " )                                                                                                \n",
            "                                                                                                  \n",
            " block5e_se_squeeze (GlobalAver  (None, 960)         0           ['block5e_activation[0][0]']     \n",
            " agePooling2D)                                                                                    \n",
            "                                                                                                  \n",
            " block5e_se_reshape (Reshape)   (None, 1, 1, 960)    0           ['block5e_se_squeeze[0][0]']     \n",
            "                                                                                                  \n",
            " block5e_se_reduce (Conv2D)     (None, 1, 1, 40)     38440       ['block5e_se_reshape[0][0]']     \n",
            "                                                                                                  \n",
            " block5e_se_expand (Conv2D)     (None, 1, 1, 960)    39360       ['block5e_se_reduce[0][0]']      \n",
            "                                                                                                  \n",
            " block5e_se_excite (Multiply)   (None, 14, 14, 960)  0           ['block5e_activation[0][0]',     \n",
            "                                                                  'block5e_se_expand[0][0]']      \n",
            "                                                                                                  \n",
            " block5e_project_conv (Conv2D)  (None, 14, 14, 160)  153600      ['block5e_se_excite[0][0]']      \n",
            "                                                                                                  \n",
            " block5e_project_bn (BatchNorma  (None, 14, 14, 160)  640        ['block5e_project_conv[0][0]']   \n",
            " lization)                                                                                        \n",
            "                                                                                                  \n",
            " block5e_drop (Dropout)         (None, 14, 14, 160)  0           ['block5e_project_bn[0][0]']     \n",
            "                                                                                                  \n",
            " block5e_add (Add)              (None, 14, 14, 160)  0           ['block5e_drop[0][0]',           \n",
            "                                                                  'block5d_add[0][0]']            \n",
            "                                                                                                  \n",
            " block5f_expand_conv (Conv2D)   (None, 14, 14, 960)  153600      ['block5e_add[0][0]']            \n",
            "                                                                                                  \n",
            " block5f_expand_bn (BatchNormal  (None, 14, 14, 960)  3840       ['block5f_expand_conv[0][0]']    \n",
            " ization)                                                                                         \n",
            "                                                                                                  \n",
            " block5f_expand_activation (Act  (None, 14, 14, 960)  0          ['block5f_expand_bn[0][0]']      \n",
            " ivation)                                                                                         \n",
            "                                                                                                  \n",
            " block5f_dwconv (DepthwiseConv2  (None, 14, 14, 960)  24000      ['block5f_expand_activation[0][0]\n",
            " D)                                                              ']                               \n",
            "                                                                                                  \n",
            " block5f_bn (BatchNormalization  (None, 14, 14, 960)  3840       ['block5f_dwconv[0][0]']         \n",
            " )                                                                                                \n",
            "                                                                                                  \n",
            " block5f_activation (Activation  (None, 14, 14, 960)  0          ['block5f_bn[0][0]']             \n",
            " )                                                                                                \n",
            "                                                                                                  \n",
            " block5f_se_squeeze (GlobalAver  (None, 960)         0           ['block5f_activation[0][0]']     \n",
            " agePooling2D)                                                                                    \n",
            "                                                                                                  \n",
            " block5f_se_reshape (Reshape)   (None, 1, 1, 960)    0           ['block5f_se_squeeze[0][0]']     \n",
            "                                                                                                  \n",
            " block5f_se_reduce (Conv2D)     (None, 1, 1, 40)     38440       ['block5f_se_reshape[0][0]']     \n",
            "                                                                                                  \n",
            " block5f_se_expand (Conv2D)     (None, 1, 1, 960)    39360       ['block5f_se_reduce[0][0]']      \n",
            "                                                                                                  \n",
            " block5f_se_excite (Multiply)   (None, 14, 14, 960)  0           ['block5f_activation[0][0]',     \n",
            "                                                                  'block5f_se_expand[0][0]']      \n",
            "                                                                                                  \n",
            " block5f_project_conv (Conv2D)  (None, 14, 14, 160)  153600      ['block5f_se_excite[0][0]']      \n",
            "                                                                                                  \n",
            " block5f_project_bn (BatchNorma  (None, 14, 14, 160)  640        ['block5f_project_conv[0][0]']   \n",
            " lization)                                                                                        \n",
            "                                                                                                  \n",
            " block5f_drop (Dropout)         (None, 14, 14, 160)  0           ['block5f_project_bn[0][0]']     \n",
            "                                                                                                  \n",
            " block5f_add (Add)              (None, 14, 14, 160)  0           ['block5f_drop[0][0]',           \n",
            "                                                                  'block5e_add[0][0]']            \n",
            "                                                                                                  \n",
            " block6a_expand_conv (Conv2D)   (None, 14, 14, 960)  153600      ['block5f_add[0][0]']            \n",
            "                                                                                                  \n",
            " block6a_expand_bn (BatchNormal  (None, 14, 14, 960)  3840       ['block6a_expand_conv[0][0]']    \n",
            " ization)                                                                                         \n",
            "                                                                                                  \n",
            " block6a_expand_activation (Act  (None, 14, 14, 960)  0          ['block6a_expand_bn[0][0]']      \n",
            " ivation)                                                                                         \n",
            "                                                                                                  \n",
            " block6a_dwconv_pad (ZeroPaddin  (None, 17, 17, 960)  0          ['block6a_expand_activation[0][0]\n",
            " g2D)                                                            ']                               \n",
            "                                                                                                  \n",
            " block6a_dwconv (DepthwiseConv2  (None, 7, 7, 960)   24000       ['block6a_dwconv_pad[0][0]']     \n",
            " D)                                                                                               \n",
            "                                                                                                  \n",
            " block6a_bn (BatchNormalization  (None, 7, 7, 960)   3840        ['block6a_dwconv[0][0]']         \n",
            " )                                                                                                \n",
            "                                                                                                  \n",
            " block6a_activation (Activation  (None, 7, 7, 960)   0           ['block6a_bn[0][0]']             \n",
            " )                                                                                                \n",
            "                                                                                                  \n",
            " block6a_se_squeeze (GlobalAver  (None, 960)         0           ['block6a_activation[0][0]']     \n",
            " agePooling2D)                                                                                    \n",
            "                                                                                                  \n",
            " block6a_se_reshape (Reshape)   (None, 1, 1, 960)    0           ['block6a_se_squeeze[0][0]']     \n",
            "                                                                                                  \n",
            " block6a_se_reduce (Conv2D)     (None, 1, 1, 40)     38440       ['block6a_se_reshape[0][0]']     \n",
            "                                                                                                  \n",
            " block6a_se_expand (Conv2D)     (None, 1, 1, 960)    39360       ['block6a_se_reduce[0][0]']      \n",
            "                                                                                                  \n",
            " block6a_se_excite (Multiply)   (None, 7, 7, 960)    0           ['block6a_activation[0][0]',     \n",
            "                                                                  'block6a_se_expand[0][0]']      \n",
            "                                                                                                  \n",
            " block6a_project_conv (Conv2D)  (None, 7, 7, 272)    261120      ['block6a_se_excite[0][0]']      \n",
            "                                                                                                  \n",
            " block6a_project_bn (BatchNorma  (None, 7, 7, 272)   1088        ['block6a_project_conv[0][0]']   \n",
            " lization)                                                                                        \n",
            "                                                                                                  \n",
            " block6b_expand_conv (Conv2D)   (None, 7, 7, 1632)   443904      ['block6a_project_bn[0][0]']     \n",
            "                                                                                                  \n",
            " block6b_expand_bn (BatchNormal  (None, 7, 7, 1632)  6528        ['block6b_expand_conv[0][0]']    \n",
            " ization)                                                                                         \n",
            "                                                                                                  \n",
            " block6b_expand_activation (Act  (None, 7, 7, 1632)  0           ['block6b_expand_bn[0][0]']      \n",
            " ivation)                                                                                         \n",
            "                                                                                                  \n",
            " block6b_dwconv (DepthwiseConv2  (None, 7, 7, 1632)  40800       ['block6b_expand_activation[0][0]\n",
            " D)                                                              ']                               \n",
            "                                                                                                  \n",
            " block6b_bn (BatchNormalization  (None, 7, 7, 1632)  6528        ['block6b_dwconv[0][0]']         \n",
            " )                                                                                                \n",
            "                                                                                                  \n",
            " block6b_activation (Activation  (None, 7, 7, 1632)  0           ['block6b_bn[0][0]']             \n",
            " )                                                                                                \n",
            "                                                                                                  \n",
            " block6b_se_squeeze (GlobalAver  (None, 1632)        0           ['block6b_activation[0][0]']     \n",
            " agePooling2D)                                                                                    \n",
            "                                                                                                  \n",
            " block6b_se_reshape (Reshape)   (None, 1, 1, 1632)   0           ['block6b_se_squeeze[0][0]']     \n",
            "                                                                                                  \n",
            " block6b_se_reduce (Conv2D)     (None, 1, 1, 68)     111044      ['block6b_se_reshape[0][0]']     \n",
            "                                                                                                  \n",
            " block6b_se_expand (Conv2D)     (None, 1, 1, 1632)   112608      ['block6b_se_reduce[0][0]']      \n",
            "                                                                                                  \n",
            " block6b_se_excite (Multiply)   (None, 7, 7, 1632)   0           ['block6b_activation[0][0]',     \n",
            "                                                                  'block6b_se_expand[0][0]']      \n",
            "                                                                                                  \n",
            " block6b_project_conv (Conv2D)  (None, 7, 7, 272)    443904      ['block6b_se_excite[0][0]']      \n",
            "                                                                                                  \n",
            " block6b_project_bn (BatchNorma  (None, 7, 7, 272)   1088        ['block6b_project_conv[0][0]']   \n",
            " lization)                                                                                        \n",
            "                                                                                                  \n",
            " block6b_drop (Dropout)         (None, 7, 7, 272)    0           ['block6b_project_bn[0][0]']     \n",
            "                                                                                                  \n",
            " block6b_add (Add)              (None, 7, 7, 272)    0           ['block6b_drop[0][0]',           \n",
            "                                                                  'block6a_project_bn[0][0]']     \n",
            "                                                                                                  \n",
            " block6c_expand_conv (Conv2D)   (None, 7, 7, 1632)   443904      ['block6b_add[0][0]']            \n",
            "                                                                                                  \n",
            " block6c_expand_bn (BatchNormal  (None, 7, 7, 1632)  6528        ['block6c_expand_conv[0][0]']    \n",
            " ization)                                                                                         \n",
            "                                                                                                  \n",
            " block6c_expand_activation (Act  (None, 7, 7, 1632)  0           ['block6c_expand_bn[0][0]']      \n",
            " ivation)                                                                                         \n",
            "                                                                                                  \n",
            " block6c_dwconv (DepthwiseConv2  (None, 7, 7, 1632)  40800       ['block6c_expand_activation[0][0]\n",
            " D)                                                              ']                               \n",
            "                                                                                                  \n",
            " block6c_bn (BatchNormalization  (None, 7, 7, 1632)  6528        ['block6c_dwconv[0][0]']         \n",
            " )                                                                                                \n",
            "                                                                                                  \n",
            " block6c_activation (Activation  (None, 7, 7, 1632)  0           ['block6c_bn[0][0]']             \n",
            " )                                                                                                \n",
            "                                                                                                  \n",
            " block6c_se_squeeze (GlobalAver  (None, 1632)        0           ['block6c_activation[0][0]']     \n",
            " agePooling2D)                                                                                    \n",
            "                                                                                                  \n",
            " block6c_se_reshape (Reshape)   (None, 1, 1, 1632)   0           ['block6c_se_squeeze[0][0]']     \n",
            "                                                                                                  \n",
            " block6c_se_reduce (Conv2D)     (None, 1, 1, 68)     111044      ['block6c_se_reshape[0][0]']     \n",
            "                                                                                                  \n",
            " block6c_se_expand (Conv2D)     (None, 1, 1, 1632)   112608      ['block6c_se_reduce[0][0]']      \n",
            "                                                                                                  \n",
            " block6c_se_excite (Multiply)   (None, 7, 7, 1632)   0           ['block6c_activation[0][0]',     \n",
            "                                                                  'block6c_se_expand[0][0]']      \n",
            "                                                                                                  \n",
            " block6c_project_conv (Conv2D)  (None, 7, 7, 272)    443904      ['block6c_se_excite[0][0]']      \n",
            "                                                                                                  \n",
            " block6c_project_bn (BatchNorma  (None, 7, 7, 272)   1088        ['block6c_project_conv[0][0]']   \n",
            " lization)                                                                                        \n",
            "                                                                                                  \n",
            " block6c_drop (Dropout)         (None, 7, 7, 272)    0           ['block6c_project_bn[0][0]']     \n",
            "                                                                                                  \n",
            " block6c_add (Add)              (None, 7, 7, 272)    0           ['block6c_drop[0][0]',           \n",
            "                                                                  'block6b_add[0][0]']            \n",
            "                                                                                                  \n",
            " block6d_expand_conv (Conv2D)   (None, 7, 7, 1632)   443904      ['block6c_add[0][0]']            \n",
            "                                                                                                  \n",
            " block6d_expand_bn (BatchNormal  (None, 7, 7, 1632)  6528        ['block6d_expand_conv[0][0]']    \n",
            " ization)                                                                                         \n",
            "                                                                                                  \n",
            " block6d_expand_activation (Act  (None, 7, 7, 1632)  0           ['block6d_expand_bn[0][0]']      \n",
            " ivation)                                                                                         \n",
            "                                                                                                  \n",
            " block6d_dwconv (DepthwiseConv2  (None, 7, 7, 1632)  40800       ['block6d_expand_activation[0][0]\n",
            " D)                                                              ']                               \n",
            "                                                                                                  \n",
            " block6d_bn (BatchNormalization  (None, 7, 7, 1632)  6528        ['block6d_dwconv[0][0]']         \n",
            " )                                                                                                \n",
            "                                                                                                  \n",
            " block6d_activation (Activation  (None, 7, 7, 1632)  0           ['block6d_bn[0][0]']             \n",
            " )                                                                                                \n",
            "                                                                                                  \n",
            " block6d_se_squeeze (GlobalAver  (None, 1632)        0           ['block6d_activation[0][0]']     \n",
            " agePooling2D)                                                                                    \n",
            "                                                                                                  \n",
            " block6d_se_reshape (Reshape)   (None, 1, 1, 1632)   0           ['block6d_se_squeeze[0][0]']     \n",
            "                                                                                                  \n",
            " block6d_se_reduce (Conv2D)     (None, 1, 1, 68)     111044      ['block6d_se_reshape[0][0]']     \n",
            "                                                                                                  \n",
            " block6d_se_expand (Conv2D)     (None, 1, 1, 1632)   112608      ['block6d_se_reduce[0][0]']      \n",
            "                                                                                                  \n",
            " block6d_se_excite (Multiply)   (None, 7, 7, 1632)   0           ['block6d_activation[0][0]',     \n",
            "                                                                  'block6d_se_expand[0][0]']      \n",
            "                                                                                                  \n",
            " block6d_project_conv (Conv2D)  (None, 7, 7, 272)    443904      ['block6d_se_excite[0][0]']      \n",
            "                                                                                                  \n",
            " block6d_project_bn (BatchNorma  (None, 7, 7, 272)   1088        ['block6d_project_conv[0][0]']   \n",
            " lization)                                                                                        \n",
            "                                                                                                  \n",
            " block6d_drop (Dropout)         (None, 7, 7, 272)    0           ['block6d_project_bn[0][0]']     \n",
            "                                                                                                  \n",
            " block6d_add (Add)              (None, 7, 7, 272)    0           ['block6d_drop[0][0]',           \n",
            "                                                                  'block6c_add[0][0]']            \n",
            "                                                                                                  \n",
            " block6e_expand_conv (Conv2D)   (None, 7, 7, 1632)   443904      ['block6d_add[0][0]']            \n",
            "                                                                                                  \n",
            " block6e_expand_bn (BatchNormal  (None, 7, 7, 1632)  6528        ['block6e_expand_conv[0][0]']    \n",
            " ization)                                                                                         \n",
            "                                                                                                  \n",
            " block6e_expand_activation (Act  (None, 7, 7, 1632)  0           ['block6e_expand_bn[0][0]']      \n",
            " ivation)                                                                                         \n",
            "                                                                                                  \n",
            " block6e_dwconv (DepthwiseConv2  (None, 7, 7, 1632)  40800       ['block6e_expand_activation[0][0]\n",
            " D)                                                              ']                               \n",
            "                                                                                                  \n",
            " block6e_bn (BatchNormalization  (None, 7, 7, 1632)  6528        ['block6e_dwconv[0][0]']         \n",
            " )                                                                                                \n",
            "                                                                                                  \n",
            " block6e_activation (Activation  (None, 7, 7, 1632)  0           ['block6e_bn[0][0]']             \n",
            " )                                                                                                \n",
            "                                                                                                  \n",
            " block6e_se_squeeze (GlobalAver  (None, 1632)        0           ['block6e_activation[0][0]']     \n",
            " agePooling2D)                                                                                    \n",
            "                                                                                                  \n",
            " block6e_se_reshape (Reshape)   (None, 1, 1, 1632)   0           ['block6e_se_squeeze[0][0]']     \n",
            "                                                                                                  \n",
            " block6e_se_reduce (Conv2D)     (None, 1, 1, 68)     111044      ['block6e_se_reshape[0][0]']     \n",
            "                                                                                                  \n",
            " block6e_se_expand (Conv2D)     (None, 1, 1, 1632)   112608      ['block6e_se_reduce[0][0]']      \n",
            "                                                                                                  \n",
            " block6e_se_excite (Multiply)   (None, 7, 7, 1632)   0           ['block6e_activation[0][0]',     \n",
            "                                                                  'block6e_se_expand[0][0]']      \n",
            "                                                                                                  \n",
            " block6e_project_conv (Conv2D)  (None, 7, 7, 272)    443904      ['block6e_se_excite[0][0]']      \n",
            "                                                                                                  \n",
            " block6e_project_bn (BatchNorma  (None, 7, 7, 272)   1088        ['block6e_project_conv[0][0]']   \n",
            " lization)                                                                                        \n",
            "                                                                                                  \n",
            " block6e_drop (Dropout)         (None, 7, 7, 272)    0           ['block6e_project_bn[0][0]']     \n",
            "                                                                                                  \n",
            " block6e_add (Add)              (None, 7, 7, 272)    0           ['block6e_drop[0][0]',           \n",
            "                                                                  'block6d_add[0][0]']            \n",
            "                                                                                                  \n",
            " block6f_expand_conv (Conv2D)   (None, 7, 7, 1632)   443904      ['block6e_add[0][0]']            \n",
            "                                                                                                  \n",
            " block6f_expand_bn (BatchNormal  (None, 7, 7, 1632)  6528        ['block6f_expand_conv[0][0]']    \n",
            " ization)                                                                                         \n",
            "                                                                                                  \n",
            " block6f_expand_activation (Act  (None, 7, 7, 1632)  0           ['block6f_expand_bn[0][0]']      \n",
            " ivation)                                                                                         \n",
            "                                                                                                  \n",
            " block6f_dwconv (DepthwiseConv2  (None, 7, 7, 1632)  40800       ['block6f_expand_activation[0][0]\n",
            " D)                                                              ']                               \n",
            "                                                                                                  \n",
            " block6f_bn (BatchNormalization  (None, 7, 7, 1632)  6528        ['block6f_dwconv[0][0]']         \n",
            " )                                                                                                \n",
            "                                                                                                  \n",
            " block6f_activation (Activation  (None, 7, 7, 1632)  0           ['block6f_bn[0][0]']             \n",
            " )                                                                                                \n",
            "                                                                                                  \n",
            " block6f_se_squeeze (GlobalAver  (None, 1632)        0           ['block6f_activation[0][0]']     \n",
            " agePooling2D)                                                                                    \n",
            "                                                                                                  \n",
            " block6f_se_reshape (Reshape)   (None, 1, 1, 1632)   0           ['block6f_se_squeeze[0][0]']     \n",
            "                                                                                                  \n",
            " block6f_se_reduce (Conv2D)     (None, 1, 1, 68)     111044      ['block6f_se_reshape[0][0]']     \n",
            "                                                                                                  \n",
            " block6f_se_expand (Conv2D)     (None, 1, 1, 1632)   112608      ['block6f_se_reduce[0][0]']      \n",
            "                                                                                                  \n",
            " block6f_se_excite (Multiply)   (None, 7, 7, 1632)   0           ['block6f_activation[0][0]',     \n",
            "                                                                  'block6f_se_expand[0][0]']      \n",
            "                                                                                                  \n",
            " block6f_project_conv (Conv2D)  (None, 7, 7, 272)    443904      ['block6f_se_excite[0][0]']      \n",
            "                                                                                                  \n",
            " block6f_project_bn (BatchNorma  (None, 7, 7, 272)   1088        ['block6f_project_conv[0][0]']   \n",
            " lization)                                                                                        \n",
            "                                                                                                  \n",
            " block6f_drop (Dropout)         (None, 7, 7, 272)    0           ['block6f_project_bn[0][0]']     \n",
            "                                                                                                  \n",
            " block6f_add (Add)              (None, 7, 7, 272)    0           ['block6f_drop[0][0]',           \n",
            "                                                                  'block6e_add[0][0]']            \n",
            "                                                                                                  \n",
            " block6g_expand_conv (Conv2D)   (None, 7, 7, 1632)   443904      ['block6f_add[0][0]']            \n",
            "                                                                                                  \n",
            " block6g_expand_bn (BatchNormal  (None, 7, 7, 1632)  6528        ['block6g_expand_conv[0][0]']    \n",
            " ization)                                                                                         \n",
            "                                                                                                  \n",
            " block6g_expand_activation (Act  (None, 7, 7, 1632)  0           ['block6g_expand_bn[0][0]']      \n",
            " ivation)                                                                                         \n",
            "                                                                                                  \n",
            " block6g_dwconv (DepthwiseConv2  (None, 7, 7, 1632)  40800       ['block6g_expand_activation[0][0]\n",
            " D)                                                              ']                               \n",
            "                                                                                                  \n",
            " block6g_bn (BatchNormalization  (None, 7, 7, 1632)  6528        ['block6g_dwconv[0][0]']         \n",
            " )                                                                                                \n",
            "                                                                                                  \n",
            " block6g_activation (Activation  (None, 7, 7, 1632)  0           ['block6g_bn[0][0]']             \n",
            " )                                                                                                \n",
            "                                                                                                  \n",
            " block6g_se_squeeze (GlobalAver  (None, 1632)        0           ['block6g_activation[0][0]']     \n",
            " agePooling2D)                                                                                    \n",
            "                                                                                                  \n",
            " block6g_se_reshape (Reshape)   (None, 1, 1, 1632)   0           ['block6g_se_squeeze[0][0]']     \n",
            "                                                                                                  \n",
            " block6g_se_reduce (Conv2D)     (None, 1, 1, 68)     111044      ['block6g_se_reshape[0][0]']     \n",
            "                                                                                                  \n",
            " block6g_se_expand (Conv2D)     (None, 1, 1, 1632)   112608      ['block6g_se_reduce[0][0]']      \n",
            "                                                                                                  \n",
            " block6g_se_excite (Multiply)   (None, 7, 7, 1632)   0           ['block6g_activation[0][0]',     \n",
            "                                                                  'block6g_se_expand[0][0]']      \n",
            "                                                                                                  \n",
            " block6g_project_conv (Conv2D)  (None, 7, 7, 272)    443904      ['block6g_se_excite[0][0]']      \n",
            "                                                                                                  \n",
            " block6g_project_bn (BatchNorma  (None, 7, 7, 272)   1088        ['block6g_project_conv[0][0]']   \n",
            " lization)                                                                                        \n",
            "                                                                                                  \n",
            " block6g_drop (Dropout)         (None, 7, 7, 272)    0           ['block6g_project_bn[0][0]']     \n",
            "                                                                                                  \n",
            " block6g_add (Add)              (None, 7, 7, 272)    0           ['block6g_drop[0][0]',           \n",
            "                                                                  'block6f_add[0][0]']            \n",
            "                                                                                                  \n",
            " block6h_expand_conv (Conv2D)   (None, 7, 7, 1632)   443904      ['block6g_add[0][0]']            \n",
            "                                                                                                  \n",
            " block6h_expand_bn (BatchNormal  (None, 7, 7, 1632)  6528        ['block6h_expand_conv[0][0]']    \n",
            " ization)                                                                                         \n",
            "                                                                                                  \n",
            " block6h_expand_activation (Act  (None, 7, 7, 1632)  0           ['block6h_expand_bn[0][0]']      \n",
            " ivation)                                                                                         \n",
            "                                                                                                  \n",
            " block6h_dwconv (DepthwiseConv2  (None, 7, 7, 1632)  40800       ['block6h_expand_activation[0][0]\n",
            " D)                                                              ']                               \n",
            "                                                                                                  \n",
            " block6h_bn (BatchNormalization  (None, 7, 7, 1632)  6528        ['block6h_dwconv[0][0]']         \n",
            " )                                                                                                \n",
            "                                                                                                  \n",
            " block6h_activation (Activation  (None, 7, 7, 1632)  0           ['block6h_bn[0][0]']             \n",
            " )                                                                                                \n",
            "                                                                                                  \n",
            " block6h_se_squeeze (GlobalAver  (None, 1632)        0           ['block6h_activation[0][0]']     \n",
            " agePooling2D)                                                                                    \n",
            "                                                                                                  \n",
            " block6h_se_reshape (Reshape)   (None, 1, 1, 1632)   0           ['block6h_se_squeeze[0][0]']     \n",
            "                                                                                                  \n",
            " block6h_se_reduce (Conv2D)     (None, 1, 1, 68)     111044      ['block6h_se_reshape[0][0]']     \n",
            "                                                                                                  \n",
            " block6h_se_expand (Conv2D)     (None, 1, 1, 1632)   112608      ['block6h_se_reduce[0][0]']      \n",
            "                                                                                                  \n",
            " block6h_se_excite (Multiply)   (None, 7, 7, 1632)   0           ['block6h_activation[0][0]',     \n",
            "                                                                  'block6h_se_expand[0][0]']      \n",
            "                                                                                                  \n",
            " block6h_project_conv (Conv2D)  (None, 7, 7, 272)    443904      ['block6h_se_excite[0][0]']      \n",
            "                                                                                                  \n",
            " block6h_project_bn (BatchNorma  (None, 7, 7, 272)   1088        ['block6h_project_conv[0][0]']   \n",
            " lization)                                                                                        \n",
            "                                                                                                  \n",
            " block6h_drop (Dropout)         (None, 7, 7, 272)    0           ['block6h_project_bn[0][0]']     \n",
            "                                                                                                  \n",
            " block6h_add (Add)              (None, 7, 7, 272)    0           ['block6h_drop[0][0]',           \n",
            "                                                                  'block6g_add[0][0]']            \n",
            "                                                                                                  \n",
            " block7a_expand_conv (Conv2D)   (None, 7, 7, 1632)   443904      ['block6h_add[0][0]']            \n",
            "                                                                                                  \n",
            " block7a_expand_bn (BatchNormal  (None, 7, 7, 1632)  6528        ['block7a_expand_conv[0][0]']    \n",
            " ization)                                                                                         \n",
            "                                                                                                  \n",
            " block7a_expand_activation (Act  (None, 7, 7, 1632)  0           ['block7a_expand_bn[0][0]']      \n",
            " ivation)                                                                                         \n",
            "                                                                                                  \n",
            " block7a_dwconv (DepthwiseConv2  (None, 7, 7, 1632)  14688       ['block7a_expand_activation[0][0]\n",
            " D)                                                              ']                               \n",
            "                                                                                                  \n",
            " block7a_bn (BatchNormalization  (None, 7, 7, 1632)  6528        ['block7a_dwconv[0][0]']         \n",
            " )                                                                                                \n",
            "                                                                                                  \n",
            " block7a_activation (Activation  (None, 7, 7, 1632)  0           ['block7a_bn[0][0]']             \n",
            " )                                                                                                \n",
            "                                                                                                  \n",
            " block7a_se_squeeze (GlobalAver  (None, 1632)        0           ['block7a_activation[0][0]']     \n",
            " agePooling2D)                                                                                    \n",
            "                                                                                                  \n",
            " block7a_se_reshape (Reshape)   (None, 1, 1, 1632)   0           ['block7a_se_squeeze[0][0]']     \n",
            "                                                                                                  \n",
            " block7a_se_reduce (Conv2D)     (None, 1, 1, 68)     111044      ['block7a_se_reshape[0][0]']     \n",
            "                                                                                                  \n",
            " block7a_se_expand (Conv2D)     (None, 1, 1, 1632)   112608      ['block7a_se_reduce[0][0]']      \n",
            "                                                                                                  \n",
            " block7a_se_excite (Multiply)   (None, 7, 7, 1632)   0           ['block7a_activation[0][0]',     \n",
            "                                                                  'block7a_se_expand[0][0]']      \n",
            "                                                                                                  \n",
            " block7a_project_conv (Conv2D)  (None, 7, 7, 448)    731136      ['block7a_se_excite[0][0]']      \n",
            "                                                                                                  \n",
            " block7a_project_bn (BatchNorma  (None, 7, 7, 448)   1792        ['block7a_project_conv[0][0]']   \n",
            " lization)                                                                                        \n",
            "                                                                                                  \n",
            " block7b_expand_conv (Conv2D)   (None, 7, 7, 2688)   1204224     ['block7a_project_bn[0][0]']     \n",
            "                                                                                                  \n",
            " block7b_expand_bn (BatchNormal  (None, 7, 7, 2688)  10752       ['block7b_expand_conv[0][0]']    \n",
            " ization)                                                                                         \n",
            "                                                                                                  \n",
            " block7b_expand_activation (Act  (None, 7, 7, 2688)  0           ['block7b_expand_bn[0][0]']      \n",
            " ivation)                                                                                         \n",
            "                                                                                                  \n",
            " block7b_dwconv (DepthwiseConv2  (None, 7, 7, 2688)  24192       ['block7b_expand_activation[0][0]\n",
            " D)                                                              ']                               \n",
            "                                                                                                  \n",
            " block7b_bn (BatchNormalization  (None, 7, 7, 2688)  10752       ['block7b_dwconv[0][0]']         \n",
            " )                                                                                                \n",
            "                                                                                                  \n",
            " block7b_activation (Activation  (None, 7, 7, 2688)  0           ['block7b_bn[0][0]']             \n",
            " )                                                                                                \n",
            "                                                                                                  \n",
            " block7b_se_squeeze (GlobalAver  (None, 2688)        0           ['block7b_activation[0][0]']     \n",
            " agePooling2D)                                                                                    \n",
            "                                                                                                  \n",
            " block7b_se_reshape (Reshape)   (None, 1, 1, 2688)   0           ['block7b_se_squeeze[0][0]']     \n",
            "                                                                                                  \n",
            " block7b_se_reduce (Conv2D)     (None, 1, 1, 112)    301168      ['block7b_se_reshape[0][0]']     \n",
            "                                                                                                  \n",
            " block7b_se_expand (Conv2D)     (None, 1, 1, 2688)   303744      ['block7b_se_reduce[0][0]']      \n",
            "                                                                                                  \n",
            " block7b_se_excite (Multiply)   (None, 7, 7, 2688)   0           ['block7b_activation[0][0]',     \n",
            "                                                                  'block7b_se_expand[0][0]']      \n",
            "                                                                                                  \n",
            " block7b_project_conv (Conv2D)  (None, 7, 7, 448)    1204224     ['block7b_se_excite[0][0]']      \n",
            "                                                                                                  \n",
            " block7b_project_bn (BatchNorma  (None, 7, 7, 448)   1792        ['block7b_project_conv[0][0]']   \n",
            " lization)                                                                                        \n",
            "                                                                                                  \n",
            " block7b_drop (Dropout)         (None, 7, 7, 448)    0           ['block7b_project_bn[0][0]']     \n",
            "                                                                                                  \n",
            " block7b_add (Add)              (None, 7, 7, 448)    0           ['block7b_drop[0][0]',           \n",
            "                                                                  'block7a_project_bn[0][0]']     \n",
            "                                                                                                  \n",
            " top_conv (Conv2D)              (None, 7, 7, 1792)   802816      ['block7b_add[0][0]']            \n",
            "                                                                                                  \n",
            " top_bn (BatchNormalization)    (None, 7, 7, 1792)   7168        ['top_conv[0][0]']               \n",
            "                                                                                                  \n",
            " top_activation (Activation)    (None, 7, 7, 1792)   0           ['top_bn[0][0]']                 \n",
            "                                                                                                  \n",
            "==================================================================================================\n",
            "Total params: 17,673,823\n",
            "Trainable params: 17,548,616\n",
            "Non-trainable params: 125,207\n",
            "__________________________________________________________________________________________________\n",
            "None\n",
            "After Merging ---->\n",
            "Model: \"model_2\"\n",
            "_________________________________________________________________\n",
            " Layer (type)                Output Shape              Param #   \n",
            "=================================================================\n",
            " inputLayer (InputLayer)     [(None, 224, 224, 3)]     0         \n",
            "                                                                 \n",
            " efficientnetb4 (Functional)  (None, 7, 7, 1792)       17673823  \n",
            "                                                                 \n",
            " global_average_pooling2d_2   (None, 1792)             0         \n",
            " (GlobalAveragePooling2D)                                        \n",
            "                                                                 \n",
            " flatten_2 (Flatten)         (None, 1792)              0         \n",
            "                                                                 \n",
            " dense_8 (Dense)             (None, 120)               215160    \n",
            "                                                                 \n",
            " dense_9 (Dense)             (None, 84)                10164     \n",
            "                                                                 \n",
            " dense_11 (Dense)            (None, 9)                 765       \n",
            "                                                                 \n",
            "=================================================================\n",
            "Total params: 17,899,912\n",
            "Trainable params: 17,774,705\n",
            "Non-trainable params: 125,207\n",
            "_________________________________________________________________\n",
            "None\n",
            "^^^^^^^^^^^^^^^^^^^^^^^^^\n",
            "Started Model ->  EFFICIENTNETB4\n"
          ]
        }
      ],
      "source": [
        "#def getModel(modelId , printSummary , Is_TL, Is_SVM, Is_TL_Tune):\n",
        "\n",
        "\n",
        "modelId = 15\n",
        "\n",
        "createModel = True\n",
        "Is_TL = False\n",
        "Is_SVM = False\n",
        "Is_TL_Tune = False\n",
        "printSummary = True\n",
        "\n",
        "if (Is_TL_Tune):\n",
        "    Is_TL = True\n",
        "\n",
        "model , conv_base = getModel(modelId,printSummary,Is_TL,Is_SVM, Is_TL_Tune)\n",
        "\n",
        "print('Started Model -> ',model.layers[1].name.upper())"
      ],
      "id": "c12285bb"
    },
    {
      "cell_type": "code",
      "execution_count": 77,
      "metadata": {
        "colab": {
          "base_uri": "https://localhost:8080/"
        },
        "id": "yZMZc0kEEpMK",
        "outputId": "b6d8ffdb-a990-4e5a-8b42-03acba0194ff"
      },
      "outputs": [
        {
          "output_type": "stream",
          "name": "stdout",
          "text": [
            "Python 3.7.12\n"
          ]
        }
      ],
      "source": [
        "!python -V\n"
      ],
      "id": "yZMZc0kEEpMK"
    },
    {
      "cell_type": "code",
      "execution_count": 78,
      "metadata": {
        "colab": {
          "base_uri": "https://localhost:8080/"
        },
        "id": "57512044",
        "outputId": "23bf1fc1-9be0-4269-b23a-d52bd615439f",
        "scrolled": true
      },
      "outputs": [
        {
          "output_type": "stream",
          "name": "stdout",
          "text": [
            "Started at = 19:01:03\n",
            "Started Model ->  EFFICIENTNETB4\n",
            "#################################################################\n",
            "\n",
            " Test run =  1\n",
            "No file moved. Source empty!\n",
            "No file moved. Source empty!\n",
            "No file moved. Source empty!\n",
            "No file moved. Source empty!\n",
            "No file moved. Source empty!\n",
            "No file moved. Source empty!\n",
            "No file moved. Source empty!\n",
            "No file moved. Source empty!\n",
            "No file moved. Source empty!\n",
            "\n",
            " Results for fold 1\n",
            "\n",
            " Folders Created ----->\n",
            "\n",
            " 620\n",
            "Initialised with 124 image(s) found.\n",
            "Output directory set to /content/drive/My Drive/Colab Notebooks/Images/Train/BLB/output."
          ]
        },
        {
          "output_type": "stream",
          "name": "stderr",
          "text": [
            "Processing <PIL.Image.Image image mode=RGB size=224x224 at 0x7F7DB0198950>: 100%|██████████| 620/620 [00:05<00:00, 115.77 Samples/s]\n"
          ]
        },
        {
          "output_type": "stream",
          "name": "stdout",
          "text": [
            "\n",
            " 320\n",
            "Initialised with 64 image(s) found.\n",
            "Output directory set to /content/drive/My Drive/Colab Notebooks/Images/Train/BPH/output."
          ]
        },
        {
          "output_type": "stream",
          "name": "stderr",
          "text": [
            "Processing <PIL.Image.Image image mode=RGB size=224x224 at 0x7F7DB02327D0>: 100%|██████████| 320/320 [00:02<00:00, 117.35 Samples/s]\n"
          ]
        },
        {
          "output_type": "stream",
          "name": "stdout",
          "text": [
            "\n",
            " 500\n",
            "Initialised with 100 image(s) found.\n",
            "Output directory set to /content/drive/My Drive/Colab Notebooks/Images/Train/Brown_Spot/output."
          ]
        },
        {
          "output_type": "stream",
          "name": "stderr",
          "text": [
            "Processing <PIL.Image.Image image mode=RGB size=224x224 at 0x7F7DBEC6DE50>: 100%|██████████| 500/500 [00:04<00:00, 107.73 Samples/s]\n"
          ]
        },
        {
          "output_type": "stream",
          "name": "stdout",
          "text": [
            "\n",
            " 420\n",
            "Initialised with 84 image(s) found.\n",
            "Output directory set to /content/drive/My Drive/Colab Notebooks/Images/Train/False_Smut/output."
          ]
        },
        {
          "output_type": "stream",
          "name": "stderr",
          "text": [
            "Processing <PIL.Image.Image image mode=RGB size=224x224 at 0x7F7DBEC30E90>: 100%|██████████| 420/420 [00:03<00:00, 112.61 Samples/s]\n"
          ]
        },
        {
          "output_type": "stream",
          "name": "stdout",
          "text": [
            "\n",
            " 1055\n",
            "Initialised with 211 image(s) found.\n",
            "Output directory set to /content/drive/My Drive/Colab Notebooks/Images/Train/Healthy_Plant/output."
          ]
        },
        {
          "output_type": "stream",
          "name": "stderr",
          "text": [
            "Processing <PIL.Image.Image image mode=RGB size=224x224 at 0x7F7DB0B1BF10>: 100%|██████████| 1055/1055 [00:09<00:00, 112.43 Samples/s]\n"
          ]
        },
        {
          "output_type": "stream",
          "name": "stdout",
          "text": [
            "\n",
            " 325\n",
            "Initialised with 65 image(s) found.\n",
            "Output directory set to /content/drive/My Drive/Colab Notebooks/Images/Train/Hispa/output."
          ]
        },
        {
          "output_type": "stream",
          "name": "stderr",
          "text": [
            "Processing <PIL.Image.Image image mode=RGB size=224x224 at 0x7F7EF7345990>: 100%|██████████| 325/325 [00:02<00:00, 113.25 Samples/s]\n"
          ]
        },
        {
          "output_type": "stream",
          "name": "stdout",
          "text": [
            "\n",
            " 1285\n",
            "Initialised with 257 image(s) found.\n",
            "Output directory set to /content/drive/My Drive/Colab Notebooks/Images/Train/Neck_Blast/output."
          ]
        },
        {
          "output_type": "stream",
          "name": "stderr",
          "text": [
            "Processing <PIL.Image.Image image mode=RGB size=224x224 at 0x7F7DBEA2F150>: 100%|██████████| 1285/1285 [00:11<00:00, 113.34 Samples/s]\n"
          ]
        },
        {
          "output_type": "stream",
          "name": "stdout",
          "text": [
            "\n",
            " 985\n",
            "Initialised with 197 image(s) found.\n",
            "Output directory set to /content/drive/My Drive/Colab Notebooks/Images/Train/Sheath_Blight_Rot/output."
          ]
        },
        {
          "output_type": "stream",
          "name": "stderr",
          "text": [
            "Processing <PIL.Image.Image image mode=RGB size=224x224 at 0x7F7DBEC25850>: 100%|██████████| 985/985 [00:08<00:00, 112.54 Samples/s]\n"
          ]
        },
        {
          "output_type": "stream",
          "name": "stdout",
          "text": [
            "\n",
            " 905\n",
            "Initialised with 181 image(s) found.\n",
            "Output directory set to /content/drive/My Drive/Colab Notebooks/Images/Train/Stemborer/output."
          ]
        },
        {
          "output_type": "stream",
          "name": "stderr",
          "text": [
            "Processing <PIL.Image.Image image mode=RGB size=224x224 at 0x7F7DB52ED690>: 100%|██████████| 905/905 [00:07<00:00, 113.20 Samples/s]\n"
          ]
        },
        {
          "output_type": "stream",
          "name": "stdout",
          "text": [
            "Before move -  744\n",
            "After move -  744\n",
            "Before move -  384\n",
            "After move -  384\n",
            "Before move -  600\n",
            "After move -  600\n",
            "Before move -  504\n",
            "After move -  504\n",
            "Before move -  1266\n",
            "After move -  1266\n",
            "Before move -  390\n",
            "After move -  390\n",
            "Before move -  1542\n",
            "After move -  1542\n",
            "Before move -  1182\n",
            "After move -  1182\n",
            "Before move -  1086\n",
            "After move -  1086\n",
            "Found 7698 images belonging to 9 classes.\n",
            "Train data length ======  7698\n",
            "Found 143 images belonging to 9 classes.\n",
            "Test data length ======  143\n",
            "EfficientNetB4\n",
            "Before Fine Tuning---->\n",
            "Model: \"model_3\"\n",
            "_________________________________________________________________\n",
            " Layer (type)                Output Shape              Param #   \n",
            "=================================================================\n",
            " inputLayer (InputLayer)     [(None, 224, 224, 3)]     0         \n",
            "                                                                 \n",
            " efficientnetb4 (Functional)  (None, 7, 7, 1792)       17673823  \n",
            "                                                                 \n",
            " global_average_pooling2d_3   (None, 1792)             0         \n",
            " (GlobalAveragePooling2D)                                        \n",
            "                                                                 \n",
            " flatten_3 (Flatten)         (None, 1792)              0         \n",
            "                                                                 \n",
            " dense_12 (Dense)            (None, 120)               215160    \n",
            "                                                                 \n",
            " dense_13 (Dense)            (None, 84)                10164     \n",
            "                                                                 \n",
            " dense_15 (Dense)            (None, 9)                 765       \n",
            "                                                                 \n",
            "=================================================================\n",
            "Total params: 17,899,912\n",
            "Trainable params: 17,774,705\n",
            "Non-trainable params: 125,207\n",
            "_________________________________________________________________\n",
            "None\n",
            "Epoch 1/20\n",
            "321/321 [==============================] - 101s 259ms/step - loss: 2.0946 - categorical_accuracy: 0.2015\n",
            "Epoch 2/20\n",
            "321/321 [==============================] - 83s 259ms/step - loss: 1.9948 - categorical_accuracy: 0.2611\n",
            "Epoch 3/20\n",
            "321/321 [==============================] - 83s 259ms/step - loss: 1.8760 - categorical_accuracy: 0.3080\n",
            "Epoch 4/20\n",
            "321/321 [==============================] - 83s 259ms/step - loss: 1.7674 - categorical_accuracy: 0.3509\n",
            "Epoch 5/20\n",
            "321/321 [==============================] - 83s 259ms/step - loss: 1.6751 - categorical_accuracy: 0.3758\n",
            "Epoch 6/20\n",
            "321/321 [==============================] - 83s 259ms/step - loss: 1.5730 - categorical_accuracy: 0.4160\n",
            "Epoch 7/20\n",
            "321/321 [==============================] - 83s 259ms/step - loss: 1.5000 - categorical_accuracy: 0.4554\n",
            "Epoch 8/20\n",
            "321/321 [==============================] - 83s 258ms/step - loss: 1.4128 - categorical_accuracy: 0.4831\n",
            "Epoch 9/20\n",
            "321/321 [==============================] - 83s 259ms/step - loss: 1.3350 - categorical_accuracy: 0.5242\n",
            "Epoch 10/20\n",
            "321/321 [==============================] - 83s 258ms/step - loss: 1.2629 - categorical_accuracy: 0.5439\n",
            "Epoch 11/20\n",
            "321/321 [==============================] - 83s 259ms/step - loss: 1.1842 - categorical_accuracy: 0.5779\n",
            "Epoch 12/20\n",
            "321/321 [==============================] - 82s 257ms/step - loss: 1.0988 - categorical_accuracy: 0.6031\n",
            "Epoch 13/20\n",
            "321/321 [==============================] - 83s 259ms/step - loss: 1.0373 - categorical_accuracy: 0.6377\n",
            "Epoch 14/20\n",
            "321/321 [==============================] - 83s 259ms/step - loss: 0.9780 - categorical_accuracy: 0.6526\n",
            "Epoch 15/20\n",
            "321/321 [==============================] - 83s 260ms/step - loss: 0.9173 - categorical_accuracy: 0.6824\n",
            "Epoch 16/20\n",
            "321/321 [==============================] - 83s 259ms/step - loss: 0.8267 - categorical_accuracy: 0.7065\n",
            "Epoch 17/20\n",
            "321/321 [==============================] - 85s 266ms/step - loss: 0.7892 - categorical_accuracy: 0.7216\n",
            "Epoch 18/20\n",
            "321/321 [==============================] - 83s 259ms/step - loss: 0.7527 - categorical_accuracy: 0.7424\n",
            "Epoch 19/20\n",
            "321/321 [==============================] - 83s 259ms/step - loss: 0.6913 - categorical_accuracy: 0.7589\n",
            "Epoch 20/20\n",
            "321/321 [==============================] - 83s 258ms/step - loss: 0.6466 - categorical_accuracy: 0.7754\n",
            "***Performance on Training data***\n",
            "Accuracy  : 0.7753962278366089\n",
            "======================================*\n",
            "6/6 [==============================] - 41s 8s/step\n",
            "***Performance on Validation data***\n",
            "Accuracy  : 0.3706293706293706\n",
            "Precision : 0.36811083549051465\n",
            "f1Score : 0.36339327339327343\n",
            "[[ 6  0  0  1  3  0  3  1  0]\n",
            " [ 0  3  0  0  2  0  1  0  1]\n",
            " [ 0  0  7  0  0  1  2  0  1]\n",
            " [ 1  0  0  4  1  0  2  0  1]\n",
            " [ 0  0  2  3 10  2  4  1  1]\n",
            " [ 0  1  2  0  0  3  0  2  0]\n",
            " [ 4  1  2  1  3  1 10  3  4]\n",
            " [ 0  1  2  2  5  2  2  7  1]\n",
            " [ 0  1  2  1  3  1  5  4  3]]\n",
            "\n",
            " Results for fold 2\n",
            "\n",
            " Folders Created ----->\n",
            "\n",
            " 620\n",
            "Initialised with 124 image(s) found.\n",
            "Output directory set to /content/drive/My Drive/Colab Notebooks/Images/Train/BLB/output."
          ]
        },
        {
          "output_type": "stream",
          "name": "stderr",
          "text": [
            "Processing <PIL.Image.Image image mode=RGB size=224x224 at 0x7F7D8A1452D0>: 100%|██████████| 620/620 [00:05<00:00, 111.56 Samples/s]\n"
          ]
        },
        {
          "output_type": "stream",
          "name": "stdout",
          "text": [
            "\n",
            " 320\n",
            "Initialised with 64 image(s) found.\n",
            "Output directory set to /content/drive/My Drive/Colab Notebooks/Images/Train/BPH/output."
          ]
        },
        {
          "output_type": "stream",
          "name": "stderr",
          "text": [
            "Processing <PIL.Image.Image image mode=RGB size=224x224 at 0x7F7D8A1325D0>: 100%|██████████| 320/320 [00:02<00:00, 112.97 Samples/s]\n"
          ]
        },
        {
          "output_type": "stream",
          "name": "stdout",
          "text": [
            "\n",
            " 500\n",
            "Initialised with 100 image(s) found.\n",
            "Output directory set to /content/drive/My Drive/Colab Notebooks/Images/Train/Brown_Spot/output."
          ]
        },
        {
          "output_type": "stream",
          "name": "stderr",
          "text": [
            "Processing <PIL.Image.Image image mode=RGB size=224x224 at 0x7F7D8AA38790>: 100%|██████████| 500/500 [00:04<00:00, 114.27 Samples/s]\n"
          ]
        },
        {
          "output_type": "stream",
          "name": "stdout",
          "text": [
            "\n",
            " 420\n",
            "Initialised with 84 image(s) found.\n",
            "Output directory set to /content/drive/My Drive/Colab Notebooks/Images/Train/False_Smut/output."
          ]
        },
        {
          "output_type": "stream",
          "name": "stderr",
          "text": [
            "Processing <PIL.Image.Image image mode=RGB size=224x224 at 0x7F7D8A1C89D0>: 100%|██████████| 420/420 [00:03<00:00, 112.85 Samples/s]\n"
          ]
        },
        {
          "output_type": "stream",
          "name": "stdout",
          "text": [
            "\n",
            " 1055\n",
            "Initialised with 211 image(s) found.\n",
            "Output directory set to /content/drive/My Drive/Colab Notebooks/Images/Train/Healthy_Plant/output."
          ]
        },
        {
          "output_type": "stream",
          "name": "stderr",
          "text": [
            "Processing <PIL.Image.Image image mode=RGB size=224x224 at 0x7F7D8A1F0F90>: 100%|██████████| 1055/1055 [00:09<00:00, 112.90 Samples/s]\n"
          ]
        },
        {
          "output_type": "stream",
          "name": "stdout",
          "text": [
            "\n",
            " 325\n",
            "Initialised with 65 image(s) found.\n",
            "Output directory set to /content/drive/My Drive/Colab Notebooks/Images/Train/Hispa/output."
          ]
        },
        {
          "output_type": "stream",
          "name": "stderr",
          "text": [
            "Processing <PIL.Image.Image image mode=RGB size=224x224 at 0x7F7D8A197E90>: 100%|██████████| 325/325 [00:02<00:00, 113.88 Samples/s]\n"
          ]
        },
        {
          "output_type": "stream",
          "name": "stdout",
          "text": [
            "\n",
            " 1285\n",
            "Initialised with 257 image(s) found.\n",
            "Output directory set to /content/drive/My Drive/Colab Notebooks/Images/Train/Neck_Blast/output."
          ]
        },
        {
          "output_type": "stream",
          "name": "stderr",
          "text": [
            "Processing <PIL.Image.Image image mode=RGB size=224x224 at 0x7F7D8A15ABD0>: 100%|██████████| 1285/1285 [00:11<00:00, 110.61 Samples/s]\n"
          ]
        },
        {
          "output_type": "stream",
          "name": "stdout",
          "text": [
            "\n",
            " 985\n",
            "Initialised with 197 image(s) found.\n",
            "Output directory set to /content/drive/My Drive/Colab Notebooks/Images/Train/Sheath_Blight_Rot/output."
          ]
        },
        {
          "output_type": "stream",
          "name": "stderr",
          "text": [
            "Processing <PIL.Image.Image image mode=RGB size=224x224 at 0x7F7D2A4A8810>: 100%|██████████| 985/985 [00:08<00:00, 115.37 Samples/s]\n"
          ]
        },
        {
          "output_type": "stream",
          "name": "stdout",
          "text": [
            "\n",
            " 905\n",
            "Initialised with 181 image(s) found.\n",
            "Output directory set to /content/drive/My Drive/Colab Notebooks/Images/Train/Stemborer/output."
          ]
        },
        {
          "output_type": "stream",
          "name": "stderr",
          "text": [
            "Processing <PIL.Image.Image image mode=RGB size=224x224 at 0x7F7D8A106590>: 100%|██████████| 905/905 [00:07<00:00, 113.55 Samples/s]\n"
          ]
        },
        {
          "output_type": "stream",
          "name": "stdout",
          "text": [
            "Before move -  744\n",
            "After move -  744\n",
            "Before move -  384\n",
            "After move -  384\n",
            "Before move -  600\n",
            "After move -  600\n",
            "Before move -  504\n",
            "After move -  504\n",
            "Before move -  1266\n",
            "After move -  1266\n",
            "Before move -  390\n",
            "After move -  390\n",
            "Before move -  1542\n",
            "After move -  1542\n",
            "Before move -  1182\n",
            "After move -  1182\n",
            "Before move -  1086\n",
            "After move -  1086\n",
            "Found 7698 images belonging to 9 classes.\n",
            "Train data length ======  7698\n",
            "Found 143 images belonging to 9 classes.\n",
            "Test data length ======  143\n",
            "EfficientNetB4\n",
            "Before Fine Tuning---->\n",
            "Model: \"model_4\"\n",
            "_________________________________________________________________\n",
            " Layer (type)                Output Shape              Param #   \n",
            "=================================================================\n",
            " inputLayer (InputLayer)     [(None, 224, 224, 3)]     0         \n",
            "                                                                 \n",
            " efficientnetb4 (Functional)  (None, 7, 7, 1792)       17673823  \n",
            "                                                                 \n",
            " global_average_pooling2d_4   (None, 1792)             0         \n",
            " (GlobalAveragePooling2D)                                        \n",
            "                                                                 \n",
            " flatten_4 (Flatten)         (None, 1792)              0         \n",
            "                                                                 \n",
            " dense_16 (Dense)            (None, 120)               215160    \n",
            "                                                                 \n",
            " dense_17 (Dense)            (None, 84)                10164     \n",
            "                                                                 \n",
            " dense_19 (Dense)            (None, 9)                 765       \n",
            "                                                                 \n",
            "=================================================================\n",
            "Total params: 17,899,912\n",
            "Trainable params: 17,774,705\n",
            "Non-trainable params: 125,207\n",
            "_________________________________________________________________\n",
            "None\n",
            "Epoch 1/20\n",
            "321/321 [==============================] - 101s 260ms/step - loss: 2.1184 - categorical_accuracy: 0.1919\n",
            "Epoch 2/20\n",
            "321/321 [==============================] - 83s 258ms/step - loss: 2.0536 - categorical_accuracy: 0.2204\n",
            "Epoch 3/20\n",
            "321/321 [==============================] - 83s 259ms/step - loss: 1.9348 - categorical_accuracy: 0.2835\n",
            "Epoch 4/20\n",
            "321/321 [==============================] - 83s 259ms/step - loss: 1.8140 - categorical_accuracy: 0.3366\n",
            "Epoch 5/20\n",
            "321/321 [==============================] - 83s 259ms/step - loss: 1.6996 - categorical_accuracy: 0.3691\n",
            "Epoch 6/20\n",
            "321/321 [==============================] - 83s 259ms/step - loss: 1.6038 - categorical_accuracy: 0.4131\n",
            "Epoch 7/20\n",
            "321/321 [==============================] - 83s 259ms/step - loss: 1.5183 - categorical_accuracy: 0.4491\n",
            "Epoch 8/20\n",
            "321/321 [==============================] - 83s 259ms/step - loss: 1.4402 - categorical_accuracy: 0.4708\n",
            "Epoch 9/20\n",
            "321/321 [==============================] - 83s 259ms/step - loss: 1.3689 - categorical_accuracy: 0.5000\n",
            "Epoch 10/20\n",
            "321/321 [==============================] - 84s 263ms/step - loss: 1.2651 - categorical_accuracy: 0.5434\n",
            "Epoch 11/20\n",
            "321/321 [==============================] - 83s 259ms/step - loss: 1.1783 - categorical_accuracy: 0.5785\n",
            "Epoch 12/20\n",
            "321/321 [==============================] - 83s 259ms/step - loss: 1.0908 - categorical_accuracy: 0.6103\n",
            "Epoch 13/20\n",
            "321/321 [==============================] - 83s 259ms/step - loss: 1.0078 - categorical_accuracy: 0.6460\n",
            "Epoch 14/20\n",
            "321/321 [==============================] - 83s 259ms/step - loss: 0.9168 - categorical_accuracy: 0.6767\n",
            "Epoch 15/20\n",
            "321/321 [==============================] - 84s 260ms/step - loss: 0.8368 - categorical_accuracy: 0.7071\n",
            "Epoch 16/20\n",
            "321/321 [==============================] - 81s 252ms/step - loss: 0.7713 - categorical_accuracy: 0.7273\n",
            "Epoch 17/20\n",
            "321/321 [==============================] - 83s 259ms/step - loss: 0.7088 - categorical_accuracy: 0.7546\n",
            "Epoch 18/20\n",
            "321/321 [==============================] - 83s 259ms/step - loss: 0.6250 - categorical_accuracy: 0.7818\n",
            "Epoch 19/20\n",
            "321/321 [==============================] - 83s 259ms/step - loss: 0.5760 - categorical_accuracy: 0.7972\n",
            "Epoch 20/20\n",
            "321/321 [==============================] - 85s 263ms/step - loss: 0.5141 - categorical_accuracy: 0.8210\n",
            "***Performance on Training data***\n",
            "Accuracy  : 0.8209924697875977\n",
            "======================================*\n",
            "6/6 [==============================] - 3s 67ms/step\n",
            "***Performance on Validation data***\n",
            "Accuracy  : 0.3986013986013986\n",
            "Precision : 0.4027837741124455\n",
            "f1Score : 0.39285313401514005\n",
            "[[ 4  0  1  0  2  0  2  4  1]\n",
            " [ 0  5  0  0  1  1  0  0  0]\n",
            " [ 0  0  4  0  2  0  2  1  2]\n",
            " [ 2  0  0  2  0  0  2  2  1]\n",
            " [ 1  0  1  2  9  1  4  4  1]\n",
            " [ 0  0  1  0  0  5  0  1  1]\n",
            " [ 1  3  0  0  4  3 13  3  2]\n",
            " [ 1  2  1  1  3  1  2  9  2]\n",
            " [ 0  3  0  1  1  0  5  4  6]]\n",
            "\n",
            " Results for fold 3\n",
            "\n",
            " Folders Created ----->\n",
            "\n",
            " 620\n",
            "Initialised with 124 image(s) found.\n",
            "Output directory set to /content/drive/My Drive/Colab Notebooks/Images/Train/BLB/output."
          ]
        },
        {
          "output_type": "stream",
          "name": "stderr",
          "text": [
            "Processing <PIL.Image.Image image mode=RGB size=224x224 at 0x7F7CF9A19950>: 100%|██████████| 620/620 [00:05<00:00, 118.36 Samples/s]\n"
          ]
        },
        {
          "output_type": "stream",
          "name": "stdout",
          "text": [
            "\n",
            " 320\n",
            "Initialised with 64 image(s) found.\n",
            "Output directory set to /content/drive/My Drive/Colab Notebooks/Images/Train/BPH/output."
          ]
        },
        {
          "output_type": "stream",
          "name": "stderr",
          "text": [
            "Processing <PIL.Image.Image image mode=RGB size=224x224 at 0x7F7CF99EF810>: 100%|██████████| 320/320 [00:02<00:00, 113.66 Samples/s]\n"
          ]
        },
        {
          "output_type": "stream",
          "name": "stdout",
          "text": [
            "\n",
            " 500\n",
            "Initialised with 100 image(s) found.\n",
            "Output directory set to /content/drive/My Drive/Colab Notebooks/Images/Train/Brown_Spot/output."
          ]
        },
        {
          "output_type": "stream",
          "name": "stderr",
          "text": [
            "Processing <PIL.Image.Image image mode=RGB size=224x224 at 0x7F7CF99EF810>: 100%|██████████| 500/500 [00:04<00:00, 114.17 Samples/s]\n"
          ]
        },
        {
          "output_type": "stream",
          "name": "stdout",
          "text": [
            "\n",
            " 420\n",
            "Initialised with 84 image(s) found.\n",
            "Output directory set to /content/drive/My Drive/Colab Notebooks/Images/Train/False_Smut/output."
          ]
        },
        {
          "output_type": "stream",
          "name": "stderr",
          "text": [
            "Processing <PIL.Image.Image image mode=RGB size=224x224 at 0x7F7CF99D0750>: 100%|██████████| 420/420 [00:03<00:00, 114.94 Samples/s]\n"
          ]
        },
        {
          "output_type": "stream",
          "name": "stdout",
          "text": [
            "\n",
            " 1055\n",
            "Initialised with 211 image(s) found.\n",
            "Output directory set to /content/drive/My Drive/Colab Notebooks/Images/Train/Healthy_Plant/output."
          ]
        },
        {
          "output_type": "stream",
          "name": "stderr",
          "text": [
            "Processing <PIL.Image.Image image mode=RGB size=224x224 at 0x7F7CF97B0ED0>: 100%|██████████| 1055/1055 [00:09<00:00, 113.56 Samples/s]\n"
          ]
        },
        {
          "output_type": "stream",
          "name": "stdout",
          "text": [
            "\n",
            " 325\n",
            "Initialised with 65 image(s) found.\n",
            "Output directory set to /content/drive/My Drive/Colab Notebooks/Images/Train/Hispa/output."
          ]
        },
        {
          "output_type": "stream",
          "name": "stderr",
          "text": [
            "Processing <PIL.Image.Image image mode=RGB size=224x224 at 0x7F7CF99ED190>: 100%|██████████| 325/325 [00:02<00:00, 112.32 Samples/s]\n"
          ]
        },
        {
          "output_type": "stream",
          "name": "stdout",
          "text": [
            "\n",
            " 1285\n",
            "Initialised with 257 image(s) found.\n",
            "Output directory set to /content/drive/My Drive/Colab Notebooks/Images/Train/Neck_Blast/output."
          ]
        },
        {
          "output_type": "stream",
          "name": "stderr",
          "text": [
            "Processing <PIL.Image.Image image mode=RGB size=224x224 at 0x7F7CF9981F50>: 100%|██████████| 1285/1285 [00:11<00:00, 111.98 Samples/s]\n"
          ]
        },
        {
          "output_type": "stream",
          "name": "stdout",
          "text": [
            "\n",
            " 985\n",
            "Initialised with 197 image(s) found.\n",
            "Output directory set to /content/drive/My Drive/Colab Notebooks/Images/Train/Sheath_Blight_Rot/output."
          ]
        },
        {
          "output_type": "stream",
          "name": "stderr",
          "text": [
            "Processing <PIL.Image.Image image mode=RGB size=224x224 at 0x7F7CF9812F10>: 100%|██████████| 985/985 [00:08<00:00, 113.90 Samples/s]\n"
          ]
        },
        {
          "output_type": "stream",
          "name": "stdout",
          "text": [
            "\n",
            " 905\n",
            "Initialised with 181 image(s) found.\n",
            "Output directory set to /content/drive/My Drive/Colab Notebooks/Images/Train/Stemborer/output."
          ]
        },
        {
          "output_type": "stream",
          "name": "stderr",
          "text": [
            "Processing <PIL.Image.Image image mode=RGB size=224x224 at 0x7F7CF97E1650>: 100%|██████████| 905/905 [00:07<00:00, 113.64 Samples/s]\n"
          ]
        },
        {
          "output_type": "stream",
          "name": "stdout",
          "text": [
            "Before move -  744\n",
            "After move -  744\n",
            "Before move -  384\n",
            "After move -  384\n",
            "Before move -  600\n",
            "After move -  600\n",
            "Before move -  504\n",
            "After move -  504\n",
            "Before move -  1266\n",
            "After move -  1266\n",
            "Before move -  390\n",
            "After move -  390\n",
            "Before move -  1542\n",
            "After move -  1542\n",
            "Before move -  1182\n",
            "After move -  1182\n",
            "Before move -  1086\n",
            "After move -  1086\n",
            "Found 7698 images belonging to 9 classes.\n",
            "Train data length ======  7698\n",
            "Found 143 images belonging to 9 classes.\n",
            "Test data length ======  143\n",
            "EfficientNetB4\n",
            "Before Fine Tuning---->\n",
            "Model: \"model_5\"\n",
            "_________________________________________________________________\n",
            " Layer (type)                Output Shape              Param #   \n",
            "=================================================================\n",
            " inputLayer (InputLayer)     [(None, 224, 224, 3)]     0         \n",
            "                                                                 \n",
            " efficientnetb4 (Functional)  (None, 7, 7, 1792)       17673823  \n",
            "                                                                 \n",
            " global_average_pooling2d_5   (None, 1792)             0         \n",
            " (GlobalAveragePooling2D)                                        \n",
            "                                                                 \n",
            " flatten_5 (Flatten)         (None, 1792)              0         \n",
            "                                                                 \n",
            " dense_20 (Dense)            (None, 120)               215160    \n",
            "                                                                 \n",
            " dense_21 (Dense)            (None, 84)                10164     \n",
            "                                                                 \n",
            " dense_23 (Dense)            (None, 9)                 765       \n",
            "                                                                 \n",
            "=================================================================\n",
            "Total params: 17,899,912\n",
            "Trainable params: 17,774,705\n",
            "Non-trainable params: 125,207\n",
            "_________________________________________________________________\n",
            "None\n",
            "Epoch 1/20\n",
            "321/321 [==============================] - 102s 260ms/step - loss: 2.0996 - categorical_accuracy: 0.2082\n",
            "Epoch 2/20\n",
            "321/321 [==============================] - 84s 260ms/step - loss: 1.9697 - categorical_accuracy: 0.2658\n",
            "Epoch 3/20\n",
            "321/321 [==============================] - 81s 253ms/step - loss: 1.8513 - categorical_accuracy: 0.3109\n",
            "Epoch 4/20\n",
            "321/321 [==============================] - 81s 253ms/step - loss: 1.7582 - categorical_accuracy: 0.3596\n",
            "Epoch 5/20\n",
            "321/321 [==============================] - 81s 253ms/step - loss: 1.6562 - categorical_accuracy: 0.3898\n",
            "Epoch 6/20\n",
            "321/321 [==============================] - 81s 253ms/step - loss: 1.5652 - categorical_accuracy: 0.4235\n",
            "Epoch 7/20\n",
            "321/321 [==============================] - 85s 264ms/step - loss: 1.5051 - categorical_accuracy: 0.4456\n",
            "Epoch 8/20\n",
            "321/321 [==============================] - 84s 261ms/step - loss: 1.4043 - categorical_accuracy: 0.4855\n",
            "Epoch 9/20\n",
            "321/321 [==============================] - 84s 261ms/step - loss: 1.3472 - categorical_accuracy: 0.5099\n",
            "Epoch 10/20\n",
            "321/321 [==============================] - 84s 262ms/step - loss: 1.2679 - categorical_accuracy: 0.5425\n",
            "Epoch 11/20\n",
            "321/321 [==============================] - 84s 262ms/step - loss: 1.1805 - categorical_accuracy: 0.5747\n",
            "Epoch 12/20\n",
            "321/321 [==============================] - 84s 261ms/step - loss: 1.0808 - categorical_accuracy: 0.6096\n",
            "Epoch 13/20\n",
            "321/321 [==============================] - 84s 261ms/step - loss: 1.0083 - categorical_accuracy: 0.6428\n",
            "Epoch 14/20\n",
            "321/321 [==============================] - 84s 260ms/step - loss: 0.9308 - categorical_accuracy: 0.6720\n",
            "Epoch 15/20\n",
            "321/321 [==============================] - 84s 261ms/step - loss: 0.8513 - categorical_accuracy: 0.7059\n",
            "Epoch 16/20\n",
            "321/321 [==============================] - 84s 261ms/step - loss: 0.7909 - categorical_accuracy: 0.7201\n",
            "Epoch 17/20\n",
            "321/321 [==============================] - 81s 253ms/step - loss: 0.7126 - categorical_accuracy: 0.7443\n",
            "Epoch 18/20\n",
            "321/321 [==============================] - 84s 261ms/step - loss: 0.6555 - categorical_accuracy: 0.7720\n",
            "Epoch 19/20\n",
            "321/321 [==============================] - 84s 261ms/step - loss: 0.6215 - categorical_accuracy: 0.7764\n",
            "Epoch 20/20\n",
            "321/321 [==============================] - 84s 261ms/step - loss: 0.5331 - categorical_accuracy: 0.8176\n",
            "***Performance on Training data***\n",
            "Accuracy  : 0.8176149725914001\n",
            "======================================*\n",
            "6/6 [==============================] - 3s 62ms/step\n",
            "***Performance on Validation data***\n",
            "Accuracy  : 0.35664335664335667\n",
            "Precision : 0.36389803301838636\n",
            "f1Score : 0.34953801854254346\n",
            "[[ 3  0  0  0  1  0  5  1  4]\n",
            " [ 0  4  1  0  1  0  0  1  0]\n",
            " [ 0  0  7  1  0  1  1  0  1]\n",
            " [ 3  1  0  2  0  0  0  3  0]\n",
            " [ 2  0  1  0 10  0  5  3  2]\n",
            " [ 2  0  1  0  1  1  3  0  0]\n",
            " [ 1  3  3  3  3  0  8  5  3]\n",
            " [ 1  2  1  2  5  0  0  9  2]\n",
            " [ 2  3  1  3  4  0  0  0  7]]\n",
            "\n",
            " Results for fold 4\n",
            "\n",
            " Folders Created ----->\n",
            "\n",
            " 625\n",
            "Initialised with 125 image(s) found.\n",
            "Output directory set to /content/drive/My Drive/Colab Notebooks/Images/Train/BLB/output."
          ]
        },
        {
          "output_type": "stream",
          "name": "stderr",
          "text": [
            "Processing <PIL.Image.Image image mode=RGB size=224x224 at 0x7F7D8B819310>: 100%|██████████| 625/625 [00:05<00:00, 115.32 Samples/s]\n"
          ]
        },
        {
          "output_type": "stream",
          "name": "stdout",
          "text": [
            "\n",
            " 320\n",
            "Initialised with 64 image(s) found.\n",
            "Output directory set to /content/drive/My Drive/Colab Notebooks/Images/Train/BPH/output."
          ]
        },
        {
          "output_type": "stream",
          "name": "stderr",
          "text": [
            "Processing <PIL.Image.Image image mode=RGB size=224x224 at 0x7F7DB00C4F90>: 100%|██████████| 320/320 [00:02<00:00, 114.05 Samples/s]\n"
          ]
        },
        {
          "output_type": "stream",
          "name": "stdout",
          "text": [
            "\n",
            " 500\n",
            "Initialised with 100 image(s) found.\n",
            "Output directory set to /content/drive/My Drive/Colab Notebooks/Images/Train/Brown_Spot/output."
          ]
        },
        {
          "output_type": "stream",
          "name": "stderr",
          "text": [
            "Processing <PIL.Image.Image image mode=RGB size=224x224 at 0x7F7CF84B7D50>: 100%|██████████| 500/500 [00:05<00:00, 94.84 Samples/s] \n"
          ]
        },
        {
          "output_type": "stream",
          "name": "stdout",
          "text": [
            "\n",
            " 415\n",
            "Initialised with 83 image(s) found.\n",
            "Output directory set to /content/drive/My Drive/Colab Notebooks/Images/Train/False_Smut/output."
          ]
        },
        {
          "output_type": "stream",
          "name": "stderr",
          "text": [
            "Processing <PIL.Image.Image image mode=RGB size=224x224 at 0x7F7E60188C90>: 100%|██████████| 415/415 [00:03<00:00, 112.99 Samples/s]\n"
          ]
        },
        {
          "output_type": "stream",
          "name": "stdout",
          "text": [
            "\n",
            " 1055\n",
            "Initialised with 211 image(s) found.\n",
            "Output directory set to /content/drive/My Drive/Colab Notebooks/Images/Train/Healthy_Plant/output."
          ]
        },
        {
          "output_type": "stream",
          "name": "stderr",
          "text": [
            "Processing <PIL.Image.Image image mode=RGB size=224x224 at 0x7F7D2AA80E90>: 100%|██████████| 1055/1055 [00:09<00:00, 112.84 Samples/s]\n"
          ]
        },
        {
          "output_type": "stream",
          "name": "stdout",
          "text": [
            "\n",
            " 330\n",
            "Initialised with 66 image(s) found.\n",
            "Output directory set to /content/drive/My Drive/Colab Notebooks/Images/Train/Hispa/output."
          ]
        },
        {
          "output_type": "stream",
          "name": "stderr",
          "text": [
            "Processing <PIL.Image.Image image mode=RGB size=224x224 at 0x7F7DB0EB4350>: 100%|██████████| 330/330 [00:02<00:00, 115.79 Samples/s]\n"
          ]
        },
        {
          "output_type": "stream",
          "name": "stdout",
          "text": [
            "\n",
            " 1285\n",
            "Initialised with 257 image(s) found.\n",
            "Output directory set to /content/drive/My Drive/Colab Notebooks/Images/Train/Neck_Blast/output."
          ]
        },
        {
          "output_type": "stream",
          "name": "stderr",
          "text": [
            "Processing <PIL.Image.Image image mode=RGB size=224x224 at 0x7F7CF8580210>: 100%|██████████| 1285/1285 [00:11<00:00, 111.85 Samples/s]\n"
          ]
        },
        {
          "output_type": "stream",
          "name": "stdout",
          "text": [
            "\n",
            " 985\n",
            "Initialised with 197 image(s) found.\n",
            "Output directory set to /content/drive/My Drive/Colab Notebooks/Images/Train/Sheath_Blight_Rot/output."
          ]
        },
        {
          "output_type": "stream",
          "name": "stderr",
          "text": [
            "Processing <PIL.Image.Image image mode=RGB size=224x224 at 0x7F7D2A64BD50>: 100%|██████████| 985/985 [00:08<00:00, 112.89 Samples/s]\n"
          ]
        },
        {
          "output_type": "stream",
          "name": "stdout",
          "text": [
            "\n",
            " 900\n",
            "Initialised with 180 image(s) found.\n",
            "Output directory set to /content/drive/My Drive/Colab Notebooks/Images/Train/Stemborer/output."
          ]
        },
        {
          "output_type": "stream",
          "name": "stderr",
          "text": [
            "Processing <PIL.Image.Image image mode=RGB size=224x224 at 0x7F7D8AA3DF10>: 100%|██████████| 900/900 [00:08<00:00, 111.75 Samples/s]\n"
          ]
        },
        {
          "output_type": "stream",
          "name": "stdout",
          "text": [
            "Before move -  750\n",
            "After move -  750\n",
            "Before move -  384\n",
            "After move -  384\n",
            "Before move -  600\n",
            "After move -  600\n",
            "Before move -  498\n",
            "After move -  498\n",
            "Before move -  1266\n",
            "After move -  1266\n",
            "Before move -  396\n",
            "After move -  396\n",
            "Before move -  1542\n",
            "After move -  1542\n",
            "Before move -  1182\n",
            "After move -  1182\n",
            "Before move -  1080\n",
            "After move -  1080\n",
            "Found 7698 images belonging to 9 classes.\n",
            "Train data length ======  7698\n",
            "Found 143 images belonging to 9 classes.\n",
            "Test data length ======  143\n",
            "EfficientNetB4\n",
            "Before Fine Tuning---->\n",
            "Model: \"model_6\"\n",
            "_________________________________________________________________\n",
            " Layer (type)                Output Shape              Param #   \n",
            "=================================================================\n",
            " inputLayer (InputLayer)     [(None, 224, 224, 3)]     0         \n",
            "                                                                 \n",
            " efficientnetb4 (Functional)  (None, 7, 7, 1792)       17673823  \n",
            "                                                                 \n",
            " global_average_pooling2d_6   (None, 1792)             0         \n",
            " (GlobalAveragePooling2D)                                        \n",
            "                                                                 \n",
            " flatten_6 (Flatten)         (None, 1792)              0         \n",
            "                                                                 \n",
            " dense_24 (Dense)            (None, 120)               215160    \n",
            "                                                                 \n",
            " dense_25 (Dense)            (None, 84)                10164     \n",
            "                                                                 \n",
            " dense_27 (Dense)            (None, 9)                 765       \n",
            "                                                                 \n",
            "=================================================================\n",
            "Total params: 17,899,912\n",
            "Trainable params: 17,774,705\n",
            "Non-trainable params: 125,207\n",
            "_________________________________________________________________\n",
            "None\n",
            "Epoch 1/20\n",
            "321/321 [==============================] - 102s 261ms/step - loss: 2.1038 - categorical_accuracy: 0.1929\n",
            "Epoch 2/20\n",
            "321/321 [==============================] - 84s 261ms/step - loss: 2.0169 - categorical_accuracy: 0.2397\n",
            "Epoch 3/20\n",
            "321/321 [==============================] - 84s 261ms/step - loss: 1.9034 - categorical_accuracy: 0.2889\n",
            "Epoch 4/20\n",
            "321/321 [==============================] - 84s 262ms/step - loss: 1.7571 - categorical_accuracy: 0.3340\n",
            "Epoch 5/20\n",
            "321/321 [==============================] - 84s 261ms/step - loss: 1.6440 - categorical_accuracy: 0.3914\n",
            "Epoch 6/20\n",
            "321/321 [==============================] - 84s 261ms/step - loss: 1.5542 - categorical_accuracy: 0.4286\n",
            "Epoch 7/20\n",
            "321/321 [==============================] - 84s 261ms/step - loss: 1.4750 - categorical_accuracy: 0.4571\n",
            "Epoch 8/20\n",
            "321/321 [==============================] - 84s 262ms/step - loss: 1.4028 - categorical_accuracy: 0.4810\n",
            "Epoch 9/20\n",
            "321/321 [==============================] - 84s 262ms/step - loss: 1.3161 - categorical_accuracy: 0.5227\n",
            "Epoch 10/20\n",
            "321/321 [==============================] - 84s 261ms/step - loss: 1.2312 - categorical_accuracy: 0.5505\n",
            "Epoch 11/20\n",
            "321/321 [==============================] - 83s 258ms/step - loss: 1.1543 - categorical_accuracy: 0.5811\n",
            "Epoch 12/20\n",
            "321/321 [==============================] - 85s 264ms/step - loss: 1.0749 - categorical_accuracy: 0.6164\n",
            "Epoch 13/20\n",
            "321/321 [==============================] - 84s 261ms/step - loss: 0.9821 - categorical_accuracy: 0.6468\n",
            "Epoch 14/20\n",
            "321/321 [==============================] - 84s 263ms/step - loss: 0.9182 - categorical_accuracy: 0.6742\n",
            "Epoch 15/20\n",
            "321/321 [==============================] - 84s 260ms/step - loss: 0.8538 - categorical_accuracy: 0.6976\n",
            "Epoch 16/20\n",
            "321/321 [==============================] - 84s 261ms/step - loss: 0.7782 - categorical_accuracy: 0.7295\n",
            "Epoch 17/20\n",
            "321/321 [==============================] - 84s 261ms/step - loss: 0.7223 - categorical_accuracy: 0.7477\n",
            "Epoch 18/20\n",
            "321/321 [==============================] - 84s 261ms/step - loss: 0.6465 - categorical_accuracy: 0.7732\n",
            "Epoch 19/20\n",
            "321/321 [==============================] - 84s 261ms/step - loss: 0.6016 - categorical_accuracy: 0.7886\n",
            "Epoch 20/20\n",
            "321/321 [==============================] - 84s 261ms/step - loss: 0.5448 - categorical_accuracy: 0.8133\n",
            "***Performance on Training data***\n",
            "Accuracy  : 0.8133281469345093\n",
            "======================================*\n",
            "6/6 [==============================] - 3s 64ms/step\n",
            "***Performance on Validation data***\n",
            "Accuracy  : 0.4405594405594406\n",
            "Precision : 0.4459126507157424\n",
            "f1Score : 0.4373632988586109\n",
            "[[ 4  0  0  0  0  0  3  2  4]\n",
            " [ 1  4  0  1  0  0  0  1  0]\n",
            " [ 0  0  5  0  0  0  3  1  2]\n",
            " [ 0  0  0  5  1  0  1  1  2]\n",
            " [ 2  1  1  3  7  1  4  3  1]\n",
            " [ 0  1  0  0  0  2  1  2  1]\n",
            " [ 3  0  1  0  2  1 18  4  0]\n",
            " [ 1  0  0  2  5  0  2  9  3]\n",
            " [ 1  1  0  2  4  0  3  1  9]]\n",
            "\n",
            " Results for fold 5\n",
            "\n",
            " Folders Created ----->\n",
            "\n",
            " 625\n",
            "Initialised with 125 image(s) found.\n",
            "Output directory set to /content/drive/My Drive/Colab Notebooks/Images/Train/BLB/output."
          ]
        },
        {
          "output_type": "stream",
          "name": "stderr",
          "text": [
            "Processing <PIL.Image.Image image mode=RGB size=224x224 at 0x7F799B533750>: 100%|██████████| 625/625 [00:05<00:00, 113.60 Samples/s]\n"
          ]
        },
        {
          "output_type": "stream",
          "name": "stdout",
          "text": [
            "\n",
            " 320\n",
            "Initialised with 64 image(s) found.\n",
            "Output directory set to /content/drive/My Drive/Colab Notebooks/Images/Train/BPH/output."
          ]
        },
        {
          "output_type": "stream",
          "name": "stderr",
          "text": [
            "Processing <PIL.Image.Image image mode=RGB size=224x224 at 0x7F799B52A490>: 100%|██████████| 320/320 [00:02<00:00, 116.50 Samples/s]\n"
          ]
        },
        {
          "output_type": "stream",
          "name": "stdout",
          "text": [
            "\n",
            " 495\n",
            "Initialised with 99 image(s) found.\n",
            "Output directory set to /content/drive/My Drive/Colab Notebooks/Images/Train/Brown_Spot/output."
          ]
        },
        {
          "output_type": "stream",
          "name": "stderr",
          "text": [
            "Processing <PIL.Image.Image image mode=RGB size=224x224 at 0x7F799B3727D0>: 100%|██████████| 495/495 [00:04<00:00, 115.25 Samples/s]\n"
          ]
        },
        {
          "output_type": "stream",
          "name": "stdout",
          "text": [
            "\n",
            " 415\n",
            "Initialised with 83 image(s) found.\n",
            "Output directory set to /content/drive/My Drive/Colab Notebooks/Images/Train/False_Smut/output."
          ]
        },
        {
          "output_type": "stream",
          "name": "stderr",
          "text": [
            "Processing <PIL.Image.Image image mode=RGB size=224x224 at 0x7F799B366BD0>: 100%|██████████| 415/415 [00:03<00:00, 115.88 Samples/s]\n"
          ]
        },
        {
          "output_type": "stream",
          "name": "stdout",
          "text": [
            "\n",
            " 1055\n",
            "Initialised with 211 image(s) found.\n",
            "Output directory set to /content/drive/My Drive/Colab Notebooks/Images/Train/Healthy_Plant/output."
          ]
        },
        {
          "output_type": "stream",
          "name": "stderr",
          "text": [
            "Processing <PIL.Image.Image image mode=RGB size=224x224 at 0x7F799AFA5250>: 100%|██████████| 1055/1055 [00:09<00:00, 116.02 Samples/s]\n"
          ]
        },
        {
          "output_type": "stream",
          "name": "stdout",
          "text": [
            "\n",
            " 330\n",
            "Initialised with 66 image(s) found.\n",
            "Output directory set to /content/drive/My Drive/Colab Notebooks/Images/Train/Hispa/output."
          ]
        },
        {
          "output_type": "stream",
          "name": "stderr",
          "text": [
            "Processing <PIL.Image.Image image mode=RGB size=224x224 at 0x7F799B18E190>: 100%|██████████| 330/330 [00:02<00:00, 116.13 Samples/s]\n"
          ]
        },
        {
          "output_type": "stream",
          "name": "stdout",
          "text": [
            "\n",
            " 1285\n",
            "Initialised with 257 image(s) found.\n",
            "Output directory set to /content/drive/My Drive/Colab Notebooks/Images/Train/Neck_Blast/output."
          ]
        },
        {
          "output_type": "stream",
          "name": "stderr",
          "text": [
            "Processing <PIL.Image.Image image mode=RGB size=224x224 at 0x7F799B426910>: 100%|██████████| 1285/1285 [00:11<00:00, 114.46 Samples/s]\n"
          ]
        },
        {
          "output_type": "stream",
          "name": "stdout",
          "text": [
            "\n",
            " 985\n",
            "Initialised with 197 image(s) found.\n",
            "Output directory set to /content/drive/My Drive/Colab Notebooks/Images/Train/Sheath_Blight_Rot/output."
          ]
        },
        {
          "output_type": "stream",
          "name": "stderr",
          "text": [
            "Processing <PIL.Image.Image image mode=RGB size=224x224 at 0x7F7D2AA1A650>: 100%|██████████| 985/985 [00:09<00:00, 105.72 Samples/s]\n"
          ]
        },
        {
          "output_type": "stream",
          "name": "stdout",
          "text": [
            "\n",
            " 905\n",
            "Initialised with 181 image(s) found.\n",
            "Output directory set to /content/drive/My Drive/Colab Notebooks/Images/Train/Stemborer/output."
          ]
        },
        {
          "output_type": "stream",
          "name": "stderr",
          "text": [
            "Processing <PIL.Image.Image image mode=RGB size=224x224 at 0x7F7D2B076D10>: 100%|██████████| 905/905 [00:08<00:00, 112.80 Samples/s]\n"
          ]
        },
        {
          "output_type": "stream",
          "name": "stdout",
          "text": [
            "Before move -  750\n",
            "After move -  750\n",
            "Before move -  384\n",
            "After move -  384\n",
            "Before move -  594\n",
            "After move -  594\n",
            "Before move -  498\n",
            "After move -  498\n",
            "Before move -  1266\n",
            "After move -  1266\n",
            "Before move -  396\n",
            "After move -  396\n",
            "Before move -  1542\n",
            "After move -  1542\n",
            "Before move -  1182\n",
            "After move -  1182\n",
            "Before move -  1086\n",
            "After move -  1086\n",
            "Found 7698 images belonging to 9 classes.\n",
            "Train data length ======  7698\n",
            "Found 143 images belonging to 9 classes.\n",
            "Test data length ======  143\n",
            "EfficientNetB4\n",
            "Before Fine Tuning---->\n",
            "Model: \"model_7\"\n",
            "_________________________________________________________________\n",
            " Layer (type)                Output Shape              Param #   \n",
            "=================================================================\n",
            " inputLayer (InputLayer)     [(None, 224, 224, 3)]     0         \n",
            "                                                                 \n",
            " efficientnetb4 (Functional)  (None, 7, 7, 1792)       17673823  \n",
            "                                                                 \n",
            " global_average_pooling2d_7   (None, 1792)             0         \n",
            " (GlobalAveragePooling2D)                                        \n",
            "                                                                 \n",
            " flatten_7 (Flatten)         (None, 1792)              0         \n",
            "                                                                 \n",
            " dense_28 (Dense)            (None, 120)               215160    \n",
            "                                                                 \n",
            " dense_29 (Dense)            (None, 84)                10164     \n",
            "                                                                 \n",
            " dense_31 (Dense)            (None, 9)                 765       \n",
            "                                                                 \n",
            "=================================================================\n",
            "Total params: 17,899,912\n",
            "Trainable params: 17,774,705\n",
            "Non-trainable params: 125,207\n",
            "_________________________________________________________________\n",
            "None\n",
            "Epoch 1/20\n",
            "321/321 [==============================] - 101s 257ms/step - loss: 2.0835 - categorical_accuracy: 0.2143\n",
            "Epoch 2/20\n",
            "321/321 [==============================] - 83s 257ms/step - loss: 1.9328 - categorical_accuracy: 0.2796\n",
            "Epoch 3/20\n",
            "321/321 [==============================] - 84s 260ms/step - loss: 1.7956 - categorical_accuracy: 0.3266\n",
            "Epoch 4/20\n",
            "321/321 [==============================] - 82s 257ms/step - loss: 1.6685 - categorical_accuracy: 0.3758\n",
            "Epoch 5/20\n",
            "321/321 [==============================] - 82s 257ms/step - loss: 1.6026 - categorical_accuracy: 0.3937\n",
            "Epoch 6/20\n",
            "321/321 [==============================] - 83s 257ms/step - loss: 1.5333 - categorical_accuracy: 0.4252\n",
            "Epoch 7/20\n",
            "321/321 [==============================] - 82s 257ms/step - loss: 1.4482 - categorical_accuracy: 0.4578\n",
            "Epoch 8/20\n",
            "321/321 [==============================] - 82s 257ms/step - loss: 1.3615 - categorical_accuracy: 0.4964\n",
            "Epoch 9/20\n",
            "321/321 [==============================] - 82s 256ms/step - loss: 1.2824 - categorical_accuracy: 0.5291\n",
            "Epoch 10/20\n",
            "321/321 [==============================] - 83s 257ms/step - loss: 1.2081 - categorical_accuracy: 0.5648\n",
            "Epoch 11/20\n",
            "321/321 [==============================] - 82s 256ms/step - loss: 1.1296 - categorical_accuracy: 0.5915\n",
            "Epoch 12/20\n",
            "321/321 [==============================] - 83s 258ms/step - loss: 1.0540 - categorical_accuracy: 0.6222\n",
            "Epoch 13/20\n",
            "321/321 [==============================] - 82s 257ms/step - loss: 0.9632 - categorical_accuracy: 0.6550\n",
            "Epoch 14/20\n",
            "321/321 [==============================] - 83s 257ms/step - loss: 0.8861 - categorical_accuracy: 0.6836\n",
            "Epoch 15/20\n",
            "321/321 [==============================] - 82s 256ms/step - loss: 0.8027 - categorical_accuracy: 0.7142\n",
            "Epoch 16/20\n",
            "321/321 [==============================] - 84s 260ms/step - loss: 0.7383 - categorical_accuracy: 0.7429\n",
            "Epoch 17/20\n",
            "321/321 [==============================] - 82s 257ms/step - loss: 0.6900 - categorical_accuracy: 0.7614\n",
            "Epoch 18/20\n",
            "321/321 [==============================] - 82s 257ms/step - loss: 0.5936 - categorical_accuracy: 0.7942\n",
            "Epoch 19/20\n",
            "321/321 [==============================] - 83s 257ms/step - loss: 0.5466 - categorical_accuracy: 0.8076\n",
            "Epoch 20/20\n",
            "321/321 [==============================] - 82s 257ms/step - loss: 0.5004 - categorical_accuracy: 0.8268\n",
            "***Performance on Training data***\n",
            "Accuracy  : 0.8268381357192993\n",
            "======================================*\n",
            "6/6 [==============================] - 3s 64ms/step\n",
            "***Performance on Validation data***\n",
            "Accuracy  : 0.36363636363636365\n",
            "Precision : 0.36860880637104415\n",
            "f1Score : 0.35982806739590006\n",
            "[[ 7  0  0  2  0  0  2  2  0]\n",
            " [ 0  3  1  0  2  0  0  1  0]\n",
            " [ 0  0  5  0  0  0  3  2  2]\n",
            " [ 2  0  0  3  2  0  0  1  2]\n",
            " [ 1  1  0  3  7  0  4  3  4]\n",
            " [ 0  1  1  0  0  1  2  2  0]\n",
            " [ 2  0  2  3  3  0 11  4  4]\n",
            " [ 3  1  1  2  3  1  0 10  1]\n",
            " [ 0  1  2  0  5  0  5  2  5]]\n",
            "\n",
            " Results for fold 6\n",
            "\n",
            " Folders Created ----->\n",
            "\n",
            " 620\n",
            "Initialised with 124 image(s) found.\n",
            "Output directory set to /content/drive/My Drive/Colab Notebooks/Images/Train/BLB/output."
          ]
        },
        {
          "output_type": "stream",
          "name": "stderr",
          "text": [
            "Processing <PIL.Image.Image image mode=RGB size=224x224 at 0x7F799ABDC350>: 100%|██████████| 620/620 [00:05<00:00, 113.94 Samples/s]\n"
          ]
        },
        {
          "output_type": "stream",
          "name": "stdout",
          "text": [
            "\n",
            " 315\n",
            "Initialised with 63 image(s) found.\n",
            "Output directory set to /content/drive/My Drive/Colab Notebooks/Images/Train/BPH/output."
          ]
        },
        {
          "output_type": "stream",
          "name": "stderr",
          "text": [
            "Processing <PIL.Image.Image image mode=RGB size=224x224 at 0x7F799AA32A90>: 100%|██████████| 315/315 [00:03<00:00, 99.66 Samples/s] \n"
          ]
        },
        {
          "output_type": "stream",
          "name": "stdout",
          "text": [
            "\n",
            " 500\n",
            "Initialised with 100 image(s) found.\n",
            "Output directory set to /content/drive/My Drive/Colab Notebooks/Images/Train/Brown_Spot/output."
          ]
        },
        {
          "output_type": "stream",
          "name": "stderr",
          "text": [
            "Processing <PIL.Image.Image image mode=RGB size=224x224 at 0x7F799AA24F10>: 100%|██████████| 500/500 [00:04<00:00, 114.17 Samples/s]\n"
          ]
        },
        {
          "output_type": "stream",
          "name": "stdout",
          "text": [
            "\n",
            " 415\n",
            "Initialised with 83 image(s) found.\n",
            "Output directory set to /content/drive/My Drive/Colab Notebooks/Images/Train/False_Smut/output."
          ]
        },
        {
          "output_type": "stream",
          "name": "stderr",
          "text": [
            "Processing <PIL.Image.Image image mode=RGB size=224x224 at 0x7F799AB56790>: 100%|██████████| 415/415 [00:03<00:00, 119.12 Samples/s]\n"
          ]
        },
        {
          "output_type": "stream",
          "name": "stdout",
          "text": [
            "\n",
            " 1055\n",
            "Initialised with 211 image(s) found.\n",
            "Output directory set to /content/drive/My Drive/Colab Notebooks/Images/Train/Healthy_Plant/output."
          ]
        },
        {
          "output_type": "stream",
          "name": "stderr",
          "text": [
            "Processing <PIL.Image.Image image mode=RGB size=224x224 at 0x7F799AC0B9D0>: 100%|██████████| 1055/1055 [00:09<00:00, 115.01 Samples/s]\n"
          ]
        },
        {
          "output_type": "stream",
          "name": "stdout",
          "text": [
            "\n",
            " 330\n",
            "Initialised with 66 image(s) found.\n",
            "Output directory set to /content/drive/My Drive/Colab Notebooks/Images/Train/Hispa/output."
          ]
        },
        {
          "output_type": "stream",
          "name": "stderr",
          "text": [
            "Processing <PIL.Image.Image image mode=RGB size=224x224 at 0x7F799ABA1950>: 100%|██████████| 330/330 [00:02<00:00, 113.34 Samples/s]\n"
          ]
        },
        {
          "output_type": "stream",
          "name": "stdout",
          "text": [
            "\n",
            " 1290\n",
            "Initialised with 258 image(s) found.\n",
            "Output directory set to /content/drive/My Drive/Colab Notebooks/Images/Train/Neck_Blast/output."
          ]
        },
        {
          "output_type": "stream",
          "name": "stderr",
          "text": [
            "Processing <PIL.Image.Image image mode=RGB size=224x224 at 0x7F799A5B7510>: 100%|██████████| 1290/1290 [00:11<00:00, 113.23 Samples/s]\n"
          ]
        },
        {
          "output_type": "stream",
          "name": "stdout",
          "text": [
            "\n",
            " 985\n",
            "Initialised with 197 image(s) found.\n",
            "Output directory set to /content/drive/My Drive/Colab Notebooks/Images/Train/Sheath_Blight_Rot/output."
          ]
        },
        {
          "output_type": "stream",
          "name": "stderr",
          "text": [
            "Processing <PIL.Image.Image image mode=RGB size=224x224 at 0x7F799A6353D0>: 100%|██████████| 985/985 [00:08<00:00, 114.33 Samples/s]\n"
          ]
        },
        {
          "output_type": "stream",
          "name": "stdout",
          "text": [
            "\n",
            " 905\n",
            "Initialised with 181 image(s) found.\n",
            "Output directory set to /content/drive/My Drive/Colab Notebooks/Images/Train/Stemborer/output."
          ]
        },
        {
          "output_type": "stream",
          "name": "stderr",
          "text": [
            "Processing <PIL.Image.Image image mode=RGB size=224x224 at 0x7F799A658410>: 100%|██████████| 905/905 [00:08<00:00, 112.72 Samples/s]\n"
          ]
        },
        {
          "output_type": "stream",
          "name": "stdout",
          "text": [
            "Before move -  744\n",
            "After move -  744\n",
            "Before move -  378\n",
            "After move -  378\n",
            "Before move -  600\n",
            "After move -  600\n",
            "Before move -  498\n",
            "After move -  498\n",
            "Before move -  1266\n",
            "After move -  1266\n",
            "Before move -  396\n",
            "After move -  396\n",
            "Before move -  1548\n",
            "After move -  1548\n",
            "Before move -  1182\n",
            "After move -  1182\n",
            "Before move -  1086\n",
            "After move -  1086\n",
            "Found 7698 images belonging to 9 classes.\n",
            "Train data length ======  7698\n",
            "Found 143 images belonging to 9 classes.\n",
            "Test data length ======  143\n",
            "EfficientNetB4\n",
            "Before Fine Tuning---->\n",
            "Model: \"model_8\"\n",
            "_________________________________________________________________\n",
            " Layer (type)                Output Shape              Param #   \n",
            "=================================================================\n",
            " inputLayer (InputLayer)     [(None, 224, 224, 3)]     0         \n",
            "                                                                 \n",
            " efficientnetb4 (Functional)  (None, 7, 7, 1792)       17673823  \n",
            "                                                                 \n",
            " global_average_pooling2d_8   (None, 1792)             0         \n",
            " (GlobalAveragePooling2D)                                        \n",
            "                                                                 \n",
            " flatten_8 (Flatten)         (None, 1792)              0         \n",
            "                                                                 \n",
            " dense_32 (Dense)            (None, 120)               215160    \n",
            "                                                                 \n",
            " dense_33 (Dense)            (None, 84)                10164     \n",
            "                                                                 \n",
            " dense_35 (Dense)            (None, 9)                 765       \n",
            "                                                                 \n",
            "=================================================================\n",
            "Total params: 17,899,912\n",
            "Trainable params: 17,774,705\n",
            "Non-trainable params: 125,207\n",
            "_________________________________________________________________\n",
            "None\n",
            "Epoch 1/20\n",
            "321/321 [==============================] - 100s 256ms/step - loss: 2.1032 - categorical_accuracy: 0.1903\n",
            "Epoch 2/20\n",
            "321/321 [==============================] - 82s 256ms/step - loss: 1.9915 - categorical_accuracy: 0.2459\n",
            "Epoch 3/20\n",
            "321/321 [==============================] - 82s 256ms/step - loss: 1.8587 - categorical_accuracy: 0.2993\n",
            "Epoch 4/20\n",
            "321/321 [==============================] - 83s 257ms/step - loss: 1.7828 - categorical_accuracy: 0.3368\n",
            "Epoch 5/20\n",
            "321/321 [==============================] - 82s 256ms/step - loss: 1.7042 - categorical_accuracy: 0.3658\n",
            "Epoch 6/20\n",
            "321/321 [==============================] - 82s 256ms/step - loss: 1.6069 - categorical_accuracy: 0.4030\n",
            "Epoch 7/20\n",
            "321/321 [==============================] - 82s 256ms/step - loss: 1.5449 - categorical_accuracy: 0.4188\n",
            "Epoch 8/20\n",
            "321/321 [==============================] - 82s 257ms/step - loss: 1.4707 - categorical_accuracy: 0.4579\n",
            "Epoch 9/20\n",
            "321/321 [==============================] - 82s 256ms/step - loss: 1.3969 - categorical_accuracy: 0.4865\n",
            "Epoch 10/20\n",
            "321/321 [==============================] - 82s 257ms/step - loss: 1.3360 - categorical_accuracy: 0.5055\n",
            "Epoch 11/20\n",
            "321/321 [==============================] - 82s 256ms/step - loss: 1.2601 - categorical_accuracy: 0.5387\n",
            "Epoch 12/20\n",
            "321/321 [==============================] - 83s 259ms/step - loss: 1.1720 - categorical_accuracy: 0.5712\n",
            "Epoch 13/20\n",
            "321/321 [==============================] - 82s 257ms/step - loss: 1.1007 - categorical_accuracy: 0.5989\n",
            "Epoch 14/20\n",
            "321/321 [==============================] - 82s 256ms/step - loss: 1.0108 - categorical_accuracy: 0.6372\n",
            "Epoch 15/20\n",
            "321/321 [==============================] - 82s 256ms/step - loss: 0.9375 - categorical_accuracy: 0.6707\n",
            "Epoch 16/20\n",
            "321/321 [==============================] - 82s 256ms/step - loss: 0.8605 - categorical_accuracy: 0.6980\n",
            "Epoch 17/20\n",
            "321/321 [==============================] - 82s 256ms/step - loss: 0.7929 - categorical_accuracy: 0.7215\n",
            "Epoch 18/20\n",
            "321/321 [==============================] - 82s 256ms/step - loss: 0.7212 - categorical_accuracy: 0.7441\n",
            "Epoch 19/20\n",
            "321/321 [==============================] - 82s 256ms/step - loss: 0.6324 - categorical_accuracy: 0.7772\n",
            "Epoch 20/20\n",
            "321/321 [==============================] - 82s 255ms/step - loss: 0.5910 - categorical_accuracy: 0.7949\n",
            "***Performance on Training data***\n",
            "Accuracy  : 0.7948817610740662\n",
            "======================================*\n",
            "6/6 [==============================] - 4s 61ms/step\n",
            "***Performance on Validation data***\n",
            "Accuracy  : 0.3076923076923077\n",
            "Precision : 0.2995283853675462\n",
            "f1Score : 0.2878139788116222\n",
            "[[ 3  0  0  1  0  0  6  3  1]\n",
            " [ 0  3  0  0  2  1  1  1  0]\n",
            " [ 0  0  3  0  1  0  3  1  3]\n",
            " [ 2  1  0  1  1  0  2  2  1]\n",
            " [ 2  1  3  0  2  1  4  7  3]\n",
            " [ 0  0  0  0  0  1  2  1  3]\n",
            " [ 2  0  2  2  0  2 14  4  2]\n",
            " [ 2  1  0  1  1  2  0 10  5]\n",
            " [ 0  2  0  0  0  0  7  4  7]]\n",
            "\n",
            " Results for fold 7\n",
            "\n",
            " Folders Created ----->\n",
            "\n",
            " 620\n",
            "Initialised with 124 image(s) found.\n",
            "Output directory set to /content/drive/My Drive/Colab Notebooks/Images/Train/BLB/output."
          ]
        },
        {
          "output_type": "stream",
          "name": "stderr",
          "text": [
            "Processing <PIL.Image.Image image mode=RGB size=224x224 at 0x7F7DB05B3890>: 100%|██████████| 620/620 [00:05<00:00, 117.42 Samples/s]\n"
          ]
        },
        {
          "output_type": "stream",
          "name": "stdout",
          "text": [
            "\n",
            " 320\n",
            "Initialised with 64 image(s) found.\n",
            "Output directory set to /content/drive/My Drive/Colab Notebooks/Images/Train/BPH/output."
          ]
        },
        {
          "output_type": "stream",
          "name": "stderr",
          "text": [
            "Processing <PIL.Image.Image image mode=RGB size=224x224 at 0x7F7D2B94F590>: 100%|██████████| 320/320 [00:02<00:00, 117.50 Samples/s]\n"
          ]
        },
        {
          "output_type": "stream",
          "name": "stdout",
          "text": [
            "\n",
            " 500\n",
            "Initialised with 100 image(s) found.\n",
            "Output directory set to /content/drive/My Drive/Colab Notebooks/Images/Train/Brown_Spot/output."
          ]
        },
        {
          "output_type": "stream",
          "name": "stderr",
          "text": [
            "Processing <PIL.Image.Image image mode=RGB size=224x224 at 0x7F799B4FDAD0>: 100%|██████████| 500/500 [00:04<00:00, 116.37 Samples/s]\n"
          ]
        },
        {
          "output_type": "stream",
          "name": "stdout",
          "text": [
            "\n",
            " 420\n",
            "Initialised with 84 image(s) found.\n",
            "Output directory set to /content/drive/My Drive/Colab Notebooks/Images/Train/False_Smut/output."
          ]
        },
        {
          "output_type": "stream",
          "name": "stderr",
          "text": [
            "Processing <PIL.Image.Image image mode=RGB size=224x224 at 0x7F799AC78990>: 100%|██████████| 420/420 [00:03<00:00, 118.20 Samples/s]\n"
          ]
        },
        {
          "output_type": "stream",
          "name": "stdout",
          "text": [
            "\n",
            " 1050\n",
            "Initialised with 210 image(s) found.\n",
            "Output directory set to /content/drive/My Drive/Colab Notebooks/Images/Train/Healthy_Plant/output."
          ]
        },
        {
          "output_type": "stream",
          "name": "stderr",
          "text": [
            "Processing <PIL.Image.Image image mode=RGB size=224x224 at 0x7F7DB0A54DD0>: 100%|██████████| 1050/1050 [00:09<00:00, 113.13 Samples/s]\n"
          ]
        },
        {
          "output_type": "stream",
          "name": "stdout",
          "text": [
            "\n",
            " 330\n",
            "Initialised with 66 image(s) found.\n",
            "Output directory set to /content/drive/My Drive/Colab Notebooks/Images/Train/Hispa/output."
          ]
        },
        {
          "output_type": "stream",
          "name": "stderr",
          "text": [
            "Processing <PIL.Image.Image image mode=RGB size=224x224 at 0x7F7D2B793990>: 100%|██████████| 330/330 [00:02<00:00, 117.08 Samples/s]\n"
          ]
        },
        {
          "output_type": "stream",
          "name": "stdout",
          "text": [
            "\n",
            " 1290\n",
            "Initialised with 258 image(s) found.\n",
            "Output directory set to /content/drive/My Drive/Colab Notebooks/Images/Train/Neck_Blast/output."
          ]
        },
        {
          "output_type": "stream",
          "name": "stderr",
          "text": [
            "Processing <PIL.Image.Image image mode=RGB size=224x224 at 0x7F7E601FE690>: 100%|██████████| 1290/1290 [00:11<00:00, 117.14 Samples/s]\n"
          ]
        },
        {
          "output_type": "stream",
          "name": "stdout",
          "text": [
            "\n",
            " 985\n",
            "Initialised with 197 image(s) found.\n",
            "Output directory set to /content/drive/My Drive/Colab Notebooks/Images/Train/Sheath_Blight_Rot/output."
          ]
        },
        {
          "output_type": "stream",
          "name": "stderr",
          "text": [
            "Processing <PIL.Image.Image image mode=RGB size=224x224 at 0x7F7DB066A190>: 100%|██████████| 985/985 [00:08<00:00, 118.14 Samples/s]\n"
          ]
        },
        {
          "output_type": "stream",
          "name": "stdout",
          "text": [
            "\n",
            " 905\n",
            "Initialised with 181 image(s) found.\n",
            "Output directory set to /content/drive/My Drive/Colab Notebooks/Images/Train/Stemborer/output."
          ]
        },
        {
          "output_type": "stream",
          "name": "stderr",
          "text": [
            "Processing <PIL.Image.Image image mode=RGB size=224x224 at 0x7F799C3EF910>: 100%|██████████| 905/905 [00:07<00:00, 117.37 Samples/s]\n"
          ]
        },
        {
          "output_type": "stream",
          "name": "stdout",
          "text": [
            "Before move -  744\n",
            "After move -  744\n",
            "Before move -  384\n",
            "After move -  384\n",
            "Before move -  600\n",
            "After move -  600\n",
            "Before move -  504\n",
            "After move -  504\n",
            "Before move -  1260\n",
            "After move -  1260\n",
            "Before move -  396\n",
            "After move -  396\n",
            "Before move -  1548\n",
            "After move -  1548\n",
            "Before move -  1182\n",
            "After move -  1182\n",
            "Before move -  1086\n",
            "After move -  1086\n",
            "Found 7704 images belonging to 9 classes.\n",
            "Train data length ======  7704\n",
            "Found 142 images belonging to 9 classes.\n",
            "Test data length ======  142\n",
            "EfficientNetB4\n",
            "Before Fine Tuning---->\n",
            "Model: \"model_9\"\n",
            "_________________________________________________________________\n",
            " Layer (type)                Output Shape              Param #   \n",
            "=================================================================\n",
            " inputLayer (InputLayer)     [(None, 224, 224, 3)]     0         \n",
            "                                                                 \n",
            " efficientnetb4 (Functional)  (None, 7, 7, 1792)       17673823  \n",
            "                                                                 \n",
            " global_average_pooling2d_9   (None, 1792)             0         \n",
            " (GlobalAveragePooling2D)                                        \n",
            "                                                                 \n",
            " flatten_9 (Flatten)         (None, 1792)              0         \n",
            "                                                                 \n",
            " dense_36 (Dense)            (None, 120)               215160    \n",
            "                                                                 \n",
            " dense_37 (Dense)            (None, 84)                10164     \n",
            "                                                                 \n",
            " dense_39 (Dense)            (None, 9)                 765       \n",
            "                                                                 \n",
            "=================================================================\n",
            "Total params: 17,899,912\n",
            "Trainable params: 17,774,705\n",
            "Non-trainable params: 125,207\n",
            "_________________________________________________________________\n",
            "None\n",
            "Epoch 1/20\n",
            "321/321 [==============================] - 100s 258ms/step - loss: 2.1105 - categorical_accuracy: 0.1992\n",
            "Epoch 2/20\n",
            "321/321 [==============================] - 83s 257ms/step - loss: 2.0214 - categorical_accuracy: 0.2440\n",
            "Epoch 3/20\n",
            "321/321 [==============================] - 83s 258ms/step - loss: 1.9225 - categorical_accuracy: 0.2880\n",
            "Epoch 4/20\n",
            "321/321 [==============================] - 83s 258ms/step - loss: 1.7994 - categorical_accuracy: 0.3318\n",
            "Epoch 5/20\n",
            "321/321 [==============================] - 83s 257ms/step - loss: 1.6895 - categorical_accuracy: 0.3767\n",
            "Epoch 6/20\n",
            "321/321 [==============================] - 83s 259ms/step - loss: 1.5985 - categorical_accuracy: 0.4112\n",
            "Epoch 7/20\n",
            "321/321 [==============================] - 83s 258ms/step - loss: 1.5086 - categorical_accuracy: 0.4512\n",
            "Epoch 8/20\n",
            "321/321 [==============================] - 83s 258ms/step - loss: 1.4418 - categorical_accuracy: 0.4805\n",
            "Epoch 9/20\n",
            "321/321 [==============================] - 83s 258ms/step - loss: 1.3530 - categorical_accuracy: 0.5110\n",
            "Epoch 10/20\n",
            "321/321 [==============================] - 83s 257ms/step - loss: 1.2822 - categorical_accuracy: 0.5391\n",
            "Epoch 11/20\n",
            "321/321 [==============================] - 83s 257ms/step - loss: 1.1940 - categorical_accuracy: 0.5672\n",
            "Epoch 12/20\n",
            "321/321 [==============================] - 83s 258ms/step - loss: 1.1120 - categorical_accuracy: 0.5954\n",
            "Epoch 13/20\n",
            "321/321 [==============================] - 83s 259ms/step - loss: 1.0367 - categorical_accuracy: 0.6367\n",
            "Epoch 14/20\n",
            "321/321 [==============================] - 83s 259ms/step - loss: 0.9417 - categorical_accuracy: 0.6621\n",
            "Epoch 15/20\n",
            "321/321 [==============================] - 83s 258ms/step - loss: 0.8824 - categorical_accuracy: 0.6855\n",
            "Epoch 16/20\n",
            "321/321 [==============================] - 83s 258ms/step - loss: 0.8301 - categorical_accuracy: 0.7047\n",
            "Epoch 17/20\n",
            "321/321 [==============================] - 83s 258ms/step - loss: 0.7628 - categorical_accuracy: 0.7361\n",
            "Epoch 18/20\n",
            "321/321 [==============================] - 83s 258ms/step - loss: 0.7049 - categorical_accuracy: 0.7560\n",
            "Epoch 19/20\n",
            "321/321 [==============================] - 83s 259ms/step - loss: 0.6145 - categorical_accuracy: 0.7914\n",
            "Epoch 20/20\n",
            "321/321 [==============================] - 83s 258ms/step - loss: 0.5735 - categorical_accuracy: 0.8037\n",
            "***Performance on Training data***\n",
            "Accuracy  : 0.8037382960319519\n",
            "======================================*\n",
            "6/6 [==============================] - 3s 129ms/step\n",
            "***Performance on Validation data***\n",
            "Accuracy  : 0.2887323943661972\n",
            "Precision : 0.31616702890530995\n",
            "f1Score : 0.2844948036174628\n",
            "[[4 0 0 0 3 0 3 3 1]\n",
            " [0 2 0 0 1 0 0 4 0]\n",
            " [2 0 5 0 1 0 0 1 2]\n",
            " [0 0 0 3 0 0 3 1 2]\n",
            " [0 1 0 2 7 0 8 5 1]\n",
            " [2 0 1 1 0 1 0 2 0]\n",
            " [1 0 5 3 6 0 5 3 5]\n",
            " [4 1 0 1 3 0 2 9 2]\n",
            " [1 2 2 0 2 0 5 3 5]]\n",
            "\n",
            " Results for fold 8\n",
            "\n",
            " Folders Created ----->\n",
            "\n",
            " 620\n",
            "Initialised with 124 image(s) found.\n",
            "Output directory set to /content/drive/My Drive/Colab Notebooks/Images/Train/BLB/output."
          ]
        },
        {
          "output_type": "stream",
          "name": "stderr",
          "text": [
            "Processing <PIL.Image.Image image mode=RGB size=224x224 at 0x7F7D8B4273D0>: 100%|██████████| 620/620 [00:05<00:00, 116.86 Samples/s]\n"
          ]
        },
        {
          "output_type": "stream",
          "name": "stdout",
          "text": [
            "\n",
            " 320\n",
            "Initialised with 64 image(s) found.\n",
            "Output directory set to /content/drive/My Drive/Colab Notebooks/Images/Train/BPH/output."
          ]
        },
        {
          "output_type": "stream",
          "name": "stderr",
          "text": [
            "Processing <PIL.Image.Image image mode=RGB size=224x224 at 0x7F7D8B208ED0>: 100%|██████████| 320/320 [00:02<00:00, 116.73 Samples/s]\n"
          ]
        },
        {
          "output_type": "stream",
          "name": "stdout",
          "text": [
            "\n",
            " 500\n",
            "Initialised with 100 image(s) found.\n",
            "Output directory set to /content/drive/My Drive/Colab Notebooks/Images/Train/Brown_Spot/output."
          ]
        },
        {
          "output_type": "stream",
          "name": "stderr",
          "text": [
            "Processing <PIL.Image.Image image mode=RGB size=224x224 at 0x7F7D8B430490>: 100%|██████████| 500/500 [00:04<00:00, 114.25 Samples/s]\n"
          ]
        },
        {
          "output_type": "stream",
          "name": "stdout",
          "text": [
            "\n",
            " 420\n",
            "Initialised with 84 image(s) found.\n",
            "Output directory set to /content/drive/My Drive/Colab Notebooks/Images/Train/False_Smut/output."
          ]
        },
        {
          "output_type": "stream",
          "name": "stderr",
          "text": [
            "Processing <PIL.Image.Image image mode=RGB size=224x224 at 0x7F7D8B41D410>: 100%|██████████| 420/420 [00:03<00:00, 114.61 Samples/s]\n"
          ]
        },
        {
          "output_type": "stream",
          "name": "stdout",
          "text": [
            "\n",
            " 1050\n",
            "Initialised with 210 image(s) found.\n",
            "Output directory set to /content/drive/My Drive/Colab Notebooks/Images/Train/Healthy_Plant/output."
          ]
        },
        {
          "output_type": "stream",
          "name": "stderr",
          "text": [
            "Processing <PIL.Image.Image image mode=RGB size=224x224 at 0x7F799C886450>: 100%|██████████| 1050/1050 [00:09<00:00, 109.26 Samples/s]\n"
          ]
        },
        {
          "output_type": "stream",
          "name": "stdout",
          "text": [
            "\n",
            " 330\n",
            "Initialised with 66 image(s) found.\n",
            "Output directory set to /content/drive/My Drive/Colab Notebooks/Images/Train/Hispa/output."
          ]
        },
        {
          "output_type": "stream",
          "name": "stderr",
          "text": [
            "Processing <PIL.Image.Image image mode=RGB size=224x224 at 0x7F7CF8440D90>: 100%|██████████| 330/330 [00:02<00:00, 117.81 Samples/s]\n"
          ]
        },
        {
          "output_type": "stream",
          "name": "stdout",
          "text": [
            "\n",
            " 1290\n",
            "Initialised with 258 image(s) found.\n",
            "Output directory set to /content/drive/My Drive/Colab Notebooks/Images/Train/Neck_Blast/output."
          ]
        },
        {
          "output_type": "stream",
          "name": "stderr",
          "text": [
            "Processing <PIL.Image.Image image mode=RGB size=224x224 at 0x7F7D8B41E750>: 100%|██████████| 1290/1290 [00:11<00:00, 116.03 Samples/s]\n"
          ]
        },
        {
          "output_type": "stream",
          "name": "stdout",
          "text": [
            "\n",
            " 985\n",
            "Initialised with 197 image(s) found.\n",
            "Output directory set to /content/drive/My Drive/Colab Notebooks/Images/Train/Sheath_Blight_Rot/output."
          ]
        },
        {
          "output_type": "stream",
          "name": "stderr",
          "text": [
            "Processing <PIL.Image.Image image mode=RGB size=224x224 at 0x7F7DB045DE50>: 100%|██████████| 985/985 [00:08<00:00, 116.54 Samples/s]\n"
          ]
        },
        {
          "output_type": "stream",
          "name": "stdout",
          "text": [
            "\n",
            " 905\n",
            "Initialised with 181 image(s) found.\n",
            "Output directory set to /content/drive/My Drive/Colab Notebooks/Images/Train/Stemborer/output."
          ]
        },
        {
          "output_type": "stream",
          "name": "stderr",
          "text": [
            "Processing <PIL.Image.Image image mode=RGB size=224x224 at 0x7F7D8B280650>: 100%|██████████| 905/905 [00:07<00:00, 115.72 Samples/s]\n"
          ]
        },
        {
          "output_type": "stream",
          "name": "stdout",
          "text": [
            "Before move -  744\n",
            "After move -  744\n",
            "Before move -  384\n",
            "After move -  384\n",
            "Before move -  600\n",
            "After move -  600\n",
            "Before move -  504\n",
            "After move -  504\n",
            "Before move -  1260\n",
            "After move -  1260\n",
            "Before move -  396\n",
            "After move -  396\n",
            "Before move -  1548\n",
            "After move -  1548\n",
            "Before move -  1182\n",
            "After move -  1182\n",
            "Before move -  1086\n",
            "After move -  1086\n",
            "Found 7704 images belonging to 9 classes.\n",
            "Train data length ======  7704\n",
            "Found 142 images belonging to 9 classes.\n",
            "Test data length ======  142\n",
            "EfficientNetB4\n",
            "Before Fine Tuning---->\n",
            "Model: \"model_10\"\n",
            "_________________________________________________________________\n",
            " Layer (type)                Output Shape              Param #   \n",
            "=================================================================\n",
            " inputLayer (InputLayer)     [(None, 224, 224, 3)]     0         \n",
            "                                                                 \n",
            " efficientnetb4 (Functional)  (None, 7, 7, 1792)       17673823  \n",
            "                                                                 \n",
            " global_average_pooling2d_10  (None, 1792)             0         \n",
            "  (GlobalAveragePooling2D)                                       \n",
            "                                                                 \n",
            " flatten_10 (Flatten)        (None, 1792)              0         \n",
            "                                                                 \n",
            " dense_40 (Dense)            (None, 120)               215160    \n",
            "                                                                 \n",
            " dense_41 (Dense)            (None, 84)                10164     \n",
            "                                                                 \n",
            " dense_43 (Dense)            (None, 9)                 765       \n",
            "                                                                 \n",
            "=================================================================\n",
            "Total params: 17,899,912\n",
            "Trainable params: 17,774,705\n",
            "Non-trainable params: 125,207\n",
            "_________________________________________________________________\n",
            "None\n",
            "Epoch 1/20\n",
            "321/321 [==============================] - 99s 254ms/step - loss: 2.1057 - categorical_accuracy: 0.2007\n",
            "Epoch 2/20\n",
            "321/321 [==============================] - 81s 253ms/step - loss: 2.0006 - categorical_accuracy: 0.2468\n",
            "Epoch 3/20\n",
            "321/321 [==============================] - 81s 253ms/step - loss: 1.9254 - categorical_accuracy: 0.2886\n",
            "Epoch 4/20\n",
            "321/321 [==============================] - 81s 251ms/step - loss: 1.8543 - categorical_accuracy: 0.3092\n",
            "Epoch 5/20\n",
            "321/321 [==============================] - 81s 252ms/step - loss: 1.7414 - categorical_accuracy: 0.3557\n",
            "Epoch 6/20\n",
            "321/321 [==============================] - 81s 252ms/step - loss: 1.6239 - categorical_accuracy: 0.3960\n",
            "Epoch 7/20\n",
            "321/321 [==============================] - 82s 254ms/step - loss: 1.5336 - categorical_accuracy: 0.4348\n",
            "Epoch 8/20\n",
            "321/321 [==============================] - 81s 254ms/step - loss: 1.4269 - categorical_accuracy: 0.4737\n",
            "Epoch 9/20\n",
            "321/321 [==============================] - 81s 252ms/step - loss: 1.3168 - categorical_accuracy: 0.5202\n",
            "Epoch 10/20\n",
            "321/321 [==============================] - 81s 252ms/step - loss: 1.2511 - categorical_accuracy: 0.5531\n",
            "Epoch 11/20\n",
            "321/321 [==============================] - 81s 252ms/step - loss: 1.1592 - categorical_accuracy: 0.5866\n",
            "Epoch 12/20\n",
            "321/321 [==============================] - 81s 252ms/step - loss: 1.0527 - categorical_accuracy: 0.6199\n",
            "Epoch 13/20\n",
            "321/321 [==============================] - 81s 253ms/step - loss: 0.9831 - categorical_accuracy: 0.6521\n",
            "Epoch 14/20\n",
            "321/321 [==============================] - 81s 252ms/step - loss: 0.9189 - categorical_accuracy: 0.6680\n",
            "Epoch 15/20\n",
            "321/321 [==============================] - 81s 253ms/step - loss: 0.8575 - categorical_accuracy: 0.6917\n",
            "Epoch 16/20\n",
            "321/321 [==============================] - 81s 252ms/step - loss: 0.8107 - categorical_accuracy: 0.7113\n",
            "Epoch 17/20\n",
            "321/321 [==============================] - 81s 253ms/step - loss: 0.7289 - categorical_accuracy: 0.7461\n",
            "Epoch 18/20\n",
            "321/321 [==============================] - 82s 254ms/step - loss: 0.6601 - categorical_accuracy: 0.7661\n",
            "Epoch 19/20\n",
            "321/321 [==============================] - 82s 254ms/step - loss: 0.6054 - categorical_accuracy: 0.7835\n",
            "Epoch 20/20\n",
            "321/321 [==============================] - 81s 254ms/step - loss: 0.5581 - categorical_accuracy: 0.8046\n",
            "***Performance on Training data***\n",
            "Accuracy  : 0.804646909236908\n",
            "======================================*\n",
            "6/6 [==============================] - 3s 59ms/step\n",
            "***Performance on Validation data***\n",
            "Accuracy  : 0.4014084507042254\n",
            "Precision : 0.4055862237589444\n",
            "f1Score : 0.4014129822327998\n",
            "[[ 4  0  0  2  3  0  1  1  3]\n",
            " [ 0  1  0  0  2  0  3  0  1]\n",
            " [ 0  0  7  0  0  1  1  1  1]\n",
            " [ 1  0  0  1  1  0  1  3  2]\n",
            " [ 1  0  1  3 13  1  2  1  2]\n",
            " [ 0  0  1  0  0  3  1  1  1]\n",
            " [ 1  0  3  2  2  1 12  2  5]\n",
            " [ 3  3  0  1  2  0  0  9  4]\n",
            " [ 1  1  0  1  2  0  7  1  7]]\n",
            "\n",
            " Results for fold 9\n",
            "\n",
            " Folders Created ----->\n",
            "\n",
            " 620\n",
            "Initialised with 124 image(s) found.\n",
            "Output directory set to /content/drive/My Drive/Colab Notebooks/Images/Train/BLB/output."
          ]
        },
        {
          "output_type": "stream",
          "name": "stderr",
          "text": [
            "Processing <PIL.Image.Image image mode=RGB size=224x224 at 0x7F7CF8A846D0>: 100%|██████████| 620/620 [00:05<00:00, 104.59 Samples/s]\n"
          ]
        },
        {
          "output_type": "stream",
          "name": "stdout",
          "text": [
            "\n",
            " 320\n",
            "Initialised with 64 image(s) found.\n",
            "Output directory set to /content/drive/My Drive/Colab Notebooks/Images/Train/BPH/output."
          ]
        },
        {
          "output_type": "stream",
          "name": "stderr",
          "text": [
            "Processing <PIL.Image.Image image mode=RGB size=224x224 at 0x7F799BE443D0>: 100%|██████████| 320/320 [00:02<00:00, 116.33 Samples/s]\n"
          ]
        },
        {
          "output_type": "stream",
          "name": "stdout",
          "text": [
            "\n",
            " 500\n",
            "Initialised with 100 image(s) found.\n",
            "Output directory set to /content/drive/My Drive/Colab Notebooks/Images/Train/Brown_Spot/output."
          ]
        },
        {
          "output_type": "stream",
          "name": "stderr",
          "text": [
            "Processing <PIL.Image.Image image mode=RGB size=224x224 at 0x7F799BEDE810>: 100%|██████████| 500/500 [00:04<00:00, 119.25 Samples/s]\n"
          ]
        },
        {
          "output_type": "stream",
          "name": "stdout",
          "text": [
            "\n",
            " 420\n",
            "Initialised with 84 image(s) found.\n",
            "Output directory set to /content/drive/My Drive/Colab Notebooks/Images/Train/False_Smut/output."
          ]
        },
        {
          "output_type": "stream",
          "name": "stderr",
          "text": [
            "Processing <PIL.Image.Image image mode=RGB size=224x224 at 0x7F799BEE2350>: 100%|██████████| 420/420 [00:03<00:00, 117.92 Samples/s]\n"
          ]
        },
        {
          "output_type": "stream",
          "name": "stdout",
          "text": [
            "\n",
            " 1050\n",
            "Initialised with 210 image(s) found.\n",
            "Output directory set to /content/drive/My Drive/Colab Notebooks/Images/Train/Healthy_Plant/output."
          ]
        },
        {
          "output_type": "stream",
          "name": "stderr",
          "text": [
            "Processing <PIL.Image.Image image mode=RGB size=224x224 at 0x7F799BD19DD0>: 100%|██████████| 1050/1050 [00:08<00:00, 119.70 Samples/s]\n"
          ]
        },
        {
          "output_type": "stream",
          "name": "stdout",
          "text": [
            "\n",
            " 330\n",
            "Initialised with 66 image(s) found.\n",
            "Output directory set to /content/drive/My Drive/Colab Notebooks/Images/Train/Hispa/output."
          ]
        },
        {
          "output_type": "stream",
          "name": "stderr",
          "text": [
            "Processing <PIL.Image.Image image mode=RGB size=224x224 at 0x7F7CF8ABCA10>: 100%|██████████| 330/330 [00:02<00:00, 117.75 Samples/s]\n"
          ]
        },
        {
          "output_type": "stream",
          "name": "stdout",
          "text": [
            "\n",
            " 1290\n",
            "Initialised with 258 image(s) found.\n",
            "Output directory set to /content/drive/My Drive/Colab Notebooks/Images/Train/Neck_Blast/output."
          ]
        },
        {
          "output_type": "stream",
          "name": "stderr",
          "text": [
            "Processing <PIL.Image.Image image mode=RGB size=224x224 at 0x7F799BE1C710>: 100%|██████████| 1290/1290 [00:11<00:00, 116.71 Samples/s]\n"
          ]
        },
        {
          "output_type": "stream",
          "name": "stdout",
          "text": [
            "\n",
            " 985\n",
            "Initialised with 197 image(s) found.\n",
            "Output directory set to /content/drive/My Drive/Colab Notebooks/Images/Train/Sheath_Blight_Rot/output."
          ]
        },
        {
          "output_type": "stream",
          "name": "stderr",
          "text": [
            "Processing <PIL.Image.Image image mode=RGB size=224x224 at 0x7F799BDBFA50>: 100%|██████████| 985/985 [00:08<00:00, 119.33 Samples/s]\n"
          ]
        },
        {
          "output_type": "stream",
          "name": "stdout",
          "text": [
            "\n",
            " 905\n",
            "Initialised with 181 image(s) found.\n",
            "Output directory set to /content/drive/My Drive/Colab Notebooks/Images/Train/Stemborer/output."
          ]
        },
        {
          "output_type": "stream",
          "name": "stderr",
          "text": [
            "Processing <PIL.Image.Image image mode=RGB size=224x224 at 0x7F799BE9B9D0>: 100%|██████████| 905/905 [00:07<00:00, 118.90 Samples/s]\n"
          ]
        },
        {
          "output_type": "stream",
          "name": "stdout",
          "text": [
            "Before move -  744\n",
            "After move -  744\n",
            "Before move -  384\n",
            "After move -  384\n",
            "Before move -  600\n",
            "After move -  600\n",
            "Before move -  504\n",
            "After move -  504\n",
            "Before move -  1260\n",
            "After move -  1260\n",
            "Before move -  396\n",
            "After move -  396\n",
            "Before move -  1548\n",
            "After move -  1548\n",
            "Before move -  1182\n",
            "After move -  1182\n",
            "Before move -  1086\n",
            "After move -  1086\n",
            "Found 7704 images belonging to 9 classes.\n",
            "Train data length ======  7704\n",
            "Found 142 images belonging to 9 classes.\n",
            "Test data length ======  142\n",
            "EfficientNetB4\n",
            "Before Fine Tuning---->\n",
            "Model: \"model_11\"\n",
            "_________________________________________________________________\n",
            " Layer (type)                Output Shape              Param #   \n",
            "=================================================================\n",
            " inputLayer (InputLayer)     [(None, 224, 224, 3)]     0         \n",
            "                                                                 \n",
            " efficientnetb4 (Functional)  (None, 7, 7, 1792)       17673823  \n",
            "                                                                 \n",
            " global_average_pooling2d_11  (None, 1792)             0         \n",
            "  (GlobalAveragePooling2D)                                       \n",
            "                                                                 \n",
            " flatten_11 (Flatten)        (None, 1792)              0         \n",
            "                                                                 \n",
            " dense_44 (Dense)            (None, 120)               215160    \n",
            "                                                                 \n",
            " dense_45 (Dense)            (None, 84)                10164     \n",
            "                                                                 \n",
            " dense_47 (Dense)            (None, 9)                 765       \n",
            "                                                                 \n",
            "=================================================================\n",
            "Total params: 17,899,912\n",
            "Trainable params: 17,774,705\n",
            "Non-trainable params: 125,207\n",
            "_________________________________________________________________\n",
            "None\n",
            "Epoch 1/20\n",
            "321/321 [==============================] - 101s 258ms/step - loss: 2.0894 - categorical_accuracy: 0.2015\n",
            "Epoch 2/20\n",
            "321/321 [==============================] - 82s 257ms/step - loss: 1.9927 - categorical_accuracy: 0.2412\n",
            "Epoch 3/20\n",
            "321/321 [==============================] - 82s 257ms/step - loss: 1.9016 - categorical_accuracy: 0.2722\n",
            "Epoch 4/20\n",
            "321/321 [==============================] - 83s 257ms/step - loss: 1.8180 - categorical_accuracy: 0.3127\n",
            "Epoch 5/20\n",
            "321/321 [==============================] - 83s 259ms/step - loss: 1.7113 - categorical_accuracy: 0.3586\n",
            "Epoch 6/20\n",
            "321/321 [==============================] - 82s 257ms/step - loss: 1.6097 - categorical_accuracy: 0.3999\n",
            "Epoch 7/20\n",
            "321/321 [==============================] - 82s 257ms/step - loss: 1.5268 - categorical_accuracy: 0.4325\n",
            "Epoch 8/20\n",
            "321/321 [==============================] - 82s 256ms/step - loss: 1.4526 - categorical_accuracy: 0.4774\n",
            "Epoch 9/20\n",
            "321/321 [==============================] - 82s 256ms/step - loss: 1.3800 - categorical_accuracy: 0.5060\n",
            "Epoch 10/20\n",
            "321/321 [==============================] - 82s 256ms/step - loss: 1.2930 - categorical_accuracy: 0.5366\n",
            "Epoch 11/20\n",
            "321/321 [==============================] - 83s 257ms/step - loss: 1.2037 - categorical_accuracy: 0.5689\n",
            "Epoch 12/20\n",
            "321/321 [==============================] - 82s 256ms/step - loss: 1.1216 - categorical_accuracy: 0.5994\n",
            "Epoch 13/20\n",
            "321/321 [==============================] - 82s 256ms/step - loss: 1.0483 - categorical_accuracy: 0.6214\n",
            "Epoch 14/20\n",
            "321/321 [==============================] - 84s 261ms/step - loss: 0.9693 - categorical_accuracy: 0.6549\n",
            "Epoch 15/20\n",
            "321/321 [==============================] - 82s 257ms/step - loss: 0.8941 - categorical_accuracy: 0.6864\n",
            "Epoch 16/20\n",
            "321/321 [==============================] - 82s 257ms/step - loss: 0.8227 - categorical_accuracy: 0.7095\n",
            "Epoch 17/20\n",
            "321/321 [==============================] - 83s 257ms/step - loss: 0.7584 - categorical_accuracy: 0.7339\n",
            "Epoch 18/20\n",
            "321/321 [==============================] - 85s 264ms/step - loss: 0.6805 - categorical_accuracy: 0.7657\n",
            "Epoch 19/20\n",
            "321/321 [==============================] - 83s 257ms/step - loss: 0.6274 - categorical_accuracy: 0.7822\n",
            "Epoch 20/20\n",
            "321/321 [==============================] - 82s 256ms/step - loss: 0.5803 - categorical_accuracy: 0.7945\n",
            "***Performance on Training data***\n",
            "Accuracy  : 0.7945223450660706\n",
            "======================================*\n",
            "6/6 [==============================] - 3s 61ms/step\n",
            "***Performance on Validation data***\n",
            "Accuracy  : 0.34507042253521125\n",
            "Precision : 0.33898502569677963\n",
            "f1Score : 0.33625457662017444\n",
            "[[ 2  0  1  0  2  0  2  4  3]\n",
            " [ 0  3  0  0  0  2  0  0  2]\n",
            " [ 0  0  8  0  0  0  1  1  1]\n",
            " [ 1  0  0  3  1  0  2  0  2]\n",
            " [ 0  1  1  3 11  0  4  4  0]\n",
            " [ 1  1  2  0  0  1  1  1  0]\n",
            " [ 3  2  2  2  4  0  8  4  3]\n",
            " [ 3  3  1  1  3  0  3  8  0]\n",
            " [ 2  1  2  0  2  0  5  3  5]]\n",
            "\n",
            " Results for fold 10\n",
            "\n",
            " Folders Created ----->\n",
            "\n",
            " 620\n",
            "Initialised with 124 image(s) found.\n",
            "Output directory set to /content/drive/My Drive/Colab Notebooks/Images/Train/BLB/output."
          ]
        },
        {
          "output_type": "stream",
          "name": "stderr",
          "text": [
            "Processing <PIL.Image.Image image mode=RGB size=224x224 at 0x7F799BAE2750>: 100%|██████████| 620/620 [00:05<00:00, 120.03 Samples/s]\n"
          ]
        },
        {
          "output_type": "stream",
          "name": "stdout",
          "text": [
            "\n",
            " 320\n",
            "Initialised with 64 image(s) found.\n",
            "Output directory set to /content/drive/My Drive/Colab Notebooks/Images/Train/BPH/output."
          ]
        },
        {
          "output_type": "stream",
          "name": "stderr",
          "text": [
            "Processing <PIL.Image.Image image mode=RGB size=224x224 at 0x7F799BB52890>: 100%|██████████| 320/320 [00:02<00:00, 123.02 Samples/s]\n"
          ]
        },
        {
          "output_type": "stream",
          "name": "stdout",
          "text": [
            "\n",
            " 500\n",
            "Initialised with 100 image(s) found.\n",
            "Output directory set to /content/drive/My Drive/Colab Notebooks/Images/Train/Brown_Spot/output."
          ]
        },
        {
          "output_type": "stream",
          "name": "stderr",
          "text": [
            "Processing <PIL.Image.Image image mode=RGB size=224x224 at 0x7F799B9F1850>: 100%|██████████| 500/500 [00:04<00:00, 119.91 Samples/s]\n"
          ]
        },
        {
          "output_type": "stream",
          "name": "stdout",
          "text": [
            "\n",
            " 420\n",
            "Initialised with 84 image(s) found.\n",
            "Output directory set to /content/drive/My Drive/Colab Notebooks/Images/Train/False_Smut/output."
          ]
        },
        {
          "output_type": "stream",
          "name": "stderr",
          "text": [
            "Processing <PIL.Image.Image image mode=RGB size=224x224 at 0x7F799BA07350>: 100%|██████████| 420/420 [00:03<00:00, 120.77 Samples/s]\n"
          ]
        },
        {
          "output_type": "stream",
          "name": "stdout",
          "text": [
            "\n",
            " 1050\n",
            "Initialised with 210 image(s) found.\n",
            "Output directory set to /content/drive/My Drive/Colab Notebooks/Images/Train/Healthy_Plant/output."
          ]
        },
        {
          "output_type": "stream",
          "name": "stderr",
          "text": [
            "Processing <PIL.Image.Image image mode=RGB size=224x224 at 0x7F799B9B0A50>: 100%|██████████| 1050/1050 [00:10<00:00, 102.94 Samples/s]\n"
          ]
        },
        {
          "output_type": "stream",
          "name": "stdout",
          "text": [
            "\n",
            " 330\n",
            "Initialised with 66 image(s) found.\n",
            "Output directory set to /content/drive/My Drive/Colab Notebooks/Images/Train/Hispa/output."
          ]
        },
        {
          "output_type": "stream",
          "name": "stderr",
          "text": [
            "Processing <PIL.Image.Image image mode=RGB size=224x224 at 0x7F799BA03A50>: 100%|██████████| 330/330 [00:02<00:00, 118.96 Samples/s]\n"
          ]
        },
        {
          "output_type": "stream",
          "name": "stdout",
          "text": [
            "\n",
            " 1285\n",
            "Initialised with 257 image(s) found.\n",
            "Output directory set to /content/drive/My Drive/Colab Notebooks/Images/Train/Neck_Blast/output."
          ]
        },
        {
          "output_type": "stream",
          "name": "stderr",
          "text": [
            "Processing <PIL.Image.Image image mode=RGB size=224x224 at 0x7F799A4AA3D0>: 100%|██████████| 1285/1285 [00:10<00:00, 120.04 Samples/s]\n"
          ]
        },
        {
          "output_type": "stream",
          "name": "stdout",
          "text": [
            "\n",
            " 990\n",
            "Initialised with 198 image(s) found.\n",
            "Output directory set to /content/drive/My Drive/Colab Notebooks/Images/Train/Sheath_Blight_Rot/output."
          ]
        },
        {
          "output_type": "stream",
          "name": "stderr",
          "text": [
            "Processing <PIL.Image.Image image mode=RGB size=224x224 at 0x7F799BB78B90>: 100%|██████████| 990/990 [00:08<00:00, 119.49 Samples/s]\n"
          ]
        },
        {
          "output_type": "stream",
          "name": "stdout",
          "text": [
            "\n",
            " 905\n",
            "Initialised with 181 image(s) found.\n",
            "Output directory set to /content/drive/My Drive/Colab Notebooks/Images/Train/Stemborer/output."
          ]
        },
        {
          "output_type": "stream",
          "name": "stderr",
          "text": [
            "Processing <PIL.Image.Image image mode=RGB size=224x224 at 0x7F799BACF210>: 100%|██████████| 905/905 [00:07<00:00, 120.32 Samples/s]\n"
          ]
        },
        {
          "output_type": "stream",
          "name": "stdout",
          "text": [
            "Before move -  744\n",
            "After move -  744\n",
            "Before move -  384\n",
            "After move -  384\n",
            "Before move -  600\n",
            "After move -  600\n",
            "Before move -  504\n",
            "After move -  504\n",
            "Before move -  1260\n",
            "After move -  1260\n",
            "Before move -  396\n",
            "After move -  396\n",
            "Before move -  1542\n",
            "After move -  1542\n",
            "Before move -  1188\n",
            "After move -  1188\n",
            "Before move -  1086\n",
            "After move -  1086\n",
            "Found 7704 images belonging to 9 classes.\n",
            "Train data length ======  7704\n",
            "Found 142 images belonging to 9 classes.\n",
            "Test data length ======  142\n",
            "EfficientNetB4\n",
            "Before Fine Tuning---->\n",
            "Model: \"model_12\"\n",
            "_________________________________________________________________\n",
            " Layer (type)                Output Shape              Param #   \n",
            "=================================================================\n",
            " inputLayer (InputLayer)     [(None, 224, 224, 3)]     0         \n",
            "                                                                 \n",
            " efficientnetb4 (Functional)  (None, 7, 7, 1792)       17673823  \n",
            "                                                                 \n",
            " global_average_pooling2d_12  (None, 1792)             0         \n",
            "  (GlobalAveragePooling2D)                                       \n",
            "                                                                 \n",
            " flatten_12 (Flatten)        (None, 1792)              0         \n",
            "                                                                 \n",
            " dense_48 (Dense)            (None, 120)               215160    \n",
            "                                                                 \n",
            " dense_49 (Dense)            (None, 84)                10164     \n",
            "                                                                 \n",
            " dense_51 (Dense)            (None, 9)                 765       \n",
            "                                                                 \n",
            "=================================================================\n",
            "Total params: 17,899,912\n",
            "Trainable params: 17,774,705\n",
            "Non-trainable params: 125,207\n",
            "_________________________________________________________________\n",
            "None\n",
            "Epoch 1/20\n",
            "321/321 [==============================] - 100s 257ms/step - loss: 2.0990 - categorical_accuracy: 0.2028\n",
            "Epoch 2/20\n",
            "321/321 [==============================] - 83s 257ms/step - loss: 1.9762 - categorical_accuracy: 0.2606\n",
            "Epoch 3/20\n",
            "321/321 [==============================] - 83s 258ms/step - loss: 1.8751 - categorical_accuracy: 0.2944\n",
            "Epoch 4/20\n",
            "321/321 [==============================] - 83s 257ms/step - loss: 1.7772 - categorical_accuracy: 0.3276\n",
            "Epoch 5/20\n",
            "321/321 [==============================] - 83s 257ms/step - loss: 1.6925 - categorical_accuracy: 0.3697\n",
            "Epoch 6/20\n",
            "321/321 [==============================] - 83s 258ms/step - loss: 1.6000 - categorical_accuracy: 0.4145\n",
            "Epoch 7/20\n",
            "321/321 [==============================] - 83s 258ms/step - loss: 1.5109 - categorical_accuracy: 0.4503\n",
            "Epoch 8/20\n",
            "321/321 [==============================] - 83s 258ms/step - loss: 1.4150 - categorical_accuracy: 0.4849\n",
            "Epoch 9/20\n",
            "321/321 [==============================] - 83s 258ms/step - loss: 1.3571 - categorical_accuracy: 0.5116\n",
            "Epoch 10/20\n",
            "321/321 [==============================] - 83s 258ms/step - loss: 1.2612 - categorical_accuracy: 0.5423\n",
            "Epoch 11/20\n",
            "321/321 [==============================] - 83s 257ms/step - loss: 1.1949 - categorical_accuracy: 0.5732\n",
            "Epoch 12/20\n",
            "321/321 [==============================] - 83s 258ms/step - loss: 1.1231 - categorical_accuracy: 0.6001\n",
            "Epoch 13/20\n",
            "321/321 [==============================] - 83s 259ms/step - loss: 1.0335 - categorical_accuracy: 0.6273\n",
            "Epoch 14/20\n",
            "321/321 [==============================] - 83s 258ms/step - loss: 0.9735 - categorical_accuracy: 0.6462\n",
            "Epoch 15/20\n",
            "321/321 [==============================] - 83s 258ms/step - loss: 0.9049 - categorical_accuracy: 0.6756\n",
            "Epoch 16/20\n",
            "321/321 [==============================] - 83s 258ms/step - loss: 0.8337 - categorical_accuracy: 0.7070\n",
            "Epoch 17/20\n",
            "321/321 [==============================] - 83s 258ms/step - loss: 0.7565 - categorical_accuracy: 0.7336\n",
            "Epoch 18/20\n",
            "321/321 [==============================] - 83s 258ms/step - loss: 0.6942 - categorical_accuracy: 0.7578\n",
            "Epoch 19/20\n",
            "321/321 [==============================] - 83s 257ms/step - loss: 0.6473 - categorical_accuracy: 0.7686\n",
            "Epoch 20/20\n",
            "321/321 [==============================] - 83s 258ms/step - loss: 0.5768 - categorical_accuracy: 0.7921\n",
            "***Performance on Training data***\n",
            "Accuracy  : 0.7920560836791992\n",
            "======================================*\n",
            "6/6 [==============================] - 3s 61ms/step\n",
            "***Performance on Validation data***\n",
            "Accuracy  : 0.30985915492957744\n",
            "Precision : 0.2999758763383993\n",
            "f1Score : 0.2995781809272635\n",
            "[[3 0 0 0 3 0 3 1 4]\n",
            " [0 0 0 1 1 3 1 0 1]\n",
            " [0 0 7 0 0 0 0 0 4]\n",
            " [1 0 0 3 0 0 0 3 2]\n",
            " [2 0 1 2 9 0 8 2 0]\n",
            " [1 0 3 0 0 1 0 1 1]\n",
            " [1 1 5 2 4 1 8 5 2]\n",
            " [2 1 3 1 3 1 0 7 3]\n",
            " [0 0 2 2 3 1 4 2 6]]\n",
            "[0.7753962278366089, 0.8209924697875977, 0.8176149725914001, 0.8133281469345093, 0.8268381357192993, 0.7948817610740662, 0.8037382960319519, 0.804646909236908, 0.7945223450660706, 0.7920560836791992]\n",
            "Train Summary=====>\n",
            "count    10.000000\n",
            "mean      0.804402\n",
            "std       0.015689\n",
            "min       0.775396\n",
            "25%       0.794612\n",
            "50%       0.804193\n",
            "75%       0.816543\n",
            "max       0.826838\n",
            "dtype: float64\n",
            "[0.3706293706293706, 0.3986013986013986, 0.35664335664335667, 0.4405594405594406, 0.36363636363636365, 0.3076923076923077, 0.2887323943661972, 0.4014084507042254, 0.34507042253521125, 0.30985915492957744]\n",
            "Validation Summary=====>\n",
            "count    10.000000\n",
            "mean      0.358283\n",
            "std       0.047557\n",
            "min       0.288732\n",
            "25%       0.318662\n",
            "50%       0.360140\n",
            "75%       0.391608\n",
            "max       0.440559\n",
            "dtype: float64\n",
            "End Model ->  EFFICIENTNETB4\n",
            "Started at = 00:02:25\n",
            "--- 301.36450724601747 minutes ---\n"
          ]
        }
      ],
      "source": [
        "# def runStratifiedKFold(model,conv_base, batchsize,epochsNo,nosplit, df_report , \n",
        "#                       createModel, modelId ,Is_TL,Is_SVM, Is_TL_Tune , Test_No,\n",
        "#                       TRAIN_PATH , TRAIN_PATH_NEW, CLASS_NAMES , image_factor ):\n",
        "\n",
        "batchsize = 24\n",
        "epochsNo = 20\n",
        "nosplit = 10\n",
        "\n",
        "image_factor = 5 #If >1 only then new Augumented Images will be created\n",
        "\n",
        "for Test_No in range(1,2):\n",
        "    df_report = runStratifiedKFold(model,conv_base, batchsize,epochsNo,nosplit, df_report, \n",
        "                                   createModel, modelId , Is_TL,Is_SVM, Is_TL_Tune, Test_No ,\n",
        "                                  TRAIN_PATH , TRAIN_PATH_NEW, CLASS_NAMES , image_factor )\n"
      ],
      "id": "57512044"
    },
    {
      "cell_type": "code",
      "execution_count": 78,
      "metadata": {
        "id": "7ITV3adl-oo7"
      },
      "outputs": [],
      "source": [
        ""
      ],
      "id": "7ITV3adl-oo7"
    },
    {
      "cell_type": "markdown",
      "metadata": {
        "id": "56edce43"
      },
      "source": [
        "### Run Model"
      ],
      "id": "56edce43"
    },
    {
      "cell_type": "code",
      "execution_count": 79,
      "metadata": {
        "id": "ZZl8JoQXMu22",
        "colab": {
          "base_uri": "https://localhost:8080/",
          "height": 214
        },
        "outputId": "b2adacc2-a2f3-45bc-a15e-7ef917c282b4"
      },
      "outputs": [
        {
          "output_type": "execute_result",
          "data": {
            "text/html": [
              "\n",
              "  <div id=\"df-2f0ed2f2-cb71-4709-9b64-1262661fdd51\">\n",
              "    <div class=\"colab-df-container\">\n",
              "      <div>\n",
              "<style scoped>\n",
              "    .dataframe tbody tr th:only-of-type {\n",
              "        vertical-align: middle;\n",
              "    }\n",
              "\n",
              "    .dataframe tbody tr th {\n",
              "        vertical-align: top;\n",
              "    }\n",
              "\n",
              "    .dataframe thead th {\n",
              "        text-align: right;\n",
              "    }\n",
              "</style>\n",
              "<table border=\"1\" class=\"dataframe\">\n",
              "  <thead>\n",
              "    <tr style=\"text-align: right;\">\n",
              "      <th></th>\n",
              "      <th>Model_Name</th>\n",
              "      <th>Test_No</th>\n",
              "      <th>Batch_Size</th>\n",
              "      <th>Epoch</th>\n",
              "      <th>Count</th>\n",
              "      <th>Train_Average</th>\n",
              "      <th>Val_Average</th>\n",
              "      <th>Val_Maximum</th>\n",
              "      <th>Val_Minimum</th>\n",
              "      <th>Val_StandardDev</th>\n",
              "      <th>Is_TL</th>\n",
              "      <th>Is_SVM</th>\n",
              "      <th>Is_TL_Tune</th>\n",
              "      <th>Train_History</th>\n",
              "      <th>Val_History</th>\n",
              "      <th>Train_Summary</th>\n",
              "      <th>Val_Summary</th>\n",
              "      <th>Total_params</th>\n",
              "      <th>Trainable_params</th>\n",
              "      <th>Non_trainable_params</th>\n",
              "      <th>Total_Records</th>\n",
              "      <th>Execution_Time</th>\n",
              "      <th>Precision</th>\n",
              "      <th>f1Score</th>\n",
              "      <th>No_Fold</th>\n",
              "      <th>Date_Time</th>\n",
              "    </tr>\n",
              "  </thead>\n",
              "  <tbody>\n",
              "    <tr>\n",
              "      <th>0</th>\n",
              "      <td>EFFICIENTNETB4</td>\n",
              "      <td>1</td>\n",
              "      <td>24</td>\n",
              "      <td>20</td>\n",
              "      <td>10.0</td>\n",
              "      <td>0.804402</td>\n",
              "      <td>0.358283</td>\n",
              "      <td>0.440559</td>\n",
              "      <td>0.288732</td>\n",
              "      <td>0.047557</td>\n",
              "      <td>False</td>\n",
              "      <td>False</td>\n",
              "      <td>False</td>\n",
              "      <td>[0.7753962278366089, 0.8209924697875977, 0.817...</td>\n",
              "      <td>[0.3706293706293706, 0.3986013986013986, 0.356...</td>\n",
              "      <td>count    10.000000\n",
              "mean      0.804402\n",
              "std     ...</td>\n",
              "      <td>count    10.000000\n",
              "mean      0.358283\n",
              "std     ...</td>\n",
              "      <td>17899912</td>\n",
              "      <td>17774705</td>\n",
              "      <td>125207</td>\n",
              "      <td>7846</td>\n",
              "      <td>301.364507</td>\n",
              "      <td>NaN</td>\n",
              "      <td>NaN</td>\n",
              "      <td>10</td>\n",
              "      <td>2022-02-17 00:02:25.579924</td>\n",
              "    </tr>\n",
              "  </tbody>\n",
              "</table>\n",
              "</div>\n",
              "      <button class=\"colab-df-convert\" onclick=\"convertToInteractive('df-2f0ed2f2-cb71-4709-9b64-1262661fdd51')\"\n",
              "              title=\"Convert this dataframe to an interactive table.\"\n",
              "              style=\"display:none;\">\n",
              "        \n",
              "  <svg xmlns=\"http://www.w3.org/2000/svg\" height=\"24px\"viewBox=\"0 0 24 24\"\n",
              "       width=\"24px\">\n",
              "    <path d=\"M0 0h24v24H0V0z\" fill=\"none\"/>\n",
              "    <path d=\"M18.56 5.44l.94 2.06.94-2.06 2.06-.94-2.06-.94-.94-2.06-.94 2.06-2.06.94zm-11 1L8.5 8.5l.94-2.06 2.06-.94-2.06-.94L8.5 2.5l-.94 2.06-2.06.94zm10 10l.94 2.06.94-2.06 2.06-.94-2.06-.94-.94-2.06-.94 2.06-2.06.94z\"/><path d=\"M17.41 7.96l-1.37-1.37c-.4-.4-.92-.59-1.43-.59-.52 0-1.04.2-1.43.59L10.3 9.45l-7.72 7.72c-.78.78-.78 2.05 0 2.83L4 21.41c.39.39.9.59 1.41.59.51 0 1.02-.2 1.41-.59l7.78-7.78 2.81-2.81c.8-.78.8-2.07 0-2.86zM5.41 20L4 18.59l7.72-7.72 1.47 1.35L5.41 20z\"/>\n",
              "  </svg>\n",
              "      </button>\n",
              "      \n",
              "  <style>\n",
              "    .colab-df-container {\n",
              "      display:flex;\n",
              "      flex-wrap:wrap;\n",
              "      gap: 12px;\n",
              "    }\n",
              "\n",
              "    .colab-df-convert {\n",
              "      background-color: #E8F0FE;\n",
              "      border: none;\n",
              "      border-radius: 50%;\n",
              "      cursor: pointer;\n",
              "      display: none;\n",
              "      fill: #1967D2;\n",
              "      height: 32px;\n",
              "      padding: 0 0 0 0;\n",
              "      width: 32px;\n",
              "    }\n",
              "\n",
              "    .colab-df-convert:hover {\n",
              "      background-color: #E2EBFA;\n",
              "      box-shadow: 0px 1px 2px rgba(60, 64, 67, 0.3), 0px 1px 3px 1px rgba(60, 64, 67, 0.15);\n",
              "      fill: #174EA6;\n",
              "    }\n",
              "\n",
              "    [theme=dark] .colab-df-convert {\n",
              "      background-color: #3B4455;\n",
              "      fill: #D2E3FC;\n",
              "    }\n",
              "\n",
              "    [theme=dark] .colab-df-convert:hover {\n",
              "      background-color: #434B5C;\n",
              "      box-shadow: 0px 1px 3px 1px rgba(0, 0, 0, 0.15);\n",
              "      filter: drop-shadow(0px 1px 2px rgba(0, 0, 0, 0.3));\n",
              "      fill: #FFFFFF;\n",
              "    }\n",
              "  </style>\n",
              "\n",
              "      <script>\n",
              "        const buttonEl =\n",
              "          document.querySelector('#df-2f0ed2f2-cb71-4709-9b64-1262661fdd51 button.colab-df-convert');\n",
              "        buttonEl.style.display =\n",
              "          google.colab.kernel.accessAllowed ? 'block' : 'none';\n",
              "\n",
              "        async function convertToInteractive(key) {\n",
              "          const element = document.querySelector('#df-2f0ed2f2-cb71-4709-9b64-1262661fdd51');\n",
              "          const dataTable =\n",
              "            await google.colab.kernel.invokeFunction('convertToInteractive',\n",
              "                                                     [key], {});\n",
              "          if (!dataTable) return;\n",
              "\n",
              "          const docLinkHtml = 'Like what you see? Visit the ' +\n",
              "            '<a target=\"_blank\" href=https://colab.research.google.com/notebooks/data_table.ipynb>data table notebook</a>'\n",
              "            + ' to learn more about interactive tables.';\n",
              "          element.innerHTML = '';\n",
              "          dataTable['output_type'] = 'display_data';\n",
              "          await google.colab.output.renderOutput(dataTable, element);\n",
              "          const docLink = document.createElement('div');\n",
              "          docLink.innerHTML = docLinkHtml;\n",
              "          element.appendChild(docLink);\n",
              "        }\n",
              "      </script>\n",
              "    </div>\n",
              "  </div>\n",
              "  "
            ],
            "text/plain": [
              "       Model_Name Test_No  ... No_Fold                  Date_Time\n",
              "0  EFFICIENTNETB4       1  ...      10 2022-02-17 00:02:25.579924\n",
              "\n",
              "[1 rows x 26 columns]"
            ]
          },
          "metadata": {},
          "execution_count": 79
        }
      ],
      "source": [
        "df_report"
      ],
      "id": "ZZl8JoQXMu22"
    },
    {
      "cell_type": "code",
      "execution_count": 80,
      "metadata": {
        "id": "qEwaHO8M3kSc",
        "colab": {
          "base_uri": "https://localhost:8080/",
          "height": 361
        },
        "outputId": "499e53d8-e0ad-40e2-876c-c1b439c016c5"
      },
      "outputs": [
        {
          "output_type": "display_data",
          "data": {
            "text/html": [
              "<table border=\"1\" class=\"dataframe\">\n",
              "  <thead>\n",
              "    <tr style=\"text-align: right;\">\n",
              "      <th></th>\n",
              "      <th>Model_Name</th>\n",
              "      <th>Test_No</th>\n",
              "      <th>Batch_Size</th>\n",
              "      <th>Epoch</th>\n",
              "      <th>Count</th>\n",
              "      <th>Train_Average</th>\n",
              "      <th>Val_Average</th>\n",
              "      <th>Val_Maximum</th>\n",
              "      <th>Val_Minimum</th>\n",
              "      <th>Val_StandardDev</th>\n",
              "      <th>Is_TL</th>\n",
              "      <th>Is_SVM</th>\n",
              "      <th>Is_TL_Tune</th>\n",
              "      <th>Train_History</th>\n",
              "      <th>Val_History</th>\n",
              "      <th>Train_Summary</th>\n",
              "      <th>Val_Summary</th>\n",
              "      <th>Total_params</th>\n",
              "      <th>Trainable_params</th>\n",
              "      <th>Non_trainable_params</th>\n",
              "      <th>Total_Records</th>\n",
              "      <th>Execution_Time</th>\n",
              "      <th>Precision</th>\n",
              "      <th>f1Score</th>\n",
              "      <th>No_Fold</th>\n",
              "      <th>Date_Time</th>\n",
              "    </tr>\n",
              "  </thead>\n",
              "  <tbody>\n",
              "    <tr>\n",
              "      <th>0</th>\n",
              "      <td>EFFICIENTNETB4</td>\n",
              "      <td>1</td>\n",
              "      <td>24</td>\n",
              "      <td>20</td>\n",
              "      <td>10.0</td>\n",
              "      <td>0.804402</td>\n",
              "      <td>0.358283</td>\n",
              "      <td>0.440559</td>\n",
              "      <td>0.288732</td>\n",
              "      <td>0.047557</td>\n",
              "      <td>False</td>\n",
              "      <td>False</td>\n",
              "      <td>False</td>\n",
              "      <td>[0.7753962278366089, 0.8209924697875977, 0.8176149725914001, 0.8133281469345093, 0.8268381357192993, 0.7948817610740662, 0.8037382960319519, 0.804646909236908, 0.7945223450660706, 0.7920560836791992]</td>\n",
              "      <td>[0.3706293706293706, 0.3986013986013986, 0.35664335664335667, 0.4405594405594406, 0.36363636363636365, 0.3076923076923077, 0.2887323943661972, 0.4014084507042254, 0.34507042253521125, 0.30985915492957744]</td>\n",
              "      <td>count    10.000000\n",
              "mean      0.804402\n",
              "std       0.015689\n",
              "min       0.775396\n",
              "25%       0.794612\n",
              "50%       0.804193\n",
              "75%       0.816543\n",
              "max       0.826838\n",
              "dtype: float64</td>\n",
              "      <td>count    10.000000\n",
              "mean      0.358283\n",
              "std       0.047557\n",
              "min       0.288732\n",
              "25%       0.318662\n",
              "50%       0.360140\n",
              "75%       0.391608\n",
              "max       0.440559\n",
              "dtype: float64</td>\n",
              "      <td>17899912</td>\n",
              "      <td>17774705</td>\n",
              "      <td>125207</td>\n",
              "      <td>7846</td>\n",
              "      <td>301.364507</td>\n",
              "      <td>NaN</td>\n",
              "      <td>NaN</td>\n",
              "      <td>10</td>\n",
              "      <td>2022-02-17 00:02:25.579924</td>\n",
              "    </tr>\n",
              "  </tbody>\n",
              "</table>"
            ],
            "text/plain": [
              "<IPython.core.display.HTML object>"
            ]
          },
          "metadata": {}
        }
      ],
      "source": [
        "from IPython.display import display, HTML\n",
        "display(HTML(df_report.to_html()))"
      ],
      "id": "qEwaHO8M3kSc"
    },
    {
      "cell_type": "code",
      "execution_count": 81,
      "metadata": {
        "id": "dqDNd0ZKv7dW",
        "colab": {
          "base_uri": "https://localhost:8080/"
        },
        "outputId": "6033da15-e66b-4045-cf5a-2e21c70ebbb1"
      },
      "outputs": [
        {
          "output_type": "stream",
          "name": "stdout",
          "text": [
            "Started Model ->  INPUTLAYER\n"
          ]
        }
      ],
      "source": [
        "print('Started Model -> ',model.layers[0].name.upper())"
      ],
      "id": "dqDNd0ZKv7dW"
    },
    {
      "cell_type": "code",
      "execution_count": 82,
      "metadata": {
        "id": "4f7b2acf",
        "colab": {
          "base_uri": "https://localhost:8080/"
        },
        "outputId": "c5d2ade6-4576-45c2-e4c7-398c94e2ac4d"
      },
      "outputs": [
        {
          "output_type": "stream",
          "name": "stdout",
          "text": [
            "Started Model ->  EFFICIENTNETB4\n"
          ]
        }
      ],
      "source": [
        "print('Started Model -> ',model.layers[1].name.upper())"
      ],
      "id": "4f7b2acf"
    },
    {
      "cell_type": "code",
      "execution_count": 83,
      "metadata": {
        "id": "d515026b",
        "colab": {
          "base_uri": "https://localhost:8080/",
          "height": 35
        },
        "outputId": "b5d2738d-6f32-4a37-9e79-8409f59a968c"
      },
      "outputs": [
        {
          "output_type": "execute_result",
          "data": {
            "application/vnd.google.colaboratory.intrinsic+json": {
              "type": "string"
            },
            "text/plain": [
              "'/content/drive/My Drive/Colab Notebooks/'"
            ]
          },
          "metadata": {},
          "execution_count": 83
        }
      ],
      "source": [
        "root_path"
      ],
      "id": "d515026b"
    },
    {
      "cell_type": "code",
      "execution_count": 84,
      "metadata": {
        "id": "b648c1fc",
        "colab": {
          "base_uri": "https://localhost:8080/",
          "height": 486
        },
        "outputId": "d9da6bc9-dfee-47e0-e8c1-98b7440693d5"
      },
      "outputs": [
        {
          "output_type": "stream",
          "name": "stdout",
          "text": [
            "(1, 7, 7, 1792)\n"
          ]
        },
        {
          "output_type": "display_data",
          "data": {
            "image/png": "[encoded data removed]",
            "text/plain": [
              "<Figure size 1152x576 with 32 Axes>"
            ]
          },
          "metadata": {}
        }
      ],
      "source": [
        "from matplotlib import pyplot\n",
        "import matplotlib.pyplot as plt\n",
        "from tensorflow.keras.applications.vgg16 import preprocess_input\n",
        "\n",
        "\n",
        "from tensorflow.keras.preprocessing import image\n",
        "import numpy as np\n",
        "#from tensorflow.keras.models import Sequential\n",
        "from tensorflow.keras.layers import *\n",
        "import pylab\n",
        "#model = VGG16(weights='imagenet', include_top=False)\n",
        "#model = MobileNetV2(weights='imagenet', include_top=False)\n",
        "\n",
        "if (is_local):\n",
        "    img_path = './R_D_Images/BLB1.jpeg'\n",
        "else:\n",
        "    img_path = root_path + '/R_D_Images/BLB1.jpeg'\n",
        "    \n",
        "\n",
        "img = image.load_img(img_path)\n",
        "Y = image.img_to_array(img)\n",
        "Y = np.expand_dims(Y, axis=0)\n",
        "Y = preprocess_input(Y)\n",
        "\n",
        "features = conv_base.predict(Y)\n",
        "\n",
        "print(features.shape)\n",
        "\n",
        "\n",
        "row = 4\n",
        "col = row * 2\n",
        "ix = 1\n",
        "pyplot.figure(figsize=(col * 2, row * 2))\n",
        "\n",
        "\n",
        "\n",
        "for _ in range(row):\n",
        "    for _ in range(col):\n",
        "        # specify subplot and turn of axis\n",
        "        ax = pyplot.subplot(row, col, ix)\n",
        "        ax.set_xticks([])\n",
        "        ax.set_yticks([])\n",
        "        # plot filter channel in grayscale\n",
        "        pyplot.imshow(features[0, :, :, ix-1], cmap='gray')\n",
        "        ix += 1\n",
        "# show the figure\n",
        "pyplot.show()\n",
        "\n"
      ],
      "id": "b648c1fc"
    },
    {
      "cell_type": "code",
      "execution_count": 85,
      "metadata": {
        "id": "43859519",
        "colab": {
          "base_uri": "https://localhost:8080/",
          "height": 269
        },
        "outputId": "bc0d98ad-a1d0-45c8-d37c-7bc4ae7cab3b"
      },
      "outputs": [
        {
          "output_type": "display_data",
          "data": {
            "image/png": "[encoded data removed]",
            "text/plain": [
              "<Figure size 432x288 with 1 Axes>"
            ]
          },
          "metadata": {
            "needs_background": "light"
          }
        }
      ],
      "source": [
        "\n",
        "import matplotlib.pyplot as plt\n",
        "import matplotlib.image as mpimg\n",
        "\n",
        "imgplot = plt.imshow(img)\n",
        "plt.show()"
      ],
      "id": "43859519"
    },
    {
      "cell_type": "code",
      "execution_count": 86,
      "metadata": {
        "id": "6a5b0ae5",
        "colab": {
          "base_uri": "https://localhost:8080/",
          "height": 486
        },
        "outputId": "7fd61296-514a-4001-89d9-767a6223c9c4"
      },
      "outputs": [
        {
          "output_type": "stream",
          "name": "stdout",
          "text": [
            "(1, 7, 7, 1792)\n"
          ]
        },
        {
          "output_type": "display_data",
          "data": {
            "image/png": "[encoded data removed]",
            "text/plain": [
              "<Figure size 1152x576 with 32 Axes>"
            ]
          },
          "metadata": {}
        }
      ],
      "source": [
        "from matplotlib import pyplot\n",
        "import matplotlib.pyplot as plt\n",
        "from tensorflow.keras.applications.vgg16 import preprocess_input\n",
        "\n",
        "\n",
        "from tensorflow.keras.preprocessing import image\n",
        "import numpy as np\n",
        "#from tensorflow.keras.models import Sequential\n",
        "from tensorflow.keras.layers import *\n",
        "import pylab\n",
        "#model = VGG16(weights='imagenet', include_top=False)\n",
        "#model = MobileNetV2(weights='imagenet', include_top=False)\n",
        "\n",
        "\n",
        "if (is_local):\n",
        "    img_path = './R_D_Images/BLB2.jpeg'\n",
        "else:\n",
        "    img_path = root_path + '/R_D_Images/BLB2.jpeg'\n",
        "    \n",
        "    \n",
        "img = image.load_img(img_path)\n",
        "Y = image.img_to_array(img)\n",
        "Y = np.expand_dims(Y, axis=0)\n",
        "Y = preprocess_input(Y)\n",
        "\n",
        "features = conv_base.predict(Y)\n",
        "\n",
        "print(features.shape)\n",
        "\n",
        "\n",
        "row = 4\n",
        "col = row * 2\n",
        "ix = 1\n",
        "pyplot.figure(figsize=(col * 2, row * 2))\n",
        "\n",
        "\n",
        "\n",
        "for _ in range(row):\n",
        "    for _ in range(col):\n",
        "        # specify subplot and turn of axis\n",
        "        ax = pyplot.subplot(row, col, ix)\n",
        "        ax.set_xticks([])\n",
        "        ax.set_yticks([])\n",
        "        # plot filter channel in grayscale\n",
        "        pyplot.imshow(features[0, :, :, ix-1], cmap='gray')\n",
        "        ix += 1\n",
        "# show the figure\n",
        "pyplot.show()\n",
        "\n"
      ],
      "id": "6a5b0ae5"
    },
    {
      "cell_type": "code",
      "execution_count": 87,
      "metadata": {
        "id": "c49b00d6",
        "colab": {
          "base_uri": "https://localhost:8080/",
          "height": 269
        },
        "outputId": "d83298ef-bc7d-4d83-a4e0-b550e552c0c9"
      },
      "outputs": [
        {
          "output_type": "display_data",
          "data": {
            "image/png": "[encoded data removed]",
            "text/plain": [
              "<Figure size 432x288 with 1 Axes>"
            ]
          },
          "metadata": {
            "needs_background": "light"
          }
        }
      ],
      "source": [
        "\n",
        "import matplotlib.pyplot as plt\n",
        "import matplotlib.image as mpimg\n",
        "\n",
        "imgplot = plt.imshow(img)\n",
        "plt.show()"
      ],
      "id": "c49b00d6"
    },
    {
      "cell_type": "code",
      "execution_count": 87,
      "metadata": {
        "id": "ebba7fd3"
      },
      "outputs": [],
      "source": [
        ""
      ],
      "id": "ebba7fd3"
    },
    {
      "cell_type": "code",
      "execution_count": 87,
      "metadata": {
        "id": "13f63cd5"
      },
      "outputs": [],
      "source": [
        ""
      ],
      "id": "13f63cd5"
    },
    {
      "cell_type": "code",
      "execution_count": 87,
      "metadata": {
        "id": "c5b3e4ce"
      },
      "outputs": [],
      "source": [
        ""
      ],
      "id": "c5b3e4ce"
    },
    {
      "cell_type": "code",
      "execution_count": 87,
      "metadata": {
        "id": "f45166f5"
      },
      "outputs": [],
      "source": [
        ""
      ],
      "id": "f45166f5"
    }
  ],
  "metadata": {
    "accelerator": "GPU",
    "colab": {
      "background_execution": "on",
      "collapsed_sections": [
        "4f5a131d"
      ],
      "machine_shape": "hm",
      "name": "Rice_Leaf_Disease_Detection_B4_Original.ipynb",
      "provenance": [],
      "include_colab_link": true
    },
    "kernelspec": {
      "display_name": "Python 3",
      "language": "python",
      "name": "python3"
    },
    "language_info": {
      "codemirror_mode": {
        "name": "ipython",
        "version": 3
      },
      "file_extension": ".py",
      "mimetype": "text/x-python",
      "name": "python",
      "nbconvert_exporter": "python",
      "pygments_lexer": "ipython3",
      "version": "3.8.8"
    }
  },
  "nbformat": 4,
  "nbformat_minor": 5
}